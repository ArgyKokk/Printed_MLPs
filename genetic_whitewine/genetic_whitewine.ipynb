{
 "cells": [
  {
   "cell_type": "markdown",
   "metadata": {},
   "source": [
    "# Part 1: Getting started"
   ]
  },
  {
   "cell_type": "code",
   "execution_count": 2,
   "metadata": {
    "scrolled": true
   },
   "outputs": [
    {
     "name": "stderr",
     "output_type": "stream",
     "text": [
      "2023-01-05 13:37:19.681930: I tensorflow/core/platform/cpu_feature_guard.cc:193] This TensorFlow binary is optimized with oneAPI Deep Neural Network Library (oneDNN) to use the following CPU instructions in performance-critical operations:  AVX2 AVX512F AVX512_VNNI FMA\n",
      "To enable them in other operations, rebuild TensorFlow with the appropriate compiler flags.\n",
      "2023-01-05 13:37:19.832071: I tensorflow/core/util/util.cc:169] oneDNN custom operations are on. You may see slightly different numerical results due to floating-point round-off errors from different computation orders. To turn them off, set the environment variable `TF_ENABLE_ONEDNN_OPTS=0`.\n",
      "2023-01-05 13:37:19.838094: W tensorflow/stream_executor/platform/default/dso_loader.cc:64] Could not load dynamic library 'libcudart.so.11.0'; dlerror: libcudart.so.11.0: cannot open shared object file: No such file or directory; LD_LIBRARY_PATH: /opt/xilinx/xrt/lib:\n",
      "2023-01-05 13:37:19.838113: I tensorflow/stream_executor/cuda/cudart_stub.cc:29] Ignore above cudart dlerror if you do not have a GPU set up on your machine.\n",
      "2023-01-05 13:37:19.865142: E tensorflow/stream_executor/cuda/cuda_blas.cc:2981] Unable to register cuBLAS factory: Attempting to register factory for plugin cuBLAS when one has already been registered\n",
      "2023-01-05 13:37:20.545588: W tensorflow/stream_executor/platform/default/dso_loader.cc:64] Could not load dynamic library 'libnvinfer.so.7'; dlerror: libnvinfer.so.7: cannot open shared object file: No such file or directory; LD_LIBRARY_PATH: /opt/xilinx/xrt/lib:\n",
      "2023-01-05 13:37:20.545667: W tensorflow/stream_executor/platform/default/dso_loader.cc:64] Could not load dynamic library 'libnvinfer_plugin.so.7'; dlerror: libnvinfer_plugin.so.7: cannot open shared object file: No such file or directory; LD_LIBRARY_PATH: /opt/xilinx/xrt/lib:\n",
      "2023-01-05 13:37:20.545673: W tensorflow/compiler/tf2tensorrt/utils/py_utils.cc:38] TF-TRT Warning: Cannot dlopen some TensorRT libraries. If you would like to use Nvidia GPU with TensorRT, please make sure the missing libraries mentioned above are installed properly.\n"
     ]
    }
   ],
   "source": [
    "from tensorflow.keras.utils import to_categorical\n",
    "from sklearn.datasets import fetch_openml\n",
    "from sklearn.model_selection import train_test_split\n",
    "from sklearn.preprocessing import LabelEncoder, StandardScaler\n",
    "import numpy as np\n",
    "%matplotlib inline\n",
    "seed = 0\n",
    "np.random.seed(seed)\n",
    "import tensorflow as tf\n",
    "tf.random.set_seed(seed)\n",
    "import os\n",
    "os.environ['PATH'] = '/opt/Xilinx/Vivado/2020.1/bin:' + os.environ['PATH']\n",
    "tf.config.threading.set_inter_op_parallelism_threads(8)\n",
    "os.environ['OMP_NUM_THREADS'] = '1'\n",
    "\n",
    "import pandas as pd\n",
    "import seaborn as sb\n",
    "import matplotlib.pyplot as plt\n",
    "from callbacks import all_callbacks\n",
    "\n",
    "from tensorflow.keras.models import Sequential\n",
    "from tensorflow.keras.layers import Dense, Activation, BatchNormalization\n",
    "from tensorflow.keras.optimizers import Adam\n",
    "from tensorflow.keras.regularizers import l1\n",
    "\n",
    "from qkeras.qlayers import QDense, QActivation\n",
    "from qkeras.quantizers import quantized_bits, quantized_relu\n",
    "import tensorflow.compat.v1 as tf1\n",
    "from keras import optimizers"
   ]
  },
  {
   "cell_type": "markdown",
   "metadata": {},
   "source": [
    "## Fetch the white wine dataset"
   ]
  },
  {
   "cell_type": "code",
   "execution_count": 3,
   "metadata": {},
   "outputs": [
    {
     "name": "stdout",
     "output_type": "stream",
     "text": [
      "(4898, 12)\n"
     ]
    },
    {
     "data": {
      "text/html": [
       "<div>\n",
       "<style scoped>\n",
       "    .dataframe tbody tr th:only-of-type {\n",
       "        vertical-align: middle;\n",
       "    }\n",
       "\n",
       "    .dataframe tbody tr th {\n",
       "        vertical-align: top;\n",
       "    }\n",
       "\n",
       "    .dataframe thead th {\n",
       "        text-align: right;\n",
       "    }\n",
       "</style>\n",
       "<table border=\"1\" class=\"dataframe\">\n",
       "  <thead>\n",
       "    <tr style=\"text-align: right;\">\n",
       "      <th></th>\n",
       "      <th>fixed acidity</th>\n",
       "      <th>volatile acidity</th>\n",
       "      <th>citric acid</th>\n",
       "      <th>residual sugar</th>\n",
       "      <th>chlorides</th>\n",
       "      <th>free sulfur dioxide</th>\n",
       "      <th>total sulfur dioxide</th>\n",
       "      <th>density</th>\n",
       "      <th>pH</th>\n",
       "      <th>sulphates</th>\n",
       "      <th>alcohol</th>\n",
       "      <th>Y</th>\n",
       "    </tr>\n",
       "  </thead>\n",
       "  <tbody>\n",
       "    <tr>\n",
       "      <th>0</th>\n",
       "      <td>7.0</td>\n",
       "      <td>0.27</td>\n",
       "      <td>0.36</td>\n",
       "      <td>20.7</td>\n",
       "      <td>0.045</td>\n",
       "      <td>45.0</td>\n",
       "      <td>170.0</td>\n",
       "      <td>1.00100</td>\n",
       "      <td>3.00</td>\n",
       "      <td>0.45</td>\n",
       "      <td>8.8</td>\n",
       "      <td>6</td>\n",
       "    </tr>\n",
       "    <tr>\n",
       "      <th>1</th>\n",
       "      <td>6.3</td>\n",
       "      <td>0.30</td>\n",
       "      <td>0.34</td>\n",
       "      <td>1.6</td>\n",
       "      <td>0.049</td>\n",
       "      <td>14.0</td>\n",
       "      <td>132.0</td>\n",
       "      <td>0.99400</td>\n",
       "      <td>3.30</td>\n",
       "      <td>0.49</td>\n",
       "      <td>9.5</td>\n",
       "      <td>6</td>\n",
       "    </tr>\n",
       "    <tr>\n",
       "      <th>2</th>\n",
       "      <td>8.1</td>\n",
       "      <td>0.28</td>\n",
       "      <td>0.40</td>\n",
       "      <td>6.9</td>\n",
       "      <td>0.050</td>\n",
       "      <td>30.0</td>\n",
       "      <td>97.0</td>\n",
       "      <td>0.99510</td>\n",
       "      <td>3.26</td>\n",
       "      <td>0.44</td>\n",
       "      <td>10.1</td>\n",
       "      <td>6</td>\n",
       "    </tr>\n",
       "    <tr>\n",
       "      <th>3</th>\n",
       "      <td>7.2</td>\n",
       "      <td>0.23</td>\n",
       "      <td>0.32</td>\n",
       "      <td>8.5</td>\n",
       "      <td>0.058</td>\n",
       "      <td>47.0</td>\n",
       "      <td>186.0</td>\n",
       "      <td>0.99560</td>\n",
       "      <td>3.19</td>\n",
       "      <td>0.40</td>\n",
       "      <td>9.9</td>\n",
       "      <td>6</td>\n",
       "    </tr>\n",
       "    <tr>\n",
       "      <th>4</th>\n",
       "      <td>7.2</td>\n",
       "      <td>0.23</td>\n",
       "      <td>0.32</td>\n",
       "      <td>8.5</td>\n",
       "      <td>0.058</td>\n",
       "      <td>47.0</td>\n",
       "      <td>186.0</td>\n",
       "      <td>0.99560</td>\n",
       "      <td>3.19</td>\n",
       "      <td>0.40</td>\n",
       "      <td>9.9</td>\n",
       "      <td>6</td>\n",
       "    </tr>\n",
       "    <tr>\n",
       "      <th>...</th>\n",
       "      <td>...</td>\n",
       "      <td>...</td>\n",
       "      <td>...</td>\n",
       "      <td>...</td>\n",
       "      <td>...</td>\n",
       "      <td>...</td>\n",
       "      <td>...</td>\n",
       "      <td>...</td>\n",
       "      <td>...</td>\n",
       "      <td>...</td>\n",
       "      <td>...</td>\n",
       "      <td>...</td>\n",
       "    </tr>\n",
       "    <tr>\n",
       "      <th>4893</th>\n",
       "      <td>6.2</td>\n",
       "      <td>0.21</td>\n",
       "      <td>0.29</td>\n",
       "      <td>1.6</td>\n",
       "      <td>0.039</td>\n",
       "      <td>24.0</td>\n",
       "      <td>92.0</td>\n",
       "      <td>0.99114</td>\n",
       "      <td>3.27</td>\n",
       "      <td>0.50</td>\n",
       "      <td>11.2</td>\n",
       "      <td>6</td>\n",
       "    </tr>\n",
       "    <tr>\n",
       "      <th>4894</th>\n",
       "      <td>6.6</td>\n",
       "      <td>0.32</td>\n",
       "      <td>0.36</td>\n",
       "      <td>8.0</td>\n",
       "      <td>0.047</td>\n",
       "      <td>57.0</td>\n",
       "      <td>168.0</td>\n",
       "      <td>0.99490</td>\n",
       "      <td>3.15</td>\n",
       "      <td>0.46</td>\n",
       "      <td>9.6</td>\n",
       "      <td>5</td>\n",
       "    </tr>\n",
       "    <tr>\n",
       "      <th>4895</th>\n",
       "      <td>6.5</td>\n",
       "      <td>0.24</td>\n",
       "      <td>0.19</td>\n",
       "      <td>1.2</td>\n",
       "      <td>0.041</td>\n",
       "      <td>30.0</td>\n",
       "      <td>111.0</td>\n",
       "      <td>0.99254</td>\n",
       "      <td>2.99</td>\n",
       "      <td>0.46</td>\n",
       "      <td>9.4</td>\n",
       "      <td>6</td>\n",
       "    </tr>\n",
       "    <tr>\n",
       "      <th>4896</th>\n",
       "      <td>5.5</td>\n",
       "      <td>0.29</td>\n",
       "      <td>0.30</td>\n",
       "      <td>1.1</td>\n",
       "      <td>0.022</td>\n",
       "      <td>20.0</td>\n",
       "      <td>110.0</td>\n",
       "      <td>0.98869</td>\n",
       "      <td>3.34</td>\n",
       "      <td>0.38</td>\n",
       "      <td>12.8</td>\n",
       "      <td>7</td>\n",
       "    </tr>\n",
       "    <tr>\n",
       "      <th>4897</th>\n",
       "      <td>6.0</td>\n",
       "      <td>0.21</td>\n",
       "      <td>0.38</td>\n",
       "      <td>0.8</td>\n",
       "      <td>0.020</td>\n",
       "      <td>22.0</td>\n",
       "      <td>98.0</td>\n",
       "      <td>0.98941</td>\n",
       "      <td>3.26</td>\n",
       "      <td>0.32</td>\n",
       "      <td>11.8</td>\n",
       "      <td>6</td>\n",
       "    </tr>\n",
       "  </tbody>\n",
       "</table>\n",
       "<p>4898 rows × 12 columns</p>\n",
       "</div>"
      ],
      "text/plain": [
       "      fixed acidity  volatile acidity  citric acid  residual sugar  chlorides  \\\n",
       "0               7.0              0.27         0.36            20.7      0.045   \n",
       "1               6.3              0.30         0.34             1.6      0.049   \n",
       "2               8.1              0.28         0.40             6.9      0.050   \n",
       "3               7.2              0.23         0.32             8.5      0.058   \n",
       "4               7.2              0.23         0.32             8.5      0.058   \n",
       "...             ...               ...          ...             ...        ...   \n",
       "4893            6.2              0.21         0.29             1.6      0.039   \n",
       "4894            6.6              0.32         0.36             8.0      0.047   \n",
       "4895            6.5              0.24         0.19             1.2      0.041   \n",
       "4896            5.5              0.29         0.30             1.1      0.022   \n",
       "4897            6.0              0.21         0.38             0.8      0.020   \n",
       "\n",
       "      free sulfur dioxide  total sulfur dioxide  density    pH  sulphates  \\\n",
       "0                    45.0                 170.0  1.00100  3.00       0.45   \n",
       "1                    14.0                 132.0  0.99400  3.30       0.49   \n",
       "2                    30.0                  97.0  0.99510  3.26       0.44   \n",
       "3                    47.0                 186.0  0.99560  3.19       0.40   \n",
       "4                    47.0                 186.0  0.99560  3.19       0.40   \n",
       "...                   ...                   ...      ...   ...        ...   \n",
       "4893                 24.0                  92.0  0.99114  3.27       0.50   \n",
       "4894                 57.0                 168.0  0.99490  3.15       0.46   \n",
       "4895                 30.0                 111.0  0.99254  2.99       0.46   \n",
       "4896                 20.0                 110.0  0.98869  3.34       0.38   \n",
       "4897                 22.0                  98.0  0.98941  3.26       0.32   \n",
       "\n",
       "      alcohol  Y  \n",
       "0         8.8  6  \n",
       "1         9.5  6  \n",
       "2        10.1  6  \n",
       "3         9.9  6  \n",
       "4         9.9  6  \n",
       "...       ... ..  \n",
       "4893     11.2  6  \n",
       "4894      9.6  5  \n",
       "4895      9.4  6  \n",
       "4896     12.8  7  \n",
       "4897     11.8  6  \n",
       "\n",
       "[4898 rows x 12 columns]"
      ]
     },
     "execution_count": 3,
     "metadata": {},
     "output_type": "execute_result"
    }
   ],
   "source": [
    "df = pd.read_csv('./dataset.csv', sep = ';')\n",
    "print (np.shape(df))\n",
    "df"
   ]
  },
  {
   "cell_type": "code",
   "execution_count": 3,
   "metadata": {},
   "outputs": [
    {
     "name": "stdout",
     "output_type": "stream",
     "text": [
      "0       6\n",
      "1       6\n",
      "2       6\n",
      "3       6\n",
      "4       6\n",
      "       ..\n",
      "4893    6\n",
      "4894    5\n",
      "4895    6\n",
      "4896    7\n",
      "4897    6\n",
      "Name: Y, Length: 4898, dtype: int64\n"
     ]
    }
   ],
   "source": [
    "X = df.drop('Y', axis = 1).values\n",
    "y = df.Y\n",
    "print(y)"
   ]
  },
  {
   "cell_type": "code",
   "execution_count": 4,
   "metadata": {},
   "outputs": [
    {
     "data": {
      "text/plain": [
       "1       6\n",
       "2       6\n",
       "3       6\n",
       "4       6\n",
       "5       6\n",
       "       ..\n",
       "4893    6\n",
       "4894    5\n",
       "4895    6\n",
       "4896    7\n",
       "4897    6\n",
       "Name: Y, Length: 4897, dtype: int64"
      ]
     },
     "execution_count": 4,
     "metadata": {},
     "output_type": "execute_result"
    }
   ],
   "source": [
    "y[1:]"
   ]
  },
  {
   "cell_type": "code",
   "execution_count": 5,
   "metadata": {},
   "outputs": [
    {
     "name": "stdout",
     "output_type": "stream",
     "text": [
      "0       6\n",
      "1       6\n",
      "2       6\n",
      "3       6\n",
      "4       6\n",
      "       ..\n",
      "4893    6\n",
      "4894    5\n",
      "4895    6\n",
      "4896    7\n",
      "4897    6\n",
      "Name: Y, Length: 4898, dtype: int64\n",
      "[3 4 5 6 7 8 9]\n",
      "[[0. 0. 0. ... 0. 0. 0.]\n",
      " [0. 0. 0. ... 0. 0. 0.]\n",
      " [0. 0. 0. ... 0. 0. 0.]\n",
      " ...\n",
      " [0. 0. 0. ... 0. 0. 0.]\n",
      " [0. 0. 0. ... 1. 0. 0.]\n",
      " [0. 0. 0. ... 0. 0. 0.]]\n"
     ]
    }
   ],
   "source": [
    "le = LabelEncoder()\n",
    "print(y)\n",
    "y = le.fit_transform(y)\n",
    "print(le.classes_)\n",
    "y = to_categorical(y, 7)\n",
    "print(y)"
   ]
  },
  {
   "cell_type": "code",
   "execution_count": 6,
   "metadata": {},
   "outputs": [
    {
     "name": "stdout",
     "output_type": "stream",
     "text": [
      "[0. 0. 0. 1. 0. 0. 0.]\n"
     ]
    }
   ],
   "source": [
    "print(y[1])"
   ]
  },
  {
   "cell_type": "code",
   "execution_count": 7,
   "metadata": {},
   "outputs": [
    {
     "name": "stdout",
     "output_type": "stream",
     "text": [
      "[[ 7.    0.27  0.36 ...  3.    0.45  8.8 ]\n",
      " [ 6.3   0.3   0.34 ...  3.3   0.49  9.5 ]\n",
      " [ 8.1   0.28  0.4  ...  3.26  0.44 10.1 ]\n",
      " ...\n",
      " [ 6.5   0.24  0.19 ...  2.99  0.46  9.4 ]\n",
      " [ 5.5   0.29  0.3  ...  3.34  0.38 12.8 ]\n",
      " [ 6.    0.21  0.38 ...  3.26  0.32 11.8 ]]\n",
      "[[0. 0. 0. ... 0. 0. 0.]\n",
      " [0. 0. 0. ... 0. 0. 0.]\n",
      " [0. 0. 0. ... 0. 0. 0.]\n",
      " ...\n",
      " [0. 0. 0. ... 0. 0. 0.]\n",
      " [0. 0. 0. ... 1. 0. 0.]\n",
      " [0. 0. 0. ... 0. 0. 0.]]\n"
     ]
    }
   ],
   "source": [
    "print(X)\n",
    "print(y)"
   ]
  },
  {
   "cell_type": "code",
   "execution_count": 8,
   "metadata": {},
   "outputs": [],
   "source": [
    "from sklearn.model_selection import train_test_split\n",
    "X_train,X_test,Y_train,Y_test = train_test_split(X,y,test_size=0.3,random_state=42)"
   ]
  },
  {
   "cell_type": "code",
   "execution_count": 9,
   "metadata": {},
   "outputs": [
    {
     "data": {
      "text/plain": [
       "array([[ 6.        ,  0.29      ,  0.41      , ...,  3.09      ,\n",
       "         0.59      , 10.96666667],\n",
       "       [ 5.4       ,  0.53      ,  0.16      , ...,  3.2       ,\n",
       "         0.53      , 13.2       ],\n",
       "       [ 7.1       ,  0.25      ,  0.39      , ...,  3.28      ,\n",
       "         0.43      , 12.2       ],\n",
       "       ...,\n",
       "       [ 7.        ,  0.4       ,  0.25      , ...,  3.        ,\n",
       "         0.55      , 11.4       ],\n",
       "       [ 6.8       ,  0.36      ,  0.24      , ...,  3.27      ,\n",
       "         0.34      , 12.6       ],\n",
       "       [ 6.3       ,  0.41      ,  0.3       , ...,  3.53      ,\n",
       "         0.79      , 11.7       ]])"
      ]
     },
     "execution_count": 9,
     "metadata": {},
     "output_type": "execute_result"
    }
   ],
   "source": [
    "X_test"
   ]
  },
  {
   "cell_type": "code",
   "execution_count": 10,
   "metadata": {},
   "outputs": [
    {
     "name": "stdout",
     "output_type": "stream",
     "text": [
      "[7 8 8 ... 6 7 7]\n"
     ]
    }
   ],
   "source": [
    "ls=np.argmax(Y_test,axis=1)+3\n",
    "print(ls)\n",
    "#np.savetxt('output_classes.dat',ls, fmt='%d')"
   ]
  },
  {
   "cell_type": "code",
   "execution_count": 11,
   "metadata": {},
   "outputs": [
    {
     "name": "stdout",
     "output_type": "stream",
     "text": [
      "[[ 6.          0.29        0.41       ...  3.09        0.59\n",
      "  10.96666667]\n",
      " [ 5.4         0.53        0.16       ...  3.2         0.53\n",
      "  13.2       ]\n",
      " [ 7.1         0.25        0.39       ...  3.28        0.43\n",
      "  12.2       ]\n",
      " ...\n",
      " [ 7.          0.4         0.25       ...  3.          0.55\n",
      "  11.4       ]\n",
      " [ 6.8         0.36        0.24       ...  3.27        0.34\n",
      "  12.6       ]\n",
      " [ 6.3         0.41        0.3        ...  3.53        0.79\n",
      "  11.7       ]]\n"
     ]
    }
   ],
   "source": [
    "print(X_test)"
   ]
  },
  {
   "cell_type": "code",
   "execution_count": 12,
   "metadata": {},
   "outputs": [
    {
     "name": "stdout",
     "output_type": "stream",
     "text": [
      "Shape of X_train:  (3428, 11)\n",
      "Shape of X_test:  (1470, 11)\n",
      "Shape of y_train:  (3428, 7)\n",
      "Shape of y_test (1470, 7)\n"
     ]
    }
   ],
   "source": [
    "print(\"Shape of X_train: \",X_train.shape)\n",
    "print(\"Shape of X_test: \", X_test.shape)\n",
    "print(\"Shape of y_train: \",Y_train.shape)\n",
    "print(\"Shape of y_test\",Y_test.shape)"
   ]
  },
  {
   "cell_type": "code",
   "execution_count": 13,
   "metadata": {},
   "outputs": [
    {
     "name": "stdout",
     "output_type": "stream",
     "text": [
      "[5.4000e+00 5.3000e-01 1.6000e-01 2.7000e+00 3.6000e-02 3.4000e+01\n",
      " 1.2800e+02 9.8856e-01 3.2000e+00 5.3000e-01 1.3200e+01]\n"
     ]
    }
   ],
   "source": [
    "print(X_test[1])"
   ]
  },
  {
   "cell_type": "code",
   "execution_count": 14,
   "metadata": {},
   "outputs": [
    {
     "name": "stderr",
     "output_type": "stream",
     "text": [
      "/home/argykokk/miniconda3/envs/hls4ml-tutorial/lib/python3.8/site-packages/sklearn/base.py:329: UserWarning: Trying to unpickle estimator LabelBinarizer from version 0.24.2 when using version 1.1.2. This might lead to breaking code or invalid results. Use at your own risk. For more info please refer to:\n",
      "https://scikit-learn.org/stable/model_persistence.html#security-maintainability-limitations\n",
      "  warnings.warn(\n",
      "/home/argykokk/miniconda3/envs/hls4ml-tutorial/lib/python3.8/site-packages/sklearn/base.py:329: UserWarning: Trying to unpickle estimator MLPClassifier from version 0.24.2 when using version 1.1.2. This might lead to breaking code or invalid results. Use at your own risk. For more info please refer to:\n",
      "https://scikit-learn.org/stable/model_persistence.html#security-maintainability-limitations\n",
      "  warnings.warn(\n"
     ]
    }
   ],
   "source": [
    "import pickle\n",
    "from joblib import load, dump\n",
    "loaded_model = load('./WhiteWine.MLP_clf.joblib')"
   ]
  },
  {
   "cell_type": "code",
   "execution_count": 15,
   "metadata": {},
   "outputs": [],
   "source": [
    "w1=loaded_model.coefs_[0]\n",
    "b1=loaded_model.intercepts_[0]\n",
    "w2=loaded_model.coefs_[1]\n",
    "b2=loaded_model.intercepts_[1]\n",
    "\n",
    "wb1=[]\n",
    "wb1.append(w1)\n",
    "wb1.append(b1)\n",
    "\n",
    "wb2=[]\n",
    "wb2.append(w2)\n",
    "wb2.append(b2)"
   ]
  },
  {
   "cell_type": "code",
   "execution_count": 16,
   "metadata": {},
   "outputs": [
    {
     "name": "stderr",
     "output_type": "stream",
     "text": [
      "/home/argykokk/miniconda3/envs/hls4ml-tutorial/lib/python3.8/site-packages/hls4ml/converters/__init__.py:16: UserWarning: WARNING: Pytorch converter is not enabled!\n",
      "  warnings.warn(\"WARNING: Pytorch converter is not enabled!\")\n"
     ]
    }
   ],
   "source": [
    "from tensorflow.keras.utils import to_categorical\n",
    "from sklearn.datasets import fetch_openml\n",
    "from sklearn.model_selection import train_test_split\n",
    "from sklearn.preprocessing import LabelEncoder, StandardScaler\n",
    "import numpy as np\n",
    "\n",
    "import tensorflow as tf\n",
    "import os\n",
    "import pandas as pd\n",
    "import seaborn as sb\n",
    "\n",
    "from tensorflow.keras.models import Sequential\n",
    "from tensorflow.keras.layers import Dense, Activation, BatchNormalization\n",
    "from tensorflow.keras.optimizers import Adam\n",
    "from tensorflow.keras.regularizers import l1\n",
    "from callbacks import all_callbacks\n",
    "from qkeras.qlayers import QDense, QActivation\n",
    "from qkeras.quantizers import quantized_bits, quantized_relu\n",
    "import tensorflow.compat.v1 as tf1\n",
    "from tensorflow_model_optimization.python.core.sparsity.keras import prune, pruning_callbacks, pruning_schedule\n",
    "from tensorflow_model_optimization.sparsity.keras import strip_pruning\n",
    "from qkeras.utils import model_save_quantized_weights\n",
    "from sklearn.preprocessing import MinMaxScaler\n",
    "import hls4ml\n",
    "import write_mlp_mergemult_ps as wv"
   ]
  },
  {
   "cell_type": "code",
   "execution_count": 17,
   "metadata": {},
   "outputs": [
    {
     "data": {
      "text/html": [
       "<style>#sk-container-id-1 {color: black;background-color: white;}#sk-container-id-1 pre{padding: 0;}#sk-container-id-1 div.sk-toggleable {background-color: white;}#sk-container-id-1 label.sk-toggleable__label {cursor: pointer;display: block;width: 100%;margin-bottom: 0;padding: 0.3em;box-sizing: border-box;text-align: center;}#sk-container-id-1 label.sk-toggleable__label-arrow:before {content: \"▸\";float: left;margin-right: 0.25em;color: #696969;}#sk-container-id-1 label.sk-toggleable__label-arrow:hover:before {color: black;}#sk-container-id-1 div.sk-estimator:hover label.sk-toggleable__label-arrow:before {color: black;}#sk-container-id-1 div.sk-toggleable__content {max-height: 0;max-width: 0;overflow: hidden;text-align: left;background-color: #f0f8ff;}#sk-container-id-1 div.sk-toggleable__content pre {margin: 0.2em;color: black;border-radius: 0.25em;background-color: #f0f8ff;}#sk-container-id-1 input.sk-toggleable__control:checked~div.sk-toggleable__content {max-height: 200px;max-width: 100%;overflow: auto;}#sk-container-id-1 input.sk-toggleable__control:checked~label.sk-toggleable__label-arrow:before {content: \"▾\";}#sk-container-id-1 div.sk-estimator input.sk-toggleable__control:checked~label.sk-toggleable__label {background-color: #d4ebff;}#sk-container-id-1 div.sk-label input.sk-toggleable__control:checked~label.sk-toggleable__label {background-color: #d4ebff;}#sk-container-id-1 input.sk-hidden--visually {border: 0;clip: rect(1px 1px 1px 1px);clip: rect(1px, 1px, 1px, 1px);height: 1px;margin: -1px;overflow: hidden;padding: 0;position: absolute;width: 1px;}#sk-container-id-1 div.sk-estimator {font-family: monospace;background-color: #f0f8ff;border: 1px dotted black;border-radius: 0.25em;box-sizing: border-box;margin-bottom: 0.5em;}#sk-container-id-1 div.sk-estimator:hover {background-color: #d4ebff;}#sk-container-id-1 div.sk-parallel-item::after {content: \"\";width: 100%;border-bottom: 1px solid gray;flex-grow: 1;}#sk-container-id-1 div.sk-label:hover label.sk-toggleable__label {background-color: #d4ebff;}#sk-container-id-1 div.sk-serial::before {content: \"\";position: absolute;border-left: 1px solid gray;box-sizing: border-box;top: 0;bottom: 0;left: 50%;z-index: 0;}#sk-container-id-1 div.sk-serial {display: flex;flex-direction: column;align-items: center;background-color: white;padding-right: 0.2em;padding-left: 0.2em;position: relative;}#sk-container-id-1 div.sk-item {position: relative;z-index: 1;}#sk-container-id-1 div.sk-parallel {display: flex;align-items: stretch;justify-content: center;background-color: white;position: relative;}#sk-container-id-1 div.sk-item::before, #sk-container-id-1 div.sk-parallel-item::before {content: \"\";position: absolute;border-left: 1px solid gray;box-sizing: border-box;top: 0;bottom: 0;left: 50%;z-index: -1;}#sk-container-id-1 div.sk-parallel-item {display: flex;flex-direction: column;z-index: 1;position: relative;background-color: white;}#sk-container-id-1 div.sk-parallel-item:first-child::after {align-self: flex-end;width: 50%;}#sk-container-id-1 div.sk-parallel-item:last-child::after {align-self: flex-start;width: 50%;}#sk-container-id-1 div.sk-parallel-item:only-child::after {width: 0;}#sk-container-id-1 div.sk-dashed-wrapped {border: 1px dashed gray;margin: 0 0.4em 0.5em 0.4em;box-sizing: border-box;padding-bottom: 0.4em;background-color: white;}#sk-container-id-1 div.sk-label label {font-family: monospace;font-weight: bold;display: inline-block;line-height: 1.2em;}#sk-container-id-1 div.sk-label-container {text-align: center;}#sk-container-id-1 div.sk-container {/* jupyter's `normalize.less` sets `[hidden] { display: none; }` but bootstrap.min.css set `[hidden] { display: none !important; }` so we also need the `!important` here to be able to override the default hidden behavior on the sphinx rendered scikit-learn.org. See: https://github.com/scikit-learn/scikit-learn/issues/21755 */display: inline-block !important;position: relative;}#sk-container-id-1 div.sk-text-repr-fallback {display: none;}</style><div id=\"sk-container-id-1\" class=\"sk-top-container\"><div class=\"sk-text-repr-fallback\"><pre>MLPClassifier(beta_1=0.4274478353845527, beta_2=0.729060367703723,\n",
       "              epsilon=0.05766126202404963, hidden_layer_sizes=4,\n",
       "              learning_rate=&#x27;invscaling&#x27;, max_iter=150,\n",
       "              momentum=0.6907612738337751, nesterovs_momentum=False,\n",
       "              solver=&#x27;lbfgs&#x27;, validation_fraction=0.21980439785647188)</pre><b>In a Jupyter environment, please rerun this cell to show the HTML representation or trust the notebook. <br />On GitHub, the HTML representation is unable to render, please try loading this page with nbviewer.org.</b></div><div class=\"sk-container\" hidden><div class=\"sk-item\"><div class=\"sk-estimator sk-toggleable\"><input class=\"sk-toggleable__control sk-hidden--visually\" id=\"sk-estimator-id-1\" type=\"checkbox\" checked><label for=\"sk-estimator-id-1\" class=\"sk-toggleable__label sk-toggleable__label-arrow\">MLPClassifier</label><div class=\"sk-toggleable__content\"><pre>MLPClassifier(beta_1=0.4274478353845527, beta_2=0.729060367703723,\n",
       "              epsilon=0.05766126202404963, hidden_layer_sizes=4,\n",
       "              learning_rate=&#x27;invscaling&#x27;, max_iter=150,\n",
       "              momentum=0.6907612738337751, nesterovs_momentum=False,\n",
       "              solver=&#x27;lbfgs&#x27;, validation_fraction=0.21980439785647188)</pre></div></div></div></div></div>"
      ],
      "text/plain": [
       "MLPClassifier(beta_1=0.4274478353845527, beta_2=0.729060367703723,\n",
       "              epsilon=0.05766126202404963, hidden_layer_sizes=4,\n",
       "              learning_rate='invscaling', max_iter=150,\n",
       "              momentum=0.6907612738337751, nesterovs_momentum=False,\n",
       "              solver='lbfgs', validation_fraction=0.21980439785647188)"
      ]
     },
     "execution_count": 17,
     "metadata": {},
     "output_type": "execute_result"
    }
   ],
   "source": [
    "loaded_model"
   ]
  },
  {
   "cell_type": "markdown",
   "metadata": {},
   "source": [
    "### genetic algorithm to determine the relu size, weight size, bias size and sparsity\n",
    "x1: relu_size\n",
    "x2: weight_size\n",
    "x3: bias_size\n",
    "x4: sparsity"
   ]
  },
  {
   "cell_type": "markdown",
   "metadata": {},
   "source": [
    "problem: max( blackbox(x1,x2,x3,x4)\n",
    "         min ( x1*x2*x3)\n",
    "       s.t\n",
    "         2 < x1,x2,x3 < 8\n",
    "         x4 belongs to [0.2, 0.3, 0.4, 0.5]"
   ]
  },
  {
   "cell_type": "code",
   "execution_count": 18,
   "metadata": {},
   "outputs": [
    {
     "data": {
      "text/plain": [
       "<module 'area' from '/home/argykokk/Desktop/TC/genetic_whitewine/area.py'>"
      ]
     },
     "execution_count": 18,
     "metadata": {},
     "output_type": "execute_result"
    }
   ],
   "source": [
    "import blackbox as bb\n",
    "from pymoo.algorithms.moo.nsga2 import NSGA2\n",
    "from pymoo.operators.crossover.sbx import SBX\n",
    "from pymoo.operators.mutation.pm import PM\n",
    "from pymoo.operators.sampling.rnd import IntegerRandomSampling\n",
    "from pymoo.core.problem import ElementwiseProblem\n",
    "from pymoo.core.problem import Problem\n",
    "from pymoo.operators.repair.rounding import RoundingRepair\n",
    "import area as ar\n",
    "from importlib import reload\n",
    "reload(bb)\n",
    "reload(ar)"
   ]
  },
  {
   "cell_type": "code",
   "execution_count": 19,
   "metadata": {},
   "outputs": [],
   "source": [
    "class MyProblem(ElementwiseProblem):\n",
    "\n",
    "    def __init__(self,weightsbiases1,weightsbiases2,layer1,layer2,layer3,X_test,X_train,Y_test,Y_train):\n",
    "        self.weightsbiases1=weightsbiases1\n",
    "        self.weightsbiases2=weightsbiases2\n",
    "        self.layer1=layer1\n",
    "        self.layer2=layer2\n",
    "        self.layer3=layer3\n",
    "        self.X_test=X_test\n",
    "        self.X_train=X_train\n",
    "        self.Y_test=Y_test\n",
    "        self.Y_train=Y_train\n",
    "        #x[0]: relu_size\n",
    "        #x[1]: weight size layer1\n",
    "        #x[2]: bias size layer1\n",
    "        #x[3]: weight size layer2\n",
    "        #x[4]: bias size layer2\n",
    "        #x[5]: pruning sparsity\n",
    "        #x[6]: input size\n",
    "        #x[7]: int relu size\n",
    "        \n",
    "        super().__init__(n_var=8,\n",
    "                         n_obj=2,\n",
    "                         n_ieq_constr=0,\n",
    "                         xl=np.array([3,2,2,2,2,0,2,0]),\n",
    "                         xu=np.array([8,7,6,7,5,8,4,2]),\n",
    "                         vtype=int)\n",
    "\n",
    "    def _evaluate(self, x, out, *args, **kwargs):\n",
    "        accuracy, weights = bb.blackbox(self.weightsbiases1,self.weightsbiases2, x[0], x[1], x[2], x[3], x[4], x[5], x[6] , x[7],  self.layer1, self.layer2, self.layer3, self.X_test, self.Y_test, self.X_train, self.Y_train)\n",
    "        f1 = 1- accuracy\n",
    "        f2 = ar.area(weights,x[6],x[0],x[1],x[3],self.layer1,self.layer2,self.layer3)\n",
    "\n",
    "        out[\"F\"] = [f1, f2]\n"
   ]
  },
  {
   "cell_type": "code",
   "execution_count": 20,
   "metadata": {},
   "outputs": [],
   "source": [
    "layer1=11\n",
    "layer2=4\n",
    "layer3=7\n",
    "problem = MyProblem(wb1,wb2,layer1,layer2,layer3,X_test,X_train,Y_test,Y_train)"
   ]
  },
  {
   "cell_type": "code",
   "execution_count": 21,
   "metadata": {
    "scrolled": true
   },
   "outputs": [],
   "source": [
    "algorithm = NSGA2(\n",
    "    pop_size=100,\n",
    "    n_offsprings=50,\n",
    "    sampling=IntegerRandomSampling(),\n",
    "    crossover=SBX(vtype=float, repair=RoundingRepair()),\n",
    "    mutation=PM(vtype=float, repair=RoundingRepair()),\n",
    "    eliminate_duplicates=True\n",
    ")"
   ]
  },
  {
   "cell_type": "code",
   "execution_count": 22,
   "metadata": {},
   "outputs": [],
   "source": [
    "from pymoo.termination import get_termination\n",
    "\n",
    "termination = get_termination(\"n_gen\",50)"
   ]
  },
  {
   "cell_type": "code",
   "execution_count": null,
   "metadata": {
    "scrolled": true
   },
   "outputs": [],
   "source": [
    "%%time\n",
    "from pymoo.optimize import minimize\n",
    "\n",
    "res = minimize(problem,\n",
    "               algorithm,\n",
    "               termination,\n",
    "               seed=1,\n",
    "               save_history=True,\n",
    "               verbose=True)\n",
    "X = res.X\n",
    "F = res.F"
   ]
  },
  {
   "cell_type": "code",
   "execution_count": null,
   "metadata": {
    "scrolled": true
   },
   "outputs": [],
   "source": [
    "print(1-res.F)"
   ]
  },
  {
   "cell_type": "code",
   "execution_count": null,
   "metadata": {},
   "outputs": [],
   "source": [
    "print(res.X)"
   ]
  },
  {
   "cell_type": "markdown",
   "metadata": {},
   "source": [
    "### plot all the solutions from the final generation"
   ]
  },
  {
   "cell_type": "code",
   "execution_count": null,
   "metadata": {},
   "outputs": [],
   "source": [
    "paretos=res.X\n",
    "costs=res.F"
   ]
  },
  {
   "cell_type": "code",
   "execution_count": null,
   "metadata": {},
   "outputs": [],
   "source": [
    "from pymoo.visualization.scatter import Scatter\n",
    "pop=res.pop\n",
    "vals=pop.get(\"F\")\n",
    "plot = Scatter()\n",
    "plot.add(problem.pareto_front(), plot_type=\"line\", color=\"black\", alpha=0.7)\n",
    "plot.add(vals, facecolor=\"none\", edgecolor=\"red\")\n",
    "plot.show()"
   ]
  },
  {
   "cell_type": "markdown",
   "metadata": {},
   "source": [
    "### plot the pareto solutions from the final generation"
   ]
  },
  {
   "cell_type": "code",
   "execution_count": null,
   "metadata": {},
   "outputs": [],
   "source": [
    "plot = Scatter()\n",
    "plot.add(problem.pareto_front(), plot_type=\"line\", color=\"black\", alpha=0.7)\n",
    "plot.add(res.F, facecolor=\"none\", edgecolor=\"blue\")\n",
    "plot.show()"
   ]
  },
  {
   "cell_type": "markdown",
   "metadata": {},
   "source": [
    "### define an optimal solution"
   ]
  },
  {
   "cell_type": "code",
   "execution_count": 23,
   "metadata": {},
   "outputs": [],
   "source": [
    "layer_1=11\n",
    "layer_2=4\n",
    "layer_3=7"
   ]
  },
  {
   "cell_type": "code",
   "execution_count": 47,
   "metadata": {},
   "outputs": [],
   "source": [
    "# import pickle\n",
    "# with open(\"paretos_whitewine\", \"wb\") as fp:   #Pickling\n",
    "#     pickle.dump(tparetos, fp)\n",
    "# with open(\"weights_list_true_paretos_whitewine\", \"wb\") as fp:   #Pickling\n",
    "#     pickle.dump(true_weights_list, fp)\n",
    "# with open(\"accuracies_true_paretos_whitewine\", \"wb\") as fp:   #Pickling\n",
    "#     pickle.dump(accuracy_list, fp)"
   ]
  },
  {
   "cell_type": "code",
   "execution_count": 24,
   "metadata": {},
   "outputs": [],
   "source": [
    "# with open(\"true_paretos_whitewine\", \"rb\") as fp:   # Unpickling\n",
    "#     paretos = pickle.load(fp)\n",
    "# with open(\"costs_whitewine\", \"rb\") as fp:   # Unpickling\n",
    "#     costs = pickle.load(fp)"
   ]
  },
  {
   "cell_type": "markdown",
   "metadata": {},
   "source": [
    "### load the true pareto, their weights and their accuracies"
   ]
  },
  {
   "cell_type": "code",
   "execution_count": 33,
   "metadata": {},
   "outputs": [],
   "source": [
    "with open(\"paretos_whitewine\", \"rb\") as fp:   # Unpickling\n",
    "    true_paretos = pickle.load(fp)\n",
    "with open(\"weights_list_true_paretos_whitewine\", \"rb\") as fp:   # Unpickling\n",
    "    true_paretos_weights = pickle.load(fp)\n",
    "with open(\"accuracies_true_paretos_whitewine\", \"rb\") as fp:   # Unpickling\n",
    "    true_paretos_accuracies = pickle.load(fp)"
   ]
  },
  {
   "cell_type": "markdown",
   "metadata": {},
   "source": [
    "### import pareto_verilogs as pv\n",
    "import pareto_weight_sharing_verilogs as pwsv\n",
    "import pareto_clustering_verilogs as pcv\n",
    "import pareto_only_quantization_verilogs as poqv\n",
    "import only_pruning_verilog as opv\n",
    "from importlib import reload"
   ]
  },
  {
   "cell_type": "code",
   "execution_count": 26,
   "metadata": {},
   "outputs": [
    {
     "data": {
      "text/plain": [
       "<module 'only_pruning_verilog' from '/home/argykokk/Desktop/TC/genetic_whitewine/only_pruning_verilog.py'>"
      ]
     },
     "execution_count": 26,
     "metadata": {},
     "output_type": "execute_result"
    }
   ],
   "source": [
    "import pareto_verilogs as pv\n",
    "#import pareto_weight_sharing_verilogs as pwsv\n",
    "import pareto_clustering_verilogs as pcv\n",
    "#import pareto_only_quantization_verilogs as poqv\n",
    "import only_pruning_verilog as opv\n",
    "from importlib import reload\n",
    "reload(pv)\n",
    "#reload(pwsv)\n",
    "reload(pcv)\n",
    "#reload(poqv)\n",
    "reload(opv)"
   ]
  },
  {
   "cell_type": "code",
   "execution_count": null,
   "metadata": {},
   "outputs": [],
   "source": [
    "i=0\n",
    "layer1=11\n",
    "layer2=4\n",
    "layer3=7\n",
    "epochs=2\n",
    "lr=0.001\n",
    "#check the only pruning scenario\n",
    "opv.generate(i,layer1,layer2,layer3,lr,epochs,X_train,Y_train,X_test,Y_test,wb1,wb2)"
   ]
  },
  {
   "cell_type": "code",
   "execution_count": null,
   "metadata": {},
   "outputs": [],
   "source": [
    "i=0\n",
    "for solution in paretos:\n",
    "    relusize_f=solution[0]\n",
    "    weight_size_f1=solution[1]\n",
    "    bias_size_f1=solution[2]\n",
    "    weight_size_f2=solution[3]\n",
    "    bias_size_f2=solution[4]\n",
    "    sparsity=solution[5]\n",
    "    inputsize=solution[6]\n",
    "    relusize_int=solution[7]\n",
    "    model=pv.generate(i,relusize_f,weight_size_f1,bias_size_f1,weight_size_f2,bias_size_f2,sparsity,inputsize,relusize_int,layer1,layer2,layer3,lr,epochs,X_train,Y_train,X_test,Y_test,wb1,wb2)\n",
    "    #pwsv.generate(model,i,relusize_f,weight_size_f1,bias_size_f1,weight_size_f2,bias_size_f2,inputsize,relusize_int,layer1,layer2,layer3,X_train,Y_train,X_test,Y_test)\n",
    "    #pcv.generate(model,i,relusize_f,weight_size_f1,bias_size_f1,weight_size_f2,bias_size_f2,inputsize,relusize_int,1,0,1,0,layer1,layer2,layer3,X_train,Y_train,X_test,Y_test)\n",
    "    #poqv.generate(i,relusize_f,weight_size_f1,bias_size_f1,weight_size_f2,bias_size_f2,inputsize,relusize_int,layer1,layer2,layer3,lr,epochs,X_train,Y_train,X_test,Y_test,wb1,wb2)\n",
    "    i += 1"
   ]
  },
  {
   "cell_type": "markdown",
   "metadata": {},
   "source": [
    "### only custom sharing"
   ]
  },
  {
   "cell_type": "code",
   "execution_count": 30,
   "metadata": {},
   "outputs": [
    {
     "name": "stderr",
     "output_type": "stream",
     "text": [
      "/home/argykokk/miniconda3/envs/hls4ml-tutorial/lib/python3.8/site-packages/keras/optimizers/optimizer_v2/adam.py:114: UserWarning: The `lr` argument is deprecated, use `learning_rate` instead.\n",
      "  super().__init__(name, **kwargs)\n",
      "/home/argykokk/miniconda3/envs/hls4ml-tutorial/lib/python3.8/site-packages/keras/optimizers/optimizer_v2/adam.py:114: UserWarning: The `lr` argument is deprecated, use `learning_rate` instead.\n",
      "  super().__init__(name, **kwargs)\n"
     ]
    },
    {
     "name": "stdout",
     "output_type": "stream",
     "text": [
      "46/46 [==============================] - 0s 1ms/step - loss: 1.5851 - accuracy: 0.1918\n",
      "accuracy = 0.19183672964572906\n",
      "Interpreting Sequential\n",
      "Topology:\n",
      "Layer name: fc1_input, layer type: Input\n",
      "Layer name: fc1, layer type: QDense\n",
      "Layer name: relu1, layer type: QActivation\n",
      "Layer name: output, layer type: QDense\n",
      "Layer name: softmax, layer type: Activation\n",
      "copy top.v, sim.Xtest, and sim.Ytest to the synopsys project \n"
     ]
    },
    {
     "name": "stderr",
     "output_type": "stream",
     "text": [
      "/home/argykokk/miniconda3/envs/hls4ml-tutorial/lib/python3.8/site-packages/keras/optimizers/optimizer_v2/adam.py:114: UserWarning: The `lr` argument is deprecated, use `learning_rate` instead.\n",
      "  super().__init__(name, **kwargs)\n",
      "/home/argykokk/miniconda3/envs/hls4ml-tutorial/lib/python3.8/site-packages/keras/optimizers/optimizer_v2/adam.py:114: UserWarning: The `lr` argument is deprecated, use `learning_rate` instead.\n",
      "  super().__init__(name, **kwargs)\n"
     ]
    },
    {
     "name": "stdout",
     "output_type": "stream",
     "text": [
      "46/46 [==============================] - 0s 987us/step - loss: 1.3814 - accuracy: 0.4544\n",
      "accuracy = 0.4544217586517334\n",
      "Interpreting Sequential\n",
      "Topology:\n",
      "Layer name: fc1_input, layer type: Input\n",
      "Layer name: fc1, layer type: QDense\n",
      "Layer name: relu1, layer type: QActivation\n",
      "Layer name: output, layer type: QDense\n",
      "Layer name: softmax, layer type: Activation\n",
      "copy top.v, sim.Xtest, and sim.Ytest to the synopsys project \n"
     ]
    },
    {
     "name": "stderr",
     "output_type": "stream",
     "text": [
      "/home/argykokk/miniconda3/envs/hls4ml-tutorial/lib/python3.8/site-packages/keras/optimizers/optimizer_v2/adam.py:114: UserWarning: The `lr` argument is deprecated, use `learning_rate` instead.\n",
      "  super().__init__(name, **kwargs)\n",
      "/home/argykokk/miniconda3/envs/hls4ml-tutorial/lib/python3.8/site-packages/keras/optimizers/optimizer_v2/adam.py:114: UserWarning: The `lr` argument is deprecated, use `learning_rate` instead.\n",
      "  super().__init__(name, **kwargs)\n"
     ]
    },
    {
     "name": "stdout",
     "output_type": "stream",
     "text": [
      "46/46 [==============================] - 0s 993us/step - loss: 1.3609 - accuracy: 0.2980\n",
      "accuracy = 0.29795917868614197\n",
      "Interpreting Sequential\n",
      "Topology:\n",
      "Layer name: fc1_input, layer type: Input\n",
      "Layer name: fc1, layer type: QDense\n",
      "Layer name: relu1, layer type: QActivation\n",
      "Layer name: output, layer type: QDense\n",
      "Layer name: softmax, layer type: Activation\n",
      "copy top.v, sim.Xtest, and sim.Ytest to the synopsys project \n"
     ]
    },
    {
     "name": "stderr",
     "output_type": "stream",
     "text": [
      "/home/argykokk/miniconda3/envs/hls4ml-tutorial/lib/python3.8/site-packages/keras/optimizers/optimizer_v2/adam.py:114: UserWarning: The `lr` argument is deprecated, use `learning_rate` instead.\n",
      "  super().__init__(name, **kwargs)\n",
      "/home/argykokk/miniconda3/envs/hls4ml-tutorial/lib/python3.8/site-packages/keras/optimizers/optimizer_v2/adam.py:114: UserWarning: The `lr` argument is deprecated, use `learning_rate` instead.\n",
      "  super().__init__(name, **kwargs)\n"
     ]
    },
    {
     "name": "stdout",
     "output_type": "stream",
     "text": [
      "46/46 [==============================] - 0s 1ms/step - loss: 1.4151 - accuracy: 0.2884\n",
      "accuracy = 0.2884353697299957\n",
      "Interpreting Sequential\n",
      "Topology:\n",
      "Layer name: fc1_input, layer type: Input\n",
      "Layer name: fc1, layer type: QDense\n",
      "Layer name: relu1, layer type: QActivation\n",
      "Layer name: output, layer type: QDense\n",
      "Layer name: softmax, layer type: Activation\n",
      "copy top.v, sim.Xtest, and sim.Ytest to the synopsys project \n"
     ]
    },
    {
     "name": "stderr",
     "output_type": "stream",
     "text": [
      "/home/argykokk/miniconda3/envs/hls4ml-tutorial/lib/python3.8/site-packages/keras/optimizers/optimizer_v2/adam.py:114: UserWarning: The `lr` argument is deprecated, use `learning_rate` instead.\n",
      "  super().__init__(name, **kwargs)\n",
      "/home/argykokk/miniconda3/envs/hls4ml-tutorial/lib/python3.8/site-packages/keras/optimizers/optimizer_v2/adam.py:114: UserWarning: The `lr` argument is deprecated, use `learning_rate` instead.\n",
      "  super().__init__(name, **kwargs)\n"
     ]
    },
    {
     "name": "stdout",
     "output_type": "stream",
     "text": [
      "46/46 [==============================] - 0s 1ms/step - loss: 1.4238 - accuracy: 0.2898\n",
      "accuracy = 0.2897959053516388\n",
      "Interpreting Sequential\n",
      "Topology:\n",
      "Layer name: fc1_input, layer type: Input\n",
      "Layer name: fc1, layer type: QDense\n",
      "Layer name: relu1, layer type: QActivation\n",
      "Layer name: output, layer type: QDense\n",
      "Layer name: softmax, layer type: Activation\n",
      "copy top.v, sim.Xtest, and sim.Ytest to the synopsys project \n"
     ]
    },
    {
     "name": "stderr",
     "output_type": "stream",
     "text": [
      "/home/argykokk/miniconda3/envs/hls4ml-tutorial/lib/python3.8/site-packages/keras/optimizers/optimizer_v2/adam.py:114: UserWarning: The `lr` argument is deprecated, use `learning_rate` instead.\n",
      "  super().__init__(name, **kwargs)\n",
      "/home/argykokk/miniconda3/envs/hls4ml-tutorial/lib/python3.8/site-packages/keras/optimizers/optimizer_v2/adam.py:114: UserWarning: The `lr` argument is deprecated, use `learning_rate` instead.\n",
      "  super().__init__(name, **kwargs)\n"
     ]
    },
    {
     "name": "stdout",
     "output_type": "stream",
     "text": [
      "46/46 [==============================] - 0s 1ms/step - loss: 1.4243 - accuracy: 0.2898\n",
      "accuracy = 0.2897959053516388\n",
      "Interpreting Sequential\n",
      "Topology:\n",
      "Layer name: fc1_input, layer type: Input\n",
      "Layer name: fc1, layer type: QDense\n",
      "Layer name: relu1, layer type: QActivation\n",
      "Layer name: output, layer type: QDense\n",
      "Layer name: softmax, layer type: Activation\n",
      "copy top.v, sim.Xtest, and sim.Ytest to the synopsys project \n"
     ]
    },
    {
     "name": "stderr",
     "output_type": "stream",
     "text": [
      "/home/argykokk/miniconda3/envs/hls4ml-tutorial/lib/python3.8/site-packages/keras/optimizers/optimizer_v2/adam.py:114: UserWarning: The `lr` argument is deprecated, use `learning_rate` instead.\n",
      "  super().__init__(name, **kwargs)\n",
      "/home/argykokk/miniconda3/envs/hls4ml-tutorial/lib/python3.8/site-packages/keras/optimizers/optimizer_v2/adam.py:114: UserWarning: The `lr` argument is deprecated, use `learning_rate` instead.\n",
      "  super().__init__(name, **kwargs)\n"
     ]
    },
    {
     "name": "stdout",
     "output_type": "stream",
     "text": [
      "46/46 [==============================] - 1s 1ms/step - loss: 1.4243 - accuracy: 0.2898\n",
      "accuracy = 0.2897959053516388\n",
      "Interpreting Sequential\n",
      "Topology:\n",
      "Layer name: fc1_input, layer type: Input\n",
      "Layer name: fc1, layer type: QDense\n",
      "Layer name: relu1, layer type: QActivation\n",
      "Layer name: output, layer type: QDense\n",
      "Layer name: softmax, layer type: Activation\n",
      "copy top.v, sim.Xtest, and sim.Ytest to the synopsys project \n"
     ]
    },
    {
     "name": "stderr",
     "output_type": "stream",
     "text": [
      "/home/argykokk/miniconda3/envs/hls4ml-tutorial/lib/python3.8/site-packages/keras/optimizers/optimizer_v2/adam.py:114: UserWarning: The `lr` argument is deprecated, use `learning_rate` instead.\n",
      "  super().__init__(name, **kwargs)\n",
      "/home/argykokk/miniconda3/envs/hls4ml-tutorial/lib/python3.8/site-packages/keras/optimizers/optimizer_v2/adam.py:114: UserWarning: The `lr` argument is deprecated, use `learning_rate` instead.\n",
      "  super().__init__(name, **kwargs)\n"
     ]
    },
    {
     "name": "stdout",
     "output_type": "stream",
     "text": [
      "46/46 [==============================] - 0s 1ms/step - loss: 1.5221 - accuracy: 0.2027\n",
      "accuracy = 0.20272108912467957\n",
      "Interpreting Sequential\n",
      "Topology:\n",
      "Layer name: fc1_input, layer type: Input\n",
      "Layer name: fc1, layer type: QDense\n",
      "Layer name: relu1, layer type: QActivation\n",
      "Layer name: output, layer type: QDense\n",
      "Layer name: softmax, layer type: Activation\n",
      "copy top.v, sim.Xtest, and sim.Ytest to the synopsys project \n"
     ]
    },
    {
     "name": "stderr",
     "output_type": "stream",
     "text": [
      "/home/argykokk/miniconda3/envs/hls4ml-tutorial/lib/python3.8/site-packages/keras/optimizers/optimizer_v2/adam.py:114: UserWarning: The `lr` argument is deprecated, use `learning_rate` instead.\n",
      "  super().__init__(name, **kwargs)\n",
      "/home/argykokk/miniconda3/envs/hls4ml-tutorial/lib/python3.8/site-packages/keras/optimizers/optimizer_v2/adam.py:114: UserWarning: The `lr` argument is deprecated, use `learning_rate` instead.\n",
      "  super().__init__(name, **kwargs)\n"
     ]
    },
    {
     "name": "stdout",
     "output_type": "stream",
     "text": [
      "46/46 [==============================] - 0s 1ms/step - loss: 1.3585 - accuracy: 0.4544\n",
      "accuracy = 0.4544217586517334\n",
      "Interpreting Sequential\n",
      "Topology:\n",
      "Layer name: fc1_input, layer type: Input\n",
      "Layer name: fc1, layer type: QDense\n",
      "Layer name: relu1, layer type: QActivation\n",
      "Layer name: output, layer type: QDense\n",
      "Layer name: softmax, layer type: Activation\n",
      "copy top.v, sim.Xtest, and sim.Ytest to the synopsys project \n"
     ]
    },
    {
     "name": "stderr",
     "output_type": "stream",
     "text": [
      "/home/argykokk/miniconda3/envs/hls4ml-tutorial/lib/python3.8/site-packages/keras/optimizers/optimizer_v2/adam.py:114: UserWarning: The `lr` argument is deprecated, use `learning_rate` instead.\n",
      "  super().__init__(name, **kwargs)\n",
      "/home/argykokk/miniconda3/envs/hls4ml-tutorial/lib/python3.8/site-packages/keras/optimizers/optimizer_v2/adam.py:114: UserWarning: The `lr` argument is deprecated, use `learning_rate` instead.\n",
      "  super().__init__(name, **kwargs)\n"
     ]
    },
    {
     "name": "stdout",
     "output_type": "stream",
     "text": [
      "46/46 [==============================] - 0s 1ms/step - loss: 1.1662 - accuracy: 0.5007\n",
      "accuracy = 0.5006802678108215\n",
      "Interpreting Sequential\n",
      "Topology:\n",
      "Layer name: fc1_input, layer type: Input\n",
      "Layer name: fc1, layer type: QDense\n",
      "Layer name: relu1, layer type: QActivation\n",
      "Layer name: output, layer type: QDense\n",
      "Layer name: softmax, layer type: Activation\n",
      "copy top.v, sim.Xtest, and sim.Ytest to the synopsys project \n"
     ]
    },
    {
     "name": "stderr",
     "output_type": "stream",
     "text": [
      "/home/argykokk/miniconda3/envs/hls4ml-tutorial/lib/python3.8/site-packages/keras/optimizers/optimizer_v2/adam.py:114: UserWarning: The `lr` argument is deprecated, use `learning_rate` instead.\n",
      "  super().__init__(name, **kwargs)\n",
      "/home/argykokk/miniconda3/envs/hls4ml-tutorial/lib/python3.8/site-packages/keras/optimizers/optimizer_v2/adam.py:114: UserWarning: The `lr` argument is deprecated, use `learning_rate` instead.\n",
      "  super().__init__(name, **kwargs)\n"
     ]
    },
    {
     "name": "stdout",
     "output_type": "stream",
     "text": [
      "46/46 [==============================] - 0s 1ms/step - loss: 1.1615 - accuracy: 0.5245\n",
      "accuracy = 0.5244898200035095\n",
      "Interpreting Sequential\n",
      "Topology:\n",
      "Layer name: fc1_input, layer type: Input\n",
      "Layer name: fc1, layer type: QDense\n",
      "Layer name: relu1, layer type: QActivation\n",
      "Layer name: output, layer type: QDense\n",
      "Layer name: softmax, layer type: Activation\n",
      "copy top.v, sim.Xtest, and sim.Ytest to the synopsys project \n"
     ]
    },
    {
     "name": "stderr",
     "output_type": "stream",
     "text": [
      "/home/argykokk/miniconda3/envs/hls4ml-tutorial/lib/python3.8/site-packages/keras/optimizers/optimizer_v2/adam.py:114: UserWarning: The `lr` argument is deprecated, use `learning_rate` instead.\n",
      "  super().__init__(name, **kwargs)\n",
      "/home/argykokk/miniconda3/envs/hls4ml-tutorial/lib/python3.8/site-packages/keras/optimizers/optimizer_v2/adam.py:114: UserWarning: The `lr` argument is deprecated, use `learning_rate` instead.\n",
      "  super().__init__(name, **kwargs)\n"
     ]
    },
    {
     "name": "stdout",
     "output_type": "stream",
     "text": [
      "46/46 [==============================] - 0s 1ms/step - loss: 1.1585 - accuracy: 0.5306\n",
      "accuracy = 0.5306122303009033\n",
      "Interpreting Sequential\n",
      "Topology:\n",
      "Layer name: fc1_input, layer type: Input\n",
      "Layer name: fc1, layer type: QDense\n",
      "Layer name: relu1, layer type: QActivation\n",
      "Layer name: output, layer type: QDense\n",
      "Layer name: softmax, layer type: Activation\n",
      "copy top.v, sim.Xtest, and sim.Ytest to the synopsys project \n"
     ]
    },
    {
     "name": "stderr",
     "output_type": "stream",
     "text": [
      "/home/argykokk/miniconda3/envs/hls4ml-tutorial/lib/python3.8/site-packages/keras/optimizers/optimizer_v2/adam.py:114: UserWarning: The `lr` argument is deprecated, use `learning_rate` instead.\n",
      "  super().__init__(name, **kwargs)\n",
      "/home/argykokk/miniconda3/envs/hls4ml-tutorial/lib/python3.8/site-packages/keras/optimizers/optimizer_v2/adam.py:114: UserWarning: The `lr` argument is deprecated, use `learning_rate` instead.\n",
      "  super().__init__(name, **kwargs)\n"
     ]
    },
    {
     "name": "stdout",
     "output_type": "stream",
     "text": [
      "46/46 [==============================] - 0s 1ms/step - loss: 1.1585 - accuracy: 0.5306\n",
      "accuracy = 0.5306122303009033\n",
      "Interpreting Sequential\n",
      "Topology:\n",
      "Layer name: fc1_input, layer type: Input\n",
      "Layer name: fc1, layer type: QDense\n",
      "Layer name: relu1, layer type: QActivation\n",
      "Layer name: output, layer type: QDense\n",
      "Layer name: softmax, layer type: Activation\n",
      "copy top.v, sim.Xtest, and sim.Ytest to the synopsys project \n"
     ]
    },
    {
     "name": "stderr",
     "output_type": "stream",
     "text": [
      "/home/argykokk/miniconda3/envs/hls4ml-tutorial/lib/python3.8/site-packages/keras/optimizers/optimizer_v2/adam.py:114: UserWarning: The `lr` argument is deprecated, use `learning_rate` instead.\n",
      "  super().__init__(name, **kwargs)\n",
      "/home/argykokk/miniconda3/envs/hls4ml-tutorial/lib/python3.8/site-packages/keras/optimizers/optimizer_v2/adam.py:114: UserWarning: The `lr` argument is deprecated, use `learning_rate` instead.\n",
      "  super().__init__(name, **kwargs)\n"
     ]
    },
    {
     "name": "stdout",
     "output_type": "stream",
     "text": [
      "46/46 [==============================] - 0s 994us/step - loss: 1.1585 - accuracy: 0.5306\n",
      "accuracy = 0.5306122303009033\n",
      "Interpreting Sequential\n",
      "Topology:\n",
      "Layer name: fc1_input, layer type: Input\n",
      "Layer name: fc1, layer type: QDense\n",
      "Layer name: relu1, layer type: QActivation\n",
      "Layer name: output, layer type: QDense\n",
      "Layer name: softmax, layer type: Activation\n",
      "copy top.v, sim.Xtest, and sim.Ytest to the synopsys project \n"
     ]
    },
    {
     "name": "stderr",
     "output_type": "stream",
     "text": [
      "/home/argykokk/miniconda3/envs/hls4ml-tutorial/lib/python3.8/site-packages/keras/optimizers/optimizer_v2/adam.py:114: UserWarning: The `lr` argument is deprecated, use `learning_rate` instead.\n",
      "  super().__init__(name, **kwargs)\n",
      "/home/argykokk/miniconda3/envs/hls4ml-tutorial/lib/python3.8/site-packages/keras/optimizers/optimizer_v2/adam.py:114: UserWarning: The `lr` argument is deprecated, use `learning_rate` instead.\n",
      "  super().__init__(name, **kwargs)\n"
     ]
    },
    {
     "name": "stdout",
     "output_type": "stream",
     "text": [
      "46/46 [==============================] - 0s 1ms/step - loss: 1.5514 - accuracy: 0.1952\n",
      "accuracy = 0.19523809850215912\n",
      "Interpreting Sequential\n",
      "Topology:\n",
      "Layer name: fc1_input, layer type: Input\n",
      "Layer name: fc1, layer type: QDense\n",
      "Layer name: relu1, layer type: QActivation\n",
      "Layer name: output, layer type: QDense\n",
      "Layer name: softmax, layer type: Activation\n",
      "copy top.v, sim.Xtest, and sim.Ytest to the synopsys project \n"
     ]
    },
    {
     "name": "stderr",
     "output_type": "stream",
     "text": [
      "/home/argykokk/miniconda3/envs/hls4ml-tutorial/lib/python3.8/site-packages/keras/optimizers/optimizer_v2/adam.py:114: UserWarning: The `lr` argument is deprecated, use `learning_rate` instead.\n",
      "  super().__init__(name, **kwargs)\n",
      "/home/argykokk/miniconda3/envs/hls4ml-tutorial/lib/python3.8/site-packages/keras/optimizers/optimizer_v2/adam.py:114: UserWarning: The `lr` argument is deprecated, use `learning_rate` instead.\n",
      "  super().__init__(name, **kwargs)\n"
     ]
    },
    {
     "name": "stdout",
     "output_type": "stream",
     "text": [
      "46/46 [==============================] - 0s 1ms/step - loss: 1.3309 - accuracy: 0.4585\n",
      "accuracy = 0.458503395318985\n",
      "Interpreting Sequential\n",
      "Topology:\n",
      "Layer name: fc1_input, layer type: Input\n",
      "Layer name: fc1, layer type: QDense\n",
      "Layer name: relu1, layer type: QActivation\n",
      "Layer name: output, layer type: QDense\n",
      "Layer name: softmax, layer type: Activation\n",
      "copy top.v, sim.Xtest, and sim.Ytest to the synopsys project \n"
     ]
    },
    {
     "name": "stderr",
     "output_type": "stream",
     "text": [
      "/home/argykokk/miniconda3/envs/hls4ml-tutorial/lib/python3.8/site-packages/keras/optimizers/optimizer_v2/adam.py:114: UserWarning: The `lr` argument is deprecated, use `learning_rate` instead.\n",
      "  super().__init__(name, **kwargs)\n",
      "/home/argykokk/miniconda3/envs/hls4ml-tutorial/lib/python3.8/site-packages/keras/optimizers/optimizer_v2/adam.py:114: UserWarning: The `lr` argument is deprecated, use `learning_rate` instead.\n",
      "  super().__init__(name, **kwargs)\n"
     ]
    },
    {
     "name": "stdout",
     "output_type": "stream",
     "text": [
      "46/46 [==============================] - 0s 1ms/step - loss: 1.1469 - accuracy: 0.4973\n",
      "accuracy = 0.4972788989543915\n",
      "Interpreting Sequential\n",
      "Topology:\n",
      "Layer name: fc1_input, layer type: Input\n",
      "Layer name: fc1, layer type: QDense\n",
      "Layer name: relu1, layer type: QActivation\n",
      "Layer name: output, layer type: QDense\n",
      "Layer name: softmax, layer type: Activation\n",
      "copy top.v, sim.Xtest, and sim.Ytest to the synopsys project \n"
     ]
    },
    {
     "name": "stderr",
     "output_type": "stream",
     "text": [
      "/home/argykokk/miniconda3/envs/hls4ml-tutorial/lib/python3.8/site-packages/keras/optimizers/optimizer_v2/adam.py:114: UserWarning: The `lr` argument is deprecated, use `learning_rate` instead.\n",
      "  super().__init__(name, **kwargs)\n",
      "/home/argykokk/miniconda3/envs/hls4ml-tutorial/lib/python3.8/site-packages/keras/optimizers/optimizer_v2/adam.py:114: UserWarning: The `lr` argument is deprecated, use `learning_rate` instead.\n",
      "  super().__init__(name, **kwargs)\n"
     ]
    },
    {
     "name": "stdout",
     "output_type": "stream",
     "text": [
      "46/46 [==============================] - 0s 1ms/step - loss: 1.1397 - accuracy: 0.5156\n",
      "accuracy = 0.5156462788581848\n",
      "Interpreting Sequential\n",
      "Topology:\n",
      "Layer name: fc1_input, layer type: Input\n",
      "Layer name: fc1, layer type: QDense\n",
      "Layer name: relu1, layer type: QActivation\n",
      "Layer name: output, layer type: QDense\n",
      "Layer name: softmax, layer type: Activation\n",
      "copy top.v, sim.Xtest, and sim.Ytest to the synopsys project \n"
     ]
    },
    {
     "name": "stderr",
     "output_type": "stream",
     "text": [
      "/home/argykokk/miniconda3/envs/hls4ml-tutorial/lib/python3.8/site-packages/keras/optimizers/optimizer_v2/adam.py:114: UserWarning: The `lr` argument is deprecated, use `learning_rate` instead.\n",
      "  super().__init__(name, **kwargs)\n",
      "/home/argykokk/miniconda3/envs/hls4ml-tutorial/lib/python3.8/site-packages/keras/optimizers/optimizer_v2/adam.py:114: UserWarning: The `lr` argument is deprecated, use `learning_rate` instead.\n",
      "  super().__init__(name, **kwargs)\n"
     ]
    },
    {
     "name": "stdout",
     "output_type": "stream",
     "text": [
      "46/46 [==============================] - 0s 1ms/step - loss: 1.1369 - accuracy: 0.5245\n",
      "accuracy = 0.5244898200035095\n",
      "Interpreting Sequential\n",
      "Topology:\n",
      "Layer name: fc1_input, layer type: Input\n",
      "Layer name: fc1, layer type: QDense\n",
      "Layer name: relu1, layer type: QActivation\n",
      "Layer name: output, layer type: QDense\n",
      "Layer name: softmax, layer type: Activation\n",
      "copy top.v, sim.Xtest, and sim.Ytest to the synopsys project \n"
     ]
    },
    {
     "name": "stderr",
     "output_type": "stream",
     "text": [
      "/home/argykokk/miniconda3/envs/hls4ml-tutorial/lib/python3.8/site-packages/keras/optimizers/optimizer_v2/adam.py:114: UserWarning: The `lr` argument is deprecated, use `learning_rate` instead.\n",
      "  super().__init__(name, **kwargs)\n",
      "/home/argykokk/miniconda3/envs/hls4ml-tutorial/lib/python3.8/site-packages/keras/optimizers/optimizer_v2/adam.py:114: UserWarning: The `lr` argument is deprecated, use `learning_rate` instead.\n",
      "  super().__init__(name, **kwargs)\n"
     ]
    },
    {
     "name": "stdout",
     "output_type": "stream",
     "text": [
      "46/46 [==============================] - 0s 987us/step - loss: 1.1367 - accuracy: 0.5245\n",
      "accuracy = 0.5244898200035095\n",
      "Interpreting Sequential\n",
      "Topology:\n",
      "Layer name: fc1_input, layer type: Input\n",
      "Layer name: fc1, layer type: QDense\n",
      "Layer name: relu1, layer type: QActivation\n",
      "Layer name: output, layer type: QDense\n",
      "Layer name: softmax, layer type: Activation\n",
      "copy top.v, sim.Xtest, and sim.Ytest to the synopsys project \n"
     ]
    },
    {
     "name": "stderr",
     "output_type": "stream",
     "text": [
      "/home/argykokk/miniconda3/envs/hls4ml-tutorial/lib/python3.8/site-packages/keras/optimizers/optimizer_v2/adam.py:114: UserWarning: The `lr` argument is deprecated, use `learning_rate` instead.\n",
      "  super().__init__(name, **kwargs)\n",
      "/home/argykokk/miniconda3/envs/hls4ml-tutorial/lib/python3.8/site-packages/keras/optimizers/optimizer_v2/adam.py:114: UserWarning: The `lr` argument is deprecated, use `learning_rate` instead.\n",
      "  super().__init__(name, **kwargs)\n"
     ]
    },
    {
     "name": "stdout",
     "output_type": "stream",
     "text": [
      "46/46 [==============================] - 0s 1ms/step - loss: 1.1367 - accuracy: 0.5245\n",
      "accuracy = 0.5244898200035095\n",
      "Interpreting Sequential\n",
      "Topology:\n",
      "Layer name: fc1_input, layer type: Input\n",
      "Layer name: fc1, layer type: QDense\n",
      "Layer name: relu1, layer type: QActivation\n",
      "Layer name: output, layer type: QDense\n",
      "Layer name: softmax, layer type: Activation\n",
      "copy top.v, sim.Xtest, and sim.Ytest to the synopsys project \n"
     ]
    },
    {
     "name": "stderr",
     "output_type": "stream",
     "text": [
      "/home/argykokk/miniconda3/envs/hls4ml-tutorial/lib/python3.8/site-packages/keras/optimizers/optimizer_v2/adam.py:114: UserWarning: The `lr` argument is deprecated, use `learning_rate` instead.\n",
      "  super().__init__(name, **kwargs)\n",
      "/home/argykokk/miniconda3/envs/hls4ml-tutorial/lib/python3.8/site-packages/keras/optimizers/optimizer_v2/adam.py:114: UserWarning: The `lr` argument is deprecated, use `learning_rate` instead.\n",
      "  super().__init__(name, **kwargs)\n"
     ]
    },
    {
     "name": "stdout",
     "output_type": "stream",
     "text": [
      "46/46 [==============================] - 0s 1ms/step - loss: 1.5514 - accuracy: 0.1952\n",
      "accuracy = 0.19523809850215912\n",
      "Interpreting Sequential\n",
      "Topology:\n",
      "Layer name: fc1_input, layer type: Input\n",
      "Layer name: fc1, layer type: QDense\n",
      "Layer name: relu1, layer type: QActivation\n",
      "Layer name: output, layer type: QDense\n",
      "Layer name: softmax, layer type: Activation\n",
      "copy top.v, sim.Xtest, and sim.Ytest to the synopsys project \n"
     ]
    },
    {
     "name": "stderr",
     "output_type": "stream",
     "text": [
      "/home/argykokk/miniconda3/envs/hls4ml-tutorial/lib/python3.8/site-packages/keras/optimizers/optimizer_v2/adam.py:114: UserWarning: The `lr` argument is deprecated, use `learning_rate` instead.\n",
      "  super().__init__(name, **kwargs)\n",
      "/home/argykokk/miniconda3/envs/hls4ml-tutorial/lib/python3.8/site-packages/keras/optimizers/optimizer_v2/adam.py:114: UserWarning: The `lr` argument is deprecated, use `learning_rate` instead.\n",
      "  super().__init__(name, **kwargs)\n"
     ]
    },
    {
     "name": "stdout",
     "output_type": "stream",
     "text": [
      "46/46 [==============================] - 1s 1ms/step - loss: 1.3309 - accuracy: 0.4585\n",
      "accuracy = 0.458503395318985\n",
      "Interpreting Sequential\n",
      "Topology:\n",
      "Layer name: fc1_input, layer type: Input\n",
      "Layer name: fc1, layer type: QDense\n",
      "Layer name: relu1, layer type: QActivation\n",
      "Layer name: output, layer type: QDense\n",
      "Layer name: softmax, layer type: Activation\n",
      "copy top.v, sim.Xtest, and sim.Ytest to the synopsys project \n"
     ]
    },
    {
     "name": "stderr",
     "output_type": "stream",
     "text": [
      "/home/argykokk/miniconda3/envs/hls4ml-tutorial/lib/python3.8/site-packages/keras/optimizers/optimizer_v2/adam.py:114: UserWarning: The `lr` argument is deprecated, use `learning_rate` instead.\n",
      "  super().__init__(name, **kwargs)\n",
      "/home/argykokk/miniconda3/envs/hls4ml-tutorial/lib/python3.8/site-packages/keras/optimizers/optimizer_v2/adam.py:114: UserWarning: The `lr` argument is deprecated, use `learning_rate` instead.\n",
      "  super().__init__(name, **kwargs)\n"
     ]
    },
    {
     "name": "stdout",
     "output_type": "stream",
     "text": [
      "46/46 [==============================] - 0s 1ms/step - loss: 1.1469 - accuracy: 0.4973\n",
      "accuracy = 0.4972788989543915\n",
      "Interpreting Sequential\n",
      "Topology:\n",
      "Layer name: fc1_input, layer type: Input\n",
      "Layer name: fc1, layer type: QDense\n",
      "Layer name: relu1, layer type: QActivation\n",
      "Layer name: output, layer type: QDense\n",
      "Layer name: softmax, layer type: Activation\n",
      "copy top.v, sim.Xtest, and sim.Ytest to the synopsys project \n"
     ]
    },
    {
     "name": "stderr",
     "output_type": "stream",
     "text": [
      "/home/argykokk/miniconda3/envs/hls4ml-tutorial/lib/python3.8/site-packages/keras/optimizers/optimizer_v2/adam.py:114: UserWarning: The `lr` argument is deprecated, use `learning_rate` instead.\n",
      "  super().__init__(name, **kwargs)\n",
      "/home/argykokk/miniconda3/envs/hls4ml-tutorial/lib/python3.8/site-packages/keras/optimizers/optimizer_v2/adam.py:114: UserWarning: The `lr` argument is deprecated, use `learning_rate` instead.\n",
      "  super().__init__(name, **kwargs)\n"
     ]
    },
    {
     "name": "stdout",
     "output_type": "stream",
     "text": [
      "46/46 [==============================] - 0s 1ms/step - loss: 1.1397 - accuracy: 0.5156\n",
      "accuracy = 0.5156462788581848\n",
      "Interpreting Sequential\n",
      "Topology:\n",
      "Layer name: fc1_input, layer type: Input\n",
      "Layer name: fc1, layer type: QDense\n",
      "Layer name: relu1, layer type: QActivation\n",
      "Layer name: output, layer type: QDense\n",
      "Layer name: softmax, layer type: Activation\n",
      "copy top.v, sim.Xtest, and sim.Ytest to the synopsys project \n"
     ]
    },
    {
     "name": "stderr",
     "output_type": "stream",
     "text": [
      "/home/argykokk/miniconda3/envs/hls4ml-tutorial/lib/python3.8/site-packages/keras/optimizers/optimizer_v2/adam.py:114: UserWarning: The `lr` argument is deprecated, use `learning_rate` instead.\n",
      "  super().__init__(name, **kwargs)\n",
      "/home/argykokk/miniconda3/envs/hls4ml-tutorial/lib/python3.8/site-packages/keras/optimizers/optimizer_v2/adam.py:114: UserWarning: The `lr` argument is deprecated, use `learning_rate` instead.\n",
      "  super().__init__(name, **kwargs)\n"
     ]
    },
    {
     "name": "stdout",
     "output_type": "stream",
     "text": [
      "46/46 [==============================] - 0s 1ms/step - loss: 1.1369 - accuracy: 0.5245\n",
      "accuracy = 0.5244898200035095\n",
      "Interpreting Sequential\n",
      "Topology:\n",
      "Layer name: fc1_input, layer type: Input\n",
      "Layer name: fc1, layer type: QDense\n",
      "Layer name: relu1, layer type: QActivation\n",
      "Layer name: output, layer type: QDense\n",
      "Layer name: softmax, layer type: Activation\n",
      "copy top.v, sim.Xtest, and sim.Ytest to the synopsys project \n"
     ]
    },
    {
     "name": "stderr",
     "output_type": "stream",
     "text": [
      "/home/argykokk/miniconda3/envs/hls4ml-tutorial/lib/python3.8/site-packages/keras/optimizers/optimizer_v2/adam.py:114: UserWarning: The `lr` argument is deprecated, use `learning_rate` instead.\n",
      "  super().__init__(name, **kwargs)\n",
      "/home/argykokk/miniconda3/envs/hls4ml-tutorial/lib/python3.8/site-packages/keras/optimizers/optimizer_v2/adam.py:114: UserWarning: The `lr` argument is deprecated, use `learning_rate` instead.\n",
      "  super().__init__(name, **kwargs)\n"
     ]
    },
    {
     "name": "stdout",
     "output_type": "stream",
     "text": [
      "46/46 [==============================] - 0s 1ms/step - loss: 1.1367 - accuracy: 0.5245\n",
      "accuracy = 0.5244898200035095\n",
      "Interpreting Sequential\n",
      "Topology:\n",
      "Layer name: fc1_input, layer type: Input\n",
      "Layer name: fc1, layer type: QDense\n",
      "Layer name: relu1, layer type: QActivation\n",
      "Layer name: output, layer type: QDense\n",
      "Layer name: softmax, layer type: Activation\n",
      "copy top.v, sim.Xtest, and sim.Ytest to the synopsys project \n"
     ]
    },
    {
     "name": "stderr",
     "output_type": "stream",
     "text": [
      "/home/argykokk/miniconda3/envs/hls4ml-tutorial/lib/python3.8/site-packages/keras/optimizers/optimizer_v2/adam.py:114: UserWarning: The `lr` argument is deprecated, use `learning_rate` instead.\n",
      "  super().__init__(name, **kwargs)\n",
      "/home/argykokk/miniconda3/envs/hls4ml-tutorial/lib/python3.8/site-packages/keras/optimizers/optimizer_v2/adam.py:114: UserWarning: The `lr` argument is deprecated, use `learning_rate` instead.\n",
      "  super().__init__(name, **kwargs)\n"
     ]
    },
    {
     "name": "stdout",
     "output_type": "stream",
     "text": [
      "46/46 [==============================] - 0s 1ms/step - loss: 1.1367 - accuracy: 0.5245\n",
      "accuracy = 0.5244898200035095\n",
      "Interpreting Sequential\n",
      "Topology:\n",
      "Layer name: fc1_input, layer type: Input\n",
      "Layer name: fc1, layer type: QDense\n",
      "Layer name: relu1, layer type: QActivation\n",
      "Layer name: output, layer type: QDense\n",
      "Layer name: softmax, layer type: Activation\n",
      "copy top.v, sim.Xtest, and sim.Ytest to the synopsys project \n"
     ]
    }
   ],
   "source": [
    "import sharing as sh\n",
    "reload(sh)\n",
    "bits_l1=7\n",
    "bits_int_l1=2\n",
    "bits_l2=7\n",
    "bits_int_l2=2\n",
    "\n",
    "\n",
    "bias_l1=7\n",
    "bias_l2=7\n",
    "bias_int_l1=1\n",
    "bias_int_l2=1\n",
    "relu_int=2\n",
    "relu=8\n",
    "layer1 = 11\n",
    "layer2 = 4\n",
    "layer3 = 7\n",
    "\n",
    "window=6\n",
    "for i in range(1,layer2+1):\n",
    "    for j in range(1,layer3+1):\n",
    "        c1 = i\n",
    "        c2 = j\n",
    "        sh.top_sharing(weights1, bits_l1, bits_int_l1, bits_l2, bits_int_l2, bias_l1, bias_int_l1, bias_l2, bias_int_l2, 4, relu, relu_int, X_test, Y_test, layer1, layer2, layer3, c1, c2, window)"
   ]
  },
  {
   "cell_type": "markdown",
   "metadata": {},
   "source": [
    "### end of only weight sharing"
   ]
  },
  {
   "cell_type": "markdown",
   "metadata": {},
   "source": [
    "### start of pareto weight sharing"
   ]
  },
  {
   "cell_type": "code",
   "execution_count": 35,
   "metadata": {},
   "outputs": [],
   "source": [
    "tparetos=[]"
   ]
  },
  {
   "cell_type": "code",
   "execution_count": 40,
   "metadata": {},
   "outputs": [],
   "source": [
    "tparetos.append(true_paretos[17])"
   ]
  },
  {
   "cell_type": "code",
   "execution_count": 41,
   "metadata": {},
   "outputs": [
    {
     "data": {
      "text/plain": [
       "[array([4, 2, 5, 2, 4, 7, 4, 1]),\n",
       " array([5, 3, 4, 2, 5, 5, 4, 1]),\n",
       " array([4, 5, 5, 5, 3, 4, 4, 1]),\n",
       " array([3, 2, 5, 2, 2, 8, 4, 1]),\n",
       " array([3, 2, 6, 2, 3, 8, 4, 1])]"
      ]
     },
     "execution_count": 41,
     "metadata": {},
     "output_type": "execute_result"
    }
   ],
   "source": [
    "tparetos"
   ]
  },
  {
   "cell_type": "code",
   "execution_count": 69,
   "metadata": {},
   "outputs": [
    {
     "name": "stdout",
     "output_type": "stream",
     "text": [
      "0       6\n",
      "1       6\n",
      "2       6\n",
      "3       6\n",
      "4       6\n",
      "       ..\n",
      "4893    6\n",
      "4894    5\n",
      "4895    6\n",
      "4896    7\n",
      "4897    6\n",
      "Name: Y, Length: 4898, dtype: int64\n",
      "[3 4 5 6 7 8 9]\n",
      "(3428, 11)\n",
      "INPUT IS 4NORM IS 16RELU IS 4 INT RELU1 WEIGHTS 1 ARE 2 BIASES 1 ARE 5 WEIGHTS 2 ARE 2 BIASES 2 ARE 4 SPARSITY : 0.7\n",
      "WARNING:tensorflow:`epsilon` argument is deprecated and will be removed, use `min_delta` instead.\n",
      "WARNING:tensorflow:`period` argument is deprecated. Please use `save_freq` to specify the frequency in number of batches seen.\n"
     ]
    },
    {
     "name": "stderr",
     "output_type": "stream",
     "text": [
      "/home/argykokk/miniconda3/envs/hls4ml-tutorial/lib/python3.8/site-packages/keras/initializers/initializers_v2.py:120: UserWarning: The initializer LecunUniform is unseeded and being called multiple times, which will return identical values  each time (even if the initializer is unseeded). Please update your code to provide a seed to the initializer, or avoid using the same initalizer instance more than once.\n",
      "  warnings.warn(\n",
      "/home/argykokk/miniconda3/envs/hls4ml-tutorial/lib/python3.8/site-packages/keras/optimizers/optimizer_v2/adam.py:114: UserWarning: The `lr` argument is deprecated, use `learning_rate` instead.\n",
      "  super().__init__(name, **kwargs)\n"
     ]
    },
    {
     "name": "stdout",
     "output_type": "stream",
     "text": [
      "Epoch 1/2\n",
      "   1/2742 [..............................] - ETA: 49:40 - loss: 1.6079 - accuracy: 0.0000e+00WARNING:tensorflow:Callback method `on_train_batch_end` is slow compared to the batch time (batch time: 0.0013s vs `on_train_batch_end` time: 0.0054s). Check your callbacks.\n",
      "2742/2742 [==============================] - 6s 2ms/step - loss: 1.4457 - accuracy: 0.4263 - val_loss: 1.3119 - val_accuracy: 0.4883 - lr: 0.0010\n",
      "Epoch 2/2\n",
      "2742/2742 [==============================] - 5s 2ms/step - loss: 1.2807 - accuracy: 0.5015 - val_loss: 1.2702 - val_accuracy: 0.5262 - lr: 0.0010\n",
      "... quantizing model\n",
      "46/46 [==============================] - 0s 1ms/step - loss: 1.2462 - accuracy: 0.5190\n",
      "[array([[-1., -1.,  0.,  0.],\n",
      "       [ 0., -1., -2.,  0.],\n",
      "       [ 0.,  0.,  0.,  0.],\n",
      "       [-1.,  1.,  0.,  0.],\n",
      "       [ 0.,  0.,  0.,  0.],\n",
      "       [ 0.,  0.,  0.,  0.],\n",
      "       [ 1.,  1.,  0.,  0.],\n",
      "       [ 1., -2.,  0.,  0.],\n",
      "       [-1.,  0.,  0.,  0.],\n",
      "       [ 0.,  0.,  0.,  0.],\n",
      "       [-1.,  0.,  0.,  0.]], dtype=float32), array([ 0.9375,  0.9375,  0.9375, -0.5   ], dtype=float32), array([[ 0.,  0.,  1.,  0.,  0., -2., -2.],\n",
      "       [-2., -2.,  0.,  0.,  1.,  1.,  0.],\n",
      "       [ 0.,  0.,  0.,  1.,  0.,  0.,  0.],\n",
      "       [ 0.,  0.,  0.,  0.,  0.,  0.,  0.]], dtype=float32), array([-1.   , -0.125,  0.875,  0.875,  0.375, -0.875, -1.   ],\n",
      "      dtype=float32)]\n",
      " ACCURACY IS 0.5190476179122925\n",
      "0       6\n",
      "1       6\n",
      "2       6\n",
      "3       6\n",
      "4       6\n",
      "       ..\n",
      "4893    6\n",
      "4894    5\n",
      "4895    6\n",
      "4896    7\n",
      "4897    6\n",
      "Name: Y, Length: 4898, dtype: int64\n",
      "[3 4 5 6 7 8 9]\n",
      "(3428, 11)\n",
      "INPUT IS 4NORM IS 16RELU IS 5 INT RELU1 WEIGHTS 1 ARE 3 BIASES 1 ARE 4 WEIGHTS 2 ARE 2 BIASES 2 ARE 5 SPARSITY : 0.5\n",
      "WARNING:tensorflow:`epsilon` argument is deprecated and will be removed, use `min_delta` instead.\n",
      "WARNING:tensorflow:`period` argument is deprecated. Please use `save_freq` to specify the frequency in number of batches seen.\n",
      "Epoch 1/2\n"
     ]
    },
    {
     "name": "stderr",
     "output_type": "stream",
     "text": [
      "/home/argykokk/miniconda3/envs/hls4ml-tutorial/lib/python3.8/site-packages/keras/initializers/initializers_v2.py:120: UserWarning: The initializer LecunUniform is unseeded and being called multiple times, which will return identical values  each time (even if the initializer is unseeded). Please update your code to provide a seed to the initializer, or avoid using the same initalizer instance more than once.\n",
      "  warnings.warn(\n",
      "/home/argykokk/miniconda3/envs/hls4ml-tutorial/lib/python3.8/site-packages/keras/optimizers/optimizer_v2/adam.py:114: UserWarning: The `lr` argument is deprecated, use `learning_rate` instead.\n",
      "  super().__init__(name, **kwargs)\n"
     ]
    },
    {
     "name": "stdout",
     "output_type": "stream",
     "text": [
      "   1/2742 [..............................] - ETA: 45:41 - loss: 1.2402 - accuracy: 1.0000WARNING:tensorflow:Callback method `on_train_batch_end` is slow compared to the batch time (batch time: 0.0014s vs `on_train_batch_end` time: 0.0049s). Check your callbacks.\n",
      "2742/2742 [==============================] - 6s 2ms/step - loss: 1.3307 - accuracy: 0.4639 - val_loss: 1.1739 - val_accuracy: 0.5073 - lr: 0.0010\n",
      "Epoch 2/2\n",
      "2742/2742 [==============================] - 5s 2ms/step - loss: 1.1835 - accuracy: 0.4938 - val_loss: 1.1680 - val_accuracy: 0.5160 - lr: 0.0010\n",
      "... quantizing model\n",
      "46/46 [==============================] - 0s 1ms/step - loss: 1.1651 - accuracy: 0.5367\n",
      "[array([[-1.5, -1.5, -0.5,  0. ],\n",
      "       [ 1.5, -1. , -2. ,  0. ],\n",
      "       [ 0. ,  0. ,  0. ,  0. ],\n",
      "       [-1.5,  1.5,  0.5,  0. ],\n",
      "       [ 1.5,  0. ,  1.5,  0. ],\n",
      "       [ 0. ,  1. ,  0. ,  0. ],\n",
      "       [ 1.5,  1.5,  0. ,  0. ],\n",
      "       [ 1.5, -1.5,  0. ,  0. ],\n",
      "       [-1. , -0.5,  0. ,  0. ],\n",
      "       [ 0. ,  0. ,  0. ,  0. ],\n",
      "       [-1.5,  0.5,  1. ,  0. ]], dtype=float32), array([ 0.875,  0.875,  0.625, -0.5  ], dtype=float32), array([[ 0.,  1.,  1.,  0., -2., -2., -2.],\n",
      "       [-2., -2.,  0.,  0.,  1.,  1.,  0.],\n",
      "       [ 0., -1.,  0.,  1.,  0.,  0.,  0.],\n",
      "       [ 0.,  0.,  0.,  0.,  0.,  0.,  0.]], dtype=float32), array([-1.    ,  0.0625,  0.75  ,  0.9375,  0.8125, -0.8125, -1.    ],\n",
      "      dtype=float32)]\n",
      " ACCURACY IS 0.5367347002029419\n",
      "0       6\n",
      "1       6\n",
      "2       6\n",
      "3       6\n",
      "4       6\n",
      "       ..\n",
      "4893    6\n",
      "4894    5\n",
      "4895    6\n",
      "4896    7\n",
      "4897    6\n",
      "Name: Y, Length: 4898, dtype: int64\n",
      "[3 4 5 6 7 8 9]\n",
      "(3428, 11)\n",
      "INPUT IS 4NORM IS 16RELU IS 4 INT RELU1 WEIGHTS 1 ARE 5 BIASES 1 ARE 5 WEIGHTS 2 ARE 5 BIASES 2 ARE 3 SPARSITY : 0.4\n",
      "WARNING:tensorflow:`epsilon` argument is deprecated and will be removed, use `min_delta` instead.\n",
      "WARNING:tensorflow:`period` argument is deprecated. Please use `save_freq` to specify the frequency in number of batches seen.\n",
      "Epoch 1/2\n"
     ]
    },
    {
     "name": "stderr",
     "output_type": "stream",
     "text": [
      "/home/argykokk/miniconda3/envs/hls4ml-tutorial/lib/python3.8/site-packages/keras/optimizers/optimizer_v2/adam.py:114: UserWarning: The `lr` argument is deprecated, use `learning_rate` instead.\n",
      "  super().__init__(name, **kwargs)\n"
     ]
    },
    {
     "name": "stdout",
     "output_type": "stream",
     "text": [
      "   1/2742 [..............................] - ETA: 48:42 - loss: 0.9651 - accuracy: 1.0000WARNING:tensorflow:Callback method `on_train_batch_end` is slow compared to the batch time (batch time: 0.0014s vs `on_train_batch_end` time: 0.0051s). Check your callbacks.\n",
      "2742/2742 [==============================] - 7s 2ms/step - loss: 1.2990 - accuracy: 0.4796 - val_loss: 1.1420 - val_accuracy: 0.5321 - lr: 0.0010\n",
      "Epoch 2/2\n",
      "2742/2742 [==============================] - 5s 2ms/step - loss: 1.1508 - accuracy: 0.5204 - val_loss: 1.1258 - val_accuracy: 0.5335 - lr: 0.0010\n",
      "... quantizing model\n",
      "46/46 [==============================] - 0s 1ms/step - loss: 1.1369 - accuracy: 0.5497\n",
      "[array([[-1.5  , -1.5  , -0.625,  0.   ],\n",
      "       [ 1.5  , -1.25 , -2.   ,  0.   ],\n",
      "       [ 0.25 ,  0.25 ,  0.5  ,  0.   ],\n",
      "       [-1.625,  1.875,  0.625,  0.   ],\n",
      "       [ 1.125,  0.   ,  1.125,  0.   ],\n",
      "       [ 0.   ,  1.   ,  0.   ,  0.   ],\n",
      "       [ 1.875,  1.875,  0.   ,  0.   ],\n",
      "       [ 1.875, -1.75 ,  0.   ,  0.   ],\n",
      "       [-1.125, -0.625, -0.25 ,  0.   ],\n",
      "       [-0.125,  0.   ,  0.   ,  0.   ],\n",
      "       [-1.625,  0.125,  1.   ,  0.   ]], dtype=float32), array([ 0.9375,  0.9375,  0.4375, -0.5   ], dtype=float32), array([[ 0.75 ,  1.625,  1.875,  0.5  , -2.   , -2.   , -2.   ],\n",
      "       [-2.   , -2.   , -0.25 ,  0.5  ,  1.75 ,  1.875,  0.   ],\n",
      "       [-0.875, -0.25 ,  0.   ,  1.875,  0.   , -0.25 ,  0.   ],\n",
      "       [ 0.   ,  0.   ,  0.   ,  0.   ,  0.   ,  0.   ,  0.   ]],\n",
      "      dtype=float32), array([-1.  ,  0.25,  0.75,  0.75,  0.75, -0.75, -1.  ], dtype=float32)]\n",
      " ACCURACY IS 0.5496598482131958\n",
      "0       6\n",
      "1       6\n",
      "2       6\n",
      "3       6\n",
      "4       6\n",
      "       ..\n",
      "4893    6\n",
      "4894    5\n",
      "4895    6\n",
      "4896    7\n",
      "4897    6\n",
      "Name: Y, Length: 4898, dtype: int64\n",
      "[3 4 5 6 7 8 9]\n",
      "(3428, 11)\n",
      "INPUT IS 4NORM IS 16RELU IS 3 INT RELU1 WEIGHTS 1 ARE 2 BIASES 1 ARE 5 WEIGHTS 2 ARE 2 BIASES 2 ARE 2 SPARSITY : 0.8\n"
     ]
    },
    {
     "name": "stderr",
     "output_type": "stream",
     "text": [
      "/home/argykokk/miniconda3/envs/hls4ml-tutorial/lib/python3.8/site-packages/keras/initializers/initializers_v2.py:120: UserWarning: The initializer LecunUniform is unseeded and being called multiple times, which will return identical values  each time (even if the initializer is unseeded). Please update your code to provide a seed to the initializer, or avoid using the same initalizer instance more than once.\n",
      "  warnings.warn(\n"
     ]
    },
    {
     "name": "stdout",
     "output_type": "stream",
     "text": [
      "WARNING:tensorflow:`epsilon` argument is deprecated and will be removed, use `min_delta` instead.\n",
      "WARNING:tensorflow:`period` argument is deprecated. Please use `save_freq` to specify the frequency in number of batches seen.\n",
      "Epoch 1/2\n"
     ]
    },
    {
     "name": "stderr",
     "output_type": "stream",
     "text": [
      "/home/argykokk/miniconda3/envs/hls4ml-tutorial/lib/python3.8/site-packages/keras/optimizers/optimizer_v2/adam.py:114: UserWarning: The `lr` argument is deprecated, use `learning_rate` instead.\n",
      "  super().__init__(name, **kwargs)\n"
     ]
    },
    {
     "name": "stdout",
     "output_type": "stream",
     "text": [
      "   1/2742 [..............................] - ETA: 48:28 - loss: 1.7006 - accuracy: 0.0000e+00WARNING:tensorflow:Callback method `on_train_batch_end` is slow compared to the batch time (batch time: 0.0011s vs `on_train_batch_end` time: 0.0062s). Check your callbacks.\n",
      "2742/2742 [==============================] - 6s 2ms/step - loss: 1.4591 - accuracy: 0.3869 - val_loss: 1.2875 - val_accuracy: 0.4956 - lr: 0.0010\n",
      "Epoch 2/2\n",
      "2742/2742 [==============================] - 5s 2ms/step - loss: 1.2928 - accuracy: 0.4781 - val_loss: 1.2610 - val_accuracy: 0.4898 - lr: 0.0010\n",
      "... quantizing model\n",
      "46/46 [==============================] - 0s 1ms/step - loss: 1.2635 - accuracy: 0.4714\n",
      "[array([[-1., -1.,  0.,  0.],\n",
      "       [ 0., -1., -1.,  0.],\n",
      "       [ 0.,  0.,  0.,  0.],\n",
      "       [-1.,  1.,  0.,  0.],\n",
      "       [ 0.,  0.,  0.,  0.],\n",
      "       [ 0.,  0.,  0.,  0.],\n",
      "       [ 0.,  0.,  0.,  0.],\n",
      "       [ 1., -1.,  0.,  0.],\n",
      "       [ 0.,  0.,  0.,  0.],\n",
      "       [ 0.,  0.,  0.,  0.],\n",
      "       [-1.,  0.,  0.,  0.]], dtype=float32), array([ 0.9375,  0.9375,  0.9375, -0.5   ], dtype=float32), array([[ 0.,  0.,  1.,  0.,  0., -2., -2.],\n",
      "       [-2., -2.,  0.,  0.,  0.,  0.,  0.],\n",
      "       [ 0.,  0.,  0.,  1.,  0.,  0.,  0.],\n",
      "       [ 0.,  0.,  0.,  0.,  0.,  0.,  0.]], dtype=float32), array([-1. , -0.5,  0.5,  0.5,  0.5, -1. , -1. ], dtype=float32)]\n",
      " ACCURACY IS 0.4714285731315613\n",
      "0       6\n",
      "1       6\n",
      "2       6\n",
      "3       6\n",
      "4       6\n",
      "       ..\n",
      "4893    6\n",
      "4894    5\n",
      "4895    6\n",
      "4896    7\n",
      "4897    6\n",
      "Name: Y, Length: 4898, dtype: int64\n",
      "[3 4 5 6 7 8 9]\n",
      "(3428, 11)\n",
      "INPUT IS 4NORM IS 16RELU IS 3 INT RELU1 WEIGHTS 1 ARE 2 BIASES 1 ARE 6 WEIGHTS 2 ARE 2 BIASES 2 ARE 3 SPARSITY : 0.8\n",
      "WARNING:tensorflow:`epsilon` argument is deprecated and will be removed, use `min_delta` instead.\n",
      "WARNING:tensorflow:`period` argument is deprecated. Please use `save_freq` to specify the frequency in number of batches seen.\n"
     ]
    },
    {
     "name": "stderr",
     "output_type": "stream",
     "text": [
      "/home/argykokk/miniconda3/envs/hls4ml-tutorial/lib/python3.8/site-packages/keras/initializers/initializers_v2.py:120: UserWarning: The initializer LecunUniform is unseeded and being called multiple times, which will return identical values  each time (even if the initializer is unseeded). Please update your code to provide a seed to the initializer, or avoid using the same initalizer instance more than once.\n",
      "  warnings.warn(\n",
      "/home/argykokk/miniconda3/envs/hls4ml-tutorial/lib/python3.8/site-packages/keras/optimizers/optimizer_v2/adam.py:114: UserWarning: The `lr` argument is deprecated, use `learning_rate` instead.\n",
      "  super().__init__(name, **kwargs)\n"
     ]
    },
    {
     "name": "stdout",
     "output_type": "stream",
     "text": [
      "Epoch 1/2\n",
      "   1/2742 [..............................] - ETA: 47:16 - loss: 1.5526 - accuracy: 0.0000e+00WARNING:tensorflow:Callback method `on_train_batch_end` is slow compared to the batch time (batch time: 0.0014s vs `on_train_batch_end` time: 0.0049s). Check your callbacks.\n",
      "2742/2742 [==============================] - 6s 2ms/step - loss: 1.4338 - accuracy: 0.4023 - val_loss: 1.2664 - val_accuracy: 0.5029 - lr: 0.0010\n",
      "Epoch 2/2\n",
      "2742/2742 [==============================] - 5s 2ms/step - loss: 1.2861 - accuracy: 0.4905 - val_loss: 1.2571 - val_accuracy: 0.5160 - lr: 0.0010\n",
      "... quantizing model\n",
      "46/46 [==============================] - 0s 1ms/step - loss: 1.2574 - accuracy: 0.5095\n",
      "[array([[-1., -1.,  0.,  0.],\n",
      "       [ 0., -1., -2.,  0.],\n",
      "       [ 0.,  0.,  0.,  0.],\n",
      "       [-1.,  1.,  0.,  0.],\n",
      "       [ 0.,  0.,  0.,  0.],\n",
      "       [ 0.,  0.,  0.,  0.],\n",
      "       [ 0.,  0.,  0.,  0.],\n",
      "       [ 1., -1.,  0.,  0.],\n",
      "       [ 0.,  0.,  0.,  0.],\n",
      "       [ 0.,  0.,  0.,  0.],\n",
      "       [-1.,  0.,  0.,  0.]], dtype=float32), array([ 0.96875,  0.96875,  0.96875, -0.5    ], dtype=float32), array([[ 0.,  0.,  1.,  0.,  0., -2., -2.],\n",
      "       [-2., -2.,  0.,  0.,  0.,  0.,  0.],\n",
      "       [ 0.,  0.,  0.,  1.,  0.,  0.,  0.],\n",
      "       [ 0.,  0.,  0.,  0.,  0.,  0.,  0.]], dtype=float32), array([-1.  ,  0.  ,  0.75,  0.75,  0.5 , -0.75, -1.  ], dtype=float32)]\n",
      " ACCURACY IS 0.5095238089561462\n"
     ]
    }
   ],
   "source": [
    "true_weights_list=[]\n",
    "accuracy_list=[]\n",
    "for sol in tparetos:\n",
    "    identity=0\n",
    "    \n",
    "    import weightsharing as ws\n",
    "    from importlib import reload\n",
    "    \n",
    "    sparsity_val = float(sol[5]/10)\n",
    "    relusize_f = int(sol[0])\n",
    "    weight_size_f1 = int(sol[1])\n",
    "    bias_size_f1 = int(sol[2])\n",
    "    weight_size_f2 = int(sol[3])\n",
    "    bias_size_f2 = int(sol[4])\n",
    "    input_s = int(sol[6])\n",
    "    int_relu = int(sol[7])\n",
    "    int_w1=1\n",
    "    int_b1=0\n",
    "    int_w2=1\n",
    "    int_b2=0\n",
    "    input_size = int(input_s)\n",
    "\n",
    "    model = Sequential()\n",
    "\n",
    "    layer1=11\n",
    "    layer2=4\n",
    "    layer3=7\n",
    "    i=99\n",
    "    epochs=5\n",
    "    lr=0.001\n",
    "    X = df.drop('Y', axis = 1).values\n",
    "    y = df.Y\n",
    "    le = LabelEncoder()\n",
    "    print(y)\n",
    "    y = le.fit_transform(y)\n",
    "    print(le.classes_)\n",
    "    y = to_categorical(y, 7)\n",
    "    X_train,X_test,Y_train,Y_test = train_test_split(X,y,test_size=0.3,random_state=42)\n",
    "    print(X_train.shape)\n",
    "    # reload(pv)\n",
    "    # model=pv.generate(i,relusize_f,weight_size_f1,bias_size_f1,weight_size_f2,bias_size_f2,sparsity,inputsize,relusize_int,layer1,layer2,layer3,lr,epochs,X_train,Y_train,X_test,Y_test,wb1,wb2)\n",
    "    norm = 2**input_s\n",
    "    sc = MinMaxScaler(feature_range=(0,0.9))\n",
    "    X_train = sc.fit_transform(X_train)\n",
    "    X_test = sc.transform(X_test)\n",
    "    for i in range(0,len(X_train)):\n",
    "        X_train[i] = [int(x*norm)/norm for x in X_train[i]]\n",
    "    for i in range(0,len(X_test)):\n",
    "        X_test[i] = [int(x*norm)/norm for x in X_test[i]]\n",
    "\n",
    "\n",
    "    print(\"INPUT IS \" + str(input_s)+ \"NORM IS \" + str(norm)+ \"RELU IS \"+str(relusize_f)+\" INT RELU\" +str(int_relu)+\" WEIGHTS 1 ARE \"+str(weight_size_f1)+\" BIASES 1 ARE \"+str(bias_size_f1)+\" WEIGHTS 2 ARE \"+str(weight_size_f2)+\" BIASES 2 ARE \"+str(bias_size_f2)+\" SPARSITY : \"+str(sparsity_val))\n",
    "\n",
    "    weight_bias_size=[ [ (weight_size_f1,2), (bias_size_f1,1) ], [ (weight_size_f2,2), (bias_size_f2,1) ] ]\n",
    "    relu_size=(relusize_f,int_relu)\n",
    "\n",
    "    model.add(QDense(layer2, input_shape=(layer1,), name='fc1', kernel_quantizer=quantized_bits(weight_bias_size[0][0][0],1,alpha=1,use_stochastic_rounding=True),bias_quantizer=quantized_bits(weight_bias_size[0][1][0],0,alpha=1),\n",
    "                    kernel_initializer='lecun_uniform', kernel_regularizer=l1(0.0001)   ))\n",
    "    model.add(QActivation(activation=quantized_relu(relu_size[0],relu_size[1],use_stochastic_rounding=False), name='relu1'))\n",
    "    model.add(QDense(layer3, name='output',\n",
    "                    kernel_quantizer=quantized_bits(weight_bias_size[1][0][0],1,alpha=1,use_stochastic_rounding=True), bias_quantizer=quantized_bits(weight_bias_size[1][1][0],0,alpha=1),\n",
    "                    kernel_initializer='lecun_uniform', kernel_regularizer=l1(0.0001 ) ))\n",
    "    model.add(Activation(activation='softmax', name='softmax'))\n",
    "\n",
    "\n",
    "    pruning_params = {\"pruning_schedule\" : pruning_schedule.ConstantSparsity(sparsity_val, begin_step=300, frequency=100)}\n",
    "    model = prune.prune_low_magnitude(model, **pruning_params)\n",
    "\n",
    "    model.layers[0].set_weights(wb1)\n",
    "    model.layers[2].set_weights(wb2)\n",
    "\n",
    "    adam = Adam(lr=0.001)\n",
    "\n",
    "    model.compile(optimizer=adam, loss=['categorical_crossentropy'], metrics=['accuracy'])\n",
    "    callbacks= all_callbacks( outputDir = 'seeds_classification_prune')\n",
    "    callbacks.callbacks.append(pruning_callbacks.UpdatePruningStep())\n",
    "    model.fit(X_train, Y_train, batch_size=1,\n",
    "                epochs=2,validation_split=0.2, verbose=1, shuffle=True,\n",
    "                callbacks = callbacks.callbacks);\n",
    "    model = strip_pruning(model)\n",
    "    model.compile(optimizer=adam, loss=['categorical_crossentropy'], metrics=['accuracy'])\n",
    "    model_save_quantized_weights(model, \"test_weights\")\n",
    "\n",
    "\n",
    "    accuracy=model.evaluate(X_test,Y_test)\n",
    "    print(model.get_weights())\n",
    "    print(\" ACCURACY IS \"+str(accuracy[1]) )\n",
    "\n",
    "\n",
    "    weights=model.trainable_variables\n",
    "    weights1=model.trainable_variables\n",
    "    true_weights_list.append(model.trainable_variables)\n",
    "    accuracy_list.append(accuracy[1])"
   ]
  },
  {
   "cell_type": "code",
   "execution_count": 43,
   "metadata": {},
   "outputs": [
    {
     "data": {
      "text/plain": [
       "[0.5190476179122925,\n",
       " 0.5367347002029419,\n",
       " 0.5496598482131958,\n",
       " 0.4714285731315613,\n",
       " 0.5095238089561462]"
      ]
     },
     "execution_count": 43,
     "metadata": {},
     "output_type": "execute_result"
    }
   ],
   "source": [
    "accuracy_list"
   ]
  },
  {
   "cell_type": "code",
   "execution_count": 70,
   "metadata": {},
   "outputs": [
    {
     "data": {
      "text/plain": [
       "[<tf.Variable 'fc1/kernel:0' shape=(11, 4) dtype=float32, numpy=\n",
       " array([[-1.5  , -1.5  , -0.625,  0.   ],\n",
       "        [ 1.5  , -1.25 , -2.   ,  0.   ],\n",
       "        [ 0.25 ,  0.25 ,  0.5  ,  0.   ],\n",
       "        [-1.625,  1.875,  0.625,  0.   ],\n",
       "        [ 1.125,  0.   ,  1.125,  0.   ],\n",
       "        [ 0.   ,  1.   ,  0.   ,  0.   ],\n",
       "        [ 1.875,  1.875,  0.   ,  0.   ],\n",
       "        [ 1.875, -1.75 ,  0.   ,  0.   ],\n",
       "        [-1.125, -0.625, -0.25 ,  0.   ],\n",
       "        [-0.125,  0.   ,  0.   ,  0.   ],\n",
       "        [-1.625,  0.125,  1.   ,  0.   ]], dtype=float32)>,\n",
       " <tf.Variable 'fc1/bias:0' shape=(4,) dtype=float32, numpy=array([ 0.9375,  0.9375,  0.4375, -0.5   ], dtype=float32)>,\n",
       " <tf.Variable 'output/kernel:0' shape=(4, 7) dtype=float32, numpy=\n",
       " array([[ 0.75 ,  1.625,  1.875,  0.5  , -2.   , -2.   , -2.   ],\n",
       "        [-2.   , -2.   , -0.25 ,  0.5  ,  1.75 ,  1.875,  0.   ],\n",
       "        [-0.875, -0.25 ,  0.   ,  1.875,  0.   , -0.25 ,  0.   ],\n",
       "        [ 0.   ,  0.   ,  0.   ,  0.   ,  0.   ,  0.   ,  0.   ]],\n",
       "       dtype=float32)>,\n",
       " <tf.Variable 'output/bias:0' shape=(7,) dtype=float32, numpy=array([-1.  ,  0.25,  0.75,  0.75,  0.75, -0.75, -1.  ], dtype=float32)>]"
      ]
     },
     "execution_count": 70,
     "metadata": {},
     "output_type": "execute_result"
    }
   ],
   "source": [
    "true_weights_list[2]"
   ]
  },
  {
   "cell_type": "markdown",
   "metadata": {},
   "source": [
    "### END OF WEIGHT SHARING OF TRUE PARETO"
   ]
  },
  {
   "cell_type": "code",
   "execution_count": 58,
   "metadata": {},
   "outputs": [
    {
     "data": {
      "text/plain": [
       "[<tf.Variable 'fc1/kernel:0' shape=(11, 4) dtype=float32, numpy=\n",
       " array([[-1.5  , -1.5  , -0.625,  0.   ],\n",
       "        [ 1.5  , -1.25 , -2.   ,  0.   ],\n",
       "        [ 0.25 ,  0.25 ,  0.5  ,  0.   ],\n",
       "        [-1.625,  1.875,  0.625,  0.   ],\n",
       "        [ 1.125,  0.   ,  1.125,  0.   ],\n",
       "        [ 0.   ,  1.   ,  0.   ,  0.   ],\n",
       "        [ 1.875,  1.875,  0.   ,  0.   ],\n",
       "        [ 1.875, -1.75 ,  0.   ,  0.   ],\n",
       "        [-1.125, -0.625, -0.25 ,  0.   ],\n",
       "        [-0.125,  0.   ,  0.   ,  0.   ],\n",
       "        [-1.625,  0.125,  1.   ,  0.   ]], dtype=float32)>,\n",
       " <tf.Variable 'fc1/bias:0' shape=(4,) dtype=float32, numpy=array([ 0.9375,  0.9375,  0.4375, -0.5   ], dtype=float32)>,\n",
       " <tf.Variable 'output/kernel:0' shape=(4, 7) dtype=float32, numpy=\n",
       " array([[ 0.75 ,  1.625,  1.875,  0.5  , -2.   , -2.   , -2.   ],\n",
       "        [-2.   , -2.   , -0.25 ,  0.5  ,  1.75 ,  1.875,  0.   ],\n",
       "        [-0.875, -0.25 ,  0.   ,  1.875,  0.   , -0.25 ,  0.   ],\n",
       "        [ 0.   ,  0.   ,  0.   ,  0.   ,  0.   ,  0.   ,  0.   ]],\n",
       "       dtype=float32)>,\n",
       " <tf.Variable 'output/bias:0' shape=(7,) dtype=float32, numpy=array([-1.  ,  0.25,  0.75,  0.75,  0.75, -0.75, -1.  ], dtype=float32)>]"
      ]
     },
     "execution_count": 58,
     "metadata": {},
     "output_type": "execute_result"
    }
   ],
   "source": [
    "true_weights_list[2]"
   ]
  },
  {
   "cell_type": "code",
   "execution_count": 98,
   "metadata": {},
   "outputs": [],
   "source": [
    "import pareto_sharing as ps"
   ]
  },
  {
   "cell_type": "code",
   "execution_count": 99,
   "metadata": {},
   "outputs": [
    {
     "name": "stderr",
     "output_type": "stream",
     "text": [
      "/home/argykokk/miniconda3/envs/hls4ml-tutorial/lib/python3.8/site-packages/keras/initializers/initializers_v2.py:120: UserWarning: The initializer LecunUniform is unseeded and being called multiple times, which will return identical values  each time (even if the initializer is unseeded). Please update your code to provide a seed to the initializer, or avoid using the same initalizer instance more than once.\n",
      "  warnings.warn(\n"
     ]
    },
    {
     "name": "stdout",
     "output_type": "stream",
     "text": [
      "frozen dataset 0\n",
      "frozen dataset 1\n",
      "frozen dataset 2\n",
      "frozen dataset 3\n",
      "frozen dataset 4\n",
      "frozen dataset 5\n",
      "frozen dataset 6\n",
      "frozen dataset 7\n",
      "frozen dataset 8\n",
      "frozen dataset 9\n",
      "frozen dataset 10\n"
     ]
    },
    {
     "name": "stderr",
     "output_type": "stream",
     "text": [
      "/home/argykokk/miniconda3/envs/hls4ml-tutorial/lib/python3.8/site-packages/keras/optimizers/optimizer_v2/adam.py:114: UserWarning: The `lr` argument is deprecated, use `learning_rate` instead.\n",
      "  super().__init__(name, **kwargs)\n"
     ]
    },
    {
     "name": "stdout",
     "output_type": "stream",
     "text": [
      "frozen dataset 0\n",
      "frozen dataset 1\n",
      "frozen dataset 2\n",
      "frozen dataset 3\n"
     ]
    },
    {
     "name": "stderr",
     "output_type": "stream",
     "text": [
      "/home/argykokk/miniconda3/envs/hls4ml-tutorial/lib/python3.8/site-packages/keras/optimizers/optimizer_v2/adam.py:114: UserWarning: The `lr` argument is deprecated, use `learning_rate` instead.\n",
      "  super().__init__(name, **kwargs)\n"
     ]
    },
    {
     "name": "stdout",
     "output_type": "stream",
     "text": [
      "46/46 [==============================] - 0s 1ms/step - loss: 1.2462 - accuracy: 0.5190\n",
      "accuracy = 0.5190476179122925\n",
      "Interpreting Sequential\n",
      "Topology:\n",
      "Layer name: fc1_input, layer type: Input\n",
      "Layer name: fc1, layer type: QDense\n",
      "Layer name: relu1, layer type: QActivation\n",
      "Layer name: output, layer type: QDense\n",
      "Layer name: softmax, layer type: Activation\n",
      "copy top.v, sim.Xtest, and sim.Ytest to the synopsys project \n"
     ]
    },
    {
     "name": "stderr",
     "output_type": "stream",
     "text": [
      "/home/argykokk/miniconda3/envs/hls4ml-tutorial/lib/python3.8/site-packages/keras/initializers/initializers_v2.py:120: UserWarning: The initializer LecunUniform is unseeded and being called multiple times, which will return identical values  each time (even if the initializer is unseeded). Please update your code to provide a seed to the initializer, or avoid using the same initalizer instance more than once.\n",
      "  warnings.warn(\n"
     ]
    },
    {
     "name": "stdout",
     "output_type": "stream",
     "text": [
      "frozen dataset 0\n",
      "frozen dataset 1\n",
      "frozen dataset 2\n",
      "frozen dataset 3\n",
      "frozen dataset 4\n",
      "frozen dataset 5\n",
      "frozen dataset 6\n",
      "frozen dataset 7\n",
      "frozen dataset 8\n",
      "frozen dataset 9\n",
      "frozen dataset 10\n"
     ]
    },
    {
     "name": "stderr",
     "output_type": "stream",
     "text": [
      "/home/argykokk/miniconda3/envs/hls4ml-tutorial/lib/python3.8/site-packages/keras/optimizers/optimizer_v2/adam.py:114: UserWarning: The `lr` argument is deprecated, use `learning_rate` instead.\n",
      "  super().__init__(name, **kwargs)\n"
     ]
    },
    {
     "name": "stdout",
     "output_type": "stream",
     "text": [
      "frozen dataset 0\n",
      "frozen dataset 1\n",
      "frozen dataset 2\n",
      "frozen dataset 3\n"
     ]
    },
    {
     "name": "stderr",
     "output_type": "stream",
     "text": [
      "/home/argykokk/miniconda3/envs/hls4ml-tutorial/lib/python3.8/site-packages/keras/optimizers/optimizer_v2/adam.py:114: UserWarning: The `lr` argument is deprecated, use `learning_rate` instead.\n",
      "  super().__init__(name, **kwargs)\n"
     ]
    },
    {
     "name": "stdout",
     "output_type": "stream",
     "text": [
      "46/46 [==============================] - 0s 1ms/step - loss: 1.2462 - accuracy: 0.5190\n",
      "accuracy = 0.5190476179122925\n",
      "Interpreting Sequential\n",
      "Topology:\n",
      "Layer name: fc1_input, layer type: Input\n",
      "Layer name: fc1, layer type: QDense\n",
      "Layer name: relu1, layer type: QActivation\n",
      "Layer name: output, layer type: QDense\n",
      "Layer name: softmax, layer type: Activation\n",
      "copy top.v, sim.Xtest, and sim.Ytest to the synopsys project \n"
     ]
    },
    {
     "name": "stderr",
     "output_type": "stream",
     "text": [
      "/home/argykokk/miniconda3/envs/hls4ml-tutorial/lib/python3.8/site-packages/keras/initializers/initializers_v2.py:120: UserWarning: The initializer LecunUniform is unseeded and being called multiple times, which will return identical values  each time (even if the initializer is unseeded). Please update your code to provide a seed to the initializer, or avoid using the same initalizer instance more than once.\n",
      "  warnings.warn(\n"
     ]
    },
    {
     "name": "stdout",
     "output_type": "stream",
     "text": [
      "frozen dataset 0\n",
      "frozen dataset 1\n",
      "frozen dataset 2\n",
      "frozen dataset 3\n",
      "frozen dataset 4\n",
      "frozen dataset 5\n",
      "frozen dataset 6\n",
      "frozen dataset 7\n",
      "frozen dataset 8\n",
      "frozen dataset 9\n",
      "frozen dataset 10\n"
     ]
    },
    {
     "name": "stderr",
     "output_type": "stream",
     "text": [
      "/home/argykokk/miniconda3/envs/hls4ml-tutorial/lib/python3.8/site-packages/keras/optimizers/optimizer_v2/adam.py:114: UserWarning: The `lr` argument is deprecated, use `learning_rate` instead.\n",
      "  super().__init__(name, **kwargs)\n"
     ]
    },
    {
     "name": "stdout",
     "output_type": "stream",
     "text": [
      "frozen dataset 0\n",
      "frozen dataset 1\n",
      "frozen dataset 2\n",
      "frozen dataset 3\n"
     ]
    },
    {
     "name": "stderr",
     "output_type": "stream",
     "text": [
      "/home/argykokk/miniconda3/envs/hls4ml-tutorial/lib/python3.8/site-packages/keras/optimizers/optimizer_v2/adam.py:114: UserWarning: The `lr` argument is deprecated, use `learning_rate` instead.\n",
      "  super().__init__(name, **kwargs)\n"
     ]
    },
    {
     "name": "stdout",
     "output_type": "stream",
     "text": [
      "46/46 [==============================] - 0s 1ms/step - loss: 1.2462 - accuracy: 0.5190\n",
      "accuracy = 0.5190476179122925\n",
      "Interpreting Sequential\n",
      "Topology:\n",
      "Layer name: fc1_input, layer type: Input\n",
      "Layer name: fc1, layer type: QDense\n",
      "Layer name: relu1, layer type: QActivation\n",
      "Layer name: output, layer type: QDense\n",
      "Layer name: softmax, layer type: Activation\n",
      "copy top.v, sim.Xtest, and sim.Ytest to the synopsys project \n"
     ]
    },
    {
     "name": "stderr",
     "output_type": "stream",
     "text": [
      "/home/argykokk/miniconda3/envs/hls4ml-tutorial/lib/python3.8/site-packages/keras/initializers/initializers_v2.py:120: UserWarning: The initializer LecunUniform is unseeded and being called multiple times, which will return identical values  each time (even if the initializer is unseeded). Please update your code to provide a seed to the initializer, or avoid using the same initalizer instance more than once.\n",
      "  warnings.warn(\n"
     ]
    },
    {
     "name": "stdout",
     "output_type": "stream",
     "text": [
      "frozen dataset 0\n",
      "frozen dataset 1\n",
      "frozen dataset 2\n",
      "frozen dataset 3\n",
      "frozen dataset 4\n",
      "frozen dataset 5\n",
      "frozen dataset 6\n",
      "frozen dataset 7\n",
      "frozen dataset 8\n",
      "frozen dataset 9\n",
      "frozen dataset 10\n"
     ]
    },
    {
     "name": "stderr",
     "output_type": "stream",
     "text": [
      "/home/argykokk/miniconda3/envs/hls4ml-tutorial/lib/python3.8/site-packages/keras/optimizers/optimizer_v2/adam.py:114: UserWarning: The `lr` argument is deprecated, use `learning_rate` instead.\n",
      "  super().__init__(name, **kwargs)\n"
     ]
    },
    {
     "name": "stdout",
     "output_type": "stream",
     "text": [
      "frozen dataset 0\n",
      "frozen dataset 1\n",
      "frozen dataset 2\n",
      "frozen dataset 3\n"
     ]
    },
    {
     "name": "stderr",
     "output_type": "stream",
     "text": [
      "/home/argykokk/miniconda3/envs/hls4ml-tutorial/lib/python3.8/site-packages/keras/optimizers/optimizer_v2/adam.py:114: UserWarning: The `lr` argument is deprecated, use `learning_rate` instead.\n",
      "  super().__init__(name, **kwargs)\n"
     ]
    },
    {
     "name": "stdout",
     "output_type": "stream",
     "text": [
      "46/46 [==============================] - 0s 1ms/step - loss: 1.2462 - accuracy: 0.5190\n",
      "accuracy = 0.5190476179122925\n",
      "Interpreting Sequential\n",
      "Topology:\n",
      "Layer name: fc1_input, layer type: Input\n",
      "Layer name: fc1, layer type: QDense\n",
      "Layer name: relu1, layer type: QActivation\n",
      "Layer name: output, layer type: QDense\n",
      "Layer name: softmax, layer type: Activation\n",
      "copy top.v, sim.Xtest, and sim.Ytest to the synopsys project \n"
     ]
    },
    {
     "name": "stderr",
     "output_type": "stream",
     "text": [
      "/home/argykokk/miniconda3/envs/hls4ml-tutorial/lib/python3.8/site-packages/keras/initializers/initializers_v2.py:120: UserWarning: The initializer LecunUniform is unseeded and being called multiple times, which will return identical values  each time (even if the initializer is unseeded). Please update your code to provide a seed to the initializer, or avoid using the same initalizer instance more than once.\n",
      "  warnings.warn(\n"
     ]
    },
    {
     "name": "stdout",
     "output_type": "stream",
     "text": [
      "frozen dataset 0\n",
      "frozen dataset 1\n",
      "frozen dataset 2\n",
      "frozen dataset 3\n",
      "frozen dataset 4\n",
      "frozen dataset 5\n",
      "frozen dataset 6\n",
      "frozen dataset 7\n",
      "frozen dataset 8\n",
      "frozen dataset 9\n",
      "frozen dataset 10\n"
     ]
    },
    {
     "name": "stderr",
     "output_type": "stream",
     "text": [
      "/home/argykokk/miniconda3/envs/hls4ml-tutorial/lib/python3.8/site-packages/keras/optimizers/optimizer_v2/adam.py:114: UserWarning: The `lr` argument is deprecated, use `learning_rate` instead.\n",
      "  super().__init__(name, **kwargs)\n"
     ]
    },
    {
     "name": "stdout",
     "output_type": "stream",
     "text": [
      "frozen dataset 0\n",
      "frozen dataset 1\n",
      "frozen dataset 2\n",
      "frozen dataset 3\n"
     ]
    },
    {
     "name": "stderr",
     "output_type": "stream",
     "text": [
      "/home/argykokk/miniconda3/envs/hls4ml-tutorial/lib/python3.8/site-packages/keras/optimizers/optimizer_v2/adam.py:114: UserWarning: The `lr` argument is deprecated, use `learning_rate` instead.\n",
      "  super().__init__(name, **kwargs)\n"
     ]
    },
    {
     "name": "stdout",
     "output_type": "stream",
     "text": [
      "46/46 [==============================] - 0s 1ms/step - loss: 1.2462 - accuracy: 0.5190\n",
      "accuracy = 0.5190476179122925\n",
      "Interpreting Sequential\n",
      "Topology:\n",
      "Layer name: fc1_input, layer type: Input\n",
      "Layer name: fc1, layer type: QDense\n",
      "Layer name: relu1, layer type: QActivation\n",
      "Layer name: output, layer type: QDense\n",
      "Layer name: softmax, layer type: Activation\n",
      "copy top.v, sim.Xtest, and sim.Ytest to the synopsys project \n"
     ]
    },
    {
     "name": "stderr",
     "output_type": "stream",
     "text": [
      "/home/argykokk/miniconda3/envs/hls4ml-tutorial/lib/python3.8/site-packages/keras/initializers/initializers_v2.py:120: UserWarning: The initializer LecunUniform is unseeded and being called multiple times, which will return identical values  each time (even if the initializer is unseeded). Please update your code to provide a seed to the initializer, or avoid using the same initalizer instance more than once.\n",
      "  warnings.warn(\n"
     ]
    },
    {
     "name": "stdout",
     "output_type": "stream",
     "text": [
      "frozen dataset 0\n",
      "frozen dataset 1\n",
      "frozen dataset 2\n",
      "frozen dataset 3\n",
      "frozen dataset 4\n",
      "frozen dataset 5\n",
      "frozen dataset 6\n",
      "frozen dataset 7\n",
      "frozen dataset 8\n",
      "frozen dataset 9\n",
      "frozen dataset 10\n"
     ]
    },
    {
     "name": "stderr",
     "output_type": "stream",
     "text": [
      "/home/argykokk/miniconda3/envs/hls4ml-tutorial/lib/python3.8/site-packages/keras/optimizers/optimizer_v2/adam.py:114: UserWarning: The `lr` argument is deprecated, use `learning_rate` instead.\n",
      "  super().__init__(name, **kwargs)\n"
     ]
    },
    {
     "name": "stdout",
     "output_type": "stream",
     "text": [
      "frozen dataset 0\n",
      "frozen dataset 1\n",
      "frozen dataset 2\n",
      "frozen dataset 3\n"
     ]
    },
    {
     "name": "stderr",
     "output_type": "stream",
     "text": [
      "/home/argykokk/miniconda3/envs/hls4ml-tutorial/lib/python3.8/site-packages/keras/optimizers/optimizer_v2/adam.py:114: UserWarning: The `lr` argument is deprecated, use `learning_rate` instead.\n",
      "  super().__init__(name, **kwargs)\n"
     ]
    },
    {
     "name": "stdout",
     "output_type": "stream",
     "text": [
      "46/46 [==============================] - 0s 1ms/step - loss: 1.2462 - accuracy: 0.5190\n",
      "accuracy = 0.5190476179122925\n",
      "Interpreting Sequential\n",
      "Topology:\n",
      "Layer name: fc1_input, layer type: Input\n",
      "Layer name: fc1, layer type: QDense\n",
      "Layer name: relu1, layer type: QActivation\n",
      "Layer name: output, layer type: QDense\n",
      "Layer name: softmax, layer type: Activation\n",
      "copy top.v, sim.Xtest, and sim.Ytest to the synopsys project \n"
     ]
    },
    {
     "name": "stderr",
     "output_type": "stream",
     "text": [
      "/home/argykokk/miniconda3/envs/hls4ml-tutorial/lib/python3.8/site-packages/keras/initializers/initializers_v2.py:120: UserWarning: The initializer LecunUniform is unseeded and being called multiple times, which will return identical values  each time (even if the initializer is unseeded). Please update your code to provide a seed to the initializer, or avoid using the same initalizer instance more than once.\n",
      "  warnings.warn(\n"
     ]
    },
    {
     "name": "stdout",
     "output_type": "stream",
     "text": [
      "frozen dataset 0\n",
      "frozen dataset 1\n",
      "frozen dataset 2\n",
      "frozen dataset 3\n",
      "frozen dataset 4\n",
      "frozen dataset 5\n",
      "frozen dataset 6\n",
      "frozen dataset 7\n",
      "frozen dataset 8\n",
      "frozen dataset 9\n",
      "frozen dataset 10\n"
     ]
    },
    {
     "name": "stderr",
     "output_type": "stream",
     "text": [
      "/home/argykokk/miniconda3/envs/hls4ml-tutorial/lib/python3.8/site-packages/keras/optimizers/optimizer_v2/adam.py:114: UserWarning: The `lr` argument is deprecated, use `learning_rate` instead.\n",
      "  super().__init__(name, **kwargs)\n"
     ]
    },
    {
     "name": "stdout",
     "output_type": "stream",
     "text": [
      "frozen dataset 0\n",
      "frozen dataset 1\n",
      "frozen dataset 2\n",
      "frozen dataset 3\n"
     ]
    },
    {
     "name": "stderr",
     "output_type": "stream",
     "text": [
      "/home/argykokk/miniconda3/envs/hls4ml-tutorial/lib/python3.8/site-packages/keras/optimizers/optimizer_v2/adam.py:114: UserWarning: The `lr` argument is deprecated, use `learning_rate` instead.\n",
      "  super().__init__(name, **kwargs)\n"
     ]
    },
    {
     "name": "stdout",
     "output_type": "stream",
     "text": [
      "46/46 [==============================] - 0s 1ms/step - loss: 1.2462 - accuracy: 0.5190\n",
      "accuracy = 0.5190476179122925\n",
      "Interpreting Sequential\n",
      "Topology:\n",
      "Layer name: fc1_input, layer type: Input\n",
      "Layer name: fc1, layer type: QDense\n",
      "Layer name: relu1, layer type: QActivation\n",
      "Layer name: output, layer type: QDense\n",
      "Layer name: softmax, layer type: Activation\n",
      "copy top.v, sim.Xtest, and sim.Ytest to the synopsys project \n"
     ]
    },
    {
     "name": "stderr",
     "output_type": "stream",
     "text": [
      "/home/argykokk/miniconda3/envs/hls4ml-tutorial/lib/python3.8/site-packages/keras/initializers/initializers_v2.py:120: UserWarning: The initializer LecunUniform is unseeded and being called multiple times, which will return identical values  each time (even if the initializer is unseeded). Please update your code to provide a seed to the initializer, or avoid using the same initalizer instance more than once.\n",
      "  warnings.warn(\n"
     ]
    },
    {
     "name": "stdout",
     "output_type": "stream",
     "text": [
      "frozen dataset 0\n",
      "frozen dataset 1\n",
      "frozen dataset 2\n",
      "frozen dataset 3\n",
      "frozen dataset 4\n",
      "frozen dataset 5\n",
      "frozen dataset 6\n",
      "frozen dataset 7\n",
      "frozen dataset 8\n",
      "frozen dataset 9\n",
      "frozen dataset 10\n"
     ]
    },
    {
     "name": "stderr",
     "output_type": "stream",
     "text": [
      "/home/argykokk/miniconda3/envs/hls4ml-tutorial/lib/python3.8/site-packages/keras/optimizers/optimizer_v2/adam.py:114: UserWarning: The `lr` argument is deprecated, use `learning_rate` instead.\n",
      "  super().__init__(name, **kwargs)\n"
     ]
    },
    {
     "name": "stdout",
     "output_type": "stream",
     "text": [
      "frozen dataset 0\n",
      "frozen dataset 1\n",
      "frozen dataset 2\n",
      "frozen dataset 3\n"
     ]
    },
    {
     "name": "stderr",
     "output_type": "stream",
     "text": [
      "/home/argykokk/miniconda3/envs/hls4ml-tutorial/lib/python3.8/site-packages/keras/optimizers/optimizer_v2/adam.py:114: UserWarning: The `lr` argument is deprecated, use `learning_rate` instead.\n",
      "  super().__init__(name, **kwargs)\n"
     ]
    },
    {
     "name": "stdout",
     "output_type": "stream",
     "text": [
      "46/46 [==============================] - 0s 1ms/step - loss: 1.2462 - accuracy: 0.5190\n",
      "accuracy = 0.5190476179122925\n",
      "Interpreting Sequential\n",
      "Topology:\n",
      "Layer name: fc1_input, layer type: Input\n",
      "Layer name: fc1, layer type: QDense\n",
      "Layer name: relu1, layer type: QActivation\n",
      "Layer name: output, layer type: QDense\n",
      "Layer name: softmax, layer type: Activation\n",
      "copy top.v, sim.Xtest, and sim.Ytest to the synopsys project \n"
     ]
    },
    {
     "name": "stderr",
     "output_type": "stream",
     "text": [
      "/home/argykokk/miniconda3/envs/hls4ml-tutorial/lib/python3.8/site-packages/keras/initializers/initializers_v2.py:120: UserWarning: The initializer LecunUniform is unseeded and being called multiple times, which will return identical values  each time (even if the initializer is unseeded). Please update your code to provide a seed to the initializer, or avoid using the same initalizer instance more than once.\n",
      "  warnings.warn(\n"
     ]
    },
    {
     "name": "stdout",
     "output_type": "stream",
     "text": [
      "frozen dataset 0\n",
      "frozen dataset 1\n",
      "frozen dataset 2\n",
      "frozen dataset 3\n",
      "frozen dataset 4\n",
      "frozen dataset 5\n",
      "frozen dataset 6\n",
      "frozen dataset 7\n",
      "frozen dataset 8\n",
      "frozen dataset 9\n",
      "frozen dataset 10\n"
     ]
    },
    {
     "name": "stderr",
     "output_type": "stream",
     "text": [
      "/home/argykokk/miniconda3/envs/hls4ml-tutorial/lib/python3.8/site-packages/keras/optimizers/optimizer_v2/adam.py:114: UserWarning: The `lr` argument is deprecated, use `learning_rate` instead.\n",
      "  super().__init__(name, **kwargs)\n"
     ]
    },
    {
     "name": "stdout",
     "output_type": "stream",
     "text": [
      "frozen dataset 0\n",
      "frozen dataset 1\n",
      "frozen dataset 2\n",
      "frozen dataset 3\n"
     ]
    },
    {
     "name": "stderr",
     "output_type": "stream",
     "text": [
      "/home/argykokk/miniconda3/envs/hls4ml-tutorial/lib/python3.8/site-packages/keras/optimizers/optimizer_v2/adam.py:114: UserWarning: The `lr` argument is deprecated, use `learning_rate` instead.\n",
      "  super().__init__(name, **kwargs)\n"
     ]
    },
    {
     "name": "stdout",
     "output_type": "stream",
     "text": [
      "46/46 [==============================] - 0s 1ms/step - loss: 1.2462 - accuracy: 0.5190\n",
      "accuracy = 0.5190476179122925\n",
      "Interpreting Sequential\n",
      "Topology:\n",
      "Layer name: fc1_input, layer type: Input\n",
      "Layer name: fc1, layer type: QDense\n",
      "Layer name: relu1, layer type: QActivation\n",
      "Layer name: output, layer type: QDense\n",
      "Layer name: softmax, layer type: Activation\n",
      "copy top.v, sim.Xtest, and sim.Ytest to the synopsys project \n"
     ]
    },
    {
     "name": "stderr",
     "output_type": "stream",
     "text": [
      "/home/argykokk/miniconda3/envs/hls4ml-tutorial/lib/python3.8/site-packages/keras/initializers/initializers_v2.py:120: UserWarning: The initializer LecunUniform is unseeded and being called multiple times, which will return identical values  each time (even if the initializer is unseeded). Please update your code to provide a seed to the initializer, or avoid using the same initalizer instance more than once.\n",
      "  warnings.warn(\n"
     ]
    },
    {
     "name": "stdout",
     "output_type": "stream",
     "text": [
      "frozen dataset 0\n",
      "frozen dataset 1\n",
      "frozen dataset 2\n",
      "frozen dataset 3\n",
      "frozen dataset 4\n",
      "frozen dataset 5\n",
      "frozen dataset 6\n",
      "frozen dataset 7\n",
      "frozen dataset 8\n",
      "frozen dataset 9\n",
      "frozen dataset 10\n"
     ]
    },
    {
     "name": "stderr",
     "output_type": "stream",
     "text": [
      "/home/argykokk/miniconda3/envs/hls4ml-tutorial/lib/python3.8/site-packages/keras/optimizers/optimizer_v2/adam.py:114: UserWarning: The `lr` argument is deprecated, use `learning_rate` instead.\n",
      "  super().__init__(name, **kwargs)\n"
     ]
    },
    {
     "name": "stdout",
     "output_type": "stream",
     "text": [
      "frozen dataset 0\n",
      "frozen dataset 1\n",
      "frozen dataset 2\n",
      "frozen dataset 3\n"
     ]
    },
    {
     "name": "stderr",
     "output_type": "stream",
     "text": [
      "/home/argykokk/miniconda3/envs/hls4ml-tutorial/lib/python3.8/site-packages/keras/optimizers/optimizer_v2/adam.py:114: UserWarning: The `lr` argument is deprecated, use `learning_rate` instead.\n",
      "  super().__init__(name, **kwargs)\n"
     ]
    },
    {
     "name": "stdout",
     "output_type": "stream",
     "text": [
      "46/46 [==============================] - 0s 1ms/step - loss: 1.2462 - accuracy: 0.5190\n",
      "accuracy = 0.5190476179122925\n",
      "Interpreting Sequential\n",
      "Topology:\n",
      "Layer name: fc1_input, layer type: Input\n",
      "Layer name: fc1, layer type: QDense\n",
      "Layer name: relu1, layer type: QActivation\n",
      "Layer name: output, layer type: QDense\n",
      "Layer name: softmax, layer type: Activation\n",
      "copy top.v, sim.Xtest, and sim.Ytest to the synopsys project \n"
     ]
    },
    {
     "name": "stderr",
     "output_type": "stream",
     "text": [
      "/home/argykokk/miniconda3/envs/hls4ml-tutorial/lib/python3.8/site-packages/keras/initializers/initializers_v2.py:120: UserWarning: The initializer LecunUniform is unseeded and being called multiple times, which will return identical values  each time (even if the initializer is unseeded). Please update your code to provide a seed to the initializer, or avoid using the same initalizer instance more than once.\n",
      "  warnings.warn(\n"
     ]
    },
    {
     "name": "stdout",
     "output_type": "stream",
     "text": [
      "frozen dataset 0\n",
      "frozen dataset 1\n",
      "frozen dataset 2\n",
      "frozen dataset 3\n",
      "frozen dataset 4\n",
      "frozen dataset 5\n",
      "frozen dataset 6\n",
      "frozen dataset 7\n",
      "frozen dataset 8\n",
      "frozen dataset 9\n",
      "frozen dataset 10\n"
     ]
    },
    {
     "name": "stderr",
     "output_type": "stream",
     "text": [
      "/home/argykokk/miniconda3/envs/hls4ml-tutorial/lib/python3.8/site-packages/keras/optimizers/optimizer_v2/adam.py:114: UserWarning: The `lr` argument is deprecated, use `learning_rate` instead.\n",
      "  super().__init__(name, **kwargs)\n"
     ]
    },
    {
     "name": "stdout",
     "output_type": "stream",
     "text": [
      "frozen dataset 0\n",
      "frozen dataset 1\n",
      "frozen dataset 2\n",
      "frozen dataset 3\n"
     ]
    },
    {
     "name": "stderr",
     "output_type": "stream",
     "text": [
      "/home/argykokk/miniconda3/envs/hls4ml-tutorial/lib/python3.8/site-packages/keras/optimizers/optimizer_v2/adam.py:114: UserWarning: The `lr` argument is deprecated, use `learning_rate` instead.\n",
      "  super().__init__(name, **kwargs)\n"
     ]
    },
    {
     "name": "stdout",
     "output_type": "stream",
     "text": [
      "46/46 [==============================] - 0s 960us/step - loss: 1.2462 - accuracy: 0.5190\n",
      "accuracy = 0.5190476179122925\n",
      "Interpreting Sequential\n",
      "Topology:\n",
      "Layer name: fc1_input, layer type: Input\n",
      "Layer name: fc1, layer type: QDense\n",
      "Layer name: relu1, layer type: QActivation\n",
      "Layer name: output, layer type: QDense\n",
      "Layer name: softmax, layer type: Activation\n",
      "copy top.v, sim.Xtest, and sim.Ytest to the synopsys project \n"
     ]
    },
    {
     "name": "stderr",
     "output_type": "stream",
     "text": [
      "/home/argykokk/miniconda3/envs/hls4ml-tutorial/lib/python3.8/site-packages/keras/initializers/initializers_v2.py:120: UserWarning: The initializer LecunUniform is unseeded and being called multiple times, which will return identical values  each time (even if the initializer is unseeded). Please update your code to provide a seed to the initializer, or avoid using the same initalizer instance more than once.\n",
      "  warnings.warn(\n"
     ]
    },
    {
     "name": "stdout",
     "output_type": "stream",
     "text": [
      "frozen dataset 0\n",
      "frozen dataset 1\n",
      "frozen dataset 2\n",
      "frozen dataset 3\n",
      "frozen dataset 4\n",
      "frozen dataset 5\n",
      "frozen dataset 6\n",
      "frozen dataset 7\n",
      "frozen dataset 8\n",
      "frozen dataset 9\n",
      "frozen dataset 10\n"
     ]
    },
    {
     "name": "stderr",
     "output_type": "stream",
     "text": [
      "/home/argykokk/miniconda3/envs/hls4ml-tutorial/lib/python3.8/site-packages/keras/optimizers/optimizer_v2/adam.py:114: UserWarning: The `lr` argument is deprecated, use `learning_rate` instead.\n",
      "  super().__init__(name, **kwargs)\n"
     ]
    },
    {
     "name": "stdout",
     "output_type": "stream",
     "text": [
      "frozen dataset 0\n",
      "frozen dataset 1\n",
      "frozen dataset 2\n",
      "frozen dataset 3\n"
     ]
    },
    {
     "name": "stderr",
     "output_type": "stream",
     "text": [
      "/home/argykokk/miniconda3/envs/hls4ml-tutorial/lib/python3.8/site-packages/keras/optimizers/optimizer_v2/adam.py:114: UserWarning: The `lr` argument is deprecated, use `learning_rate` instead.\n",
      "  super().__init__(name, **kwargs)\n"
     ]
    },
    {
     "name": "stdout",
     "output_type": "stream",
     "text": [
      "46/46 [==============================] - 0s 982us/step - loss: 1.2462 - accuracy: 0.5190\n",
      "accuracy = 0.5190476179122925\n",
      "Interpreting Sequential\n",
      "Topology:\n",
      "Layer name: fc1_input, layer type: Input\n",
      "Layer name: fc1, layer type: QDense\n",
      "Layer name: relu1, layer type: QActivation\n",
      "Layer name: output, layer type: QDense\n",
      "Layer name: softmax, layer type: Activation\n",
      "copy top.v, sim.Xtest, and sim.Ytest to the synopsys project \n"
     ]
    },
    {
     "name": "stderr",
     "output_type": "stream",
     "text": [
      "/home/argykokk/miniconda3/envs/hls4ml-tutorial/lib/python3.8/site-packages/keras/initializers/initializers_v2.py:120: UserWarning: The initializer LecunUniform is unseeded and being called multiple times, which will return identical values  each time (even if the initializer is unseeded). Please update your code to provide a seed to the initializer, or avoid using the same initalizer instance more than once.\n",
      "  warnings.warn(\n"
     ]
    },
    {
     "name": "stdout",
     "output_type": "stream",
     "text": [
      "frozen dataset 0\n",
      "frozen dataset 1\n",
      "frozen dataset 2\n",
      "frozen dataset 3\n",
      "frozen dataset 4\n",
      "frozen dataset 5\n",
      "frozen dataset 6\n",
      "frozen dataset 7\n",
      "frozen dataset 8\n",
      "frozen dataset 9\n",
      "frozen dataset 10\n",
      "frozen dataset 0\n",
      "frozen dataset 1\n",
      "frozen dataset 2\n",
      "frozen dataset 3\n"
     ]
    },
    {
     "name": "stderr",
     "output_type": "stream",
     "text": [
      "/home/argykokk/miniconda3/envs/hls4ml-tutorial/lib/python3.8/site-packages/keras/optimizers/optimizer_v2/adam.py:114: UserWarning: The `lr` argument is deprecated, use `learning_rate` instead.\n",
      "  super().__init__(name, **kwargs)\n",
      "/home/argykokk/miniconda3/envs/hls4ml-tutorial/lib/python3.8/site-packages/keras/optimizers/optimizer_v2/adam.py:114: UserWarning: The `lr` argument is deprecated, use `learning_rate` instead.\n",
      "  super().__init__(name, **kwargs)\n"
     ]
    },
    {
     "name": "stdout",
     "output_type": "stream",
     "text": [
      "46/46 [==============================] - 0s 1ms/step - loss: 1.2462 - accuracy: 0.5190\n",
      "accuracy = 0.5190476179122925\n",
      "Interpreting Sequential\n",
      "Topology:\n",
      "Layer name: fc1_input, layer type: Input\n",
      "Layer name: fc1, layer type: QDense\n",
      "Layer name: relu1, layer type: QActivation\n",
      "Layer name: output, layer type: QDense\n",
      "Layer name: softmax, layer type: Activation\n",
      "copy top.v, sim.Xtest, and sim.Ytest to the synopsys project \n"
     ]
    },
    {
     "name": "stderr",
     "output_type": "stream",
     "text": [
      "/home/argykokk/miniconda3/envs/hls4ml-tutorial/lib/python3.8/site-packages/keras/initializers/initializers_v2.py:120: UserWarning: The initializer LecunUniform is unseeded and being called multiple times, which will return identical values  each time (even if the initializer is unseeded). Please update your code to provide a seed to the initializer, or avoid using the same initalizer instance more than once.\n",
      "  warnings.warn(\n"
     ]
    },
    {
     "name": "stdout",
     "output_type": "stream",
     "text": [
      "frozen dataset 0\n",
      "frozen dataset 1\n",
      "frozen dataset 2\n",
      "frozen dataset 3\n",
      "frozen dataset 4\n",
      "frozen dataset 5\n",
      "frozen dataset 6\n",
      "frozen dataset 7\n",
      "frozen dataset 8\n",
      "frozen dataset 9\n",
      "frozen dataset 10\n"
     ]
    },
    {
     "name": "stderr",
     "output_type": "stream",
     "text": [
      "/home/argykokk/miniconda3/envs/hls4ml-tutorial/lib/python3.8/site-packages/keras/optimizers/optimizer_v2/adam.py:114: UserWarning: The `lr` argument is deprecated, use `learning_rate` instead.\n",
      "  super().__init__(name, **kwargs)\n"
     ]
    },
    {
     "name": "stdout",
     "output_type": "stream",
     "text": [
      "frozen dataset 0\n",
      "frozen dataset 1\n",
      "frozen dataset 2\n",
      "frozen dataset 3\n"
     ]
    },
    {
     "name": "stderr",
     "output_type": "stream",
     "text": [
      "/home/argykokk/miniconda3/envs/hls4ml-tutorial/lib/python3.8/site-packages/keras/optimizers/optimizer_v2/adam.py:114: UserWarning: The `lr` argument is deprecated, use `learning_rate` instead.\n",
      "  super().__init__(name, **kwargs)\n"
     ]
    },
    {
     "name": "stdout",
     "output_type": "stream",
     "text": [
      "46/46 [==============================] - 1s 1ms/step - loss: 1.2462 - accuracy: 0.5190\n",
      "accuracy = 0.5190476179122925\n",
      "Interpreting Sequential\n",
      "Topology:\n",
      "Layer name: fc1_input, layer type: Input\n",
      "Layer name: fc1, layer type: QDense\n",
      "Layer name: relu1, layer type: QActivation\n",
      "Layer name: output, layer type: QDense\n",
      "Layer name: softmax, layer type: Activation\n",
      "copy top.v, sim.Xtest, and sim.Ytest to the synopsys project \n"
     ]
    },
    {
     "name": "stderr",
     "output_type": "stream",
     "text": [
      "/home/argykokk/miniconda3/envs/hls4ml-tutorial/lib/python3.8/site-packages/keras/initializers/initializers_v2.py:120: UserWarning: The initializer LecunUniform is unseeded and being called multiple times, which will return identical values  each time (even if the initializer is unseeded). Please update your code to provide a seed to the initializer, or avoid using the same initalizer instance more than once.\n",
      "  warnings.warn(\n"
     ]
    },
    {
     "name": "stdout",
     "output_type": "stream",
     "text": [
      "frozen dataset 0\n",
      "frozen dataset 1\n",
      "frozen dataset 2\n",
      "frozen dataset 3\n",
      "frozen dataset 4\n",
      "frozen dataset 5\n",
      "frozen dataset 6\n",
      "frozen dataset 7\n",
      "frozen dataset 8\n",
      "frozen dataset 9\n",
      "frozen dataset 10\n"
     ]
    },
    {
     "name": "stderr",
     "output_type": "stream",
     "text": [
      "/home/argykokk/miniconda3/envs/hls4ml-tutorial/lib/python3.8/site-packages/keras/optimizers/optimizer_v2/adam.py:114: UserWarning: The `lr` argument is deprecated, use `learning_rate` instead.\n",
      "  super().__init__(name, **kwargs)\n"
     ]
    },
    {
     "name": "stdout",
     "output_type": "stream",
     "text": [
      "frozen dataset 0\n",
      "frozen dataset 1\n",
      "frozen dataset 2\n",
      "frozen dataset 3\n"
     ]
    },
    {
     "name": "stderr",
     "output_type": "stream",
     "text": [
      "/home/argykokk/miniconda3/envs/hls4ml-tutorial/lib/python3.8/site-packages/keras/optimizers/optimizer_v2/adam.py:114: UserWarning: The `lr` argument is deprecated, use `learning_rate` instead.\n",
      "  super().__init__(name, **kwargs)\n"
     ]
    },
    {
     "name": "stdout",
     "output_type": "stream",
     "text": [
      "46/46 [==============================] - 0s 1ms/step - loss: 1.2462 - accuracy: 0.5190\n",
      "accuracy = 0.5190476179122925\n",
      "Interpreting Sequential\n",
      "Topology:\n",
      "Layer name: fc1_input, layer type: Input\n",
      "Layer name: fc1, layer type: QDense\n",
      "Layer name: relu1, layer type: QActivation\n",
      "Layer name: output, layer type: QDense\n",
      "Layer name: softmax, layer type: Activation\n",
      "copy top.v, sim.Xtest, and sim.Ytest to the synopsys project \n"
     ]
    },
    {
     "name": "stderr",
     "output_type": "stream",
     "text": [
      "/home/argykokk/miniconda3/envs/hls4ml-tutorial/lib/python3.8/site-packages/keras/initializers/initializers_v2.py:120: UserWarning: The initializer LecunUniform is unseeded and being called multiple times, which will return identical values  each time (even if the initializer is unseeded). Please update your code to provide a seed to the initializer, or avoid using the same initalizer instance more than once.\n",
      "  warnings.warn(\n"
     ]
    },
    {
     "name": "stdout",
     "output_type": "stream",
     "text": [
      "frozen dataset 0\n",
      "frozen dataset 1\n",
      "frozen dataset 2\n",
      "frozen dataset 3\n",
      "frozen dataset 4\n",
      "frozen dataset 5\n",
      "frozen dataset 6\n",
      "frozen dataset 7\n",
      "frozen dataset 8\n",
      "frozen dataset 9\n",
      "frozen dataset 10\n"
     ]
    },
    {
     "name": "stderr",
     "output_type": "stream",
     "text": [
      "/home/argykokk/miniconda3/envs/hls4ml-tutorial/lib/python3.8/site-packages/keras/optimizers/optimizer_v2/adam.py:114: UserWarning: The `lr` argument is deprecated, use `learning_rate` instead.\n",
      "  super().__init__(name, **kwargs)\n"
     ]
    },
    {
     "name": "stdout",
     "output_type": "stream",
     "text": [
      "frozen dataset 0\n",
      "frozen dataset 1\n",
      "frozen dataset 2\n",
      "frozen dataset 3\n"
     ]
    },
    {
     "name": "stderr",
     "output_type": "stream",
     "text": [
      "/home/argykokk/miniconda3/envs/hls4ml-tutorial/lib/python3.8/site-packages/keras/optimizers/optimizer_v2/adam.py:114: UserWarning: The `lr` argument is deprecated, use `learning_rate` instead.\n",
      "  super().__init__(name, **kwargs)\n"
     ]
    },
    {
     "name": "stdout",
     "output_type": "stream",
     "text": [
      "46/46 [==============================] - 0s 1ms/step - loss: 1.2462 - accuracy: 0.5190\n",
      "accuracy = 0.5190476179122925\n",
      "Interpreting Sequential\n",
      "Topology:\n",
      "Layer name: fc1_input, layer type: Input\n",
      "Layer name: fc1, layer type: QDense\n",
      "Layer name: relu1, layer type: QActivation\n",
      "Layer name: output, layer type: QDense\n",
      "Layer name: softmax, layer type: Activation\n",
      "copy top.v, sim.Xtest, and sim.Ytest to the synopsys project \n"
     ]
    },
    {
     "name": "stderr",
     "output_type": "stream",
     "text": [
      "/home/argykokk/miniconda3/envs/hls4ml-tutorial/lib/python3.8/site-packages/keras/initializers/initializers_v2.py:120: UserWarning: The initializer LecunUniform is unseeded and being called multiple times, which will return identical values  each time (even if the initializer is unseeded). Please update your code to provide a seed to the initializer, or avoid using the same initalizer instance more than once.\n",
      "  warnings.warn(\n"
     ]
    },
    {
     "name": "stdout",
     "output_type": "stream",
     "text": [
      "frozen dataset 0\n",
      "frozen dataset 1\n",
      "frozen dataset 2\n",
      "frozen dataset 3\n",
      "frozen dataset 4\n",
      "frozen dataset 5\n",
      "frozen dataset 6\n",
      "frozen dataset 7\n",
      "frozen dataset 8\n",
      "frozen dataset 9\n",
      "frozen dataset 10\n"
     ]
    },
    {
     "name": "stderr",
     "output_type": "stream",
     "text": [
      "/home/argykokk/miniconda3/envs/hls4ml-tutorial/lib/python3.8/site-packages/keras/optimizers/optimizer_v2/adam.py:114: UserWarning: The `lr` argument is deprecated, use `learning_rate` instead.\n",
      "  super().__init__(name, **kwargs)\n"
     ]
    },
    {
     "name": "stdout",
     "output_type": "stream",
     "text": [
      "frozen dataset 0\n",
      "frozen dataset 1\n",
      "frozen dataset 2\n",
      "frozen dataset 3\n"
     ]
    },
    {
     "name": "stderr",
     "output_type": "stream",
     "text": [
      "/home/argykokk/miniconda3/envs/hls4ml-tutorial/lib/python3.8/site-packages/keras/optimizers/optimizer_v2/adam.py:114: UserWarning: The `lr` argument is deprecated, use `learning_rate` instead.\n",
      "  super().__init__(name, **kwargs)\n"
     ]
    },
    {
     "name": "stdout",
     "output_type": "stream",
     "text": [
      "46/46 [==============================] - 0s 1ms/step - loss: 1.2462 - accuracy: 0.5190\n",
      "accuracy = 0.5190476179122925\n",
      "Interpreting Sequential\n",
      "Topology:\n",
      "Layer name: fc1_input, layer type: Input\n",
      "Layer name: fc1, layer type: QDense\n",
      "Layer name: relu1, layer type: QActivation\n",
      "Layer name: output, layer type: QDense\n",
      "Layer name: softmax, layer type: Activation\n",
      "copy top.v, sim.Xtest, and sim.Ytest to the synopsys project \n"
     ]
    },
    {
     "name": "stderr",
     "output_type": "stream",
     "text": [
      "/home/argykokk/miniconda3/envs/hls4ml-tutorial/lib/python3.8/site-packages/keras/initializers/initializers_v2.py:120: UserWarning: The initializer LecunUniform is unseeded and being called multiple times, which will return identical values  each time (even if the initializer is unseeded). Please update your code to provide a seed to the initializer, or avoid using the same initalizer instance more than once.\n",
      "  warnings.warn(\n"
     ]
    },
    {
     "name": "stdout",
     "output_type": "stream",
     "text": [
      "frozen dataset 0\n",
      "frozen dataset 1\n",
      "frozen dataset 2\n",
      "frozen dataset 3\n",
      "frozen dataset 4\n",
      "frozen dataset 5\n",
      "frozen dataset 6\n",
      "frozen dataset 7\n",
      "frozen dataset 8\n",
      "frozen dataset 9\n",
      "frozen dataset 10\n"
     ]
    },
    {
     "name": "stderr",
     "output_type": "stream",
     "text": [
      "/home/argykokk/miniconda3/envs/hls4ml-tutorial/lib/python3.8/site-packages/keras/optimizers/optimizer_v2/adam.py:114: UserWarning: The `lr` argument is deprecated, use `learning_rate` instead.\n",
      "  super().__init__(name, **kwargs)\n"
     ]
    },
    {
     "name": "stdout",
     "output_type": "stream",
     "text": [
      "frozen dataset 0\n",
      "frozen dataset 1\n",
      "frozen dataset 2\n",
      "frozen dataset 3\n"
     ]
    },
    {
     "name": "stderr",
     "output_type": "stream",
     "text": [
      "/home/argykokk/miniconda3/envs/hls4ml-tutorial/lib/python3.8/site-packages/keras/optimizers/optimizer_v2/adam.py:114: UserWarning: The `lr` argument is deprecated, use `learning_rate` instead.\n",
      "  super().__init__(name, **kwargs)\n"
     ]
    },
    {
     "name": "stdout",
     "output_type": "stream",
     "text": [
      "46/46 [==============================] - 0s 1ms/step - loss: 1.2462 - accuracy: 0.5190\n",
      "accuracy = 0.5190476179122925\n",
      "Interpreting Sequential\n",
      "Topology:\n",
      "Layer name: fc1_input, layer type: Input\n",
      "Layer name: fc1, layer type: QDense\n",
      "Layer name: relu1, layer type: QActivation\n",
      "Layer name: output, layer type: QDense\n",
      "Layer name: softmax, layer type: Activation\n",
      "copy top.v, sim.Xtest, and sim.Ytest to the synopsys project \n"
     ]
    },
    {
     "name": "stderr",
     "output_type": "stream",
     "text": [
      "/home/argykokk/miniconda3/envs/hls4ml-tutorial/lib/python3.8/site-packages/keras/initializers/initializers_v2.py:120: UserWarning: The initializer LecunUniform is unseeded and being called multiple times, which will return identical values  each time (even if the initializer is unseeded). Please update your code to provide a seed to the initializer, or avoid using the same initalizer instance more than once.\n",
      "  warnings.warn(\n"
     ]
    },
    {
     "name": "stdout",
     "output_type": "stream",
     "text": [
      "frozen dataset 0\n",
      "frozen dataset 1\n",
      "frozen dataset 2\n",
      "frozen dataset 3\n",
      "frozen dataset 4\n",
      "frozen dataset 5\n",
      "frozen dataset 6\n",
      "frozen dataset 7\n",
      "frozen dataset 8\n",
      "frozen dataset 9\n",
      "frozen dataset 10\n"
     ]
    },
    {
     "name": "stderr",
     "output_type": "stream",
     "text": [
      "/home/argykokk/miniconda3/envs/hls4ml-tutorial/lib/python3.8/site-packages/keras/optimizers/optimizer_v2/adam.py:114: UserWarning: The `lr` argument is deprecated, use `learning_rate` instead.\n",
      "  super().__init__(name, **kwargs)\n"
     ]
    },
    {
     "name": "stdout",
     "output_type": "stream",
     "text": [
      "frozen dataset 0\n",
      "frozen dataset 1\n",
      "frozen dataset 2\n",
      "frozen dataset 3\n"
     ]
    },
    {
     "name": "stderr",
     "output_type": "stream",
     "text": [
      "/home/argykokk/miniconda3/envs/hls4ml-tutorial/lib/python3.8/site-packages/keras/optimizers/optimizer_v2/adam.py:114: UserWarning: The `lr` argument is deprecated, use `learning_rate` instead.\n",
      "  super().__init__(name, **kwargs)\n"
     ]
    },
    {
     "name": "stdout",
     "output_type": "stream",
     "text": [
      "46/46 [==============================] - 0s 1ms/step - loss: 1.2462 - accuracy: 0.5190\n",
      "accuracy = 0.5190476179122925\n",
      "Interpreting Sequential\n",
      "Topology:\n",
      "Layer name: fc1_input, layer type: Input\n",
      "Layer name: fc1, layer type: QDense\n",
      "Layer name: relu1, layer type: QActivation\n",
      "Layer name: output, layer type: QDense\n",
      "Layer name: softmax, layer type: Activation\n",
      "copy top.v, sim.Xtest, and sim.Ytest to the synopsys project \n"
     ]
    },
    {
     "name": "stderr",
     "output_type": "stream",
     "text": [
      "/home/argykokk/miniconda3/envs/hls4ml-tutorial/lib/python3.8/site-packages/keras/initializers/initializers_v2.py:120: UserWarning: The initializer LecunUniform is unseeded and being called multiple times, which will return identical values  each time (even if the initializer is unseeded). Please update your code to provide a seed to the initializer, or avoid using the same initalizer instance more than once.\n",
      "  warnings.warn(\n"
     ]
    },
    {
     "name": "stdout",
     "output_type": "stream",
     "text": [
      "frozen dataset 0\n",
      "frozen dataset 1\n",
      "frozen dataset 2\n",
      "frozen dataset 3\n",
      "frozen dataset 4\n",
      "frozen dataset 5\n",
      "frozen dataset 6\n",
      "frozen dataset 7\n",
      "frozen dataset 8\n",
      "frozen dataset 9\n",
      "frozen dataset 10\n"
     ]
    },
    {
     "name": "stderr",
     "output_type": "stream",
     "text": [
      "/home/argykokk/miniconda3/envs/hls4ml-tutorial/lib/python3.8/site-packages/keras/optimizers/optimizer_v2/adam.py:114: UserWarning: The `lr` argument is deprecated, use `learning_rate` instead.\n",
      "  super().__init__(name, **kwargs)\n"
     ]
    },
    {
     "name": "stdout",
     "output_type": "stream",
     "text": [
      "frozen dataset 0\n",
      "frozen dataset 1\n",
      "frozen dataset 2\n",
      "frozen dataset 3\n"
     ]
    },
    {
     "name": "stderr",
     "output_type": "stream",
     "text": [
      "/home/argykokk/miniconda3/envs/hls4ml-tutorial/lib/python3.8/site-packages/keras/optimizers/optimizer_v2/adam.py:114: UserWarning: The `lr` argument is deprecated, use `learning_rate` instead.\n",
      "  super().__init__(name, **kwargs)\n"
     ]
    },
    {
     "name": "stdout",
     "output_type": "stream",
     "text": [
      "46/46 [==============================] - 0s 1ms/step - loss: 1.2462 - accuracy: 0.5190\n",
      "accuracy = 0.5190476179122925\n",
      "Interpreting Sequential\n",
      "Topology:\n",
      "Layer name: fc1_input, layer type: Input\n",
      "Layer name: fc1, layer type: QDense\n",
      "Layer name: relu1, layer type: QActivation\n",
      "Layer name: output, layer type: QDense\n",
      "Layer name: softmax, layer type: Activation\n",
      "copy top.v, sim.Xtest, and sim.Ytest to the synopsys project \n"
     ]
    },
    {
     "name": "stderr",
     "output_type": "stream",
     "text": [
      "/home/argykokk/miniconda3/envs/hls4ml-tutorial/lib/python3.8/site-packages/keras/initializers/initializers_v2.py:120: UserWarning: The initializer LecunUniform is unseeded and being called multiple times, which will return identical values  each time (even if the initializer is unseeded). Please update your code to provide a seed to the initializer, or avoid using the same initalizer instance more than once.\n",
      "  warnings.warn(\n"
     ]
    },
    {
     "name": "stdout",
     "output_type": "stream",
     "text": [
      "frozen dataset 0\n",
      "frozen dataset 1\n",
      "frozen dataset 2\n",
      "frozen dataset 3\n",
      "frozen dataset 4\n",
      "frozen dataset 5\n",
      "frozen dataset 6\n",
      "frozen dataset 7\n",
      "frozen dataset 8\n",
      "frozen dataset 9\n",
      "frozen dataset 10\n"
     ]
    },
    {
     "name": "stderr",
     "output_type": "stream",
     "text": [
      "/home/argykokk/miniconda3/envs/hls4ml-tutorial/lib/python3.8/site-packages/keras/optimizers/optimizer_v2/adam.py:114: UserWarning: The `lr` argument is deprecated, use `learning_rate` instead.\n",
      "  super().__init__(name, **kwargs)\n"
     ]
    },
    {
     "name": "stdout",
     "output_type": "stream",
     "text": [
      "frozen dataset 0\n",
      "frozen dataset 1\n",
      "frozen dataset 2\n",
      "frozen dataset 3\n"
     ]
    },
    {
     "name": "stderr",
     "output_type": "stream",
     "text": [
      "/home/argykokk/miniconda3/envs/hls4ml-tutorial/lib/python3.8/site-packages/keras/optimizers/optimizer_v2/adam.py:114: UserWarning: The `lr` argument is deprecated, use `learning_rate` instead.\n",
      "  super().__init__(name, **kwargs)\n"
     ]
    },
    {
     "name": "stdout",
     "output_type": "stream",
     "text": [
      "46/46 [==============================] - 0s 1ms/step - loss: 1.2462 - accuracy: 0.5190\n",
      "accuracy = 0.5190476179122925\n",
      "Interpreting Sequential\n",
      "Topology:\n",
      "Layer name: fc1_input, layer type: Input\n",
      "Layer name: fc1, layer type: QDense\n",
      "Layer name: relu1, layer type: QActivation\n",
      "Layer name: output, layer type: QDense\n",
      "Layer name: softmax, layer type: Activation\n",
      "copy top.v, sim.Xtest, and sim.Ytest to the synopsys project \n"
     ]
    },
    {
     "name": "stderr",
     "output_type": "stream",
     "text": [
      "/home/argykokk/miniconda3/envs/hls4ml-tutorial/lib/python3.8/site-packages/keras/initializers/initializers_v2.py:120: UserWarning: The initializer LecunUniform is unseeded and being called multiple times, which will return identical values  each time (even if the initializer is unseeded). Please update your code to provide a seed to the initializer, or avoid using the same initalizer instance more than once.\n",
      "  warnings.warn(\n"
     ]
    },
    {
     "name": "stdout",
     "output_type": "stream",
     "text": [
      "frozen dataset 0\n",
      "frozen dataset 1\n",
      "frozen dataset 2\n",
      "frozen dataset 3\n",
      "frozen dataset 4\n",
      "frozen dataset 5\n",
      "frozen dataset 6\n",
      "frozen dataset 7\n",
      "frozen dataset 8\n",
      "frozen dataset 9\n",
      "frozen dataset 10\n"
     ]
    },
    {
     "name": "stderr",
     "output_type": "stream",
     "text": [
      "/home/argykokk/miniconda3/envs/hls4ml-tutorial/lib/python3.8/site-packages/keras/optimizers/optimizer_v2/adam.py:114: UserWarning: The `lr` argument is deprecated, use `learning_rate` instead.\n",
      "  super().__init__(name, **kwargs)\n"
     ]
    },
    {
     "name": "stdout",
     "output_type": "stream",
     "text": [
      "frozen dataset 0\n",
      "frozen dataset 1\n",
      "frozen dataset 2\n",
      "frozen dataset 3\n"
     ]
    },
    {
     "name": "stderr",
     "output_type": "stream",
     "text": [
      "/home/argykokk/miniconda3/envs/hls4ml-tutorial/lib/python3.8/site-packages/keras/optimizers/optimizer_v2/adam.py:114: UserWarning: The `lr` argument is deprecated, use `learning_rate` instead.\n",
      "  super().__init__(name, **kwargs)\n"
     ]
    },
    {
     "name": "stdout",
     "output_type": "stream",
     "text": [
      "46/46 [==============================] - 0s 1ms/step - loss: 1.2462 - accuracy: 0.5190\n",
      "accuracy = 0.5190476179122925\n",
      "Interpreting Sequential\n",
      "Topology:\n",
      "Layer name: fc1_input, layer type: Input\n",
      "Layer name: fc1, layer type: QDense\n",
      "Layer name: relu1, layer type: QActivation\n",
      "Layer name: output, layer type: QDense\n",
      "Layer name: softmax, layer type: Activation\n",
      "copy top.v, sim.Xtest, and sim.Ytest to the synopsys project \n"
     ]
    },
    {
     "name": "stderr",
     "output_type": "stream",
     "text": [
      "/home/argykokk/miniconda3/envs/hls4ml-tutorial/lib/python3.8/site-packages/keras/initializers/initializers_v2.py:120: UserWarning: The initializer LecunUniform is unseeded and being called multiple times, which will return identical values  each time (even if the initializer is unseeded). Please update your code to provide a seed to the initializer, or avoid using the same initalizer instance more than once.\n",
      "  warnings.warn(\n"
     ]
    },
    {
     "name": "stdout",
     "output_type": "stream",
     "text": [
      "frozen dataset 0\n",
      "frozen dataset 1\n",
      "frozen dataset 2\n",
      "frozen dataset 3\n",
      "frozen dataset 4\n",
      "frozen dataset 5\n",
      "frozen dataset 6\n",
      "frozen dataset 7\n",
      "frozen dataset 8\n",
      "frozen dataset 9\n",
      "frozen dataset 10\n"
     ]
    },
    {
     "name": "stderr",
     "output_type": "stream",
     "text": [
      "/home/argykokk/miniconda3/envs/hls4ml-tutorial/lib/python3.8/site-packages/keras/optimizers/optimizer_v2/adam.py:114: UserWarning: The `lr` argument is deprecated, use `learning_rate` instead.\n",
      "  super().__init__(name, **kwargs)\n"
     ]
    },
    {
     "name": "stdout",
     "output_type": "stream",
     "text": [
      "frozen dataset 0\n",
      "frozen dataset 1\n",
      "frozen dataset 2\n",
      "frozen dataset 3\n"
     ]
    },
    {
     "name": "stderr",
     "output_type": "stream",
     "text": [
      "/home/argykokk/miniconda3/envs/hls4ml-tutorial/lib/python3.8/site-packages/keras/optimizers/optimizer_v2/adam.py:114: UserWarning: The `lr` argument is deprecated, use `learning_rate` instead.\n",
      "  super().__init__(name, **kwargs)\n"
     ]
    },
    {
     "name": "stdout",
     "output_type": "stream",
     "text": [
      "46/46 [==============================] - 0s 1ms/step - loss: 1.2462 - accuracy: 0.5190\n",
      "accuracy = 0.5190476179122925\n",
      "Interpreting Sequential\n",
      "Topology:\n",
      "Layer name: fc1_input, layer type: Input\n",
      "Layer name: fc1, layer type: QDense\n",
      "Layer name: relu1, layer type: QActivation\n",
      "Layer name: output, layer type: QDense\n",
      "Layer name: softmax, layer type: Activation\n",
      "copy top.v, sim.Xtest, and sim.Ytest to the synopsys project \n"
     ]
    },
    {
     "name": "stderr",
     "output_type": "stream",
     "text": [
      "/home/argykokk/miniconda3/envs/hls4ml-tutorial/lib/python3.8/site-packages/keras/initializers/initializers_v2.py:120: UserWarning: The initializer LecunUniform is unseeded and being called multiple times, which will return identical values  each time (even if the initializer is unseeded). Please update your code to provide a seed to the initializer, or avoid using the same initalizer instance more than once.\n",
      "  warnings.warn(\n"
     ]
    },
    {
     "name": "stdout",
     "output_type": "stream",
     "text": [
      "frozen dataset 0\n",
      "frozen dataset 1\n",
      "frozen dataset 2\n",
      "frozen dataset 3\n",
      "frozen dataset 4\n",
      "frozen dataset 5\n",
      "frozen dataset 6\n",
      "frozen dataset 7\n",
      "frozen dataset 8\n",
      "frozen dataset 9\n",
      "frozen dataset 10\n"
     ]
    },
    {
     "name": "stderr",
     "output_type": "stream",
     "text": [
      "/home/argykokk/miniconda3/envs/hls4ml-tutorial/lib/python3.8/site-packages/keras/optimizers/optimizer_v2/adam.py:114: UserWarning: The `lr` argument is deprecated, use `learning_rate` instead.\n",
      "  super().__init__(name, **kwargs)\n"
     ]
    },
    {
     "name": "stdout",
     "output_type": "stream",
     "text": [
      "frozen dataset 0\n",
      "frozen dataset 1\n",
      "frozen dataset 2\n",
      "frozen dataset 3\n"
     ]
    },
    {
     "name": "stderr",
     "output_type": "stream",
     "text": [
      "/home/argykokk/miniconda3/envs/hls4ml-tutorial/lib/python3.8/site-packages/keras/optimizers/optimizer_v2/adam.py:114: UserWarning: The `lr` argument is deprecated, use `learning_rate` instead.\n",
      "  super().__init__(name, **kwargs)\n"
     ]
    },
    {
     "name": "stdout",
     "output_type": "stream",
     "text": [
      "46/46 [==============================] - 0s 1ms/step - loss: 1.2462 - accuracy: 0.5190\n",
      "accuracy = 0.5190476179122925\n",
      "Interpreting Sequential\n",
      "Topology:\n",
      "Layer name: fc1_input, layer type: Input\n",
      "Layer name: fc1, layer type: QDense\n",
      "Layer name: relu1, layer type: QActivation\n",
      "Layer name: output, layer type: QDense\n",
      "Layer name: softmax, layer type: Activation\n",
      "copy top.v, sim.Xtest, and sim.Ytest to the synopsys project \n"
     ]
    },
    {
     "name": "stderr",
     "output_type": "stream",
     "text": [
      "/home/argykokk/miniconda3/envs/hls4ml-tutorial/lib/python3.8/site-packages/keras/initializers/initializers_v2.py:120: UserWarning: The initializer LecunUniform is unseeded and being called multiple times, which will return identical values  each time (even if the initializer is unseeded). Please update your code to provide a seed to the initializer, or avoid using the same initalizer instance more than once.\n",
      "  warnings.warn(\n"
     ]
    },
    {
     "name": "stdout",
     "output_type": "stream",
     "text": [
      "frozen dataset 0\n",
      "frozen dataset 1\n",
      "frozen dataset 2\n",
      "frozen dataset 3\n",
      "frozen dataset 4\n",
      "frozen dataset 5\n",
      "frozen dataset 6\n",
      "frozen dataset 7\n",
      "frozen dataset 8\n",
      "frozen dataset 9\n",
      "frozen dataset 10\n"
     ]
    },
    {
     "name": "stderr",
     "output_type": "stream",
     "text": [
      "/home/argykokk/miniconda3/envs/hls4ml-tutorial/lib/python3.8/site-packages/keras/optimizers/optimizer_v2/adam.py:114: UserWarning: The `lr` argument is deprecated, use `learning_rate` instead.\n",
      "  super().__init__(name, **kwargs)\n"
     ]
    },
    {
     "name": "stdout",
     "output_type": "stream",
     "text": [
      "frozen dataset 0\n",
      "frozen dataset 1\n",
      "frozen dataset 2\n",
      "frozen dataset 3\n"
     ]
    },
    {
     "name": "stderr",
     "output_type": "stream",
     "text": [
      "/home/argykokk/miniconda3/envs/hls4ml-tutorial/lib/python3.8/site-packages/keras/optimizers/optimizer_v2/adam.py:114: UserWarning: The `lr` argument is deprecated, use `learning_rate` instead.\n",
      "  super().__init__(name, **kwargs)\n"
     ]
    },
    {
     "name": "stdout",
     "output_type": "stream",
     "text": [
      "46/46 [==============================] - 0s 1ms/step - loss: 1.2462 - accuracy: 0.5190\n",
      "accuracy = 0.5190476179122925\n",
      "Interpreting Sequential\n",
      "Topology:\n",
      "Layer name: fc1_input, layer type: Input\n",
      "Layer name: fc1, layer type: QDense\n",
      "Layer name: relu1, layer type: QActivation\n",
      "Layer name: output, layer type: QDense\n",
      "Layer name: softmax, layer type: Activation\n",
      "copy top.v, sim.Xtest, and sim.Ytest to the synopsys project \n"
     ]
    },
    {
     "name": "stderr",
     "output_type": "stream",
     "text": [
      "/home/argykokk/miniconda3/envs/hls4ml-tutorial/lib/python3.8/site-packages/keras/initializers/initializers_v2.py:120: UserWarning: The initializer LecunUniform is unseeded and being called multiple times, which will return identical values  each time (even if the initializer is unseeded). Please update your code to provide a seed to the initializer, or avoid using the same initalizer instance more than once.\n",
      "  warnings.warn(\n"
     ]
    },
    {
     "name": "stdout",
     "output_type": "stream",
     "text": [
      "frozen dataset 0\n",
      "frozen dataset 1\n",
      "frozen dataset 2\n",
      "frozen dataset 3\n",
      "frozen dataset 4\n",
      "frozen dataset 5\n",
      "frozen dataset 6\n",
      "frozen dataset 7\n",
      "frozen dataset 8\n",
      "frozen dataset 9\n",
      "frozen dataset 10\n"
     ]
    },
    {
     "name": "stderr",
     "output_type": "stream",
     "text": [
      "/home/argykokk/miniconda3/envs/hls4ml-tutorial/lib/python3.8/site-packages/keras/optimizers/optimizer_v2/adam.py:114: UserWarning: The `lr` argument is deprecated, use `learning_rate` instead.\n",
      "  super().__init__(name, **kwargs)\n"
     ]
    },
    {
     "name": "stdout",
     "output_type": "stream",
     "text": [
      "frozen dataset 0\n",
      "frozen dataset 1\n",
      "frozen dataset 2\n",
      "frozen dataset 3\n"
     ]
    },
    {
     "name": "stderr",
     "output_type": "stream",
     "text": [
      "/home/argykokk/miniconda3/envs/hls4ml-tutorial/lib/python3.8/site-packages/keras/optimizers/optimizer_v2/adam.py:114: UserWarning: The `lr` argument is deprecated, use `learning_rate` instead.\n",
      "  super().__init__(name, **kwargs)\n"
     ]
    },
    {
     "name": "stdout",
     "output_type": "stream",
     "text": [
      "46/46 [==============================] - 0s 1ms/step - loss: 1.2462 - accuracy: 0.5190\n",
      "accuracy = 0.5190476179122925\n",
      "Interpreting Sequential\n",
      "Topology:\n",
      "Layer name: fc1_input, layer type: Input\n",
      "Layer name: fc1, layer type: QDense\n",
      "Layer name: relu1, layer type: QActivation\n",
      "Layer name: output, layer type: QDense\n",
      "Layer name: softmax, layer type: Activation\n",
      "copy top.v, sim.Xtest, and sim.Ytest to the synopsys project \n"
     ]
    },
    {
     "name": "stderr",
     "output_type": "stream",
     "text": [
      "/home/argykokk/miniconda3/envs/hls4ml-tutorial/lib/python3.8/site-packages/keras/initializers/initializers_v2.py:120: UserWarning: The initializer LecunUniform is unseeded and being called multiple times, which will return identical values  each time (even if the initializer is unseeded). Please update your code to provide a seed to the initializer, or avoid using the same initalizer instance more than once.\n",
      "  warnings.warn(\n"
     ]
    },
    {
     "name": "stdout",
     "output_type": "stream",
     "text": [
      "frozen dataset 0\n",
      "frozen dataset 1\n",
      "frozen dataset 2\n",
      "frozen dataset 3\n",
      "frozen dataset 4\n",
      "frozen dataset 5\n",
      "frozen dataset 6\n",
      "frozen dataset 7\n",
      "frozen dataset 8\n",
      "frozen dataset 9\n",
      "frozen dataset 10\n"
     ]
    },
    {
     "name": "stderr",
     "output_type": "stream",
     "text": [
      "/home/argykokk/miniconda3/envs/hls4ml-tutorial/lib/python3.8/site-packages/keras/optimizers/optimizer_v2/adam.py:114: UserWarning: The `lr` argument is deprecated, use `learning_rate` instead.\n",
      "  super().__init__(name, **kwargs)\n"
     ]
    },
    {
     "name": "stdout",
     "output_type": "stream",
     "text": [
      "frozen dataset 0\n",
      "frozen dataset 1\n",
      "frozen dataset 2\n",
      "frozen dataset 3\n"
     ]
    },
    {
     "name": "stderr",
     "output_type": "stream",
     "text": [
      "/home/argykokk/miniconda3/envs/hls4ml-tutorial/lib/python3.8/site-packages/keras/optimizers/optimizer_v2/adam.py:114: UserWarning: The `lr` argument is deprecated, use `learning_rate` instead.\n",
      "  super().__init__(name, **kwargs)\n"
     ]
    },
    {
     "name": "stdout",
     "output_type": "stream",
     "text": [
      "46/46 [==============================] - 0s 999us/step - loss: 1.2462 - accuracy: 0.5190\n",
      "accuracy = 0.5190476179122925\n",
      "Interpreting Sequential\n",
      "Topology:\n",
      "Layer name: fc1_input, layer type: Input\n",
      "Layer name: fc1, layer type: QDense\n",
      "Layer name: relu1, layer type: QActivation\n",
      "Layer name: output, layer type: QDense\n",
      "Layer name: softmax, layer type: Activation\n",
      "copy top.v, sim.Xtest, and sim.Ytest to the synopsys project \n"
     ]
    },
    {
     "name": "stderr",
     "output_type": "stream",
     "text": [
      "/home/argykokk/miniconda3/envs/hls4ml-tutorial/lib/python3.8/site-packages/keras/initializers/initializers_v2.py:120: UserWarning: The initializer LecunUniform is unseeded and being called multiple times, which will return identical values  each time (even if the initializer is unseeded). Please update your code to provide a seed to the initializer, or avoid using the same initalizer instance more than once.\n",
      "  warnings.warn(\n"
     ]
    },
    {
     "name": "stdout",
     "output_type": "stream",
     "text": [
      "frozen dataset 0\n",
      "frozen dataset 1\n",
      "frozen dataset 2\n",
      "frozen dataset 3\n",
      "frozen dataset 4\n",
      "frozen dataset 5\n",
      "frozen dataset 6\n",
      "frozen dataset 7\n",
      "frozen dataset 8\n",
      "frozen dataset 9\n",
      "frozen dataset 10\n"
     ]
    },
    {
     "name": "stderr",
     "output_type": "stream",
     "text": [
      "/home/argykokk/miniconda3/envs/hls4ml-tutorial/lib/python3.8/site-packages/keras/optimizers/optimizer_v2/adam.py:114: UserWarning: The `lr` argument is deprecated, use `learning_rate` instead.\n",
      "  super().__init__(name, **kwargs)\n"
     ]
    },
    {
     "name": "stdout",
     "output_type": "stream",
     "text": [
      "frozen dataset 0\n",
      "frozen dataset 1\n",
      "frozen dataset 2\n",
      "frozen dataset 3\n"
     ]
    },
    {
     "name": "stderr",
     "output_type": "stream",
     "text": [
      "/home/argykokk/miniconda3/envs/hls4ml-tutorial/lib/python3.8/site-packages/keras/optimizers/optimizer_v2/adam.py:114: UserWarning: The `lr` argument is deprecated, use `learning_rate` instead.\n",
      "  super().__init__(name, **kwargs)\n"
     ]
    },
    {
     "name": "stdout",
     "output_type": "stream",
     "text": [
      "46/46 [==============================] - 0s 1ms/step - loss: 1.2462 - accuracy: 0.5190\n",
      "accuracy = 0.5190476179122925\n",
      "Interpreting Sequential\n",
      "Topology:\n",
      "Layer name: fc1_input, layer type: Input\n",
      "Layer name: fc1, layer type: QDense\n",
      "Layer name: relu1, layer type: QActivation\n",
      "Layer name: output, layer type: QDense\n",
      "Layer name: softmax, layer type: Activation\n",
      "copy top.v, sim.Xtest, and sim.Ytest to the synopsys project \n"
     ]
    },
    {
     "name": "stderr",
     "output_type": "stream",
     "text": [
      "/home/argykokk/miniconda3/envs/hls4ml-tutorial/lib/python3.8/site-packages/keras/initializers/initializers_v2.py:120: UserWarning: The initializer LecunUniform is unseeded and being called multiple times, which will return identical values  each time (even if the initializer is unseeded). Please update your code to provide a seed to the initializer, or avoid using the same initalizer instance more than once.\n",
      "  warnings.warn(\n"
     ]
    },
    {
     "name": "stdout",
     "output_type": "stream",
     "text": [
      "frozen dataset 0\n",
      "frozen dataset 1\n",
      "frozen dataset 2\n",
      "frozen dataset 3\n",
      "frozen dataset 4\n",
      "frozen dataset 5\n",
      "frozen dataset 6\n",
      "frozen dataset 7\n",
      "frozen dataset 8\n",
      "frozen dataset 9\n",
      "frozen dataset 10\n"
     ]
    },
    {
     "name": "stderr",
     "output_type": "stream",
     "text": [
      "/home/argykokk/miniconda3/envs/hls4ml-tutorial/lib/python3.8/site-packages/keras/optimizers/optimizer_v2/adam.py:114: UserWarning: The `lr` argument is deprecated, use `learning_rate` instead.\n",
      "  super().__init__(name, **kwargs)\n"
     ]
    },
    {
     "name": "stdout",
     "output_type": "stream",
     "text": [
      "frozen dataset 0\n",
      "frozen dataset 1\n",
      "frozen dataset 2\n",
      "frozen dataset 3\n"
     ]
    },
    {
     "name": "stderr",
     "output_type": "stream",
     "text": [
      "/home/argykokk/miniconda3/envs/hls4ml-tutorial/lib/python3.8/site-packages/keras/optimizers/optimizer_v2/adam.py:114: UserWarning: The `lr` argument is deprecated, use `learning_rate` instead.\n",
      "  super().__init__(name, **kwargs)\n"
     ]
    },
    {
     "name": "stdout",
     "output_type": "stream",
     "text": [
      "46/46 [==============================] - 0s 933us/step - loss: 1.2462 - accuracy: 0.5190\n",
      "accuracy = 0.5190476179122925\n",
      "Interpreting Sequential\n",
      "Topology:\n",
      "Layer name: fc1_input, layer type: Input\n",
      "Layer name: fc1, layer type: QDense\n",
      "Layer name: relu1, layer type: QActivation\n",
      "Layer name: output, layer type: QDense\n",
      "Layer name: softmax, layer type: Activation\n",
      "copy top.v, sim.Xtest, and sim.Ytest to the synopsys project \n"
     ]
    },
    {
     "name": "stderr",
     "output_type": "stream",
     "text": [
      "/home/argykokk/miniconda3/envs/hls4ml-tutorial/lib/python3.8/site-packages/keras/initializers/initializers_v2.py:120: UserWarning: The initializer LecunUniform is unseeded and being called multiple times, which will return identical values  each time (even if the initializer is unseeded). Please update your code to provide a seed to the initializer, or avoid using the same initalizer instance more than once.\n",
      "  warnings.warn(\n"
     ]
    },
    {
     "name": "stdout",
     "output_type": "stream",
     "text": [
      "frozen dataset 0\n",
      "frozen dataset 1\n",
      "frozen dataset 2\n",
      "frozen dataset 3\n",
      "frozen dataset 4\n",
      "frozen dataset 5\n",
      "frozen dataset 6\n",
      "frozen dataset 7\n",
      "frozen dataset 8\n",
      "frozen dataset 9\n",
      "frozen dataset 10\n"
     ]
    },
    {
     "name": "stderr",
     "output_type": "stream",
     "text": [
      "/home/argykokk/miniconda3/envs/hls4ml-tutorial/lib/python3.8/site-packages/keras/optimizers/optimizer_v2/adam.py:114: UserWarning: The `lr` argument is deprecated, use `learning_rate` instead.\n",
      "  super().__init__(name, **kwargs)\n"
     ]
    },
    {
     "name": "stdout",
     "output_type": "stream",
     "text": [
      "frozen dataset 0\n",
      "frozen dataset 1\n",
      "frozen dataset 2\n",
      "frozen dataset 3\n"
     ]
    },
    {
     "name": "stderr",
     "output_type": "stream",
     "text": [
      "/home/argykokk/miniconda3/envs/hls4ml-tutorial/lib/python3.8/site-packages/keras/optimizers/optimizer_v2/adam.py:114: UserWarning: The `lr` argument is deprecated, use `learning_rate` instead.\n",
      "  super().__init__(name, **kwargs)\n"
     ]
    },
    {
     "name": "stdout",
     "output_type": "stream",
     "text": [
      "46/46 [==============================] - 0s 960us/step - loss: 1.2462 - accuracy: 0.5190\n",
      "accuracy = 0.5190476179122925\n",
      "Interpreting Sequential\n",
      "Topology:\n",
      "Layer name: fc1_input, layer type: Input\n",
      "Layer name: fc1, layer type: QDense\n",
      "Layer name: relu1, layer type: QActivation\n",
      "Layer name: output, layer type: QDense\n",
      "Layer name: softmax, layer type: Activation\n",
      "copy top.v, sim.Xtest, and sim.Ytest to the synopsys project \n"
     ]
    },
    {
     "name": "stderr",
     "output_type": "stream",
     "text": [
      "/home/argykokk/miniconda3/envs/hls4ml-tutorial/lib/python3.8/site-packages/keras/initializers/initializers_v2.py:120: UserWarning: The initializer LecunUniform is unseeded and being called multiple times, which will return identical values  each time (even if the initializer is unseeded). Please update your code to provide a seed to the initializer, or avoid using the same initalizer instance more than once.\n",
      "  warnings.warn(\n"
     ]
    },
    {
     "name": "stdout",
     "output_type": "stream",
     "text": [
      "frozen dataset 0\n",
      "frozen dataset 1\n",
      "frozen dataset 2\n",
      "frozen dataset 3\n",
      "frozen dataset 4\n",
      "frozen dataset 5\n",
      "frozen dataset 6\n",
      "frozen dataset 7\n",
      "frozen dataset 8\n",
      "frozen dataset 9\n",
      "frozen dataset 10\n",
      "frozen dataset 0\n",
      "frozen dataset 1\n",
      "frozen dataset 2\n",
      "frozen dataset 3\n"
     ]
    },
    {
     "name": "stderr",
     "output_type": "stream",
     "text": [
      "/home/argykokk/miniconda3/envs/hls4ml-tutorial/lib/python3.8/site-packages/keras/optimizers/optimizer_v2/adam.py:114: UserWarning: The `lr` argument is deprecated, use `learning_rate` instead.\n",
      "  super().__init__(name, **kwargs)\n",
      "/home/argykokk/miniconda3/envs/hls4ml-tutorial/lib/python3.8/site-packages/keras/optimizers/optimizer_v2/adam.py:114: UserWarning: The `lr` argument is deprecated, use `learning_rate` instead.\n",
      "  super().__init__(name, **kwargs)\n"
     ]
    },
    {
     "name": "stdout",
     "output_type": "stream",
     "text": [
      "46/46 [==============================] - 0s 1ms/step - loss: 1.2462 - accuracy: 0.5190\n",
      "accuracy = 0.5190476179122925\n",
      "Interpreting Sequential\n",
      "Topology:\n",
      "Layer name: fc1_input, layer type: Input\n",
      "Layer name: fc1, layer type: QDense\n",
      "Layer name: relu1, layer type: QActivation\n",
      "Layer name: output, layer type: QDense\n",
      "Layer name: softmax, layer type: Activation\n",
      "copy top.v, sim.Xtest, and sim.Ytest to the synopsys project \n"
     ]
    },
    {
     "name": "stderr",
     "output_type": "stream",
     "text": [
      "/home/argykokk/miniconda3/envs/hls4ml-tutorial/lib/python3.8/site-packages/keras/initializers/initializers_v2.py:120: UserWarning: The initializer LecunUniform is unseeded and being called multiple times, which will return identical values  each time (even if the initializer is unseeded). Please update your code to provide a seed to the initializer, or avoid using the same initalizer instance more than once.\n",
      "  warnings.warn(\n"
     ]
    },
    {
     "name": "stdout",
     "output_type": "stream",
     "text": [
      "frozen dataset 0\n",
      "frozen dataset 1\n",
      "frozen dataset 2\n",
      "frozen dataset 3\n",
      "frozen dataset 4\n",
      "frozen dataset 5\n",
      "frozen dataset 6\n",
      "frozen dataset 7\n",
      "frozen dataset 8\n",
      "frozen dataset 9\n",
      "frozen dataset 10\n"
     ]
    },
    {
     "name": "stderr",
     "output_type": "stream",
     "text": [
      "/home/argykokk/miniconda3/envs/hls4ml-tutorial/lib/python3.8/site-packages/keras/optimizers/optimizer_v2/adam.py:114: UserWarning: The `lr` argument is deprecated, use `learning_rate` instead.\n",
      "  super().__init__(name, **kwargs)\n"
     ]
    },
    {
     "name": "stdout",
     "output_type": "stream",
     "text": [
      "frozen dataset 0\n",
      "frozen dataset 1\n",
      "frozen dataset 2\n",
      "frozen dataset 3\n"
     ]
    },
    {
     "name": "stderr",
     "output_type": "stream",
     "text": [
      "/home/argykokk/miniconda3/envs/hls4ml-tutorial/lib/python3.8/site-packages/keras/optimizers/optimizer_v2/adam.py:114: UserWarning: The `lr` argument is deprecated, use `learning_rate` instead.\n",
      "  super().__init__(name, **kwargs)\n"
     ]
    },
    {
     "name": "stdout",
     "output_type": "stream",
     "text": [
      "46/46 [==============================] - 0s 1ms/step - loss: 1.2462 - accuracy: 0.5190\n",
      "accuracy = 0.5190476179122925\n",
      "Interpreting Sequential\n",
      "Topology:\n",
      "Layer name: fc1_input, layer type: Input\n",
      "Layer name: fc1, layer type: QDense\n",
      "Layer name: relu1, layer type: QActivation\n",
      "Layer name: output, layer type: QDense\n",
      "Layer name: softmax, layer type: Activation\n",
      "copy top.v, sim.Xtest, and sim.Ytest to the synopsys project \n"
     ]
    },
    {
     "name": "stderr",
     "output_type": "stream",
     "text": [
      "/home/argykokk/miniconda3/envs/hls4ml-tutorial/lib/python3.8/site-packages/keras/initializers/initializers_v2.py:120: UserWarning: The initializer LecunUniform is unseeded and being called multiple times, which will return identical values  each time (even if the initializer is unseeded). Please update your code to provide a seed to the initializer, or avoid using the same initalizer instance more than once.\n",
      "  warnings.warn(\n"
     ]
    },
    {
     "name": "stdout",
     "output_type": "stream",
     "text": [
      "frozen dataset 0\n",
      "frozen dataset 1\n",
      "frozen dataset 2\n",
      "frozen dataset 3\n",
      "frozen dataset 4\n",
      "frozen dataset 5\n",
      "frozen dataset 6\n",
      "frozen dataset 7\n",
      "frozen dataset 8\n",
      "frozen dataset 9\n",
      "frozen dataset 10\n"
     ]
    },
    {
     "name": "stderr",
     "output_type": "stream",
     "text": [
      "/home/argykokk/miniconda3/envs/hls4ml-tutorial/lib/python3.8/site-packages/keras/optimizers/optimizer_v2/adam.py:114: UserWarning: The `lr` argument is deprecated, use `learning_rate` instead.\n",
      "  super().__init__(name, **kwargs)\n"
     ]
    },
    {
     "name": "stdout",
     "output_type": "stream",
     "text": [
      "frozen dataset 0\n",
      "frozen dataset 1\n",
      "frozen dataset 2\n",
      "frozen dataset 3\n"
     ]
    },
    {
     "name": "stderr",
     "output_type": "stream",
     "text": [
      "/home/argykokk/miniconda3/envs/hls4ml-tutorial/lib/python3.8/site-packages/keras/optimizers/optimizer_v2/adam.py:114: UserWarning: The `lr` argument is deprecated, use `learning_rate` instead.\n",
      "  super().__init__(name, **kwargs)\n"
     ]
    },
    {
     "name": "stdout",
     "output_type": "stream",
     "text": [
      "46/46 [==============================] - 0s 1ms/step - loss: 1.2462 - accuracy: 0.5190\n",
      "accuracy = 0.5190476179122925\n",
      "Interpreting Sequential\n",
      "Topology:\n",
      "Layer name: fc1_input, layer type: Input\n",
      "Layer name: fc1, layer type: QDense\n",
      "Layer name: relu1, layer type: QActivation\n",
      "Layer name: output, layer type: QDense\n",
      "Layer name: softmax, layer type: Activation\n",
      "copy top.v, sim.Xtest, and sim.Ytest to the synopsys project \n"
     ]
    },
    {
     "name": "stderr",
     "output_type": "stream",
     "text": [
      "/home/argykokk/miniconda3/envs/hls4ml-tutorial/lib/python3.8/site-packages/keras/initializers/initializers_v2.py:120: UserWarning: The initializer LecunUniform is unseeded and being called multiple times, which will return identical values  each time (even if the initializer is unseeded). Please update your code to provide a seed to the initializer, or avoid using the same initalizer instance more than once.\n",
      "  warnings.warn(\n"
     ]
    },
    {
     "name": "stdout",
     "output_type": "stream",
     "text": [
      "frozen dataset 0\n",
      "frozen dataset 1\n",
      "frozen dataset 2\n",
      "frozen dataset 3\n",
      "frozen dataset 4\n",
      "frozen dataset 5\n",
      "frozen dataset 6\n",
      "frozen dataset 7\n",
      "frozen dataset 8\n",
      "frozen dataset 9\n",
      "frozen dataset 10\n"
     ]
    },
    {
     "name": "stderr",
     "output_type": "stream",
     "text": [
      "/home/argykokk/miniconda3/envs/hls4ml-tutorial/lib/python3.8/site-packages/keras/optimizers/optimizer_v2/adam.py:114: UserWarning: The `lr` argument is deprecated, use `learning_rate` instead.\n",
      "  super().__init__(name, **kwargs)\n"
     ]
    },
    {
     "name": "stdout",
     "output_type": "stream",
     "text": [
      "frozen dataset 0\n",
      "frozen dataset 1\n",
      "frozen dataset 2\n",
      "frozen dataset 3\n"
     ]
    },
    {
     "name": "stderr",
     "output_type": "stream",
     "text": [
      "/home/argykokk/miniconda3/envs/hls4ml-tutorial/lib/python3.8/site-packages/keras/optimizers/optimizer_v2/adam.py:114: UserWarning: The `lr` argument is deprecated, use `learning_rate` instead.\n",
      "  super().__init__(name, **kwargs)\n"
     ]
    },
    {
     "name": "stdout",
     "output_type": "stream",
     "text": [
      "46/46 [==============================] - 0s 1ms/step - loss: 1.2462 - accuracy: 0.5190\n",
      "accuracy = 0.5190476179122925\n",
      "Interpreting Sequential\n",
      "Topology:\n",
      "Layer name: fc1_input, layer type: Input\n",
      "Layer name: fc1, layer type: QDense\n",
      "Layer name: relu1, layer type: QActivation\n",
      "Layer name: output, layer type: QDense\n",
      "Layer name: softmax, layer type: Activation\n",
      "copy top.v, sim.Xtest, and sim.Ytest to the synopsys project \n"
     ]
    },
    {
     "name": "stderr",
     "output_type": "stream",
     "text": [
      "/home/argykokk/miniconda3/envs/hls4ml-tutorial/lib/python3.8/site-packages/keras/initializers/initializers_v2.py:120: UserWarning: The initializer LecunUniform is unseeded and being called multiple times, which will return identical values  each time (even if the initializer is unseeded). Please update your code to provide a seed to the initializer, or avoid using the same initalizer instance more than once.\n",
      "  warnings.warn(\n"
     ]
    },
    {
     "name": "stdout",
     "output_type": "stream",
     "text": [
      "frozen dataset 0\n",
      "frozen dataset 1\n",
      "frozen dataset 2\n",
      "frozen dataset 3\n",
      "frozen dataset 4\n",
      "frozen dataset 5\n",
      "frozen dataset 6\n",
      "frozen dataset 7\n",
      "frozen dataset 8\n",
      "frozen dataset 9\n",
      "frozen dataset 10\n"
     ]
    },
    {
     "name": "stderr",
     "output_type": "stream",
     "text": [
      "/home/argykokk/miniconda3/envs/hls4ml-tutorial/lib/python3.8/site-packages/keras/optimizers/optimizer_v2/adam.py:114: UserWarning: The `lr` argument is deprecated, use `learning_rate` instead.\n",
      "  super().__init__(name, **kwargs)\n"
     ]
    },
    {
     "name": "stdout",
     "output_type": "stream",
     "text": [
      "frozen dataset 0\n",
      "frozen dataset 1\n",
      "frozen dataset 2\n",
      "frozen dataset 3\n"
     ]
    },
    {
     "name": "stderr",
     "output_type": "stream",
     "text": [
      "/home/argykokk/miniconda3/envs/hls4ml-tutorial/lib/python3.8/site-packages/keras/optimizers/optimizer_v2/adam.py:114: UserWarning: The `lr` argument is deprecated, use `learning_rate` instead.\n",
      "  super().__init__(name, **kwargs)\n"
     ]
    },
    {
     "name": "stdout",
     "output_type": "stream",
     "text": [
      "46/46 [==============================] - 0s 997us/step - loss: 1.2462 - accuracy: 0.5190\n",
      "accuracy = 0.5190476179122925\n",
      "Interpreting Sequential\n",
      "Topology:\n",
      "Layer name: fc1_input, layer type: Input\n",
      "Layer name: fc1, layer type: QDense\n",
      "Layer name: relu1, layer type: QActivation\n",
      "Layer name: output, layer type: QDense\n",
      "Layer name: softmax, layer type: Activation\n",
      "copy top.v, sim.Xtest, and sim.Ytest to the synopsys project \n"
     ]
    },
    {
     "name": "stderr",
     "output_type": "stream",
     "text": [
      "/home/argykokk/miniconda3/envs/hls4ml-tutorial/lib/python3.8/site-packages/keras/initializers/initializers_v2.py:120: UserWarning: The initializer LecunUniform is unseeded and being called multiple times, which will return identical values  each time (even if the initializer is unseeded). Please update your code to provide a seed to the initializer, or avoid using the same initalizer instance more than once.\n",
      "  warnings.warn(\n"
     ]
    },
    {
     "name": "stdout",
     "output_type": "stream",
     "text": [
      "frozen dataset 0\n",
      "frozen dataset 1\n",
      "frozen dataset 2\n",
      "frozen dataset 3\n",
      "frozen dataset 4\n",
      "frozen dataset 5\n",
      "frozen dataset 6\n",
      "frozen dataset 7\n",
      "frozen dataset 8\n",
      "frozen dataset 9\n",
      "frozen dataset 10\n"
     ]
    },
    {
     "name": "stderr",
     "output_type": "stream",
     "text": [
      "/home/argykokk/miniconda3/envs/hls4ml-tutorial/lib/python3.8/site-packages/keras/optimizers/optimizer_v2/adam.py:114: UserWarning: The `lr` argument is deprecated, use `learning_rate` instead.\n",
      "  super().__init__(name, **kwargs)\n"
     ]
    },
    {
     "name": "stdout",
     "output_type": "stream",
     "text": [
      "frozen dataset 0\n",
      "frozen dataset 1\n",
      "frozen dataset 2\n",
      "frozen dataset 3\n"
     ]
    },
    {
     "name": "stderr",
     "output_type": "stream",
     "text": [
      "/home/argykokk/miniconda3/envs/hls4ml-tutorial/lib/python3.8/site-packages/keras/optimizers/optimizer_v2/adam.py:114: UserWarning: The `lr` argument is deprecated, use `learning_rate` instead.\n",
      "  super().__init__(name, **kwargs)\n"
     ]
    },
    {
     "name": "stdout",
     "output_type": "stream",
     "text": [
      "46/46 [==============================] - 0s 1ms/step - loss: 1.2462 - accuracy: 0.5190\n",
      "accuracy = 0.5190476179122925\n",
      "Interpreting Sequential\n",
      "Topology:\n",
      "Layer name: fc1_input, layer type: Input\n",
      "Layer name: fc1, layer type: QDense\n",
      "Layer name: relu1, layer type: QActivation\n",
      "Layer name: output, layer type: QDense\n",
      "Layer name: softmax, layer type: Activation\n",
      "copy top.v, sim.Xtest, and sim.Ytest to the synopsys project \n"
     ]
    },
    {
     "name": "stderr",
     "output_type": "stream",
     "text": [
      "/home/argykokk/miniconda3/envs/hls4ml-tutorial/lib/python3.8/site-packages/keras/initializers/initializers_v2.py:120: UserWarning: The initializer LecunUniform is unseeded and being called multiple times, which will return identical values  each time (even if the initializer is unseeded). Please update your code to provide a seed to the initializer, or avoid using the same initalizer instance more than once.\n",
      "  warnings.warn(\n"
     ]
    },
    {
     "name": "stdout",
     "output_type": "stream",
     "text": [
      "frozen dataset 0\n",
      "frozen dataset 1\n",
      "frozen dataset 2\n",
      "frozen dataset 3\n",
      "frozen dataset 4\n",
      "frozen dataset 5\n",
      "frozen dataset 6\n",
      "frozen dataset 7\n",
      "frozen dataset 8\n",
      "frozen dataset 9\n",
      "frozen dataset 10\n",
      "frozen dataset 0\n",
      "frozen dataset 1\n",
      "frozen dataset 2\n",
      "frozen dataset 3\n"
     ]
    },
    {
     "name": "stderr",
     "output_type": "stream",
     "text": [
      "/home/argykokk/miniconda3/envs/hls4ml-tutorial/lib/python3.8/site-packages/keras/optimizers/optimizer_v2/adam.py:114: UserWarning: The `lr` argument is deprecated, use `learning_rate` instead.\n",
      "  super().__init__(name, **kwargs)\n",
      "/home/argykokk/miniconda3/envs/hls4ml-tutorial/lib/python3.8/site-packages/keras/optimizers/optimizer_v2/adam.py:114: UserWarning: The `lr` argument is deprecated, use `learning_rate` instead.\n",
      "  super().__init__(name, **kwargs)\n"
     ]
    },
    {
     "name": "stdout",
     "output_type": "stream",
     "text": [
      "46/46 [==============================] - 0s 1ms/step - loss: 1.2462 - accuracy: 0.5190\n",
      "accuracy = 0.5190476179122925\n",
      "Interpreting Sequential\n",
      "Topology:\n",
      "Layer name: fc1_input, layer type: Input\n",
      "Layer name: fc1, layer type: QDense\n",
      "Layer name: relu1, layer type: QActivation\n",
      "Layer name: output, layer type: QDense\n",
      "Layer name: softmax, layer type: Activation\n",
      "copy top.v, sim.Xtest, and sim.Ytest to the synopsys project \n"
     ]
    },
    {
     "name": "stderr",
     "output_type": "stream",
     "text": [
      "/home/argykokk/miniconda3/envs/hls4ml-tutorial/lib/python3.8/site-packages/keras/initializers/initializers_v2.py:120: UserWarning: The initializer LecunUniform is unseeded and being called multiple times, which will return identical values  each time (even if the initializer is unseeded). Please update your code to provide a seed to the initializer, or avoid using the same initalizer instance more than once.\n",
      "  warnings.warn(\n"
     ]
    },
    {
     "name": "stdout",
     "output_type": "stream",
     "text": [
      "frozen dataset 0\n",
      "frozen dataset 1\n",
      "frozen dataset 2\n",
      "frozen dataset 3\n",
      "frozen dataset 4\n",
      "frozen dataset 5\n",
      "frozen dataset 6\n",
      "frozen dataset 7\n",
      "frozen dataset 8\n",
      "frozen dataset 9\n",
      "frozen dataset 10\n",
      "frozen dataset 0\n",
      "frozen dataset 1\n",
      "frozen dataset 2\n",
      "frozen dataset 3\n"
     ]
    },
    {
     "name": "stderr",
     "output_type": "stream",
     "text": [
      "/home/argykokk/miniconda3/envs/hls4ml-tutorial/lib/python3.8/site-packages/keras/optimizers/optimizer_v2/adam.py:114: UserWarning: The `lr` argument is deprecated, use `learning_rate` instead.\n",
      "  super().__init__(name, **kwargs)\n",
      "/home/argykokk/miniconda3/envs/hls4ml-tutorial/lib/python3.8/site-packages/keras/optimizers/optimizer_v2/adam.py:114: UserWarning: The `lr` argument is deprecated, use `learning_rate` instead.\n",
      "  super().__init__(name, **kwargs)\n"
     ]
    },
    {
     "name": "stdout",
     "output_type": "stream",
     "text": [
      "46/46 [==============================] - 0s 1ms/step - loss: 1.2462 - accuracy: 0.5190\n",
      "accuracy = 0.5190476179122925\n",
      "Interpreting Sequential\n",
      "Topology:\n",
      "Layer name: fc1_input, layer type: Input\n",
      "Layer name: fc1, layer type: QDense\n",
      "Layer name: relu1, layer type: QActivation\n",
      "Layer name: output, layer type: QDense\n",
      "Layer name: softmax, layer type: Activation\n",
      "copy top.v, sim.Xtest, and sim.Ytest to the synopsys project \n"
     ]
    },
    {
     "name": "stderr",
     "output_type": "stream",
     "text": [
      "/home/argykokk/miniconda3/envs/hls4ml-tutorial/lib/python3.8/site-packages/keras/initializers/initializers_v2.py:120: UserWarning: The initializer LecunUniform is unseeded and being called multiple times, which will return identical values  each time (even if the initializer is unseeded). Please update your code to provide a seed to the initializer, or avoid using the same initalizer instance more than once.\n",
      "  warnings.warn(\n"
     ]
    },
    {
     "name": "stdout",
     "output_type": "stream",
     "text": [
      "frozen dataset 0\n",
      "frozen dataset 1\n",
      "frozen dataset 2\n",
      "frozen dataset 3\n",
      "frozen dataset 4\n",
      "frozen dataset 5\n",
      "frozen dataset 6\n",
      "frozen dataset 7\n",
      "frozen dataset 8\n",
      "frozen dataset 9\n",
      "frozen dataset 10\n"
     ]
    },
    {
     "name": "stderr",
     "output_type": "stream",
     "text": [
      "/home/argykokk/miniconda3/envs/hls4ml-tutorial/lib/python3.8/site-packages/keras/optimizers/optimizer_v2/adam.py:114: UserWarning: The `lr` argument is deprecated, use `learning_rate` instead.\n",
      "  super().__init__(name, **kwargs)\n"
     ]
    },
    {
     "name": "stdout",
     "output_type": "stream",
     "text": [
      "frozen dataset 0\n",
      "frozen dataset 1\n",
      "frozen dataset 2\n",
      "frozen dataset 3\n"
     ]
    },
    {
     "name": "stderr",
     "output_type": "stream",
     "text": [
      "/home/argykokk/miniconda3/envs/hls4ml-tutorial/lib/python3.8/site-packages/keras/optimizers/optimizer_v2/adam.py:114: UserWarning: The `lr` argument is deprecated, use `learning_rate` instead.\n",
      "  super().__init__(name, **kwargs)\n"
     ]
    },
    {
     "name": "stdout",
     "output_type": "stream",
     "text": [
      "46/46 [==============================] - 0s 923us/step - loss: 1.2462 - accuracy: 0.5190\n",
      "accuracy = 0.5190476179122925\n",
      "Interpreting Sequential\n",
      "Topology:\n",
      "Layer name: fc1_input, layer type: Input\n",
      "Layer name: fc1, layer type: QDense\n",
      "Layer name: relu1, layer type: QActivation\n",
      "Layer name: output, layer type: QDense\n",
      "Layer name: softmax, layer type: Activation\n",
      "copy top.v, sim.Xtest, and sim.Ytest to the synopsys project \n"
     ]
    },
    {
     "name": "stderr",
     "output_type": "stream",
     "text": [
      "/home/argykokk/miniconda3/envs/hls4ml-tutorial/lib/python3.8/site-packages/keras/initializers/initializers_v2.py:120: UserWarning: The initializer LecunUniform is unseeded and being called multiple times, which will return identical values  each time (even if the initializer is unseeded). Please update your code to provide a seed to the initializer, or avoid using the same initalizer instance more than once.\n",
      "  warnings.warn(\n"
     ]
    },
    {
     "name": "stdout",
     "output_type": "stream",
     "text": [
      "frozen dataset 0\n",
      "frozen dataset 1\n",
      "frozen dataset 2\n",
      "frozen dataset 3\n",
      "frozen dataset 4\n",
      "frozen dataset 5\n",
      "frozen dataset 6\n",
      "frozen dataset 7\n",
      "frozen dataset 8\n",
      "frozen dataset 9\n",
      "frozen dataset 10\n"
     ]
    },
    {
     "name": "stderr",
     "output_type": "stream",
     "text": [
      "/home/argykokk/miniconda3/envs/hls4ml-tutorial/lib/python3.8/site-packages/keras/optimizers/optimizer_v2/adam.py:114: UserWarning: The `lr` argument is deprecated, use `learning_rate` instead.\n",
      "  super().__init__(name, **kwargs)\n"
     ]
    },
    {
     "name": "stdout",
     "output_type": "stream",
     "text": [
      "frozen dataset 0\n",
      "frozen dataset 1\n",
      "frozen dataset 2\n",
      "frozen dataset 3\n"
     ]
    },
    {
     "name": "stderr",
     "output_type": "stream",
     "text": [
      "/home/argykokk/miniconda3/envs/hls4ml-tutorial/lib/python3.8/site-packages/keras/optimizers/optimizer_v2/adam.py:114: UserWarning: The `lr` argument is deprecated, use `learning_rate` instead.\n",
      "  super().__init__(name, **kwargs)\n"
     ]
    },
    {
     "name": "stdout",
     "output_type": "stream",
     "text": [
      "46/46 [==============================] - 0s 960us/step - loss: 1.2462 - accuracy: 0.5190\n",
      "accuracy = 0.5190476179122925\n",
      "Interpreting Sequential\n",
      "Topology:\n",
      "Layer name: fc1_input, layer type: Input\n",
      "Layer name: fc1, layer type: QDense\n",
      "Layer name: relu1, layer type: QActivation\n",
      "Layer name: output, layer type: QDense\n",
      "Layer name: softmax, layer type: Activation\n",
      "copy top.v, sim.Xtest, and sim.Ytest to the synopsys project \n"
     ]
    },
    {
     "name": "stderr",
     "output_type": "stream",
     "text": [
      "/home/argykokk/miniconda3/envs/hls4ml-tutorial/lib/python3.8/site-packages/keras/initializers/initializers_v2.py:120: UserWarning: The initializer LecunUniform is unseeded and being called multiple times, which will return identical values  each time (even if the initializer is unseeded). Please update your code to provide a seed to the initializer, or avoid using the same initalizer instance more than once.\n",
      "  warnings.warn(\n"
     ]
    },
    {
     "name": "stdout",
     "output_type": "stream",
     "text": [
      "frozen dataset 0\n",
      "frozen dataset 1\n",
      "frozen dataset 2\n",
      "frozen dataset 3\n",
      "frozen dataset 4\n",
      "frozen dataset 5\n",
      "frozen dataset 6\n",
      "frozen dataset 7\n",
      "frozen dataset 8\n",
      "frozen dataset 9\n",
      "frozen dataset 10\n"
     ]
    },
    {
     "name": "stderr",
     "output_type": "stream",
     "text": [
      "/home/argykokk/miniconda3/envs/hls4ml-tutorial/lib/python3.8/site-packages/keras/optimizers/optimizer_v2/adam.py:114: UserWarning: The `lr` argument is deprecated, use `learning_rate` instead.\n",
      "  super().__init__(name, **kwargs)\n"
     ]
    },
    {
     "name": "stdout",
     "output_type": "stream",
     "text": [
      "frozen dataset 0\n",
      "frozen dataset 1\n",
      "frozen dataset 2\n",
      "frozen dataset 3\n"
     ]
    },
    {
     "name": "stderr",
     "output_type": "stream",
     "text": [
      "/home/argykokk/miniconda3/envs/hls4ml-tutorial/lib/python3.8/site-packages/keras/optimizers/optimizer_v2/adam.py:114: UserWarning: The `lr` argument is deprecated, use `learning_rate` instead.\n",
      "  super().__init__(name, **kwargs)\n"
     ]
    },
    {
     "name": "stdout",
     "output_type": "stream",
     "text": [
      "46/46 [==============================] - 0s 967us/step - loss: 1.2462 - accuracy: 0.5190\n",
      "accuracy = 0.5190476179122925\n",
      "Interpreting Sequential\n",
      "Topology:\n",
      "Layer name: fc1_input, layer type: Input\n",
      "Layer name: fc1, layer type: QDense\n",
      "Layer name: relu1, layer type: QActivation\n",
      "Layer name: output, layer type: QDense\n",
      "Layer name: softmax, layer type: Activation\n",
      "copy top.v, sim.Xtest, and sim.Ytest to the synopsys project \n"
     ]
    },
    {
     "name": "stderr",
     "output_type": "stream",
     "text": [
      "/home/argykokk/miniconda3/envs/hls4ml-tutorial/lib/python3.8/site-packages/keras/initializers/initializers_v2.py:120: UserWarning: The initializer LecunUniform is unseeded and being called multiple times, which will return identical values  each time (even if the initializer is unseeded). Please update your code to provide a seed to the initializer, or avoid using the same initalizer instance more than once.\n",
      "  warnings.warn(\n"
     ]
    },
    {
     "name": "stdout",
     "output_type": "stream",
     "text": [
      "frozen dataset 0\n",
      "frozen dataset 1\n",
      "frozen dataset 2\n",
      "frozen dataset 3\n",
      "frozen dataset 4\n",
      "frozen dataset 5\n",
      "frozen dataset 6\n",
      "frozen dataset 7\n",
      "frozen dataset 8\n",
      "frozen dataset 9\n",
      "frozen dataset 10\n"
     ]
    },
    {
     "name": "stderr",
     "output_type": "stream",
     "text": [
      "/home/argykokk/miniconda3/envs/hls4ml-tutorial/lib/python3.8/site-packages/keras/optimizers/optimizer_v2/adam.py:114: UserWarning: The `lr` argument is deprecated, use `learning_rate` instead.\n",
      "  super().__init__(name, **kwargs)\n"
     ]
    },
    {
     "name": "stdout",
     "output_type": "stream",
     "text": [
      "frozen dataset 0\n",
      "frozen dataset 1\n",
      "frozen dataset 2\n",
      "frozen dataset 3\n"
     ]
    },
    {
     "name": "stderr",
     "output_type": "stream",
     "text": [
      "/home/argykokk/miniconda3/envs/hls4ml-tutorial/lib/python3.8/site-packages/keras/optimizers/optimizer_v2/adam.py:114: UserWarning: The `lr` argument is deprecated, use `learning_rate` instead.\n",
      "  super().__init__(name, **kwargs)\n"
     ]
    },
    {
     "name": "stdout",
     "output_type": "stream",
     "text": [
      "46/46 [==============================] - 0s 1ms/step - loss: 1.2462 - accuracy: 0.5190\n",
      "accuracy = 0.5190476179122925\n",
      "Interpreting Sequential\n",
      "Topology:\n",
      "Layer name: fc1_input, layer type: Input\n",
      "Layer name: fc1, layer type: QDense\n",
      "Layer name: relu1, layer type: QActivation\n",
      "Layer name: output, layer type: QDense\n",
      "Layer name: softmax, layer type: Activation\n",
      "copy top.v, sim.Xtest, and sim.Ytest to the synopsys project \n"
     ]
    },
    {
     "name": "stderr",
     "output_type": "stream",
     "text": [
      "/home/argykokk/miniconda3/envs/hls4ml-tutorial/lib/python3.8/site-packages/keras/initializers/initializers_v2.py:120: UserWarning: The initializer LecunUniform is unseeded and being called multiple times, which will return identical values  each time (even if the initializer is unseeded). Please update your code to provide a seed to the initializer, or avoid using the same initalizer instance more than once.\n",
      "  warnings.warn(\n"
     ]
    },
    {
     "name": "stdout",
     "output_type": "stream",
     "text": [
      "frozen dataset 0\n",
      "frozen dataset 1\n",
      "frozen dataset 2\n",
      "frozen dataset 3\n",
      "frozen dataset 4\n",
      "frozen dataset 5\n",
      "frozen dataset 6\n",
      "frozen dataset 7\n",
      "frozen dataset 8\n",
      "frozen dataset 9\n",
      "frozen dataset 10\n"
     ]
    },
    {
     "name": "stderr",
     "output_type": "stream",
     "text": [
      "/home/argykokk/miniconda3/envs/hls4ml-tutorial/lib/python3.8/site-packages/keras/optimizers/optimizer_v2/adam.py:114: UserWarning: The `lr` argument is deprecated, use `learning_rate` instead.\n",
      "  super().__init__(name, **kwargs)\n"
     ]
    },
    {
     "name": "stdout",
     "output_type": "stream",
     "text": [
      "frozen dataset 0\n",
      "frozen dataset 1\n",
      "frozen dataset 2\n",
      "frozen dataset 3\n"
     ]
    },
    {
     "name": "stderr",
     "output_type": "stream",
     "text": [
      "/home/argykokk/miniconda3/envs/hls4ml-tutorial/lib/python3.8/site-packages/keras/optimizers/optimizer_v2/adam.py:114: UserWarning: The `lr` argument is deprecated, use `learning_rate` instead.\n",
      "  super().__init__(name, **kwargs)\n"
     ]
    },
    {
     "name": "stdout",
     "output_type": "stream",
     "text": [
      "46/46 [==============================] - 0s 1ms/step - loss: 1.2462 - accuracy: 0.5190\n",
      "accuracy = 0.5190476179122925\n",
      "Interpreting Sequential\n",
      "Topology:\n",
      "Layer name: fc1_input, layer type: Input\n",
      "Layer name: fc1, layer type: QDense\n",
      "Layer name: relu1, layer type: QActivation\n",
      "Layer name: output, layer type: QDense\n",
      "Layer name: softmax, layer type: Activation\n",
      "copy top.v, sim.Xtest, and sim.Ytest to the synopsys project \n"
     ]
    },
    {
     "name": "stderr",
     "output_type": "stream",
     "text": [
      "/home/argykokk/miniconda3/envs/hls4ml-tutorial/lib/python3.8/site-packages/keras/initializers/initializers_v2.py:120: UserWarning: The initializer LecunUniform is unseeded and being called multiple times, which will return identical values  each time (even if the initializer is unseeded). Please update your code to provide a seed to the initializer, or avoid using the same initalizer instance more than once.\n",
      "  warnings.warn(\n"
     ]
    },
    {
     "name": "stdout",
     "output_type": "stream",
     "text": [
      "frozen dataset 0\n",
      "frozen dataset 1\n",
      "frozen dataset 2\n",
      "frozen dataset 3\n",
      "frozen dataset 4\n",
      "frozen dataset 5\n",
      "frozen dataset 6\n",
      "frozen dataset 7\n",
      "frozen dataset 8\n",
      "frozen dataset 9\n",
      "frozen dataset 10\n"
     ]
    },
    {
     "name": "stderr",
     "output_type": "stream",
     "text": [
      "/home/argykokk/miniconda3/envs/hls4ml-tutorial/lib/python3.8/site-packages/keras/optimizers/optimizer_v2/adam.py:114: UserWarning: The `lr` argument is deprecated, use `learning_rate` instead.\n",
      "  super().__init__(name, **kwargs)\n"
     ]
    },
    {
     "name": "stdout",
     "output_type": "stream",
     "text": [
      "frozen dataset 0\n",
      "frozen dataset 1\n",
      "frozen dataset 2\n",
      "frozen dataset 3\n"
     ]
    },
    {
     "name": "stderr",
     "output_type": "stream",
     "text": [
      "/home/argykokk/miniconda3/envs/hls4ml-tutorial/lib/python3.8/site-packages/keras/optimizers/optimizer_v2/adam.py:114: UserWarning: The `lr` argument is deprecated, use `learning_rate` instead.\n",
      "  super().__init__(name, **kwargs)\n"
     ]
    },
    {
     "name": "stdout",
     "output_type": "stream",
     "text": [
      "46/46 [==============================] - 0s 1ms/step - loss: 1.2462 - accuracy: 0.5190\n",
      "accuracy = 0.5190476179122925\n",
      "Interpreting Sequential\n",
      "Topology:\n",
      "Layer name: fc1_input, layer type: Input\n",
      "Layer name: fc1, layer type: QDense\n",
      "Layer name: relu1, layer type: QActivation\n",
      "Layer name: output, layer type: QDense\n",
      "Layer name: softmax, layer type: Activation\n",
      "copy top.v, sim.Xtest, and sim.Ytest to the synopsys project \n"
     ]
    },
    {
     "name": "stderr",
     "output_type": "stream",
     "text": [
      "/home/argykokk/miniconda3/envs/hls4ml-tutorial/lib/python3.8/site-packages/keras/initializers/initializers_v2.py:120: UserWarning: The initializer LecunUniform is unseeded and being called multiple times, which will return identical values  each time (even if the initializer is unseeded). Please update your code to provide a seed to the initializer, or avoid using the same initalizer instance more than once.\n",
      "  warnings.warn(\n"
     ]
    },
    {
     "name": "stdout",
     "output_type": "stream",
     "text": [
      "frozen dataset 0\n",
      "frozen dataset 1\n",
      "frozen dataset 2\n",
      "frozen dataset 3\n",
      "frozen dataset 4\n",
      "frozen dataset 5\n",
      "frozen dataset 6\n",
      "frozen dataset 7\n",
      "frozen dataset 8\n",
      "frozen dataset 9\n",
      "frozen dataset 10\n"
     ]
    },
    {
     "name": "stderr",
     "output_type": "stream",
     "text": [
      "/home/argykokk/miniconda3/envs/hls4ml-tutorial/lib/python3.8/site-packages/keras/optimizers/optimizer_v2/adam.py:114: UserWarning: The `lr` argument is deprecated, use `learning_rate` instead.\n",
      "  super().__init__(name, **kwargs)\n"
     ]
    },
    {
     "name": "stdout",
     "output_type": "stream",
     "text": [
      "frozen dataset 0\n",
      "frozen dataset 1\n",
      "frozen dataset 2\n",
      "frozen dataset 3\n"
     ]
    },
    {
     "name": "stderr",
     "output_type": "stream",
     "text": [
      "/home/argykokk/miniconda3/envs/hls4ml-tutorial/lib/python3.8/site-packages/keras/optimizers/optimizer_v2/adam.py:114: UserWarning: The `lr` argument is deprecated, use `learning_rate` instead.\n",
      "  super().__init__(name, **kwargs)\n"
     ]
    },
    {
     "name": "stdout",
     "output_type": "stream",
     "text": [
      "46/46 [==============================] - 0s 1ms/step - loss: 1.2462 - accuracy: 0.5190\n",
      "accuracy = 0.5190476179122925\n",
      "Interpreting Sequential\n",
      "Topology:\n",
      "Layer name: fc1_input, layer type: Input\n",
      "Layer name: fc1, layer type: QDense\n",
      "Layer name: relu1, layer type: QActivation\n",
      "Layer name: output, layer type: QDense\n",
      "Layer name: softmax, layer type: Activation\n",
      "copy top.v, sim.Xtest, and sim.Ytest to the synopsys project \n"
     ]
    },
    {
     "name": "stderr",
     "output_type": "stream",
     "text": [
      "/home/argykokk/miniconda3/envs/hls4ml-tutorial/lib/python3.8/site-packages/keras/initializers/initializers_v2.py:120: UserWarning: The initializer LecunUniform is unseeded and being called multiple times, which will return identical values  each time (even if the initializer is unseeded). Please update your code to provide a seed to the initializer, or avoid using the same initalizer instance more than once.\n",
      "  warnings.warn(\n"
     ]
    },
    {
     "name": "stdout",
     "output_type": "stream",
     "text": [
      "frozen dataset 0\n",
      "frozen dataset 1\n",
      "frozen dataset 2\n",
      "frozen dataset 3\n",
      "frozen dataset 4\n",
      "frozen dataset 5\n",
      "frozen dataset 6\n",
      "frozen dataset 7\n",
      "frozen dataset 8\n",
      "frozen dataset 9\n",
      "frozen dataset 10\n"
     ]
    },
    {
     "name": "stderr",
     "output_type": "stream",
     "text": [
      "/home/argykokk/miniconda3/envs/hls4ml-tutorial/lib/python3.8/site-packages/keras/optimizers/optimizer_v2/adam.py:114: UserWarning: The `lr` argument is deprecated, use `learning_rate` instead.\n",
      "  super().__init__(name, **kwargs)\n"
     ]
    },
    {
     "name": "stdout",
     "output_type": "stream",
     "text": [
      "frozen dataset 0\n",
      "frozen dataset 1\n",
      "frozen dataset 2\n",
      "frozen dataset 3\n"
     ]
    },
    {
     "name": "stderr",
     "output_type": "stream",
     "text": [
      "/home/argykokk/miniconda3/envs/hls4ml-tutorial/lib/python3.8/site-packages/keras/optimizers/optimizer_v2/adam.py:114: UserWarning: The `lr` argument is deprecated, use `learning_rate` instead.\n",
      "  super().__init__(name, **kwargs)\n"
     ]
    },
    {
     "name": "stdout",
     "output_type": "stream",
     "text": [
      "46/46 [==============================] - 0s 1ms/step - loss: 1.2462 - accuracy: 0.5190\n",
      "accuracy = 0.5190476179122925\n",
      "Interpreting Sequential\n",
      "Topology:\n",
      "Layer name: fc1_input, layer type: Input\n",
      "Layer name: fc1, layer type: QDense\n",
      "Layer name: relu1, layer type: QActivation\n",
      "Layer name: output, layer type: QDense\n",
      "Layer name: softmax, layer type: Activation\n",
      "copy top.v, sim.Xtest, and sim.Ytest to the synopsys project \n"
     ]
    },
    {
     "name": "stderr",
     "output_type": "stream",
     "text": [
      "/home/argykokk/miniconda3/envs/hls4ml-tutorial/lib/python3.8/site-packages/keras/initializers/initializers_v2.py:120: UserWarning: The initializer LecunUniform is unseeded and being called multiple times, which will return identical values  each time (even if the initializer is unseeded). Please update your code to provide a seed to the initializer, or avoid using the same initalizer instance more than once.\n",
      "  warnings.warn(\n"
     ]
    },
    {
     "name": "stdout",
     "output_type": "stream",
     "text": [
      "frozen dataset 0\n",
      "frozen dataset 1\n",
      "frozen dataset 2\n",
      "frozen dataset 3\n",
      "frozen dataset 4\n",
      "frozen dataset 5\n",
      "frozen dataset 6\n",
      "frozen dataset 7\n",
      "frozen dataset 8\n",
      "frozen dataset 9\n",
      "frozen dataset 10\n"
     ]
    },
    {
     "name": "stderr",
     "output_type": "stream",
     "text": [
      "/home/argykokk/miniconda3/envs/hls4ml-tutorial/lib/python3.8/site-packages/keras/optimizers/optimizer_v2/adam.py:114: UserWarning: The `lr` argument is deprecated, use `learning_rate` instead.\n",
      "  super().__init__(name, **kwargs)\n"
     ]
    },
    {
     "name": "stdout",
     "output_type": "stream",
     "text": [
      "frozen dataset 0\n",
      "frozen dataset 1\n",
      "frozen dataset 2\n",
      "frozen dataset 3\n"
     ]
    },
    {
     "name": "stderr",
     "output_type": "stream",
     "text": [
      "/home/argykokk/miniconda3/envs/hls4ml-tutorial/lib/python3.8/site-packages/keras/optimizers/optimizer_v2/adam.py:114: UserWarning: The `lr` argument is deprecated, use `learning_rate` instead.\n",
      "  super().__init__(name, **kwargs)\n"
     ]
    },
    {
     "name": "stdout",
     "output_type": "stream",
     "text": [
      "46/46 [==============================] - 1s 1ms/step - loss: 1.2462 - accuracy: 0.5190\n",
      "accuracy = 0.5190476179122925\n",
      "Interpreting Sequential\n",
      "Topology:\n",
      "Layer name: fc1_input, layer type: Input\n",
      "Layer name: fc1, layer type: QDense\n",
      "Layer name: relu1, layer type: QActivation\n",
      "Layer name: output, layer type: QDense\n",
      "Layer name: softmax, layer type: Activation\n",
      "copy top.v, sim.Xtest, and sim.Ytest to the synopsys project \n"
     ]
    },
    {
     "name": "stderr",
     "output_type": "stream",
     "text": [
      "/home/argykokk/miniconda3/envs/hls4ml-tutorial/lib/python3.8/site-packages/keras/initializers/initializers_v2.py:120: UserWarning: The initializer LecunUniform is unseeded and being called multiple times, which will return identical values  each time (even if the initializer is unseeded). Please update your code to provide a seed to the initializer, or avoid using the same initalizer instance more than once.\n",
      "  warnings.warn(\n"
     ]
    },
    {
     "name": "stdout",
     "output_type": "stream",
     "text": [
      "frozen dataset 0\n",
      "frozen dataset 1\n",
      "frozen dataset 2\n",
      "frozen dataset 3\n",
      "frozen dataset 4\n",
      "frozen dataset 5\n",
      "frozen dataset 6\n",
      "frozen dataset 7\n",
      "frozen dataset 8\n",
      "frozen dataset 9\n",
      "frozen dataset 10\n",
      "frozen dataset 0\n",
      "frozen dataset 1\n",
      "frozen dataset 2\n",
      "frozen dataset 3\n"
     ]
    },
    {
     "name": "stderr",
     "output_type": "stream",
     "text": [
      "/home/argykokk/miniconda3/envs/hls4ml-tutorial/lib/python3.8/site-packages/keras/optimizers/optimizer_v2/adam.py:114: UserWarning: The `lr` argument is deprecated, use `learning_rate` instead.\n",
      "  super().__init__(name, **kwargs)\n",
      "/home/argykokk/miniconda3/envs/hls4ml-tutorial/lib/python3.8/site-packages/keras/optimizers/optimizer_v2/adam.py:114: UserWarning: The `lr` argument is deprecated, use `learning_rate` instead.\n",
      "  super().__init__(name, **kwargs)\n"
     ]
    },
    {
     "name": "stdout",
     "output_type": "stream",
     "text": [
      "46/46 [==============================] - 0s 1ms/step - loss: 1.2462 - accuracy: 0.5190\n",
      "accuracy = 0.5190476179122925\n",
      "Interpreting Sequential\n",
      "Topology:\n",
      "Layer name: fc1_input, layer type: Input\n",
      "Layer name: fc1, layer type: QDense\n",
      "Layer name: relu1, layer type: QActivation\n",
      "Layer name: output, layer type: QDense\n",
      "Layer name: softmax, layer type: Activation\n",
      "copy top.v, sim.Xtest, and sim.Ytest to the synopsys project \n"
     ]
    },
    {
     "name": "stderr",
     "output_type": "stream",
     "text": [
      "/home/argykokk/miniconda3/envs/hls4ml-tutorial/lib/python3.8/site-packages/keras/initializers/initializers_v2.py:120: UserWarning: The initializer LecunUniform is unseeded and being called multiple times, which will return identical values  each time (even if the initializer is unseeded). Please update your code to provide a seed to the initializer, or avoid using the same initalizer instance more than once.\n",
      "  warnings.warn(\n"
     ]
    },
    {
     "name": "stdout",
     "output_type": "stream",
     "text": [
      "frozen dataset 0\n",
      "frozen dataset 1\n",
      "frozen dataset 2\n",
      "frozen dataset 3\n",
      "frozen dataset 4\n",
      "frozen dataset 5\n",
      "frozen dataset 6\n",
      "frozen dataset 7\n",
      "frozen dataset 8\n",
      "frozen dataset 9\n",
      "frozen dataset 10\n"
     ]
    },
    {
     "name": "stderr",
     "output_type": "stream",
     "text": [
      "/home/argykokk/miniconda3/envs/hls4ml-tutorial/lib/python3.8/site-packages/keras/optimizers/optimizer_v2/adam.py:114: UserWarning: The `lr` argument is deprecated, use `learning_rate` instead.\n",
      "  super().__init__(name, **kwargs)\n"
     ]
    },
    {
     "name": "stdout",
     "output_type": "stream",
     "text": [
      "frozen dataset 0\n",
      "frozen dataset 1\n",
      "frozen dataset 2\n",
      "frozen dataset 3\n"
     ]
    },
    {
     "name": "stderr",
     "output_type": "stream",
     "text": [
      "/home/argykokk/miniconda3/envs/hls4ml-tutorial/lib/python3.8/site-packages/keras/optimizers/optimizer_v2/adam.py:114: UserWarning: The `lr` argument is deprecated, use `learning_rate` instead.\n",
      "  super().__init__(name, **kwargs)\n"
     ]
    },
    {
     "name": "stdout",
     "output_type": "stream",
     "text": [
      "46/46 [==============================] - 0s 1ms/step - loss: 1.2462 - accuracy: 0.5190\n",
      "accuracy = 0.5190476179122925\n",
      "Interpreting Sequential\n",
      "Topology:\n",
      "Layer name: fc1_input, layer type: Input\n",
      "Layer name: fc1, layer type: QDense\n",
      "Layer name: relu1, layer type: QActivation\n",
      "Layer name: output, layer type: QDense\n",
      "Layer name: softmax, layer type: Activation\n",
      "copy top.v, sim.Xtest, and sim.Ytest to the synopsys project \n"
     ]
    },
    {
     "name": "stderr",
     "output_type": "stream",
     "text": [
      "/home/argykokk/miniconda3/envs/hls4ml-tutorial/lib/python3.8/site-packages/keras/initializers/initializers_v2.py:120: UserWarning: The initializer LecunUniform is unseeded and being called multiple times, which will return identical values  each time (even if the initializer is unseeded). Please update your code to provide a seed to the initializer, or avoid using the same initalizer instance more than once.\n",
      "  warnings.warn(\n"
     ]
    },
    {
     "name": "stdout",
     "output_type": "stream",
     "text": [
      "frozen dataset 0\n",
      "frozen dataset 1\n",
      "frozen dataset 2\n",
      "frozen dataset 3\n",
      "frozen dataset 4\n",
      "frozen dataset 5\n",
      "frozen dataset 6\n",
      "frozen dataset 7\n",
      "frozen dataset 8\n",
      "frozen dataset 9\n",
      "frozen dataset 10\n"
     ]
    },
    {
     "name": "stderr",
     "output_type": "stream",
     "text": [
      "/home/argykokk/miniconda3/envs/hls4ml-tutorial/lib/python3.8/site-packages/keras/optimizers/optimizer_v2/adam.py:114: UserWarning: The `lr` argument is deprecated, use `learning_rate` instead.\n",
      "  super().__init__(name, **kwargs)\n"
     ]
    },
    {
     "name": "stdout",
     "output_type": "stream",
     "text": [
      "frozen dataset 0\n",
      "frozen dataset 1\n",
      "frozen dataset 2\n",
      "frozen dataset 3\n"
     ]
    },
    {
     "name": "stderr",
     "output_type": "stream",
     "text": [
      "/home/argykokk/miniconda3/envs/hls4ml-tutorial/lib/python3.8/site-packages/keras/optimizers/optimizer_v2/adam.py:114: UserWarning: The `lr` argument is deprecated, use `learning_rate` instead.\n",
      "  super().__init__(name, **kwargs)\n"
     ]
    },
    {
     "name": "stdout",
     "output_type": "stream",
     "text": [
      "46/46 [==============================] - 0s 1ms/step - loss: 1.2462 - accuracy: 0.5190\n",
      "accuracy = 0.5190476179122925\n",
      "Interpreting Sequential\n",
      "Topology:\n",
      "Layer name: fc1_input, layer type: Input\n",
      "Layer name: fc1, layer type: QDense\n",
      "Layer name: relu1, layer type: QActivation\n",
      "Layer name: output, layer type: QDense\n",
      "Layer name: softmax, layer type: Activation\n",
      "copy top.v, sim.Xtest, and sim.Ytest to the synopsys project \n"
     ]
    },
    {
     "name": "stderr",
     "output_type": "stream",
     "text": [
      "/home/argykokk/miniconda3/envs/hls4ml-tutorial/lib/python3.8/site-packages/keras/initializers/initializers_v2.py:120: UserWarning: The initializer LecunUniform is unseeded and being called multiple times, which will return identical values  each time (even if the initializer is unseeded). Please update your code to provide a seed to the initializer, or avoid using the same initalizer instance more than once.\n",
      "  warnings.warn(\n"
     ]
    },
    {
     "name": "stdout",
     "output_type": "stream",
     "text": [
      "frozen dataset 0\n",
      "frozen dataset 1\n",
      "frozen dataset 2\n",
      "frozen dataset 3\n",
      "frozen dataset 4\n",
      "frozen dataset 5\n",
      "frozen dataset 6\n",
      "frozen dataset 7\n",
      "frozen dataset 8\n",
      "frozen dataset 9\n",
      "frozen dataset 10\n"
     ]
    },
    {
     "name": "stderr",
     "output_type": "stream",
     "text": [
      "/home/argykokk/miniconda3/envs/hls4ml-tutorial/lib/python3.8/site-packages/keras/optimizers/optimizer_v2/adam.py:114: UserWarning: The `lr` argument is deprecated, use `learning_rate` instead.\n",
      "  super().__init__(name, **kwargs)\n"
     ]
    },
    {
     "name": "stdout",
     "output_type": "stream",
     "text": [
      "frozen dataset 0\n",
      "frozen dataset 1\n",
      "frozen dataset 2\n",
      "frozen dataset 3\n"
     ]
    },
    {
     "name": "stderr",
     "output_type": "stream",
     "text": [
      "/home/argykokk/miniconda3/envs/hls4ml-tutorial/lib/python3.8/site-packages/keras/optimizers/optimizer_v2/adam.py:114: UserWarning: The `lr` argument is deprecated, use `learning_rate` instead.\n",
      "  super().__init__(name, **kwargs)\n"
     ]
    },
    {
     "name": "stdout",
     "output_type": "stream",
     "text": [
      "46/46 [==============================] - 0s 1ms/step - loss: 1.2462 - accuracy: 0.5190\n",
      "accuracy = 0.5190476179122925\n",
      "Interpreting Sequential\n",
      "Topology:\n",
      "Layer name: fc1_input, layer type: Input\n",
      "Layer name: fc1, layer type: QDense\n",
      "Layer name: relu1, layer type: QActivation\n",
      "Layer name: output, layer type: QDense\n",
      "Layer name: softmax, layer type: Activation\n",
      "copy top.v, sim.Xtest, and sim.Ytest to the synopsys project \n"
     ]
    },
    {
     "name": "stderr",
     "output_type": "stream",
     "text": [
      "/home/argykokk/miniconda3/envs/hls4ml-tutorial/lib/python3.8/site-packages/keras/initializers/initializers_v2.py:120: UserWarning: The initializer LecunUniform is unseeded and being called multiple times, which will return identical values  each time (even if the initializer is unseeded). Please update your code to provide a seed to the initializer, or avoid using the same initalizer instance more than once.\n",
      "  warnings.warn(\n"
     ]
    },
    {
     "name": "stdout",
     "output_type": "stream",
     "text": [
      "frozen dataset 0\n",
      "frozen dataset 1\n",
      "frozen dataset 2\n",
      "frozen dataset 3\n",
      "frozen dataset 4\n",
      "frozen dataset 5\n",
      "frozen dataset 6\n",
      "frozen dataset 7\n",
      "frozen dataset 8\n",
      "frozen dataset 9\n",
      "frozen dataset 10\n"
     ]
    },
    {
     "name": "stderr",
     "output_type": "stream",
     "text": [
      "/home/argykokk/miniconda3/envs/hls4ml-tutorial/lib/python3.8/site-packages/keras/optimizers/optimizer_v2/adam.py:114: UserWarning: The `lr` argument is deprecated, use `learning_rate` instead.\n",
      "  super().__init__(name, **kwargs)\n"
     ]
    },
    {
     "name": "stdout",
     "output_type": "stream",
     "text": [
      "frozen dataset 0\n",
      "frozen dataset 1\n",
      "frozen dataset 2\n",
      "frozen dataset 3\n"
     ]
    },
    {
     "name": "stderr",
     "output_type": "stream",
     "text": [
      "/home/argykokk/miniconda3/envs/hls4ml-tutorial/lib/python3.8/site-packages/keras/optimizers/optimizer_v2/adam.py:114: UserWarning: The `lr` argument is deprecated, use `learning_rate` instead.\n",
      "  super().__init__(name, **kwargs)\n"
     ]
    },
    {
     "name": "stdout",
     "output_type": "stream",
     "text": [
      "46/46 [==============================] - 0s 1ms/step - loss: 1.2462 - accuracy: 0.5190\n",
      "accuracy = 0.5190476179122925\n",
      "Interpreting Sequential\n",
      "Topology:\n",
      "Layer name: fc1_input, layer type: Input\n",
      "Layer name: fc1, layer type: QDense\n",
      "Layer name: relu1, layer type: QActivation\n",
      "Layer name: output, layer type: QDense\n",
      "Layer name: softmax, layer type: Activation\n",
      "copy top.v, sim.Xtest, and sim.Ytest to the synopsys project \n"
     ]
    },
    {
     "name": "stderr",
     "output_type": "stream",
     "text": [
      "/home/argykokk/miniconda3/envs/hls4ml-tutorial/lib/python3.8/site-packages/keras/initializers/initializers_v2.py:120: UserWarning: The initializer LecunUniform is unseeded and being called multiple times, which will return identical values  each time (even if the initializer is unseeded). Please update your code to provide a seed to the initializer, or avoid using the same initalizer instance more than once.\n",
      "  warnings.warn(\n"
     ]
    },
    {
     "name": "stdout",
     "output_type": "stream",
     "text": [
      "frozen dataset 0\n",
      "frozen dataset 1\n",
      "frozen dataset 2\n",
      "frozen dataset 3\n",
      "frozen dataset 4\n",
      "frozen dataset 5\n",
      "frozen dataset 6\n",
      "frozen dataset 7\n",
      "frozen dataset 8\n",
      "frozen dataset 9\n",
      "frozen dataset 10\n"
     ]
    },
    {
     "name": "stderr",
     "output_type": "stream",
     "text": [
      "/home/argykokk/miniconda3/envs/hls4ml-tutorial/lib/python3.8/site-packages/keras/optimizers/optimizer_v2/adam.py:114: UserWarning: The `lr` argument is deprecated, use `learning_rate` instead.\n",
      "  super().__init__(name, **kwargs)\n"
     ]
    },
    {
     "name": "stdout",
     "output_type": "stream",
     "text": [
      "frozen dataset 0\n",
      "frozen dataset 1\n",
      "frozen dataset 2\n",
      "frozen dataset 3\n"
     ]
    },
    {
     "name": "stderr",
     "output_type": "stream",
     "text": [
      "/home/argykokk/miniconda3/envs/hls4ml-tutorial/lib/python3.8/site-packages/keras/optimizers/optimizer_v2/adam.py:114: UserWarning: The `lr` argument is deprecated, use `learning_rate` instead.\n",
      "  super().__init__(name, **kwargs)\n"
     ]
    },
    {
     "name": "stdout",
     "output_type": "stream",
     "text": [
      "46/46 [==============================] - 0s 1ms/step - loss: 1.2462 - accuracy: 0.5190\n",
      "accuracy = 0.5190476179122925\n",
      "Interpreting Sequential\n",
      "Topology:\n",
      "Layer name: fc1_input, layer type: Input\n",
      "Layer name: fc1, layer type: QDense\n",
      "Layer name: relu1, layer type: QActivation\n",
      "Layer name: output, layer type: QDense\n",
      "Layer name: softmax, layer type: Activation\n",
      "copy top.v, sim.Xtest, and sim.Ytest to the synopsys project \n"
     ]
    },
    {
     "name": "stderr",
     "output_type": "stream",
     "text": [
      "/home/argykokk/miniconda3/envs/hls4ml-tutorial/lib/python3.8/site-packages/keras/initializers/initializers_v2.py:120: UserWarning: The initializer LecunUniform is unseeded and being called multiple times, which will return identical values  each time (even if the initializer is unseeded). Please update your code to provide a seed to the initializer, or avoid using the same initalizer instance more than once.\n",
      "  warnings.warn(\n"
     ]
    },
    {
     "name": "stdout",
     "output_type": "stream",
     "text": [
      "frozen dataset 0\n",
      "frozen dataset 1\n",
      "frozen dataset 2\n",
      "frozen dataset 3\n",
      "frozen dataset 4\n",
      "frozen dataset 5\n",
      "frozen dataset 6\n",
      "frozen dataset 7\n",
      "frozen dataset 8\n",
      "frozen dataset 9\n",
      "frozen dataset 10\n"
     ]
    },
    {
     "name": "stderr",
     "output_type": "stream",
     "text": [
      "/home/argykokk/miniconda3/envs/hls4ml-tutorial/lib/python3.8/site-packages/keras/optimizers/optimizer_v2/adam.py:114: UserWarning: The `lr` argument is deprecated, use `learning_rate` instead.\n",
      "  super().__init__(name, **kwargs)\n"
     ]
    },
    {
     "name": "stdout",
     "output_type": "stream",
     "text": [
      "frozen dataset 0\n",
      "frozen dataset 1\n",
      "frozen dataset 2\n",
      "frozen dataset 3\n"
     ]
    },
    {
     "name": "stderr",
     "output_type": "stream",
     "text": [
      "/home/argykokk/miniconda3/envs/hls4ml-tutorial/lib/python3.8/site-packages/keras/optimizers/optimizer_v2/adam.py:114: UserWarning: The `lr` argument is deprecated, use `learning_rate` instead.\n",
      "  super().__init__(name, **kwargs)\n"
     ]
    },
    {
     "name": "stdout",
     "output_type": "stream",
     "text": [
      "46/46 [==============================] - 0s 1ms/step - loss: 1.2462 - accuracy: 0.5190\n",
      "accuracy = 0.5190476179122925\n",
      "Interpreting Sequential\n",
      "Topology:\n",
      "Layer name: fc1_input, layer type: Input\n",
      "Layer name: fc1, layer type: QDense\n",
      "Layer name: relu1, layer type: QActivation\n",
      "Layer name: output, layer type: QDense\n",
      "Layer name: softmax, layer type: Activation\n",
      "copy top.v, sim.Xtest, and sim.Ytest to the synopsys project \n"
     ]
    },
    {
     "name": "stderr",
     "output_type": "stream",
     "text": [
      "/home/argykokk/miniconda3/envs/hls4ml-tutorial/lib/python3.8/site-packages/keras/initializers/initializers_v2.py:120: UserWarning: The initializer LecunUniform is unseeded and being called multiple times, which will return identical values  each time (even if the initializer is unseeded). Please update your code to provide a seed to the initializer, or avoid using the same initalizer instance more than once.\n",
      "  warnings.warn(\n"
     ]
    },
    {
     "name": "stdout",
     "output_type": "stream",
     "text": [
      "frozen dataset 0\n",
      "frozen dataset 1\n",
      "frozen dataset 2\n",
      "frozen dataset 3\n",
      "frozen dataset 4\n",
      "frozen dataset 5\n",
      "frozen dataset 6\n",
      "frozen dataset 7\n",
      "frozen dataset 8\n",
      "frozen dataset 9\n",
      "frozen dataset 10\n"
     ]
    },
    {
     "name": "stderr",
     "output_type": "stream",
     "text": [
      "/home/argykokk/miniconda3/envs/hls4ml-tutorial/lib/python3.8/site-packages/keras/optimizers/optimizer_v2/adam.py:114: UserWarning: The `lr` argument is deprecated, use `learning_rate` instead.\n",
      "  super().__init__(name, **kwargs)\n"
     ]
    },
    {
     "name": "stdout",
     "output_type": "stream",
     "text": [
      "frozen dataset 0\n",
      "frozen dataset 1\n",
      "frozen dataset 2\n",
      "frozen dataset 3\n"
     ]
    },
    {
     "name": "stderr",
     "output_type": "stream",
     "text": [
      "/home/argykokk/miniconda3/envs/hls4ml-tutorial/lib/python3.8/site-packages/keras/optimizers/optimizer_v2/adam.py:114: UserWarning: The `lr` argument is deprecated, use `learning_rate` instead.\n",
      "  super().__init__(name, **kwargs)\n"
     ]
    },
    {
     "name": "stdout",
     "output_type": "stream",
     "text": [
      "46/46 [==============================] - 0s 1ms/step - loss: 1.2462 - accuracy: 0.5190\n",
      "accuracy = 0.5190476179122925\n",
      "Interpreting Sequential\n",
      "Topology:\n",
      "Layer name: fc1_input, layer type: Input\n",
      "Layer name: fc1, layer type: QDense\n",
      "Layer name: relu1, layer type: QActivation\n",
      "Layer name: output, layer type: QDense\n",
      "Layer name: softmax, layer type: Activation\n",
      "copy top.v, sim.Xtest, and sim.Ytest to the synopsys project \n"
     ]
    },
    {
     "name": "stderr",
     "output_type": "stream",
     "text": [
      "/home/argykokk/miniconda3/envs/hls4ml-tutorial/lib/python3.8/site-packages/keras/initializers/initializers_v2.py:120: UserWarning: The initializer LecunUniform is unseeded and being called multiple times, which will return identical values  each time (even if the initializer is unseeded). Please update your code to provide a seed to the initializer, or avoid using the same initalizer instance more than once.\n",
      "  warnings.warn(\n"
     ]
    },
    {
     "name": "stdout",
     "output_type": "stream",
     "text": [
      "frozen dataset 0\n",
      "frozen dataset 1\n",
      "frozen dataset 2\n",
      "frozen dataset 3\n",
      "frozen dataset 4\n",
      "frozen dataset 5\n",
      "frozen dataset 6\n",
      "frozen dataset 7\n",
      "frozen dataset 8\n",
      "frozen dataset 9\n",
      "frozen dataset 10\n"
     ]
    },
    {
     "name": "stderr",
     "output_type": "stream",
     "text": [
      "/home/argykokk/miniconda3/envs/hls4ml-tutorial/lib/python3.8/site-packages/keras/optimizers/optimizer_v2/adam.py:114: UserWarning: The `lr` argument is deprecated, use `learning_rate` instead.\n",
      "  super().__init__(name, **kwargs)\n"
     ]
    },
    {
     "name": "stdout",
     "output_type": "stream",
     "text": [
      "frozen dataset 0\n",
      "frozen dataset 1\n",
      "frozen dataset 2\n",
      "frozen dataset 3\n"
     ]
    },
    {
     "name": "stderr",
     "output_type": "stream",
     "text": [
      "/home/argykokk/miniconda3/envs/hls4ml-tutorial/lib/python3.8/site-packages/keras/optimizers/optimizer_v2/adam.py:114: UserWarning: The `lr` argument is deprecated, use `learning_rate` instead.\n",
      "  super().__init__(name, **kwargs)\n"
     ]
    },
    {
     "name": "stdout",
     "output_type": "stream",
     "text": [
      "46/46 [==============================] - 0s 984us/step - loss: 1.2462 - accuracy: 0.5190\n",
      "accuracy = 0.5190476179122925\n",
      "Interpreting Sequential\n",
      "Topology:\n",
      "Layer name: fc1_input, layer type: Input\n",
      "Layer name: fc1, layer type: QDense\n",
      "Layer name: relu1, layer type: QActivation\n",
      "Layer name: output, layer type: QDense\n",
      "Layer name: softmax, layer type: Activation\n",
      "copy top.v, sim.Xtest, and sim.Ytest to the synopsys project \n"
     ]
    },
    {
     "name": "stderr",
     "output_type": "stream",
     "text": [
      "/home/argykokk/miniconda3/envs/hls4ml-tutorial/lib/python3.8/site-packages/keras/initializers/initializers_v2.py:120: UserWarning: The initializer LecunUniform is unseeded and being called multiple times, which will return identical values  each time (even if the initializer is unseeded). Please update your code to provide a seed to the initializer, or avoid using the same initalizer instance more than once.\n",
      "  warnings.warn(\n"
     ]
    },
    {
     "name": "stdout",
     "output_type": "stream",
     "text": [
      "frozen dataset 2\n",
      "frozen dataset 5\n",
      "frozen dataset 8\n",
      "frozen dataset 9\n",
      "frozen dataset 0\n",
      "frozen dataset 1\n",
      "frozen dataset 2\n",
      "frozen dataset 3\n"
     ]
    },
    {
     "name": "stderr",
     "output_type": "stream",
     "text": [
      "/home/argykokk/miniconda3/envs/hls4ml-tutorial/lib/python3.8/site-packages/keras/optimizers/optimizer_v2/adam.py:114: UserWarning: The `lr` argument is deprecated, use `learning_rate` instead.\n",
      "  super().__init__(name, **kwargs)\n",
      "/home/argykokk/miniconda3/envs/hls4ml-tutorial/lib/python3.8/site-packages/keras/optimizers/optimizer_v2/adam.py:114: UserWarning: The `lr` argument is deprecated, use `learning_rate` instead.\n",
      "  super().__init__(name, **kwargs)\n"
     ]
    },
    {
     "name": "stdout",
     "output_type": "stream",
     "text": [
      "46/46 [==============================] - 0s 979us/step - loss: 1.1815 - accuracy: 0.5395\n",
      "accuracy = 0.539455771446228\n",
      "Interpreting Sequential\n",
      "Topology:\n",
      "Layer name: fc1_input, layer type: Input\n",
      "Layer name: fc1, layer type: QDense\n",
      "Layer name: relu1, layer type: QActivation\n",
      "Layer name: output, layer type: QDense\n",
      "Layer name: softmax, layer type: Activation\n",
      "copy top.v, sim.Xtest, and sim.Ytest to the synopsys project \n"
     ]
    },
    {
     "name": "stderr",
     "output_type": "stream",
     "text": [
      "/home/argykokk/miniconda3/envs/hls4ml-tutorial/lib/python3.8/site-packages/keras/initializers/initializers_v2.py:120: UserWarning: The initializer LecunUniform is unseeded and being called multiple times, which will return identical values  each time (even if the initializer is unseeded). Please update your code to provide a seed to the initializer, or avoid using the same initalizer instance more than once.\n",
      "  warnings.warn(\n"
     ]
    },
    {
     "name": "stdout",
     "output_type": "stream",
     "text": [
      "frozen dataset 2\n",
      "frozen dataset 5\n",
      "frozen dataset 8\n",
      "frozen dataset 9\n"
     ]
    },
    {
     "name": "stderr",
     "output_type": "stream",
     "text": [
      "/home/argykokk/miniconda3/envs/hls4ml-tutorial/lib/python3.8/site-packages/keras/optimizers/optimizer_v2/adam.py:114: UserWarning: The `lr` argument is deprecated, use `learning_rate` instead.\n",
      "  super().__init__(name, **kwargs)\n"
     ]
    },
    {
     "name": "stdout",
     "output_type": "stream",
     "text": [
      "frozen dataset 0\n",
      "frozen dataset 1\n",
      "frozen dataset 2\n",
      "frozen dataset 3\n"
     ]
    },
    {
     "name": "stderr",
     "output_type": "stream",
     "text": [
      "/home/argykokk/miniconda3/envs/hls4ml-tutorial/lib/python3.8/site-packages/keras/optimizers/optimizer_v2/adam.py:114: UserWarning: The `lr` argument is deprecated, use `learning_rate` instead.\n",
      "  super().__init__(name, **kwargs)\n"
     ]
    },
    {
     "name": "stdout",
     "output_type": "stream",
     "text": [
      "46/46 [==============================] - 0s 1ms/step - loss: 1.1815 - accuracy: 0.5395\n",
      "accuracy = 0.539455771446228\n",
      "Interpreting Sequential\n",
      "Topology:\n",
      "Layer name: fc1_input, layer type: Input\n",
      "Layer name: fc1, layer type: QDense\n",
      "Layer name: relu1, layer type: QActivation\n",
      "Layer name: output, layer type: QDense\n",
      "Layer name: softmax, layer type: Activation\n",
      "copy top.v, sim.Xtest, and sim.Ytest to the synopsys project \n"
     ]
    },
    {
     "name": "stderr",
     "output_type": "stream",
     "text": [
      "/home/argykokk/miniconda3/envs/hls4ml-tutorial/lib/python3.8/site-packages/keras/initializers/initializers_v2.py:120: UserWarning: The initializer LecunUniform is unseeded and being called multiple times, which will return identical values  each time (even if the initializer is unseeded). Please update your code to provide a seed to the initializer, or avoid using the same initalizer instance more than once.\n",
      "  warnings.warn(\n"
     ]
    },
    {
     "name": "stdout",
     "output_type": "stream",
     "text": [
      "frozen dataset 2\n",
      "frozen dataset 5\n",
      "frozen dataset 8\n",
      "frozen dataset 9\n",
      "frozen dataset 0\n",
      "frozen dataset 1\n",
      "frozen dataset 2\n",
      "frozen dataset 3\n"
     ]
    },
    {
     "name": "stderr",
     "output_type": "stream",
     "text": [
      "/home/argykokk/miniconda3/envs/hls4ml-tutorial/lib/python3.8/site-packages/keras/optimizers/optimizer_v2/adam.py:114: UserWarning: The `lr` argument is deprecated, use `learning_rate` instead.\n",
      "  super().__init__(name, **kwargs)\n",
      "/home/argykokk/miniconda3/envs/hls4ml-tutorial/lib/python3.8/site-packages/keras/optimizers/optimizer_v2/adam.py:114: UserWarning: The `lr` argument is deprecated, use `learning_rate` instead.\n",
      "  super().__init__(name, **kwargs)\n"
     ]
    },
    {
     "name": "stdout",
     "output_type": "stream",
     "text": [
      "46/46 [==============================] - 0s 1ms/step - loss: 1.1815 - accuracy: 0.5395\n",
      "accuracy = 0.539455771446228\n",
      "Interpreting Sequential\n",
      "Topology:\n",
      "Layer name: fc1_input, layer type: Input\n",
      "Layer name: fc1, layer type: QDense\n",
      "Layer name: relu1, layer type: QActivation\n",
      "Layer name: output, layer type: QDense\n",
      "Layer name: softmax, layer type: Activation\n",
      "copy top.v, sim.Xtest, and sim.Ytest to the synopsys project \n",
      "frozen dataset 2\n",
      "frozen dataset 5\n",
      "frozen dataset 8\n",
      "frozen dataset 9\n",
      "frozen dataset 0\n",
      "frozen dataset 1\n",
      "frozen dataset 2\n",
      "frozen dataset 3\n"
     ]
    },
    {
     "name": "stderr",
     "output_type": "stream",
     "text": [
      "/home/argykokk/miniconda3/envs/hls4ml-tutorial/lib/python3.8/site-packages/keras/optimizers/optimizer_v2/adam.py:114: UserWarning: The `lr` argument is deprecated, use `learning_rate` instead.\n",
      "  super().__init__(name, **kwargs)\n",
      "/home/argykokk/miniconda3/envs/hls4ml-tutorial/lib/python3.8/site-packages/keras/optimizers/optimizer_v2/adam.py:114: UserWarning: The `lr` argument is deprecated, use `learning_rate` instead.\n",
      "  super().__init__(name, **kwargs)\n"
     ]
    },
    {
     "name": "stdout",
     "output_type": "stream",
     "text": [
      "46/46 [==============================] - 0s 1ms/step - loss: 1.1815 - accuracy: 0.5395\n",
      "accuracy = 0.539455771446228\n",
      "Interpreting Sequential\n",
      "Topology:\n",
      "Layer name: fc1_input, layer type: Input\n",
      "Layer name: fc1, layer type: QDense\n",
      "Layer name: relu1, layer type: QActivation\n",
      "Layer name: output, layer type: QDense\n",
      "Layer name: softmax, layer type: Activation\n",
      "copy top.v, sim.Xtest, and sim.Ytest to the synopsys project \n"
     ]
    },
    {
     "name": "stderr",
     "output_type": "stream",
     "text": [
      "/home/argykokk/miniconda3/envs/hls4ml-tutorial/lib/python3.8/site-packages/keras/initializers/initializers_v2.py:120: UserWarning: The initializer LecunUniform is unseeded and being called multiple times, which will return identical values  each time (even if the initializer is unseeded). Please update your code to provide a seed to the initializer, or avoid using the same initalizer instance more than once.\n",
      "  warnings.warn(\n"
     ]
    },
    {
     "name": "stdout",
     "output_type": "stream",
     "text": [
      "frozen dataset 2\n",
      "frozen dataset 5\n",
      "frozen dataset 8\n",
      "frozen dataset 9\n"
     ]
    },
    {
     "name": "stderr",
     "output_type": "stream",
     "text": [
      "/home/argykokk/miniconda3/envs/hls4ml-tutorial/lib/python3.8/site-packages/keras/optimizers/optimizer_v2/adam.py:114: UserWarning: The `lr` argument is deprecated, use `learning_rate` instead.\n",
      "  super().__init__(name, **kwargs)\n"
     ]
    },
    {
     "name": "stdout",
     "output_type": "stream",
     "text": [
      "frozen dataset 0\n",
      "frozen dataset 1\n",
      "frozen dataset 2\n",
      "frozen dataset 3\n"
     ]
    },
    {
     "name": "stderr",
     "output_type": "stream",
     "text": [
      "/home/argykokk/miniconda3/envs/hls4ml-tutorial/lib/python3.8/site-packages/keras/optimizers/optimizer_v2/adam.py:114: UserWarning: The `lr` argument is deprecated, use `learning_rate` instead.\n",
      "  super().__init__(name, **kwargs)\n"
     ]
    },
    {
     "name": "stdout",
     "output_type": "stream",
     "text": [
      "46/46 [==============================] - 0s 1ms/step - loss: 1.1815 - accuracy: 0.5395\n",
      "accuracy = 0.539455771446228\n",
      "Interpreting Sequential\n",
      "Topology:\n",
      "Layer name: fc1_input, layer type: Input\n",
      "Layer name: fc1, layer type: QDense\n",
      "Layer name: relu1, layer type: QActivation\n",
      "Layer name: output, layer type: QDense\n",
      "Layer name: softmax, layer type: Activation\n",
      "copy top.v, sim.Xtest, and sim.Ytest to the synopsys project \n",
      "frozen dataset 2\n",
      "frozen dataset 5\n",
      "frozen dataset 8\n",
      "frozen dataset 9\n"
     ]
    },
    {
     "name": "stderr",
     "output_type": "stream",
     "text": [
      "/home/argykokk/miniconda3/envs/hls4ml-tutorial/lib/python3.8/site-packages/keras/optimizers/optimizer_v2/adam.py:114: UserWarning: The `lr` argument is deprecated, use `learning_rate` instead.\n",
      "  super().__init__(name, **kwargs)\n"
     ]
    },
    {
     "name": "stdout",
     "output_type": "stream",
     "text": [
      "frozen dataset 0\n",
      "frozen dataset 1\n",
      "frozen dataset 2\n",
      "frozen dataset 3\n"
     ]
    },
    {
     "name": "stderr",
     "output_type": "stream",
     "text": [
      "/home/argykokk/miniconda3/envs/hls4ml-tutorial/lib/python3.8/site-packages/keras/optimizers/optimizer_v2/adam.py:114: UserWarning: The `lr` argument is deprecated, use `learning_rate` instead.\n",
      "  super().__init__(name, **kwargs)\n"
     ]
    },
    {
     "name": "stdout",
     "output_type": "stream",
     "text": [
      "46/46 [==============================] - 0s 1ms/step - loss: 1.1815 - accuracy: 0.5395\n",
      "accuracy = 0.539455771446228\n",
      "Interpreting Sequential\n",
      "Topology:\n",
      "Layer name: fc1_input, layer type: Input\n",
      "Layer name: fc1, layer type: QDense\n",
      "Layer name: relu1, layer type: QActivation\n",
      "Layer name: output, layer type: QDense\n",
      "Layer name: softmax, layer type: Activation\n",
      "copy top.v, sim.Xtest, and sim.Ytest to the synopsys project \n"
     ]
    },
    {
     "name": "stderr",
     "output_type": "stream",
     "text": [
      "/home/argykokk/miniconda3/envs/hls4ml-tutorial/lib/python3.8/site-packages/keras/initializers/initializers_v2.py:120: UserWarning: The initializer LecunUniform is unseeded and being called multiple times, which will return identical values  each time (even if the initializer is unseeded). Please update your code to provide a seed to the initializer, or avoid using the same initalizer instance more than once.\n",
      "  warnings.warn(\n"
     ]
    },
    {
     "name": "stdout",
     "output_type": "stream",
     "text": [
      "frozen dataset 2\n",
      "frozen dataset 5\n",
      "frozen dataset 8\n",
      "frozen dataset 9\n"
     ]
    },
    {
     "name": "stderr",
     "output_type": "stream",
     "text": [
      "/home/argykokk/miniconda3/envs/hls4ml-tutorial/lib/python3.8/site-packages/keras/optimizers/optimizer_v2/adam.py:114: UserWarning: The `lr` argument is deprecated, use `learning_rate` instead.\n",
      "  super().__init__(name, **kwargs)\n"
     ]
    },
    {
     "name": "stdout",
     "output_type": "stream",
     "text": [
      "frozen dataset 0\n",
      "frozen dataset 1\n",
      "frozen dataset 2\n",
      "frozen dataset 3\n"
     ]
    },
    {
     "name": "stderr",
     "output_type": "stream",
     "text": [
      "/home/argykokk/miniconda3/envs/hls4ml-tutorial/lib/python3.8/site-packages/keras/optimizers/optimizer_v2/adam.py:114: UserWarning: The `lr` argument is deprecated, use `learning_rate` instead.\n",
      "  super().__init__(name, **kwargs)\n"
     ]
    },
    {
     "name": "stdout",
     "output_type": "stream",
     "text": [
      "46/46 [==============================] - 0s 1ms/step - loss: 1.1815 - accuracy: 0.5395\n",
      "accuracy = 0.539455771446228\n",
      "Interpreting Sequential\n",
      "Topology:\n",
      "Layer name: fc1_input, layer type: Input\n",
      "Layer name: fc1, layer type: QDense\n",
      "Layer name: relu1, layer type: QActivation\n",
      "Layer name: output, layer type: QDense\n",
      "Layer name: softmax, layer type: Activation\n",
      "copy top.v, sim.Xtest, and sim.Ytest to the synopsys project \n"
     ]
    },
    {
     "name": "stderr",
     "output_type": "stream",
     "text": [
      "/home/argykokk/miniconda3/envs/hls4ml-tutorial/lib/python3.8/site-packages/keras/initializers/initializers_v2.py:120: UserWarning: The initializer LecunUniform is unseeded and being called multiple times, which will return identical values  each time (even if the initializer is unseeded). Please update your code to provide a seed to the initializer, or avoid using the same initalizer instance more than once.\n",
      "  warnings.warn(\n",
      "/home/argykokk/Desktop/TC/genetic_whitewine/pareto_sharing.py:173: ConvergenceWarning: Number of distinct clusters (1) found smaller than n_clusters (2). Possibly due to duplicate points in X.\n",
      "  # calculate the estimated area overhead of this centroid\n",
      "/home/argykokk/Desktop/TC/genetic_whitewine/pareto_sharing.py:173: ConvergenceWarning: Number of distinct clusters (1) found smaller than n_clusters (2). Possibly due to duplicate points in X.\n",
      "  # calculate the estimated area overhead of this centroid\n",
      "/home/argykokk/Desktop/TC/genetic_whitewine/pareto_sharing.py:173: ConvergenceWarning: Number of distinct clusters (1) found smaller than n_clusters (2). Possibly due to duplicate points in X.\n",
      "  # calculate the estimated area overhead of this centroid\n",
      "/home/argykokk/miniconda3/envs/hls4ml-tutorial/lib/python3.8/site-packages/keras/optimizers/optimizer_v2/adam.py:114: UserWarning: The `lr` argument is deprecated, use `learning_rate` instead.\n",
      "  super().__init__(name, **kwargs)\n"
     ]
    },
    {
     "name": "stdout",
     "output_type": "stream",
     "text": [
      "frozen dataset 2\n",
      "frozen dataset 5\n",
      "frozen dataset 8\n",
      "frozen dataset 9\n",
      "frozen dataset 0\n",
      "frozen dataset 1\n",
      "frozen dataset 2\n",
      "frozen dataset 3\n"
     ]
    },
    {
     "name": "stderr",
     "output_type": "stream",
     "text": [
      "/home/argykokk/miniconda3/envs/hls4ml-tutorial/lib/python3.8/site-packages/keras/optimizers/optimizer_v2/adam.py:114: UserWarning: The `lr` argument is deprecated, use `learning_rate` instead.\n",
      "  super().__init__(name, **kwargs)\n"
     ]
    },
    {
     "name": "stdout",
     "output_type": "stream",
     "text": [
      "46/46 [==============================] - 0s 1ms/step - loss: 1.1651 - accuracy: 0.5367\n",
      "accuracy = 0.5367347002029419\n",
      "Interpreting Sequential\n",
      "Topology:\n",
      "Layer name: fc1_input, layer type: Input\n",
      "Layer name: fc1, layer type: QDense\n",
      "Layer name: relu1, layer type: QActivation\n",
      "Layer name: output, layer type: QDense\n",
      "Layer name: softmax, layer type: Activation\n",
      "copy top.v, sim.Xtest, and sim.Ytest to the synopsys project \n"
     ]
    },
    {
     "name": "stderr",
     "output_type": "stream",
     "text": [
      "/home/argykokk/miniconda3/envs/hls4ml-tutorial/lib/python3.8/site-packages/keras/initializers/initializers_v2.py:120: UserWarning: The initializer LecunUniform is unseeded and being called multiple times, which will return identical values  each time (even if the initializer is unseeded). Please update your code to provide a seed to the initializer, or avoid using the same initalizer instance more than once.\n",
      "  warnings.warn(\n",
      "/home/argykokk/Desktop/TC/genetic_whitewine/pareto_sharing.py:173: ConvergenceWarning: Number of distinct clusters (1) found smaller than n_clusters (2). Possibly due to duplicate points in X.\n",
      "  # calculate the estimated area overhead of this centroid\n",
      "/home/argykokk/Desktop/TC/genetic_whitewine/pareto_sharing.py:173: ConvergenceWarning: Number of distinct clusters (1) found smaller than n_clusters (2). Possibly due to duplicate points in X.\n",
      "  # calculate the estimated area overhead of this centroid\n",
      "/home/argykokk/Desktop/TC/genetic_whitewine/pareto_sharing.py:173: ConvergenceWarning: Number of distinct clusters (1) found smaller than n_clusters (2). Possibly due to duplicate points in X.\n",
      "  # calculate the estimated area overhead of this centroid\n"
     ]
    },
    {
     "name": "stdout",
     "output_type": "stream",
     "text": [
      "frozen dataset 2\n",
      "frozen dataset 5\n",
      "frozen dataset 8\n",
      "frozen dataset 9\n"
     ]
    },
    {
     "name": "stderr",
     "output_type": "stream",
     "text": [
      "/home/argykokk/miniconda3/envs/hls4ml-tutorial/lib/python3.8/site-packages/keras/optimizers/optimizer_v2/adam.py:114: UserWarning: The `lr` argument is deprecated, use `learning_rate` instead.\n",
      "  super().__init__(name, **kwargs)\n"
     ]
    },
    {
     "name": "stdout",
     "output_type": "stream",
     "text": [
      "frozen dataset 0\n",
      "frozen dataset 1\n",
      "frozen dataset 2\n",
      "frozen dataset 3\n"
     ]
    },
    {
     "name": "stderr",
     "output_type": "stream",
     "text": [
      "/home/argykokk/miniconda3/envs/hls4ml-tutorial/lib/python3.8/site-packages/keras/optimizers/optimizer_v2/adam.py:114: UserWarning: The `lr` argument is deprecated, use `learning_rate` instead.\n",
      "  super().__init__(name, **kwargs)\n"
     ]
    },
    {
     "name": "stdout",
     "output_type": "stream",
     "text": [
      "46/46 [==============================] - 0s 1ms/step - loss: 1.1651 - accuracy: 0.5367\n",
      "accuracy = 0.5367347002029419\n",
      "Interpreting Sequential\n",
      "Topology:\n",
      "Layer name: fc1_input, layer type: Input\n",
      "Layer name: fc1, layer type: QDense\n",
      "Layer name: relu1, layer type: QActivation\n",
      "Layer name: output, layer type: QDense\n",
      "Layer name: softmax, layer type: Activation\n",
      "copy top.v, sim.Xtest, and sim.Ytest to the synopsys project \n"
     ]
    },
    {
     "name": "stderr",
     "output_type": "stream",
     "text": [
      "/home/argykokk/miniconda3/envs/hls4ml-tutorial/lib/python3.8/site-packages/keras/initializers/initializers_v2.py:120: UserWarning: The initializer LecunUniform is unseeded and being called multiple times, which will return identical values  each time (even if the initializer is unseeded). Please update your code to provide a seed to the initializer, or avoid using the same initalizer instance more than once.\n",
      "  warnings.warn(\n",
      "/home/argykokk/Desktop/TC/genetic_whitewine/pareto_sharing.py:173: ConvergenceWarning: Number of distinct clusters (1) found smaller than n_clusters (2). Possibly due to duplicate points in X.\n",
      "  # calculate the estimated area overhead of this centroid\n",
      "/home/argykokk/Desktop/TC/genetic_whitewine/pareto_sharing.py:173: ConvergenceWarning: Number of distinct clusters (1) found smaller than n_clusters (2). Possibly due to duplicate points in X.\n",
      "  # calculate the estimated area overhead of this centroid\n",
      "/home/argykokk/Desktop/TC/genetic_whitewine/pareto_sharing.py:173: ConvergenceWarning: Number of distinct clusters (1) found smaller than n_clusters (2). Possibly due to duplicate points in X.\n",
      "  # calculate the estimated area overhead of this centroid\n"
     ]
    },
    {
     "name": "stdout",
     "output_type": "stream",
     "text": [
      "frozen dataset 2\n",
      "frozen dataset 5\n",
      "frozen dataset 8\n",
      "frozen dataset 9\n"
     ]
    },
    {
     "name": "stderr",
     "output_type": "stream",
     "text": [
      "/home/argykokk/miniconda3/envs/hls4ml-tutorial/lib/python3.8/site-packages/keras/optimizers/optimizer_v2/adam.py:114: UserWarning: The `lr` argument is deprecated, use `learning_rate` instead.\n",
      "  super().__init__(name, **kwargs)\n"
     ]
    },
    {
     "name": "stdout",
     "output_type": "stream",
     "text": [
      "frozen dataset 0\n",
      "frozen dataset 1\n",
      "frozen dataset 2\n",
      "frozen dataset 3\n"
     ]
    },
    {
     "name": "stderr",
     "output_type": "stream",
     "text": [
      "/home/argykokk/miniconda3/envs/hls4ml-tutorial/lib/python3.8/site-packages/keras/optimizers/optimizer_v2/adam.py:114: UserWarning: The `lr` argument is deprecated, use `learning_rate` instead.\n",
      "  super().__init__(name, **kwargs)\n"
     ]
    },
    {
     "name": "stdout",
     "output_type": "stream",
     "text": [
      "46/46 [==============================] - 0s 1ms/step - loss: 1.1651 - accuracy: 0.5367\n",
      "accuracy = 0.5367347002029419\n",
      "Interpreting Sequential\n",
      "Topology:\n",
      "Layer name: fc1_input, layer type: Input\n",
      "Layer name: fc1, layer type: QDense\n",
      "Layer name: relu1, layer type: QActivation\n",
      "Layer name: output, layer type: QDense\n",
      "Layer name: softmax, layer type: Activation\n",
      "copy top.v, sim.Xtest, and sim.Ytest to the synopsys project \n"
     ]
    },
    {
     "name": "stderr",
     "output_type": "stream",
     "text": [
      "/home/argykokk/miniconda3/envs/hls4ml-tutorial/lib/python3.8/site-packages/keras/initializers/initializers_v2.py:120: UserWarning: The initializer LecunUniform is unseeded and being called multiple times, which will return identical values  each time (even if the initializer is unseeded). Please update your code to provide a seed to the initializer, or avoid using the same initalizer instance more than once.\n",
      "  warnings.warn(\n",
      "/home/argykokk/Desktop/TC/genetic_whitewine/pareto_sharing.py:173: ConvergenceWarning: Number of distinct clusters (1) found smaller than n_clusters (2). Possibly due to duplicate points in X.\n",
      "  # calculate the estimated area overhead of this centroid\n",
      "/home/argykokk/Desktop/TC/genetic_whitewine/pareto_sharing.py:173: ConvergenceWarning: Number of distinct clusters (1) found smaller than n_clusters (2). Possibly due to duplicate points in X.\n",
      "  # calculate the estimated area overhead of this centroid\n",
      "/home/argykokk/Desktop/TC/genetic_whitewine/pareto_sharing.py:173: ConvergenceWarning: Number of distinct clusters (1) found smaller than n_clusters (2). Possibly due to duplicate points in X.\n",
      "  # calculate the estimated area overhead of this centroid\n",
      "/home/argykokk/miniconda3/envs/hls4ml-tutorial/lib/python3.8/site-packages/keras/optimizers/optimizer_v2/adam.py:114: UserWarning: The `lr` argument is deprecated, use `learning_rate` instead.\n",
      "  super().__init__(name, **kwargs)\n",
      "/home/argykokk/miniconda3/envs/hls4ml-tutorial/lib/python3.8/site-packages/keras/optimizers/optimizer_v2/adam.py:114: UserWarning: The `lr` argument is deprecated, use `learning_rate` instead.\n",
      "  super().__init__(name, **kwargs)\n"
     ]
    },
    {
     "name": "stdout",
     "output_type": "stream",
     "text": [
      "frozen dataset 2\n",
      "frozen dataset 5\n",
      "frozen dataset 8\n",
      "frozen dataset 9\n",
      "frozen dataset 0\n",
      "frozen dataset 1\n",
      "frozen dataset 2\n",
      "frozen dataset 3\n",
      "46/46 [==============================] - 0s 1ms/step - loss: 1.1651 - accuracy: 0.5367\n",
      "accuracy = 0.5367347002029419\n",
      "Interpreting Sequential\n",
      "Topology:\n",
      "Layer name: fc1_input, layer type: Input\n",
      "Layer name: fc1, layer type: QDense\n",
      "Layer name: relu1, layer type: QActivation\n",
      "Layer name: output, layer type: QDense\n",
      "Layer name: softmax, layer type: Activation\n",
      "copy top.v, sim.Xtest, and sim.Ytest to the synopsys project \n"
     ]
    },
    {
     "name": "stderr",
     "output_type": "stream",
     "text": [
      "/home/argykokk/Desktop/TC/genetic_whitewine/pareto_sharing.py:173: ConvergenceWarning: Number of distinct clusters (1) found smaller than n_clusters (2). Possibly due to duplicate points in X.\n",
      "  # calculate the estimated area overhead of this centroid\n",
      "/home/argykokk/Desktop/TC/genetic_whitewine/pareto_sharing.py:173: ConvergenceWarning: Number of distinct clusters (1) found smaller than n_clusters (2). Possibly due to duplicate points in X.\n",
      "  # calculate the estimated area overhead of this centroid\n",
      "/home/argykokk/Desktop/TC/genetic_whitewine/pareto_sharing.py:173: ConvergenceWarning: Number of distinct clusters (1) found smaller than n_clusters (2). Possibly due to duplicate points in X.\n",
      "  # calculate the estimated area overhead of this centroid\n"
     ]
    },
    {
     "name": "stdout",
     "output_type": "stream",
     "text": [
      "frozen dataset 2\n",
      "frozen dataset 5\n",
      "frozen dataset 8\n",
      "frozen dataset 9\n"
     ]
    },
    {
     "name": "stderr",
     "output_type": "stream",
     "text": [
      "/home/argykokk/miniconda3/envs/hls4ml-tutorial/lib/python3.8/site-packages/keras/optimizers/optimizer_v2/adam.py:114: UserWarning: The `lr` argument is deprecated, use `learning_rate` instead.\n",
      "  super().__init__(name, **kwargs)\n"
     ]
    },
    {
     "name": "stdout",
     "output_type": "stream",
     "text": [
      "frozen dataset 0\n",
      "frozen dataset 1\n",
      "frozen dataset 2\n",
      "frozen dataset 3\n"
     ]
    },
    {
     "name": "stderr",
     "output_type": "stream",
     "text": [
      "/home/argykokk/miniconda3/envs/hls4ml-tutorial/lib/python3.8/site-packages/keras/optimizers/optimizer_v2/adam.py:114: UserWarning: The `lr` argument is deprecated, use `learning_rate` instead.\n",
      "  super().__init__(name, **kwargs)\n"
     ]
    },
    {
     "name": "stdout",
     "output_type": "stream",
     "text": [
      "46/46 [==============================] - 0s 952us/step - loss: 1.1651 - accuracy: 0.5367\n",
      "accuracy = 0.5367347002029419\n",
      "Interpreting Sequential\n",
      "Topology:\n",
      "Layer name: fc1_input, layer type: Input\n",
      "Layer name: fc1, layer type: QDense\n",
      "Layer name: relu1, layer type: QActivation\n",
      "Layer name: output, layer type: QDense\n",
      "Layer name: softmax, layer type: Activation\n",
      "copy top.v, sim.Xtest, and sim.Ytest to the synopsys project \n"
     ]
    },
    {
     "name": "stderr",
     "output_type": "stream",
     "text": [
      "/home/argykokk/miniconda3/envs/hls4ml-tutorial/lib/python3.8/site-packages/keras/initializers/initializers_v2.py:120: UserWarning: The initializer LecunUniform is unseeded and being called multiple times, which will return identical values  each time (even if the initializer is unseeded). Please update your code to provide a seed to the initializer, or avoid using the same initalizer instance more than once.\n",
      "  warnings.warn(\n",
      "/home/argykokk/Desktop/TC/genetic_whitewine/pareto_sharing.py:173: ConvergenceWarning: Number of distinct clusters (1) found smaller than n_clusters (2). Possibly due to duplicate points in X.\n",
      "  # calculate the estimated area overhead of this centroid\n",
      "/home/argykokk/Desktop/TC/genetic_whitewine/pareto_sharing.py:173: ConvergenceWarning: Number of distinct clusters (1) found smaller than n_clusters (2). Possibly due to duplicate points in X.\n",
      "  # calculate the estimated area overhead of this centroid\n",
      "/home/argykokk/Desktop/TC/genetic_whitewine/pareto_sharing.py:173: ConvergenceWarning: Number of distinct clusters (1) found smaller than n_clusters (2). Possibly due to duplicate points in X.\n",
      "  # calculate the estimated area overhead of this centroid\n"
     ]
    },
    {
     "name": "stdout",
     "output_type": "stream",
     "text": [
      "frozen dataset 2\n",
      "frozen dataset 5\n",
      "frozen dataset 8\n",
      "frozen dataset 9\n",
      "frozen dataset 0\n",
      "frozen dataset 1\n",
      "frozen dataset 2\n",
      "frozen dataset 3\n"
     ]
    },
    {
     "name": "stderr",
     "output_type": "stream",
     "text": [
      "/home/argykokk/miniconda3/envs/hls4ml-tutorial/lib/python3.8/site-packages/keras/optimizers/optimizer_v2/adam.py:114: UserWarning: The `lr` argument is deprecated, use `learning_rate` instead.\n",
      "  super().__init__(name, **kwargs)\n",
      "/home/argykokk/miniconda3/envs/hls4ml-tutorial/lib/python3.8/site-packages/keras/optimizers/optimizer_v2/adam.py:114: UserWarning: The `lr` argument is deprecated, use `learning_rate` instead.\n",
      "  super().__init__(name, **kwargs)\n"
     ]
    },
    {
     "name": "stdout",
     "output_type": "stream",
     "text": [
      "46/46 [==============================] - 0s 1ms/step - loss: 1.1651 - accuracy: 0.5367\n",
      "accuracy = 0.5367347002029419\n",
      "Interpreting Sequential\n",
      "Topology:\n",
      "Layer name: fc1_input, layer type: Input\n",
      "Layer name: fc1, layer type: QDense\n",
      "Layer name: relu1, layer type: QActivation\n",
      "Layer name: output, layer type: QDense\n",
      "Layer name: softmax, layer type: Activation\n",
      "copy top.v, sim.Xtest, and sim.Ytest to the synopsys project \n"
     ]
    },
    {
     "name": "stderr",
     "output_type": "stream",
     "text": [
      "/home/argykokk/miniconda3/envs/hls4ml-tutorial/lib/python3.8/site-packages/keras/initializers/initializers_v2.py:120: UserWarning: The initializer LecunUniform is unseeded and being called multiple times, which will return identical values  each time (even if the initializer is unseeded). Please update your code to provide a seed to the initializer, or avoid using the same initalizer instance more than once.\n",
      "  warnings.warn(\n",
      "/home/argykokk/Desktop/TC/genetic_whitewine/pareto_sharing.py:173: ConvergenceWarning: Number of distinct clusters (1) found smaller than n_clusters (2). Possibly due to duplicate points in X.\n",
      "  # calculate the estimated area overhead of this centroid\n",
      "/home/argykokk/Desktop/TC/genetic_whitewine/pareto_sharing.py:173: ConvergenceWarning: Number of distinct clusters (1) found smaller than n_clusters (2). Possibly due to duplicate points in X.\n",
      "  # calculate the estimated area overhead of this centroid\n",
      "/home/argykokk/Desktop/TC/genetic_whitewine/pareto_sharing.py:173: ConvergenceWarning: Number of distinct clusters (1) found smaller than n_clusters (2). Possibly due to duplicate points in X.\n",
      "  # calculate the estimated area overhead of this centroid\n"
     ]
    },
    {
     "name": "stdout",
     "output_type": "stream",
     "text": [
      "frozen dataset 2\n",
      "frozen dataset 5\n",
      "frozen dataset 8\n",
      "frozen dataset 9\n"
     ]
    },
    {
     "name": "stderr",
     "output_type": "stream",
     "text": [
      "/home/argykokk/miniconda3/envs/hls4ml-tutorial/lib/python3.8/site-packages/keras/optimizers/optimizer_v2/adam.py:114: UserWarning: The `lr` argument is deprecated, use `learning_rate` instead.\n",
      "  super().__init__(name, **kwargs)\n"
     ]
    },
    {
     "name": "stdout",
     "output_type": "stream",
     "text": [
      "frozen dataset 0\n",
      "frozen dataset 1\n",
      "frozen dataset 2\n",
      "frozen dataset 3\n"
     ]
    },
    {
     "name": "stderr",
     "output_type": "stream",
     "text": [
      "/home/argykokk/miniconda3/envs/hls4ml-tutorial/lib/python3.8/site-packages/keras/optimizers/optimizer_v2/adam.py:114: UserWarning: The `lr` argument is deprecated, use `learning_rate` instead.\n",
      "  super().__init__(name, **kwargs)\n"
     ]
    },
    {
     "name": "stdout",
     "output_type": "stream",
     "text": [
      "46/46 [==============================] - 0s 970us/step - loss: 1.1651 - accuracy: 0.5367\n",
      "accuracy = 0.5367347002029419\n",
      "Interpreting Sequential\n",
      "Topology:\n",
      "Layer name: fc1_input, layer type: Input\n",
      "Layer name: fc1, layer type: QDense\n",
      "Layer name: relu1, layer type: QActivation\n",
      "Layer name: output, layer type: QDense\n",
      "Layer name: softmax, layer type: Activation\n",
      "copy top.v, sim.Xtest, and sim.Ytest to the synopsys project \n"
     ]
    },
    {
     "name": "stderr",
     "output_type": "stream",
     "text": [
      "/home/argykokk/miniconda3/envs/hls4ml-tutorial/lib/python3.8/site-packages/keras/initializers/initializers_v2.py:120: UserWarning: The initializer LecunUniform is unseeded and being called multiple times, which will return identical values  each time (even if the initializer is unseeded). Please update your code to provide a seed to the initializer, or avoid using the same initalizer instance more than once.\n",
      "  warnings.warn(\n",
      "/home/argykokk/Desktop/TC/genetic_whitewine/pareto_sharing.py:173: ConvergenceWarning: Number of distinct clusters (1) found smaller than n_clusters (2). Possibly due to duplicate points in X.\n",
      "  # calculate the estimated area overhead of this centroid\n",
      "/home/argykokk/Desktop/TC/genetic_whitewine/pareto_sharing.py:173: ConvergenceWarning: Number of distinct clusters (1) found smaller than n_clusters (2). Possibly due to duplicate points in X.\n",
      "  # calculate the estimated area overhead of this centroid\n",
      "/home/argykokk/Desktop/TC/genetic_whitewine/pareto_sharing.py:173: ConvergenceWarning: Number of distinct clusters (1) found smaller than n_clusters (2). Possibly due to duplicate points in X.\n",
      "  # calculate the estimated area overhead of this centroid\n"
     ]
    },
    {
     "name": "stdout",
     "output_type": "stream",
     "text": [
      "frozen dataset 2\n",
      "frozen dataset 5\n",
      "frozen dataset 8\n",
      "frozen dataset 9\n"
     ]
    },
    {
     "name": "stderr",
     "output_type": "stream",
     "text": [
      "/home/argykokk/miniconda3/envs/hls4ml-tutorial/lib/python3.8/site-packages/keras/optimizers/optimizer_v2/adam.py:114: UserWarning: The `lr` argument is deprecated, use `learning_rate` instead.\n",
      "  super().__init__(name, **kwargs)\n"
     ]
    },
    {
     "name": "stdout",
     "output_type": "stream",
     "text": [
      "frozen dataset 0\n",
      "frozen dataset 1\n",
      "frozen dataset 2\n",
      "frozen dataset 3\n"
     ]
    },
    {
     "name": "stderr",
     "output_type": "stream",
     "text": [
      "/home/argykokk/miniconda3/envs/hls4ml-tutorial/lib/python3.8/site-packages/keras/optimizers/optimizer_v2/adam.py:114: UserWarning: The `lr` argument is deprecated, use `learning_rate` instead.\n",
      "  super().__init__(name, **kwargs)\n"
     ]
    },
    {
     "name": "stdout",
     "output_type": "stream",
     "text": [
      "46/46 [==============================] - 0s 1ms/step - loss: 1.1651 - accuracy: 0.5367\n",
      "accuracy = 0.5367347002029419\n",
      "Interpreting Sequential\n",
      "Topology:\n",
      "Layer name: fc1_input, layer type: Input\n",
      "Layer name: fc1, layer type: QDense\n",
      "Layer name: relu1, layer type: QActivation\n",
      "Layer name: output, layer type: QDense\n",
      "Layer name: softmax, layer type: Activation\n",
      "copy top.v, sim.Xtest, and sim.Ytest to the synopsys project \n"
     ]
    },
    {
     "name": "stderr",
     "output_type": "stream",
     "text": [
      "/home/argykokk/miniconda3/envs/hls4ml-tutorial/lib/python3.8/site-packages/keras/initializers/initializers_v2.py:120: UserWarning: The initializer LecunUniform is unseeded and being called multiple times, which will return identical values  each time (even if the initializer is unseeded). Please update your code to provide a seed to the initializer, or avoid using the same initalizer instance more than once.\n",
      "  warnings.warn(\n",
      "/home/argykokk/Desktop/TC/genetic_whitewine/pareto_sharing.py:173: ConvergenceWarning: Number of distinct clusters (1) found smaller than n_clusters (2). Possibly due to duplicate points in X.\n",
      "  # calculate the estimated area overhead of this centroid\n",
      "/home/argykokk/Desktop/TC/genetic_whitewine/pareto_sharing.py:173: ConvergenceWarning: Number of distinct clusters (1) found smaller than n_clusters (2). Possibly due to duplicate points in X.\n",
      "  # calculate the estimated area overhead of this centroid\n",
      "/home/argykokk/Desktop/TC/genetic_whitewine/pareto_sharing.py:173: ConvergenceWarning: Number of distinct clusters (1) found smaller than n_clusters (2). Possibly due to duplicate points in X.\n",
      "  # calculate the estimated area overhead of this centroid\n"
     ]
    },
    {
     "name": "stdout",
     "output_type": "stream",
     "text": [
      "frozen dataset 2\n",
      "frozen dataset 5\n",
      "frozen dataset 8\n",
      "frozen dataset 9\n"
     ]
    },
    {
     "name": "stderr",
     "output_type": "stream",
     "text": [
      "/home/argykokk/miniconda3/envs/hls4ml-tutorial/lib/python3.8/site-packages/keras/optimizers/optimizer_v2/adam.py:114: UserWarning: The `lr` argument is deprecated, use `learning_rate` instead.\n",
      "  super().__init__(name, **kwargs)\n"
     ]
    },
    {
     "name": "stdout",
     "output_type": "stream",
     "text": [
      "frozen dataset 0\n",
      "frozen dataset 1\n",
      "frozen dataset 2\n",
      "frozen dataset 3\n"
     ]
    },
    {
     "name": "stderr",
     "output_type": "stream",
     "text": [
      "/home/argykokk/miniconda3/envs/hls4ml-tutorial/lib/python3.8/site-packages/keras/optimizers/optimizer_v2/adam.py:114: UserWarning: The `lr` argument is deprecated, use `learning_rate` instead.\n",
      "  super().__init__(name, **kwargs)\n"
     ]
    },
    {
     "name": "stdout",
     "output_type": "stream",
     "text": [
      "46/46 [==============================] - 0s 1ms/step - loss: 1.1651 - accuracy: 0.5367\n",
      "accuracy = 0.5367347002029419\n",
      "Interpreting Sequential\n",
      "Topology:\n",
      "Layer name: fc1_input, layer type: Input\n",
      "Layer name: fc1, layer type: QDense\n",
      "Layer name: relu1, layer type: QActivation\n",
      "Layer name: output, layer type: QDense\n",
      "Layer name: softmax, layer type: Activation\n",
      "copy top.v, sim.Xtest, and sim.Ytest to the synopsys project \n"
     ]
    },
    {
     "name": "stderr",
     "output_type": "stream",
     "text": [
      "/home/argykokk/Desktop/TC/genetic_whitewine/pareto_sharing.py:173: ConvergenceWarning: Number of distinct clusters (1) found smaller than n_clusters (2). Possibly due to duplicate points in X.\n",
      "  # calculate the estimated area overhead of this centroid\n",
      "/home/argykokk/Desktop/TC/genetic_whitewine/pareto_sharing.py:173: ConvergenceWarning: Number of distinct clusters (1) found smaller than n_clusters (2). Possibly due to duplicate points in X.\n",
      "  # calculate the estimated area overhead of this centroid\n",
      "/home/argykokk/Desktop/TC/genetic_whitewine/pareto_sharing.py:173: ConvergenceWarning: Number of distinct clusters (1) found smaller than n_clusters (2). Possibly due to duplicate points in X.\n",
      "  # calculate the estimated area overhead of this centroid\n"
     ]
    },
    {
     "name": "stdout",
     "output_type": "stream",
     "text": [
      "frozen dataset 2\n",
      "frozen dataset 5\n",
      "frozen dataset 8\n",
      "frozen dataset 9\n",
      "frozen dataset 0\n",
      "frozen dataset 1\n",
      "frozen dataset 2\n",
      "frozen dataset 3\n"
     ]
    },
    {
     "name": "stderr",
     "output_type": "stream",
     "text": [
      "/home/argykokk/miniconda3/envs/hls4ml-tutorial/lib/python3.8/site-packages/keras/optimizers/optimizer_v2/adam.py:114: UserWarning: The `lr` argument is deprecated, use `learning_rate` instead.\n",
      "  super().__init__(name, **kwargs)\n",
      "/home/argykokk/miniconda3/envs/hls4ml-tutorial/lib/python3.8/site-packages/keras/optimizers/optimizer_v2/adam.py:114: UserWarning: The `lr` argument is deprecated, use `learning_rate` instead.\n",
      "  super().__init__(name, **kwargs)\n"
     ]
    },
    {
     "name": "stdout",
     "output_type": "stream",
     "text": [
      "46/46 [==============================] - 0s 989us/step - loss: 1.1651 - accuracy: 0.5367\n",
      "accuracy = 0.5367347002029419\n",
      "Interpreting Sequential\n",
      "Topology:\n",
      "Layer name: fc1_input, layer type: Input\n",
      "Layer name: fc1, layer type: QDense\n",
      "Layer name: relu1, layer type: QActivation\n",
      "Layer name: output, layer type: QDense\n",
      "Layer name: softmax, layer type: Activation\n",
      "copy top.v, sim.Xtest, and sim.Ytest to the synopsys project \n"
     ]
    },
    {
     "name": "stderr",
     "output_type": "stream",
     "text": [
      "/home/argykokk/miniconda3/envs/hls4ml-tutorial/lib/python3.8/site-packages/keras/initializers/initializers_v2.py:120: UserWarning: The initializer LecunUniform is unseeded and being called multiple times, which will return identical values  each time (even if the initializer is unseeded). Please update your code to provide a seed to the initializer, or avoid using the same initalizer instance more than once.\n",
      "  warnings.warn(\n",
      "/home/argykokk/Desktop/TC/genetic_whitewine/pareto_sharing.py:173: ConvergenceWarning: Number of distinct clusters (1) found smaller than n_clusters (2). Possibly due to duplicate points in X.\n",
      "  # calculate the estimated area overhead of this centroid\n",
      "/home/argykokk/Desktop/TC/genetic_whitewine/pareto_sharing.py:173: ConvergenceWarning: Number of distinct clusters (1) found smaller than n_clusters (2). Possibly due to duplicate points in X.\n",
      "  # calculate the estimated area overhead of this centroid\n",
      "/home/argykokk/Desktop/TC/genetic_whitewine/pareto_sharing.py:173: ConvergenceWarning: Number of distinct clusters (1) found smaller than n_clusters (2). Possibly due to duplicate points in X.\n",
      "  # calculate the estimated area overhead of this centroid\n"
     ]
    },
    {
     "name": "stdout",
     "output_type": "stream",
     "text": [
      "frozen dataset 2\n",
      "frozen dataset 5\n",
      "frozen dataset 8\n",
      "frozen dataset 9\n"
     ]
    },
    {
     "name": "stderr",
     "output_type": "stream",
     "text": [
      "/home/argykokk/miniconda3/envs/hls4ml-tutorial/lib/python3.8/site-packages/keras/optimizers/optimizer_v2/adam.py:114: UserWarning: The `lr` argument is deprecated, use `learning_rate` instead.\n",
      "  super().__init__(name, **kwargs)\n"
     ]
    },
    {
     "name": "stdout",
     "output_type": "stream",
     "text": [
      "frozen dataset 0\n",
      "frozen dataset 1\n",
      "frozen dataset 2\n",
      "frozen dataset 3\n"
     ]
    },
    {
     "name": "stderr",
     "output_type": "stream",
     "text": [
      "/home/argykokk/miniconda3/envs/hls4ml-tutorial/lib/python3.8/site-packages/keras/optimizers/optimizer_v2/adam.py:114: UserWarning: The `lr` argument is deprecated, use `learning_rate` instead.\n",
      "  super().__init__(name, **kwargs)\n"
     ]
    },
    {
     "name": "stdout",
     "output_type": "stream",
     "text": [
      "46/46 [==============================] - 0s 1ms/step - loss: 1.1651 - accuracy: 0.5367\n",
      "accuracy = 0.5367347002029419\n",
      "Interpreting Sequential\n",
      "Topology:\n",
      "Layer name: fc1_input, layer type: Input\n",
      "Layer name: fc1, layer type: QDense\n",
      "Layer name: relu1, layer type: QActivation\n",
      "Layer name: output, layer type: QDense\n",
      "Layer name: softmax, layer type: Activation\n",
      "copy top.v, sim.Xtest, and sim.Ytest to the synopsys project \n"
     ]
    },
    {
     "name": "stderr",
     "output_type": "stream",
     "text": [
      "/home/argykokk/miniconda3/envs/hls4ml-tutorial/lib/python3.8/site-packages/keras/initializers/initializers_v2.py:120: UserWarning: The initializer LecunUniform is unseeded and being called multiple times, which will return identical values  each time (even if the initializer is unseeded). Please update your code to provide a seed to the initializer, or avoid using the same initalizer instance more than once.\n",
      "  warnings.warn(\n",
      "/home/argykokk/Desktop/TC/genetic_whitewine/pareto_sharing.py:173: ConvergenceWarning: Number of distinct clusters (1) found smaller than n_clusters (2). Possibly due to duplicate points in X.\n",
      "  # calculate the estimated area overhead of this centroid\n",
      "/home/argykokk/Desktop/TC/genetic_whitewine/pareto_sharing.py:173: ConvergenceWarning: Number of distinct clusters (1) found smaller than n_clusters (2). Possibly due to duplicate points in X.\n",
      "  # calculate the estimated area overhead of this centroid\n",
      "/home/argykokk/Desktop/TC/genetic_whitewine/pareto_sharing.py:173: ConvergenceWarning: Number of distinct clusters (1) found smaller than n_clusters (2). Possibly due to duplicate points in X.\n",
      "  # calculate the estimated area overhead of this centroid\n"
     ]
    },
    {
     "name": "stdout",
     "output_type": "stream",
     "text": [
      "frozen dataset 2\n",
      "frozen dataset 5\n",
      "frozen dataset 8\n",
      "frozen dataset 9\n"
     ]
    },
    {
     "name": "stderr",
     "output_type": "stream",
     "text": [
      "/home/argykokk/miniconda3/envs/hls4ml-tutorial/lib/python3.8/site-packages/keras/optimizers/optimizer_v2/adam.py:114: UserWarning: The `lr` argument is deprecated, use `learning_rate` instead.\n",
      "  super().__init__(name, **kwargs)\n"
     ]
    },
    {
     "name": "stdout",
     "output_type": "stream",
     "text": [
      "frozen dataset 0\n",
      "frozen dataset 1\n",
      "frozen dataset 2\n",
      "frozen dataset 3\n"
     ]
    },
    {
     "name": "stderr",
     "output_type": "stream",
     "text": [
      "/home/argykokk/miniconda3/envs/hls4ml-tutorial/lib/python3.8/site-packages/keras/optimizers/optimizer_v2/adam.py:114: UserWarning: The `lr` argument is deprecated, use `learning_rate` instead.\n",
      "  super().__init__(name, **kwargs)\n"
     ]
    },
    {
     "name": "stdout",
     "output_type": "stream",
     "text": [
      "46/46 [==============================] - 0s 1ms/step - loss: 1.1651 - accuracy: 0.5367\n",
      "accuracy = 0.5367347002029419\n",
      "Interpreting Sequential\n",
      "Topology:\n",
      "Layer name: fc1_input, layer type: Input\n",
      "Layer name: fc1, layer type: QDense\n",
      "Layer name: relu1, layer type: QActivation\n",
      "Layer name: output, layer type: QDense\n",
      "Layer name: softmax, layer type: Activation\n",
      "copy top.v, sim.Xtest, and sim.Ytest to the synopsys project \n"
     ]
    },
    {
     "name": "stderr",
     "output_type": "stream",
     "text": [
      "/home/argykokk/miniconda3/envs/hls4ml-tutorial/lib/python3.8/site-packages/keras/initializers/initializers_v2.py:120: UserWarning: The initializer LecunUniform is unseeded and being called multiple times, which will return identical values  each time (even if the initializer is unseeded). Please update your code to provide a seed to the initializer, or avoid using the same initalizer instance more than once.\n",
      "  warnings.warn(\n",
      "/home/argykokk/Desktop/TC/genetic_whitewine/pareto_sharing.py:173: ConvergenceWarning: Number of distinct clusters (1) found smaller than n_clusters (2). Possibly due to duplicate points in X.\n",
      "  # calculate the estimated area overhead of this centroid\n",
      "/home/argykokk/Desktop/TC/genetic_whitewine/pareto_sharing.py:173: ConvergenceWarning: Number of distinct clusters (1) found smaller than n_clusters (2). Possibly due to duplicate points in X.\n",
      "  # calculate the estimated area overhead of this centroid\n",
      "/home/argykokk/Desktop/TC/genetic_whitewine/pareto_sharing.py:173: ConvergenceWarning: Number of distinct clusters (1) found smaller than n_clusters (2). Possibly due to duplicate points in X.\n",
      "  # calculate the estimated area overhead of this centroid\n"
     ]
    },
    {
     "name": "stdout",
     "output_type": "stream",
     "text": [
      "frozen dataset 2\n",
      "frozen dataset 5\n",
      "frozen dataset 8\n",
      "frozen dataset 9\n"
     ]
    },
    {
     "name": "stderr",
     "output_type": "stream",
     "text": [
      "/home/argykokk/miniconda3/envs/hls4ml-tutorial/lib/python3.8/site-packages/keras/optimizers/optimizer_v2/adam.py:114: UserWarning: The `lr` argument is deprecated, use `learning_rate` instead.\n",
      "  super().__init__(name, **kwargs)\n"
     ]
    },
    {
     "name": "stdout",
     "output_type": "stream",
     "text": [
      "frozen dataset 0\n",
      "frozen dataset 1\n",
      "frozen dataset 2\n",
      "frozen dataset 3\n"
     ]
    },
    {
     "name": "stderr",
     "output_type": "stream",
     "text": [
      "/home/argykokk/miniconda3/envs/hls4ml-tutorial/lib/python3.8/site-packages/keras/optimizers/optimizer_v2/adam.py:114: UserWarning: The `lr` argument is deprecated, use `learning_rate` instead.\n",
      "  super().__init__(name, **kwargs)\n"
     ]
    },
    {
     "name": "stdout",
     "output_type": "stream",
     "text": [
      "46/46 [==============================] - 0s 1ms/step - loss: 1.1651 - accuracy: 0.5367\n",
      "accuracy = 0.5367347002029419\n",
      "Interpreting Sequential\n",
      "Topology:\n",
      "Layer name: fc1_input, layer type: Input\n",
      "Layer name: fc1, layer type: QDense\n",
      "Layer name: relu1, layer type: QActivation\n",
      "Layer name: output, layer type: QDense\n",
      "Layer name: softmax, layer type: Activation\n",
      "copy top.v, sim.Xtest, and sim.Ytest to the synopsys project \n"
     ]
    },
    {
     "name": "stderr",
     "output_type": "stream",
     "text": [
      "/home/argykokk/miniconda3/envs/hls4ml-tutorial/lib/python3.8/site-packages/keras/initializers/initializers_v2.py:120: UserWarning: The initializer LecunUniform is unseeded and being called multiple times, which will return identical values  each time (even if the initializer is unseeded). Please update your code to provide a seed to the initializer, or avoid using the same initalizer instance more than once.\n",
      "  warnings.warn(\n",
      "/home/argykokk/Desktop/TC/genetic_whitewine/pareto_sharing.py:173: ConvergenceWarning: Number of distinct clusters (1) found smaller than n_clusters (2). Possibly due to duplicate points in X.\n",
      "  # calculate the estimated area overhead of this centroid\n",
      "/home/argykokk/Desktop/TC/genetic_whitewine/pareto_sharing.py:173: ConvergenceWarning: Number of distinct clusters (1) found smaller than n_clusters (2). Possibly due to duplicate points in X.\n",
      "  # calculate the estimated area overhead of this centroid\n",
      "/home/argykokk/Desktop/TC/genetic_whitewine/pareto_sharing.py:173: ConvergenceWarning: Number of distinct clusters (1) found smaller than n_clusters (2). Possibly due to duplicate points in X.\n",
      "  # calculate the estimated area overhead of this centroid\n"
     ]
    },
    {
     "name": "stdout",
     "output_type": "stream",
     "text": [
      "frozen dataset 2\n",
      "frozen dataset 5\n",
      "frozen dataset 8\n",
      "frozen dataset 9\n"
     ]
    },
    {
     "name": "stderr",
     "output_type": "stream",
     "text": [
      "/home/argykokk/miniconda3/envs/hls4ml-tutorial/lib/python3.8/site-packages/keras/optimizers/optimizer_v2/adam.py:114: UserWarning: The `lr` argument is deprecated, use `learning_rate` instead.\n",
      "  super().__init__(name, **kwargs)\n"
     ]
    },
    {
     "name": "stdout",
     "output_type": "stream",
     "text": [
      "frozen dataset 0\n",
      "frozen dataset 1\n",
      "frozen dataset 2\n",
      "frozen dataset 3\n"
     ]
    },
    {
     "name": "stderr",
     "output_type": "stream",
     "text": [
      "/home/argykokk/miniconda3/envs/hls4ml-tutorial/lib/python3.8/site-packages/keras/optimizers/optimizer_v2/adam.py:114: UserWarning: The `lr` argument is deprecated, use `learning_rate` instead.\n",
      "  super().__init__(name, **kwargs)\n"
     ]
    },
    {
     "name": "stdout",
     "output_type": "stream",
     "text": [
      "46/46 [==============================] - 0s 1ms/step - loss: 1.1651 - accuracy: 0.5367\n",
      "accuracy = 0.5367347002029419\n",
      "Interpreting Sequential\n",
      "Topology:\n",
      "Layer name: fc1_input, layer type: Input\n",
      "Layer name: fc1, layer type: QDense\n",
      "Layer name: relu1, layer type: QActivation\n",
      "Layer name: output, layer type: QDense\n",
      "Layer name: softmax, layer type: Activation\n",
      "copy top.v, sim.Xtest, and sim.Ytest to the synopsys project \n"
     ]
    },
    {
     "name": "stderr",
     "output_type": "stream",
     "text": [
      "/home/argykokk/Desktop/TC/genetic_whitewine/pareto_sharing.py:173: ConvergenceWarning: Number of distinct clusters (1) found smaller than n_clusters (2). Possibly due to duplicate points in X.\n",
      "  # calculate the estimated area overhead of this centroid\n",
      "/home/argykokk/Desktop/TC/genetic_whitewine/pareto_sharing.py:173: ConvergenceWarning: Number of distinct clusters (1) found smaller than n_clusters (2). Possibly due to duplicate points in X.\n",
      "  # calculate the estimated area overhead of this centroid\n",
      "/home/argykokk/Desktop/TC/genetic_whitewine/pareto_sharing.py:173: ConvergenceWarning: Number of distinct clusters (1) found smaller than n_clusters (2). Possibly due to duplicate points in X.\n",
      "  # calculate the estimated area overhead of this centroid\n",
      "/home/argykokk/miniconda3/envs/hls4ml-tutorial/lib/python3.8/site-packages/keras/optimizers/optimizer_v2/adam.py:114: UserWarning: The `lr` argument is deprecated, use `learning_rate` instead.\n",
      "  super().__init__(name, **kwargs)\n"
     ]
    },
    {
     "name": "stdout",
     "output_type": "stream",
     "text": [
      "frozen dataset 2\n",
      "frozen dataset 5\n",
      "frozen dataset 8\n",
      "frozen dataset 9\n",
      "frozen dataset 0\n",
      "frozen dataset 1\n",
      "frozen dataset 2\n",
      "frozen dataset 3\n"
     ]
    },
    {
     "name": "stderr",
     "output_type": "stream",
     "text": [
      "/home/argykokk/miniconda3/envs/hls4ml-tutorial/lib/python3.8/site-packages/keras/optimizers/optimizer_v2/adam.py:114: UserWarning: The `lr` argument is deprecated, use `learning_rate` instead.\n",
      "  super().__init__(name, **kwargs)\n"
     ]
    },
    {
     "name": "stdout",
     "output_type": "stream",
     "text": [
      "46/46 [==============================] - 0s 1ms/step - loss: 1.1651 - accuracy: 0.5367\n",
      "accuracy = 0.5367347002029419\n",
      "Interpreting Sequential\n",
      "Topology:\n",
      "Layer name: fc1_input, layer type: Input\n",
      "Layer name: fc1, layer type: QDense\n",
      "Layer name: relu1, layer type: QActivation\n",
      "Layer name: output, layer type: QDense\n",
      "Layer name: softmax, layer type: Activation\n",
      "copy top.v, sim.Xtest, and sim.Ytest to the synopsys project \n"
     ]
    },
    {
     "name": "stderr",
     "output_type": "stream",
     "text": [
      "/home/argykokk/Desktop/TC/genetic_whitewine/pareto_sharing.py:173: ConvergenceWarning: Number of distinct clusters (1) found smaller than n_clusters (2). Possibly due to duplicate points in X.\n",
      "  # calculate the estimated area overhead of this centroid\n",
      "/home/argykokk/Desktop/TC/genetic_whitewine/pareto_sharing.py:173: ConvergenceWarning: Number of distinct clusters (1) found smaller than n_clusters (2). Possibly due to duplicate points in X.\n",
      "  # calculate the estimated area overhead of this centroid\n",
      "/home/argykokk/Desktop/TC/genetic_whitewine/pareto_sharing.py:173: ConvergenceWarning: Number of distinct clusters (1) found smaller than n_clusters (2). Possibly due to duplicate points in X.\n",
      "  # calculate the estimated area overhead of this centroid\n"
     ]
    },
    {
     "name": "stdout",
     "output_type": "stream",
     "text": [
      "frozen dataset 2\n",
      "frozen dataset 5\n",
      "frozen dataset 8\n",
      "frozen dataset 9\n",
      "frozen dataset 0\n",
      "frozen dataset 1\n",
      "frozen dataset 2\n",
      "frozen dataset 3\n"
     ]
    },
    {
     "name": "stderr",
     "output_type": "stream",
     "text": [
      "/home/argykokk/miniconda3/envs/hls4ml-tutorial/lib/python3.8/site-packages/keras/optimizers/optimizer_v2/adam.py:114: UserWarning: The `lr` argument is deprecated, use `learning_rate` instead.\n",
      "  super().__init__(name, **kwargs)\n",
      "/home/argykokk/miniconda3/envs/hls4ml-tutorial/lib/python3.8/site-packages/keras/optimizers/optimizer_v2/adam.py:114: UserWarning: The `lr` argument is deprecated, use `learning_rate` instead.\n",
      "  super().__init__(name, **kwargs)\n"
     ]
    },
    {
     "name": "stdout",
     "output_type": "stream",
     "text": [
      "46/46 [==============================] - 0s 1ms/step - loss: 1.1651 - accuracy: 0.5367\n",
      "accuracy = 0.5367347002029419\n",
      "Interpreting Sequential\n",
      "Topology:\n",
      "Layer name: fc1_input, layer type: Input\n",
      "Layer name: fc1, layer type: QDense\n",
      "Layer name: relu1, layer type: QActivation\n",
      "Layer name: output, layer type: QDense\n",
      "Layer name: softmax, layer type: Activation\n",
      "copy top.v, sim.Xtest, and sim.Ytest to the synopsys project \n"
     ]
    },
    {
     "name": "stderr",
     "output_type": "stream",
     "text": [
      "/home/argykokk/miniconda3/envs/hls4ml-tutorial/lib/python3.8/site-packages/keras/initializers/initializers_v2.py:120: UserWarning: The initializer LecunUniform is unseeded and being called multiple times, which will return identical values  each time (even if the initializer is unseeded). Please update your code to provide a seed to the initializer, or avoid using the same initalizer instance more than once.\n",
      "  warnings.warn(\n",
      "/home/argykokk/Desktop/TC/genetic_whitewine/pareto_sharing.py:173: ConvergenceWarning: Number of distinct clusters (1) found smaller than n_clusters (2). Possibly due to duplicate points in X.\n",
      "  # calculate the estimated area overhead of this centroid\n",
      "/home/argykokk/Desktop/TC/genetic_whitewine/pareto_sharing.py:173: ConvergenceWarning: Number of distinct clusters (1) found smaller than n_clusters (2). Possibly due to duplicate points in X.\n",
      "  # calculate the estimated area overhead of this centroid\n",
      "/home/argykokk/Desktop/TC/genetic_whitewine/pareto_sharing.py:173: ConvergenceWarning: Number of distinct clusters (1) found smaller than n_clusters (2). Possibly due to duplicate points in X.\n",
      "  # calculate the estimated area overhead of this centroid\n"
     ]
    },
    {
     "name": "stdout",
     "output_type": "stream",
     "text": [
      "frozen dataset 2\n",
      "frozen dataset 5\n",
      "frozen dataset 8\n",
      "frozen dataset 9\n"
     ]
    },
    {
     "name": "stderr",
     "output_type": "stream",
     "text": [
      "/home/argykokk/miniconda3/envs/hls4ml-tutorial/lib/python3.8/site-packages/keras/optimizers/optimizer_v2/adam.py:114: UserWarning: The `lr` argument is deprecated, use `learning_rate` instead.\n",
      "  super().__init__(name, **kwargs)\n"
     ]
    },
    {
     "name": "stdout",
     "output_type": "stream",
     "text": [
      "frozen dataset 0\n",
      "frozen dataset 1\n",
      "frozen dataset 2\n",
      "frozen dataset 3\n"
     ]
    },
    {
     "name": "stderr",
     "output_type": "stream",
     "text": [
      "/home/argykokk/miniconda3/envs/hls4ml-tutorial/lib/python3.8/site-packages/keras/optimizers/optimizer_v2/adam.py:114: UserWarning: The `lr` argument is deprecated, use `learning_rate` instead.\n",
      "  super().__init__(name, **kwargs)\n"
     ]
    },
    {
     "name": "stdout",
     "output_type": "stream",
     "text": [
      "46/46 [==============================] - 0s 1ms/step - loss: 1.1651 - accuracy: 0.5367\n",
      "accuracy = 0.5367347002029419\n",
      "Interpreting Sequential\n",
      "Topology:\n",
      "Layer name: fc1_input, layer type: Input\n",
      "Layer name: fc1, layer type: QDense\n",
      "Layer name: relu1, layer type: QActivation\n",
      "Layer name: output, layer type: QDense\n",
      "Layer name: softmax, layer type: Activation\n",
      "copy top.v, sim.Xtest, and sim.Ytest to the synopsys project \n"
     ]
    },
    {
     "name": "stderr",
     "output_type": "stream",
     "text": [
      "/home/argykokk/miniconda3/envs/hls4ml-tutorial/lib/python3.8/site-packages/keras/initializers/initializers_v2.py:120: UserWarning: The initializer LecunUniform is unseeded and being called multiple times, which will return identical values  each time (even if the initializer is unseeded). Please update your code to provide a seed to the initializer, or avoid using the same initalizer instance more than once.\n",
      "  warnings.warn(\n",
      "/home/argykokk/Desktop/TC/genetic_whitewine/pareto_sharing.py:173: ConvergenceWarning: Number of distinct clusters (1) found smaller than n_clusters (2). Possibly due to duplicate points in X.\n",
      "  # calculate the estimated area overhead of this centroid\n",
      "/home/argykokk/Desktop/TC/genetic_whitewine/pareto_sharing.py:173: ConvergenceWarning: Number of distinct clusters (1) found smaller than n_clusters (2). Possibly due to duplicate points in X.\n",
      "  # calculate the estimated area overhead of this centroid\n",
      "/home/argykokk/Desktop/TC/genetic_whitewine/pareto_sharing.py:173: ConvergenceWarning: Number of distinct clusters (1) found smaller than n_clusters (2). Possibly due to duplicate points in X.\n",
      "  # calculate the estimated area overhead of this centroid\n"
     ]
    },
    {
     "name": "stdout",
     "output_type": "stream",
     "text": [
      "frozen dataset 2\n",
      "frozen dataset 5\n",
      "frozen dataset 8\n",
      "frozen dataset 9\n"
     ]
    },
    {
     "name": "stderr",
     "output_type": "stream",
     "text": [
      "/home/argykokk/miniconda3/envs/hls4ml-tutorial/lib/python3.8/site-packages/keras/optimizers/optimizer_v2/adam.py:114: UserWarning: The `lr` argument is deprecated, use `learning_rate` instead.\n",
      "  super().__init__(name, **kwargs)\n"
     ]
    },
    {
     "name": "stdout",
     "output_type": "stream",
     "text": [
      "frozen dataset 0\n",
      "frozen dataset 1\n",
      "frozen dataset 2\n",
      "frozen dataset 3\n"
     ]
    },
    {
     "name": "stderr",
     "output_type": "stream",
     "text": [
      "/home/argykokk/miniconda3/envs/hls4ml-tutorial/lib/python3.8/site-packages/keras/optimizers/optimizer_v2/adam.py:114: UserWarning: The `lr` argument is deprecated, use `learning_rate` instead.\n",
      "  super().__init__(name, **kwargs)\n"
     ]
    },
    {
     "name": "stdout",
     "output_type": "stream",
     "text": [
      "46/46 [==============================] - 0s 1ms/step - loss: 1.1651 - accuracy: 0.5367\n",
      "accuracy = 0.5367347002029419\n",
      "Interpreting Sequential\n",
      "Topology:\n",
      "Layer name: fc1_input, layer type: Input\n",
      "Layer name: fc1, layer type: QDense\n",
      "Layer name: relu1, layer type: QActivation\n",
      "Layer name: output, layer type: QDense\n",
      "Layer name: softmax, layer type: Activation\n",
      "copy top.v, sim.Xtest, and sim.Ytest to the synopsys project \n"
     ]
    },
    {
     "name": "stderr",
     "output_type": "stream",
     "text": [
      "/home/argykokk/Desktop/TC/genetic_whitewine/pareto_sharing.py:173: ConvergenceWarning: Number of distinct clusters (1) found smaller than n_clusters (2). Possibly due to duplicate points in X.\n",
      "  # calculate the estimated area overhead of this centroid\n",
      "/home/argykokk/Desktop/TC/genetic_whitewine/pareto_sharing.py:173: ConvergenceWarning: Number of distinct clusters (1) found smaller than n_clusters (2). Possibly due to duplicate points in X.\n",
      "  # calculate the estimated area overhead of this centroid\n",
      "/home/argykokk/Desktop/TC/genetic_whitewine/pareto_sharing.py:173: ConvergenceWarning: Number of distinct clusters (1) found smaller than n_clusters (2). Possibly due to duplicate points in X.\n",
      "  # calculate the estimated area overhead of this centroid\n"
     ]
    },
    {
     "name": "stdout",
     "output_type": "stream",
     "text": [
      "frozen dataset 2\n",
      "frozen dataset 5\n",
      "frozen dataset 8\n",
      "frozen dataset 9\n"
     ]
    },
    {
     "name": "stderr",
     "output_type": "stream",
     "text": [
      "/home/argykokk/miniconda3/envs/hls4ml-tutorial/lib/python3.8/site-packages/keras/optimizers/optimizer_v2/adam.py:114: UserWarning: The `lr` argument is deprecated, use `learning_rate` instead.\n",
      "  super().__init__(name, **kwargs)\n"
     ]
    },
    {
     "name": "stdout",
     "output_type": "stream",
     "text": [
      "frozen dataset 0\n",
      "frozen dataset 1\n",
      "frozen dataset 2\n",
      "frozen dataset 3\n"
     ]
    },
    {
     "name": "stderr",
     "output_type": "stream",
     "text": [
      "/home/argykokk/miniconda3/envs/hls4ml-tutorial/lib/python3.8/site-packages/keras/optimizers/optimizer_v2/adam.py:114: UserWarning: The `lr` argument is deprecated, use `learning_rate` instead.\n",
      "  super().__init__(name, **kwargs)\n"
     ]
    },
    {
     "name": "stdout",
     "output_type": "stream",
     "text": [
      "46/46 [==============================] - 0s 1ms/step - loss: 1.1651 - accuracy: 0.5367\n",
      "accuracy = 0.5367347002029419\n",
      "Interpreting Sequential\n",
      "Topology:\n",
      "Layer name: fc1_input, layer type: Input\n",
      "Layer name: fc1, layer type: QDense\n",
      "Layer name: relu1, layer type: QActivation\n",
      "Layer name: output, layer type: QDense\n",
      "Layer name: softmax, layer type: Activation\n",
      "copy top.v, sim.Xtest, and sim.Ytest to the synopsys project \n"
     ]
    },
    {
     "name": "stderr",
     "output_type": "stream",
     "text": [
      "/home/argykokk/miniconda3/envs/hls4ml-tutorial/lib/python3.8/site-packages/keras/initializers/initializers_v2.py:120: UserWarning: The initializer LecunUniform is unseeded and being called multiple times, which will return identical values  each time (even if the initializer is unseeded). Please update your code to provide a seed to the initializer, or avoid using the same initalizer instance more than once.\n",
      "  warnings.warn(\n",
      "/home/argykokk/Desktop/TC/genetic_whitewine/pareto_sharing.py:173: ConvergenceWarning: Number of distinct clusters (1) found smaller than n_clusters (2). Possibly due to duplicate points in X.\n",
      "  # calculate the estimated area overhead of this centroid\n",
      "/home/argykokk/Desktop/TC/genetic_whitewine/pareto_sharing.py:173: ConvergenceWarning: Number of distinct clusters (1) found smaller than n_clusters (2). Possibly due to duplicate points in X.\n",
      "  # calculate the estimated area overhead of this centroid\n",
      "/home/argykokk/Desktop/TC/genetic_whitewine/pareto_sharing.py:173: ConvergenceWarning: Number of distinct clusters (1) found smaller than n_clusters (2). Possibly due to duplicate points in X.\n",
      "  # calculate the estimated area overhead of this centroid\n"
     ]
    },
    {
     "name": "stdout",
     "output_type": "stream",
     "text": [
      "frozen dataset 2\n",
      "frozen dataset 5\n",
      "frozen dataset 8\n",
      "frozen dataset 9\n"
     ]
    },
    {
     "name": "stderr",
     "output_type": "stream",
     "text": [
      "/home/argykokk/miniconda3/envs/hls4ml-tutorial/lib/python3.8/site-packages/keras/optimizers/optimizer_v2/adam.py:114: UserWarning: The `lr` argument is deprecated, use `learning_rate` instead.\n",
      "  super().__init__(name, **kwargs)\n"
     ]
    },
    {
     "name": "stdout",
     "output_type": "stream",
     "text": [
      "frozen dataset 0\n",
      "frozen dataset 1\n",
      "frozen dataset 2\n",
      "frozen dataset 3\n"
     ]
    },
    {
     "name": "stderr",
     "output_type": "stream",
     "text": [
      "/home/argykokk/miniconda3/envs/hls4ml-tutorial/lib/python3.8/site-packages/keras/optimizers/optimizer_v2/adam.py:114: UserWarning: The `lr` argument is deprecated, use `learning_rate` instead.\n",
      "  super().__init__(name, **kwargs)\n"
     ]
    },
    {
     "name": "stdout",
     "output_type": "stream",
     "text": [
      "46/46 [==============================] - 0s 1ms/step - loss: 1.1651 - accuracy: 0.5367\n",
      "accuracy = 0.5367347002029419\n",
      "Interpreting Sequential\n",
      "Topology:\n",
      "Layer name: fc1_input, layer type: Input\n",
      "Layer name: fc1, layer type: QDense\n",
      "Layer name: relu1, layer type: QActivation\n",
      "Layer name: output, layer type: QDense\n",
      "Layer name: softmax, layer type: Activation\n",
      "copy top.v, sim.Xtest, and sim.Ytest to the synopsys project \n"
     ]
    },
    {
     "name": "stderr",
     "output_type": "stream",
     "text": [
      "/home/argykokk/Desktop/TC/genetic_whitewine/pareto_sharing.py:173: ConvergenceWarning: Number of distinct clusters (1) found smaller than n_clusters (2). Possibly due to duplicate points in X.\n",
      "  # calculate the estimated area overhead of this centroid\n",
      "/home/argykokk/Desktop/TC/genetic_whitewine/pareto_sharing.py:173: ConvergenceWarning: Number of distinct clusters (1) found smaller than n_clusters (2). Possibly due to duplicate points in X.\n",
      "  # calculate the estimated area overhead of this centroid\n",
      "/home/argykokk/Desktop/TC/genetic_whitewine/pareto_sharing.py:173: ConvergenceWarning: Number of distinct clusters (1) found smaller than n_clusters (2). Possibly due to duplicate points in X.\n",
      "  # calculate the estimated area overhead of this centroid\n"
     ]
    },
    {
     "name": "stdout",
     "output_type": "stream",
     "text": [
      "frozen dataset 2\n",
      "frozen dataset 5\n",
      "frozen dataset 8\n",
      "frozen dataset 9\n"
     ]
    },
    {
     "name": "stderr",
     "output_type": "stream",
     "text": [
      "/home/argykokk/miniconda3/envs/hls4ml-tutorial/lib/python3.8/site-packages/keras/optimizers/optimizer_v2/adam.py:114: UserWarning: The `lr` argument is deprecated, use `learning_rate` instead.\n",
      "  super().__init__(name, **kwargs)\n"
     ]
    },
    {
     "name": "stdout",
     "output_type": "stream",
     "text": [
      "frozen dataset 0\n",
      "frozen dataset 1\n",
      "frozen dataset 2\n",
      "frozen dataset 3\n"
     ]
    },
    {
     "name": "stderr",
     "output_type": "stream",
     "text": [
      "/home/argykokk/miniconda3/envs/hls4ml-tutorial/lib/python3.8/site-packages/keras/optimizers/optimizer_v2/adam.py:114: UserWarning: The `lr` argument is deprecated, use `learning_rate` instead.\n",
      "  super().__init__(name, **kwargs)\n"
     ]
    },
    {
     "name": "stdout",
     "output_type": "stream",
     "text": [
      "46/46 [==============================] - 0s 1ms/step - loss: 1.1651 - accuracy: 0.5367\n",
      "accuracy = 0.5367347002029419\n",
      "Interpreting Sequential\n",
      "Topology:\n",
      "Layer name: fc1_input, layer type: Input\n",
      "Layer name: fc1, layer type: QDense\n",
      "Layer name: relu1, layer type: QActivation\n",
      "Layer name: output, layer type: QDense\n",
      "Layer name: softmax, layer type: Activation\n",
      "copy top.v, sim.Xtest, and sim.Ytest to the synopsys project \n",
      "frozen dataset 2\n",
      "frozen dataset 5\n",
      "frozen dataset 8\n",
      "frozen dataset 9\n"
     ]
    },
    {
     "name": "stderr",
     "output_type": "stream",
     "text": [
      "/home/argykokk/miniconda3/envs/hls4ml-tutorial/lib/python3.8/site-packages/keras/optimizers/optimizer_v2/adam.py:114: UserWarning: The `lr` argument is deprecated, use `learning_rate` instead.\n",
      "  super().__init__(name, **kwargs)\n"
     ]
    },
    {
     "name": "stdout",
     "output_type": "stream",
     "text": [
      "frozen dataset 0\n",
      "frozen dataset 1\n",
      "frozen dataset 2\n",
      "frozen dataset 3\n"
     ]
    },
    {
     "name": "stderr",
     "output_type": "stream",
     "text": [
      "/home/argykokk/miniconda3/envs/hls4ml-tutorial/lib/python3.8/site-packages/keras/optimizers/optimizer_v2/adam.py:114: UserWarning: The `lr` argument is deprecated, use `learning_rate` instead.\n",
      "  super().__init__(name, **kwargs)\n"
     ]
    },
    {
     "name": "stdout",
     "output_type": "stream",
     "text": [
      "46/46 [==============================] - 0s 1ms/step - loss: 1.1967 - accuracy: 0.4850\n",
      "accuracy = 0.4850340187549591\n",
      "Interpreting Sequential\n",
      "Topology:\n",
      "Layer name: fc1_input, layer type: Input\n",
      "Layer name: fc1, layer type: QDense\n",
      "Layer name: relu1, layer type: QActivation\n",
      "Layer name: output, layer type: QDense\n",
      "Layer name: softmax, layer type: Activation\n",
      "copy top.v, sim.Xtest, and sim.Ytest to the synopsys project \n"
     ]
    },
    {
     "name": "stderr",
     "output_type": "stream",
     "text": [
      "/home/argykokk/miniconda3/envs/hls4ml-tutorial/lib/python3.8/site-packages/keras/initializers/initializers_v2.py:120: UserWarning: The initializer LecunUniform is unseeded and being called multiple times, which will return identical values  each time (even if the initializer is unseeded). Please update your code to provide a seed to the initializer, or avoid using the same initalizer instance more than once.\n",
      "  warnings.warn(\n"
     ]
    },
    {
     "name": "stdout",
     "output_type": "stream",
     "text": [
      "frozen dataset 2\n",
      "frozen dataset 5\n",
      "frozen dataset 8\n",
      "frozen dataset 9\n"
     ]
    },
    {
     "name": "stderr",
     "output_type": "stream",
     "text": [
      "/home/argykokk/miniconda3/envs/hls4ml-tutorial/lib/python3.8/site-packages/keras/optimizers/optimizer_v2/adam.py:114: UserWarning: The `lr` argument is deprecated, use `learning_rate` instead.\n",
      "  super().__init__(name, **kwargs)\n"
     ]
    },
    {
     "name": "stdout",
     "output_type": "stream",
     "text": [
      "frozen dataset 0\n",
      "frozen dataset 1\n",
      "frozen dataset 2\n",
      "frozen dataset 3\n"
     ]
    },
    {
     "name": "stderr",
     "output_type": "stream",
     "text": [
      "/home/argykokk/miniconda3/envs/hls4ml-tutorial/lib/python3.8/site-packages/keras/optimizers/optimizer_v2/adam.py:114: UserWarning: The `lr` argument is deprecated, use `learning_rate` instead.\n",
      "  super().__init__(name, **kwargs)\n"
     ]
    },
    {
     "name": "stdout",
     "output_type": "stream",
     "text": [
      "46/46 [==============================] - 0s 1ms/step - loss: 1.1967 - accuracy: 0.4850\n",
      "accuracy = 0.4850340187549591\n",
      "Interpreting Sequential\n",
      "Topology:\n",
      "Layer name: fc1_input, layer type: Input\n",
      "Layer name: fc1, layer type: QDense\n",
      "Layer name: relu1, layer type: QActivation\n",
      "Layer name: output, layer type: QDense\n",
      "Layer name: softmax, layer type: Activation\n",
      "copy top.v, sim.Xtest, and sim.Ytest to the synopsys project \n",
      "frozen dataset 2\n",
      "frozen dataset 5\n",
      "frozen dataset 8\n",
      "frozen dataset 9\n"
     ]
    },
    {
     "name": "stderr",
     "output_type": "stream",
     "text": [
      "/home/argykokk/miniconda3/envs/hls4ml-tutorial/lib/python3.8/site-packages/keras/optimizers/optimizer_v2/adam.py:114: UserWarning: The `lr` argument is deprecated, use `learning_rate` instead.\n",
      "  super().__init__(name, **kwargs)\n"
     ]
    },
    {
     "name": "stdout",
     "output_type": "stream",
     "text": [
      "frozen dataset 0\n",
      "frozen dataset 1\n",
      "frozen dataset 2\n",
      "frozen dataset 3\n"
     ]
    },
    {
     "name": "stderr",
     "output_type": "stream",
     "text": [
      "/home/argykokk/miniconda3/envs/hls4ml-tutorial/lib/python3.8/site-packages/keras/optimizers/optimizer_v2/adam.py:114: UserWarning: The `lr` argument is deprecated, use `learning_rate` instead.\n",
      "  super().__init__(name, **kwargs)\n"
     ]
    },
    {
     "name": "stdout",
     "output_type": "stream",
     "text": [
      "46/46 [==============================] - 0s 1ms/step - loss: 1.1967 - accuracy: 0.4850\n",
      "accuracy = 0.4850340187549591\n",
      "Interpreting Sequential\n",
      "Topology:\n",
      "Layer name: fc1_input, layer type: Input\n",
      "Layer name: fc1, layer type: QDense\n",
      "Layer name: relu1, layer type: QActivation\n",
      "Layer name: output, layer type: QDense\n",
      "Layer name: softmax, layer type: Activation\n",
      "copy top.v, sim.Xtest, and sim.Ytest to the synopsys project \n",
      "frozen dataset 2\n",
      "frozen dataset 5\n",
      "frozen dataset 8\n",
      "frozen dataset 9\n"
     ]
    },
    {
     "name": "stderr",
     "output_type": "stream",
     "text": [
      "/home/argykokk/miniconda3/envs/hls4ml-tutorial/lib/python3.8/site-packages/keras/optimizers/optimizer_v2/adam.py:114: UserWarning: The `lr` argument is deprecated, use `learning_rate` instead.\n",
      "  super().__init__(name, **kwargs)\n"
     ]
    },
    {
     "name": "stdout",
     "output_type": "stream",
     "text": [
      "frozen dataset 0\n",
      "frozen dataset 1\n",
      "frozen dataset 2\n",
      "frozen dataset 3\n"
     ]
    },
    {
     "name": "stderr",
     "output_type": "stream",
     "text": [
      "/home/argykokk/miniconda3/envs/hls4ml-tutorial/lib/python3.8/site-packages/keras/optimizers/optimizer_v2/adam.py:114: UserWarning: The `lr` argument is deprecated, use `learning_rate` instead.\n",
      "  super().__init__(name, **kwargs)\n"
     ]
    },
    {
     "name": "stdout",
     "output_type": "stream",
     "text": [
      "46/46 [==============================] - 0s 1ms/step - loss: 1.1967 - accuracy: 0.4850\n",
      "accuracy = 0.4850340187549591\n",
      "Interpreting Sequential\n",
      "Topology:\n",
      "Layer name: fc1_input, layer type: Input\n",
      "Layer name: fc1, layer type: QDense\n",
      "Layer name: relu1, layer type: QActivation\n",
      "Layer name: output, layer type: QDense\n",
      "Layer name: softmax, layer type: Activation\n",
      "copy top.v, sim.Xtest, and sim.Ytest to the synopsys project \n"
     ]
    },
    {
     "name": "stderr",
     "output_type": "stream",
     "text": [
      "/home/argykokk/miniconda3/envs/hls4ml-tutorial/lib/python3.8/site-packages/keras/initializers/initializers_v2.py:120: UserWarning: The initializer LecunUniform is unseeded and being called multiple times, which will return identical values  each time (even if the initializer is unseeded). Please update your code to provide a seed to the initializer, or avoid using the same initalizer instance more than once.\n",
      "  warnings.warn(\n"
     ]
    },
    {
     "name": "stdout",
     "output_type": "stream",
     "text": [
      "frozen dataset 2\n",
      "frozen dataset 5\n",
      "frozen dataset 8\n",
      "frozen dataset 9\n"
     ]
    },
    {
     "name": "stderr",
     "output_type": "stream",
     "text": [
      "/home/argykokk/miniconda3/envs/hls4ml-tutorial/lib/python3.8/site-packages/keras/optimizers/optimizer_v2/adam.py:114: UserWarning: The `lr` argument is deprecated, use `learning_rate` instead.\n",
      "  super().__init__(name, **kwargs)\n"
     ]
    },
    {
     "name": "stdout",
     "output_type": "stream",
     "text": [
      "frozen dataset 0\n",
      "frozen dataset 1\n",
      "frozen dataset 2\n",
      "frozen dataset 3\n"
     ]
    },
    {
     "name": "stderr",
     "output_type": "stream",
     "text": [
      "/home/argykokk/miniconda3/envs/hls4ml-tutorial/lib/python3.8/site-packages/keras/optimizers/optimizer_v2/adam.py:114: UserWarning: The `lr` argument is deprecated, use `learning_rate` instead.\n",
      "  super().__init__(name, **kwargs)\n"
     ]
    },
    {
     "name": "stdout",
     "output_type": "stream",
     "text": [
      "46/46 [==============================] - 0s 1ms/step - loss: 1.1967 - accuracy: 0.4850\n",
      "accuracy = 0.4850340187549591\n",
      "Interpreting Sequential\n",
      "Topology:\n",
      "Layer name: fc1_input, layer type: Input\n",
      "Layer name: fc1, layer type: QDense\n",
      "Layer name: relu1, layer type: QActivation\n",
      "Layer name: output, layer type: QDense\n",
      "Layer name: softmax, layer type: Activation\n",
      "copy top.v, sim.Xtest, and sim.Ytest to the synopsys project \n",
      "frozen dataset 2\n",
      "frozen dataset 5\n",
      "frozen dataset 8\n",
      "frozen dataset 9\n"
     ]
    },
    {
     "name": "stderr",
     "output_type": "stream",
     "text": [
      "/home/argykokk/miniconda3/envs/hls4ml-tutorial/lib/python3.8/site-packages/keras/optimizers/optimizer_v2/adam.py:114: UserWarning: The `lr` argument is deprecated, use `learning_rate` instead.\n",
      "  super().__init__(name, **kwargs)\n"
     ]
    },
    {
     "name": "stdout",
     "output_type": "stream",
     "text": [
      "frozen dataset 0\n",
      "frozen dataset 1\n",
      "frozen dataset 2\n",
      "frozen dataset 3\n"
     ]
    },
    {
     "name": "stderr",
     "output_type": "stream",
     "text": [
      "/home/argykokk/miniconda3/envs/hls4ml-tutorial/lib/python3.8/site-packages/keras/optimizers/optimizer_v2/adam.py:114: UserWarning: The `lr` argument is deprecated, use `learning_rate` instead.\n",
      "  super().__init__(name, **kwargs)\n"
     ]
    },
    {
     "name": "stdout",
     "output_type": "stream",
     "text": [
      "46/46 [==============================] - 0s 1ms/step - loss: 1.1967 - accuracy: 0.4850\n",
      "accuracy = 0.4850340187549591\n",
      "Interpreting Sequential\n",
      "Topology:\n",
      "Layer name: fc1_input, layer type: Input\n",
      "Layer name: fc1, layer type: QDense\n",
      "Layer name: relu1, layer type: QActivation\n",
      "Layer name: output, layer type: QDense\n",
      "Layer name: softmax, layer type: Activation\n",
      "copy top.v, sim.Xtest, and sim.Ytest to the synopsys project \n"
     ]
    },
    {
     "name": "stderr",
     "output_type": "stream",
     "text": [
      "/home/argykokk/miniconda3/envs/hls4ml-tutorial/lib/python3.8/site-packages/keras/initializers/initializers_v2.py:120: UserWarning: The initializer LecunUniform is unseeded and being called multiple times, which will return identical values  each time (even if the initializer is unseeded). Please update your code to provide a seed to the initializer, or avoid using the same initalizer instance more than once.\n",
      "  warnings.warn(\n"
     ]
    },
    {
     "name": "stdout",
     "output_type": "stream",
     "text": [
      "frozen dataset 2\n",
      "frozen dataset 5\n",
      "frozen dataset 8\n",
      "frozen dataset 9\n"
     ]
    },
    {
     "name": "stderr",
     "output_type": "stream",
     "text": [
      "/home/argykokk/miniconda3/envs/hls4ml-tutorial/lib/python3.8/site-packages/keras/optimizers/optimizer_v2/adam.py:114: UserWarning: The `lr` argument is deprecated, use `learning_rate` instead.\n",
      "  super().__init__(name, **kwargs)\n"
     ]
    },
    {
     "name": "stdout",
     "output_type": "stream",
     "text": [
      "frozen dataset 0\n",
      "frozen dataset 1\n",
      "frozen dataset 2\n",
      "frozen dataset 3\n"
     ]
    },
    {
     "name": "stderr",
     "output_type": "stream",
     "text": [
      "/home/argykokk/miniconda3/envs/hls4ml-tutorial/lib/python3.8/site-packages/keras/optimizers/optimizer_v2/adam.py:114: UserWarning: The `lr` argument is deprecated, use `learning_rate` instead.\n",
      "  super().__init__(name, **kwargs)\n"
     ]
    },
    {
     "name": "stdout",
     "output_type": "stream",
     "text": [
      "46/46 [==============================] - 0s 1ms/step - loss: 1.1967 - accuracy: 0.4850\n",
      "accuracy = 0.4850340187549591\n",
      "Interpreting Sequential\n",
      "Topology:\n",
      "Layer name: fc1_input, layer type: Input\n",
      "Layer name: fc1, layer type: QDense\n",
      "Layer name: relu1, layer type: QActivation\n",
      "Layer name: output, layer type: QDense\n",
      "Layer name: softmax, layer type: Activation\n",
      "copy top.v, sim.Xtest, and sim.Ytest to the synopsys project \n"
     ]
    },
    {
     "name": "stderr",
     "output_type": "stream",
     "text": [
      "/home/argykokk/Desktop/TC/genetic_whitewine/pareto_sharing.py:173: ConvergenceWarning: Number of distinct clusters (1) found smaller than n_clusters (2). Possibly due to duplicate points in X.\n",
      "  # calculate the estimated area overhead of this centroid\n",
      "/home/argykokk/Desktop/TC/genetic_whitewine/pareto_sharing.py:173: ConvergenceWarning: Number of distinct clusters (1) found smaller than n_clusters (2). Possibly due to duplicate points in X.\n",
      "  # calculate the estimated area overhead of this centroid\n",
      "/home/argykokk/Desktop/TC/genetic_whitewine/pareto_sharing.py:173: ConvergenceWarning: Number of distinct clusters (1) found smaller than n_clusters (2). Possibly due to duplicate points in X.\n",
      "  # calculate the estimated area overhead of this centroid\n"
     ]
    },
    {
     "name": "stdout",
     "output_type": "stream",
     "text": [
      "frozen dataset 2\n",
      "frozen dataset 5\n",
      "frozen dataset 8\n",
      "frozen dataset 9\n"
     ]
    },
    {
     "name": "stderr",
     "output_type": "stream",
     "text": [
      "/home/argykokk/miniconda3/envs/hls4ml-tutorial/lib/python3.8/site-packages/keras/optimizers/optimizer_v2/adam.py:114: UserWarning: The `lr` argument is deprecated, use `learning_rate` instead.\n",
      "  super().__init__(name, **kwargs)\n"
     ]
    },
    {
     "name": "stdout",
     "output_type": "stream",
     "text": [
      "frozen dataset 0\n",
      "frozen dataset 1\n",
      "frozen dataset 2\n",
      "frozen dataset 3\n"
     ]
    },
    {
     "name": "stderr",
     "output_type": "stream",
     "text": [
      "/home/argykokk/miniconda3/envs/hls4ml-tutorial/lib/python3.8/site-packages/keras/optimizers/optimizer_v2/adam.py:114: UserWarning: The `lr` argument is deprecated, use `learning_rate` instead.\n",
      "  super().__init__(name, **kwargs)\n"
     ]
    },
    {
     "name": "stdout",
     "output_type": "stream",
     "text": [
      "46/46 [==============================] - 0s 1ms/step - loss: 1.2009 - accuracy: 0.4823\n",
      "accuracy = 0.4823129177093506\n",
      "Interpreting Sequential\n",
      "Topology:\n",
      "Layer name: fc1_input, layer type: Input\n",
      "Layer name: fc1, layer type: QDense\n",
      "Layer name: relu1, layer type: QActivation\n",
      "Layer name: output, layer type: QDense\n",
      "Layer name: softmax, layer type: Activation\n",
      "copy top.v, sim.Xtest, and sim.Ytest to the synopsys project \n"
     ]
    },
    {
     "name": "stderr",
     "output_type": "stream",
     "text": [
      "/home/argykokk/miniconda3/envs/hls4ml-tutorial/lib/python3.8/site-packages/keras/initializers/initializers_v2.py:120: UserWarning: The initializer LecunUniform is unseeded and being called multiple times, which will return identical values  each time (even if the initializer is unseeded). Please update your code to provide a seed to the initializer, or avoid using the same initalizer instance more than once.\n",
      "  warnings.warn(\n",
      "/home/argykokk/Desktop/TC/genetic_whitewine/pareto_sharing.py:173: ConvergenceWarning: Number of distinct clusters (1) found smaller than n_clusters (2). Possibly due to duplicate points in X.\n",
      "  # calculate the estimated area overhead of this centroid\n",
      "/home/argykokk/Desktop/TC/genetic_whitewine/pareto_sharing.py:173: ConvergenceWarning: Number of distinct clusters (1) found smaller than n_clusters (2). Possibly due to duplicate points in X.\n",
      "  # calculate the estimated area overhead of this centroid\n",
      "/home/argykokk/Desktop/TC/genetic_whitewine/pareto_sharing.py:173: ConvergenceWarning: Number of distinct clusters (1) found smaller than n_clusters (2). Possibly due to duplicate points in X.\n",
      "  # calculate the estimated area overhead of this centroid\n"
     ]
    },
    {
     "name": "stdout",
     "output_type": "stream",
     "text": [
      "frozen dataset 2\n",
      "frozen dataset 5\n",
      "frozen dataset 8\n",
      "frozen dataset 9\n"
     ]
    },
    {
     "name": "stderr",
     "output_type": "stream",
     "text": [
      "/home/argykokk/miniconda3/envs/hls4ml-tutorial/lib/python3.8/site-packages/keras/optimizers/optimizer_v2/adam.py:114: UserWarning: The `lr` argument is deprecated, use `learning_rate` instead.\n",
      "  super().__init__(name, **kwargs)\n"
     ]
    },
    {
     "name": "stdout",
     "output_type": "stream",
     "text": [
      "frozen dataset 0\n",
      "frozen dataset 1\n",
      "frozen dataset 2\n",
      "frozen dataset 3\n"
     ]
    },
    {
     "name": "stderr",
     "output_type": "stream",
     "text": [
      "/home/argykokk/miniconda3/envs/hls4ml-tutorial/lib/python3.8/site-packages/keras/optimizers/optimizer_v2/adam.py:114: UserWarning: The `lr` argument is deprecated, use `learning_rate` instead.\n",
      "  super().__init__(name, **kwargs)\n"
     ]
    },
    {
     "name": "stdout",
     "output_type": "stream",
     "text": [
      "46/46 [==============================] - 0s 1ms/step - loss: 1.2009 - accuracy: 0.4823\n",
      "accuracy = 0.4823129177093506\n",
      "Interpreting Sequential\n",
      "Topology:\n",
      "Layer name: fc1_input, layer type: Input\n",
      "Layer name: fc1, layer type: QDense\n",
      "Layer name: relu1, layer type: QActivation\n",
      "Layer name: output, layer type: QDense\n",
      "Layer name: softmax, layer type: Activation\n",
      "copy top.v, sim.Xtest, and sim.Ytest to the synopsys project \n"
     ]
    },
    {
     "name": "stderr",
     "output_type": "stream",
     "text": [
      "/home/argykokk/Desktop/TC/genetic_whitewine/pareto_sharing.py:173: ConvergenceWarning: Number of distinct clusters (1) found smaller than n_clusters (2). Possibly due to duplicate points in X.\n",
      "  # calculate the estimated area overhead of this centroid\n",
      "/home/argykokk/Desktop/TC/genetic_whitewine/pareto_sharing.py:173: ConvergenceWarning: Number of distinct clusters (1) found smaller than n_clusters (2). Possibly due to duplicate points in X.\n",
      "  # calculate the estimated area overhead of this centroid\n",
      "/home/argykokk/Desktop/TC/genetic_whitewine/pareto_sharing.py:173: ConvergenceWarning: Number of distinct clusters (1) found smaller than n_clusters (2). Possibly due to duplicate points in X.\n",
      "  # calculate the estimated area overhead of this centroid\n"
     ]
    },
    {
     "name": "stdout",
     "output_type": "stream",
     "text": [
      "frozen dataset 2\n",
      "frozen dataset 5\n",
      "frozen dataset 8\n",
      "frozen dataset 9\n"
     ]
    },
    {
     "name": "stderr",
     "output_type": "stream",
     "text": [
      "/home/argykokk/miniconda3/envs/hls4ml-tutorial/lib/python3.8/site-packages/keras/optimizers/optimizer_v2/adam.py:114: UserWarning: The `lr` argument is deprecated, use `learning_rate` instead.\n",
      "  super().__init__(name, **kwargs)\n"
     ]
    },
    {
     "name": "stdout",
     "output_type": "stream",
     "text": [
      "frozen dataset 0\n",
      "frozen dataset 1\n",
      "frozen dataset 2\n",
      "frozen dataset 3\n"
     ]
    },
    {
     "name": "stderr",
     "output_type": "stream",
     "text": [
      "/home/argykokk/miniconda3/envs/hls4ml-tutorial/lib/python3.8/site-packages/keras/optimizers/optimizer_v2/adam.py:114: UserWarning: The `lr` argument is deprecated, use `learning_rate` instead.\n",
      "  super().__init__(name, **kwargs)\n"
     ]
    },
    {
     "name": "stdout",
     "output_type": "stream",
     "text": [
      "46/46 [==============================] - 0s 1ms/step - loss: 1.2009 - accuracy: 0.4823\n",
      "accuracy = 0.4823129177093506\n",
      "Interpreting Sequential\n",
      "Topology:\n",
      "Layer name: fc1_input, layer type: Input\n",
      "Layer name: fc1, layer type: QDense\n",
      "Layer name: relu1, layer type: QActivation\n",
      "Layer name: output, layer type: QDense\n",
      "Layer name: softmax, layer type: Activation\n",
      "copy top.v, sim.Xtest, and sim.Ytest to the synopsys project \n"
     ]
    },
    {
     "name": "stderr",
     "output_type": "stream",
     "text": [
      "/home/argykokk/miniconda3/envs/hls4ml-tutorial/lib/python3.8/site-packages/keras/initializers/initializers_v2.py:120: UserWarning: The initializer LecunUniform is unseeded and being called multiple times, which will return identical values  each time (even if the initializer is unseeded). Please update your code to provide a seed to the initializer, or avoid using the same initalizer instance more than once.\n",
      "  warnings.warn(\n",
      "/home/argykokk/Desktop/TC/genetic_whitewine/pareto_sharing.py:173: ConvergenceWarning: Number of distinct clusters (1) found smaller than n_clusters (2). Possibly due to duplicate points in X.\n",
      "  # calculate the estimated area overhead of this centroid\n",
      "/home/argykokk/Desktop/TC/genetic_whitewine/pareto_sharing.py:173: ConvergenceWarning: Number of distinct clusters (1) found smaller than n_clusters (2). Possibly due to duplicate points in X.\n",
      "  # calculate the estimated area overhead of this centroid\n",
      "/home/argykokk/Desktop/TC/genetic_whitewine/pareto_sharing.py:173: ConvergenceWarning: Number of distinct clusters (1) found smaller than n_clusters (2). Possibly due to duplicate points in X.\n",
      "  # calculate the estimated area overhead of this centroid\n"
     ]
    },
    {
     "name": "stdout",
     "output_type": "stream",
     "text": [
      "frozen dataset 2\n",
      "frozen dataset 5\n",
      "frozen dataset 8\n",
      "frozen dataset 9\n"
     ]
    },
    {
     "name": "stderr",
     "output_type": "stream",
     "text": [
      "/home/argykokk/miniconda3/envs/hls4ml-tutorial/lib/python3.8/site-packages/keras/optimizers/optimizer_v2/adam.py:114: UserWarning: The `lr` argument is deprecated, use `learning_rate` instead.\n",
      "  super().__init__(name, **kwargs)\n"
     ]
    },
    {
     "name": "stdout",
     "output_type": "stream",
     "text": [
      "frozen dataset 0\n",
      "frozen dataset 1\n",
      "frozen dataset 2\n",
      "frozen dataset 3\n"
     ]
    },
    {
     "name": "stderr",
     "output_type": "stream",
     "text": [
      "/home/argykokk/miniconda3/envs/hls4ml-tutorial/lib/python3.8/site-packages/keras/optimizers/optimizer_v2/adam.py:114: UserWarning: The `lr` argument is deprecated, use `learning_rate` instead.\n",
      "  super().__init__(name, **kwargs)\n"
     ]
    },
    {
     "name": "stdout",
     "output_type": "stream",
     "text": [
      "46/46 [==============================] - 0s 1ms/step - loss: 1.2009 - accuracy: 0.4823\n",
      "accuracy = 0.4823129177093506\n",
      "Interpreting Sequential\n",
      "Topology:\n",
      "Layer name: fc1_input, layer type: Input\n",
      "Layer name: fc1, layer type: QDense\n",
      "Layer name: relu1, layer type: QActivation\n",
      "Layer name: output, layer type: QDense\n",
      "Layer name: softmax, layer type: Activation\n",
      "copy top.v, sim.Xtest, and sim.Ytest to the synopsys project \n"
     ]
    },
    {
     "name": "stderr",
     "output_type": "stream",
     "text": [
      "/home/argykokk/Desktop/TC/genetic_whitewine/pareto_sharing.py:173: ConvergenceWarning: Number of distinct clusters (1) found smaller than n_clusters (2). Possibly due to duplicate points in X.\n",
      "  # calculate the estimated area overhead of this centroid\n",
      "/home/argykokk/Desktop/TC/genetic_whitewine/pareto_sharing.py:173: ConvergenceWarning: Number of distinct clusters (1) found smaller than n_clusters (2). Possibly due to duplicate points in X.\n",
      "  # calculate the estimated area overhead of this centroid\n",
      "/home/argykokk/Desktop/TC/genetic_whitewine/pareto_sharing.py:173: ConvergenceWarning: Number of distinct clusters (1) found smaller than n_clusters (2). Possibly due to duplicate points in X.\n",
      "  # calculate the estimated area overhead of this centroid\n"
     ]
    },
    {
     "name": "stdout",
     "output_type": "stream",
     "text": [
      "frozen dataset 2\n",
      "frozen dataset 5\n",
      "frozen dataset 8\n",
      "frozen dataset 9\n"
     ]
    },
    {
     "name": "stderr",
     "output_type": "stream",
     "text": [
      "/home/argykokk/miniconda3/envs/hls4ml-tutorial/lib/python3.8/site-packages/keras/optimizers/optimizer_v2/adam.py:114: UserWarning: The `lr` argument is deprecated, use `learning_rate` instead.\n",
      "  super().__init__(name, **kwargs)\n"
     ]
    },
    {
     "name": "stdout",
     "output_type": "stream",
     "text": [
      "frozen dataset 0\n",
      "frozen dataset 1\n",
      "frozen dataset 2\n",
      "frozen dataset 3\n"
     ]
    },
    {
     "name": "stderr",
     "output_type": "stream",
     "text": [
      "/home/argykokk/miniconda3/envs/hls4ml-tutorial/lib/python3.8/site-packages/keras/optimizers/optimizer_v2/adam.py:114: UserWarning: The `lr` argument is deprecated, use `learning_rate` instead.\n",
      "  super().__init__(name, **kwargs)\n"
     ]
    },
    {
     "name": "stdout",
     "output_type": "stream",
     "text": [
      "46/46 [==============================] - 0s 1ms/step - loss: 1.2009 - accuracy: 0.4823\n",
      "accuracy = 0.4823129177093506\n",
      "Interpreting Sequential\n",
      "Topology:\n",
      "Layer name: fc1_input, layer type: Input\n",
      "Layer name: fc1, layer type: QDense\n",
      "Layer name: relu1, layer type: QActivation\n",
      "Layer name: output, layer type: QDense\n",
      "Layer name: softmax, layer type: Activation\n",
      "copy top.v, sim.Xtest, and sim.Ytest to the synopsys project \n"
     ]
    },
    {
     "name": "stderr",
     "output_type": "stream",
     "text": [
      "/home/argykokk/miniconda3/envs/hls4ml-tutorial/lib/python3.8/site-packages/keras/initializers/initializers_v2.py:120: UserWarning: The initializer LecunUniform is unseeded and being called multiple times, which will return identical values  each time (even if the initializer is unseeded). Please update your code to provide a seed to the initializer, or avoid using the same initalizer instance more than once.\n",
      "  warnings.warn(\n",
      "/home/argykokk/Desktop/TC/genetic_whitewine/pareto_sharing.py:173: ConvergenceWarning: Number of distinct clusters (1) found smaller than n_clusters (2). Possibly due to duplicate points in X.\n",
      "  # calculate the estimated area overhead of this centroid\n",
      "/home/argykokk/Desktop/TC/genetic_whitewine/pareto_sharing.py:173: ConvergenceWarning: Number of distinct clusters (1) found smaller than n_clusters (2). Possibly due to duplicate points in X.\n",
      "  # calculate the estimated area overhead of this centroid\n",
      "/home/argykokk/Desktop/TC/genetic_whitewine/pareto_sharing.py:173: ConvergenceWarning: Number of distinct clusters (1) found smaller than n_clusters (2). Possibly due to duplicate points in X.\n",
      "  # calculate the estimated area overhead of this centroid\n"
     ]
    },
    {
     "name": "stdout",
     "output_type": "stream",
     "text": [
      "frozen dataset 2\n",
      "frozen dataset 5\n",
      "frozen dataset 8\n",
      "frozen dataset 9\n"
     ]
    },
    {
     "name": "stderr",
     "output_type": "stream",
     "text": [
      "/home/argykokk/miniconda3/envs/hls4ml-tutorial/lib/python3.8/site-packages/keras/optimizers/optimizer_v2/adam.py:114: UserWarning: The `lr` argument is deprecated, use `learning_rate` instead.\n",
      "  super().__init__(name, **kwargs)\n"
     ]
    },
    {
     "name": "stdout",
     "output_type": "stream",
     "text": [
      "frozen dataset 0\n",
      "frozen dataset 1\n",
      "frozen dataset 2\n",
      "frozen dataset 3\n"
     ]
    },
    {
     "name": "stderr",
     "output_type": "stream",
     "text": [
      "/home/argykokk/miniconda3/envs/hls4ml-tutorial/lib/python3.8/site-packages/keras/optimizers/optimizer_v2/adam.py:114: UserWarning: The `lr` argument is deprecated, use `learning_rate` instead.\n",
      "  super().__init__(name, **kwargs)\n"
     ]
    },
    {
     "name": "stdout",
     "output_type": "stream",
     "text": [
      "46/46 [==============================] - 0s 1ms/step - loss: 1.2009 - accuracy: 0.4823\n",
      "accuracy = 0.4823129177093506\n",
      "Interpreting Sequential\n",
      "Topology:\n",
      "Layer name: fc1_input, layer type: Input\n",
      "Layer name: fc1, layer type: QDense\n",
      "Layer name: relu1, layer type: QActivation\n",
      "Layer name: output, layer type: QDense\n",
      "Layer name: softmax, layer type: Activation\n",
      "copy top.v, sim.Xtest, and sim.Ytest to the synopsys project \n"
     ]
    },
    {
     "name": "stderr",
     "output_type": "stream",
     "text": [
      "/home/argykokk/miniconda3/envs/hls4ml-tutorial/lib/python3.8/site-packages/keras/initializers/initializers_v2.py:120: UserWarning: The initializer LecunUniform is unseeded and being called multiple times, which will return identical values  each time (even if the initializer is unseeded). Please update your code to provide a seed to the initializer, or avoid using the same initalizer instance more than once.\n",
      "  warnings.warn(\n",
      "/home/argykokk/Desktop/TC/genetic_whitewine/pareto_sharing.py:173: ConvergenceWarning: Number of distinct clusters (1) found smaller than n_clusters (2). Possibly due to duplicate points in X.\n",
      "  # calculate the estimated area overhead of this centroid\n",
      "/home/argykokk/Desktop/TC/genetic_whitewine/pareto_sharing.py:173: ConvergenceWarning: Number of distinct clusters (1) found smaller than n_clusters (2). Possibly due to duplicate points in X.\n",
      "  # calculate the estimated area overhead of this centroid\n",
      "/home/argykokk/Desktop/TC/genetic_whitewine/pareto_sharing.py:173: ConvergenceWarning: Number of distinct clusters (1) found smaller than n_clusters (2). Possibly due to duplicate points in X.\n",
      "  # calculate the estimated area overhead of this centroid\n"
     ]
    },
    {
     "name": "stdout",
     "output_type": "stream",
     "text": [
      "frozen dataset 2\n",
      "frozen dataset 5\n",
      "frozen dataset 8\n",
      "frozen dataset 9\n",
      "frozen dataset 0\n",
      "frozen dataset 1\n",
      "frozen dataset 2\n",
      "frozen dataset 3\n"
     ]
    },
    {
     "name": "stderr",
     "output_type": "stream",
     "text": [
      "/home/argykokk/miniconda3/envs/hls4ml-tutorial/lib/python3.8/site-packages/keras/optimizers/optimizer_v2/adam.py:114: UserWarning: The `lr` argument is deprecated, use `learning_rate` instead.\n",
      "  super().__init__(name, **kwargs)\n",
      "/home/argykokk/miniconda3/envs/hls4ml-tutorial/lib/python3.8/site-packages/keras/optimizers/optimizer_v2/adam.py:114: UserWarning: The `lr` argument is deprecated, use `learning_rate` instead.\n",
      "  super().__init__(name, **kwargs)\n"
     ]
    },
    {
     "name": "stdout",
     "output_type": "stream",
     "text": [
      "46/46 [==============================] - 0s 1ms/step - loss: 1.2009 - accuracy: 0.4823\n",
      "accuracy = 0.4823129177093506\n",
      "Interpreting Sequential\n",
      "Topology:\n",
      "Layer name: fc1_input, layer type: Input\n",
      "Layer name: fc1, layer type: QDense\n",
      "Layer name: relu1, layer type: QActivation\n",
      "Layer name: output, layer type: QDense\n",
      "Layer name: softmax, layer type: Activation\n",
      "copy top.v, sim.Xtest, and sim.Ytest to the synopsys project \n"
     ]
    },
    {
     "name": "stderr",
     "output_type": "stream",
     "text": [
      "/home/argykokk/Desktop/TC/genetic_whitewine/pareto_sharing.py:173: ConvergenceWarning: Number of distinct clusters (1) found smaller than n_clusters (2). Possibly due to duplicate points in X.\n",
      "  # calculate the estimated area overhead of this centroid\n",
      "/home/argykokk/Desktop/TC/genetic_whitewine/pareto_sharing.py:173: ConvergenceWarning: Number of distinct clusters (1) found smaller than n_clusters (2). Possibly due to duplicate points in X.\n",
      "  # calculate the estimated area overhead of this centroid\n",
      "/home/argykokk/Desktop/TC/genetic_whitewine/pareto_sharing.py:173: ConvergenceWarning: Number of distinct clusters (1) found smaller than n_clusters (2). Possibly due to duplicate points in X.\n",
      "  # calculate the estimated area overhead of this centroid\n"
     ]
    },
    {
     "name": "stdout",
     "output_type": "stream",
     "text": [
      "frozen dataset 2\n",
      "frozen dataset 5\n",
      "frozen dataset 8\n",
      "frozen dataset 9\n"
     ]
    },
    {
     "name": "stderr",
     "output_type": "stream",
     "text": [
      "/home/argykokk/miniconda3/envs/hls4ml-tutorial/lib/python3.8/site-packages/keras/optimizers/optimizer_v2/adam.py:114: UserWarning: The `lr` argument is deprecated, use `learning_rate` instead.\n",
      "  super().__init__(name, **kwargs)\n"
     ]
    },
    {
     "name": "stdout",
     "output_type": "stream",
     "text": [
      "frozen dataset 0\n",
      "frozen dataset 1\n",
      "frozen dataset 2\n",
      "frozen dataset 3\n"
     ]
    },
    {
     "name": "stderr",
     "output_type": "stream",
     "text": [
      "/home/argykokk/miniconda3/envs/hls4ml-tutorial/lib/python3.8/site-packages/keras/optimizers/optimizer_v2/adam.py:114: UserWarning: The `lr` argument is deprecated, use `learning_rate` instead.\n",
      "  super().__init__(name, **kwargs)\n"
     ]
    },
    {
     "name": "stdout",
     "output_type": "stream",
     "text": [
      "46/46 [==============================] - 0s 949us/step - loss: 1.2009 - accuracy: 0.4823\n",
      "accuracy = 0.4823129177093506\n",
      "Interpreting Sequential\n",
      "Topology:\n",
      "Layer name: fc1_input, layer type: Input\n",
      "Layer name: fc1, layer type: QDense\n",
      "Layer name: relu1, layer type: QActivation\n",
      "Layer name: output, layer type: QDense\n",
      "Layer name: softmax, layer type: Activation\n",
      "copy top.v, sim.Xtest, and sim.Ytest to the synopsys project \n"
     ]
    },
    {
     "name": "stderr",
     "output_type": "stream",
     "text": [
      "/home/argykokk/Desktop/TC/genetic_whitewine/pareto_sharing.py:173: ConvergenceWarning: Number of distinct clusters (1) found smaller than n_clusters (2). Possibly due to duplicate points in X.\n",
      "  # calculate the estimated area overhead of this centroid\n",
      "/home/argykokk/Desktop/TC/genetic_whitewine/pareto_sharing.py:173: ConvergenceWarning: Number of distinct clusters (1) found smaller than n_clusters (2). Possibly due to duplicate points in X.\n",
      "  # calculate the estimated area overhead of this centroid\n",
      "/home/argykokk/Desktop/TC/genetic_whitewine/pareto_sharing.py:173: ConvergenceWarning: Number of distinct clusters (1) found smaller than n_clusters (2). Possibly due to duplicate points in X.\n",
      "  # calculate the estimated area overhead of this centroid\n",
      "/home/argykokk/miniconda3/envs/hls4ml-tutorial/lib/python3.8/site-packages/keras/optimizers/optimizer_v2/adam.py:114: UserWarning: The `lr` argument is deprecated, use `learning_rate` instead.\n",
      "  super().__init__(name, **kwargs)\n"
     ]
    },
    {
     "name": "stdout",
     "output_type": "stream",
     "text": [
      "frozen dataset 2\n",
      "frozen dataset 5\n",
      "frozen dataset 8\n",
      "frozen dataset 9\n",
      "frozen dataset 0\n",
      "frozen dataset 1\n",
      "frozen dataset 2\n",
      "frozen dataset 3\n"
     ]
    },
    {
     "name": "stderr",
     "output_type": "stream",
     "text": [
      "/home/argykokk/miniconda3/envs/hls4ml-tutorial/lib/python3.8/site-packages/keras/optimizers/optimizer_v2/adam.py:114: UserWarning: The `lr` argument is deprecated, use `learning_rate` instead.\n",
      "  super().__init__(name, **kwargs)\n"
     ]
    },
    {
     "name": "stdout",
     "output_type": "stream",
     "text": [
      "46/46 [==============================] - 0s 1ms/step - loss: 1.2009 - accuracy: 0.4823\n",
      "accuracy = 0.4823129177093506\n",
      "Interpreting Sequential\n",
      "Topology:\n",
      "Layer name: fc1_input, layer type: Input\n",
      "Layer name: fc1, layer type: QDense\n",
      "Layer name: relu1, layer type: QActivation\n",
      "Layer name: output, layer type: QDense\n",
      "Layer name: softmax, layer type: Activation\n",
      "copy top.v, sim.Xtest, and sim.Ytest to the synopsys project \n"
     ]
    },
    {
     "name": "stderr",
     "output_type": "stream",
     "text": [
      "/home/argykokk/miniconda3/envs/hls4ml-tutorial/lib/python3.8/site-packages/keras/initializers/initializers_v2.py:120: UserWarning: The initializer LecunUniform is unseeded and being called multiple times, which will return identical values  each time (even if the initializer is unseeded). Please update your code to provide a seed to the initializer, or avoid using the same initalizer instance more than once.\n",
      "  warnings.warn(\n",
      "/home/argykokk/Desktop/TC/genetic_whitewine/pareto_sharing.py:173: ConvergenceWarning: Number of distinct clusters (1) found smaller than n_clusters (2). Possibly due to duplicate points in X.\n",
      "  # calculate the estimated area overhead of this centroid\n",
      "/home/argykokk/Desktop/TC/genetic_whitewine/pareto_sharing.py:173: ConvergenceWarning: Number of distinct clusters (1) found smaller than n_clusters (2). Possibly due to duplicate points in X.\n",
      "  # calculate the estimated area overhead of this centroid\n",
      "/home/argykokk/Desktop/TC/genetic_whitewine/pareto_sharing.py:173: ConvergenceWarning: Number of distinct clusters (1) found smaller than n_clusters (2). Possibly due to duplicate points in X.\n",
      "  # calculate the estimated area overhead of this centroid\n"
     ]
    },
    {
     "name": "stdout",
     "output_type": "stream",
     "text": [
      "frozen dataset 2\n",
      "frozen dataset 5\n",
      "frozen dataset 8\n",
      "frozen dataset 9\n"
     ]
    },
    {
     "name": "stderr",
     "output_type": "stream",
     "text": [
      "/home/argykokk/miniconda3/envs/hls4ml-tutorial/lib/python3.8/site-packages/keras/optimizers/optimizer_v2/adam.py:114: UserWarning: The `lr` argument is deprecated, use `learning_rate` instead.\n",
      "  super().__init__(name, **kwargs)\n"
     ]
    },
    {
     "name": "stdout",
     "output_type": "stream",
     "text": [
      "frozen dataset 0\n",
      "frozen dataset 1\n",
      "frozen dataset 2\n",
      "frozen dataset 3\n"
     ]
    },
    {
     "name": "stderr",
     "output_type": "stream",
     "text": [
      "/home/argykokk/miniconda3/envs/hls4ml-tutorial/lib/python3.8/site-packages/keras/optimizers/optimizer_v2/adam.py:114: UserWarning: The `lr` argument is deprecated, use `learning_rate` instead.\n",
      "  super().__init__(name, **kwargs)\n"
     ]
    },
    {
     "name": "stdout",
     "output_type": "stream",
     "text": [
      "46/46 [==============================] - 0s 1ms/step - loss: 1.2009 - accuracy: 0.4823\n",
      "accuracy = 0.4823129177093506\n",
      "Interpreting Sequential\n",
      "Topology:\n",
      "Layer name: fc1_input, layer type: Input\n",
      "Layer name: fc1, layer type: QDense\n",
      "Layer name: relu1, layer type: QActivation\n",
      "Layer name: output, layer type: QDense\n",
      "Layer name: softmax, layer type: Activation\n",
      "copy top.v, sim.Xtest, and sim.Ytest to the synopsys project \n"
     ]
    },
    {
     "name": "stderr",
     "output_type": "stream",
     "text": [
      "/home/argykokk/miniconda3/envs/hls4ml-tutorial/lib/python3.8/site-packages/keras/initializers/initializers_v2.py:120: UserWarning: The initializer LecunUniform is unseeded and being called multiple times, which will return identical values  each time (even if the initializer is unseeded). Please update your code to provide a seed to the initializer, or avoid using the same initalizer instance more than once.\n",
      "  warnings.warn(\n",
      "/home/argykokk/Desktop/TC/genetic_whitewine/pareto_sharing.py:173: ConvergenceWarning: Number of distinct clusters (1) found smaller than n_clusters (2). Possibly due to duplicate points in X.\n",
      "  # calculate the estimated area overhead of this centroid\n",
      "/home/argykokk/Desktop/TC/genetic_whitewine/pareto_sharing.py:173: ConvergenceWarning: Number of distinct clusters (1) found smaller than n_clusters (2). Possibly due to duplicate points in X.\n",
      "  # calculate the estimated area overhead of this centroid\n",
      "/home/argykokk/Desktop/TC/genetic_whitewine/pareto_sharing.py:173: ConvergenceWarning: Number of distinct clusters (1) found smaller than n_clusters (2). Possibly due to duplicate points in X.\n",
      "  # calculate the estimated area overhead of this centroid\n",
      "/home/argykokk/miniconda3/envs/hls4ml-tutorial/lib/python3.8/site-packages/keras/optimizers/optimizer_v2/adam.py:114: UserWarning: The `lr` argument is deprecated, use `learning_rate` instead.\n",
      "  super().__init__(name, **kwargs)\n",
      "/home/argykokk/miniconda3/envs/hls4ml-tutorial/lib/python3.8/site-packages/keras/optimizers/optimizer_v2/adam.py:114: UserWarning: The `lr` argument is deprecated, use `learning_rate` instead.\n",
      "  super().__init__(name, **kwargs)\n"
     ]
    },
    {
     "name": "stdout",
     "output_type": "stream",
     "text": [
      "frozen dataset 2\n",
      "frozen dataset 5\n",
      "frozen dataset 8\n",
      "frozen dataset 9\n",
      "frozen dataset 0\n",
      "frozen dataset 1\n",
      "frozen dataset 2\n",
      "frozen dataset 3\n",
      "46/46 [==============================] - 0s 1ms/step - loss: 1.2009 - accuracy: 0.4823\n",
      "accuracy = 0.4823129177093506\n",
      "Interpreting Sequential\n",
      "Topology:\n",
      "Layer name: fc1_input, layer type: Input\n",
      "Layer name: fc1, layer type: QDense\n",
      "Layer name: relu1, layer type: QActivation\n",
      "Layer name: output, layer type: QDense\n",
      "Layer name: softmax, layer type: Activation\n",
      "copy top.v, sim.Xtest, and sim.Ytest to the synopsys project \n"
     ]
    },
    {
     "name": "stderr",
     "output_type": "stream",
     "text": [
      "/home/argykokk/miniconda3/envs/hls4ml-tutorial/lib/python3.8/site-packages/keras/initializers/initializers_v2.py:120: UserWarning: The initializer LecunUniform is unseeded and being called multiple times, which will return identical values  each time (even if the initializer is unseeded). Please update your code to provide a seed to the initializer, or avoid using the same initalizer instance more than once.\n",
      "  warnings.warn(\n",
      "/home/argykokk/Desktop/TC/genetic_whitewine/pareto_sharing.py:173: ConvergenceWarning: Number of distinct clusters (1) found smaller than n_clusters (2). Possibly due to duplicate points in X.\n",
      "  # calculate the estimated area overhead of this centroid\n",
      "/home/argykokk/Desktop/TC/genetic_whitewine/pareto_sharing.py:173: ConvergenceWarning: Number of distinct clusters (1) found smaller than n_clusters (2). Possibly due to duplicate points in X.\n",
      "  # calculate the estimated area overhead of this centroid\n",
      "/home/argykokk/Desktop/TC/genetic_whitewine/pareto_sharing.py:173: ConvergenceWarning: Number of distinct clusters (1) found smaller than n_clusters (2). Possibly due to duplicate points in X.\n",
      "  # calculate the estimated area overhead of this centroid\n"
     ]
    },
    {
     "name": "stdout",
     "output_type": "stream",
     "text": [
      "frozen dataset 2\n",
      "frozen dataset 5\n",
      "frozen dataset 8\n",
      "frozen dataset 9\n"
     ]
    },
    {
     "name": "stderr",
     "output_type": "stream",
     "text": [
      "/home/argykokk/miniconda3/envs/hls4ml-tutorial/lib/python3.8/site-packages/keras/optimizers/optimizer_v2/adam.py:114: UserWarning: The `lr` argument is deprecated, use `learning_rate` instead.\n",
      "  super().__init__(name, **kwargs)\n"
     ]
    },
    {
     "name": "stdout",
     "output_type": "stream",
     "text": [
      "frozen dataset 0\n",
      "frozen dataset 1\n",
      "frozen dataset 2\n",
      "frozen dataset 3\n"
     ]
    },
    {
     "name": "stderr",
     "output_type": "stream",
     "text": [
      "/home/argykokk/miniconda3/envs/hls4ml-tutorial/lib/python3.8/site-packages/keras/optimizers/optimizer_v2/adam.py:114: UserWarning: The `lr` argument is deprecated, use `learning_rate` instead.\n",
      "  super().__init__(name, **kwargs)\n"
     ]
    },
    {
     "name": "stdout",
     "output_type": "stream",
     "text": [
      "46/46 [==============================] - 0s 1000us/step - loss: 1.2009 - accuracy: 0.4823\n",
      "accuracy = 0.4823129177093506\n",
      "Interpreting Sequential\n",
      "Topology:\n",
      "Layer name: fc1_input, layer type: Input\n",
      "Layer name: fc1, layer type: QDense\n",
      "Layer name: relu1, layer type: QActivation\n",
      "Layer name: output, layer type: QDense\n",
      "Layer name: softmax, layer type: Activation\n",
      "copy top.v, sim.Xtest, and sim.Ytest to the synopsys project \n"
     ]
    },
    {
     "name": "stderr",
     "output_type": "stream",
     "text": [
      "/home/argykokk/miniconda3/envs/hls4ml-tutorial/lib/python3.8/site-packages/keras/initializers/initializers_v2.py:120: UserWarning: The initializer LecunUniform is unseeded and being called multiple times, which will return identical values  each time (even if the initializer is unseeded). Please update your code to provide a seed to the initializer, or avoid using the same initalizer instance more than once.\n",
      "  warnings.warn(\n",
      "/home/argykokk/Desktop/TC/genetic_whitewine/pareto_sharing.py:173: ConvergenceWarning: Number of distinct clusters (1) found smaller than n_clusters (2). Possibly due to duplicate points in X.\n",
      "  # calculate the estimated area overhead of this centroid\n",
      "/home/argykokk/Desktop/TC/genetic_whitewine/pareto_sharing.py:173: ConvergenceWarning: Number of distinct clusters (1) found smaller than n_clusters (2). Possibly due to duplicate points in X.\n",
      "  # calculate the estimated area overhead of this centroid\n",
      "/home/argykokk/Desktop/TC/genetic_whitewine/pareto_sharing.py:173: ConvergenceWarning: Number of distinct clusters (1) found smaller than n_clusters (2). Possibly due to duplicate points in X.\n",
      "  # calculate the estimated area overhead of this centroid\n"
     ]
    },
    {
     "name": "stdout",
     "output_type": "stream",
     "text": [
      "frozen dataset 2\n",
      "frozen dataset 5\n",
      "frozen dataset 8\n",
      "frozen dataset 9\n"
     ]
    },
    {
     "name": "stderr",
     "output_type": "stream",
     "text": [
      "/home/argykokk/miniconda3/envs/hls4ml-tutorial/lib/python3.8/site-packages/keras/optimizers/optimizer_v2/adam.py:114: UserWarning: The `lr` argument is deprecated, use `learning_rate` instead.\n",
      "  super().__init__(name, **kwargs)\n"
     ]
    },
    {
     "name": "stdout",
     "output_type": "stream",
     "text": [
      "frozen dataset 0\n",
      "frozen dataset 1\n",
      "frozen dataset 2\n",
      "frozen dataset 3\n"
     ]
    },
    {
     "name": "stderr",
     "output_type": "stream",
     "text": [
      "/home/argykokk/miniconda3/envs/hls4ml-tutorial/lib/python3.8/site-packages/keras/optimizers/optimizer_v2/adam.py:114: UserWarning: The `lr` argument is deprecated, use `learning_rate` instead.\n",
      "  super().__init__(name, **kwargs)\n"
     ]
    },
    {
     "name": "stdout",
     "output_type": "stream",
     "text": [
      "46/46 [==============================] - 0s 993us/step - loss: 1.2009 - accuracy: 0.4823\n",
      "accuracy = 0.4823129177093506\n",
      "Interpreting Sequential\n",
      "Topology:\n",
      "Layer name: fc1_input, layer type: Input\n",
      "Layer name: fc1, layer type: QDense\n",
      "Layer name: relu1, layer type: QActivation\n",
      "Layer name: output, layer type: QDense\n",
      "Layer name: softmax, layer type: Activation\n",
      "copy top.v, sim.Xtest, and sim.Ytest to the synopsys project \n"
     ]
    },
    {
     "name": "stderr",
     "output_type": "stream",
     "text": [
      "/home/argykokk/miniconda3/envs/hls4ml-tutorial/lib/python3.8/site-packages/keras/initializers/initializers_v2.py:120: UserWarning: The initializer LecunUniform is unseeded and being called multiple times, which will return identical values  each time (even if the initializer is unseeded). Please update your code to provide a seed to the initializer, or avoid using the same initalizer instance more than once.\n",
      "  warnings.warn(\n",
      "/home/argykokk/Desktop/TC/genetic_whitewine/pareto_sharing.py:173: ConvergenceWarning: Number of distinct clusters (1) found smaller than n_clusters (2). Possibly due to duplicate points in X.\n",
      "  # calculate the estimated area overhead of this centroid\n",
      "/home/argykokk/Desktop/TC/genetic_whitewine/pareto_sharing.py:173: ConvergenceWarning: Number of distinct clusters (1) found smaller than n_clusters (2). Possibly due to duplicate points in X.\n",
      "  # calculate the estimated area overhead of this centroid\n",
      "/home/argykokk/Desktop/TC/genetic_whitewine/pareto_sharing.py:173: ConvergenceWarning: Number of distinct clusters (1) found smaller than n_clusters (2). Possibly due to duplicate points in X.\n",
      "  # calculate the estimated area overhead of this centroid\n"
     ]
    },
    {
     "name": "stdout",
     "output_type": "stream",
     "text": [
      "frozen dataset 2\n",
      "frozen dataset 5\n",
      "frozen dataset 8\n",
      "frozen dataset 9\n"
     ]
    },
    {
     "name": "stderr",
     "output_type": "stream",
     "text": [
      "/home/argykokk/miniconda3/envs/hls4ml-tutorial/lib/python3.8/site-packages/keras/optimizers/optimizer_v2/adam.py:114: UserWarning: The `lr` argument is deprecated, use `learning_rate` instead.\n",
      "  super().__init__(name, **kwargs)\n"
     ]
    },
    {
     "name": "stdout",
     "output_type": "stream",
     "text": [
      "frozen dataset 0\n",
      "frozen dataset 1\n",
      "frozen dataset 2\n",
      "frozen dataset 3\n"
     ]
    },
    {
     "name": "stderr",
     "output_type": "stream",
     "text": [
      "/home/argykokk/miniconda3/envs/hls4ml-tutorial/lib/python3.8/site-packages/keras/optimizers/optimizer_v2/adam.py:114: UserWarning: The `lr` argument is deprecated, use `learning_rate` instead.\n",
      "  super().__init__(name, **kwargs)\n"
     ]
    },
    {
     "name": "stdout",
     "output_type": "stream",
     "text": [
      "46/46 [==============================] - 0s 1ms/step - loss: 1.2009 - accuracy: 0.4823\n",
      "accuracy = 0.4823129177093506\n",
      "Interpreting Sequential\n",
      "Topology:\n",
      "Layer name: fc1_input, layer type: Input\n",
      "Layer name: fc1, layer type: QDense\n",
      "Layer name: relu1, layer type: QActivation\n",
      "Layer name: output, layer type: QDense\n",
      "Layer name: softmax, layer type: Activation\n",
      "copy top.v, sim.Xtest, and sim.Ytest to the synopsys project \n"
     ]
    },
    {
     "name": "stderr",
     "output_type": "stream",
     "text": [
      "/home/argykokk/miniconda3/envs/hls4ml-tutorial/lib/python3.8/site-packages/keras/initializers/initializers_v2.py:120: UserWarning: The initializer LecunUniform is unseeded and being called multiple times, which will return identical values  each time (even if the initializer is unseeded). Please update your code to provide a seed to the initializer, or avoid using the same initalizer instance more than once.\n",
      "  warnings.warn(\n",
      "/home/argykokk/Desktop/TC/genetic_whitewine/pareto_sharing.py:173: ConvergenceWarning: Number of distinct clusters (1) found smaller than n_clusters (2). Possibly due to duplicate points in X.\n",
      "  # calculate the estimated area overhead of this centroid\n",
      "/home/argykokk/Desktop/TC/genetic_whitewine/pareto_sharing.py:173: ConvergenceWarning: Number of distinct clusters (1) found smaller than n_clusters (2). Possibly due to duplicate points in X.\n",
      "  # calculate the estimated area overhead of this centroid\n",
      "/home/argykokk/Desktop/TC/genetic_whitewine/pareto_sharing.py:173: ConvergenceWarning: Number of distinct clusters (1) found smaller than n_clusters (2). Possibly due to duplicate points in X.\n",
      "  # calculate the estimated area overhead of this centroid\n"
     ]
    },
    {
     "name": "stdout",
     "output_type": "stream",
     "text": [
      "frozen dataset 2\n",
      "frozen dataset 5\n",
      "frozen dataset 8\n",
      "frozen dataset 9\n",
      "frozen dataset 0\n",
      "frozen dataset 1\n",
      "frozen dataset 2\n",
      "frozen dataset 3\n"
     ]
    },
    {
     "name": "stderr",
     "output_type": "stream",
     "text": [
      "/home/argykokk/miniconda3/envs/hls4ml-tutorial/lib/python3.8/site-packages/keras/optimizers/optimizer_v2/adam.py:114: UserWarning: The `lr` argument is deprecated, use `learning_rate` instead.\n",
      "  super().__init__(name, **kwargs)\n",
      "/home/argykokk/miniconda3/envs/hls4ml-tutorial/lib/python3.8/site-packages/keras/optimizers/optimizer_v2/adam.py:114: UserWarning: The `lr` argument is deprecated, use `learning_rate` instead.\n",
      "  super().__init__(name, **kwargs)\n"
     ]
    },
    {
     "name": "stdout",
     "output_type": "stream",
     "text": [
      "46/46 [==============================] - 0s 1ms/step - loss: 1.2009 - accuracy: 0.4823\n",
      "accuracy = 0.4823129177093506\n",
      "Interpreting Sequential\n",
      "Topology:\n",
      "Layer name: fc1_input, layer type: Input\n",
      "Layer name: fc1, layer type: QDense\n",
      "Layer name: relu1, layer type: QActivation\n",
      "Layer name: output, layer type: QDense\n",
      "Layer name: softmax, layer type: Activation\n",
      "copy top.v, sim.Xtest, and sim.Ytest to the synopsys project \n"
     ]
    },
    {
     "name": "stderr",
     "output_type": "stream",
     "text": [
      "/home/argykokk/miniconda3/envs/hls4ml-tutorial/lib/python3.8/site-packages/keras/initializers/initializers_v2.py:120: UserWarning: The initializer LecunUniform is unseeded and being called multiple times, which will return identical values  each time (even if the initializer is unseeded). Please update your code to provide a seed to the initializer, or avoid using the same initalizer instance more than once.\n",
      "  warnings.warn(\n",
      "/home/argykokk/Desktop/TC/genetic_whitewine/pareto_sharing.py:173: ConvergenceWarning: Number of distinct clusters (1) found smaller than n_clusters (2). Possibly due to duplicate points in X.\n",
      "  # calculate the estimated area overhead of this centroid\n",
      "/home/argykokk/Desktop/TC/genetic_whitewine/pareto_sharing.py:173: ConvergenceWarning: Number of distinct clusters (1) found smaller than n_clusters (2). Possibly due to duplicate points in X.\n",
      "  # calculate the estimated area overhead of this centroid\n",
      "/home/argykokk/Desktop/TC/genetic_whitewine/pareto_sharing.py:173: ConvergenceWarning: Number of distinct clusters (1) found smaller than n_clusters (2). Possibly due to duplicate points in X.\n",
      "  # calculate the estimated area overhead of this centroid\n"
     ]
    },
    {
     "name": "stdout",
     "output_type": "stream",
     "text": [
      "frozen dataset 2\n",
      "frozen dataset 5\n",
      "frozen dataset 8\n",
      "frozen dataset 9\n"
     ]
    },
    {
     "name": "stderr",
     "output_type": "stream",
     "text": [
      "/home/argykokk/miniconda3/envs/hls4ml-tutorial/lib/python3.8/site-packages/keras/optimizers/optimizer_v2/adam.py:114: UserWarning: The `lr` argument is deprecated, use `learning_rate` instead.\n",
      "  super().__init__(name, **kwargs)\n"
     ]
    },
    {
     "name": "stdout",
     "output_type": "stream",
     "text": [
      "frozen dataset 0\n",
      "frozen dataset 1\n",
      "frozen dataset 2\n",
      "frozen dataset 3\n"
     ]
    },
    {
     "name": "stderr",
     "output_type": "stream",
     "text": [
      "/home/argykokk/miniconda3/envs/hls4ml-tutorial/lib/python3.8/site-packages/keras/optimizers/optimizer_v2/adam.py:114: UserWarning: The `lr` argument is deprecated, use `learning_rate` instead.\n",
      "  super().__init__(name, **kwargs)\n"
     ]
    },
    {
     "name": "stdout",
     "output_type": "stream",
     "text": [
      "46/46 [==============================] - 0s 1ms/step - loss: 1.2009 - accuracy: 0.4823\n",
      "accuracy = 0.4823129177093506\n",
      "Interpreting Sequential\n",
      "Topology:\n",
      "Layer name: fc1_input, layer type: Input\n",
      "Layer name: fc1, layer type: QDense\n",
      "Layer name: relu1, layer type: QActivation\n",
      "Layer name: output, layer type: QDense\n",
      "Layer name: softmax, layer type: Activation\n",
      "copy top.v, sim.Xtest, and sim.Ytest to the synopsys project \n"
     ]
    },
    {
     "name": "stderr",
     "output_type": "stream",
     "text": [
      "/home/argykokk/Desktop/TC/genetic_whitewine/pareto_sharing.py:173: ConvergenceWarning: Number of distinct clusters (1) found smaller than n_clusters (2). Possibly due to duplicate points in X.\n",
      "  # calculate the estimated area overhead of this centroid\n",
      "/home/argykokk/Desktop/TC/genetic_whitewine/pareto_sharing.py:173: ConvergenceWarning: Number of distinct clusters (1) found smaller than n_clusters (2). Possibly due to duplicate points in X.\n",
      "  # calculate the estimated area overhead of this centroid\n",
      "/home/argykokk/Desktop/TC/genetic_whitewine/pareto_sharing.py:173: ConvergenceWarning: Number of distinct clusters (1) found smaller than n_clusters (2). Possibly due to duplicate points in X.\n",
      "  # calculate the estimated area overhead of this centroid\n"
     ]
    },
    {
     "name": "stdout",
     "output_type": "stream",
     "text": [
      "frozen dataset 2\n",
      "frozen dataset 5\n",
      "frozen dataset 8\n",
      "frozen dataset 9\n"
     ]
    },
    {
     "name": "stderr",
     "output_type": "stream",
     "text": [
      "/home/argykokk/miniconda3/envs/hls4ml-tutorial/lib/python3.8/site-packages/keras/optimizers/optimizer_v2/adam.py:114: UserWarning: The `lr` argument is deprecated, use `learning_rate` instead.\n",
      "  super().__init__(name, **kwargs)\n"
     ]
    },
    {
     "name": "stdout",
     "output_type": "stream",
     "text": [
      "frozen dataset 0\n",
      "frozen dataset 1\n",
      "frozen dataset 2\n",
      "frozen dataset 3\n"
     ]
    },
    {
     "name": "stderr",
     "output_type": "stream",
     "text": [
      "/home/argykokk/miniconda3/envs/hls4ml-tutorial/lib/python3.8/site-packages/keras/optimizers/optimizer_v2/adam.py:114: UserWarning: The `lr` argument is deprecated, use `learning_rate` instead.\n",
      "  super().__init__(name, **kwargs)\n"
     ]
    },
    {
     "name": "stdout",
     "output_type": "stream",
     "text": [
      "46/46 [==============================] - 0s 1ms/step - loss: 1.2009 - accuracy: 0.4823\n",
      "accuracy = 0.4823129177093506\n",
      "Interpreting Sequential\n",
      "Topology:\n",
      "Layer name: fc1_input, layer type: Input\n",
      "Layer name: fc1, layer type: QDense\n",
      "Layer name: relu1, layer type: QActivation\n",
      "Layer name: output, layer type: QDense\n",
      "Layer name: softmax, layer type: Activation\n",
      "copy top.v, sim.Xtest, and sim.Ytest to the synopsys project \n"
     ]
    },
    {
     "name": "stderr",
     "output_type": "stream",
     "text": [
      "/home/argykokk/Desktop/TC/genetic_whitewine/pareto_sharing.py:173: ConvergenceWarning: Number of distinct clusters (1) found smaller than n_clusters (2). Possibly due to duplicate points in X.\n",
      "  # calculate the estimated area overhead of this centroid\n",
      "/home/argykokk/Desktop/TC/genetic_whitewine/pareto_sharing.py:173: ConvergenceWarning: Number of distinct clusters (1) found smaller than n_clusters (2). Possibly due to duplicate points in X.\n",
      "  # calculate the estimated area overhead of this centroid\n",
      "/home/argykokk/Desktop/TC/genetic_whitewine/pareto_sharing.py:173: ConvergenceWarning: Number of distinct clusters (1) found smaller than n_clusters (2). Possibly due to duplicate points in X.\n",
      "  # calculate the estimated area overhead of this centroid\n"
     ]
    },
    {
     "name": "stdout",
     "output_type": "stream",
     "text": [
      "frozen dataset 2\n",
      "frozen dataset 5\n",
      "frozen dataset 8\n",
      "frozen dataset 9\n"
     ]
    },
    {
     "name": "stderr",
     "output_type": "stream",
     "text": [
      "/home/argykokk/miniconda3/envs/hls4ml-tutorial/lib/python3.8/site-packages/keras/optimizers/optimizer_v2/adam.py:114: UserWarning: The `lr` argument is deprecated, use `learning_rate` instead.\n",
      "  super().__init__(name, **kwargs)\n"
     ]
    },
    {
     "name": "stdout",
     "output_type": "stream",
     "text": [
      "frozen dataset 0\n",
      "frozen dataset 1\n",
      "frozen dataset 2\n",
      "frozen dataset 3\n"
     ]
    },
    {
     "name": "stderr",
     "output_type": "stream",
     "text": [
      "/home/argykokk/miniconda3/envs/hls4ml-tutorial/lib/python3.8/site-packages/keras/optimizers/optimizer_v2/adam.py:114: UserWarning: The `lr` argument is deprecated, use `learning_rate` instead.\n",
      "  super().__init__(name, **kwargs)\n"
     ]
    },
    {
     "name": "stdout",
     "output_type": "stream",
     "text": [
      "46/46 [==============================] - 0s 1ms/step - loss: 1.2009 - accuracy: 0.4823\n",
      "accuracy = 0.4823129177093506\n",
      "Interpreting Sequential\n",
      "Topology:\n",
      "Layer name: fc1_input, layer type: Input\n",
      "Layer name: fc1, layer type: QDense\n",
      "Layer name: relu1, layer type: QActivation\n",
      "Layer name: output, layer type: QDense\n",
      "Layer name: softmax, layer type: Activation\n",
      "copy top.v, sim.Xtest, and sim.Ytest to the synopsys project \n"
     ]
    },
    {
     "name": "stderr",
     "output_type": "stream",
     "text": [
      "/home/argykokk/miniconda3/envs/hls4ml-tutorial/lib/python3.8/site-packages/keras/initializers/initializers_v2.py:120: UserWarning: The initializer LecunUniform is unseeded and being called multiple times, which will return identical values  each time (even if the initializer is unseeded). Please update your code to provide a seed to the initializer, or avoid using the same initalizer instance more than once.\n",
      "  warnings.warn(\n",
      "/home/argykokk/Desktop/TC/genetic_whitewine/pareto_sharing.py:173: ConvergenceWarning: Number of distinct clusters (1) found smaller than n_clusters (2). Possibly due to duplicate points in X.\n",
      "  # calculate the estimated area overhead of this centroid\n",
      "/home/argykokk/Desktop/TC/genetic_whitewine/pareto_sharing.py:173: ConvergenceWarning: Number of distinct clusters (1) found smaller than n_clusters (2). Possibly due to duplicate points in X.\n",
      "  # calculate the estimated area overhead of this centroid\n",
      "/home/argykokk/Desktop/TC/genetic_whitewine/pareto_sharing.py:173: ConvergenceWarning: Number of distinct clusters (1) found smaller than n_clusters (2). Possibly due to duplicate points in X.\n",
      "  # calculate the estimated area overhead of this centroid\n"
     ]
    },
    {
     "name": "stdout",
     "output_type": "stream",
     "text": [
      "frozen dataset 2\n",
      "frozen dataset 5\n",
      "frozen dataset 8\n",
      "frozen dataset 9\n"
     ]
    },
    {
     "name": "stderr",
     "output_type": "stream",
     "text": [
      "/home/argykokk/miniconda3/envs/hls4ml-tutorial/lib/python3.8/site-packages/keras/optimizers/optimizer_v2/adam.py:114: UserWarning: The `lr` argument is deprecated, use `learning_rate` instead.\n",
      "  super().__init__(name, **kwargs)\n"
     ]
    },
    {
     "name": "stdout",
     "output_type": "stream",
     "text": [
      "frozen dataset 0\n",
      "frozen dataset 1\n",
      "frozen dataset 2\n",
      "frozen dataset 3\n"
     ]
    },
    {
     "name": "stderr",
     "output_type": "stream",
     "text": [
      "/home/argykokk/miniconda3/envs/hls4ml-tutorial/lib/python3.8/site-packages/keras/optimizers/optimizer_v2/adam.py:114: UserWarning: The `lr` argument is deprecated, use `learning_rate` instead.\n",
      "  super().__init__(name, **kwargs)\n"
     ]
    },
    {
     "name": "stdout",
     "output_type": "stream",
     "text": [
      "46/46 [==============================] - 0s 1ms/step - loss: 1.2009 - accuracy: 0.4823\n",
      "accuracy = 0.4823129177093506\n",
      "Interpreting Sequential\n",
      "Topology:\n",
      "Layer name: fc1_input, layer type: Input\n",
      "Layer name: fc1, layer type: QDense\n",
      "Layer name: relu1, layer type: QActivation\n",
      "Layer name: output, layer type: QDense\n",
      "Layer name: softmax, layer type: Activation\n",
      "copy top.v, sim.Xtest, and sim.Ytest to the synopsys project \n"
     ]
    },
    {
     "name": "stderr",
     "output_type": "stream",
     "text": [
      "/home/argykokk/miniconda3/envs/hls4ml-tutorial/lib/python3.8/site-packages/keras/initializers/initializers_v2.py:120: UserWarning: The initializer LecunUniform is unseeded and being called multiple times, which will return identical values  each time (even if the initializer is unseeded). Please update your code to provide a seed to the initializer, or avoid using the same initalizer instance more than once.\n",
      "  warnings.warn(\n",
      "/home/argykokk/Desktop/TC/genetic_whitewine/pareto_sharing.py:173: ConvergenceWarning: Number of distinct clusters (1) found smaller than n_clusters (2). Possibly due to duplicate points in X.\n",
      "  # calculate the estimated area overhead of this centroid\n",
      "/home/argykokk/Desktop/TC/genetic_whitewine/pareto_sharing.py:173: ConvergenceWarning: Number of distinct clusters (1) found smaller than n_clusters (2). Possibly due to duplicate points in X.\n",
      "  # calculate the estimated area overhead of this centroid\n",
      "/home/argykokk/Desktop/TC/genetic_whitewine/pareto_sharing.py:173: ConvergenceWarning: Number of distinct clusters (1) found smaller than n_clusters (2). Possibly due to duplicate points in X.\n",
      "  # calculate the estimated area overhead of this centroid\n"
     ]
    },
    {
     "name": "stdout",
     "output_type": "stream",
     "text": [
      "frozen dataset 2\n",
      "frozen dataset 5\n",
      "frozen dataset 8\n",
      "frozen dataset 9\n"
     ]
    },
    {
     "name": "stderr",
     "output_type": "stream",
     "text": [
      "/home/argykokk/miniconda3/envs/hls4ml-tutorial/lib/python3.8/site-packages/keras/optimizers/optimizer_v2/adam.py:114: UserWarning: The `lr` argument is deprecated, use `learning_rate` instead.\n",
      "  super().__init__(name, **kwargs)\n"
     ]
    },
    {
     "name": "stdout",
     "output_type": "stream",
     "text": [
      "frozen dataset 0\n",
      "frozen dataset 1\n",
      "frozen dataset 2\n",
      "frozen dataset 3\n"
     ]
    },
    {
     "name": "stderr",
     "output_type": "stream",
     "text": [
      "/home/argykokk/miniconda3/envs/hls4ml-tutorial/lib/python3.8/site-packages/keras/optimizers/optimizer_v2/adam.py:114: UserWarning: The `lr` argument is deprecated, use `learning_rate` instead.\n",
      "  super().__init__(name, **kwargs)\n"
     ]
    },
    {
     "name": "stdout",
     "output_type": "stream",
     "text": [
      "46/46 [==============================] - 0s 978us/step - loss: 1.2009 - accuracy: 0.4823\n",
      "accuracy = 0.4823129177093506\n",
      "Interpreting Sequential\n",
      "Topology:\n",
      "Layer name: fc1_input, layer type: Input\n",
      "Layer name: fc1, layer type: QDense\n",
      "Layer name: relu1, layer type: QActivation\n",
      "Layer name: output, layer type: QDense\n",
      "Layer name: softmax, layer type: Activation\n",
      "copy top.v, sim.Xtest, and sim.Ytest to the synopsys project \n"
     ]
    },
    {
     "name": "stderr",
     "output_type": "stream",
     "text": [
      "/home/argykokk/miniconda3/envs/hls4ml-tutorial/lib/python3.8/site-packages/keras/initializers/initializers_v2.py:120: UserWarning: The initializer LecunUniform is unseeded and being called multiple times, which will return identical values  each time (even if the initializer is unseeded). Please update your code to provide a seed to the initializer, or avoid using the same initalizer instance more than once.\n",
      "  warnings.warn(\n",
      "/home/argykokk/Desktop/TC/genetic_whitewine/pareto_sharing.py:173: ConvergenceWarning: Number of distinct clusters (1) found smaller than n_clusters (2). Possibly due to duplicate points in X.\n",
      "  # calculate the estimated area overhead of this centroid\n",
      "/home/argykokk/Desktop/TC/genetic_whitewine/pareto_sharing.py:173: ConvergenceWarning: Number of distinct clusters (1) found smaller than n_clusters (2). Possibly due to duplicate points in X.\n",
      "  # calculate the estimated area overhead of this centroid\n",
      "/home/argykokk/Desktop/TC/genetic_whitewine/pareto_sharing.py:173: ConvergenceWarning: Number of distinct clusters (1) found smaller than n_clusters (2). Possibly due to duplicate points in X.\n",
      "  # calculate the estimated area overhead of this centroid\n"
     ]
    },
    {
     "name": "stdout",
     "output_type": "stream",
     "text": [
      "frozen dataset 2\n",
      "frozen dataset 5\n",
      "frozen dataset 8\n",
      "frozen dataset 9\n"
     ]
    },
    {
     "name": "stderr",
     "output_type": "stream",
     "text": [
      "/home/argykokk/miniconda3/envs/hls4ml-tutorial/lib/python3.8/site-packages/keras/optimizers/optimizer_v2/adam.py:114: UserWarning: The `lr` argument is deprecated, use `learning_rate` instead.\n",
      "  super().__init__(name, **kwargs)\n"
     ]
    },
    {
     "name": "stdout",
     "output_type": "stream",
     "text": [
      "frozen dataset 0\n",
      "frozen dataset 1\n",
      "frozen dataset 2\n",
      "frozen dataset 3\n"
     ]
    },
    {
     "name": "stderr",
     "output_type": "stream",
     "text": [
      "/home/argykokk/miniconda3/envs/hls4ml-tutorial/lib/python3.8/site-packages/keras/optimizers/optimizer_v2/adam.py:114: UserWarning: The `lr` argument is deprecated, use `learning_rate` instead.\n",
      "  super().__init__(name, **kwargs)\n"
     ]
    },
    {
     "name": "stdout",
     "output_type": "stream",
     "text": [
      "46/46 [==============================] - 1s 991us/step - loss: 1.2009 - accuracy: 0.4823\n",
      "accuracy = 0.4823129177093506\n",
      "Interpreting Sequential\n",
      "Topology:\n",
      "Layer name: fc1_input, layer type: Input\n",
      "Layer name: fc1, layer type: QDense\n",
      "Layer name: relu1, layer type: QActivation\n",
      "Layer name: output, layer type: QDense\n",
      "Layer name: softmax, layer type: Activation\n",
      "copy top.v, sim.Xtest, and sim.Ytest to the synopsys project \n",
      "frozen dataset 2\n",
      "frozen dataset 5\n",
      "frozen dataset 9\n",
      "frozen dataset 3\n"
     ]
    },
    {
     "name": "stderr",
     "output_type": "stream",
     "text": [
      "/home/argykokk/miniconda3/envs/hls4ml-tutorial/lib/python3.8/site-packages/keras/optimizers/optimizer_v2/adam.py:114: UserWarning: The `lr` argument is deprecated, use `learning_rate` instead.\n",
      "  super().__init__(name, **kwargs)\n",
      "/home/argykokk/miniconda3/envs/hls4ml-tutorial/lib/python3.8/site-packages/keras/optimizers/optimizer_v2/adam.py:114: UserWarning: The `lr` argument is deprecated, use `learning_rate` instead.\n",
      "  super().__init__(name, **kwargs)\n"
     ]
    },
    {
     "name": "stdout",
     "output_type": "stream",
     "text": [
      "46/46 [==============================] - 0s 946us/step - loss: 1.2998 - accuracy: 0.3524\n",
      "accuracy = 0.3523809611797333\n",
      "Interpreting Sequential\n",
      "Topology:\n",
      "Layer name: fc1_input, layer type: Input\n",
      "Layer name: fc1, layer type: QDense\n",
      "Layer name: relu1, layer type: QActivation\n",
      "Layer name: output, layer type: QDense\n",
      "Layer name: softmax, layer type: Activation\n",
      "copy top.v, sim.Xtest, and sim.Ytest to the synopsys project \n",
      "frozen dataset 2\n",
      "frozen dataset 5\n",
      "frozen dataset 9\n"
     ]
    },
    {
     "name": "stderr",
     "output_type": "stream",
     "text": [
      "/home/argykokk/miniconda3/envs/hls4ml-tutorial/lib/python3.8/site-packages/keras/optimizers/optimizer_v2/adam.py:114: UserWarning: The `lr` argument is deprecated, use `learning_rate` instead.\n",
      "  super().__init__(name, **kwargs)\n"
     ]
    },
    {
     "name": "stdout",
     "output_type": "stream",
     "text": [
      "frozen dataset 3\n"
     ]
    },
    {
     "name": "stderr",
     "output_type": "stream",
     "text": [
      "/home/argykokk/miniconda3/envs/hls4ml-tutorial/lib/python3.8/site-packages/keras/optimizers/optimizer_v2/adam.py:114: UserWarning: The `lr` argument is deprecated, use `learning_rate` instead.\n",
      "  super().__init__(name, **kwargs)\n"
     ]
    },
    {
     "name": "stdout",
     "output_type": "stream",
     "text": [
      "46/46 [==============================] - 0s 1ms/step - loss: 1.2358 - accuracy: 0.4469\n",
      "accuracy = 0.44693878293037415\n",
      "Interpreting Sequential\n",
      "Topology:\n",
      "Layer name: fc1_input, layer type: Input\n",
      "Layer name: fc1, layer type: QDense\n",
      "Layer name: relu1, layer type: QActivation\n",
      "Layer name: output, layer type: QDense\n",
      "Layer name: softmax, layer type: Activation\n",
      "copy top.v, sim.Xtest, and sim.Ytest to the synopsys project \n",
      "frozen dataset 2\n",
      "frozen dataset 5\n",
      "frozen dataset 9\n",
      "frozen dataset 3\n"
     ]
    },
    {
     "name": "stderr",
     "output_type": "stream",
     "text": [
      "/home/argykokk/miniconda3/envs/hls4ml-tutorial/lib/python3.8/site-packages/keras/optimizers/optimizer_v2/adam.py:114: UserWarning: The `lr` argument is deprecated, use `learning_rate` instead.\n",
      "  super().__init__(name, **kwargs)\n",
      "/home/argykokk/miniconda3/envs/hls4ml-tutorial/lib/python3.8/site-packages/keras/optimizers/optimizer_v2/adam.py:114: UserWarning: The `lr` argument is deprecated, use `learning_rate` instead.\n",
      "  super().__init__(name, **kwargs)\n"
     ]
    },
    {
     "name": "stdout",
     "output_type": "stream",
     "text": [
      "46/46 [==============================] - 0s 1ms/step - loss: 1.2321 - accuracy: 0.4639\n",
      "accuracy = 0.46394556760787964\n",
      "Interpreting Sequential\n",
      "Topology:\n",
      "Layer name: fc1_input, layer type: Input\n",
      "Layer name: fc1, layer type: QDense\n",
      "Layer name: relu1, layer type: QActivation\n",
      "Layer name: output, layer type: QDense\n",
      "Layer name: softmax, layer type: Activation\n",
      "copy top.v, sim.Xtest, and sim.Ytest to the synopsys project \n",
      "frozen dataset 2\n",
      "frozen dataset 5\n",
      "frozen dataset 9\n"
     ]
    },
    {
     "name": "stderr",
     "output_type": "stream",
     "text": [
      "/home/argykokk/miniconda3/envs/hls4ml-tutorial/lib/python3.8/site-packages/keras/optimizers/optimizer_v2/adam.py:114: UserWarning: The `lr` argument is deprecated, use `learning_rate` instead.\n",
      "  super().__init__(name, **kwargs)\n"
     ]
    },
    {
     "name": "stdout",
     "output_type": "stream",
     "text": [
      "frozen dataset 3\n"
     ]
    },
    {
     "name": "stderr",
     "output_type": "stream",
     "text": [
      "/home/argykokk/miniconda3/envs/hls4ml-tutorial/lib/python3.8/site-packages/keras/optimizers/optimizer_v2/adam.py:114: UserWarning: The `lr` argument is deprecated, use `learning_rate` instead.\n",
      "  super().__init__(name, **kwargs)\n"
     ]
    },
    {
     "name": "stdout",
     "output_type": "stream",
     "text": [
      "46/46 [==============================] - 0s 988us/step - loss: 1.2321 - accuracy: 0.4639\n",
      "accuracy = 0.46394556760787964\n",
      "Interpreting Sequential\n",
      "Topology:\n",
      "Layer name: fc1_input, layer type: Input\n",
      "Layer name: fc1, layer type: QDense\n",
      "Layer name: relu1, layer type: QActivation\n",
      "Layer name: output, layer type: QDense\n",
      "Layer name: softmax, layer type: Activation\n",
      "copy top.v, sim.Xtest, and sim.Ytest to the synopsys project \n",
      "frozen dataset 2\n",
      "frozen dataset 5\n",
      "frozen dataset 9\n"
     ]
    },
    {
     "name": "stderr",
     "output_type": "stream",
     "text": [
      "/home/argykokk/miniconda3/envs/hls4ml-tutorial/lib/python3.8/site-packages/keras/optimizers/optimizer_v2/adam.py:114: UserWarning: The `lr` argument is deprecated, use `learning_rate` instead.\n",
      "  super().__init__(name, **kwargs)\n"
     ]
    },
    {
     "name": "stdout",
     "output_type": "stream",
     "text": [
      "frozen dataset 3\n"
     ]
    },
    {
     "name": "stderr",
     "output_type": "stream",
     "text": [
      "/home/argykokk/miniconda3/envs/hls4ml-tutorial/lib/python3.8/site-packages/keras/optimizers/optimizer_v2/adam.py:114: UserWarning: The `lr` argument is deprecated, use `learning_rate` instead.\n",
      "  super().__init__(name, **kwargs)\n"
     ]
    },
    {
     "name": "stdout",
     "output_type": "stream",
     "text": [
      "46/46 [==============================] - 0s 942us/step - loss: 1.2321 - accuracy: 0.4639\n",
      "accuracy = 0.46394556760787964\n",
      "Interpreting Sequential\n",
      "Topology:\n",
      "Layer name: fc1_input, layer type: Input\n",
      "Layer name: fc1, layer type: QDense\n",
      "Layer name: relu1, layer type: QActivation\n",
      "Layer name: output, layer type: QDense\n",
      "Layer name: softmax, layer type: Activation\n",
      "copy top.v, sim.Xtest, and sim.Ytest to the synopsys project \n",
      "frozen dataset 2\n",
      "frozen dataset 5\n",
      "frozen dataset 9\n"
     ]
    },
    {
     "name": "stderr",
     "output_type": "stream",
     "text": [
      "/home/argykokk/miniconda3/envs/hls4ml-tutorial/lib/python3.8/site-packages/keras/optimizers/optimizer_v2/adam.py:114: UserWarning: The `lr` argument is deprecated, use `learning_rate` instead.\n",
      "  super().__init__(name, **kwargs)\n"
     ]
    },
    {
     "name": "stdout",
     "output_type": "stream",
     "text": [
      "frozen dataset 3\n"
     ]
    },
    {
     "name": "stderr",
     "output_type": "stream",
     "text": [
      "/home/argykokk/miniconda3/envs/hls4ml-tutorial/lib/python3.8/site-packages/keras/optimizers/optimizer_v2/adam.py:114: UserWarning: The `lr` argument is deprecated, use `learning_rate` instead.\n",
      "  super().__init__(name, **kwargs)\n"
     ]
    },
    {
     "name": "stdout",
     "output_type": "stream",
     "text": [
      "46/46 [==============================] - 0s 991us/step - loss: 1.2321 - accuracy: 0.4639\n",
      "accuracy = 0.46394556760787964\n",
      "Interpreting Sequential\n",
      "Topology:\n",
      "Layer name: fc1_input, layer type: Input\n",
      "Layer name: fc1, layer type: QDense\n",
      "Layer name: relu1, layer type: QActivation\n",
      "Layer name: output, layer type: QDense\n",
      "Layer name: softmax, layer type: Activation\n",
      "copy top.v, sim.Xtest, and sim.Ytest to the synopsys project \n",
      "frozen dataset 2\n",
      "frozen dataset 5\n",
      "frozen dataset 9\n",
      "frozen dataset 3\n"
     ]
    },
    {
     "name": "stderr",
     "output_type": "stream",
     "text": [
      "/home/argykokk/miniconda3/envs/hls4ml-tutorial/lib/python3.8/site-packages/keras/optimizers/optimizer_v2/adam.py:114: UserWarning: The `lr` argument is deprecated, use `learning_rate` instead.\n",
      "  super().__init__(name, **kwargs)\n",
      "/home/argykokk/miniconda3/envs/hls4ml-tutorial/lib/python3.8/site-packages/keras/optimizers/optimizer_v2/adam.py:114: UserWarning: The `lr` argument is deprecated, use `learning_rate` instead.\n",
      "  super().__init__(name, **kwargs)\n"
     ]
    },
    {
     "name": "stdout",
     "output_type": "stream",
     "text": [
      "46/46 [==============================] - 0s 1ms/step - loss: 1.2321 - accuracy: 0.4639\n",
      "accuracy = 0.46394556760787964\n",
      "Interpreting Sequential\n",
      "Topology:\n",
      "Layer name: fc1_input, layer type: Input\n",
      "Layer name: fc1, layer type: QDense\n",
      "Layer name: relu1, layer type: QActivation\n",
      "Layer name: output, layer type: QDense\n",
      "Layer name: softmax, layer type: Activation\n",
      "copy top.v, sim.Xtest, and sim.Ytest to the synopsys project \n"
     ]
    },
    {
     "name": "stderr",
     "output_type": "stream",
     "text": [
      "/home/argykokk/Desktop/TC/genetic_whitewine/pareto_sharing.py:173: ConvergenceWarning: Number of distinct clusters (1) found smaller than n_clusters (2). Possibly due to duplicate points in X.\n",
      "  # calculate the estimated area overhead of this centroid\n",
      "/home/argykokk/Desktop/TC/genetic_whitewine/pareto_sharing.py:173: ConvergenceWarning: Number of distinct clusters (1) found smaller than n_clusters (2). Possibly due to duplicate points in X.\n",
      "  # calculate the estimated area overhead of this centroid\n"
     ]
    },
    {
     "name": "stdout",
     "output_type": "stream",
     "text": [
      "frozen dataset 2\n",
      "frozen dataset 5\n",
      "frozen dataset 9\n"
     ]
    },
    {
     "name": "stderr",
     "output_type": "stream",
     "text": [
      "/home/argykokk/miniconda3/envs/hls4ml-tutorial/lib/python3.8/site-packages/keras/optimizers/optimizer_v2/adam.py:114: UserWarning: The `lr` argument is deprecated, use `learning_rate` instead.\n",
      "  super().__init__(name, **kwargs)\n"
     ]
    },
    {
     "name": "stdout",
     "output_type": "stream",
     "text": [
      "frozen dataset 3\n"
     ]
    },
    {
     "name": "stderr",
     "output_type": "stream",
     "text": [
      "/home/argykokk/miniconda3/envs/hls4ml-tutorial/lib/python3.8/site-packages/keras/optimizers/optimizer_v2/adam.py:114: UserWarning: The `lr` argument is deprecated, use `learning_rate` instead.\n",
      "  super().__init__(name, **kwargs)\n"
     ]
    },
    {
     "name": "stdout",
     "output_type": "stream",
     "text": [
      "46/46 [==============================] - 0s 1ms/step - loss: 1.1869 - accuracy: 0.4932\n",
      "accuracy = 0.4931972920894623\n",
      "Interpreting Sequential\n",
      "Topology:\n",
      "Layer name: fc1_input, layer type: Input\n",
      "Layer name: fc1, layer type: QDense\n",
      "Layer name: relu1, layer type: QActivation\n",
      "Layer name: output, layer type: QDense\n",
      "Layer name: softmax, layer type: Activation\n",
      "copy top.v, sim.Xtest, and sim.Ytest to the synopsys project \n"
     ]
    },
    {
     "name": "stderr",
     "output_type": "stream",
     "text": [
      "/home/argykokk/Desktop/TC/genetic_whitewine/pareto_sharing.py:173: ConvergenceWarning: Number of distinct clusters (1) found smaller than n_clusters (2). Possibly due to duplicate points in X.\n",
      "  # calculate the estimated area overhead of this centroid\n",
      "/home/argykokk/Desktop/TC/genetic_whitewine/pareto_sharing.py:173: ConvergenceWarning: Number of distinct clusters (1) found smaller than n_clusters (2). Possibly due to duplicate points in X.\n",
      "  # calculate the estimated area overhead of this centroid\n",
      "/home/argykokk/miniconda3/envs/hls4ml-tutorial/lib/python3.8/site-packages/keras/optimizers/optimizer_v2/adam.py:114: UserWarning: The `lr` argument is deprecated, use `learning_rate` instead.\n",
      "  super().__init__(name, **kwargs)\n"
     ]
    },
    {
     "name": "stdout",
     "output_type": "stream",
     "text": [
      "frozen dataset 2\n",
      "frozen dataset 5\n",
      "frozen dataset 9\n",
      "frozen dataset 3\n"
     ]
    },
    {
     "name": "stderr",
     "output_type": "stream",
     "text": [
      "/home/argykokk/miniconda3/envs/hls4ml-tutorial/lib/python3.8/site-packages/keras/optimizers/optimizer_v2/adam.py:114: UserWarning: The `lr` argument is deprecated, use `learning_rate` instead.\n",
      "  super().__init__(name, **kwargs)\n"
     ]
    },
    {
     "name": "stdout",
     "output_type": "stream",
     "text": [
      "46/46 [==============================] - 0s 1ms/step - loss: 1.1403 - accuracy: 0.5320\n",
      "accuracy = 0.5319727659225464\n",
      "Interpreting Sequential\n",
      "Topology:\n",
      "Layer name: fc1_input, layer type: Input\n",
      "Layer name: fc1, layer type: QDense\n",
      "Layer name: relu1, layer type: QActivation\n",
      "Layer name: output, layer type: QDense\n",
      "Layer name: softmax, layer type: Activation\n",
      "copy top.v, sim.Xtest, and sim.Ytest to the synopsys project \n"
     ]
    },
    {
     "name": "stderr",
     "output_type": "stream",
     "text": [
      "/home/argykokk/Desktop/TC/genetic_whitewine/pareto_sharing.py:173: ConvergenceWarning: Number of distinct clusters (1) found smaller than n_clusters (2). Possibly due to duplicate points in X.\n",
      "  # calculate the estimated area overhead of this centroid\n",
      "/home/argykokk/Desktop/TC/genetic_whitewine/pareto_sharing.py:173: ConvergenceWarning: Number of distinct clusters (1) found smaller than n_clusters (2). Possibly due to duplicate points in X.\n",
      "  # calculate the estimated area overhead of this centroid\n",
      "/home/argykokk/miniconda3/envs/hls4ml-tutorial/lib/python3.8/site-packages/keras/optimizers/optimizer_v2/adam.py:114: UserWarning: The `lr` argument is deprecated, use `learning_rate` instead.\n",
      "  super().__init__(name, **kwargs)\n"
     ]
    },
    {
     "name": "stdout",
     "output_type": "stream",
     "text": [
      "frozen dataset 2\n",
      "frozen dataset 5\n",
      "frozen dataset 9\n",
      "frozen dataset 3\n"
     ]
    },
    {
     "name": "stderr",
     "output_type": "stream",
     "text": [
      "/home/argykokk/miniconda3/envs/hls4ml-tutorial/lib/python3.8/site-packages/keras/optimizers/optimizer_v2/adam.py:114: UserWarning: The `lr` argument is deprecated, use `learning_rate` instead.\n",
      "  super().__init__(name, **kwargs)\n"
     ]
    },
    {
     "name": "stdout",
     "output_type": "stream",
     "text": [
      "46/46 [==============================] - 0s 1ms/step - loss: 1.1377 - accuracy: 0.5381\n",
      "accuracy = 0.538095235824585\n",
      "Interpreting Sequential\n",
      "Topology:\n",
      "Layer name: fc1_input, layer type: Input\n",
      "Layer name: fc1, layer type: QDense\n",
      "Layer name: relu1, layer type: QActivation\n",
      "Layer name: output, layer type: QDense\n",
      "Layer name: softmax, layer type: Activation\n",
      "copy top.v, sim.Xtest, and sim.Ytest to the synopsys project \n"
     ]
    },
    {
     "name": "stderr",
     "output_type": "stream",
     "text": [
      "/home/argykokk/Desktop/TC/genetic_whitewine/pareto_sharing.py:173: ConvergenceWarning: Number of distinct clusters (1) found smaller than n_clusters (2). Possibly due to duplicate points in X.\n",
      "  # calculate the estimated area overhead of this centroid\n",
      "/home/argykokk/Desktop/TC/genetic_whitewine/pareto_sharing.py:173: ConvergenceWarning: Number of distinct clusters (1) found smaller than n_clusters (2). Possibly due to duplicate points in X.\n",
      "  # calculate the estimated area overhead of this centroid\n",
      "/home/argykokk/miniconda3/envs/hls4ml-tutorial/lib/python3.8/site-packages/keras/optimizers/optimizer_v2/adam.py:114: UserWarning: The `lr` argument is deprecated, use `learning_rate` instead.\n",
      "  super().__init__(name, **kwargs)\n",
      "/home/argykokk/miniconda3/envs/hls4ml-tutorial/lib/python3.8/site-packages/keras/optimizers/optimizer_v2/adam.py:114: UserWarning: The `lr` argument is deprecated, use `learning_rate` instead.\n",
      "  super().__init__(name, **kwargs)\n"
     ]
    },
    {
     "name": "stdout",
     "output_type": "stream",
     "text": [
      "frozen dataset 2\n",
      "frozen dataset 5\n",
      "frozen dataset 9\n",
      "frozen dataset 3\n",
      "46/46 [==============================] - 0s 1ms/step - loss: 1.1377 - accuracy: 0.5381\n",
      "accuracy = 0.538095235824585\n",
      "Interpreting Sequential\n",
      "Topology:\n",
      "Layer name: fc1_input, layer type: Input\n",
      "Layer name: fc1, layer type: QDense\n",
      "Layer name: relu1, layer type: QActivation\n",
      "Layer name: output, layer type: QDense\n",
      "Layer name: softmax, layer type: Activation\n",
      "copy top.v, sim.Xtest, and sim.Ytest to the synopsys project \n"
     ]
    },
    {
     "name": "stderr",
     "output_type": "stream",
     "text": [
      "/home/argykokk/Desktop/TC/genetic_whitewine/pareto_sharing.py:173: ConvergenceWarning: Number of distinct clusters (1) found smaller than n_clusters (2). Possibly due to duplicate points in X.\n",
      "  # calculate the estimated area overhead of this centroid\n",
      "/home/argykokk/Desktop/TC/genetic_whitewine/pareto_sharing.py:173: ConvergenceWarning: Number of distinct clusters (1) found smaller than n_clusters (2). Possibly due to duplicate points in X.\n",
      "  # calculate the estimated area overhead of this centroid\n"
     ]
    },
    {
     "name": "stdout",
     "output_type": "stream",
     "text": [
      "frozen dataset 2\n",
      "frozen dataset 5\n",
      "frozen dataset 9\n",
      "frozen dataset 3\n"
     ]
    },
    {
     "name": "stderr",
     "output_type": "stream",
     "text": [
      "/home/argykokk/miniconda3/envs/hls4ml-tutorial/lib/python3.8/site-packages/keras/optimizers/optimizer_v2/adam.py:114: UserWarning: The `lr` argument is deprecated, use `learning_rate` instead.\n",
      "  super().__init__(name, **kwargs)\n",
      "/home/argykokk/miniconda3/envs/hls4ml-tutorial/lib/python3.8/site-packages/keras/optimizers/optimizer_v2/adam.py:114: UserWarning: The `lr` argument is deprecated, use `learning_rate` instead.\n",
      "  super().__init__(name, **kwargs)\n"
     ]
    },
    {
     "name": "stdout",
     "output_type": "stream",
     "text": [
      "46/46 [==============================] - 0s 1ms/step - loss: 1.1377 - accuracy: 0.5381\n",
      "accuracy = 0.538095235824585\n",
      "Interpreting Sequential\n",
      "Topology:\n",
      "Layer name: fc1_input, layer type: Input\n",
      "Layer name: fc1, layer type: QDense\n",
      "Layer name: relu1, layer type: QActivation\n",
      "Layer name: output, layer type: QDense\n",
      "Layer name: softmax, layer type: Activation\n",
      "copy top.v, sim.Xtest, and sim.Ytest to the synopsys project \n"
     ]
    },
    {
     "name": "stderr",
     "output_type": "stream",
     "text": [
      "/home/argykokk/Desktop/TC/genetic_whitewine/pareto_sharing.py:173: ConvergenceWarning: Number of distinct clusters (1) found smaller than n_clusters (2). Possibly due to duplicate points in X.\n",
      "  # calculate the estimated area overhead of this centroid\n",
      "/home/argykokk/Desktop/TC/genetic_whitewine/pareto_sharing.py:173: ConvergenceWarning: Number of distinct clusters (1) found smaller than n_clusters (2). Possibly due to duplicate points in X.\n",
      "  # calculate the estimated area overhead of this centroid\n",
      "/home/argykokk/miniconda3/envs/hls4ml-tutorial/lib/python3.8/site-packages/keras/optimizers/optimizer_v2/adam.py:114: UserWarning: The `lr` argument is deprecated, use `learning_rate` instead.\n",
      "  super().__init__(name, **kwargs)\n"
     ]
    },
    {
     "name": "stdout",
     "output_type": "stream",
     "text": [
      "frozen dataset 2\n",
      "frozen dataset 5\n",
      "frozen dataset 9\n",
      "frozen dataset 3\n"
     ]
    },
    {
     "name": "stderr",
     "output_type": "stream",
     "text": [
      "/home/argykokk/miniconda3/envs/hls4ml-tutorial/lib/python3.8/site-packages/keras/optimizers/optimizer_v2/adam.py:114: UserWarning: The `lr` argument is deprecated, use `learning_rate` instead.\n",
      "  super().__init__(name, **kwargs)\n"
     ]
    },
    {
     "name": "stdout",
     "output_type": "stream",
     "text": [
      "46/46 [==============================] - 0s 1ms/step - loss: 1.1377 - accuracy: 0.5381\n",
      "accuracy = 0.538095235824585\n",
      "Interpreting Sequential\n",
      "Topology:\n",
      "Layer name: fc1_input, layer type: Input\n",
      "Layer name: fc1, layer type: QDense\n",
      "Layer name: relu1, layer type: QActivation\n",
      "Layer name: output, layer type: QDense\n",
      "Layer name: softmax, layer type: Activation\n",
      "copy top.v, sim.Xtest, and sim.Ytest to the synopsys project \n"
     ]
    },
    {
     "name": "stderr",
     "output_type": "stream",
     "text": [
      "/home/argykokk/Desktop/TC/genetic_whitewine/pareto_sharing.py:173: ConvergenceWarning: Number of distinct clusters (1) found smaller than n_clusters (2). Possibly due to duplicate points in X.\n",
      "  # calculate the estimated area overhead of this centroid\n",
      "/home/argykokk/Desktop/TC/genetic_whitewine/pareto_sharing.py:173: ConvergenceWarning: Number of distinct clusters (1) found smaller than n_clusters (2). Possibly due to duplicate points in X.\n",
      "  # calculate the estimated area overhead of this centroid\n"
     ]
    },
    {
     "name": "stdout",
     "output_type": "stream",
     "text": [
      "frozen dataset 2\n",
      "frozen dataset 5\n",
      "frozen dataset 9\n"
     ]
    },
    {
     "name": "stderr",
     "output_type": "stream",
     "text": [
      "/home/argykokk/miniconda3/envs/hls4ml-tutorial/lib/python3.8/site-packages/keras/optimizers/optimizer_v2/adam.py:114: UserWarning: The `lr` argument is deprecated, use `learning_rate` instead.\n",
      "  super().__init__(name, **kwargs)\n"
     ]
    },
    {
     "name": "stdout",
     "output_type": "stream",
     "text": [
      "frozen dataset 3\n"
     ]
    },
    {
     "name": "stderr",
     "output_type": "stream",
     "text": [
      "/home/argykokk/miniconda3/envs/hls4ml-tutorial/lib/python3.8/site-packages/keras/optimizers/optimizer_v2/adam.py:114: UserWarning: The `lr` argument is deprecated, use `learning_rate` instead.\n",
      "  super().__init__(name, **kwargs)\n"
     ]
    },
    {
     "name": "stdout",
     "output_type": "stream",
     "text": [
      "46/46 [==============================] - 0s 1ms/step - loss: 1.1377 - accuracy: 0.5381\n",
      "accuracy = 0.538095235824585\n",
      "Interpreting Sequential\n",
      "Topology:\n",
      "Layer name: fc1_input, layer type: Input\n",
      "Layer name: fc1, layer type: QDense\n",
      "Layer name: relu1, layer type: QActivation\n",
      "Layer name: output, layer type: QDense\n",
      "Layer name: softmax, layer type: Activation\n",
      "copy top.v, sim.Xtest, and sim.Ytest to the synopsys project \n"
     ]
    },
    {
     "name": "stderr",
     "output_type": "stream",
     "text": [
      "/home/argykokk/Desktop/TC/genetic_whitewine/pareto_sharing.py:173: ConvergenceWarning: Number of distinct clusters (2) found smaller than n_clusters (3). Possibly due to duplicate points in X.\n",
      "  # calculate the estimated area overhead of this centroid\n",
      "/home/argykokk/Desktop/TC/genetic_whitewine/pareto_sharing.py:173: ConvergenceWarning: Number of distinct clusters (1) found smaller than n_clusters (2). Possibly due to duplicate points in X.\n",
      "  # calculate the estimated area overhead of this centroid\n",
      "/home/argykokk/Desktop/TC/genetic_whitewine/pareto_sharing.py:173: ConvergenceWarning: Number of distinct clusters (1) found smaller than n_clusters (2). Possibly due to duplicate points in X.\n",
      "  # calculate the estimated area overhead of this centroid\n"
     ]
    },
    {
     "name": "stdout",
     "output_type": "stream",
     "text": [
      "frozen dataset 2\n",
      "frozen dataset 5\n",
      "frozen dataset 9\n"
     ]
    },
    {
     "name": "stderr",
     "output_type": "stream",
     "text": [
      "/home/argykokk/miniconda3/envs/hls4ml-tutorial/lib/python3.8/site-packages/keras/optimizers/optimizer_v2/adam.py:114: UserWarning: The `lr` argument is deprecated, use `learning_rate` instead.\n",
      "  super().__init__(name, **kwargs)\n"
     ]
    },
    {
     "name": "stdout",
     "output_type": "stream",
     "text": [
      "frozen dataset 3\n"
     ]
    },
    {
     "name": "stderr",
     "output_type": "stream",
     "text": [
      "/home/argykokk/miniconda3/envs/hls4ml-tutorial/lib/python3.8/site-packages/keras/optimizers/optimizer_v2/adam.py:114: UserWarning: The `lr` argument is deprecated, use `learning_rate` instead.\n",
      "  super().__init__(name, **kwargs)\n"
     ]
    },
    {
     "name": "stdout",
     "output_type": "stream",
     "text": [
      "46/46 [==============================] - 0s 1ms/step - loss: 1.1905 - accuracy: 0.4823\n",
      "accuracy = 0.4823129177093506\n",
      "Interpreting Sequential\n",
      "Topology:\n",
      "Layer name: fc1_input, layer type: Input\n",
      "Layer name: fc1, layer type: QDense\n",
      "Layer name: relu1, layer type: QActivation\n",
      "Layer name: output, layer type: QDense\n",
      "Layer name: softmax, layer type: Activation\n",
      "copy top.v, sim.Xtest, and sim.Ytest to the synopsys project \n"
     ]
    },
    {
     "name": "stderr",
     "output_type": "stream",
     "text": [
      "/home/argykokk/Desktop/TC/genetic_whitewine/pareto_sharing.py:173: ConvergenceWarning: Number of distinct clusters (2) found smaller than n_clusters (3). Possibly due to duplicate points in X.\n",
      "  # calculate the estimated area overhead of this centroid\n",
      "/home/argykokk/Desktop/TC/genetic_whitewine/pareto_sharing.py:173: ConvergenceWarning: Number of distinct clusters (1) found smaller than n_clusters (2). Possibly due to duplicate points in X.\n",
      "  # calculate the estimated area overhead of this centroid\n",
      "/home/argykokk/Desktop/TC/genetic_whitewine/pareto_sharing.py:173: ConvergenceWarning: Number of distinct clusters (1) found smaller than n_clusters (2). Possibly due to duplicate points in X.\n",
      "  # calculate the estimated area overhead of this centroid\n"
     ]
    },
    {
     "name": "stdout",
     "output_type": "stream",
     "text": [
      "frozen dataset 2\n",
      "frozen dataset 5\n",
      "frozen dataset 9\n"
     ]
    },
    {
     "name": "stderr",
     "output_type": "stream",
     "text": [
      "/home/argykokk/miniconda3/envs/hls4ml-tutorial/lib/python3.8/site-packages/keras/optimizers/optimizer_v2/adam.py:114: UserWarning: The `lr` argument is deprecated, use `learning_rate` instead.\n",
      "  super().__init__(name, **kwargs)\n"
     ]
    },
    {
     "name": "stdout",
     "output_type": "stream",
     "text": [
      "frozen dataset 3\n"
     ]
    },
    {
     "name": "stderr",
     "output_type": "stream",
     "text": [
      "/home/argykokk/miniconda3/envs/hls4ml-tutorial/lib/python3.8/site-packages/keras/optimizers/optimizer_v2/adam.py:114: UserWarning: The `lr` argument is deprecated, use `learning_rate` instead.\n",
      "  super().__init__(name, **kwargs)\n"
     ]
    },
    {
     "name": "stdout",
     "output_type": "stream",
     "text": [
      "46/46 [==============================] - 0s 1ms/step - loss: 1.1389 - accuracy: 0.5395\n",
      "accuracy = 0.539455771446228\n",
      "Interpreting Sequential\n",
      "Topology:\n",
      "Layer name: fc1_input, layer type: Input\n",
      "Layer name: fc1, layer type: QDense\n",
      "Layer name: relu1, layer type: QActivation\n",
      "Layer name: output, layer type: QDense\n",
      "Layer name: softmax, layer type: Activation\n",
      "copy top.v, sim.Xtest, and sim.Ytest to the synopsys project \n"
     ]
    },
    {
     "name": "stderr",
     "output_type": "stream",
     "text": [
      "/home/argykokk/Desktop/TC/genetic_whitewine/pareto_sharing.py:173: ConvergenceWarning: Number of distinct clusters (2) found smaller than n_clusters (3). Possibly due to duplicate points in X.\n",
      "  # calculate the estimated area overhead of this centroid\n",
      "/home/argykokk/Desktop/TC/genetic_whitewine/pareto_sharing.py:173: ConvergenceWarning: Number of distinct clusters (1) found smaller than n_clusters (2). Possibly due to duplicate points in X.\n",
      "  # calculate the estimated area overhead of this centroid\n",
      "/home/argykokk/Desktop/TC/genetic_whitewine/pareto_sharing.py:173: ConvergenceWarning: Number of distinct clusters (1) found smaller than n_clusters (2). Possibly due to duplicate points in X.\n",
      "  # calculate the estimated area overhead of this centroid\n"
     ]
    },
    {
     "name": "stdout",
     "output_type": "stream",
     "text": [
      "frozen dataset 2\n",
      "frozen dataset 5\n",
      "frozen dataset 9\n"
     ]
    },
    {
     "name": "stderr",
     "output_type": "stream",
     "text": [
      "/home/argykokk/miniconda3/envs/hls4ml-tutorial/lib/python3.8/site-packages/keras/optimizers/optimizer_v2/adam.py:114: UserWarning: The `lr` argument is deprecated, use `learning_rate` instead.\n",
      "  super().__init__(name, **kwargs)\n"
     ]
    },
    {
     "name": "stdout",
     "output_type": "stream",
     "text": [
      "frozen dataset 3\n"
     ]
    },
    {
     "name": "stderr",
     "output_type": "stream",
     "text": [
      "/home/argykokk/miniconda3/envs/hls4ml-tutorial/lib/python3.8/site-packages/keras/optimizers/optimizer_v2/adam.py:114: UserWarning: The `lr` argument is deprecated, use `learning_rate` instead.\n",
      "  super().__init__(name, **kwargs)\n"
     ]
    },
    {
     "name": "stdout",
     "output_type": "stream",
     "text": [
      "46/46 [==============================] - 0s 1ms/step - loss: 1.1369 - accuracy: 0.5497\n",
      "accuracy = 0.5496598482131958\n",
      "Interpreting Sequential\n",
      "Topology:\n",
      "Layer name: fc1_input, layer type: Input\n",
      "Layer name: fc1, layer type: QDense\n",
      "Layer name: relu1, layer type: QActivation\n",
      "Layer name: output, layer type: QDense\n",
      "Layer name: softmax, layer type: Activation\n",
      "copy top.v, sim.Xtest, and sim.Ytest to the synopsys project \n"
     ]
    },
    {
     "name": "stderr",
     "output_type": "stream",
     "text": [
      "/home/argykokk/Desktop/TC/genetic_whitewine/pareto_sharing.py:173: ConvergenceWarning: Number of distinct clusters (2) found smaller than n_clusters (3). Possibly due to duplicate points in X.\n",
      "  # calculate the estimated area overhead of this centroid\n",
      "/home/argykokk/Desktop/TC/genetic_whitewine/pareto_sharing.py:173: ConvergenceWarning: Number of distinct clusters (1) found smaller than n_clusters (2). Possibly due to duplicate points in X.\n",
      "  # calculate the estimated area overhead of this centroid\n",
      "/home/argykokk/Desktop/TC/genetic_whitewine/pareto_sharing.py:173: ConvergenceWarning: Number of distinct clusters (1) found smaller than n_clusters (2). Possibly due to duplicate points in X.\n",
      "  # calculate the estimated area overhead of this centroid\n"
     ]
    },
    {
     "name": "stdout",
     "output_type": "stream",
     "text": [
      "frozen dataset 2\n",
      "frozen dataset 5\n",
      "frozen dataset 9\n"
     ]
    },
    {
     "name": "stderr",
     "output_type": "stream",
     "text": [
      "/home/argykokk/miniconda3/envs/hls4ml-tutorial/lib/python3.8/site-packages/keras/optimizers/optimizer_v2/adam.py:114: UserWarning: The `lr` argument is deprecated, use `learning_rate` instead.\n",
      "  super().__init__(name, **kwargs)\n"
     ]
    },
    {
     "name": "stdout",
     "output_type": "stream",
     "text": [
      "frozen dataset 3\n"
     ]
    },
    {
     "name": "stderr",
     "output_type": "stream",
     "text": [
      "/home/argykokk/miniconda3/envs/hls4ml-tutorial/lib/python3.8/site-packages/keras/optimizers/optimizer_v2/adam.py:114: UserWarning: The `lr` argument is deprecated, use `learning_rate` instead.\n",
      "  super().__init__(name, **kwargs)\n"
     ]
    },
    {
     "name": "stdout",
     "output_type": "stream",
     "text": [
      "46/46 [==============================] - 0s 960us/step - loss: 1.1369 - accuracy: 0.5497\n",
      "accuracy = 0.5496598482131958\n",
      "Interpreting Sequential\n",
      "Topology:\n",
      "Layer name: fc1_input, layer type: Input\n",
      "Layer name: fc1, layer type: QDense\n",
      "Layer name: relu1, layer type: QActivation\n",
      "Layer name: output, layer type: QDense\n",
      "Layer name: softmax, layer type: Activation\n",
      "copy top.v, sim.Xtest, and sim.Ytest to the synopsys project \n"
     ]
    },
    {
     "name": "stderr",
     "output_type": "stream",
     "text": [
      "/home/argykokk/Desktop/TC/genetic_whitewine/pareto_sharing.py:173: ConvergenceWarning: Number of distinct clusters (2) found smaller than n_clusters (3). Possibly due to duplicate points in X.\n",
      "  # calculate the estimated area overhead of this centroid\n",
      "/home/argykokk/Desktop/TC/genetic_whitewine/pareto_sharing.py:173: ConvergenceWarning: Number of distinct clusters (1) found smaller than n_clusters (2). Possibly due to duplicate points in X.\n",
      "  # calculate the estimated area overhead of this centroid\n",
      "/home/argykokk/Desktop/TC/genetic_whitewine/pareto_sharing.py:173: ConvergenceWarning: Number of distinct clusters (1) found smaller than n_clusters (2). Possibly due to duplicate points in X.\n",
      "  # calculate the estimated area overhead of this centroid\n"
     ]
    },
    {
     "name": "stdout",
     "output_type": "stream",
     "text": [
      "frozen dataset 2\n",
      "frozen dataset 5\n",
      "frozen dataset 9\n"
     ]
    },
    {
     "name": "stderr",
     "output_type": "stream",
     "text": [
      "/home/argykokk/miniconda3/envs/hls4ml-tutorial/lib/python3.8/site-packages/keras/optimizers/optimizer_v2/adam.py:114: UserWarning: The `lr` argument is deprecated, use `learning_rate` instead.\n",
      "  super().__init__(name, **kwargs)\n"
     ]
    },
    {
     "name": "stdout",
     "output_type": "stream",
     "text": [
      "frozen dataset 3\n"
     ]
    },
    {
     "name": "stderr",
     "output_type": "stream",
     "text": [
      "/home/argykokk/miniconda3/envs/hls4ml-tutorial/lib/python3.8/site-packages/keras/optimizers/optimizer_v2/adam.py:114: UserWarning: The `lr` argument is deprecated, use `learning_rate` instead.\n",
      "  super().__init__(name, **kwargs)\n"
     ]
    },
    {
     "name": "stdout",
     "output_type": "stream",
     "text": [
      "46/46 [==============================] - 0s 1ms/step - loss: 1.1369 - accuracy: 0.5497\n",
      "accuracy = 0.5496598482131958\n",
      "Interpreting Sequential\n",
      "Topology:\n",
      "Layer name: fc1_input, layer type: Input\n",
      "Layer name: fc1, layer type: QDense\n",
      "Layer name: relu1, layer type: QActivation\n",
      "Layer name: output, layer type: QDense\n",
      "Layer name: softmax, layer type: Activation\n",
      "copy top.v, sim.Xtest, and sim.Ytest to the synopsys project \n"
     ]
    },
    {
     "name": "stderr",
     "output_type": "stream",
     "text": [
      "/home/argykokk/Desktop/TC/genetic_whitewine/pareto_sharing.py:173: ConvergenceWarning: Number of distinct clusters (2) found smaller than n_clusters (3). Possibly due to duplicate points in X.\n",
      "  # calculate the estimated area overhead of this centroid\n",
      "/home/argykokk/Desktop/TC/genetic_whitewine/pareto_sharing.py:173: ConvergenceWarning: Number of distinct clusters (1) found smaller than n_clusters (2). Possibly due to duplicate points in X.\n",
      "  # calculate the estimated area overhead of this centroid\n",
      "/home/argykokk/Desktop/TC/genetic_whitewine/pareto_sharing.py:173: ConvergenceWarning: Number of distinct clusters (1) found smaller than n_clusters (2). Possibly due to duplicate points in X.\n",
      "  # calculate the estimated area overhead of this centroid\n"
     ]
    },
    {
     "name": "stdout",
     "output_type": "stream",
     "text": [
      "frozen dataset 2\n",
      "frozen dataset 5\n",
      "frozen dataset 9\n",
      "frozen dataset 3\n"
     ]
    },
    {
     "name": "stderr",
     "output_type": "stream",
     "text": [
      "/home/argykokk/miniconda3/envs/hls4ml-tutorial/lib/python3.8/site-packages/keras/optimizers/optimizer_v2/adam.py:114: UserWarning: The `lr` argument is deprecated, use `learning_rate` instead.\n",
      "  super().__init__(name, **kwargs)\n",
      "/home/argykokk/miniconda3/envs/hls4ml-tutorial/lib/python3.8/site-packages/keras/optimizers/optimizer_v2/adam.py:114: UserWarning: The `lr` argument is deprecated, use `learning_rate` instead.\n",
      "  super().__init__(name, **kwargs)\n"
     ]
    },
    {
     "name": "stdout",
     "output_type": "stream",
     "text": [
      "46/46 [==============================] - 0s 2ms/step - loss: 1.1369 - accuracy: 0.5497\n",
      "accuracy = 0.5496598482131958\n",
      "Interpreting Sequential\n",
      "Topology:\n",
      "Layer name: fc1_input, layer type: Input\n",
      "Layer name: fc1, layer type: QDense\n",
      "Layer name: relu1, layer type: QActivation\n",
      "Layer name: output, layer type: QDense\n",
      "Layer name: softmax, layer type: Activation\n",
      "copy top.v, sim.Xtest, and sim.Ytest to the synopsys project \n"
     ]
    },
    {
     "name": "stderr",
     "output_type": "stream",
     "text": [
      "/home/argykokk/Desktop/TC/genetic_whitewine/pareto_sharing.py:173: ConvergenceWarning: Number of distinct clusters (2) found smaller than n_clusters (3). Possibly due to duplicate points in X.\n",
      "  # calculate the estimated area overhead of this centroid\n",
      "/home/argykokk/Desktop/TC/genetic_whitewine/pareto_sharing.py:173: ConvergenceWarning: Number of distinct clusters (1) found smaller than n_clusters (2). Possibly due to duplicate points in X.\n",
      "  # calculate the estimated area overhead of this centroid\n",
      "/home/argykokk/Desktop/TC/genetic_whitewine/pareto_sharing.py:173: ConvergenceWarning: Number of distinct clusters (1) found smaller than n_clusters (2). Possibly due to duplicate points in X.\n",
      "  # calculate the estimated area overhead of this centroid\n"
     ]
    },
    {
     "name": "stdout",
     "output_type": "stream",
     "text": [
      "frozen dataset 2\n",
      "frozen dataset 5\n",
      "frozen dataset 9\n"
     ]
    },
    {
     "name": "stderr",
     "output_type": "stream",
     "text": [
      "/home/argykokk/miniconda3/envs/hls4ml-tutorial/lib/python3.8/site-packages/keras/optimizers/optimizer_v2/adam.py:114: UserWarning: The `lr` argument is deprecated, use `learning_rate` instead.\n",
      "  super().__init__(name, **kwargs)\n"
     ]
    },
    {
     "name": "stdout",
     "output_type": "stream",
     "text": [
      "frozen dataset 3\n"
     ]
    },
    {
     "name": "stderr",
     "output_type": "stream",
     "text": [
      "/home/argykokk/miniconda3/envs/hls4ml-tutorial/lib/python3.8/site-packages/keras/optimizers/optimizer_v2/adam.py:114: UserWarning: The `lr` argument is deprecated, use `learning_rate` instead.\n",
      "  super().__init__(name, **kwargs)\n"
     ]
    },
    {
     "name": "stdout",
     "output_type": "stream",
     "text": [
      "46/46 [==============================] - 0s 1ms/step - loss: 1.1369 - accuracy: 0.5497\n",
      "accuracy = 0.5496598482131958\n",
      "Interpreting Sequential\n",
      "Topology:\n",
      "Layer name: fc1_input, layer type: Input\n",
      "Layer name: fc1, layer type: QDense\n",
      "Layer name: relu1, layer type: QActivation\n",
      "Layer name: output, layer type: QDense\n",
      "Layer name: softmax, layer type: Activation\n",
      "copy top.v, sim.Xtest, and sim.Ytest to the synopsys project \n"
     ]
    },
    {
     "name": "stderr",
     "output_type": "stream",
     "text": [
      "/home/argykokk/Desktop/TC/genetic_whitewine/pareto_sharing.py:173: ConvergenceWarning: Number of distinct clusters (2) found smaller than n_clusters (3). Possibly due to duplicate points in X.\n",
      "  # calculate the estimated area overhead of this centroid\n",
      "/home/argykokk/Desktop/TC/genetic_whitewine/pareto_sharing.py:173: ConvergenceWarning: Number of distinct clusters (1) found smaller than n_clusters (2). Possibly due to duplicate points in X.\n",
      "  # calculate the estimated area overhead of this centroid\n",
      "/home/argykokk/Desktop/TC/genetic_whitewine/pareto_sharing.py:173: ConvergenceWarning: Number of distinct clusters (1) found smaller than n_clusters (2). Possibly due to duplicate points in X.\n",
      "  # calculate the estimated area overhead of this centroid\n"
     ]
    },
    {
     "name": "stdout",
     "output_type": "stream",
     "text": [
      "frozen dataset 2\n",
      "frozen dataset 5\n",
      "frozen dataset 9\n"
     ]
    },
    {
     "name": "stderr",
     "output_type": "stream",
     "text": [
      "/home/argykokk/miniconda3/envs/hls4ml-tutorial/lib/python3.8/site-packages/keras/optimizers/optimizer_v2/adam.py:114: UserWarning: The `lr` argument is deprecated, use `learning_rate` instead.\n",
      "  super().__init__(name, **kwargs)\n"
     ]
    },
    {
     "name": "stdout",
     "output_type": "stream",
     "text": [
      "frozen dataset 3\n"
     ]
    },
    {
     "name": "stderr",
     "output_type": "stream",
     "text": [
      "/home/argykokk/miniconda3/envs/hls4ml-tutorial/lib/python3.8/site-packages/keras/optimizers/optimizer_v2/adam.py:114: UserWarning: The `lr` argument is deprecated, use `learning_rate` instead.\n",
      "  super().__init__(name, **kwargs)\n"
     ]
    },
    {
     "name": "stdout",
     "output_type": "stream",
     "text": [
      "46/46 [==============================] - 0s 1ms/step - loss: 1.1905 - accuracy: 0.4823\n",
      "accuracy = 0.4823129177093506\n",
      "Interpreting Sequential\n",
      "Topology:\n",
      "Layer name: fc1_input, layer type: Input\n",
      "Layer name: fc1, layer type: QDense\n",
      "Layer name: relu1, layer type: QActivation\n",
      "Layer name: output, layer type: QDense\n",
      "Layer name: softmax, layer type: Activation\n",
      "copy top.v, sim.Xtest, and sim.Ytest to the synopsys project \n"
     ]
    },
    {
     "name": "stderr",
     "output_type": "stream",
     "text": [
      "/home/argykokk/Desktop/TC/genetic_whitewine/pareto_sharing.py:173: ConvergenceWarning: Number of distinct clusters (2) found smaller than n_clusters (3). Possibly due to duplicate points in X.\n",
      "  # calculate the estimated area overhead of this centroid\n",
      "/home/argykokk/Desktop/TC/genetic_whitewine/pareto_sharing.py:173: ConvergenceWarning: Number of distinct clusters (1) found smaller than n_clusters (2). Possibly due to duplicate points in X.\n",
      "  # calculate the estimated area overhead of this centroid\n",
      "/home/argykokk/Desktop/TC/genetic_whitewine/pareto_sharing.py:173: ConvergenceWarning: Number of distinct clusters (1) found smaller than n_clusters (2). Possibly due to duplicate points in X.\n",
      "  # calculate the estimated area overhead of this centroid\n"
     ]
    },
    {
     "name": "stdout",
     "output_type": "stream",
     "text": [
      "frozen dataset 2\n",
      "frozen dataset 5\n",
      "frozen dataset 9\n"
     ]
    },
    {
     "name": "stderr",
     "output_type": "stream",
     "text": [
      "/home/argykokk/miniconda3/envs/hls4ml-tutorial/lib/python3.8/site-packages/keras/optimizers/optimizer_v2/adam.py:114: UserWarning: The `lr` argument is deprecated, use `learning_rate` instead.\n",
      "  super().__init__(name, **kwargs)\n"
     ]
    },
    {
     "name": "stdout",
     "output_type": "stream",
     "text": [
      "frozen dataset 3\n"
     ]
    },
    {
     "name": "stderr",
     "output_type": "stream",
     "text": [
      "/home/argykokk/miniconda3/envs/hls4ml-tutorial/lib/python3.8/site-packages/keras/optimizers/optimizer_v2/adam.py:114: UserWarning: The `lr` argument is deprecated, use `learning_rate` instead.\n",
      "  super().__init__(name, **kwargs)\n"
     ]
    },
    {
     "name": "stdout",
     "output_type": "stream",
     "text": [
      "46/46 [==============================] - 0s 1ms/step - loss: 1.1389 - accuracy: 0.5395\n",
      "accuracy = 0.539455771446228\n",
      "Interpreting Sequential\n",
      "Topology:\n",
      "Layer name: fc1_input, layer type: Input\n",
      "Layer name: fc1, layer type: QDense\n",
      "Layer name: relu1, layer type: QActivation\n",
      "Layer name: output, layer type: QDense\n",
      "Layer name: softmax, layer type: Activation\n",
      "copy top.v, sim.Xtest, and sim.Ytest to the synopsys project \n"
     ]
    },
    {
     "name": "stderr",
     "output_type": "stream",
     "text": [
      "/home/argykokk/Desktop/TC/genetic_whitewine/pareto_sharing.py:173: ConvergenceWarning: Number of distinct clusters (2) found smaller than n_clusters (3). Possibly due to duplicate points in X.\n",
      "  # calculate the estimated area overhead of this centroid\n",
      "/home/argykokk/Desktop/TC/genetic_whitewine/pareto_sharing.py:173: ConvergenceWarning: Number of distinct clusters (1) found smaller than n_clusters (2). Possibly due to duplicate points in X.\n",
      "  # calculate the estimated area overhead of this centroid\n",
      "/home/argykokk/Desktop/TC/genetic_whitewine/pareto_sharing.py:173: ConvergenceWarning: Number of distinct clusters (1) found smaller than n_clusters (2). Possibly due to duplicate points in X.\n",
      "  # calculate the estimated area overhead of this centroid\n",
      "/home/argykokk/miniconda3/envs/hls4ml-tutorial/lib/python3.8/site-packages/keras/optimizers/optimizer_v2/adam.py:114: UserWarning: The `lr` argument is deprecated, use `learning_rate` instead.\n",
      "  super().__init__(name, **kwargs)\n"
     ]
    },
    {
     "name": "stdout",
     "output_type": "stream",
     "text": [
      "frozen dataset 2\n",
      "frozen dataset 5\n",
      "frozen dataset 9\n",
      "frozen dataset 3\n"
     ]
    },
    {
     "name": "stderr",
     "output_type": "stream",
     "text": [
      "/home/argykokk/miniconda3/envs/hls4ml-tutorial/lib/python3.8/site-packages/keras/optimizers/optimizer_v2/adam.py:114: UserWarning: The `lr` argument is deprecated, use `learning_rate` instead.\n",
      "  super().__init__(name, **kwargs)\n"
     ]
    },
    {
     "name": "stdout",
     "output_type": "stream",
     "text": [
      "46/46 [==============================] - 0s 1ms/step - loss: 1.1369 - accuracy: 0.5497\n",
      "accuracy = 0.5496598482131958\n",
      "Interpreting Sequential\n",
      "Topology:\n",
      "Layer name: fc1_input, layer type: Input\n",
      "Layer name: fc1, layer type: QDense\n",
      "Layer name: relu1, layer type: QActivation\n",
      "Layer name: output, layer type: QDense\n",
      "Layer name: softmax, layer type: Activation\n",
      "copy top.v, sim.Xtest, and sim.Ytest to the synopsys project \n"
     ]
    },
    {
     "name": "stderr",
     "output_type": "stream",
     "text": [
      "/home/argykokk/Desktop/TC/genetic_whitewine/pareto_sharing.py:173: ConvergenceWarning: Number of distinct clusters (2) found smaller than n_clusters (3). Possibly due to duplicate points in X.\n",
      "  # calculate the estimated area overhead of this centroid\n",
      "/home/argykokk/Desktop/TC/genetic_whitewine/pareto_sharing.py:173: ConvergenceWarning: Number of distinct clusters (1) found smaller than n_clusters (2). Possibly due to duplicate points in X.\n",
      "  # calculate the estimated area overhead of this centroid\n",
      "/home/argykokk/Desktop/TC/genetic_whitewine/pareto_sharing.py:173: ConvergenceWarning: Number of distinct clusters (1) found smaller than n_clusters (2). Possibly due to duplicate points in X.\n",
      "  # calculate the estimated area overhead of this centroid\n"
     ]
    },
    {
     "name": "stdout",
     "output_type": "stream",
     "text": [
      "frozen dataset 2\n",
      "frozen dataset 5\n",
      "frozen dataset 9\n"
     ]
    },
    {
     "name": "stderr",
     "output_type": "stream",
     "text": [
      "/home/argykokk/miniconda3/envs/hls4ml-tutorial/lib/python3.8/site-packages/keras/optimizers/optimizer_v2/adam.py:114: UserWarning: The `lr` argument is deprecated, use `learning_rate` instead.\n",
      "  super().__init__(name, **kwargs)\n"
     ]
    },
    {
     "name": "stdout",
     "output_type": "stream",
     "text": [
      "frozen dataset 3\n"
     ]
    },
    {
     "name": "stderr",
     "output_type": "stream",
     "text": [
      "/home/argykokk/miniconda3/envs/hls4ml-tutorial/lib/python3.8/site-packages/keras/optimizers/optimizer_v2/adam.py:114: UserWarning: The `lr` argument is deprecated, use `learning_rate` instead.\n",
      "  super().__init__(name, **kwargs)\n"
     ]
    },
    {
     "name": "stdout",
     "output_type": "stream",
     "text": [
      "46/46 [==============================] - 0s 1ms/step - loss: 1.1369 - accuracy: 0.5497\n",
      "accuracy = 0.5496598482131958\n",
      "Interpreting Sequential\n",
      "Topology:\n",
      "Layer name: fc1_input, layer type: Input\n",
      "Layer name: fc1, layer type: QDense\n",
      "Layer name: relu1, layer type: QActivation\n",
      "Layer name: output, layer type: QDense\n",
      "Layer name: softmax, layer type: Activation\n",
      "copy top.v, sim.Xtest, and sim.Ytest to the synopsys project \n"
     ]
    },
    {
     "name": "stderr",
     "output_type": "stream",
     "text": [
      "/home/argykokk/Desktop/TC/genetic_whitewine/pareto_sharing.py:173: ConvergenceWarning: Number of distinct clusters (2) found smaller than n_clusters (3). Possibly due to duplicate points in X.\n",
      "  # calculate the estimated area overhead of this centroid\n",
      "/home/argykokk/Desktop/TC/genetic_whitewine/pareto_sharing.py:173: ConvergenceWarning: Number of distinct clusters (1) found smaller than n_clusters (2). Possibly due to duplicate points in X.\n",
      "  # calculate the estimated area overhead of this centroid\n",
      "/home/argykokk/Desktop/TC/genetic_whitewine/pareto_sharing.py:173: ConvergenceWarning: Number of distinct clusters (1) found smaller than n_clusters (2). Possibly due to duplicate points in X.\n",
      "  # calculate the estimated area overhead of this centroid\n"
     ]
    },
    {
     "name": "stdout",
     "output_type": "stream",
     "text": [
      "frozen dataset 2\n",
      "frozen dataset 5\n",
      "frozen dataset 9\n"
     ]
    },
    {
     "name": "stderr",
     "output_type": "stream",
     "text": [
      "/home/argykokk/miniconda3/envs/hls4ml-tutorial/lib/python3.8/site-packages/keras/optimizers/optimizer_v2/adam.py:114: UserWarning: The `lr` argument is deprecated, use `learning_rate` instead.\n",
      "  super().__init__(name, **kwargs)\n"
     ]
    },
    {
     "name": "stdout",
     "output_type": "stream",
     "text": [
      "frozen dataset 3\n"
     ]
    },
    {
     "name": "stderr",
     "output_type": "stream",
     "text": [
      "/home/argykokk/miniconda3/envs/hls4ml-tutorial/lib/python3.8/site-packages/keras/optimizers/optimizer_v2/adam.py:114: UserWarning: The `lr` argument is deprecated, use `learning_rate` instead.\n",
      "  super().__init__(name, **kwargs)\n"
     ]
    },
    {
     "name": "stdout",
     "output_type": "stream",
     "text": [
      "46/46 [==============================] - 0s 1ms/step - loss: 1.1369 - accuracy: 0.5497\n",
      "accuracy = 0.5496598482131958\n",
      "Interpreting Sequential\n",
      "Topology:\n",
      "Layer name: fc1_input, layer type: Input\n",
      "Layer name: fc1, layer type: QDense\n",
      "Layer name: relu1, layer type: QActivation\n",
      "Layer name: output, layer type: QDense\n",
      "Layer name: softmax, layer type: Activation\n",
      "copy top.v, sim.Xtest, and sim.Ytest to the synopsys project \n"
     ]
    },
    {
     "name": "stderr",
     "output_type": "stream",
     "text": [
      "/home/argykokk/Desktop/TC/genetic_whitewine/pareto_sharing.py:173: ConvergenceWarning: Number of distinct clusters (2) found smaller than n_clusters (3). Possibly due to duplicate points in X.\n",
      "  # calculate the estimated area overhead of this centroid\n",
      "/home/argykokk/Desktop/TC/genetic_whitewine/pareto_sharing.py:173: ConvergenceWarning: Number of distinct clusters (1) found smaller than n_clusters (2). Possibly due to duplicate points in X.\n",
      "  # calculate the estimated area overhead of this centroid\n",
      "/home/argykokk/Desktop/TC/genetic_whitewine/pareto_sharing.py:173: ConvergenceWarning: Number of distinct clusters (1) found smaller than n_clusters (2). Possibly due to duplicate points in X.\n",
      "  # calculate the estimated area overhead of this centroid\n"
     ]
    },
    {
     "name": "stdout",
     "output_type": "stream",
     "text": [
      "frozen dataset 2\n",
      "frozen dataset 5\n",
      "frozen dataset 9\n"
     ]
    },
    {
     "name": "stderr",
     "output_type": "stream",
     "text": [
      "/home/argykokk/miniconda3/envs/hls4ml-tutorial/lib/python3.8/site-packages/keras/optimizers/optimizer_v2/adam.py:114: UserWarning: The `lr` argument is deprecated, use `learning_rate` instead.\n",
      "  super().__init__(name, **kwargs)\n"
     ]
    },
    {
     "name": "stdout",
     "output_type": "stream",
     "text": [
      "frozen dataset 3\n"
     ]
    },
    {
     "name": "stderr",
     "output_type": "stream",
     "text": [
      "/home/argykokk/miniconda3/envs/hls4ml-tutorial/lib/python3.8/site-packages/keras/optimizers/optimizer_v2/adam.py:114: UserWarning: The `lr` argument is deprecated, use `learning_rate` instead.\n",
      "  super().__init__(name, **kwargs)\n"
     ]
    },
    {
     "name": "stdout",
     "output_type": "stream",
     "text": [
      "46/46 [==============================] - 0s 975us/step - loss: 1.1369 - accuracy: 0.5497\n",
      "accuracy = 0.5496598482131958\n",
      "Interpreting Sequential\n",
      "Topology:\n",
      "Layer name: fc1_input, layer type: Input\n",
      "Layer name: fc1, layer type: QDense\n",
      "Layer name: relu1, layer type: QActivation\n",
      "Layer name: output, layer type: QDense\n",
      "Layer name: softmax, layer type: Activation\n",
      "copy top.v, sim.Xtest, and sim.Ytest to the synopsys project \n"
     ]
    },
    {
     "name": "stderr",
     "output_type": "stream",
     "text": [
      "/home/argykokk/Desktop/TC/genetic_whitewine/pareto_sharing.py:173: ConvergenceWarning: Number of distinct clusters (2) found smaller than n_clusters (3). Possibly due to duplicate points in X.\n",
      "  # calculate the estimated area overhead of this centroid\n",
      "/home/argykokk/Desktop/TC/genetic_whitewine/pareto_sharing.py:173: ConvergenceWarning: Number of distinct clusters (1) found smaller than n_clusters (2). Possibly due to duplicate points in X.\n",
      "  # calculate the estimated area overhead of this centroid\n",
      "/home/argykokk/Desktop/TC/genetic_whitewine/pareto_sharing.py:173: ConvergenceWarning: Number of distinct clusters (1) found smaller than n_clusters (2). Possibly due to duplicate points in X.\n",
      "  # calculate the estimated area overhead of this centroid\n",
      "/home/argykokk/miniconda3/envs/hls4ml-tutorial/lib/python3.8/site-packages/keras/optimizers/optimizer_v2/adam.py:114: UserWarning: The `lr` argument is deprecated, use `learning_rate` instead.\n",
      "  super().__init__(name, **kwargs)\n"
     ]
    },
    {
     "name": "stdout",
     "output_type": "stream",
     "text": [
      "frozen dataset 2\n",
      "frozen dataset 5\n",
      "frozen dataset 9\n",
      "frozen dataset 3\n"
     ]
    },
    {
     "name": "stderr",
     "output_type": "stream",
     "text": [
      "/home/argykokk/miniconda3/envs/hls4ml-tutorial/lib/python3.8/site-packages/keras/optimizers/optimizer_v2/adam.py:114: UserWarning: The `lr` argument is deprecated, use `learning_rate` instead.\n",
      "  super().__init__(name, **kwargs)\n"
     ]
    },
    {
     "name": "stdout",
     "output_type": "stream",
     "text": [
      "46/46 [==============================] - 0s 969us/step - loss: 1.1369 - accuracy: 0.5497\n",
      "accuracy = 0.5496598482131958\n",
      "Interpreting Sequential\n",
      "Topology:\n",
      "Layer name: fc1_input, layer type: Input\n",
      "Layer name: fc1, layer type: QDense\n",
      "Layer name: relu1, layer type: QActivation\n",
      "Layer name: output, layer type: QDense\n",
      "Layer name: softmax, layer type: Activation\n",
      "copy top.v, sim.Xtest, and sim.Ytest to the synopsys project \n",
      "frozen dataset 2\n",
      "frozen dataset 5\n",
      "frozen dataset 9\n"
     ]
    },
    {
     "name": "stderr",
     "output_type": "stream",
     "text": [
      "/home/argykokk/miniconda3/envs/hls4ml-tutorial/lib/python3.8/site-packages/keras/optimizers/optimizer_v2/adam.py:114: UserWarning: The `lr` argument is deprecated, use `learning_rate` instead.\n",
      "  super().__init__(name, **kwargs)\n"
     ]
    },
    {
     "name": "stdout",
     "output_type": "stream",
     "text": [
      "frozen dataset 3\n"
     ]
    },
    {
     "name": "stderr",
     "output_type": "stream",
     "text": [
      "/home/argykokk/miniconda3/envs/hls4ml-tutorial/lib/python3.8/site-packages/keras/optimizers/optimizer_v2/adam.py:114: UserWarning: The `lr` argument is deprecated, use `learning_rate` instead.\n",
      "  super().__init__(name, **kwargs)\n"
     ]
    },
    {
     "name": "stdout",
     "output_type": "stream",
     "text": [
      "46/46 [==============================] - 0s 1ms/step - loss: 1.2855 - accuracy: 0.3871\n",
      "accuracy = 0.3870748281478882\n",
      "Interpreting Sequential\n",
      "Topology:\n",
      "Layer name: fc1_input, layer type: Input\n",
      "Layer name: fc1, layer type: QDense\n",
      "Layer name: relu1, layer type: QActivation\n",
      "Layer name: output, layer type: QDense\n",
      "Layer name: softmax, layer type: Activation\n",
      "copy top.v, sim.Xtest, and sim.Ytest to the synopsys project \n",
      "frozen dataset 2\n",
      "frozen dataset 5\n",
      "frozen dataset 9\n"
     ]
    },
    {
     "name": "stderr",
     "output_type": "stream",
     "text": [
      "/home/argykokk/miniconda3/envs/hls4ml-tutorial/lib/python3.8/site-packages/keras/optimizers/optimizer_v2/adam.py:114: UserWarning: The `lr` argument is deprecated, use `learning_rate` instead.\n",
      "  super().__init__(name, **kwargs)\n"
     ]
    },
    {
     "name": "stdout",
     "output_type": "stream",
     "text": [
      "frozen dataset 3\n"
     ]
    },
    {
     "name": "stderr",
     "output_type": "stream",
     "text": [
      "/home/argykokk/miniconda3/envs/hls4ml-tutorial/lib/python3.8/site-packages/keras/optimizers/optimizer_v2/adam.py:114: UserWarning: The `lr` argument is deprecated, use `learning_rate` instead.\n",
      "  super().__init__(name, **kwargs)\n"
     ]
    },
    {
     "name": "stdout",
     "output_type": "stream",
     "text": [
      "46/46 [==============================] - 0s 979us/step - loss: 1.2158 - accuracy: 0.4782\n",
      "accuracy = 0.478231281042099\n",
      "Interpreting Sequential\n",
      "Topology:\n",
      "Layer name: fc1_input, layer type: Input\n",
      "Layer name: fc1, layer type: QDense\n",
      "Layer name: relu1, layer type: QActivation\n",
      "Layer name: output, layer type: QDense\n",
      "Layer name: softmax, layer type: Activation\n",
      "copy top.v, sim.Xtest, and sim.Ytest to the synopsys project \n",
      "frozen dataset 2\n",
      "frozen dataset 5\n",
      "frozen dataset 9\n"
     ]
    },
    {
     "name": "stderr",
     "output_type": "stream",
     "text": [
      "/home/argykokk/miniconda3/envs/hls4ml-tutorial/lib/python3.8/site-packages/keras/optimizers/optimizer_v2/adam.py:114: UserWarning: The `lr` argument is deprecated, use `learning_rate` instead.\n",
      "  super().__init__(name, **kwargs)\n"
     ]
    },
    {
     "name": "stdout",
     "output_type": "stream",
     "text": [
      "frozen dataset 3\n"
     ]
    },
    {
     "name": "stderr",
     "output_type": "stream",
     "text": [
      "/home/argykokk/miniconda3/envs/hls4ml-tutorial/lib/python3.8/site-packages/keras/optimizers/optimizer_v2/adam.py:114: UserWarning: The `lr` argument is deprecated, use `learning_rate` instead.\n",
      "  super().__init__(name, **kwargs)\n"
     ]
    },
    {
     "name": "stdout",
     "output_type": "stream",
     "text": [
      "46/46 [==============================] - 0s 950us/step - loss: 1.2192 - accuracy: 0.4782\n",
      "accuracy = 0.478231281042099\n",
      "Interpreting Sequential\n",
      "Topology:\n",
      "Layer name: fc1_input, layer type: Input\n",
      "Layer name: fc1, layer type: QDense\n",
      "Layer name: relu1, layer type: QActivation\n",
      "Layer name: output, layer type: QDense\n",
      "Layer name: softmax, layer type: Activation\n",
      "copy top.v, sim.Xtest, and sim.Ytest to the synopsys project \n",
      "frozen dataset 2\n",
      "frozen dataset 5\n",
      "frozen dataset 9\n"
     ]
    },
    {
     "name": "stderr",
     "output_type": "stream",
     "text": [
      "/home/argykokk/miniconda3/envs/hls4ml-tutorial/lib/python3.8/site-packages/keras/optimizers/optimizer_v2/adam.py:114: UserWarning: The `lr` argument is deprecated, use `learning_rate` instead.\n",
      "  super().__init__(name, **kwargs)\n"
     ]
    },
    {
     "name": "stdout",
     "output_type": "stream",
     "text": [
      "frozen dataset 3\n"
     ]
    },
    {
     "name": "stderr",
     "output_type": "stream",
     "text": [
      "/home/argykokk/miniconda3/envs/hls4ml-tutorial/lib/python3.8/site-packages/keras/optimizers/optimizer_v2/adam.py:114: UserWarning: The `lr` argument is deprecated, use `learning_rate` instead.\n",
      "  super().__init__(name, **kwargs)\n"
     ]
    },
    {
     "name": "stdout",
     "output_type": "stream",
     "text": [
      "46/46 [==============================] - 0s 1ms/step - loss: 1.2192 - accuracy: 0.4782\n",
      "accuracy = 0.478231281042099\n",
      "Interpreting Sequential\n",
      "Topology:\n",
      "Layer name: fc1_input, layer type: Input\n",
      "Layer name: fc1, layer type: QDense\n",
      "Layer name: relu1, layer type: QActivation\n",
      "Layer name: output, layer type: QDense\n",
      "Layer name: softmax, layer type: Activation\n",
      "copy top.v, sim.Xtest, and sim.Ytest to the synopsys project \n",
      "frozen dataset 2\n",
      "frozen dataset 5\n",
      "frozen dataset 9\n"
     ]
    },
    {
     "name": "stderr",
     "output_type": "stream",
     "text": [
      "/home/argykokk/miniconda3/envs/hls4ml-tutorial/lib/python3.8/site-packages/keras/optimizers/optimizer_v2/adam.py:114: UserWarning: The `lr` argument is deprecated, use `learning_rate` instead.\n",
      "  super().__init__(name, **kwargs)\n"
     ]
    },
    {
     "name": "stdout",
     "output_type": "stream",
     "text": [
      "frozen dataset 3\n"
     ]
    },
    {
     "name": "stderr",
     "output_type": "stream",
     "text": [
      "/home/argykokk/miniconda3/envs/hls4ml-tutorial/lib/python3.8/site-packages/keras/optimizers/optimizer_v2/adam.py:114: UserWarning: The `lr` argument is deprecated, use `learning_rate` instead.\n",
      "  super().__init__(name, **kwargs)\n"
     ]
    },
    {
     "name": "stdout",
     "output_type": "stream",
     "text": [
      "46/46 [==============================] - 0s 1ms/step - loss: 1.2192 - accuracy: 0.4782\n",
      "accuracy = 0.478231281042099\n",
      "Interpreting Sequential\n",
      "Topology:\n",
      "Layer name: fc1_input, layer type: Input\n",
      "Layer name: fc1, layer type: QDense\n",
      "Layer name: relu1, layer type: QActivation\n",
      "Layer name: output, layer type: QDense\n",
      "Layer name: softmax, layer type: Activation\n",
      "copy top.v, sim.Xtest, and sim.Ytest to the synopsys project \n",
      "frozen dataset 2\n",
      "frozen dataset 5\n",
      "frozen dataset 9\n"
     ]
    },
    {
     "name": "stderr",
     "output_type": "stream",
     "text": [
      "/home/argykokk/miniconda3/envs/hls4ml-tutorial/lib/python3.8/site-packages/keras/optimizers/optimizer_v2/adam.py:114: UserWarning: The `lr` argument is deprecated, use `learning_rate` instead.\n",
      "  super().__init__(name, **kwargs)\n"
     ]
    },
    {
     "name": "stdout",
     "output_type": "stream",
     "text": [
      "frozen dataset 3\n"
     ]
    },
    {
     "name": "stderr",
     "output_type": "stream",
     "text": [
      "/home/argykokk/miniconda3/envs/hls4ml-tutorial/lib/python3.8/site-packages/keras/optimizers/optimizer_v2/adam.py:114: UserWarning: The `lr` argument is deprecated, use `learning_rate` instead.\n",
      "  super().__init__(name, **kwargs)\n"
     ]
    },
    {
     "name": "stdout",
     "output_type": "stream",
     "text": [
      "46/46 [==============================] - 0s 1ms/step - loss: 1.2192 - accuracy: 0.4782\n",
      "accuracy = 0.478231281042099\n",
      "Interpreting Sequential\n",
      "Topology:\n",
      "Layer name: fc1_input, layer type: Input\n",
      "Layer name: fc1, layer type: QDense\n",
      "Layer name: relu1, layer type: QActivation\n",
      "Layer name: output, layer type: QDense\n",
      "Layer name: softmax, layer type: Activation\n",
      "copy top.v, sim.Xtest, and sim.Ytest to the synopsys project \n",
      "frozen dataset 2\n",
      "frozen dataset 5\n",
      "frozen dataset 9\n"
     ]
    },
    {
     "name": "stderr",
     "output_type": "stream",
     "text": [
      "/home/argykokk/miniconda3/envs/hls4ml-tutorial/lib/python3.8/site-packages/keras/optimizers/optimizer_v2/adam.py:114: UserWarning: The `lr` argument is deprecated, use `learning_rate` instead.\n",
      "  super().__init__(name, **kwargs)\n"
     ]
    },
    {
     "name": "stdout",
     "output_type": "stream",
     "text": [
      "frozen dataset 3\n"
     ]
    },
    {
     "name": "stderr",
     "output_type": "stream",
     "text": [
      "/home/argykokk/miniconda3/envs/hls4ml-tutorial/lib/python3.8/site-packages/keras/optimizers/optimizer_v2/adam.py:114: UserWarning: The `lr` argument is deprecated, use `learning_rate` instead.\n",
      "  super().__init__(name, **kwargs)\n"
     ]
    },
    {
     "name": "stdout",
     "output_type": "stream",
     "text": [
      "46/46 [==============================] - 0s 1ms/step - loss: 1.2192 - accuracy: 0.4782\n",
      "accuracy = 0.478231281042099\n",
      "Interpreting Sequential\n",
      "Topology:\n",
      "Layer name: fc1_input, layer type: Input\n",
      "Layer name: fc1, layer type: QDense\n",
      "Layer name: relu1, layer type: QActivation\n",
      "Layer name: output, layer type: QDense\n",
      "Layer name: softmax, layer type: Activation\n",
      "copy top.v, sim.Xtest, and sim.Ytest to the synopsys project \n"
     ]
    },
    {
     "name": "stderr",
     "output_type": "stream",
     "text": [
      "/home/argykokk/Desktop/TC/genetic_whitewine/pareto_sharing.py:173: ConvergenceWarning: Number of distinct clusters (1) found smaller than n_clusters (2). Possibly due to duplicate points in X.\n",
      "  # calculate the estimated area overhead of this centroid\n",
      "/home/argykokk/Desktop/TC/genetic_whitewine/pareto_sharing.py:173: ConvergenceWarning: Number of distinct clusters (1) found smaller than n_clusters (2). Possibly due to duplicate points in X.\n",
      "  # calculate the estimated area overhead of this centroid\n"
     ]
    },
    {
     "name": "stdout",
     "output_type": "stream",
     "text": [
      "frozen dataset 2\n",
      "frozen dataset 5\n",
      "frozen dataset 9\n"
     ]
    },
    {
     "name": "stderr",
     "output_type": "stream",
     "text": [
      "/home/argykokk/miniconda3/envs/hls4ml-tutorial/lib/python3.8/site-packages/keras/optimizers/optimizer_v2/adam.py:114: UserWarning: The `lr` argument is deprecated, use `learning_rate` instead.\n",
      "  super().__init__(name, **kwargs)\n"
     ]
    },
    {
     "name": "stdout",
     "output_type": "stream",
     "text": [
      "frozen dataset 3\n"
     ]
    },
    {
     "name": "stderr",
     "output_type": "stream",
     "text": [
      "/home/argykokk/miniconda3/envs/hls4ml-tutorial/lib/python3.8/site-packages/keras/optimizers/optimizer_v2/adam.py:114: UserWarning: The `lr` argument is deprecated, use `learning_rate` instead.\n",
      "  super().__init__(name, **kwargs)\n"
     ]
    },
    {
     "name": "stdout",
     "output_type": "stream",
     "text": [
      "46/46 [==============================] - 0s 1ms/step - loss: 1.1834 - accuracy: 0.5075\n",
      "accuracy = 0.5074830055236816\n",
      "Interpreting Sequential\n",
      "Topology:\n",
      "Layer name: fc1_input, layer type: Input\n",
      "Layer name: fc1, layer type: QDense\n",
      "Layer name: relu1, layer type: QActivation\n",
      "Layer name: output, layer type: QDense\n",
      "Layer name: softmax, layer type: Activation\n",
      "copy top.v, sim.Xtest, and sim.Ytest to the synopsys project \n"
     ]
    },
    {
     "name": "stderr",
     "output_type": "stream",
     "text": [
      "/home/argykokk/Desktop/TC/genetic_whitewine/pareto_sharing.py:173: ConvergenceWarning: Number of distinct clusters (1) found smaller than n_clusters (2). Possibly due to duplicate points in X.\n",
      "  # calculate the estimated area overhead of this centroid\n",
      "/home/argykokk/Desktop/TC/genetic_whitewine/pareto_sharing.py:173: ConvergenceWarning: Number of distinct clusters (1) found smaller than n_clusters (2). Possibly due to duplicate points in X.\n",
      "  # calculate the estimated area overhead of this centroid\n"
     ]
    },
    {
     "name": "stdout",
     "output_type": "stream",
     "text": [
      "frozen dataset 2\n",
      "frozen dataset 5\n",
      "frozen dataset 9\n",
      "frozen dataset 3\n"
     ]
    },
    {
     "name": "stderr",
     "output_type": "stream",
     "text": [
      "/home/argykokk/miniconda3/envs/hls4ml-tutorial/lib/python3.8/site-packages/keras/optimizers/optimizer_v2/adam.py:114: UserWarning: The `lr` argument is deprecated, use `learning_rate` instead.\n",
      "  super().__init__(name, **kwargs)\n",
      "/home/argykokk/miniconda3/envs/hls4ml-tutorial/lib/python3.8/site-packages/keras/optimizers/optimizer_v2/adam.py:114: UserWarning: The `lr` argument is deprecated, use `learning_rate` instead.\n",
      "  super().__init__(name, **kwargs)\n"
     ]
    },
    {
     "name": "stdout",
     "output_type": "stream",
     "text": [
      "46/46 [==============================] - 0s 978us/step - loss: 1.1356 - accuracy: 0.5272\n",
      "accuracy = 0.5272108912467957\n",
      "Interpreting Sequential\n",
      "Topology:\n",
      "Layer name: fc1_input, layer type: Input\n",
      "Layer name: fc1, layer type: QDense\n",
      "Layer name: relu1, layer type: QActivation\n",
      "Layer name: output, layer type: QDense\n",
      "Layer name: softmax, layer type: Activation\n",
      "copy top.v, sim.Xtest, and sim.Ytest to the synopsys project \n"
     ]
    },
    {
     "name": "stderr",
     "output_type": "stream",
     "text": [
      "/home/argykokk/Desktop/TC/genetic_whitewine/pareto_sharing.py:173: ConvergenceWarning: Number of distinct clusters (1) found smaller than n_clusters (2). Possibly due to duplicate points in X.\n",
      "  # calculate the estimated area overhead of this centroid\n",
      "/home/argykokk/Desktop/TC/genetic_whitewine/pareto_sharing.py:173: ConvergenceWarning: Number of distinct clusters (1) found smaller than n_clusters (2). Possibly due to duplicate points in X.\n",
      "  # calculate the estimated area overhead of this centroid\n"
     ]
    },
    {
     "name": "stdout",
     "output_type": "stream",
     "text": [
      "frozen dataset 2\n",
      "frozen dataset 5\n",
      "frozen dataset 9\n"
     ]
    },
    {
     "name": "stderr",
     "output_type": "stream",
     "text": [
      "/home/argykokk/miniconda3/envs/hls4ml-tutorial/lib/python3.8/site-packages/keras/optimizers/optimizer_v2/adam.py:114: UserWarning: The `lr` argument is deprecated, use `learning_rate` instead.\n",
      "  super().__init__(name, **kwargs)\n"
     ]
    },
    {
     "name": "stdout",
     "output_type": "stream",
     "text": [
      "frozen dataset 3\n"
     ]
    },
    {
     "name": "stderr",
     "output_type": "stream",
     "text": [
      "/home/argykokk/miniconda3/envs/hls4ml-tutorial/lib/python3.8/site-packages/keras/optimizers/optimizer_v2/adam.py:114: UserWarning: The `lr` argument is deprecated, use `learning_rate` instead.\n",
      "  super().__init__(name, **kwargs)\n"
     ]
    },
    {
     "name": "stdout",
     "output_type": "stream",
     "text": [
      "46/46 [==============================] - 0s 1ms/step - loss: 1.1350 - accuracy: 0.5272\n",
      "accuracy = 0.5272108912467957\n",
      "Interpreting Sequential\n",
      "Topology:\n",
      "Layer name: fc1_input, layer type: Input\n",
      "Layer name: fc1, layer type: QDense\n",
      "Layer name: relu1, layer type: QActivation\n",
      "Layer name: output, layer type: QDense\n",
      "Layer name: softmax, layer type: Activation\n",
      "copy top.v, sim.Xtest, and sim.Ytest to the synopsys project \n"
     ]
    },
    {
     "name": "stderr",
     "output_type": "stream",
     "text": [
      "/home/argykokk/Desktop/TC/genetic_whitewine/pareto_sharing.py:173: ConvergenceWarning: Number of distinct clusters (1) found smaller than n_clusters (2). Possibly due to duplicate points in X.\n",
      "  # calculate the estimated area overhead of this centroid\n",
      "/home/argykokk/Desktop/TC/genetic_whitewine/pareto_sharing.py:173: ConvergenceWarning: Number of distinct clusters (1) found smaller than n_clusters (2). Possibly due to duplicate points in X.\n",
      "  # calculate the estimated area overhead of this centroid\n"
     ]
    },
    {
     "name": "stdout",
     "output_type": "stream",
     "text": [
      "frozen dataset 2\n",
      "frozen dataset 5\n",
      "frozen dataset 9\n"
     ]
    },
    {
     "name": "stderr",
     "output_type": "stream",
     "text": [
      "/home/argykokk/miniconda3/envs/hls4ml-tutorial/lib/python3.8/site-packages/keras/optimizers/optimizer_v2/adam.py:114: UserWarning: The `lr` argument is deprecated, use `learning_rate` instead.\n",
      "  super().__init__(name, **kwargs)\n"
     ]
    },
    {
     "name": "stdout",
     "output_type": "stream",
     "text": [
      "frozen dataset 3\n"
     ]
    },
    {
     "name": "stderr",
     "output_type": "stream",
     "text": [
      "/home/argykokk/miniconda3/envs/hls4ml-tutorial/lib/python3.8/site-packages/keras/optimizers/optimizer_v2/adam.py:114: UserWarning: The `lr` argument is deprecated, use `learning_rate` instead.\n",
      "  super().__init__(name, **kwargs)\n"
     ]
    },
    {
     "name": "stdout",
     "output_type": "stream",
     "text": [
      "46/46 [==============================] - 0s 1ms/step - loss: 1.1350 - accuracy: 0.5272\n",
      "accuracy = 0.5272108912467957\n",
      "Interpreting Sequential\n",
      "Topology:\n",
      "Layer name: fc1_input, layer type: Input\n",
      "Layer name: fc1, layer type: QDense\n",
      "Layer name: relu1, layer type: QActivation\n",
      "Layer name: output, layer type: QDense\n",
      "Layer name: softmax, layer type: Activation\n",
      "copy top.v, sim.Xtest, and sim.Ytest to the synopsys project \n"
     ]
    },
    {
     "name": "stderr",
     "output_type": "stream",
     "text": [
      "/home/argykokk/Desktop/TC/genetic_whitewine/pareto_sharing.py:173: ConvergenceWarning: Number of distinct clusters (1) found smaller than n_clusters (2). Possibly due to duplicate points in X.\n",
      "  # calculate the estimated area overhead of this centroid\n",
      "/home/argykokk/Desktop/TC/genetic_whitewine/pareto_sharing.py:173: ConvergenceWarning: Number of distinct clusters (1) found smaller than n_clusters (2). Possibly due to duplicate points in X.\n",
      "  # calculate the estimated area overhead of this centroid\n",
      "/home/argykokk/miniconda3/envs/hls4ml-tutorial/lib/python3.8/site-packages/keras/optimizers/optimizer_v2/adam.py:114: UserWarning: The `lr` argument is deprecated, use `learning_rate` instead.\n",
      "  super().__init__(name, **kwargs)\n"
     ]
    },
    {
     "name": "stdout",
     "output_type": "stream",
     "text": [
      "frozen dataset 2\n",
      "frozen dataset 5\n",
      "frozen dataset 9\n",
      "frozen dataset 3\n"
     ]
    },
    {
     "name": "stderr",
     "output_type": "stream",
     "text": [
      "/home/argykokk/miniconda3/envs/hls4ml-tutorial/lib/python3.8/site-packages/keras/optimizers/optimizer_v2/adam.py:114: UserWarning: The `lr` argument is deprecated, use `learning_rate` instead.\n",
      "  super().__init__(name, **kwargs)\n"
     ]
    },
    {
     "name": "stdout",
     "output_type": "stream",
     "text": [
      "46/46 [==============================] - 0s 1ms/step - loss: 1.1350 - accuracy: 0.5272\n",
      "accuracy = 0.5272108912467957\n",
      "Interpreting Sequential\n",
      "Topology:\n",
      "Layer name: fc1_input, layer type: Input\n",
      "Layer name: fc1, layer type: QDense\n",
      "Layer name: relu1, layer type: QActivation\n",
      "Layer name: output, layer type: QDense\n",
      "Layer name: softmax, layer type: Activation\n",
      "copy top.v, sim.Xtest, and sim.Ytest to the synopsys project \n"
     ]
    },
    {
     "name": "stderr",
     "output_type": "stream",
     "text": [
      "/home/argykokk/Desktop/TC/genetic_whitewine/pareto_sharing.py:173: ConvergenceWarning: Number of distinct clusters (1) found smaller than n_clusters (2). Possibly due to duplicate points in X.\n",
      "  # calculate the estimated area overhead of this centroid\n",
      "/home/argykokk/Desktop/TC/genetic_whitewine/pareto_sharing.py:173: ConvergenceWarning: Number of distinct clusters (1) found smaller than n_clusters (2). Possibly due to duplicate points in X.\n",
      "  # calculate the estimated area overhead of this centroid\n"
     ]
    },
    {
     "name": "stdout",
     "output_type": "stream",
     "text": [
      "frozen dataset 2\n",
      "frozen dataset 5\n",
      "frozen dataset 9\n",
      "frozen dataset 3\n"
     ]
    },
    {
     "name": "stderr",
     "output_type": "stream",
     "text": [
      "/home/argykokk/miniconda3/envs/hls4ml-tutorial/lib/python3.8/site-packages/keras/optimizers/optimizer_v2/adam.py:114: UserWarning: The `lr` argument is deprecated, use `learning_rate` instead.\n",
      "  super().__init__(name, **kwargs)\n",
      "/home/argykokk/miniconda3/envs/hls4ml-tutorial/lib/python3.8/site-packages/keras/optimizers/optimizer_v2/adam.py:114: UserWarning: The `lr` argument is deprecated, use `learning_rate` instead.\n",
      "  super().__init__(name, **kwargs)\n"
     ]
    },
    {
     "name": "stdout",
     "output_type": "stream",
     "text": [
      "46/46 [==============================] - 0s 1ms/step - loss: 1.1350 - accuracy: 0.5272\n",
      "accuracy = 0.5272108912467957\n",
      "Interpreting Sequential\n",
      "Topology:\n",
      "Layer name: fc1_input, layer type: Input\n",
      "Layer name: fc1, layer type: QDense\n",
      "Layer name: relu1, layer type: QActivation\n",
      "Layer name: output, layer type: QDense\n",
      "Layer name: softmax, layer type: Activation\n",
      "copy top.v, sim.Xtest, and sim.Ytest to the synopsys project \n"
     ]
    },
    {
     "name": "stderr",
     "output_type": "stream",
     "text": [
      "/home/argykokk/Desktop/TC/genetic_whitewine/pareto_sharing.py:173: ConvergenceWarning: Number of distinct clusters (1) found smaller than n_clusters (2). Possibly due to duplicate points in X.\n",
      "  # calculate the estimated area overhead of this centroid\n",
      "/home/argykokk/Desktop/TC/genetic_whitewine/pareto_sharing.py:173: ConvergenceWarning: Number of distinct clusters (1) found smaller than n_clusters (2). Possibly due to duplicate points in X.\n",
      "  # calculate the estimated area overhead of this centroid\n",
      "/home/argykokk/miniconda3/envs/hls4ml-tutorial/lib/python3.8/site-packages/keras/optimizers/optimizer_v2/adam.py:114: UserWarning: The `lr` argument is deprecated, use `learning_rate` instead.\n",
      "  super().__init__(name, **kwargs)\n",
      "/home/argykokk/miniconda3/envs/hls4ml-tutorial/lib/python3.8/site-packages/keras/optimizers/optimizer_v2/adam.py:114: UserWarning: The `lr` argument is deprecated, use `learning_rate` instead.\n",
      "  super().__init__(name, **kwargs)\n"
     ]
    },
    {
     "name": "stdout",
     "output_type": "stream",
     "text": [
      "frozen dataset 2\n",
      "frozen dataset 5\n",
      "frozen dataset 9\n",
      "frozen dataset 3\n",
      "46/46 [==============================] - 0s 1ms/step - loss: 1.1350 - accuracy: 0.5272\n",
      "accuracy = 0.5272108912467957\n",
      "Interpreting Sequential\n",
      "Topology:\n",
      "Layer name: fc1_input, layer type: Input\n",
      "Layer name: fc1, layer type: QDense\n",
      "Layer name: relu1, layer type: QActivation\n",
      "Layer name: output, layer type: QDense\n",
      "Layer name: softmax, layer type: Activation\n",
      "copy top.v, sim.Xtest, and sim.Ytest to the synopsys project \n"
     ]
    },
    {
     "name": "stderr",
     "output_type": "stream",
     "text": [
      "/home/argykokk/Desktop/TC/genetic_whitewine/pareto_sharing.py:173: ConvergenceWarning: Number of distinct clusters (2) found smaller than n_clusters (3). Possibly due to duplicate points in X.\n",
      "  # calculate the estimated area overhead of this centroid\n",
      "/home/argykokk/Desktop/TC/genetic_whitewine/pareto_sharing.py:173: ConvergenceWarning: Number of distinct clusters (1) found smaller than n_clusters (2). Possibly due to duplicate points in X.\n",
      "  # calculate the estimated area overhead of this centroid\n",
      "/home/argykokk/Desktop/TC/genetic_whitewine/pareto_sharing.py:173: ConvergenceWarning: Number of distinct clusters (1) found smaller than n_clusters (2). Possibly due to duplicate points in X.\n",
      "  # calculate the estimated area overhead of this centroid\n"
     ]
    },
    {
     "name": "stdout",
     "output_type": "stream",
     "text": [
      "frozen dataset 2\n",
      "frozen dataset 5\n",
      "frozen dataset 9\n",
      "frozen dataset 3\n"
     ]
    },
    {
     "name": "stderr",
     "output_type": "stream",
     "text": [
      "/home/argykokk/miniconda3/envs/hls4ml-tutorial/lib/python3.8/site-packages/keras/optimizers/optimizer_v2/adam.py:114: UserWarning: The `lr` argument is deprecated, use `learning_rate` instead.\n",
      "  super().__init__(name, **kwargs)\n",
      "/home/argykokk/miniconda3/envs/hls4ml-tutorial/lib/python3.8/site-packages/keras/optimizers/optimizer_v2/adam.py:114: UserWarning: The `lr` argument is deprecated, use `learning_rate` instead.\n",
      "  super().__init__(name, **kwargs)\n"
     ]
    },
    {
     "name": "stdout",
     "output_type": "stream",
     "text": [
      "46/46 [==============================] - 0s 1ms/step - loss: 1.1863 - accuracy: 0.4932\n",
      "accuracy = 0.4931972920894623\n",
      "Interpreting Sequential\n",
      "Topology:\n",
      "Layer name: fc1_input, layer type: Input\n",
      "Layer name: fc1, layer type: QDense\n",
      "Layer name: relu1, layer type: QActivation\n",
      "Layer name: output, layer type: QDense\n",
      "Layer name: softmax, layer type: Activation\n",
      "copy top.v, sim.Xtest, and sim.Ytest to the synopsys project \n"
     ]
    },
    {
     "name": "stderr",
     "output_type": "stream",
     "text": [
      "/home/argykokk/Desktop/TC/genetic_whitewine/pareto_sharing.py:173: ConvergenceWarning: Number of distinct clusters (2) found smaller than n_clusters (3). Possibly due to duplicate points in X.\n",
      "  # calculate the estimated area overhead of this centroid\n",
      "/home/argykokk/Desktop/TC/genetic_whitewine/pareto_sharing.py:173: ConvergenceWarning: Number of distinct clusters (1) found smaller than n_clusters (2). Possibly due to duplicate points in X.\n",
      "  # calculate the estimated area overhead of this centroid\n",
      "/home/argykokk/Desktop/TC/genetic_whitewine/pareto_sharing.py:173: ConvergenceWarning: Number of distinct clusters (1) found smaller than n_clusters (2). Possibly due to duplicate points in X.\n",
      "  # calculate the estimated area overhead of this centroid\n",
      "/home/argykokk/miniconda3/envs/hls4ml-tutorial/lib/python3.8/site-packages/keras/optimizers/optimizer_v2/adam.py:114: UserWarning: The `lr` argument is deprecated, use `learning_rate` instead.\n",
      "  super().__init__(name, **kwargs)\n"
     ]
    },
    {
     "name": "stdout",
     "output_type": "stream",
     "text": [
      "frozen dataset 2\n",
      "frozen dataset 5\n",
      "frozen dataset 9\n",
      "frozen dataset 3\n"
     ]
    },
    {
     "name": "stderr",
     "output_type": "stream",
     "text": [
      "/home/argykokk/miniconda3/envs/hls4ml-tutorial/lib/python3.8/site-packages/keras/optimizers/optimizer_v2/adam.py:114: UserWarning: The `lr` argument is deprecated, use `learning_rate` instead.\n",
      "  super().__init__(name, **kwargs)\n"
     ]
    },
    {
     "name": "stdout",
     "output_type": "stream",
     "text": [
      "46/46 [==============================] - 0s 995us/step - loss: 1.1343 - accuracy: 0.5374\n",
      "accuracy = 0.5374149680137634\n",
      "Interpreting Sequential\n",
      "Topology:\n",
      "Layer name: fc1_input, layer type: Input\n",
      "Layer name: fc1, layer type: QDense\n",
      "Layer name: relu1, layer type: QActivation\n",
      "Layer name: output, layer type: QDense\n",
      "Layer name: softmax, layer type: Activation\n",
      "copy top.v, sim.Xtest, and sim.Ytest to the synopsys project \n"
     ]
    },
    {
     "name": "stderr",
     "output_type": "stream",
     "text": [
      "/home/argykokk/Desktop/TC/genetic_whitewine/pareto_sharing.py:173: ConvergenceWarning: Number of distinct clusters (2) found smaller than n_clusters (3). Possibly due to duplicate points in X.\n",
      "  # calculate the estimated area overhead of this centroid\n",
      "/home/argykokk/Desktop/TC/genetic_whitewine/pareto_sharing.py:173: ConvergenceWarning: Number of distinct clusters (1) found smaller than n_clusters (2). Possibly due to duplicate points in X.\n",
      "  # calculate the estimated area overhead of this centroid\n",
      "/home/argykokk/Desktop/TC/genetic_whitewine/pareto_sharing.py:173: ConvergenceWarning: Number of distinct clusters (1) found smaller than n_clusters (2). Possibly due to duplicate points in X.\n",
      "  # calculate the estimated area overhead of this centroid\n",
      "/home/argykokk/miniconda3/envs/hls4ml-tutorial/lib/python3.8/site-packages/keras/optimizers/optimizer_v2/adam.py:114: UserWarning: The `lr` argument is deprecated, use `learning_rate` instead.\n",
      "  super().__init__(name, **kwargs)\n"
     ]
    },
    {
     "name": "stdout",
     "output_type": "stream",
     "text": [
      "frozen dataset 2\n",
      "frozen dataset 5\n",
      "frozen dataset 9\n",
      "frozen dataset 3\n"
     ]
    },
    {
     "name": "stderr",
     "output_type": "stream",
     "text": [
      "/home/argykokk/miniconda3/envs/hls4ml-tutorial/lib/python3.8/site-packages/keras/optimizers/optimizer_v2/adam.py:114: UserWarning: The `lr` argument is deprecated, use `learning_rate` instead.\n",
      "  super().__init__(name, **kwargs)\n"
     ]
    },
    {
     "name": "stdout",
     "output_type": "stream",
     "text": [
      "46/46 [==============================] - 0s 1ms/step - loss: 1.1342 - accuracy: 0.5374\n",
      "accuracy = 0.5374149680137634\n",
      "Interpreting Sequential\n",
      "Topology:\n",
      "Layer name: fc1_input, layer type: Input\n",
      "Layer name: fc1, layer type: QDense\n",
      "Layer name: relu1, layer type: QActivation\n",
      "Layer name: output, layer type: QDense\n",
      "Layer name: softmax, layer type: Activation\n",
      "copy top.v, sim.Xtest, and sim.Ytest to the synopsys project \n"
     ]
    },
    {
     "name": "stderr",
     "output_type": "stream",
     "text": [
      "/home/argykokk/Desktop/TC/genetic_whitewine/pareto_sharing.py:173: ConvergenceWarning: Number of distinct clusters (2) found smaller than n_clusters (3). Possibly due to duplicate points in X.\n",
      "  # calculate the estimated area overhead of this centroid\n",
      "/home/argykokk/Desktop/TC/genetic_whitewine/pareto_sharing.py:173: ConvergenceWarning: Number of distinct clusters (1) found smaller than n_clusters (2). Possibly due to duplicate points in X.\n",
      "  # calculate the estimated area overhead of this centroid\n",
      "/home/argykokk/Desktop/TC/genetic_whitewine/pareto_sharing.py:173: ConvergenceWarning: Number of distinct clusters (1) found smaller than n_clusters (2). Possibly due to duplicate points in X.\n",
      "  # calculate the estimated area overhead of this centroid\n",
      "/home/argykokk/miniconda3/envs/hls4ml-tutorial/lib/python3.8/site-packages/keras/optimizers/optimizer_v2/adam.py:114: UserWarning: The `lr` argument is deprecated, use `learning_rate` instead.\n",
      "  super().__init__(name, **kwargs)\n"
     ]
    },
    {
     "name": "stdout",
     "output_type": "stream",
     "text": [
      "frozen dataset 2\n",
      "frozen dataset 5\n",
      "frozen dataset 9\n",
      "frozen dataset 3\n"
     ]
    },
    {
     "name": "stderr",
     "output_type": "stream",
     "text": [
      "/home/argykokk/miniconda3/envs/hls4ml-tutorial/lib/python3.8/site-packages/keras/optimizers/optimizer_v2/adam.py:114: UserWarning: The `lr` argument is deprecated, use `learning_rate` instead.\n",
      "  super().__init__(name, **kwargs)\n"
     ]
    },
    {
     "name": "stdout",
     "output_type": "stream",
     "text": [
      "46/46 [==============================] - 0s 993us/step - loss: 1.1342 - accuracy: 0.5374\n",
      "accuracy = 0.5374149680137634\n",
      "Interpreting Sequential\n",
      "Topology:\n",
      "Layer name: fc1_input, layer type: Input\n",
      "Layer name: fc1, layer type: QDense\n",
      "Layer name: relu1, layer type: QActivation\n",
      "Layer name: output, layer type: QDense\n",
      "Layer name: softmax, layer type: Activation\n",
      "copy top.v, sim.Xtest, and sim.Ytest to the synopsys project \n"
     ]
    },
    {
     "name": "stderr",
     "output_type": "stream",
     "text": [
      "/home/argykokk/Desktop/TC/genetic_whitewine/pareto_sharing.py:173: ConvergenceWarning: Number of distinct clusters (2) found smaller than n_clusters (3). Possibly due to duplicate points in X.\n",
      "  # calculate the estimated area overhead of this centroid\n",
      "/home/argykokk/Desktop/TC/genetic_whitewine/pareto_sharing.py:173: ConvergenceWarning: Number of distinct clusters (1) found smaller than n_clusters (2). Possibly due to duplicate points in X.\n",
      "  # calculate the estimated area overhead of this centroid\n",
      "/home/argykokk/Desktop/TC/genetic_whitewine/pareto_sharing.py:173: ConvergenceWarning: Number of distinct clusters (1) found smaller than n_clusters (2). Possibly due to duplicate points in X.\n",
      "  # calculate the estimated area overhead of this centroid\n"
     ]
    },
    {
     "name": "stdout",
     "output_type": "stream",
     "text": [
      "frozen dataset 2\n",
      "frozen dataset 5\n",
      "frozen dataset 9\n"
     ]
    },
    {
     "name": "stderr",
     "output_type": "stream",
     "text": [
      "/home/argykokk/miniconda3/envs/hls4ml-tutorial/lib/python3.8/site-packages/keras/optimizers/optimizer_v2/adam.py:114: UserWarning: The `lr` argument is deprecated, use `learning_rate` instead.\n",
      "  super().__init__(name, **kwargs)\n"
     ]
    },
    {
     "name": "stdout",
     "output_type": "stream",
     "text": [
      "frozen dataset 3\n"
     ]
    },
    {
     "name": "stderr",
     "output_type": "stream",
     "text": [
      "/home/argykokk/miniconda3/envs/hls4ml-tutorial/lib/python3.8/site-packages/keras/optimizers/optimizer_v2/adam.py:114: UserWarning: The `lr` argument is deprecated, use `learning_rate` instead.\n",
      "  super().__init__(name, **kwargs)\n"
     ]
    },
    {
     "name": "stdout",
     "output_type": "stream",
     "text": [
      "46/46 [==============================] - 0s 1ms/step - loss: 1.1342 - accuracy: 0.5374\n",
      "accuracy = 0.5374149680137634\n",
      "Interpreting Sequential\n",
      "Topology:\n",
      "Layer name: fc1_input, layer type: Input\n",
      "Layer name: fc1, layer type: QDense\n",
      "Layer name: relu1, layer type: QActivation\n",
      "Layer name: output, layer type: QDense\n",
      "Layer name: softmax, layer type: Activation\n",
      "copy top.v, sim.Xtest, and sim.Ytest to the synopsys project \n"
     ]
    },
    {
     "name": "stderr",
     "output_type": "stream",
     "text": [
      "/home/argykokk/Desktop/TC/genetic_whitewine/pareto_sharing.py:173: ConvergenceWarning: Number of distinct clusters (2) found smaller than n_clusters (3). Possibly due to duplicate points in X.\n",
      "  # calculate the estimated area overhead of this centroid\n",
      "/home/argykokk/Desktop/TC/genetic_whitewine/pareto_sharing.py:173: ConvergenceWarning: Number of distinct clusters (1) found smaller than n_clusters (2). Possibly due to duplicate points in X.\n",
      "  # calculate the estimated area overhead of this centroid\n",
      "/home/argykokk/Desktop/TC/genetic_whitewine/pareto_sharing.py:173: ConvergenceWarning: Number of distinct clusters (1) found smaller than n_clusters (2). Possibly due to duplicate points in X.\n",
      "  # calculate the estimated area overhead of this centroid\n"
     ]
    },
    {
     "name": "stdout",
     "output_type": "stream",
     "text": [
      "frozen dataset 2\n",
      "frozen dataset 5\n",
      "frozen dataset 9\n"
     ]
    },
    {
     "name": "stderr",
     "output_type": "stream",
     "text": [
      "/home/argykokk/miniconda3/envs/hls4ml-tutorial/lib/python3.8/site-packages/keras/optimizers/optimizer_v2/adam.py:114: UserWarning: The `lr` argument is deprecated, use `learning_rate` instead.\n",
      "  super().__init__(name, **kwargs)\n"
     ]
    },
    {
     "name": "stdout",
     "output_type": "stream",
     "text": [
      "frozen dataset 3\n"
     ]
    },
    {
     "name": "stderr",
     "output_type": "stream",
     "text": [
      "/home/argykokk/miniconda3/envs/hls4ml-tutorial/lib/python3.8/site-packages/keras/optimizers/optimizer_v2/adam.py:114: UserWarning: The `lr` argument is deprecated, use `learning_rate` instead.\n",
      "  super().__init__(name, **kwargs)\n"
     ]
    },
    {
     "name": "stdout",
     "output_type": "stream",
     "text": [
      "46/46 [==============================] - 0s 994us/step - loss: 1.1342 - accuracy: 0.5374\n",
      "accuracy = 0.5374149680137634\n",
      "Interpreting Sequential\n",
      "Topology:\n",
      "Layer name: fc1_input, layer type: Input\n",
      "Layer name: fc1, layer type: QDense\n",
      "Layer name: relu1, layer type: QActivation\n",
      "Layer name: output, layer type: QDense\n",
      "Layer name: softmax, layer type: Activation\n",
      "copy top.v, sim.Xtest, and sim.Ytest to the synopsys project \n"
     ]
    },
    {
     "name": "stderr",
     "output_type": "stream",
     "text": [
      "/home/argykokk/Desktop/TC/genetic_whitewine/pareto_sharing.py:173: ConvergenceWarning: Number of distinct clusters (2) found smaller than n_clusters (3). Possibly due to duplicate points in X.\n",
      "  # calculate the estimated area overhead of this centroid\n",
      "/home/argykokk/Desktop/TC/genetic_whitewine/pareto_sharing.py:173: ConvergenceWarning: Number of distinct clusters (1) found smaller than n_clusters (2). Possibly due to duplicate points in X.\n",
      "  # calculate the estimated area overhead of this centroid\n",
      "/home/argykokk/Desktop/TC/genetic_whitewine/pareto_sharing.py:173: ConvergenceWarning: Number of distinct clusters (1) found smaller than n_clusters (2). Possibly due to duplicate points in X.\n",
      "  # calculate the estimated area overhead of this centroid\n"
     ]
    },
    {
     "name": "stdout",
     "output_type": "stream",
     "text": [
      "frozen dataset 2\n",
      "frozen dataset 5\n",
      "frozen dataset 9\n"
     ]
    },
    {
     "name": "stderr",
     "output_type": "stream",
     "text": [
      "/home/argykokk/miniconda3/envs/hls4ml-tutorial/lib/python3.8/site-packages/keras/optimizers/optimizer_v2/adam.py:114: UserWarning: The `lr` argument is deprecated, use `learning_rate` instead.\n",
      "  super().__init__(name, **kwargs)\n"
     ]
    },
    {
     "name": "stdout",
     "output_type": "stream",
     "text": [
      "frozen dataset 3\n"
     ]
    },
    {
     "name": "stderr",
     "output_type": "stream",
     "text": [
      "/home/argykokk/miniconda3/envs/hls4ml-tutorial/lib/python3.8/site-packages/keras/optimizers/optimizer_v2/adam.py:114: UserWarning: The `lr` argument is deprecated, use `learning_rate` instead.\n",
      "  super().__init__(name, **kwargs)\n"
     ]
    },
    {
     "name": "stdout",
     "output_type": "stream",
     "text": [
      "46/46 [==============================] - 0s 982us/step - loss: 1.1342 - accuracy: 0.5374\n",
      "accuracy = 0.5374149680137634\n",
      "Interpreting Sequential\n",
      "Topology:\n",
      "Layer name: fc1_input, layer type: Input\n",
      "Layer name: fc1, layer type: QDense\n",
      "Layer name: relu1, layer type: QActivation\n",
      "Layer name: output, layer type: QDense\n",
      "Layer name: softmax, layer type: Activation\n",
      "copy top.v, sim.Xtest, and sim.Ytest to the synopsys project \n"
     ]
    },
    {
     "name": "stderr",
     "output_type": "stream",
     "text": [
      "/home/argykokk/Desktop/TC/genetic_whitewine/pareto_sharing.py:173: ConvergenceWarning: Number of distinct clusters (2) found smaller than n_clusters (3). Possibly due to duplicate points in X.\n",
      "  # calculate the estimated area overhead of this centroid\n",
      "/home/argykokk/Desktop/TC/genetic_whitewine/pareto_sharing.py:173: ConvergenceWarning: Number of distinct clusters (1) found smaller than n_clusters (2). Possibly due to duplicate points in X.\n",
      "  # calculate the estimated area overhead of this centroid\n",
      "/home/argykokk/Desktop/TC/genetic_whitewine/pareto_sharing.py:173: ConvergenceWarning: Number of distinct clusters (1) found smaller than n_clusters (2). Possibly due to duplicate points in X.\n",
      "  # calculate the estimated area overhead of this centroid\n"
     ]
    },
    {
     "name": "stdout",
     "output_type": "stream",
     "text": [
      "frozen dataset 2\n",
      "frozen dataset 5\n",
      "frozen dataset 9\n"
     ]
    },
    {
     "name": "stderr",
     "output_type": "stream",
     "text": [
      "/home/argykokk/miniconda3/envs/hls4ml-tutorial/lib/python3.8/site-packages/keras/optimizers/optimizer_v2/adam.py:114: UserWarning: The `lr` argument is deprecated, use `learning_rate` instead.\n",
      "  super().__init__(name, **kwargs)\n"
     ]
    },
    {
     "name": "stdout",
     "output_type": "stream",
     "text": [
      "frozen dataset 3\n"
     ]
    },
    {
     "name": "stderr",
     "output_type": "stream",
     "text": [
      "/home/argykokk/miniconda3/envs/hls4ml-tutorial/lib/python3.8/site-packages/keras/optimizers/optimizer_v2/adam.py:114: UserWarning: The `lr` argument is deprecated, use `learning_rate` instead.\n",
      "  super().__init__(name, **kwargs)\n"
     ]
    },
    {
     "name": "stdout",
     "output_type": "stream",
     "text": [
      "46/46 [==============================] - 0s 945us/step - loss: 1.1863 - accuracy: 0.4932\n",
      "accuracy = 0.4931972920894623\n",
      "Interpreting Sequential\n",
      "Topology:\n",
      "Layer name: fc1_input, layer type: Input\n",
      "Layer name: fc1, layer type: QDense\n",
      "Layer name: relu1, layer type: QActivation\n",
      "Layer name: output, layer type: QDense\n",
      "Layer name: softmax, layer type: Activation\n",
      "copy top.v, sim.Xtest, and sim.Ytest to the synopsys project \n"
     ]
    },
    {
     "name": "stderr",
     "output_type": "stream",
     "text": [
      "/home/argykokk/Desktop/TC/genetic_whitewine/pareto_sharing.py:173: ConvergenceWarning: Number of distinct clusters (2) found smaller than n_clusters (3). Possibly due to duplicate points in X.\n",
      "  # calculate the estimated area overhead of this centroid\n",
      "/home/argykokk/Desktop/TC/genetic_whitewine/pareto_sharing.py:173: ConvergenceWarning: Number of distinct clusters (1) found smaller than n_clusters (2). Possibly due to duplicate points in X.\n",
      "  # calculate the estimated area overhead of this centroid\n",
      "/home/argykokk/Desktop/TC/genetic_whitewine/pareto_sharing.py:173: ConvergenceWarning: Number of distinct clusters (1) found smaller than n_clusters (2). Possibly due to duplicate points in X.\n",
      "  # calculate the estimated area overhead of this centroid\n"
     ]
    },
    {
     "name": "stdout",
     "output_type": "stream",
     "text": [
      "frozen dataset 2\n",
      "frozen dataset 5\n",
      "frozen dataset 9\n"
     ]
    },
    {
     "name": "stderr",
     "output_type": "stream",
     "text": [
      "/home/argykokk/miniconda3/envs/hls4ml-tutorial/lib/python3.8/site-packages/keras/optimizers/optimizer_v2/adam.py:114: UserWarning: The `lr` argument is deprecated, use `learning_rate` instead.\n",
      "  super().__init__(name, **kwargs)\n"
     ]
    },
    {
     "name": "stdout",
     "output_type": "stream",
     "text": [
      "frozen dataset 3\n"
     ]
    },
    {
     "name": "stderr",
     "output_type": "stream",
     "text": [
      "/home/argykokk/miniconda3/envs/hls4ml-tutorial/lib/python3.8/site-packages/keras/optimizers/optimizer_v2/adam.py:114: UserWarning: The `lr` argument is deprecated, use `learning_rate` instead.\n",
      "  super().__init__(name, **kwargs)\n"
     ]
    },
    {
     "name": "stdout",
     "output_type": "stream",
     "text": [
      "46/46 [==============================] - 0s 859us/step - loss: 1.1343 - accuracy: 0.5374\n",
      "accuracy = 0.5374149680137634\n",
      "Interpreting Sequential\n",
      "Topology:\n",
      "Layer name: fc1_input, layer type: Input\n",
      "Layer name: fc1, layer type: QDense\n",
      "Layer name: relu1, layer type: QActivation\n",
      "Layer name: output, layer type: QDense\n",
      "Layer name: softmax, layer type: Activation\n",
      "copy top.v, sim.Xtest, and sim.Ytest to the synopsys project \n"
     ]
    },
    {
     "name": "stderr",
     "output_type": "stream",
     "text": [
      "/home/argykokk/Desktop/TC/genetic_whitewine/pareto_sharing.py:173: ConvergenceWarning: Number of distinct clusters (2) found smaller than n_clusters (3). Possibly due to duplicate points in X.\n",
      "  # calculate the estimated area overhead of this centroid\n",
      "/home/argykokk/Desktop/TC/genetic_whitewine/pareto_sharing.py:173: ConvergenceWarning: Number of distinct clusters (1) found smaller than n_clusters (2). Possibly due to duplicate points in X.\n",
      "  # calculate the estimated area overhead of this centroid\n",
      "/home/argykokk/Desktop/TC/genetic_whitewine/pareto_sharing.py:173: ConvergenceWarning: Number of distinct clusters (1) found smaller than n_clusters (2). Possibly due to duplicate points in X.\n",
      "  # calculate the estimated area overhead of this centroid\n"
     ]
    },
    {
     "name": "stdout",
     "output_type": "stream",
     "text": [
      "frozen dataset 2\n",
      "frozen dataset 5\n",
      "frozen dataset 9\n"
     ]
    },
    {
     "name": "stderr",
     "output_type": "stream",
     "text": [
      "/home/argykokk/miniconda3/envs/hls4ml-tutorial/lib/python3.8/site-packages/keras/optimizers/optimizer_v2/adam.py:114: UserWarning: The `lr` argument is deprecated, use `learning_rate` instead.\n",
      "  super().__init__(name, **kwargs)\n"
     ]
    },
    {
     "name": "stdout",
     "output_type": "stream",
     "text": [
      "frozen dataset 3\n"
     ]
    },
    {
     "name": "stderr",
     "output_type": "stream",
     "text": [
      "/home/argykokk/miniconda3/envs/hls4ml-tutorial/lib/python3.8/site-packages/keras/optimizers/optimizer_v2/adam.py:114: UserWarning: The `lr` argument is deprecated, use `learning_rate` instead.\n",
      "  super().__init__(name, **kwargs)\n"
     ]
    },
    {
     "name": "stdout",
     "output_type": "stream",
     "text": [
      "46/46 [==============================] - 0s 1ms/step - loss: 1.1342 - accuracy: 0.5374\n",
      "accuracy = 0.5374149680137634\n",
      "Interpreting Sequential\n",
      "Topology:\n",
      "Layer name: fc1_input, layer type: Input\n",
      "Layer name: fc1, layer type: QDense\n",
      "Layer name: relu1, layer type: QActivation\n",
      "Layer name: output, layer type: QDense\n",
      "Layer name: softmax, layer type: Activation\n",
      "copy top.v, sim.Xtest, and sim.Ytest to the synopsys project \n"
     ]
    },
    {
     "name": "stderr",
     "output_type": "stream",
     "text": [
      "/home/argykokk/Desktop/TC/genetic_whitewine/pareto_sharing.py:173: ConvergenceWarning: Number of distinct clusters (2) found smaller than n_clusters (3). Possibly due to duplicate points in X.\n",
      "  # calculate the estimated area overhead of this centroid\n",
      "/home/argykokk/Desktop/TC/genetic_whitewine/pareto_sharing.py:173: ConvergenceWarning: Number of distinct clusters (1) found smaller than n_clusters (2). Possibly due to duplicate points in X.\n",
      "  # calculate the estimated area overhead of this centroid\n",
      "/home/argykokk/Desktop/TC/genetic_whitewine/pareto_sharing.py:173: ConvergenceWarning: Number of distinct clusters (1) found smaller than n_clusters (2). Possibly due to duplicate points in X.\n",
      "  # calculate the estimated area overhead of this centroid\n"
     ]
    },
    {
     "name": "stdout",
     "output_type": "stream",
     "text": [
      "frozen dataset 2\n",
      "frozen dataset 5\n",
      "frozen dataset 9\n"
     ]
    },
    {
     "name": "stderr",
     "output_type": "stream",
     "text": [
      "/home/argykokk/miniconda3/envs/hls4ml-tutorial/lib/python3.8/site-packages/keras/optimizers/optimizer_v2/adam.py:114: UserWarning: The `lr` argument is deprecated, use `learning_rate` instead.\n",
      "  super().__init__(name, **kwargs)\n"
     ]
    },
    {
     "name": "stdout",
     "output_type": "stream",
     "text": [
      "frozen dataset 3\n"
     ]
    },
    {
     "name": "stderr",
     "output_type": "stream",
     "text": [
      "/home/argykokk/miniconda3/envs/hls4ml-tutorial/lib/python3.8/site-packages/keras/optimizers/optimizer_v2/adam.py:114: UserWarning: The `lr` argument is deprecated, use `learning_rate` instead.\n",
      "  super().__init__(name, **kwargs)\n"
     ]
    },
    {
     "name": "stdout",
     "output_type": "stream",
     "text": [
      "46/46 [==============================] - 0s 989us/step - loss: 1.1342 - accuracy: 0.5374\n",
      "accuracy = 0.5374149680137634\n",
      "Interpreting Sequential\n",
      "Topology:\n",
      "Layer name: fc1_input, layer type: Input\n",
      "Layer name: fc1, layer type: QDense\n",
      "Layer name: relu1, layer type: QActivation\n",
      "Layer name: output, layer type: QDense\n",
      "Layer name: softmax, layer type: Activation\n",
      "copy top.v, sim.Xtest, and sim.Ytest to the synopsys project \n"
     ]
    },
    {
     "name": "stderr",
     "output_type": "stream",
     "text": [
      "/home/argykokk/Desktop/TC/genetic_whitewine/pareto_sharing.py:173: ConvergenceWarning: Number of distinct clusters (2) found smaller than n_clusters (3). Possibly due to duplicate points in X.\n",
      "  # calculate the estimated area overhead of this centroid\n",
      "/home/argykokk/Desktop/TC/genetic_whitewine/pareto_sharing.py:173: ConvergenceWarning: Number of distinct clusters (1) found smaller than n_clusters (2). Possibly due to duplicate points in X.\n",
      "  # calculate the estimated area overhead of this centroid\n",
      "/home/argykokk/Desktop/TC/genetic_whitewine/pareto_sharing.py:173: ConvergenceWarning: Number of distinct clusters (1) found smaller than n_clusters (2). Possibly due to duplicate points in X.\n",
      "  # calculate the estimated area overhead of this centroid\n"
     ]
    },
    {
     "name": "stdout",
     "output_type": "stream",
     "text": [
      "frozen dataset 2\n",
      "frozen dataset 5\n",
      "frozen dataset 9\n"
     ]
    },
    {
     "name": "stderr",
     "output_type": "stream",
     "text": [
      "/home/argykokk/miniconda3/envs/hls4ml-tutorial/lib/python3.8/site-packages/keras/optimizers/optimizer_v2/adam.py:114: UserWarning: The `lr` argument is deprecated, use `learning_rate` instead.\n",
      "  super().__init__(name, **kwargs)\n"
     ]
    },
    {
     "name": "stdout",
     "output_type": "stream",
     "text": [
      "frozen dataset 3\n"
     ]
    },
    {
     "name": "stderr",
     "output_type": "stream",
     "text": [
      "/home/argykokk/miniconda3/envs/hls4ml-tutorial/lib/python3.8/site-packages/keras/optimizers/optimizer_v2/adam.py:114: UserWarning: The `lr` argument is deprecated, use `learning_rate` instead.\n",
      "  super().__init__(name, **kwargs)\n"
     ]
    },
    {
     "name": "stdout",
     "output_type": "stream",
     "text": [
      "46/46 [==============================] - 0s 993us/step - loss: 1.1342 - accuracy: 0.5374\n",
      "accuracy = 0.5374149680137634\n",
      "Interpreting Sequential\n",
      "Topology:\n",
      "Layer name: fc1_input, layer type: Input\n",
      "Layer name: fc1, layer type: QDense\n",
      "Layer name: relu1, layer type: QActivation\n",
      "Layer name: output, layer type: QDense\n",
      "Layer name: softmax, layer type: Activation\n",
      "copy top.v, sim.Xtest, and sim.Ytest to the synopsys project \n"
     ]
    },
    {
     "name": "stderr",
     "output_type": "stream",
     "text": [
      "/home/argykokk/Desktop/TC/genetic_whitewine/pareto_sharing.py:173: ConvergenceWarning: Number of distinct clusters (2) found smaller than n_clusters (3). Possibly due to duplicate points in X.\n",
      "  # calculate the estimated area overhead of this centroid\n",
      "/home/argykokk/Desktop/TC/genetic_whitewine/pareto_sharing.py:173: ConvergenceWarning: Number of distinct clusters (1) found smaller than n_clusters (2). Possibly due to duplicate points in X.\n",
      "  # calculate the estimated area overhead of this centroid\n",
      "/home/argykokk/Desktop/TC/genetic_whitewine/pareto_sharing.py:173: ConvergenceWarning: Number of distinct clusters (1) found smaller than n_clusters (2). Possibly due to duplicate points in X.\n",
      "  # calculate the estimated area overhead of this centroid\n"
     ]
    },
    {
     "name": "stdout",
     "output_type": "stream",
     "text": [
      "frozen dataset 2\n",
      "frozen dataset 5\n",
      "frozen dataset 9\n",
      "frozen dataset 3\n"
     ]
    },
    {
     "name": "stderr",
     "output_type": "stream",
     "text": [
      "/home/argykokk/miniconda3/envs/hls4ml-tutorial/lib/python3.8/site-packages/keras/optimizers/optimizer_v2/adam.py:114: UserWarning: The `lr` argument is deprecated, use `learning_rate` instead.\n",
      "  super().__init__(name, **kwargs)\n",
      "/home/argykokk/miniconda3/envs/hls4ml-tutorial/lib/python3.8/site-packages/keras/optimizers/optimizer_v2/adam.py:114: UserWarning: The `lr` argument is deprecated, use `learning_rate` instead.\n",
      "  super().__init__(name, **kwargs)\n"
     ]
    },
    {
     "name": "stdout",
     "output_type": "stream",
     "text": [
      "46/46 [==============================] - 0s 959us/step - loss: 1.1342 - accuracy: 0.5374\n",
      "accuracy = 0.5374149680137634\n",
      "Interpreting Sequential\n",
      "Topology:\n",
      "Layer name: fc1_input, layer type: Input\n",
      "Layer name: fc1, layer type: QDense\n",
      "Layer name: relu1, layer type: QActivation\n",
      "Layer name: output, layer type: QDense\n",
      "Layer name: softmax, layer type: Activation\n",
      "copy top.v, sim.Xtest, and sim.Ytest to the synopsys project \n"
     ]
    },
    {
     "name": "stderr",
     "output_type": "stream",
     "text": [
      "/home/argykokk/Desktop/TC/genetic_whitewine/pareto_sharing.py:173: ConvergenceWarning: Number of distinct clusters (2) found smaller than n_clusters (3). Possibly due to duplicate points in X.\n",
      "  # calculate the estimated area overhead of this centroid\n",
      "/home/argykokk/Desktop/TC/genetic_whitewine/pareto_sharing.py:173: ConvergenceWarning: Number of distinct clusters (1) found smaller than n_clusters (2). Possibly due to duplicate points in X.\n",
      "  # calculate the estimated area overhead of this centroid\n",
      "/home/argykokk/Desktop/TC/genetic_whitewine/pareto_sharing.py:173: ConvergenceWarning: Number of distinct clusters (1) found smaller than n_clusters (2). Possibly due to duplicate points in X.\n",
      "  # calculate the estimated area overhead of this centroid\n"
     ]
    },
    {
     "name": "stdout",
     "output_type": "stream",
     "text": [
      "frozen dataset 2\n",
      "frozen dataset 5\n",
      "frozen dataset 9\n"
     ]
    },
    {
     "name": "stderr",
     "output_type": "stream",
     "text": [
      "/home/argykokk/miniconda3/envs/hls4ml-tutorial/lib/python3.8/site-packages/keras/optimizers/optimizer_v2/adam.py:114: UserWarning: The `lr` argument is deprecated, use `learning_rate` instead.\n",
      "  super().__init__(name, **kwargs)\n"
     ]
    },
    {
     "name": "stdout",
     "output_type": "stream",
     "text": [
      "frozen dataset 3\n"
     ]
    },
    {
     "name": "stderr",
     "output_type": "stream",
     "text": [
      "/home/argykokk/miniconda3/envs/hls4ml-tutorial/lib/python3.8/site-packages/keras/optimizers/optimizer_v2/adam.py:114: UserWarning: The `lr` argument is deprecated, use `learning_rate` instead.\n",
      "  super().__init__(name, **kwargs)\n"
     ]
    },
    {
     "name": "stdout",
     "output_type": "stream",
     "text": [
      "46/46 [==============================] - 0s 1ms/step - loss: 1.1342 - accuracy: 0.5374\n",
      "accuracy = 0.5374149680137634\n",
      "Interpreting Sequential\n",
      "Topology:\n",
      "Layer name: fc1_input, layer type: Input\n",
      "Layer name: fc1, layer type: QDense\n",
      "Layer name: relu1, layer type: QActivation\n",
      "Layer name: output, layer type: QDense\n",
      "Layer name: softmax, layer type: Activation\n",
      "copy top.v, sim.Xtest, and sim.Ytest to the synopsys project \n"
     ]
    },
    {
     "name": "stderr",
     "output_type": "stream",
     "text": [
      "/home/argykokk/miniconda3/envs/hls4ml-tutorial/lib/python3.8/site-packages/keras/initializers/initializers_v2.py:120: UserWarning: The initializer LecunUniform is unseeded and being called multiple times, which will return identical values  each time (even if the initializer is unseeded). Please update your code to provide a seed to the initializer, or avoid using the same initalizer instance more than once.\n",
      "  warnings.warn(\n"
     ]
    },
    {
     "name": "stdout",
     "output_type": "stream",
     "text": [
      "frozen dataset 0\n",
      "frozen dataset 1\n",
      "frozen dataset 2\n",
      "frozen dataset 3\n",
      "frozen dataset 4\n",
      "frozen dataset 5\n",
      "frozen dataset 6\n",
      "frozen dataset 7\n",
      "frozen dataset 8\n",
      "frozen dataset 9\n",
      "frozen dataset 10\n",
      "frozen dataset 0\n",
      "frozen dataset 1\n",
      "frozen dataset 2\n",
      "frozen dataset 3\n"
     ]
    },
    {
     "name": "stderr",
     "output_type": "stream",
     "text": [
      "/home/argykokk/miniconda3/envs/hls4ml-tutorial/lib/python3.8/site-packages/keras/optimizers/optimizer_v2/adam.py:114: UserWarning: The `lr` argument is deprecated, use `learning_rate` instead.\n",
      "  super().__init__(name, **kwargs)\n",
      "/home/argykokk/miniconda3/envs/hls4ml-tutorial/lib/python3.8/site-packages/keras/optimizers/optimizer_v2/adam.py:114: UserWarning: The `lr` argument is deprecated, use `learning_rate` instead.\n",
      "  super().__init__(name, **kwargs)\n"
     ]
    },
    {
     "name": "stdout",
     "output_type": "stream",
     "text": [
      "46/46 [==============================] - 0s 952us/step - loss: 1.2635 - accuracy: 0.4714\n",
      "accuracy = 0.4714285731315613\n",
      "Interpreting Sequential\n",
      "Topology:\n",
      "Layer name: fc1_input, layer type: Input\n",
      "Layer name: fc1, layer type: QDense\n",
      "Layer name: relu1, layer type: QActivation\n",
      "Layer name: output, layer type: QDense\n",
      "Layer name: softmax, layer type: Activation\n",
      "copy top.v, sim.Xtest, and sim.Ytest to the synopsys project \n"
     ]
    },
    {
     "name": "stderr",
     "output_type": "stream",
     "text": [
      "/home/argykokk/miniconda3/envs/hls4ml-tutorial/lib/python3.8/site-packages/keras/initializers/initializers_v2.py:120: UserWarning: The initializer LecunUniform is unseeded and being called multiple times, which will return identical values  each time (even if the initializer is unseeded). Please update your code to provide a seed to the initializer, or avoid using the same initalizer instance more than once.\n",
      "  warnings.warn(\n"
     ]
    },
    {
     "name": "stdout",
     "output_type": "stream",
     "text": [
      "frozen dataset 0\n",
      "frozen dataset 1\n",
      "frozen dataset 2\n",
      "frozen dataset 3\n",
      "frozen dataset 4\n",
      "frozen dataset 5\n",
      "frozen dataset 6\n",
      "frozen dataset 7\n",
      "frozen dataset 8\n",
      "frozen dataset 9\n",
      "frozen dataset 10\n"
     ]
    },
    {
     "name": "stderr",
     "output_type": "stream",
     "text": [
      "/home/argykokk/miniconda3/envs/hls4ml-tutorial/lib/python3.8/site-packages/keras/optimizers/optimizer_v2/adam.py:114: UserWarning: The `lr` argument is deprecated, use `learning_rate` instead.\n",
      "  super().__init__(name, **kwargs)\n"
     ]
    },
    {
     "name": "stdout",
     "output_type": "stream",
     "text": [
      "frozen dataset 0\n",
      "frozen dataset 1\n",
      "frozen dataset 2\n",
      "frozen dataset 3\n"
     ]
    },
    {
     "name": "stderr",
     "output_type": "stream",
     "text": [
      "/home/argykokk/miniconda3/envs/hls4ml-tutorial/lib/python3.8/site-packages/keras/optimizers/optimizer_v2/adam.py:114: UserWarning: The `lr` argument is deprecated, use `learning_rate` instead.\n",
      "  super().__init__(name, **kwargs)\n"
     ]
    },
    {
     "name": "stdout",
     "output_type": "stream",
     "text": [
      "46/46 [==============================] - 0s 1ms/step - loss: 1.2635 - accuracy: 0.4714\n",
      "accuracy = 0.4714285731315613\n",
      "Interpreting Sequential\n",
      "Topology:\n",
      "Layer name: fc1_input, layer type: Input\n",
      "Layer name: fc1, layer type: QDense\n",
      "Layer name: relu1, layer type: QActivation\n",
      "Layer name: output, layer type: QDense\n",
      "Layer name: softmax, layer type: Activation\n",
      "copy top.v, sim.Xtest, and sim.Ytest to the synopsys project \n"
     ]
    },
    {
     "name": "stderr",
     "output_type": "stream",
     "text": [
      "/home/argykokk/miniconda3/envs/hls4ml-tutorial/lib/python3.8/site-packages/keras/initializers/initializers_v2.py:120: UserWarning: The initializer LecunUniform is unseeded and being called multiple times, which will return identical values  each time (even if the initializer is unseeded). Please update your code to provide a seed to the initializer, or avoid using the same initalizer instance more than once.\n",
      "  warnings.warn(\n"
     ]
    },
    {
     "name": "stdout",
     "output_type": "stream",
     "text": [
      "frozen dataset 0\n",
      "frozen dataset 1\n",
      "frozen dataset 2\n",
      "frozen dataset 3\n",
      "frozen dataset 4\n",
      "frozen dataset 5\n",
      "frozen dataset 6\n",
      "frozen dataset 7\n",
      "frozen dataset 8\n",
      "frozen dataset 9\n",
      "frozen dataset 10\n"
     ]
    },
    {
     "name": "stderr",
     "output_type": "stream",
     "text": [
      "/home/argykokk/miniconda3/envs/hls4ml-tutorial/lib/python3.8/site-packages/keras/optimizers/optimizer_v2/adam.py:114: UserWarning: The `lr` argument is deprecated, use `learning_rate` instead.\n",
      "  super().__init__(name, **kwargs)\n"
     ]
    },
    {
     "name": "stdout",
     "output_type": "stream",
     "text": [
      "frozen dataset 0\n",
      "frozen dataset 1\n",
      "frozen dataset 2\n",
      "frozen dataset 3\n"
     ]
    },
    {
     "name": "stderr",
     "output_type": "stream",
     "text": [
      "/home/argykokk/miniconda3/envs/hls4ml-tutorial/lib/python3.8/site-packages/keras/optimizers/optimizer_v2/adam.py:114: UserWarning: The `lr` argument is deprecated, use `learning_rate` instead.\n",
      "  super().__init__(name, **kwargs)\n"
     ]
    },
    {
     "name": "stdout",
     "output_type": "stream",
     "text": [
      "46/46 [==============================] - 0s 1ms/step - loss: 1.2635 - accuracy: 0.4714\n",
      "accuracy = 0.4714285731315613\n",
      "Interpreting Sequential\n",
      "Topology:\n",
      "Layer name: fc1_input, layer type: Input\n",
      "Layer name: fc1, layer type: QDense\n",
      "Layer name: relu1, layer type: QActivation\n",
      "Layer name: output, layer type: QDense\n",
      "Layer name: softmax, layer type: Activation\n",
      "copy top.v, sim.Xtest, and sim.Ytest to the synopsys project \n"
     ]
    },
    {
     "name": "stderr",
     "output_type": "stream",
     "text": [
      "/home/argykokk/miniconda3/envs/hls4ml-tutorial/lib/python3.8/site-packages/keras/initializers/initializers_v2.py:120: UserWarning: The initializer LecunUniform is unseeded and being called multiple times, which will return identical values  each time (even if the initializer is unseeded). Please update your code to provide a seed to the initializer, or avoid using the same initalizer instance more than once.\n",
      "  warnings.warn(\n"
     ]
    },
    {
     "name": "stdout",
     "output_type": "stream",
     "text": [
      "frozen dataset 0\n",
      "frozen dataset 1\n",
      "frozen dataset 2\n",
      "frozen dataset 3\n",
      "frozen dataset 4\n",
      "frozen dataset 5\n",
      "frozen dataset 6\n",
      "frozen dataset 7\n",
      "frozen dataset 8\n",
      "frozen dataset 9\n",
      "frozen dataset 10\n"
     ]
    },
    {
     "name": "stderr",
     "output_type": "stream",
     "text": [
      "/home/argykokk/miniconda3/envs/hls4ml-tutorial/lib/python3.8/site-packages/keras/optimizers/optimizer_v2/adam.py:114: UserWarning: The `lr` argument is deprecated, use `learning_rate` instead.\n",
      "  super().__init__(name, **kwargs)\n"
     ]
    },
    {
     "name": "stdout",
     "output_type": "stream",
     "text": [
      "frozen dataset 0\n",
      "frozen dataset 1\n",
      "frozen dataset 2\n",
      "frozen dataset 3\n"
     ]
    },
    {
     "name": "stderr",
     "output_type": "stream",
     "text": [
      "/home/argykokk/miniconda3/envs/hls4ml-tutorial/lib/python3.8/site-packages/keras/optimizers/optimizer_v2/adam.py:114: UserWarning: The `lr` argument is deprecated, use `learning_rate` instead.\n",
      "  super().__init__(name, **kwargs)\n"
     ]
    },
    {
     "name": "stdout",
     "output_type": "stream",
     "text": [
      "46/46 [==============================] - 0s 942us/step - loss: 1.2635 - accuracy: 0.4714\n",
      "accuracy = 0.4714285731315613\n",
      "Interpreting Sequential\n",
      "Topology:\n",
      "Layer name: fc1_input, layer type: Input\n",
      "Layer name: fc1, layer type: QDense\n",
      "Layer name: relu1, layer type: QActivation\n",
      "Layer name: output, layer type: QDense\n",
      "Layer name: softmax, layer type: Activation\n",
      "copy top.v, sim.Xtest, and sim.Ytest to the synopsys project \n"
     ]
    },
    {
     "name": "stderr",
     "output_type": "stream",
     "text": [
      "/home/argykokk/miniconda3/envs/hls4ml-tutorial/lib/python3.8/site-packages/keras/initializers/initializers_v2.py:120: UserWarning: The initializer LecunUniform is unseeded and being called multiple times, which will return identical values  each time (even if the initializer is unseeded). Please update your code to provide a seed to the initializer, or avoid using the same initalizer instance more than once.\n",
      "  warnings.warn(\n"
     ]
    },
    {
     "name": "stdout",
     "output_type": "stream",
     "text": [
      "frozen dataset 0\n",
      "frozen dataset 1\n",
      "frozen dataset 2\n",
      "frozen dataset 3\n",
      "frozen dataset 4\n",
      "frozen dataset 5\n",
      "frozen dataset 6\n",
      "frozen dataset 7\n",
      "frozen dataset 8\n",
      "frozen dataset 9\n",
      "frozen dataset 10\n",
      "frozen dataset 0\n",
      "frozen dataset 1\n",
      "frozen dataset 2\n",
      "frozen dataset 3\n"
     ]
    },
    {
     "name": "stderr",
     "output_type": "stream",
     "text": [
      "/home/argykokk/miniconda3/envs/hls4ml-tutorial/lib/python3.8/site-packages/keras/optimizers/optimizer_v2/adam.py:114: UserWarning: The `lr` argument is deprecated, use `learning_rate` instead.\n",
      "  super().__init__(name, **kwargs)\n",
      "/home/argykokk/miniconda3/envs/hls4ml-tutorial/lib/python3.8/site-packages/keras/optimizers/optimizer_v2/adam.py:114: UserWarning: The `lr` argument is deprecated, use `learning_rate` instead.\n",
      "  super().__init__(name, **kwargs)\n"
     ]
    },
    {
     "name": "stdout",
     "output_type": "stream",
     "text": [
      "46/46 [==============================] - 0s 1ms/step - loss: 1.2635 - accuracy: 0.4714\n",
      "accuracy = 0.4714285731315613\n",
      "Interpreting Sequential\n",
      "Topology:\n",
      "Layer name: fc1_input, layer type: Input\n",
      "Layer name: fc1, layer type: QDense\n",
      "Layer name: relu1, layer type: QActivation\n",
      "Layer name: output, layer type: QDense\n",
      "Layer name: softmax, layer type: Activation\n",
      "copy top.v, sim.Xtest, and sim.Ytest to the synopsys project \n"
     ]
    },
    {
     "name": "stderr",
     "output_type": "stream",
     "text": [
      "/home/argykokk/miniconda3/envs/hls4ml-tutorial/lib/python3.8/site-packages/keras/initializers/initializers_v2.py:120: UserWarning: The initializer LecunUniform is unseeded and being called multiple times, which will return identical values  each time (even if the initializer is unseeded). Please update your code to provide a seed to the initializer, or avoid using the same initalizer instance more than once.\n",
      "  warnings.warn(\n"
     ]
    },
    {
     "name": "stdout",
     "output_type": "stream",
     "text": [
      "frozen dataset 0\n",
      "frozen dataset 1\n",
      "frozen dataset 2\n",
      "frozen dataset 3\n",
      "frozen dataset 4\n",
      "frozen dataset 5\n",
      "frozen dataset 6\n",
      "frozen dataset 7\n",
      "frozen dataset 8\n",
      "frozen dataset 9\n",
      "frozen dataset 10\n"
     ]
    },
    {
     "name": "stderr",
     "output_type": "stream",
     "text": [
      "/home/argykokk/miniconda3/envs/hls4ml-tutorial/lib/python3.8/site-packages/keras/optimizers/optimizer_v2/adam.py:114: UserWarning: The `lr` argument is deprecated, use `learning_rate` instead.\n",
      "  super().__init__(name, **kwargs)\n"
     ]
    },
    {
     "name": "stdout",
     "output_type": "stream",
     "text": [
      "frozen dataset 0\n",
      "frozen dataset 1\n",
      "frozen dataset 2\n",
      "frozen dataset 3\n"
     ]
    },
    {
     "name": "stderr",
     "output_type": "stream",
     "text": [
      "/home/argykokk/miniconda3/envs/hls4ml-tutorial/lib/python3.8/site-packages/keras/optimizers/optimizer_v2/adam.py:114: UserWarning: The `lr` argument is deprecated, use `learning_rate` instead.\n",
      "  super().__init__(name, **kwargs)\n"
     ]
    },
    {
     "name": "stdout",
     "output_type": "stream",
     "text": [
      "46/46 [==============================] - 0s 1ms/step - loss: 1.2635 - accuracy: 0.4714\n",
      "accuracy = 0.4714285731315613\n",
      "Interpreting Sequential\n",
      "Topology:\n",
      "Layer name: fc1_input, layer type: Input\n",
      "Layer name: fc1, layer type: QDense\n",
      "Layer name: relu1, layer type: QActivation\n",
      "Layer name: output, layer type: QDense\n",
      "Layer name: softmax, layer type: Activation\n",
      "copy top.v, sim.Xtest, and sim.Ytest to the synopsys project \n"
     ]
    },
    {
     "name": "stderr",
     "output_type": "stream",
     "text": [
      "/home/argykokk/miniconda3/envs/hls4ml-tutorial/lib/python3.8/site-packages/keras/initializers/initializers_v2.py:120: UserWarning: The initializer LecunUniform is unseeded and being called multiple times, which will return identical values  each time (even if the initializer is unseeded). Please update your code to provide a seed to the initializer, or avoid using the same initalizer instance more than once.\n",
      "  warnings.warn(\n"
     ]
    },
    {
     "name": "stdout",
     "output_type": "stream",
     "text": [
      "frozen dataset 0\n",
      "frozen dataset 1\n",
      "frozen dataset 2\n",
      "frozen dataset 3\n",
      "frozen dataset 4\n",
      "frozen dataset 5\n",
      "frozen dataset 6\n",
      "frozen dataset 7\n",
      "frozen dataset 8\n",
      "frozen dataset 9\n",
      "frozen dataset 10\n"
     ]
    },
    {
     "name": "stderr",
     "output_type": "stream",
     "text": [
      "/home/argykokk/miniconda3/envs/hls4ml-tutorial/lib/python3.8/site-packages/keras/optimizers/optimizer_v2/adam.py:114: UserWarning: The `lr` argument is deprecated, use `learning_rate` instead.\n",
      "  super().__init__(name, **kwargs)\n"
     ]
    },
    {
     "name": "stdout",
     "output_type": "stream",
     "text": [
      "frozen dataset 0\n",
      "frozen dataset 1\n",
      "frozen dataset 2\n",
      "frozen dataset 3\n"
     ]
    },
    {
     "name": "stderr",
     "output_type": "stream",
     "text": [
      "/home/argykokk/miniconda3/envs/hls4ml-tutorial/lib/python3.8/site-packages/keras/optimizers/optimizer_v2/adam.py:114: UserWarning: The `lr` argument is deprecated, use `learning_rate` instead.\n",
      "  super().__init__(name, **kwargs)\n"
     ]
    },
    {
     "name": "stdout",
     "output_type": "stream",
     "text": [
      "46/46 [==============================] - 0s 1ms/step - loss: 1.2635 - accuracy: 0.4714\n",
      "accuracy = 0.4714285731315613\n",
      "Interpreting Sequential\n",
      "Topology:\n",
      "Layer name: fc1_input, layer type: Input\n",
      "Layer name: fc1, layer type: QDense\n",
      "Layer name: relu1, layer type: QActivation\n",
      "Layer name: output, layer type: QDense\n",
      "Layer name: softmax, layer type: Activation\n",
      "copy top.v, sim.Xtest, and sim.Ytest to the synopsys project \n"
     ]
    },
    {
     "name": "stderr",
     "output_type": "stream",
     "text": [
      "/home/argykokk/miniconda3/envs/hls4ml-tutorial/lib/python3.8/site-packages/keras/initializers/initializers_v2.py:120: UserWarning: The initializer LecunUniform is unseeded and being called multiple times, which will return identical values  each time (even if the initializer is unseeded). Please update your code to provide a seed to the initializer, or avoid using the same initalizer instance more than once.\n",
      "  warnings.warn(\n"
     ]
    },
    {
     "name": "stdout",
     "output_type": "stream",
     "text": [
      "frozen dataset 0\n",
      "frozen dataset 1\n",
      "frozen dataset 2\n",
      "frozen dataset 3\n",
      "frozen dataset 4\n",
      "frozen dataset 5\n",
      "frozen dataset 6\n",
      "frozen dataset 7\n",
      "frozen dataset 8\n",
      "frozen dataset 9\n",
      "frozen dataset 10\n"
     ]
    },
    {
     "name": "stderr",
     "output_type": "stream",
     "text": [
      "/home/argykokk/miniconda3/envs/hls4ml-tutorial/lib/python3.8/site-packages/keras/optimizers/optimizer_v2/adam.py:114: UserWarning: The `lr` argument is deprecated, use `learning_rate` instead.\n",
      "  super().__init__(name, **kwargs)\n"
     ]
    },
    {
     "name": "stdout",
     "output_type": "stream",
     "text": [
      "frozen dataset 0\n",
      "frozen dataset 1\n",
      "frozen dataset 2\n",
      "frozen dataset 3\n"
     ]
    },
    {
     "name": "stderr",
     "output_type": "stream",
     "text": [
      "/home/argykokk/miniconda3/envs/hls4ml-tutorial/lib/python3.8/site-packages/keras/optimizers/optimizer_v2/adam.py:114: UserWarning: The `lr` argument is deprecated, use `learning_rate` instead.\n",
      "  super().__init__(name, **kwargs)\n"
     ]
    },
    {
     "name": "stdout",
     "output_type": "stream",
     "text": [
      "46/46 [==============================] - 0s 1ms/step - loss: 1.2635 - accuracy: 0.4714\n",
      "accuracy = 0.4714285731315613\n",
      "Interpreting Sequential\n",
      "Topology:\n",
      "Layer name: fc1_input, layer type: Input\n",
      "Layer name: fc1, layer type: QDense\n",
      "Layer name: relu1, layer type: QActivation\n",
      "Layer name: output, layer type: QDense\n",
      "Layer name: softmax, layer type: Activation\n",
      "copy top.v, sim.Xtest, and sim.Ytest to the synopsys project \n"
     ]
    },
    {
     "name": "stderr",
     "output_type": "stream",
     "text": [
      "/home/argykokk/miniconda3/envs/hls4ml-tutorial/lib/python3.8/site-packages/keras/initializers/initializers_v2.py:120: UserWarning: The initializer LecunUniform is unseeded and being called multiple times, which will return identical values  each time (even if the initializer is unseeded). Please update your code to provide a seed to the initializer, or avoid using the same initalizer instance more than once.\n",
      "  warnings.warn(\n"
     ]
    },
    {
     "name": "stdout",
     "output_type": "stream",
     "text": [
      "frozen dataset 0\n",
      "frozen dataset 1\n",
      "frozen dataset 2\n",
      "frozen dataset 3\n",
      "frozen dataset 4\n",
      "frozen dataset 5\n",
      "frozen dataset 6\n",
      "frozen dataset 7\n",
      "frozen dataset 8\n",
      "frozen dataset 9\n",
      "frozen dataset 10\n"
     ]
    },
    {
     "name": "stderr",
     "output_type": "stream",
     "text": [
      "/home/argykokk/miniconda3/envs/hls4ml-tutorial/lib/python3.8/site-packages/keras/optimizers/optimizer_v2/adam.py:114: UserWarning: The `lr` argument is deprecated, use `learning_rate` instead.\n",
      "  super().__init__(name, **kwargs)\n"
     ]
    },
    {
     "name": "stdout",
     "output_type": "stream",
     "text": [
      "frozen dataset 0\n",
      "frozen dataset 1\n",
      "frozen dataset 2\n",
      "frozen dataset 3\n"
     ]
    },
    {
     "name": "stderr",
     "output_type": "stream",
     "text": [
      "/home/argykokk/miniconda3/envs/hls4ml-tutorial/lib/python3.8/site-packages/keras/optimizers/optimizer_v2/adam.py:114: UserWarning: The `lr` argument is deprecated, use `learning_rate` instead.\n",
      "  super().__init__(name, **kwargs)\n"
     ]
    },
    {
     "name": "stdout",
     "output_type": "stream",
     "text": [
      "46/46 [==============================] - 1s 1ms/step - loss: 1.2635 - accuracy: 0.4714\n",
      "accuracy = 0.4714285731315613\n",
      "Interpreting Sequential\n",
      "Topology:\n",
      "Layer name: fc1_input, layer type: Input\n",
      "Layer name: fc1, layer type: QDense\n",
      "Layer name: relu1, layer type: QActivation\n",
      "Layer name: output, layer type: QDense\n",
      "Layer name: softmax, layer type: Activation\n",
      "copy top.v, sim.Xtest, and sim.Ytest to the synopsys project \n"
     ]
    },
    {
     "name": "stderr",
     "output_type": "stream",
     "text": [
      "/home/argykokk/miniconda3/envs/hls4ml-tutorial/lib/python3.8/site-packages/keras/initializers/initializers_v2.py:120: UserWarning: The initializer LecunUniform is unseeded and being called multiple times, which will return identical values  each time (even if the initializer is unseeded). Please update your code to provide a seed to the initializer, or avoid using the same initalizer instance more than once.\n",
      "  warnings.warn(\n"
     ]
    },
    {
     "name": "stdout",
     "output_type": "stream",
     "text": [
      "frozen dataset 0\n",
      "frozen dataset 1\n",
      "frozen dataset 2\n",
      "frozen dataset 3\n",
      "frozen dataset 4\n",
      "frozen dataset 5\n",
      "frozen dataset 6\n",
      "frozen dataset 7\n",
      "frozen dataset 8\n",
      "frozen dataset 9\n",
      "frozen dataset 10\n",
      "frozen dataset 0\n",
      "frozen dataset 1\n",
      "frozen dataset 2\n",
      "frozen dataset 3\n"
     ]
    },
    {
     "name": "stderr",
     "output_type": "stream",
     "text": [
      "/home/argykokk/miniconda3/envs/hls4ml-tutorial/lib/python3.8/site-packages/keras/optimizers/optimizer_v2/adam.py:114: UserWarning: The `lr` argument is deprecated, use `learning_rate` instead.\n",
      "  super().__init__(name, **kwargs)\n",
      "/home/argykokk/miniconda3/envs/hls4ml-tutorial/lib/python3.8/site-packages/keras/optimizers/optimizer_v2/adam.py:114: UserWarning: The `lr` argument is deprecated, use `learning_rate` instead.\n",
      "  super().__init__(name, **kwargs)\n"
     ]
    },
    {
     "name": "stdout",
     "output_type": "stream",
     "text": [
      "46/46 [==============================] - 0s 1ms/step - loss: 1.2635 - accuracy: 0.4714\n",
      "accuracy = 0.4714285731315613\n",
      "Interpreting Sequential\n",
      "Topology:\n",
      "Layer name: fc1_input, layer type: Input\n",
      "Layer name: fc1, layer type: QDense\n",
      "Layer name: relu1, layer type: QActivation\n",
      "Layer name: output, layer type: QDense\n",
      "Layer name: softmax, layer type: Activation\n",
      "copy top.v, sim.Xtest, and sim.Ytest to the synopsys project \n"
     ]
    },
    {
     "name": "stderr",
     "output_type": "stream",
     "text": [
      "/home/argykokk/miniconda3/envs/hls4ml-tutorial/lib/python3.8/site-packages/keras/initializers/initializers_v2.py:120: UserWarning: The initializer LecunUniform is unseeded and being called multiple times, which will return identical values  each time (even if the initializer is unseeded). Please update your code to provide a seed to the initializer, or avoid using the same initalizer instance more than once.\n",
      "  warnings.warn(\n"
     ]
    },
    {
     "name": "stdout",
     "output_type": "stream",
     "text": [
      "frozen dataset 0\n",
      "frozen dataset 1\n",
      "frozen dataset 2\n",
      "frozen dataset 3\n",
      "frozen dataset 4\n",
      "frozen dataset 5\n",
      "frozen dataset 6\n",
      "frozen dataset 7\n",
      "frozen dataset 8\n",
      "frozen dataset 9\n",
      "frozen dataset 10\n"
     ]
    },
    {
     "name": "stderr",
     "output_type": "stream",
     "text": [
      "/home/argykokk/miniconda3/envs/hls4ml-tutorial/lib/python3.8/site-packages/keras/optimizers/optimizer_v2/adam.py:114: UserWarning: The `lr` argument is deprecated, use `learning_rate` instead.\n",
      "  super().__init__(name, **kwargs)\n"
     ]
    },
    {
     "name": "stdout",
     "output_type": "stream",
     "text": [
      "frozen dataset 0\n",
      "frozen dataset 1\n",
      "frozen dataset 2\n",
      "frozen dataset 3\n"
     ]
    },
    {
     "name": "stderr",
     "output_type": "stream",
     "text": [
      "/home/argykokk/miniconda3/envs/hls4ml-tutorial/lib/python3.8/site-packages/keras/optimizers/optimizer_v2/adam.py:114: UserWarning: The `lr` argument is deprecated, use `learning_rate` instead.\n",
      "  super().__init__(name, **kwargs)\n"
     ]
    },
    {
     "name": "stdout",
     "output_type": "stream",
     "text": [
      "46/46 [==============================] - 0s 1ms/step - loss: 1.2635 - accuracy: 0.4714\n",
      "accuracy = 0.4714285731315613\n",
      "Interpreting Sequential\n",
      "Topology:\n",
      "Layer name: fc1_input, layer type: Input\n",
      "Layer name: fc1, layer type: QDense\n",
      "Layer name: relu1, layer type: QActivation\n",
      "Layer name: output, layer type: QDense\n",
      "Layer name: softmax, layer type: Activation\n",
      "copy top.v, sim.Xtest, and sim.Ytest to the synopsys project \n"
     ]
    },
    {
     "name": "stderr",
     "output_type": "stream",
     "text": [
      "/home/argykokk/miniconda3/envs/hls4ml-tutorial/lib/python3.8/site-packages/keras/initializers/initializers_v2.py:120: UserWarning: The initializer LecunUniform is unseeded and being called multiple times, which will return identical values  each time (even if the initializer is unseeded). Please update your code to provide a seed to the initializer, or avoid using the same initalizer instance more than once.\n",
      "  warnings.warn(\n"
     ]
    },
    {
     "name": "stdout",
     "output_type": "stream",
     "text": [
      "frozen dataset 0\n",
      "frozen dataset 1\n",
      "frozen dataset 2\n",
      "frozen dataset 3\n",
      "frozen dataset 4\n",
      "frozen dataset 5\n",
      "frozen dataset 6\n",
      "frozen dataset 7\n",
      "frozen dataset 8\n",
      "frozen dataset 9\n",
      "frozen dataset 10\n"
     ]
    },
    {
     "name": "stderr",
     "output_type": "stream",
     "text": [
      "/home/argykokk/miniconda3/envs/hls4ml-tutorial/lib/python3.8/site-packages/keras/optimizers/optimizer_v2/adam.py:114: UserWarning: The `lr` argument is deprecated, use `learning_rate` instead.\n",
      "  super().__init__(name, **kwargs)\n"
     ]
    },
    {
     "name": "stdout",
     "output_type": "stream",
     "text": [
      "frozen dataset 0\n",
      "frozen dataset 1\n",
      "frozen dataset 2\n",
      "frozen dataset 3\n"
     ]
    },
    {
     "name": "stderr",
     "output_type": "stream",
     "text": [
      "/home/argykokk/miniconda3/envs/hls4ml-tutorial/lib/python3.8/site-packages/keras/optimizers/optimizer_v2/adam.py:114: UserWarning: The `lr` argument is deprecated, use `learning_rate` instead.\n",
      "  super().__init__(name, **kwargs)\n"
     ]
    },
    {
     "name": "stdout",
     "output_type": "stream",
     "text": [
      "46/46 [==============================] - 0s 1ms/step - loss: 1.2635 - accuracy: 0.4714\n",
      "accuracy = 0.4714285731315613\n",
      "Interpreting Sequential\n",
      "Topology:\n",
      "Layer name: fc1_input, layer type: Input\n",
      "Layer name: fc1, layer type: QDense\n",
      "Layer name: relu1, layer type: QActivation\n",
      "Layer name: output, layer type: QDense\n",
      "Layer name: softmax, layer type: Activation\n",
      "copy top.v, sim.Xtest, and sim.Ytest to the synopsys project \n"
     ]
    },
    {
     "name": "stderr",
     "output_type": "stream",
     "text": [
      "/home/argykokk/miniconda3/envs/hls4ml-tutorial/lib/python3.8/site-packages/keras/initializers/initializers_v2.py:120: UserWarning: The initializer LecunUniform is unseeded and being called multiple times, which will return identical values  each time (even if the initializer is unseeded). Please update your code to provide a seed to the initializer, or avoid using the same initalizer instance more than once.\n",
      "  warnings.warn(\n"
     ]
    },
    {
     "name": "stdout",
     "output_type": "stream",
     "text": [
      "frozen dataset 0\n",
      "frozen dataset 1\n",
      "frozen dataset 2\n",
      "frozen dataset 3\n",
      "frozen dataset 4\n",
      "frozen dataset 5\n",
      "frozen dataset 6\n",
      "frozen dataset 7\n",
      "frozen dataset 8\n",
      "frozen dataset 9\n",
      "frozen dataset 10\n"
     ]
    },
    {
     "name": "stderr",
     "output_type": "stream",
     "text": [
      "/home/argykokk/miniconda3/envs/hls4ml-tutorial/lib/python3.8/site-packages/keras/optimizers/optimizer_v2/adam.py:114: UserWarning: The `lr` argument is deprecated, use `learning_rate` instead.\n",
      "  super().__init__(name, **kwargs)\n"
     ]
    },
    {
     "name": "stdout",
     "output_type": "stream",
     "text": [
      "frozen dataset 0\n",
      "frozen dataset 1\n",
      "frozen dataset 2\n",
      "frozen dataset 3\n"
     ]
    },
    {
     "name": "stderr",
     "output_type": "stream",
     "text": [
      "/home/argykokk/miniconda3/envs/hls4ml-tutorial/lib/python3.8/site-packages/keras/optimizers/optimizer_v2/adam.py:114: UserWarning: The `lr` argument is deprecated, use `learning_rate` instead.\n",
      "  super().__init__(name, **kwargs)\n"
     ]
    },
    {
     "name": "stdout",
     "output_type": "stream",
     "text": [
      "46/46 [==============================] - 0s 956us/step - loss: 1.2635 - accuracy: 0.4714\n",
      "accuracy = 0.4714285731315613\n",
      "Interpreting Sequential\n",
      "Topology:\n",
      "Layer name: fc1_input, layer type: Input\n",
      "Layer name: fc1, layer type: QDense\n",
      "Layer name: relu1, layer type: QActivation\n",
      "Layer name: output, layer type: QDense\n",
      "Layer name: softmax, layer type: Activation\n",
      "copy top.v, sim.Xtest, and sim.Ytest to the synopsys project \n"
     ]
    },
    {
     "name": "stderr",
     "output_type": "stream",
     "text": [
      "/home/argykokk/miniconda3/envs/hls4ml-tutorial/lib/python3.8/site-packages/keras/initializers/initializers_v2.py:120: UserWarning: The initializer LecunUniform is unseeded and being called multiple times, which will return identical values  each time (even if the initializer is unseeded). Please update your code to provide a seed to the initializer, or avoid using the same initalizer instance more than once.\n",
      "  warnings.warn(\n"
     ]
    },
    {
     "name": "stdout",
     "output_type": "stream",
     "text": [
      "frozen dataset 0\n",
      "frozen dataset 1\n",
      "frozen dataset 2\n",
      "frozen dataset 3\n",
      "frozen dataset 4\n",
      "frozen dataset 5\n",
      "frozen dataset 6\n",
      "frozen dataset 7\n",
      "frozen dataset 8\n",
      "frozen dataset 9\n",
      "frozen dataset 10\n"
     ]
    },
    {
     "name": "stderr",
     "output_type": "stream",
     "text": [
      "/home/argykokk/miniconda3/envs/hls4ml-tutorial/lib/python3.8/site-packages/keras/optimizers/optimizer_v2/adam.py:114: UserWarning: The `lr` argument is deprecated, use `learning_rate` instead.\n",
      "  super().__init__(name, **kwargs)\n"
     ]
    },
    {
     "name": "stdout",
     "output_type": "stream",
     "text": [
      "frozen dataset 0\n",
      "frozen dataset 1\n",
      "frozen dataset 2\n",
      "frozen dataset 3\n"
     ]
    },
    {
     "name": "stderr",
     "output_type": "stream",
     "text": [
      "/home/argykokk/miniconda3/envs/hls4ml-tutorial/lib/python3.8/site-packages/keras/optimizers/optimizer_v2/adam.py:114: UserWarning: The `lr` argument is deprecated, use `learning_rate` instead.\n",
      "  super().__init__(name, **kwargs)\n"
     ]
    },
    {
     "name": "stdout",
     "output_type": "stream",
     "text": [
      "46/46 [==============================] - 0s 992us/step - loss: 1.2635 - accuracy: 0.4714\n",
      "accuracy = 0.4714285731315613\n",
      "Interpreting Sequential\n",
      "Topology:\n",
      "Layer name: fc1_input, layer type: Input\n",
      "Layer name: fc1, layer type: QDense\n",
      "Layer name: relu1, layer type: QActivation\n",
      "Layer name: output, layer type: QDense\n",
      "Layer name: softmax, layer type: Activation\n",
      "copy top.v, sim.Xtest, and sim.Ytest to the synopsys project \n"
     ]
    },
    {
     "name": "stderr",
     "output_type": "stream",
     "text": [
      "/home/argykokk/miniconda3/envs/hls4ml-tutorial/lib/python3.8/site-packages/keras/initializers/initializers_v2.py:120: UserWarning: The initializer LecunUniform is unseeded and being called multiple times, which will return identical values  each time (even if the initializer is unseeded). Please update your code to provide a seed to the initializer, or avoid using the same initalizer instance more than once.\n",
      "  warnings.warn(\n"
     ]
    },
    {
     "name": "stdout",
     "output_type": "stream",
     "text": [
      "frozen dataset 0\n",
      "frozen dataset 1\n",
      "frozen dataset 2\n",
      "frozen dataset 3\n",
      "frozen dataset 4\n",
      "frozen dataset 5\n",
      "frozen dataset 6\n",
      "frozen dataset 7\n",
      "frozen dataset 8\n",
      "frozen dataset 9\n",
      "frozen dataset 10\n"
     ]
    },
    {
     "name": "stderr",
     "output_type": "stream",
     "text": [
      "/home/argykokk/miniconda3/envs/hls4ml-tutorial/lib/python3.8/site-packages/keras/optimizers/optimizer_v2/adam.py:114: UserWarning: The `lr` argument is deprecated, use `learning_rate` instead.\n",
      "  super().__init__(name, **kwargs)\n"
     ]
    },
    {
     "name": "stdout",
     "output_type": "stream",
     "text": [
      "frozen dataset 0\n",
      "frozen dataset 1\n",
      "frozen dataset 2\n",
      "frozen dataset 3\n"
     ]
    },
    {
     "name": "stderr",
     "output_type": "stream",
     "text": [
      "/home/argykokk/miniconda3/envs/hls4ml-tutorial/lib/python3.8/site-packages/keras/optimizers/optimizer_v2/adam.py:114: UserWarning: The `lr` argument is deprecated, use `learning_rate` instead.\n",
      "  super().__init__(name, **kwargs)\n"
     ]
    },
    {
     "name": "stdout",
     "output_type": "stream",
     "text": [
      "46/46 [==============================] - 0s 1ms/step - loss: 1.2635 - accuracy: 0.4714\n",
      "accuracy = 0.4714285731315613\n",
      "Interpreting Sequential\n",
      "Topology:\n",
      "Layer name: fc1_input, layer type: Input\n",
      "Layer name: fc1, layer type: QDense\n",
      "Layer name: relu1, layer type: QActivation\n",
      "Layer name: output, layer type: QDense\n",
      "Layer name: softmax, layer type: Activation\n",
      "copy top.v, sim.Xtest, and sim.Ytest to the synopsys project \n"
     ]
    },
    {
     "name": "stderr",
     "output_type": "stream",
     "text": [
      "/home/argykokk/miniconda3/envs/hls4ml-tutorial/lib/python3.8/site-packages/keras/initializers/initializers_v2.py:120: UserWarning: The initializer LecunUniform is unseeded and being called multiple times, which will return identical values  each time (even if the initializer is unseeded). Please update your code to provide a seed to the initializer, or avoid using the same initalizer instance more than once.\n",
      "  warnings.warn(\n"
     ]
    },
    {
     "name": "stdout",
     "output_type": "stream",
     "text": [
      "frozen dataset 0\n",
      "frozen dataset 1\n",
      "frozen dataset 2\n",
      "frozen dataset 3\n",
      "frozen dataset 4\n",
      "frozen dataset 5\n",
      "frozen dataset 6\n",
      "frozen dataset 7\n",
      "frozen dataset 8\n",
      "frozen dataset 9\n",
      "frozen dataset 10\n"
     ]
    },
    {
     "name": "stderr",
     "output_type": "stream",
     "text": [
      "/home/argykokk/miniconda3/envs/hls4ml-tutorial/lib/python3.8/site-packages/keras/optimizers/optimizer_v2/adam.py:114: UserWarning: The `lr` argument is deprecated, use `learning_rate` instead.\n",
      "  super().__init__(name, **kwargs)\n"
     ]
    },
    {
     "name": "stdout",
     "output_type": "stream",
     "text": [
      "frozen dataset 0\n",
      "frozen dataset 1\n",
      "frozen dataset 2\n",
      "frozen dataset 3\n"
     ]
    },
    {
     "name": "stderr",
     "output_type": "stream",
     "text": [
      "/home/argykokk/miniconda3/envs/hls4ml-tutorial/lib/python3.8/site-packages/keras/optimizers/optimizer_v2/adam.py:114: UserWarning: The `lr` argument is deprecated, use `learning_rate` instead.\n",
      "  super().__init__(name, **kwargs)\n"
     ]
    },
    {
     "name": "stdout",
     "output_type": "stream",
     "text": [
      "46/46 [==============================] - 0s 1ms/step - loss: 1.2635 - accuracy: 0.4714\n",
      "accuracy = 0.4714285731315613\n",
      "Interpreting Sequential\n",
      "Topology:\n",
      "Layer name: fc1_input, layer type: Input\n",
      "Layer name: fc1, layer type: QDense\n",
      "Layer name: relu1, layer type: QActivation\n",
      "Layer name: output, layer type: QDense\n",
      "Layer name: softmax, layer type: Activation\n",
      "copy top.v, sim.Xtest, and sim.Ytest to the synopsys project \n"
     ]
    },
    {
     "name": "stderr",
     "output_type": "stream",
     "text": [
      "/home/argykokk/miniconda3/envs/hls4ml-tutorial/lib/python3.8/site-packages/keras/initializers/initializers_v2.py:120: UserWarning: The initializer LecunUniform is unseeded and being called multiple times, which will return identical values  each time (even if the initializer is unseeded). Please update your code to provide a seed to the initializer, or avoid using the same initalizer instance more than once.\n",
      "  warnings.warn(\n"
     ]
    },
    {
     "name": "stdout",
     "output_type": "stream",
     "text": [
      "frozen dataset 0\n",
      "frozen dataset 1\n",
      "frozen dataset 2\n",
      "frozen dataset 3\n",
      "frozen dataset 4\n",
      "frozen dataset 5\n",
      "frozen dataset 6\n",
      "frozen dataset 7\n",
      "frozen dataset 8\n",
      "frozen dataset 9\n",
      "frozen dataset 10\n"
     ]
    },
    {
     "name": "stderr",
     "output_type": "stream",
     "text": [
      "/home/argykokk/miniconda3/envs/hls4ml-tutorial/lib/python3.8/site-packages/keras/optimizers/optimizer_v2/adam.py:114: UserWarning: The `lr` argument is deprecated, use `learning_rate` instead.\n",
      "  super().__init__(name, **kwargs)\n"
     ]
    },
    {
     "name": "stdout",
     "output_type": "stream",
     "text": [
      "frozen dataset 0\n",
      "frozen dataset 1\n",
      "frozen dataset 2\n",
      "frozen dataset 3\n"
     ]
    },
    {
     "name": "stderr",
     "output_type": "stream",
     "text": [
      "/home/argykokk/miniconda3/envs/hls4ml-tutorial/lib/python3.8/site-packages/keras/optimizers/optimizer_v2/adam.py:114: UserWarning: The `lr` argument is deprecated, use `learning_rate` instead.\n",
      "  super().__init__(name, **kwargs)\n"
     ]
    },
    {
     "name": "stdout",
     "output_type": "stream",
     "text": [
      "46/46 [==============================] - 0s 1ms/step - loss: 1.2635 - accuracy: 0.4714\n",
      "accuracy = 0.4714285731315613\n",
      "Interpreting Sequential\n",
      "Topology:\n",
      "Layer name: fc1_input, layer type: Input\n",
      "Layer name: fc1, layer type: QDense\n",
      "Layer name: relu1, layer type: QActivation\n",
      "Layer name: output, layer type: QDense\n",
      "Layer name: softmax, layer type: Activation\n",
      "copy top.v, sim.Xtest, and sim.Ytest to the synopsys project \n"
     ]
    },
    {
     "name": "stderr",
     "output_type": "stream",
     "text": [
      "/home/argykokk/miniconda3/envs/hls4ml-tutorial/lib/python3.8/site-packages/keras/initializers/initializers_v2.py:120: UserWarning: The initializer LecunUniform is unseeded and being called multiple times, which will return identical values  each time (even if the initializer is unseeded). Please update your code to provide a seed to the initializer, or avoid using the same initalizer instance more than once.\n",
      "  warnings.warn(\n"
     ]
    },
    {
     "name": "stdout",
     "output_type": "stream",
     "text": [
      "frozen dataset 0\n",
      "frozen dataset 1\n",
      "frozen dataset 2\n",
      "frozen dataset 3\n",
      "frozen dataset 4\n",
      "frozen dataset 5\n",
      "frozen dataset 6\n",
      "frozen dataset 7\n",
      "frozen dataset 8\n",
      "frozen dataset 9\n",
      "frozen dataset 10\n",
      "frozen dataset 0\n",
      "frozen dataset 1\n",
      "frozen dataset 2\n",
      "frozen dataset 3\n"
     ]
    },
    {
     "name": "stderr",
     "output_type": "stream",
     "text": [
      "/home/argykokk/miniconda3/envs/hls4ml-tutorial/lib/python3.8/site-packages/keras/optimizers/optimizer_v2/adam.py:114: UserWarning: The `lr` argument is deprecated, use `learning_rate` instead.\n",
      "  super().__init__(name, **kwargs)\n",
      "/home/argykokk/miniconda3/envs/hls4ml-tutorial/lib/python3.8/site-packages/keras/optimizers/optimizer_v2/adam.py:114: UserWarning: The `lr` argument is deprecated, use `learning_rate` instead.\n",
      "  super().__init__(name, **kwargs)\n"
     ]
    },
    {
     "name": "stdout",
     "output_type": "stream",
     "text": [
      "46/46 [==============================] - 0s 1ms/step - loss: 1.2635 - accuracy: 0.4714\n",
      "accuracy = 0.4714285731315613\n",
      "Interpreting Sequential\n",
      "Topology:\n",
      "Layer name: fc1_input, layer type: Input\n",
      "Layer name: fc1, layer type: QDense\n",
      "Layer name: relu1, layer type: QActivation\n",
      "Layer name: output, layer type: QDense\n",
      "Layer name: softmax, layer type: Activation\n",
      "copy top.v, sim.Xtest, and sim.Ytest to the synopsys project \n"
     ]
    },
    {
     "name": "stderr",
     "output_type": "stream",
     "text": [
      "/home/argykokk/miniconda3/envs/hls4ml-tutorial/lib/python3.8/site-packages/keras/initializers/initializers_v2.py:120: UserWarning: The initializer LecunUniform is unseeded and being called multiple times, which will return identical values  each time (even if the initializer is unseeded). Please update your code to provide a seed to the initializer, or avoid using the same initalizer instance more than once.\n",
      "  warnings.warn(\n"
     ]
    },
    {
     "name": "stdout",
     "output_type": "stream",
     "text": [
      "frozen dataset 0\n",
      "frozen dataset 1\n",
      "frozen dataset 2\n",
      "frozen dataset 3\n",
      "frozen dataset 4\n",
      "frozen dataset 5\n",
      "frozen dataset 6\n",
      "frozen dataset 7\n",
      "frozen dataset 8\n",
      "frozen dataset 9\n",
      "frozen dataset 10\n"
     ]
    },
    {
     "name": "stderr",
     "output_type": "stream",
     "text": [
      "/home/argykokk/miniconda3/envs/hls4ml-tutorial/lib/python3.8/site-packages/keras/optimizers/optimizer_v2/adam.py:114: UserWarning: The `lr` argument is deprecated, use `learning_rate` instead.\n",
      "  super().__init__(name, **kwargs)\n"
     ]
    },
    {
     "name": "stdout",
     "output_type": "stream",
     "text": [
      "frozen dataset 0\n",
      "frozen dataset 1\n",
      "frozen dataset 2\n",
      "frozen dataset 3\n"
     ]
    },
    {
     "name": "stderr",
     "output_type": "stream",
     "text": [
      "/home/argykokk/miniconda3/envs/hls4ml-tutorial/lib/python3.8/site-packages/keras/optimizers/optimizer_v2/adam.py:114: UserWarning: The `lr` argument is deprecated, use `learning_rate` instead.\n",
      "  super().__init__(name, **kwargs)\n"
     ]
    },
    {
     "name": "stdout",
     "output_type": "stream",
     "text": [
      "46/46 [==============================] - 0s 987us/step - loss: 1.2635 - accuracy: 0.4714\n",
      "accuracy = 0.4714285731315613\n",
      "Interpreting Sequential\n",
      "Topology:\n",
      "Layer name: fc1_input, layer type: Input\n",
      "Layer name: fc1, layer type: QDense\n",
      "Layer name: relu1, layer type: QActivation\n",
      "Layer name: output, layer type: QDense\n",
      "Layer name: softmax, layer type: Activation\n",
      "copy top.v, sim.Xtest, and sim.Ytest to the synopsys project \n"
     ]
    },
    {
     "name": "stderr",
     "output_type": "stream",
     "text": [
      "/home/argykokk/miniconda3/envs/hls4ml-tutorial/lib/python3.8/site-packages/keras/initializers/initializers_v2.py:120: UserWarning: The initializer LecunUniform is unseeded and being called multiple times, which will return identical values  each time (even if the initializer is unseeded). Please update your code to provide a seed to the initializer, or avoid using the same initalizer instance more than once.\n",
      "  warnings.warn(\n"
     ]
    },
    {
     "name": "stdout",
     "output_type": "stream",
     "text": [
      "frozen dataset 0\n",
      "frozen dataset 1\n",
      "frozen dataset 2\n",
      "frozen dataset 3\n",
      "frozen dataset 4\n",
      "frozen dataset 5\n",
      "frozen dataset 6\n",
      "frozen dataset 7\n",
      "frozen dataset 8\n",
      "frozen dataset 9\n",
      "frozen dataset 10\n",
      "frozen dataset 0\n",
      "frozen dataset 1\n",
      "frozen dataset 2\n",
      "frozen dataset 3\n"
     ]
    },
    {
     "name": "stderr",
     "output_type": "stream",
     "text": [
      "/home/argykokk/miniconda3/envs/hls4ml-tutorial/lib/python3.8/site-packages/keras/optimizers/optimizer_v2/adam.py:114: UserWarning: The `lr` argument is deprecated, use `learning_rate` instead.\n",
      "  super().__init__(name, **kwargs)\n",
      "/home/argykokk/miniconda3/envs/hls4ml-tutorial/lib/python3.8/site-packages/keras/optimizers/optimizer_v2/adam.py:114: UserWarning: The `lr` argument is deprecated, use `learning_rate` instead.\n",
      "  super().__init__(name, **kwargs)\n"
     ]
    },
    {
     "name": "stdout",
     "output_type": "stream",
     "text": [
      "46/46 [==============================] - 0s 931us/step - loss: 1.2635 - accuracy: 0.4714\n",
      "accuracy = 0.4714285731315613\n",
      "Interpreting Sequential\n",
      "Topology:\n",
      "Layer name: fc1_input, layer type: Input\n",
      "Layer name: fc1, layer type: QDense\n",
      "Layer name: relu1, layer type: QActivation\n",
      "Layer name: output, layer type: QDense\n",
      "Layer name: softmax, layer type: Activation\n",
      "copy top.v, sim.Xtest, and sim.Ytest to the synopsys project \n"
     ]
    },
    {
     "name": "stderr",
     "output_type": "stream",
     "text": [
      "/home/argykokk/miniconda3/envs/hls4ml-tutorial/lib/python3.8/site-packages/keras/initializers/initializers_v2.py:120: UserWarning: The initializer LecunUniform is unseeded and being called multiple times, which will return identical values  each time (even if the initializer is unseeded). Please update your code to provide a seed to the initializer, or avoid using the same initalizer instance more than once.\n",
      "  warnings.warn(\n"
     ]
    },
    {
     "name": "stdout",
     "output_type": "stream",
     "text": [
      "frozen dataset 0\n",
      "frozen dataset 1\n",
      "frozen dataset 2\n",
      "frozen dataset 3\n",
      "frozen dataset 4\n",
      "frozen dataset 5\n",
      "frozen dataset 6\n",
      "frozen dataset 7\n",
      "frozen dataset 8\n",
      "frozen dataset 9\n",
      "frozen dataset 10\n"
     ]
    },
    {
     "name": "stderr",
     "output_type": "stream",
     "text": [
      "/home/argykokk/miniconda3/envs/hls4ml-tutorial/lib/python3.8/site-packages/keras/optimizers/optimizer_v2/adam.py:114: UserWarning: The `lr` argument is deprecated, use `learning_rate` instead.\n",
      "  super().__init__(name, **kwargs)\n"
     ]
    },
    {
     "name": "stdout",
     "output_type": "stream",
     "text": [
      "frozen dataset 0\n",
      "frozen dataset 1\n",
      "frozen dataset 2\n",
      "frozen dataset 3\n"
     ]
    },
    {
     "name": "stderr",
     "output_type": "stream",
     "text": [
      "/home/argykokk/miniconda3/envs/hls4ml-tutorial/lib/python3.8/site-packages/keras/optimizers/optimizer_v2/adam.py:114: UserWarning: The `lr` argument is deprecated, use `learning_rate` instead.\n",
      "  super().__init__(name, **kwargs)\n"
     ]
    },
    {
     "name": "stdout",
     "output_type": "stream",
     "text": [
      "46/46 [==============================] - 0s 1ms/step - loss: 1.2635 - accuracy: 0.4714\n",
      "accuracy = 0.4714285731315613\n",
      "Interpreting Sequential\n",
      "Topology:\n",
      "Layer name: fc1_input, layer type: Input\n",
      "Layer name: fc1, layer type: QDense\n",
      "Layer name: relu1, layer type: QActivation\n",
      "Layer name: output, layer type: QDense\n",
      "Layer name: softmax, layer type: Activation\n",
      "copy top.v, sim.Xtest, and sim.Ytest to the synopsys project \n"
     ]
    },
    {
     "name": "stderr",
     "output_type": "stream",
     "text": [
      "/home/argykokk/miniconda3/envs/hls4ml-tutorial/lib/python3.8/site-packages/keras/initializers/initializers_v2.py:120: UserWarning: The initializer LecunUniform is unseeded and being called multiple times, which will return identical values  each time (even if the initializer is unseeded). Please update your code to provide a seed to the initializer, or avoid using the same initalizer instance more than once.\n",
      "  warnings.warn(\n"
     ]
    },
    {
     "name": "stdout",
     "output_type": "stream",
     "text": [
      "frozen dataset 0\n",
      "frozen dataset 1\n",
      "frozen dataset 2\n",
      "frozen dataset 3\n",
      "frozen dataset 4\n",
      "frozen dataset 5\n",
      "frozen dataset 6\n",
      "frozen dataset 7\n",
      "frozen dataset 8\n",
      "frozen dataset 9\n",
      "frozen dataset 10\n"
     ]
    },
    {
     "name": "stderr",
     "output_type": "stream",
     "text": [
      "/home/argykokk/miniconda3/envs/hls4ml-tutorial/lib/python3.8/site-packages/keras/optimizers/optimizer_v2/adam.py:114: UserWarning: The `lr` argument is deprecated, use `learning_rate` instead.\n",
      "  super().__init__(name, **kwargs)\n"
     ]
    },
    {
     "name": "stdout",
     "output_type": "stream",
     "text": [
      "frozen dataset 0\n",
      "frozen dataset 1\n",
      "frozen dataset 2\n",
      "frozen dataset 3\n"
     ]
    },
    {
     "name": "stderr",
     "output_type": "stream",
     "text": [
      "/home/argykokk/miniconda3/envs/hls4ml-tutorial/lib/python3.8/site-packages/keras/optimizers/optimizer_v2/adam.py:114: UserWarning: The `lr` argument is deprecated, use `learning_rate` instead.\n",
      "  super().__init__(name, **kwargs)\n"
     ]
    },
    {
     "name": "stdout",
     "output_type": "stream",
     "text": [
      "46/46 [==============================] - 0s 1ms/step - loss: 1.2635 - accuracy: 0.4714\n",
      "accuracy = 0.4714285731315613\n",
      "Interpreting Sequential\n",
      "Topology:\n",
      "Layer name: fc1_input, layer type: Input\n",
      "Layer name: fc1, layer type: QDense\n",
      "Layer name: relu1, layer type: QActivation\n",
      "Layer name: output, layer type: QDense\n",
      "Layer name: softmax, layer type: Activation\n",
      "copy top.v, sim.Xtest, and sim.Ytest to the synopsys project \n"
     ]
    },
    {
     "name": "stderr",
     "output_type": "stream",
     "text": [
      "/home/argykokk/miniconda3/envs/hls4ml-tutorial/lib/python3.8/site-packages/keras/initializers/initializers_v2.py:120: UserWarning: The initializer LecunUniform is unseeded and being called multiple times, which will return identical values  each time (even if the initializer is unseeded). Please update your code to provide a seed to the initializer, or avoid using the same initalizer instance more than once.\n",
      "  warnings.warn(\n"
     ]
    },
    {
     "name": "stdout",
     "output_type": "stream",
     "text": [
      "frozen dataset 0\n",
      "frozen dataset 1\n",
      "frozen dataset 2\n",
      "frozen dataset 3\n",
      "frozen dataset 4\n",
      "frozen dataset 5\n",
      "frozen dataset 6\n",
      "frozen dataset 7\n",
      "frozen dataset 8\n",
      "frozen dataset 9\n",
      "frozen dataset 10\n"
     ]
    },
    {
     "name": "stderr",
     "output_type": "stream",
     "text": [
      "/home/argykokk/miniconda3/envs/hls4ml-tutorial/lib/python3.8/site-packages/keras/optimizers/optimizer_v2/adam.py:114: UserWarning: The `lr` argument is deprecated, use `learning_rate` instead.\n",
      "  super().__init__(name, **kwargs)\n"
     ]
    },
    {
     "name": "stdout",
     "output_type": "stream",
     "text": [
      "frozen dataset 0\n",
      "frozen dataset 1\n",
      "frozen dataset 2\n",
      "frozen dataset 3\n"
     ]
    },
    {
     "name": "stderr",
     "output_type": "stream",
     "text": [
      "/home/argykokk/miniconda3/envs/hls4ml-tutorial/lib/python3.8/site-packages/keras/optimizers/optimizer_v2/adam.py:114: UserWarning: The `lr` argument is deprecated, use `learning_rate` instead.\n",
      "  super().__init__(name, **kwargs)\n"
     ]
    },
    {
     "name": "stdout",
     "output_type": "stream",
     "text": [
      "46/46 [==============================] - 0s 1ms/step - loss: 1.2635 - accuracy: 0.4714\n",
      "accuracy = 0.4714285731315613\n",
      "Interpreting Sequential\n",
      "Topology:\n",
      "Layer name: fc1_input, layer type: Input\n",
      "Layer name: fc1, layer type: QDense\n",
      "Layer name: relu1, layer type: QActivation\n",
      "Layer name: output, layer type: QDense\n",
      "Layer name: softmax, layer type: Activation\n",
      "copy top.v, sim.Xtest, and sim.Ytest to the synopsys project \n"
     ]
    },
    {
     "name": "stderr",
     "output_type": "stream",
     "text": [
      "/home/argykokk/miniconda3/envs/hls4ml-tutorial/lib/python3.8/site-packages/keras/initializers/initializers_v2.py:120: UserWarning: The initializer LecunUniform is unseeded and being called multiple times, which will return identical values  each time (even if the initializer is unseeded). Please update your code to provide a seed to the initializer, or avoid using the same initalizer instance more than once.\n",
      "  warnings.warn(\n"
     ]
    },
    {
     "name": "stdout",
     "output_type": "stream",
     "text": [
      "frozen dataset 0\n",
      "frozen dataset 1\n",
      "frozen dataset 2\n",
      "frozen dataset 3\n",
      "frozen dataset 4\n",
      "frozen dataset 5\n",
      "frozen dataset 6\n",
      "frozen dataset 7\n",
      "frozen dataset 8\n",
      "frozen dataset 9\n",
      "frozen dataset 10\n"
     ]
    },
    {
     "name": "stderr",
     "output_type": "stream",
     "text": [
      "/home/argykokk/miniconda3/envs/hls4ml-tutorial/lib/python3.8/site-packages/keras/optimizers/optimizer_v2/adam.py:114: UserWarning: The `lr` argument is deprecated, use `learning_rate` instead.\n",
      "  super().__init__(name, **kwargs)\n"
     ]
    },
    {
     "name": "stdout",
     "output_type": "stream",
     "text": [
      "frozen dataset 0\n",
      "frozen dataset 1\n",
      "frozen dataset 2\n",
      "frozen dataset 3\n"
     ]
    },
    {
     "name": "stderr",
     "output_type": "stream",
     "text": [
      "/home/argykokk/miniconda3/envs/hls4ml-tutorial/lib/python3.8/site-packages/keras/optimizers/optimizer_v2/adam.py:114: UserWarning: The `lr` argument is deprecated, use `learning_rate` instead.\n",
      "  super().__init__(name, **kwargs)\n"
     ]
    },
    {
     "name": "stdout",
     "output_type": "stream",
     "text": [
      "46/46 [==============================] - 0s 1ms/step - loss: 1.2635 - accuracy: 0.4714\n",
      "accuracy = 0.4714285731315613\n",
      "Interpreting Sequential\n",
      "Topology:\n",
      "Layer name: fc1_input, layer type: Input\n",
      "Layer name: fc1, layer type: QDense\n",
      "Layer name: relu1, layer type: QActivation\n",
      "Layer name: output, layer type: QDense\n",
      "Layer name: softmax, layer type: Activation\n",
      "copy top.v, sim.Xtest, and sim.Ytest to the synopsys project \n"
     ]
    },
    {
     "name": "stderr",
     "output_type": "stream",
     "text": [
      "/home/argykokk/miniconda3/envs/hls4ml-tutorial/lib/python3.8/site-packages/keras/initializers/initializers_v2.py:120: UserWarning: The initializer LecunUniform is unseeded and being called multiple times, which will return identical values  each time (even if the initializer is unseeded). Please update your code to provide a seed to the initializer, or avoid using the same initalizer instance more than once.\n",
      "  warnings.warn(\n"
     ]
    },
    {
     "name": "stdout",
     "output_type": "stream",
     "text": [
      "frozen dataset 0\n",
      "frozen dataset 1\n",
      "frozen dataset 2\n",
      "frozen dataset 3\n",
      "frozen dataset 4\n",
      "frozen dataset 5\n",
      "frozen dataset 6\n",
      "frozen dataset 7\n",
      "frozen dataset 8\n",
      "frozen dataset 9\n",
      "frozen dataset 10\n"
     ]
    },
    {
     "name": "stderr",
     "output_type": "stream",
     "text": [
      "/home/argykokk/miniconda3/envs/hls4ml-tutorial/lib/python3.8/site-packages/keras/optimizers/optimizer_v2/adam.py:114: UserWarning: The `lr` argument is deprecated, use `learning_rate` instead.\n",
      "  super().__init__(name, **kwargs)\n"
     ]
    },
    {
     "name": "stdout",
     "output_type": "stream",
     "text": [
      "frozen dataset 0\n",
      "frozen dataset 1\n",
      "frozen dataset 2\n",
      "frozen dataset 3\n"
     ]
    },
    {
     "name": "stderr",
     "output_type": "stream",
     "text": [
      "/home/argykokk/miniconda3/envs/hls4ml-tutorial/lib/python3.8/site-packages/keras/optimizers/optimizer_v2/adam.py:114: UserWarning: The `lr` argument is deprecated, use `learning_rate` instead.\n",
      "  super().__init__(name, **kwargs)\n"
     ]
    },
    {
     "name": "stdout",
     "output_type": "stream",
     "text": [
      "46/46 [==============================] - 0s 992us/step - loss: 1.2635 - accuracy: 0.4714\n",
      "accuracy = 0.4714285731315613\n",
      "Interpreting Sequential\n",
      "Topology:\n",
      "Layer name: fc1_input, layer type: Input\n",
      "Layer name: fc1, layer type: QDense\n",
      "Layer name: relu1, layer type: QActivation\n",
      "Layer name: output, layer type: QDense\n",
      "Layer name: softmax, layer type: Activation\n",
      "copy top.v, sim.Xtest, and sim.Ytest to the synopsys project \n"
     ]
    },
    {
     "name": "stderr",
     "output_type": "stream",
     "text": [
      "/home/argykokk/miniconda3/envs/hls4ml-tutorial/lib/python3.8/site-packages/keras/initializers/initializers_v2.py:120: UserWarning: The initializer LecunUniform is unseeded and being called multiple times, which will return identical values  each time (even if the initializer is unseeded). Please update your code to provide a seed to the initializer, or avoid using the same initalizer instance more than once.\n",
      "  warnings.warn(\n"
     ]
    },
    {
     "name": "stdout",
     "output_type": "stream",
     "text": [
      "frozen dataset 0\n",
      "frozen dataset 1\n",
      "frozen dataset 2\n",
      "frozen dataset 3\n",
      "frozen dataset 4\n",
      "frozen dataset 5\n",
      "frozen dataset 6\n",
      "frozen dataset 7\n",
      "frozen dataset 8\n",
      "frozen dataset 9\n",
      "frozen dataset 10\n"
     ]
    },
    {
     "name": "stderr",
     "output_type": "stream",
     "text": [
      "/home/argykokk/miniconda3/envs/hls4ml-tutorial/lib/python3.8/site-packages/keras/optimizers/optimizer_v2/adam.py:114: UserWarning: The `lr` argument is deprecated, use `learning_rate` instead.\n",
      "  super().__init__(name, **kwargs)\n"
     ]
    },
    {
     "name": "stdout",
     "output_type": "stream",
     "text": [
      "frozen dataset 0\n",
      "frozen dataset 1\n",
      "frozen dataset 2\n",
      "frozen dataset 3\n"
     ]
    },
    {
     "name": "stderr",
     "output_type": "stream",
     "text": [
      "/home/argykokk/miniconda3/envs/hls4ml-tutorial/lib/python3.8/site-packages/keras/optimizers/optimizer_v2/adam.py:114: UserWarning: The `lr` argument is deprecated, use `learning_rate` instead.\n",
      "  super().__init__(name, **kwargs)\n"
     ]
    },
    {
     "name": "stdout",
     "output_type": "stream",
     "text": [
      "46/46 [==============================] - 0s 1ms/step - loss: 1.2635 - accuracy: 0.4714\n",
      "accuracy = 0.4714285731315613\n",
      "Interpreting Sequential\n",
      "Topology:\n",
      "Layer name: fc1_input, layer type: Input\n",
      "Layer name: fc1, layer type: QDense\n",
      "Layer name: relu1, layer type: QActivation\n",
      "Layer name: output, layer type: QDense\n",
      "Layer name: softmax, layer type: Activation\n",
      "copy top.v, sim.Xtest, and sim.Ytest to the synopsys project \n"
     ]
    },
    {
     "name": "stderr",
     "output_type": "stream",
     "text": [
      "/home/argykokk/miniconda3/envs/hls4ml-tutorial/lib/python3.8/site-packages/keras/initializers/initializers_v2.py:120: UserWarning: The initializer LecunUniform is unseeded and being called multiple times, which will return identical values  each time (even if the initializer is unseeded). Please update your code to provide a seed to the initializer, or avoid using the same initalizer instance more than once.\n",
      "  warnings.warn(\n"
     ]
    },
    {
     "name": "stdout",
     "output_type": "stream",
     "text": [
      "frozen dataset 0\n",
      "frozen dataset 1\n",
      "frozen dataset 2\n",
      "frozen dataset 3\n",
      "frozen dataset 4\n",
      "frozen dataset 5\n",
      "frozen dataset 6\n",
      "frozen dataset 7\n",
      "frozen dataset 8\n",
      "frozen dataset 9\n",
      "frozen dataset 10\n",
      "frozen dataset 0\n",
      "frozen dataset 1\n",
      "frozen dataset 2\n",
      "frozen dataset 3\n"
     ]
    },
    {
     "name": "stderr",
     "output_type": "stream",
     "text": [
      "/home/argykokk/miniconda3/envs/hls4ml-tutorial/lib/python3.8/site-packages/keras/optimizers/optimizer_v2/adam.py:114: UserWarning: The `lr` argument is deprecated, use `learning_rate` instead.\n",
      "  super().__init__(name, **kwargs)\n",
      "/home/argykokk/miniconda3/envs/hls4ml-tutorial/lib/python3.8/site-packages/keras/optimizers/optimizer_v2/adam.py:114: UserWarning: The `lr` argument is deprecated, use `learning_rate` instead.\n",
      "  super().__init__(name, **kwargs)\n"
     ]
    },
    {
     "name": "stdout",
     "output_type": "stream",
     "text": [
      "46/46 [==============================] - 0s 1ms/step - loss: 1.2635 - accuracy: 0.4714\n",
      "accuracy = 0.4714285731315613\n",
      "Interpreting Sequential\n",
      "Topology:\n",
      "Layer name: fc1_input, layer type: Input\n",
      "Layer name: fc1, layer type: QDense\n",
      "Layer name: relu1, layer type: QActivation\n",
      "Layer name: output, layer type: QDense\n",
      "Layer name: softmax, layer type: Activation\n",
      "copy top.v, sim.Xtest, and sim.Ytest to the synopsys project \n"
     ]
    },
    {
     "name": "stderr",
     "output_type": "stream",
     "text": [
      "/home/argykokk/miniconda3/envs/hls4ml-tutorial/lib/python3.8/site-packages/keras/initializers/initializers_v2.py:120: UserWarning: The initializer LecunUniform is unseeded and being called multiple times, which will return identical values  each time (even if the initializer is unseeded). Please update your code to provide a seed to the initializer, or avoid using the same initalizer instance more than once.\n",
      "  warnings.warn(\n"
     ]
    },
    {
     "name": "stdout",
     "output_type": "stream",
     "text": [
      "frozen dataset 0\n",
      "frozen dataset 1\n",
      "frozen dataset 2\n",
      "frozen dataset 3\n",
      "frozen dataset 4\n",
      "frozen dataset 5\n",
      "frozen dataset 6\n",
      "frozen dataset 7\n",
      "frozen dataset 8\n",
      "frozen dataset 9\n",
      "frozen dataset 10\n",
      "frozen dataset 0\n",
      "frozen dataset 1\n",
      "frozen dataset 2\n",
      "frozen dataset 3\n"
     ]
    },
    {
     "name": "stderr",
     "output_type": "stream",
     "text": [
      "/home/argykokk/miniconda3/envs/hls4ml-tutorial/lib/python3.8/site-packages/keras/optimizers/optimizer_v2/adam.py:114: UserWarning: The `lr` argument is deprecated, use `learning_rate` instead.\n",
      "  super().__init__(name, **kwargs)\n",
      "/home/argykokk/miniconda3/envs/hls4ml-tutorial/lib/python3.8/site-packages/keras/optimizers/optimizer_v2/adam.py:114: UserWarning: The `lr` argument is deprecated, use `learning_rate` instead.\n",
      "  super().__init__(name, **kwargs)\n"
     ]
    },
    {
     "name": "stdout",
     "output_type": "stream",
     "text": [
      "46/46 [==============================] - 0s 1ms/step - loss: 1.2635 - accuracy: 0.4714\n",
      "accuracy = 0.4714285731315613\n",
      "Interpreting Sequential\n",
      "Topology:\n",
      "Layer name: fc1_input, layer type: Input\n",
      "Layer name: fc1, layer type: QDense\n",
      "Layer name: relu1, layer type: QActivation\n",
      "Layer name: output, layer type: QDense\n",
      "Layer name: softmax, layer type: Activation\n",
      "copy top.v, sim.Xtest, and sim.Ytest to the synopsys project \n"
     ]
    },
    {
     "name": "stderr",
     "output_type": "stream",
     "text": [
      "/home/argykokk/miniconda3/envs/hls4ml-tutorial/lib/python3.8/site-packages/keras/initializers/initializers_v2.py:120: UserWarning: The initializer LecunUniform is unseeded and being called multiple times, which will return identical values  each time (even if the initializer is unseeded). Please update your code to provide a seed to the initializer, or avoid using the same initalizer instance more than once.\n",
      "  warnings.warn(\n"
     ]
    },
    {
     "name": "stdout",
     "output_type": "stream",
     "text": [
      "frozen dataset 0\n",
      "frozen dataset 1\n",
      "frozen dataset 2\n",
      "frozen dataset 3\n",
      "frozen dataset 4\n",
      "frozen dataset 5\n",
      "frozen dataset 6\n",
      "frozen dataset 7\n",
      "frozen dataset 8\n",
      "frozen dataset 9\n",
      "frozen dataset 10\n"
     ]
    },
    {
     "name": "stderr",
     "output_type": "stream",
     "text": [
      "/home/argykokk/miniconda3/envs/hls4ml-tutorial/lib/python3.8/site-packages/keras/optimizers/optimizer_v2/adam.py:114: UserWarning: The `lr` argument is deprecated, use `learning_rate` instead.\n",
      "  super().__init__(name, **kwargs)\n"
     ]
    },
    {
     "name": "stdout",
     "output_type": "stream",
     "text": [
      "frozen dataset 0\n",
      "frozen dataset 1\n",
      "frozen dataset 2\n",
      "frozen dataset 3\n"
     ]
    },
    {
     "name": "stderr",
     "output_type": "stream",
     "text": [
      "/home/argykokk/miniconda3/envs/hls4ml-tutorial/lib/python3.8/site-packages/keras/optimizers/optimizer_v2/adam.py:114: UserWarning: The `lr` argument is deprecated, use `learning_rate` instead.\n",
      "  super().__init__(name, **kwargs)\n"
     ]
    },
    {
     "name": "stdout",
     "output_type": "stream",
     "text": [
      "46/46 [==============================] - 0s 1ms/step - loss: 1.2635 - accuracy: 0.4714\n",
      "accuracy = 0.4714285731315613\n",
      "Interpreting Sequential\n",
      "Topology:\n",
      "Layer name: fc1_input, layer type: Input\n",
      "Layer name: fc1, layer type: QDense\n",
      "Layer name: relu1, layer type: QActivation\n",
      "Layer name: output, layer type: QDense\n",
      "Layer name: softmax, layer type: Activation\n",
      "copy top.v, sim.Xtest, and sim.Ytest to the synopsys project \n"
     ]
    },
    {
     "name": "stderr",
     "output_type": "stream",
     "text": [
      "/home/argykokk/miniconda3/envs/hls4ml-tutorial/lib/python3.8/site-packages/keras/initializers/initializers_v2.py:120: UserWarning: The initializer LecunUniform is unseeded and being called multiple times, which will return identical values  each time (even if the initializer is unseeded). Please update your code to provide a seed to the initializer, or avoid using the same initalizer instance more than once.\n",
      "  warnings.warn(\n"
     ]
    },
    {
     "name": "stdout",
     "output_type": "stream",
     "text": [
      "frozen dataset 0\n",
      "frozen dataset 1\n",
      "frozen dataset 2\n",
      "frozen dataset 3\n",
      "frozen dataset 4\n",
      "frozen dataset 5\n",
      "frozen dataset 6\n",
      "frozen dataset 7\n",
      "frozen dataset 8\n",
      "frozen dataset 9\n",
      "frozen dataset 10\n"
     ]
    },
    {
     "name": "stderr",
     "output_type": "stream",
     "text": [
      "/home/argykokk/miniconda3/envs/hls4ml-tutorial/lib/python3.8/site-packages/keras/optimizers/optimizer_v2/adam.py:114: UserWarning: The `lr` argument is deprecated, use `learning_rate` instead.\n",
      "  super().__init__(name, **kwargs)\n"
     ]
    },
    {
     "name": "stdout",
     "output_type": "stream",
     "text": [
      "frozen dataset 0\n",
      "frozen dataset 1\n",
      "frozen dataset 2\n",
      "frozen dataset 3\n"
     ]
    },
    {
     "name": "stderr",
     "output_type": "stream",
     "text": [
      "/home/argykokk/miniconda3/envs/hls4ml-tutorial/lib/python3.8/site-packages/keras/optimizers/optimizer_v2/adam.py:114: UserWarning: The `lr` argument is deprecated, use `learning_rate` instead.\n",
      "  super().__init__(name, **kwargs)\n"
     ]
    },
    {
     "name": "stdout",
     "output_type": "stream",
     "text": [
      "46/46 [==============================] - 0s 1ms/step - loss: 1.2635 - accuracy: 0.4714\n",
      "accuracy = 0.4714285731315613\n",
      "Interpreting Sequential\n",
      "Topology:\n",
      "Layer name: fc1_input, layer type: Input\n",
      "Layer name: fc1, layer type: QDense\n",
      "Layer name: relu1, layer type: QActivation\n",
      "Layer name: output, layer type: QDense\n",
      "Layer name: softmax, layer type: Activation\n",
      "copy top.v, sim.Xtest, and sim.Ytest to the synopsys project \n"
     ]
    },
    {
     "name": "stderr",
     "output_type": "stream",
     "text": [
      "/home/argykokk/miniconda3/envs/hls4ml-tutorial/lib/python3.8/site-packages/keras/initializers/initializers_v2.py:120: UserWarning: The initializer LecunUniform is unseeded and being called multiple times, which will return identical values  each time (even if the initializer is unseeded). Please update your code to provide a seed to the initializer, or avoid using the same initalizer instance more than once.\n",
      "  warnings.warn(\n"
     ]
    },
    {
     "name": "stdout",
     "output_type": "stream",
     "text": [
      "frozen dataset 0\n",
      "frozen dataset 1\n",
      "frozen dataset 2\n",
      "frozen dataset 3\n",
      "frozen dataset 4\n",
      "frozen dataset 5\n",
      "frozen dataset 6\n",
      "frozen dataset 7\n",
      "frozen dataset 8\n",
      "frozen dataset 9\n",
      "frozen dataset 10\n"
     ]
    },
    {
     "name": "stderr",
     "output_type": "stream",
     "text": [
      "/home/argykokk/miniconda3/envs/hls4ml-tutorial/lib/python3.8/site-packages/keras/optimizers/optimizer_v2/adam.py:114: UserWarning: The `lr` argument is deprecated, use `learning_rate` instead.\n",
      "  super().__init__(name, **kwargs)\n"
     ]
    },
    {
     "name": "stdout",
     "output_type": "stream",
     "text": [
      "frozen dataset 0\n",
      "frozen dataset 1\n",
      "frozen dataset 2\n",
      "frozen dataset 3\n"
     ]
    },
    {
     "name": "stderr",
     "output_type": "stream",
     "text": [
      "/home/argykokk/miniconda3/envs/hls4ml-tutorial/lib/python3.8/site-packages/keras/optimizers/optimizer_v2/adam.py:114: UserWarning: The `lr` argument is deprecated, use `learning_rate` instead.\n",
      "  super().__init__(name, **kwargs)\n"
     ]
    },
    {
     "name": "stdout",
     "output_type": "stream",
     "text": [
      "46/46 [==============================] - 0s 1ms/step - loss: 1.2635 - accuracy: 0.4714\n",
      "accuracy = 0.4714285731315613\n",
      "Interpreting Sequential\n",
      "Topology:\n",
      "Layer name: fc1_input, layer type: Input\n",
      "Layer name: fc1, layer type: QDense\n",
      "Layer name: relu1, layer type: QActivation\n",
      "Layer name: output, layer type: QDense\n",
      "Layer name: softmax, layer type: Activation\n",
      "copy top.v, sim.Xtest, and sim.Ytest to the synopsys project \n"
     ]
    },
    {
     "name": "stderr",
     "output_type": "stream",
     "text": [
      "/home/argykokk/miniconda3/envs/hls4ml-tutorial/lib/python3.8/site-packages/keras/initializers/initializers_v2.py:120: UserWarning: The initializer LecunUniform is unseeded and being called multiple times, which will return identical values  each time (even if the initializer is unseeded). Please update your code to provide a seed to the initializer, or avoid using the same initalizer instance more than once.\n",
      "  warnings.warn(\n"
     ]
    },
    {
     "name": "stdout",
     "output_type": "stream",
     "text": [
      "frozen dataset 0\n",
      "frozen dataset 1\n",
      "frozen dataset 2\n",
      "frozen dataset 3\n",
      "frozen dataset 4\n",
      "frozen dataset 5\n",
      "frozen dataset 6\n",
      "frozen dataset 7\n",
      "frozen dataset 8\n",
      "frozen dataset 9\n",
      "frozen dataset 10\n"
     ]
    },
    {
     "name": "stderr",
     "output_type": "stream",
     "text": [
      "/home/argykokk/miniconda3/envs/hls4ml-tutorial/lib/python3.8/site-packages/keras/optimizers/optimizer_v2/adam.py:114: UserWarning: The `lr` argument is deprecated, use `learning_rate` instead.\n",
      "  super().__init__(name, **kwargs)\n"
     ]
    },
    {
     "name": "stdout",
     "output_type": "stream",
     "text": [
      "frozen dataset 0\n",
      "frozen dataset 1\n",
      "frozen dataset 2\n",
      "frozen dataset 3\n"
     ]
    },
    {
     "name": "stderr",
     "output_type": "stream",
     "text": [
      "/home/argykokk/miniconda3/envs/hls4ml-tutorial/lib/python3.8/site-packages/keras/optimizers/optimizer_v2/adam.py:114: UserWarning: The `lr` argument is deprecated, use `learning_rate` instead.\n",
      "  super().__init__(name, **kwargs)\n"
     ]
    },
    {
     "name": "stdout",
     "output_type": "stream",
     "text": [
      "46/46 [==============================] - 0s 998us/step - loss: 1.2635 - accuracy: 0.4714\n",
      "accuracy = 0.4714285731315613\n",
      "Interpreting Sequential\n",
      "Topology:\n",
      "Layer name: fc1_input, layer type: Input\n",
      "Layer name: fc1, layer type: QDense\n",
      "Layer name: relu1, layer type: QActivation\n",
      "Layer name: output, layer type: QDense\n",
      "Layer name: softmax, layer type: Activation\n",
      "copy top.v, sim.Xtest, and sim.Ytest to the synopsys project \n"
     ]
    },
    {
     "name": "stderr",
     "output_type": "stream",
     "text": [
      "/home/argykokk/miniconda3/envs/hls4ml-tutorial/lib/python3.8/site-packages/keras/initializers/initializers_v2.py:120: UserWarning: The initializer LecunUniform is unseeded and being called multiple times, which will return identical values  each time (even if the initializer is unseeded). Please update your code to provide a seed to the initializer, or avoid using the same initalizer instance more than once.\n",
      "  warnings.warn(\n"
     ]
    },
    {
     "name": "stdout",
     "output_type": "stream",
     "text": [
      "frozen dataset 0\n",
      "frozen dataset 1\n",
      "frozen dataset 2\n",
      "frozen dataset 3\n",
      "frozen dataset 4\n",
      "frozen dataset 5\n",
      "frozen dataset 6\n",
      "frozen dataset 7\n",
      "frozen dataset 8\n",
      "frozen dataset 9\n",
      "frozen dataset 10\n",
      "frozen dataset 0\n",
      "frozen dataset 1\n",
      "frozen dataset 2\n",
      "frozen dataset 3\n"
     ]
    },
    {
     "name": "stderr",
     "output_type": "stream",
     "text": [
      "/home/argykokk/miniconda3/envs/hls4ml-tutorial/lib/python3.8/site-packages/keras/optimizers/optimizer_v2/adam.py:114: UserWarning: The `lr` argument is deprecated, use `learning_rate` instead.\n",
      "  super().__init__(name, **kwargs)\n",
      "/home/argykokk/miniconda3/envs/hls4ml-tutorial/lib/python3.8/site-packages/keras/optimizers/optimizer_v2/adam.py:114: UserWarning: The `lr` argument is deprecated, use `learning_rate` instead.\n",
      "  super().__init__(name, **kwargs)\n"
     ]
    },
    {
     "name": "stdout",
     "output_type": "stream",
     "text": [
      "46/46 [==============================] - 0s 1ms/step - loss: 1.2635 - accuracy: 0.4714\n",
      "accuracy = 0.4714285731315613\n",
      "Interpreting Sequential\n",
      "Topology:\n",
      "Layer name: fc1_input, layer type: Input\n",
      "Layer name: fc1, layer type: QDense\n",
      "Layer name: relu1, layer type: QActivation\n",
      "Layer name: output, layer type: QDense\n",
      "Layer name: softmax, layer type: Activation\n",
      "copy top.v, sim.Xtest, and sim.Ytest to the synopsys project \n"
     ]
    },
    {
     "name": "stderr",
     "output_type": "stream",
     "text": [
      "/home/argykokk/miniconda3/envs/hls4ml-tutorial/lib/python3.8/site-packages/keras/initializers/initializers_v2.py:120: UserWarning: The initializer LecunUniform is unseeded and being called multiple times, which will return identical values  each time (even if the initializer is unseeded). Please update your code to provide a seed to the initializer, or avoid using the same initalizer instance more than once.\n",
      "  warnings.warn(\n"
     ]
    },
    {
     "name": "stdout",
     "output_type": "stream",
     "text": [
      "frozen dataset 0\n",
      "frozen dataset 1\n",
      "frozen dataset 2\n",
      "frozen dataset 3\n",
      "frozen dataset 4\n",
      "frozen dataset 5\n",
      "frozen dataset 6\n",
      "frozen dataset 7\n",
      "frozen dataset 8\n",
      "frozen dataset 9\n",
      "frozen dataset 10\n"
     ]
    },
    {
     "name": "stderr",
     "output_type": "stream",
     "text": [
      "/home/argykokk/miniconda3/envs/hls4ml-tutorial/lib/python3.8/site-packages/keras/optimizers/optimizer_v2/adam.py:114: UserWarning: The `lr` argument is deprecated, use `learning_rate` instead.\n",
      "  super().__init__(name, **kwargs)\n"
     ]
    },
    {
     "name": "stdout",
     "output_type": "stream",
     "text": [
      "frozen dataset 0\n",
      "frozen dataset 1\n",
      "frozen dataset 2\n",
      "frozen dataset 3\n"
     ]
    },
    {
     "name": "stderr",
     "output_type": "stream",
     "text": [
      "/home/argykokk/miniconda3/envs/hls4ml-tutorial/lib/python3.8/site-packages/keras/optimizers/optimizer_v2/adam.py:114: UserWarning: The `lr` argument is deprecated, use `learning_rate` instead.\n",
      "  super().__init__(name, **kwargs)\n"
     ]
    },
    {
     "name": "stdout",
     "output_type": "stream",
     "text": [
      "46/46 [==============================] - 0s 943us/step - loss: 1.2635 - accuracy: 0.4714\n",
      "accuracy = 0.4714285731315613\n",
      "Interpreting Sequential\n",
      "Topology:\n",
      "Layer name: fc1_input, layer type: Input\n",
      "Layer name: fc1, layer type: QDense\n",
      "Layer name: relu1, layer type: QActivation\n",
      "Layer name: output, layer type: QDense\n",
      "Layer name: softmax, layer type: Activation\n",
      "copy top.v, sim.Xtest, and sim.Ytest to the synopsys project \n"
     ]
    },
    {
     "name": "stderr",
     "output_type": "stream",
     "text": [
      "/home/argykokk/miniconda3/envs/hls4ml-tutorial/lib/python3.8/site-packages/keras/initializers/initializers_v2.py:120: UserWarning: The initializer LecunUniform is unseeded and being called multiple times, which will return identical values  each time (even if the initializer is unseeded). Please update your code to provide a seed to the initializer, or avoid using the same initalizer instance more than once.\n",
      "  warnings.warn(\n"
     ]
    },
    {
     "name": "stdout",
     "output_type": "stream",
     "text": [
      "frozen dataset 0\n",
      "frozen dataset 1\n",
      "frozen dataset 2\n",
      "frozen dataset 3\n",
      "frozen dataset 4\n",
      "frozen dataset 5\n",
      "frozen dataset 6\n",
      "frozen dataset 7\n",
      "frozen dataset 8\n",
      "frozen dataset 9\n",
      "frozen dataset 10\n"
     ]
    },
    {
     "name": "stderr",
     "output_type": "stream",
     "text": [
      "/home/argykokk/miniconda3/envs/hls4ml-tutorial/lib/python3.8/site-packages/keras/optimizers/optimizer_v2/adam.py:114: UserWarning: The `lr` argument is deprecated, use `learning_rate` instead.\n",
      "  super().__init__(name, **kwargs)\n"
     ]
    },
    {
     "name": "stdout",
     "output_type": "stream",
     "text": [
      "frozen dataset 0\n",
      "frozen dataset 1\n",
      "frozen dataset 2\n",
      "frozen dataset 3\n"
     ]
    },
    {
     "name": "stderr",
     "output_type": "stream",
     "text": [
      "/home/argykokk/miniconda3/envs/hls4ml-tutorial/lib/python3.8/site-packages/keras/optimizers/optimizer_v2/adam.py:114: UserWarning: The `lr` argument is deprecated, use `learning_rate` instead.\n",
      "  super().__init__(name, **kwargs)\n"
     ]
    },
    {
     "name": "stdout",
     "output_type": "stream",
     "text": [
      "46/46 [==============================] - 0s 1ms/step - loss: 1.2635 - accuracy: 0.4714\n",
      "accuracy = 0.4714285731315613\n",
      "Interpreting Sequential\n",
      "Topology:\n",
      "Layer name: fc1_input, layer type: Input\n",
      "Layer name: fc1, layer type: QDense\n",
      "Layer name: relu1, layer type: QActivation\n",
      "Layer name: output, layer type: QDense\n",
      "Layer name: softmax, layer type: Activation\n",
      "copy top.v, sim.Xtest, and sim.Ytest to the synopsys project \n"
     ]
    },
    {
     "name": "stderr",
     "output_type": "stream",
     "text": [
      "/home/argykokk/miniconda3/envs/hls4ml-tutorial/lib/python3.8/site-packages/keras/initializers/initializers_v2.py:120: UserWarning: The initializer LecunUniform is unseeded and being called multiple times, which will return identical values  each time (even if the initializer is unseeded). Please update your code to provide a seed to the initializer, or avoid using the same initalizer instance more than once.\n",
      "  warnings.warn(\n"
     ]
    },
    {
     "name": "stdout",
     "output_type": "stream",
     "text": [
      "frozen dataset 0\n",
      "frozen dataset 1\n",
      "frozen dataset 2\n",
      "frozen dataset 3\n",
      "frozen dataset 4\n",
      "frozen dataset 5\n",
      "frozen dataset 6\n",
      "frozen dataset 7\n",
      "frozen dataset 8\n",
      "frozen dataset 9\n",
      "frozen dataset 10\n"
     ]
    },
    {
     "name": "stderr",
     "output_type": "stream",
     "text": [
      "/home/argykokk/miniconda3/envs/hls4ml-tutorial/lib/python3.8/site-packages/keras/optimizers/optimizer_v2/adam.py:114: UserWarning: The `lr` argument is deprecated, use `learning_rate` instead.\n",
      "  super().__init__(name, **kwargs)\n"
     ]
    },
    {
     "name": "stdout",
     "output_type": "stream",
     "text": [
      "frozen dataset 0\n",
      "frozen dataset 1\n",
      "frozen dataset 2\n",
      "frozen dataset 3\n"
     ]
    },
    {
     "name": "stderr",
     "output_type": "stream",
     "text": [
      "/home/argykokk/miniconda3/envs/hls4ml-tutorial/lib/python3.8/site-packages/keras/optimizers/optimizer_v2/adam.py:114: UserWarning: The `lr` argument is deprecated, use `learning_rate` instead.\n",
      "  super().__init__(name, **kwargs)\n"
     ]
    },
    {
     "name": "stdout",
     "output_type": "stream",
     "text": [
      "46/46 [==============================] - 0s 1ms/step - loss: 1.2635 - accuracy: 0.4714\n",
      "accuracy = 0.4714285731315613\n",
      "Interpreting Sequential\n",
      "Topology:\n",
      "Layer name: fc1_input, layer type: Input\n",
      "Layer name: fc1, layer type: QDense\n",
      "Layer name: relu1, layer type: QActivation\n",
      "Layer name: output, layer type: QDense\n",
      "Layer name: softmax, layer type: Activation\n",
      "copy top.v, sim.Xtest, and sim.Ytest to the synopsys project \n"
     ]
    },
    {
     "name": "stderr",
     "output_type": "stream",
     "text": [
      "/home/argykokk/miniconda3/envs/hls4ml-tutorial/lib/python3.8/site-packages/keras/initializers/initializers_v2.py:120: UserWarning: The initializer LecunUniform is unseeded and being called multiple times, which will return identical values  each time (even if the initializer is unseeded). Please update your code to provide a seed to the initializer, or avoid using the same initalizer instance more than once.\n",
      "  warnings.warn(\n"
     ]
    },
    {
     "name": "stdout",
     "output_type": "stream",
     "text": [
      "frozen dataset 0\n",
      "frozen dataset 1\n",
      "frozen dataset 2\n",
      "frozen dataset 3\n",
      "frozen dataset 4\n",
      "frozen dataset 5\n",
      "frozen dataset 6\n",
      "frozen dataset 7\n",
      "frozen dataset 8\n",
      "frozen dataset 9\n",
      "frozen dataset 10\n"
     ]
    },
    {
     "name": "stderr",
     "output_type": "stream",
     "text": [
      "/home/argykokk/miniconda3/envs/hls4ml-tutorial/lib/python3.8/site-packages/keras/optimizers/optimizer_v2/adam.py:114: UserWarning: The `lr` argument is deprecated, use `learning_rate` instead.\n",
      "  super().__init__(name, **kwargs)\n"
     ]
    },
    {
     "name": "stdout",
     "output_type": "stream",
     "text": [
      "frozen dataset 0\n",
      "frozen dataset 1\n",
      "frozen dataset 2\n",
      "frozen dataset 3\n"
     ]
    },
    {
     "name": "stderr",
     "output_type": "stream",
     "text": [
      "/home/argykokk/miniconda3/envs/hls4ml-tutorial/lib/python3.8/site-packages/keras/optimizers/optimizer_v2/adam.py:114: UserWarning: The `lr` argument is deprecated, use `learning_rate` instead.\n",
      "  super().__init__(name, **kwargs)\n"
     ]
    },
    {
     "name": "stdout",
     "output_type": "stream",
     "text": [
      "46/46 [==============================] - 0s 1ms/step - loss: 1.2635 - accuracy: 0.4714\n",
      "accuracy = 0.4714285731315613\n",
      "Interpreting Sequential\n",
      "Topology:\n",
      "Layer name: fc1_input, layer type: Input\n",
      "Layer name: fc1, layer type: QDense\n",
      "Layer name: relu1, layer type: QActivation\n",
      "Layer name: output, layer type: QDense\n",
      "Layer name: softmax, layer type: Activation\n",
      "copy top.v, sim.Xtest, and sim.Ytest to the synopsys project \n"
     ]
    },
    {
     "name": "stderr",
     "output_type": "stream",
     "text": [
      "/home/argykokk/miniconda3/envs/hls4ml-tutorial/lib/python3.8/site-packages/keras/initializers/initializers_v2.py:120: UserWarning: The initializer LecunUniform is unseeded and being called multiple times, which will return identical values  each time (even if the initializer is unseeded). Please update your code to provide a seed to the initializer, or avoid using the same initalizer instance more than once.\n",
      "  warnings.warn(\n"
     ]
    },
    {
     "name": "stdout",
     "output_type": "stream",
     "text": [
      "frozen dataset 0\n",
      "frozen dataset 1\n",
      "frozen dataset 2\n",
      "frozen dataset 3\n",
      "frozen dataset 4\n",
      "frozen dataset 5\n",
      "frozen dataset 6\n",
      "frozen dataset 7\n",
      "frozen dataset 8\n",
      "frozen dataset 9\n",
      "frozen dataset 10\n"
     ]
    },
    {
     "name": "stderr",
     "output_type": "stream",
     "text": [
      "/home/argykokk/miniconda3/envs/hls4ml-tutorial/lib/python3.8/site-packages/keras/optimizers/optimizer_v2/adam.py:114: UserWarning: The `lr` argument is deprecated, use `learning_rate` instead.\n",
      "  super().__init__(name, **kwargs)\n"
     ]
    },
    {
     "name": "stdout",
     "output_type": "stream",
     "text": [
      "frozen dataset 0\n",
      "frozen dataset 1\n",
      "frozen dataset 2\n",
      "frozen dataset 3\n"
     ]
    },
    {
     "name": "stderr",
     "output_type": "stream",
     "text": [
      "/home/argykokk/miniconda3/envs/hls4ml-tutorial/lib/python3.8/site-packages/keras/optimizers/optimizer_v2/adam.py:114: UserWarning: The `lr` argument is deprecated, use `learning_rate` instead.\n",
      "  super().__init__(name, **kwargs)\n"
     ]
    },
    {
     "name": "stdout",
     "output_type": "stream",
     "text": [
      "46/46 [==============================] - 0s 982us/step - loss: 1.2635 - accuracy: 0.4714\n",
      "accuracy = 0.4714285731315613\n",
      "Interpreting Sequential\n",
      "Topology:\n",
      "Layer name: fc1_input, layer type: Input\n",
      "Layer name: fc1, layer type: QDense\n",
      "Layer name: relu1, layer type: QActivation\n",
      "Layer name: output, layer type: QDense\n",
      "Layer name: softmax, layer type: Activation\n",
      "copy top.v, sim.Xtest, and sim.Ytest to the synopsys project \n"
     ]
    },
    {
     "name": "stderr",
     "output_type": "stream",
     "text": [
      "/home/argykokk/miniconda3/envs/hls4ml-tutorial/lib/python3.8/site-packages/keras/initializers/initializers_v2.py:120: UserWarning: The initializer LecunUniform is unseeded and being called multiple times, which will return identical values  each time (even if the initializer is unseeded). Please update your code to provide a seed to the initializer, or avoid using the same initalizer instance more than once.\n",
      "  warnings.warn(\n"
     ]
    },
    {
     "name": "stdout",
     "output_type": "stream",
     "text": [
      "frozen dataset 0\n",
      "frozen dataset 1\n",
      "frozen dataset 2\n",
      "frozen dataset 3\n",
      "frozen dataset 4\n",
      "frozen dataset 5\n",
      "frozen dataset 6\n",
      "frozen dataset 7\n",
      "frozen dataset 8\n",
      "frozen dataset 9\n",
      "frozen dataset 10\n"
     ]
    },
    {
     "name": "stderr",
     "output_type": "stream",
     "text": [
      "/home/argykokk/miniconda3/envs/hls4ml-tutorial/lib/python3.8/site-packages/keras/optimizers/optimizer_v2/adam.py:114: UserWarning: The `lr` argument is deprecated, use `learning_rate` instead.\n",
      "  super().__init__(name, **kwargs)\n"
     ]
    },
    {
     "name": "stdout",
     "output_type": "stream",
     "text": [
      "frozen dataset 0\n",
      "frozen dataset 1\n",
      "frozen dataset 2\n",
      "frozen dataset 3\n"
     ]
    },
    {
     "name": "stderr",
     "output_type": "stream",
     "text": [
      "/home/argykokk/miniconda3/envs/hls4ml-tutorial/lib/python3.8/site-packages/keras/optimizers/optimizer_v2/adam.py:114: UserWarning: The `lr` argument is deprecated, use `learning_rate` instead.\n",
      "  super().__init__(name, **kwargs)\n"
     ]
    },
    {
     "name": "stdout",
     "output_type": "stream",
     "text": [
      "46/46 [==============================] - 0s 1ms/step - loss: 1.2635 - accuracy: 0.4714\n",
      "accuracy = 0.4714285731315613\n",
      "Interpreting Sequential\n",
      "Topology:\n",
      "Layer name: fc1_input, layer type: Input\n",
      "Layer name: fc1, layer type: QDense\n",
      "Layer name: relu1, layer type: QActivation\n",
      "Layer name: output, layer type: QDense\n",
      "Layer name: softmax, layer type: Activation\n",
      "copy top.v, sim.Xtest, and sim.Ytest to the synopsys project \n"
     ]
    },
    {
     "name": "stderr",
     "output_type": "stream",
     "text": [
      "/home/argykokk/miniconda3/envs/hls4ml-tutorial/lib/python3.8/site-packages/keras/initializers/initializers_v2.py:120: UserWarning: The initializer LecunUniform is unseeded and being called multiple times, which will return identical values  each time (even if the initializer is unseeded). Please update your code to provide a seed to the initializer, or avoid using the same initalizer instance more than once.\n",
      "  warnings.warn(\n"
     ]
    },
    {
     "name": "stdout",
     "output_type": "stream",
     "text": [
      "frozen dataset 0\n",
      "frozen dataset 1\n",
      "frozen dataset 2\n",
      "frozen dataset 3\n",
      "frozen dataset 4\n",
      "frozen dataset 5\n",
      "frozen dataset 6\n",
      "frozen dataset 7\n",
      "frozen dataset 8\n",
      "frozen dataset 9\n",
      "frozen dataset 10\n"
     ]
    },
    {
     "name": "stderr",
     "output_type": "stream",
     "text": [
      "/home/argykokk/miniconda3/envs/hls4ml-tutorial/lib/python3.8/site-packages/keras/optimizers/optimizer_v2/adam.py:114: UserWarning: The `lr` argument is deprecated, use `learning_rate` instead.\n",
      "  super().__init__(name, **kwargs)\n"
     ]
    },
    {
     "name": "stdout",
     "output_type": "stream",
     "text": [
      "frozen dataset 0\n",
      "frozen dataset 1\n",
      "frozen dataset 2\n",
      "frozen dataset 3\n"
     ]
    },
    {
     "name": "stderr",
     "output_type": "stream",
     "text": [
      "/home/argykokk/miniconda3/envs/hls4ml-tutorial/lib/python3.8/site-packages/keras/optimizers/optimizer_v2/adam.py:114: UserWarning: The `lr` argument is deprecated, use `learning_rate` instead.\n",
      "  super().__init__(name, **kwargs)\n"
     ]
    },
    {
     "name": "stdout",
     "output_type": "stream",
     "text": [
      "46/46 [==============================] - 0s 1ms/step - loss: 1.2635 - accuracy: 0.4714\n",
      "accuracy = 0.4714285731315613\n",
      "Interpreting Sequential\n",
      "Topology:\n",
      "Layer name: fc1_input, layer type: Input\n",
      "Layer name: fc1, layer type: QDense\n",
      "Layer name: relu1, layer type: QActivation\n",
      "Layer name: output, layer type: QDense\n",
      "Layer name: softmax, layer type: Activation\n",
      "copy top.v, sim.Xtest, and sim.Ytest to the synopsys project \n"
     ]
    },
    {
     "name": "stderr",
     "output_type": "stream",
     "text": [
      "/home/argykokk/miniconda3/envs/hls4ml-tutorial/lib/python3.8/site-packages/keras/initializers/initializers_v2.py:120: UserWarning: The initializer LecunUniform is unseeded and being called multiple times, which will return identical values  each time (even if the initializer is unseeded). Please update your code to provide a seed to the initializer, or avoid using the same initalizer instance more than once.\n",
      "  warnings.warn(\n"
     ]
    },
    {
     "name": "stdout",
     "output_type": "stream",
     "text": [
      "frozen dataset 0\n",
      "frozen dataset 1\n",
      "frozen dataset 2\n",
      "frozen dataset 3\n",
      "frozen dataset 4\n",
      "frozen dataset 5\n",
      "frozen dataset 6\n",
      "frozen dataset 7\n",
      "frozen dataset 8\n",
      "frozen dataset 9\n",
      "frozen dataset 10\n"
     ]
    },
    {
     "name": "stderr",
     "output_type": "stream",
     "text": [
      "/home/argykokk/miniconda3/envs/hls4ml-tutorial/lib/python3.8/site-packages/keras/optimizers/optimizer_v2/adam.py:114: UserWarning: The `lr` argument is deprecated, use `learning_rate` instead.\n",
      "  super().__init__(name, **kwargs)\n"
     ]
    },
    {
     "name": "stdout",
     "output_type": "stream",
     "text": [
      "frozen dataset 0\n",
      "frozen dataset 1\n",
      "frozen dataset 2\n",
      "frozen dataset 3\n"
     ]
    },
    {
     "name": "stderr",
     "output_type": "stream",
     "text": [
      "/home/argykokk/miniconda3/envs/hls4ml-tutorial/lib/python3.8/site-packages/keras/optimizers/optimizer_v2/adam.py:114: UserWarning: The `lr` argument is deprecated, use `learning_rate` instead.\n",
      "  super().__init__(name, **kwargs)\n"
     ]
    },
    {
     "name": "stdout",
     "output_type": "stream",
     "text": [
      "46/46 [==============================] - 0s 941us/step - loss: 1.2635 - accuracy: 0.4714\n",
      "accuracy = 0.4714285731315613\n",
      "Interpreting Sequential\n",
      "Topology:\n",
      "Layer name: fc1_input, layer type: Input\n",
      "Layer name: fc1, layer type: QDense\n",
      "Layer name: relu1, layer type: QActivation\n",
      "Layer name: output, layer type: QDense\n",
      "Layer name: softmax, layer type: Activation\n",
      "copy top.v, sim.Xtest, and sim.Ytest to the synopsys project \n"
     ]
    },
    {
     "name": "stderr",
     "output_type": "stream",
     "text": [
      "/home/argykokk/miniconda3/envs/hls4ml-tutorial/lib/python3.8/site-packages/keras/initializers/initializers_v2.py:120: UserWarning: The initializer LecunUniform is unseeded and being called multiple times, which will return identical values  each time (even if the initializer is unseeded). Please update your code to provide a seed to the initializer, or avoid using the same initalizer instance more than once.\n",
      "  warnings.warn(\n"
     ]
    },
    {
     "name": "stdout",
     "output_type": "stream",
     "text": [
      "frozen dataset 0\n",
      "frozen dataset 1\n",
      "frozen dataset 2\n",
      "frozen dataset 3\n",
      "frozen dataset 4\n",
      "frozen dataset 5\n",
      "frozen dataset 6\n",
      "frozen dataset 7\n",
      "frozen dataset 8\n",
      "frozen dataset 9\n",
      "frozen dataset 10\n"
     ]
    },
    {
     "name": "stderr",
     "output_type": "stream",
     "text": [
      "/home/argykokk/miniconda3/envs/hls4ml-tutorial/lib/python3.8/site-packages/keras/optimizers/optimizer_v2/adam.py:114: UserWarning: The `lr` argument is deprecated, use `learning_rate` instead.\n",
      "  super().__init__(name, **kwargs)\n"
     ]
    },
    {
     "name": "stdout",
     "output_type": "stream",
     "text": [
      "frozen dataset 0\n",
      "frozen dataset 1\n",
      "frozen dataset 2\n",
      "frozen dataset 3\n"
     ]
    },
    {
     "name": "stderr",
     "output_type": "stream",
     "text": [
      "/home/argykokk/miniconda3/envs/hls4ml-tutorial/lib/python3.8/site-packages/keras/optimizers/optimizer_v2/adam.py:114: UserWarning: The `lr` argument is deprecated, use `learning_rate` instead.\n",
      "  super().__init__(name, **kwargs)\n"
     ]
    },
    {
     "name": "stdout",
     "output_type": "stream",
     "text": [
      "46/46 [==============================] - 1s 1ms/step - loss: 1.2635 - accuracy: 0.4714\n",
      "accuracy = 0.4714285731315613\n",
      "Interpreting Sequential\n",
      "Topology:\n",
      "Layer name: fc1_input, layer type: Input\n",
      "Layer name: fc1, layer type: QDense\n",
      "Layer name: relu1, layer type: QActivation\n",
      "Layer name: output, layer type: QDense\n",
      "Layer name: softmax, layer type: Activation\n",
      "copy top.v, sim.Xtest, and sim.Ytest to the synopsys project \n"
     ]
    },
    {
     "name": "stderr",
     "output_type": "stream",
     "text": [
      "/home/argykokk/miniconda3/envs/hls4ml-tutorial/lib/python3.8/site-packages/keras/initializers/initializers_v2.py:120: UserWarning: The initializer LecunUniform is unseeded and being called multiple times, which will return identical values  each time (even if the initializer is unseeded). Please update your code to provide a seed to the initializer, or avoid using the same initalizer instance more than once.\n",
      "  warnings.warn(\n"
     ]
    },
    {
     "name": "stdout",
     "output_type": "stream",
     "text": [
      "frozen dataset 0\n",
      "frozen dataset 1\n",
      "frozen dataset 2\n",
      "frozen dataset 3\n",
      "frozen dataset 4\n",
      "frozen dataset 5\n",
      "frozen dataset 6\n",
      "frozen dataset 7\n",
      "frozen dataset 8\n",
      "frozen dataset 9\n",
      "frozen dataset 10\n",
      "frozen dataset 0\n",
      "frozen dataset 1\n",
      "frozen dataset 2\n",
      "frozen dataset 3\n"
     ]
    },
    {
     "name": "stderr",
     "output_type": "stream",
     "text": [
      "/home/argykokk/miniconda3/envs/hls4ml-tutorial/lib/python3.8/site-packages/keras/optimizers/optimizer_v2/adam.py:114: UserWarning: The `lr` argument is deprecated, use `learning_rate` instead.\n",
      "  super().__init__(name, **kwargs)\n",
      "/home/argykokk/miniconda3/envs/hls4ml-tutorial/lib/python3.8/site-packages/keras/optimizers/optimizer_v2/adam.py:114: UserWarning: The `lr` argument is deprecated, use `learning_rate` instead.\n",
      "  super().__init__(name, **kwargs)\n"
     ]
    },
    {
     "name": "stdout",
     "output_type": "stream",
     "text": [
      "46/46 [==============================] - 0s 1ms/step - loss: 1.2635 - accuracy: 0.4714\n",
      "accuracy = 0.4714285731315613\n",
      "Interpreting Sequential\n",
      "Topology:\n",
      "Layer name: fc1_input, layer type: Input\n",
      "Layer name: fc1, layer type: QDense\n",
      "Layer name: relu1, layer type: QActivation\n",
      "Layer name: output, layer type: QDense\n",
      "Layer name: softmax, layer type: Activation\n",
      "copy top.v, sim.Xtest, and sim.Ytest to the synopsys project \n"
     ]
    },
    {
     "name": "stderr",
     "output_type": "stream",
     "text": [
      "/home/argykokk/miniconda3/envs/hls4ml-tutorial/lib/python3.8/site-packages/keras/initializers/initializers_v2.py:120: UserWarning: The initializer LecunUniform is unseeded and being called multiple times, which will return identical values  each time (even if the initializer is unseeded). Please update your code to provide a seed to the initializer, or avoid using the same initalizer instance more than once.\n",
      "  warnings.warn(\n"
     ]
    },
    {
     "name": "stdout",
     "output_type": "stream",
     "text": [
      "frozen dataset 0\n",
      "frozen dataset 1\n",
      "frozen dataset 2\n",
      "frozen dataset 3\n",
      "frozen dataset 4\n",
      "frozen dataset 5\n",
      "frozen dataset 6\n",
      "frozen dataset 7\n",
      "frozen dataset 8\n",
      "frozen dataset 9\n",
      "frozen dataset 10\n"
     ]
    },
    {
     "name": "stderr",
     "output_type": "stream",
     "text": [
      "/home/argykokk/miniconda3/envs/hls4ml-tutorial/lib/python3.8/site-packages/keras/optimizers/optimizer_v2/adam.py:114: UserWarning: The `lr` argument is deprecated, use `learning_rate` instead.\n",
      "  super().__init__(name, **kwargs)\n"
     ]
    },
    {
     "name": "stdout",
     "output_type": "stream",
     "text": [
      "frozen dataset 0\n",
      "frozen dataset 1\n",
      "frozen dataset 2\n",
      "frozen dataset 3\n"
     ]
    },
    {
     "name": "stderr",
     "output_type": "stream",
     "text": [
      "/home/argykokk/miniconda3/envs/hls4ml-tutorial/lib/python3.8/site-packages/keras/optimizers/optimizer_v2/adam.py:114: UserWarning: The `lr` argument is deprecated, use `learning_rate` instead.\n",
      "  super().__init__(name, **kwargs)\n"
     ]
    },
    {
     "name": "stdout",
     "output_type": "stream",
     "text": [
      "46/46 [==============================] - 0s 997us/step - loss: 1.2635 - accuracy: 0.4714\n",
      "accuracy = 0.4714285731315613\n",
      "Interpreting Sequential\n",
      "Topology:\n",
      "Layer name: fc1_input, layer type: Input\n",
      "Layer name: fc1, layer type: QDense\n",
      "Layer name: relu1, layer type: QActivation\n",
      "Layer name: output, layer type: QDense\n",
      "Layer name: softmax, layer type: Activation\n",
      "copy top.v, sim.Xtest, and sim.Ytest to the synopsys project \n"
     ]
    },
    {
     "name": "stderr",
     "output_type": "stream",
     "text": [
      "/home/argykokk/miniconda3/envs/hls4ml-tutorial/lib/python3.8/site-packages/keras/initializers/initializers_v2.py:120: UserWarning: The initializer LecunUniform is unseeded and being called multiple times, which will return identical values  each time (even if the initializer is unseeded). Please update your code to provide a seed to the initializer, or avoid using the same initalizer instance more than once.\n",
      "  warnings.warn(\n"
     ]
    },
    {
     "name": "stdout",
     "output_type": "stream",
     "text": [
      "frozen dataset 0\n",
      "frozen dataset 1\n",
      "frozen dataset 2\n",
      "frozen dataset 3\n",
      "frozen dataset 4\n",
      "frozen dataset 5\n",
      "frozen dataset 6\n",
      "frozen dataset 7\n",
      "frozen dataset 8\n",
      "frozen dataset 9\n",
      "frozen dataset 10\n"
     ]
    },
    {
     "name": "stderr",
     "output_type": "stream",
     "text": [
      "/home/argykokk/miniconda3/envs/hls4ml-tutorial/lib/python3.8/site-packages/keras/optimizers/optimizer_v2/adam.py:114: UserWarning: The `lr` argument is deprecated, use `learning_rate` instead.\n",
      "  super().__init__(name, **kwargs)\n"
     ]
    },
    {
     "name": "stdout",
     "output_type": "stream",
     "text": [
      "frozen dataset 0\n",
      "frozen dataset 1\n",
      "frozen dataset 2\n",
      "frozen dataset 3\n"
     ]
    },
    {
     "name": "stderr",
     "output_type": "stream",
     "text": [
      "/home/argykokk/miniconda3/envs/hls4ml-tutorial/lib/python3.8/site-packages/keras/optimizers/optimizer_v2/adam.py:114: UserWarning: The `lr` argument is deprecated, use `learning_rate` instead.\n",
      "  super().__init__(name, **kwargs)\n"
     ]
    },
    {
     "name": "stdout",
     "output_type": "stream",
     "text": [
      "46/46 [==============================] - 0s 1ms/step - loss: 1.2635 - accuracy: 0.4714\n",
      "accuracy = 0.4714285731315613\n",
      "Interpreting Sequential\n",
      "Topology:\n",
      "Layer name: fc1_input, layer type: Input\n",
      "Layer name: fc1, layer type: QDense\n",
      "Layer name: relu1, layer type: QActivation\n",
      "Layer name: output, layer type: QDense\n",
      "Layer name: softmax, layer type: Activation\n",
      "copy top.v, sim.Xtest, and sim.Ytest to the synopsys project \n"
     ]
    },
    {
     "name": "stderr",
     "output_type": "stream",
     "text": [
      "/home/argykokk/miniconda3/envs/hls4ml-tutorial/lib/python3.8/site-packages/keras/initializers/initializers_v2.py:120: UserWarning: The initializer LecunUniform is unseeded and being called multiple times, which will return identical values  each time (even if the initializer is unseeded). Please update your code to provide a seed to the initializer, or avoid using the same initalizer instance more than once.\n",
      "  warnings.warn(\n"
     ]
    },
    {
     "name": "stdout",
     "output_type": "stream",
     "text": [
      "frozen dataset 0\n",
      "frozen dataset 1\n",
      "frozen dataset 2\n",
      "frozen dataset 3\n",
      "frozen dataset 4\n",
      "frozen dataset 5\n",
      "frozen dataset 6\n",
      "frozen dataset 7\n",
      "frozen dataset 8\n",
      "frozen dataset 9\n",
      "frozen dataset 10\n"
     ]
    },
    {
     "name": "stderr",
     "output_type": "stream",
     "text": [
      "/home/argykokk/miniconda3/envs/hls4ml-tutorial/lib/python3.8/site-packages/keras/optimizers/optimizer_v2/adam.py:114: UserWarning: The `lr` argument is deprecated, use `learning_rate` instead.\n",
      "  super().__init__(name, **kwargs)\n"
     ]
    },
    {
     "name": "stdout",
     "output_type": "stream",
     "text": [
      "frozen dataset 0\n",
      "frozen dataset 1\n",
      "frozen dataset 2\n",
      "frozen dataset 3\n"
     ]
    },
    {
     "name": "stderr",
     "output_type": "stream",
     "text": [
      "/home/argykokk/miniconda3/envs/hls4ml-tutorial/lib/python3.8/site-packages/keras/optimizers/optimizer_v2/adam.py:114: UserWarning: The `lr` argument is deprecated, use `learning_rate` instead.\n",
      "  super().__init__(name, **kwargs)\n"
     ]
    },
    {
     "name": "stdout",
     "output_type": "stream",
     "text": [
      "46/46 [==============================] - 0s 1ms/step - loss: 1.2635 - accuracy: 0.4714\n",
      "accuracy = 0.4714285731315613\n",
      "Interpreting Sequential\n",
      "Topology:\n",
      "Layer name: fc1_input, layer type: Input\n",
      "Layer name: fc1, layer type: QDense\n",
      "Layer name: relu1, layer type: QActivation\n",
      "Layer name: output, layer type: QDense\n",
      "Layer name: softmax, layer type: Activation\n",
      "copy top.v, sim.Xtest, and sim.Ytest to the synopsys project \n"
     ]
    },
    {
     "name": "stderr",
     "output_type": "stream",
     "text": [
      "/home/argykokk/miniconda3/envs/hls4ml-tutorial/lib/python3.8/site-packages/keras/initializers/initializers_v2.py:120: UserWarning: The initializer LecunUniform is unseeded and being called multiple times, which will return identical values  each time (even if the initializer is unseeded). Please update your code to provide a seed to the initializer, or avoid using the same initalizer instance more than once.\n",
      "  warnings.warn(\n"
     ]
    },
    {
     "name": "stdout",
     "output_type": "stream",
     "text": [
      "frozen dataset 0\n",
      "frozen dataset 1\n",
      "frozen dataset 2\n",
      "frozen dataset 3\n",
      "frozen dataset 4\n",
      "frozen dataset 5\n",
      "frozen dataset 6\n",
      "frozen dataset 7\n",
      "frozen dataset 8\n",
      "frozen dataset 9\n",
      "frozen dataset 10\n"
     ]
    },
    {
     "name": "stderr",
     "output_type": "stream",
     "text": [
      "/home/argykokk/miniconda3/envs/hls4ml-tutorial/lib/python3.8/site-packages/keras/optimizers/optimizer_v2/adam.py:114: UserWarning: The `lr` argument is deprecated, use `learning_rate` instead.\n",
      "  super().__init__(name, **kwargs)\n"
     ]
    },
    {
     "name": "stdout",
     "output_type": "stream",
     "text": [
      "frozen dataset 0\n",
      "frozen dataset 1\n",
      "frozen dataset 2\n",
      "frozen dataset 3\n"
     ]
    },
    {
     "name": "stderr",
     "output_type": "stream",
     "text": [
      "/home/argykokk/miniconda3/envs/hls4ml-tutorial/lib/python3.8/site-packages/keras/optimizers/optimizer_v2/adam.py:114: UserWarning: The `lr` argument is deprecated, use `learning_rate` instead.\n",
      "  super().__init__(name, **kwargs)\n"
     ]
    },
    {
     "name": "stdout",
     "output_type": "stream",
     "text": [
      "46/46 [==============================] - 0s 993us/step - loss: 1.2635 - accuracy: 0.4714\n",
      "accuracy = 0.4714285731315613\n",
      "Interpreting Sequential\n",
      "Topology:\n",
      "Layer name: fc1_input, layer type: Input\n",
      "Layer name: fc1, layer type: QDense\n",
      "Layer name: relu1, layer type: QActivation\n",
      "Layer name: output, layer type: QDense\n",
      "Layer name: softmax, layer type: Activation\n",
      "copy top.v, sim.Xtest, and sim.Ytest to the synopsys project \n"
     ]
    },
    {
     "name": "stderr",
     "output_type": "stream",
     "text": [
      "/home/argykokk/miniconda3/envs/hls4ml-tutorial/lib/python3.8/site-packages/keras/initializers/initializers_v2.py:120: UserWarning: The initializer LecunUniform is unseeded and being called multiple times, which will return identical values  each time (even if the initializer is unseeded). Please update your code to provide a seed to the initializer, or avoid using the same initalizer instance more than once.\n",
      "  warnings.warn(\n"
     ]
    },
    {
     "name": "stdout",
     "output_type": "stream",
     "text": [
      "frozen dataset 0\n",
      "frozen dataset 1\n",
      "frozen dataset 2\n",
      "frozen dataset 3\n",
      "frozen dataset 4\n",
      "frozen dataset 5\n",
      "frozen dataset 6\n",
      "frozen dataset 7\n",
      "frozen dataset 8\n",
      "frozen dataset 9\n",
      "frozen dataset 10\n"
     ]
    },
    {
     "name": "stderr",
     "output_type": "stream",
     "text": [
      "/home/argykokk/miniconda3/envs/hls4ml-tutorial/lib/python3.8/site-packages/keras/optimizers/optimizer_v2/adam.py:114: UserWarning: The `lr` argument is deprecated, use `learning_rate` instead.\n",
      "  super().__init__(name, **kwargs)\n"
     ]
    },
    {
     "name": "stdout",
     "output_type": "stream",
     "text": [
      "frozen dataset 0\n",
      "frozen dataset 1\n",
      "frozen dataset 2\n",
      "frozen dataset 3\n"
     ]
    },
    {
     "name": "stderr",
     "output_type": "stream",
     "text": [
      "/home/argykokk/miniconda3/envs/hls4ml-tutorial/lib/python3.8/site-packages/keras/optimizers/optimizer_v2/adam.py:114: UserWarning: The `lr` argument is deprecated, use `learning_rate` instead.\n",
      "  super().__init__(name, **kwargs)\n"
     ]
    },
    {
     "name": "stdout",
     "output_type": "stream",
     "text": [
      "46/46 [==============================] - 0s 2ms/step - loss: 1.2635 - accuracy: 0.4714\n",
      "accuracy = 0.4714285731315613\n",
      "Interpreting Sequential\n",
      "Topology:\n",
      "Layer name: fc1_input, layer type: Input\n",
      "Layer name: fc1, layer type: QDense\n",
      "Layer name: relu1, layer type: QActivation\n",
      "Layer name: output, layer type: QDense\n",
      "Layer name: softmax, layer type: Activation\n",
      "copy top.v, sim.Xtest, and sim.Ytest to the synopsys project \n"
     ]
    },
    {
     "name": "stderr",
     "output_type": "stream",
     "text": [
      "/home/argykokk/miniconda3/envs/hls4ml-tutorial/lib/python3.8/site-packages/keras/initializers/initializers_v2.py:120: UserWarning: The initializer LecunUniform is unseeded and being called multiple times, which will return identical values  each time (even if the initializer is unseeded). Please update your code to provide a seed to the initializer, or avoid using the same initalizer instance more than once.\n",
      "  warnings.warn(\n"
     ]
    },
    {
     "name": "stdout",
     "output_type": "stream",
     "text": [
      "frozen dataset 0\n",
      "frozen dataset 1\n",
      "frozen dataset 2\n",
      "frozen dataset 3\n",
      "frozen dataset 4\n",
      "frozen dataset 5\n",
      "frozen dataset 6\n",
      "frozen dataset 7\n",
      "frozen dataset 8\n",
      "frozen dataset 9\n",
      "frozen dataset 10\n"
     ]
    },
    {
     "name": "stderr",
     "output_type": "stream",
     "text": [
      "/home/argykokk/miniconda3/envs/hls4ml-tutorial/lib/python3.8/site-packages/keras/optimizers/optimizer_v2/adam.py:114: UserWarning: The `lr` argument is deprecated, use `learning_rate` instead.\n",
      "  super().__init__(name, **kwargs)\n"
     ]
    },
    {
     "name": "stdout",
     "output_type": "stream",
     "text": [
      "frozen dataset 0\n",
      "frozen dataset 1\n",
      "frozen dataset 2\n",
      "frozen dataset 3\n"
     ]
    },
    {
     "name": "stderr",
     "output_type": "stream",
     "text": [
      "/home/argykokk/miniconda3/envs/hls4ml-tutorial/lib/python3.8/site-packages/keras/optimizers/optimizer_v2/adam.py:114: UserWarning: The `lr` argument is deprecated, use `learning_rate` instead.\n",
      "  super().__init__(name, **kwargs)\n"
     ]
    },
    {
     "name": "stdout",
     "output_type": "stream",
     "text": [
      "46/46 [==============================] - 0s 1ms/step - loss: 1.2635 - accuracy: 0.4714\n",
      "accuracy = 0.4714285731315613\n",
      "Interpreting Sequential\n",
      "Topology:\n",
      "Layer name: fc1_input, layer type: Input\n",
      "Layer name: fc1, layer type: QDense\n",
      "Layer name: relu1, layer type: QActivation\n",
      "Layer name: output, layer type: QDense\n",
      "Layer name: softmax, layer type: Activation\n",
      "copy top.v, sim.Xtest, and sim.Ytest to the synopsys project \n"
     ]
    },
    {
     "name": "stderr",
     "output_type": "stream",
     "text": [
      "/home/argykokk/miniconda3/envs/hls4ml-tutorial/lib/python3.8/site-packages/keras/initializers/initializers_v2.py:120: UserWarning: The initializer LecunUniform is unseeded and being called multiple times, which will return identical values  each time (even if the initializer is unseeded). Please update your code to provide a seed to the initializer, or avoid using the same initalizer instance more than once.\n",
      "  warnings.warn(\n"
     ]
    },
    {
     "name": "stdout",
     "output_type": "stream",
     "text": [
      "frozen dataset 0\n",
      "frozen dataset 1\n",
      "frozen dataset 2\n",
      "frozen dataset 3\n",
      "frozen dataset 4\n",
      "frozen dataset 5\n",
      "frozen dataset 6\n",
      "frozen dataset 7\n",
      "frozen dataset 8\n",
      "frozen dataset 9\n",
      "frozen dataset 10\n",
      "frozen dataset 0\n",
      "frozen dataset 1\n",
      "frozen dataset 2\n",
      "frozen dataset 3\n"
     ]
    },
    {
     "name": "stderr",
     "output_type": "stream",
     "text": [
      "/home/argykokk/miniconda3/envs/hls4ml-tutorial/lib/python3.8/site-packages/keras/optimizers/optimizer_v2/adam.py:114: UserWarning: The `lr` argument is deprecated, use `learning_rate` instead.\n",
      "  super().__init__(name, **kwargs)\n",
      "/home/argykokk/miniconda3/envs/hls4ml-tutorial/lib/python3.8/site-packages/keras/optimizers/optimizer_v2/adam.py:114: UserWarning: The `lr` argument is deprecated, use `learning_rate` instead.\n",
      "  super().__init__(name, **kwargs)\n"
     ]
    },
    {
     "name": "stdout",
     "output_type": "stream",
     "text": [
      "46/46 [==============================] - 0s 1ms/step - loss: 1.2635 - accuracy: 0.4714\n",
      "accuracy = 0.4714285731315613\n",
      "Interpreting Sequential\n",
      "Topology:\n",
      "Layer name: fc1_input, layer type: Input\n",
      "Layer name: fc1, layer type: QDense\n",
      "Layer name: relu1, layer type: QActivation\n",
      "Layer name: output, layer type: QDense\n",
      "Layer name: softmax, layer type: Activation\n",
      "copy top.v, sim.Xtest, and sim.Ytest to the synopsys project \n"
     ]
    },
    {
     "name": "stderr",
     "output_type": "stream",
     "text": [
      "/home/argykokk/miniconda3/envs/hls4ml-tutorial/lib/python3.8/site-packages/keras/initializers/initializers_v2.py:120: UserWarning: The initializer LecunUniform is unseeded and being called multiple times, which will return identical values  each time (even if the initializer is unseeded). Please update your code to provide a seed to the initializer, or avoid using the same initalizer instance more than once.\n",
      "  warnings.warn(\n"
     ]
    },
    {
     "name": "stdout",
     "output_type": "stream",
     "text": [
      "frozen dataset 0\n",
      "frozen dataset 1\n",
      "frozen dataset 2\n",
      "frozen dataset 3\n",
      "frozen dataset 4\n",
      "frozen dataset 5\n",
      "frozen dataset 6\n",
      "frozen dataset 7\n",
      "frozen dataset 8\n",
      "frozen dataset 9\n",
      "frozen dataset 10\n",
      "frozen dataset 0\n",
      "frozen dataset 1\n",
      "frozen dataset 2\n",
      "frozen dataset 3\n"
     ]
    },
    {
     "name": "stderr",
     "output_type": "stream",
     "text": [
      "/home/argykokk/miniconda3/envs/hls4ml-tutorial/lib/python3.8/site-packages/keras/optimizers/optimizer_v2/adam.py:114: UserWarning: The `lr` argument is deprecated, use `learning_rate` instead.\n",
      "  super().__init__(name, **kwargs)\n",
      "/home/argykokk/miniconda3/envs/hls4ml-tutorial/lib/python3.8/site-packages/keras/optimizers/optimizer_v2/adam.py:114: UserWarning: The `lr` argument is deprecated, use `learning_rate` instead.\n",
      "  super().__init__(name, **kwargs)\n"
     ]
    },
    {
     "name": "stdout",
     "output_type": "stream",
     "text": [
      "46/46 [==============================] - 0s 1ms/step - loss: 1.2635 - accuracy: 0.4714\n",
      "accuracy = 0.4714285731315613\n",
      "Interpreting Sequential\n",
      "Topology:\n",
      "Layer name: fc1_input, layer type: Input\n",
      "Layer name: fc1, layer type: QDense\n",
      "Layer name: relu1, layer type: QActivation\n",
      "Layer name: output, layer type: QDense\n",
      "Layer name: softmax, layer type: Activation\n",
      "copy top.v, sim.Xtest, and sim.Ytest to the synopsys project \n"
     ]
    },
    {
     "name": "stderr",
     "output_type": "stream",
     "text": [
      "/home/argykokk/miniconda3/envs/hls4ml-tutorial/lib/python3.8/site-packages/keras/initializers/initializers_v2.py:120: UserWarning: The initializer LecunUniform is unseeded and being called multiple times, which will return identical values  each time (even if the initializer is unseeded). Please update your code to provide a seed to the initializer, or avoid using the same initalizer instance more than once.\n",
      "  warnings.warn(\n"
     ]
    },
    {
     "name": "stdout",
     "output_type": "stream",
     "text": [
      "frozen dataset 0\n",
      "frozen dataset 1\n",
      "frozen dataset 2\n",
      "frozen dataset 3\n",
      "frozen dataset 4\n",
      "frozen dataset 5\n",
      "frozen dataset 6\n",
      "frozen dataset 7\n",
      "frozen dataset 8\n",
      "frozen dataset 9\n",
      "frozen dataset 10\n"
     ]
    },
    {
     "name": "stderr",
     "output_type": "stream",
     "text": [
      "/home/argykokk/miniconda3/envs/hls4ml-tutorial/lib/python3.8/site-packages/keras/optimizers/optimizer_v2/adam.py:114: UserWarning: The `lr` argument is deprecated, use `learning_rate` instead.\n",
      "  super().__init__(name, **kwargs)\n"
     ]
    },
    {
     "name": "stdout",
     "output_type": "stream",
     "text": [
      "frozen dataset 0\n",
      "frozen dataset 1\n",
      "frozen dataset 2\n",
      "frozen dataset 3\n"
     ]
    },
    {
     "name": "stderr",
     "output_type": "stream",
     "text": [
      "/home/argykokk/miniconda3/envs/hls4ml-tutorial/lib/python3.8/site-packages/keras/optimizers/optimizer_v2/adam.py:114: UserWarning: The `lr` argument is deprecated, use `learning_rate` instead.\n",
      "  super().__init__(name, **kwargs)\n"
     ]
    },
    {
     "name": "stdout",
     "output_type": "stream",
     "text": [
      "46/46 [==============================] - 0s 1ms/step - loss: 1.2635 - accuracy: 0.4714\n",
      "accuracy = 0.4714285731315613\n",
      "Interpreting Sequential\n",
      "Topology:\n",
      "Layer name: fc1_input, layer type: Input\n",
      "Layer name: fc1, layer type: QDense\n",
      "Layer name: relu1, layer type: QActivation\n",
      "Layer name: output, layer type: QDense\n",
      "Layer name: softmax, layer type: Activation\n",
      "copy top.v, sim.Xtest, and sim.Ytest to the synopsys project \n"
     ]
    },
    {
     "name": "stderr",
     "output_type": "stream",
     "text": [
      "/home/argykokk/miniconda3/envs/hls4ml-tutorial/lib/python3.8/site-packages/keras/initializers/initializers_v2.py:120: UserWarning: The initializer LecunUniform is unseeded and being called multiple times, which will return identical values  each time (even if the initializer is unseeded). Please update your code to provide a seed to the initializer, or avoid using the same initalizer instance more than once.\n",
      "  warnings.warn(\n"
     ]
    },
    {
     "name": "stdout",
     "output_type": "stream",
     "text": [
      "frozen dataset 0\n",
      "frozen dataset 1\n",
      "frozen dataset 2\n",
      "frozen dataset 3\n",
      "frozen dataset 4\n",
      "frozen dataset 5\n",
      "frozen dataset 6\n",
      "frozen dataset 7\n",
      "frozen dataset 8\n",
      "frozen dataset 9\n",
      "frozen dataset 10\n"
     ]
    },
    {
     "name": "stderr",
     "output_type": "stream",
     "text": [
      "/home/argykokk/miniconda3/envs/hls4ml-tutorial/lib/python3.8/site-packages/keras/optimizers/optimizer_v2/adam.py:114: UserWarning: The `lr` argument is deprecated, use `learning_rate` instead.\n",
      "  super().__init__(name, **kwargs)\n"
     ]
    },
    {
     "name": "stdout",
     "output_type": "stream",
     "text": [
      "frozen dataset 0\n",
      "frozen dataset 1\n",
      "frozen dataset 2\n",
      "frozen dataset 3\n"
     ]
    },
    {
     "name": "stderr",
     "output_type": "stream",
     "text": [
      "/home/argykokk/miniconda3/envs/hls4ml-tutorial/lib/python3.8/site-packages/keras/optimizers/optimizer_v2/adam.py:114: UserWarning: The `lr` argument is deprecated, use `learning_rate` instead.\n",
      "  super().__init__(name, **kwargs)\n"
     ]
    },
    {
     "name": "stdout",
     "output_type": "stream",
     "text": [
      "46/46 [==============================] - 0s 950us/step - loss: 1.2635 - accuracy: 0.4714\n",
      "accuracy = 0.4714285731315613\n",
      "Interpreting Sequential\n",
      "Topology:\n",
      "Layer name: fc1_input, layer type: Input\n",
      "Layer name: fc1, layer type: QDense\n",
      "Layer name: relu1, layer type: QActivation\n",
      "Layer name: output, layer type: QDense\n",
      "Layer name: softmax, layer type: Activation\n",
      "copy top.v, sim.Xtest, and sim.Ytest to the synopsys project \n"
     ]
    },
    {
     "name": "stderr",
     "output_type": "stream",
     "text": [
      "/home/argykokk/miniconda3/envs/hls4ml-tutorial/lib/python3.8/site-packages/keras/initializers/initializers_v2.py:120: UserWarning: The initializer LecunUniform is unseeded and being called multiple times, which will return identical values  each time (even if the initializer is unseeded). Please update your code to provide a seed to the initializer, or avoid using the same initalizer instance more than once.\n",
      "  warnings.warn(\n"
     ]
    },
    {
     "name": "stdout",
     "output_type": "stream",
     "text": [
      "frozen dataset 0\n",
      "frozen dataset 1\n",
      "frozen dataset 2\n",
      "frozen dataset 3\n",
      "frozen dataset 4\n",
      "frozen dataset 5\n",
      "frozen dataset 6\n",
      "frozen dataset 7\n",
      "frozen dataset 8\n",
      "frozen dataset 9\n",
      "frozen dataset 10\n"
     ]
    },
    {
     "name": "stderr",
     "output_type": "stream",
     "text": [
      "/home/argykokk/miniconda3/envs/hls4ml-tutorial/lib/python3.8/site-packages/keras/optimizers/optimizer_v2/adam.py:114: UserWarning: The `lr` argument is deprecated, use `learning_rate` instead.\n",
      "  super().__init__(name, **kwargs)\n"
     ]
    },
    {
     "name": "stdout",
     "output_type": "stream",
     "text": [
      "frozen dataset 0\n",
      "frozen dataset 1\n",
      "frozen dataset 2\n",
      "frozen dataset 3\n"
     ]
    },
    {
     "name": "stderr",
     "output_type": "stream",
     "text": [
      "/home/argykokk/miniconda3/envs/hls4ml-tutorial/lib/python3.8/site-packages/keras/optimizers/optimizer_v2/adam.py:114: UserWarning: The `lr` argument is deprecated, use `learning_rate` instead.\n",
      "  super().__init__(name, **kwargs)\n"
     ]
    },
    {
     "name": "stdout",
     "output_type": "stream",
     "text": [
      "46/46 [==============================] - 0s 997us/step - loss: 1.2635 - accuracy: 0.4714\n",
      "accuracy = 0.4714285731315613\n",
      "Interpreting Sequential\n",
      "Topology:\n",
      "Layer name: fc1_input, layer type: Input\n",
      "Layer name: fc1, layer type: QDense\n",
      "Layer name: relu1, layer type: QActivation\n",
      "Layer name: output, layer type: QDense\n",
      "Layer name: softmax, layer type: Activation\n",
      "copy top.v, sim.Xtest, and sim.Ytest to the synopsys project \n"
     ]
    },
    {
     "name": "stderr",
     "output_type": "stream",
     "text": [
      "/home/argykokk/miniconda3/envs/hls4ml-tutorial/lib/python3.8/site-packages/keras/initializers/initializers_v2.py:120: UserWarning: The initializer LecunUniform is unseeded and being called multiple times, which will return identical values  each time (even if the initializer is unseeded). Please update your code to provide a seed to the initializer, or avoid using the same initalizer instance more than once.\n",
      "  warnings.warn(\n"
     ]
    },
    {
     "name": "stdout",
     "output_type": "stream",
     "text": [
      "frozen dataset 0\n",
      "frozen dataset 1\n",
      "frozen dataset 2\n",
      "frozen dataset 3\n",
      "frozen dataset 4\n",
      "frozen dataset 5\n",
      "frozen dataset 6\n",
      "frozen dataset 7\n",
      "frozen dataset 8\n",
      "frozen dataset 9\n",
      "frozen dataset 10\n"
     ]
    },
    {
     "name": "stderr",
     "output_type": "stream",
     "text": [
      "/home/argykokk/miniconda3/envs/hls4ml-tutorial/lib/python3.8/site-packages/keras/optimizers/optimizer_v2/adam.py:114: UserWarning: The `lr` argument is deprecated, use `learning_rate` instead.\n",
      "  super().__init__(name, **kwargs)\n"
     ]
    },
    {
     "name": "stdout",
     "output_type": "stream",
     "text": [
      "frozen dataset 0\n",
      "frozen dataset 1\n",
      "frozen dataset 2\n",
      "frozen dataset 3\n"
     ]
    },
    {
     "name": "stderr",
     "output_type": "stream",
     "text": [
      "/home/argykokk/miniconda3/envs/hls4ml-tutorial/lib/python3.8/site-packages/keras/optimizers/optimizer_v2/adam.py:114: UserWarning: The `lr` argument is deprecated, use `learning_rate` instead.\n",
      "  super().__init__(name, **kwargs)\n"
     ]
    },
    {
     "name": "stdout",
     "output_type": "stream",
     "text": [
      "46/46 [==============================] - 0s 1ms/step - loss: 1.2635 - accuracy: 0.4714\n",
      "accuracy = 0.4714285731315613\n",
      "Interpreting Sequential\n",
      "Topology:\n",
      "Layer name: fc1_input, layer type: Input\n",
      "Layer name: fc1, layer type: QDense\n",
      "Layer name: relu1, layer type: QActivation\n",
      "Layer name: output, layer type: QDense\n",
      "Layer name: softmax, layer type: Activation\n",
      "copy top.v, sim.Xtest, and sim.Ytest to the synopsys project \n"
     ]
    },
    {
     "name": "stderr",
     "output_type": "stream",
     "text": [
      "/home/argykokk/miniconda3/envs/hls4ml-tutorial/lib/python3.8/site-packages/keras/initializers/initializers_v2.py:120: UserWarning: The initializer LecunUniform is unseeded and being called multiple times, which will return identical values  each time (even if the initializer is unseeded). Please update your code to provide a seed to the initializer, or avoid using the same initalizer instance more than once.\n",
      "  warnings.warn(\n"
     ]
    },
    {
     "name": "stdout",
     "output_type": "stream",
     "text": [
      "frozen dataset 0\n",
      "frozen dataset 1\n",
      "frozen dataset 2\n",
      "frozen dataset 3\n",
      "frozen dataset 4\n",
      "frozen dataset 5\n",
      "frozen dataset 6\n",
      "frozen dataset 7\n",
      "frozen dataset 8\n",
      "frozen dataset 9\n",
      "frozen dataset 10\n"
     ]
    },
    {
     "name": "stderr",
     "output_type": "stream",
     "text": [
      "/home/argykokk/miniconda3/envs/hls4ml-tutorial/lib/python3.8/site-packages/keras/optimizers/optimizer_v2/adam.py:114: UserWarning: The `lr` argument is deprecated, use `learning_rate` instead.\n",
      "  super().__init__(name, **kwargs)\n"
     ]
    },
    {
     "name": "stdout",
     "output_type": "stream",
     "text": [
      "frozen dataset 0\n",
      "frozen dataset 1\n",
      "frozen dataset 2\n",
      "frozen dataset 3\n"
     ]
    },
    {
     "name": "stderr",
     "output_type": "stream",
     "text": [
      "/home/argykokk/miniconda3/envs/hls4ml-tutorial/lib/python3.8/site-packages/keras/optimizers/optimizer_v2/adam.py:114: UserWarning: The `lr` argument is deprecated, use `learning_rate` instead.\n",
      "  super().__init__(name, **kwargs)\n"
     ]
    },
    {
     "name": "stdout",
     "output_type": "stream",
     "text": [
      "46/46 [==============================] - 0s 1ms/step - loss: 1.2635 - accuracy: 0.4714\n",
      "accuracy = 0.4714285731315613\n",
      "Interpreting Sequential\n",
      "Topology:\n",
      "Layer name: fc1_input, layer type: Input\n",
      "Layer name: fc1, layer type: QDense\n",
      "Layer name: relu1, layer type: QActivation\n",
      "Layer name: output, layer type: QDense\n",
      "Layer name: softmax, layer type: Activation\n",
      "copy top.v, sim.Xtest, and sim.Ytest to the synopsys project \n"
     ]
    },
    {
     "name": "stderr",
     "output_type": "stream",
     "text": [
      "/home/argykokk/miniconda3/envs/hls4ml-tutorial/lib/python3.8/site-packages/keras/initializers/initializers_v2.py:120: UserWarning: The initializer LecunUniform is unseeded and being called multiple times, which will return identical values  each time (even if the initializer is unseeded). Please update your code to provide a seed to the initializer, or avoid using the same initalizer instance more than once.\n",
      "  warnings.warn(\n"
     ]
    },
    {
     "name": "stdout",
     "output_type": "stream",
     "text": [
      "frozen dataset 0\n",
      "frozen dataset 1\n",
      "frozen dataset 2\n",
      "frozen dataset 3\n",
      "frozen dataset 4\n",
      "frozen dataset 5\n",
      "frozen dataset 6\n",
      "frozen dataset 7\n",
      "frozen dataset 8\n",
      "frozen dataset 9\n",
      "frozen dataset 10\n"
     ]
    },
    {
     "name": "stderr",
     "output_type": "stream",
     "text": [
      "/home/argykokk/miniconda3/envs/hls4ml-tutorial/lib/python3.8/site-packages/keras/optimizers/optimizer_v2/adam.py:114: UserWarning: The `lr` argument is deprecated, use `learning_rate` instead.\n",
      "  super().__init__(name, **kwargs)\n"
     ]
    },
    {
     "name": "stdout",
     "output_type": "stream",
     "text": [
      "frozen dataset 0\n",
      "frozen dataset 1\n",
      "frozen dataset 2\n",
      "frozen dataset 3\n"
     ]
    },
    {
     "name": "stderr",
     "output_type": "stream",
     "text": [
      "/home/argykokk/miniconda3/envs/hls4ml-tutorial/lib/python3.8/site-packages/keras/optimizers/optimizer_v2/adam.py:114: UserWarning: The `lr` argument is deprecated, use `learning_rate` instead.\n",
      "  super().__init__(name, **kwargs)\n"
     ]
    },
    {
     "name": "stdout",
     "output_type": "stream",
     "text": [
      "46/46 [==============================] - 0s 962us/step - loss: 1.2574 - accuracy: 0.5095\n",
      "accuracy = 0.5095238089561462\n",
      "Interpreting Sequential\n",
      "Topology:\n",
      "Layer name: fc1_input, layer type: Input\n",
      "Layer name: fc1, layer type: QDense\n",
      "Layer name: relu1, layer type: QActivation\n",
      "Layer name: output, layer type: QDense\n",
      "Layer name: softmax, layer type: Activation\n",
      "copy top.v, sim.Xtest, and sim.Ytest to the synopsys project \n"
     ]
    },
    {
     "name": "stderr",
     "output_type": "stream",
     "text": [
      "/home/argykokk/miniconda3/envs/hls4ml-tutorial/lib/python3.8/site-packages/keras/initializers/initializers_v2.py:120: UserWarning: The initializer LecunUniform is unseeded and being called multiple times, which will return identical values  each time (even if the initializer is unseeded). Please update your code to provide a seed to the initializer, or avoid using the same initalizer instance more than once.\n",
      "  warnings.warn(\n"
     ]
    },
    {
     "name": "stdout",
     "output_type": "stream",
     "text": [
      "frozen dataset 0\n",
      "frozen dataset 1\n",
      "frozen dataset 2\n",
      "frozen dataset 3\n",
      "frozen dataset 4\n",
      "frozen dataset 5\n",
      "frozen dataset 6\n",
      "frozen dataset 7\n",
      "frozen dataset 8\n",
      "frozen dataset 9\n",
      "frozen dataset 10\n"
     ]
    },
    {
     "name": "stderr",
     "output_type": "stream",
     "text": [
      "/home/argykokk/miniconda3/envs/hls4ml-tutorial/lib/python3.8/site-packages/keras/optimizers/optimizer_v2/adam.py:114: UserWarning: The `lr` argument is deprecated, use `learning_rate` instead.\n",
      "  super().__init__(name, **kwargs)\n"
     ]
    },
    {
     "name": "stdout",
     "output_type": "stream",
     "text": [
      "frozen dataset 0\n",
      "frozen dataset 1\n",
      "frozen dataset 2\n",
      "frozen dataset 3\n"
     ]
    },
    {
     "name": "stderr",
     "output_type": "stream",
     "text": [
      "/home/argykokk/miniconda3/envs/hls4ml-tutorial/lib/python3.8/site-packages/keras/optimizers/optimizer_v2/adam.py:114: UserWarning: The `lr` argument is deprecated, use `learning_rate` instead.\n",
      "  super().__init__(name, **kwargs)\n"
     ]
    },
    {
     "name": "stdout",
     "output_type": "stream",
     "text": [
      "46/46 [==============================] - 0s 986us/step - loss: 1.2574 - accuracy: 0.5095\n",
      "accuracy = 0.5095238089561462\n",
      "Interpreting Sequential\n",
      "Topology:\n",
      "Layer name: fc1_input, layer type: Input\n",
      "Layer name: fc1, layer type: QDense\n",
      "Layer name: relu1, layer type: QActivation\n",
      "Layer name: output, layer type: QDense\n",
      "Layer name: softmax, layer type: Activation\n",
      "copy top.v, sim.Xtest, and sim.Ytest to the synopsys project \n"
     ]
    },
    {
     "name": "stderr",
     "output_type": "stream",
     "text": [
      "/home/argykokk/miniconda3/envs/hls4ml-tutorial/lib/python3.8/site-packages/keras/initializers/initializers_v2.py:120: UserWarning: The initializer LecunUniform is unseeded and being called multiple times, which will return identical values  each time (even if the initializer is unseeded). Please update your code to provide a seed to the initializer, or avoid using the same initalizer instance more than once.\n",
      "  warnings.warn(\n"
     ]
    },
    {
     "name": "stdout",
     "output_type": "stream",
     "text": [
      "frozen dataset 0\n",
      "frozen dataset 1\n",
      "frozen dataset 2\n",
      "frozen dataset 3\n",
      "frozen dataset 4\n",
      "frozen dataset 5\n",
      "frozen dataset 6\n",
      "frozen dataset 7\n",
      "frozen dataset 8\n",
      "frozen dataset 9\n",
      "frozen dataset 10\n"
     ]
    },
    {
     "name": "stderr",
     "output_type": "stream",
     "text": [
      "/home/argykokk/miniconda3/envs/hls4ml-tutorial/lib/python3.8/site-packages/keras/optimizers/optimizer_v2/adam.py:114: UserWarning: The `lr` argument is deprecated, use `learning_rate` instead.\n",
      "  super().__init__(name, **kwargs)\n"
     ]
    },
    {
     "name": "stdout",
     "output_type": "stream",
     "text": [
      "frozen dataset 0\n",
      "frozen dataset 1\n",
      "frozen dataset 2\n",
      "frozen dataset 3\n"
     ]
    },
    {
     "name": "stderr",
     "output_type": "stream",
     "text": [
      "/home/argykokk/miniconda3/envs/hls4ml-tutorial/lib/python3.8/site-packages/keras/optimizers/optimizer_v2/adam.py:114: UserWarning: The `lr` argument is deprecated, use `learning_rate` instead.\n",
      "  super().__init__(name, **kwargs)\n"
     ]
    },
    {
     "name": "stdout",
     "output_type": "stream",
     "text": [
      "46/46 [==============================] - 0s 961us/step - loss: 1.2574 - accuracy: 0.5095\n",
      "accuracy = 0.5095238089561462\n",
      "Interpreting Sequential\n",
      "Topology:\n",
      "Layer name: fc1_input, layer type: Input\n",
      "Layer name: fc1, layer type: QDense\n",
      "Layer name: relu1, layer type: QActivation\n",
      "Layer name: output, layer type: QDense\n",
      "Layer name: softmax, layer type: Activation\n",
      "copy top.v, sim.Xtest, and sim.Ytest to the synopsys project \n"
     ]
    },
    {
     "name": "stderr",
     "output_type": "stream",
     "text": [
      "/home/argykokk/miniconda3/envs/hls4ml-tutorial/lib/python3.8/site-packages/keras/initializers/initializers_v2.py:120: UserWarning: The initializer LecunUniform is unseeded and being called multiple times, which will return identical values  each time (even if the initializer is unseeded). Please update your code to provide a seed to the initializer, or avoid using the same initalizer instance more than once.\n",
      "  warnings.warn(\n"
     ]
    },
    {
     "name": "stdout",
     "output_type": "stream",
     "text": [
      "frozen dataset 0\n",
      "frozen dataset 1\n",
      "frozen dataset 2\n",
      "frozen dataset 3\n",
      "frozen dataset 4\n",
      "frozen dataset 5\n",
      "frozen dataset 6\n",
      "frozen dataset 7\n",
      "frozen dataset 8\n",
      "frozen dataset 9\n",
      "frozen dataset 10\n",
      "frozen dataset 0\n",
      "frozen dataset 1\n",
      "frozen dataset 2\n",
      "frozen dataset 3\n"
     ]
    },
    {
     "name": "stderr",
     "output_type": "stream",
     "text": [
      "/home/argykokk/miniconda3/envs/hls4ml-tutorial/lib/python3.8/site-packages/keras/optimizers/optimizer_v2/adam.py:114: UserWarning: The `lr` argument is deprecated, use `learning_rate` instead.\n",
      "  super().__init__(name, **kwargs)\n",
      "/home/argykokk/miniconda3/envs/hls4ml-tutorial/lib/python3.8/site-packages/keras/optimizers/optimizer_v2/adam.py:114: UserWarning: The `lr` argument is deprecated, use `learning_rate` instead.\n",
      "  super().__init__(name, **kwargs)\n"
     ]
    },
    {
     "name": "stdout",
     "output_type": "stream",
     "text": [
      "46/46 [==============================] - 0s 1ms/step - loss: 1.2574 - accuracy: 0.5095\n",
      "accuracy = 0.5095238089561462\n",
      "Interpreting Sequential\n",
      "Topology:\n",
      "Layer name: fc1_input, layer type: Input\n",
      "Layer name: fc1, layer type: QDense\n",
      "Layer name: relu1, layer type: QActivation\n",
      "Layer name: output, layer type: QDense\n",
      "Layer name: softmax, layer type: Activation\n",
      "copy top.v, sim.Xtest, and sim.Ytest to the synopsys project \n"
     ]
    },
    {
     "name": "stderr",
     "output_type": "stream",
     "text": [
      "/home/argykokk/miniconda3/envs/hls4ml-tutorial/lib/python3.8/site-packages/keras/initializers/initializers_v2.py:120: UserWarning: The initializer LecunUniform is unseeded and being called multiple times, which will return identical values  each time (even if the initializer is unseeded). Please update your code to provide a seed to the initializer, or avoid using the same initalizer instance more than once.\n",
      "  warnings.warn(\n"
     ]
    },
    {
     "name": "stdout",
     "output_type": "stream",
     "text": [
      "frozen dataset 0\n",
      "frozen dataset 1\n",
      "frozen dataset 2\n",
      "frozen dataset 3\n",
      "frozen dataset 4\n",
      "frozen dataset 5\n",
      "frozen dataset 6\n",
      "frozen dataset 7\n",
      "frozen dataset 8\n",
      "frozen dataset 9\n",
      "frozen dataset 10\n"
     ]
    },
    {
     "name": "stderr",
     "output_type": "stream",
     "text": [
      "/home/argykokk/miniconda3/envs/hls4ml-tutorial/lib/python3.8/site-packages/keras/optimizers/optimizer_v2/adam.py:114: UserWarning: The `lr` argument is deprecated, use `learning_rate` instead.\n",
      "  super().__init__(name, **kwargs)\n"
     ]
    },
    {
     "name": "stdout",
     "output_type": "stream",
     "text": [
      "frozen dataset 0\n",
      "frozen dataset 1\n",
      "frozen dataset 2\n",
      "frozen dataset 3\n"
     ]
    },
    {
     "name": "stderr",
     "output_type": "stream",
     "text": [
      "/home/argykokk/miniconda3/envs/hls4ml-tutorial/lib/python3.8/site-packages/keras/optimizers/optimizer_v2/adam.py:114: UserWarning: The `lr` argument is deprecated, use `learning_rate` instead.\n",
      "  super().__init__(name, **kwargs)\n"
     ]
    },
    {
     "name": "stdout",
     "output_type": "stream",
     "text": [
      "46/46 [==============================] - 0s 1ms/step - loss: 1.2574 - accuracy: 0.5095\n",
      "accuracy = 0.5095238089561462\n",
      "Interpreting Sequential\n",
      "Topology:\n",
      "Layer name: fc1_input, layer type: Input\n",
      "Layer name: fc1, layer type: QDense\n",
      "Layer name: relu1, layer type: QActivation\n",
      "Layer name: output, layer type: QDense\n",
      "Layer name: softmax, layer type: Activation\n",
      "copy top.v, sim.Xtest, and sim.Ytest to the synopsys project \n"
     ]
    },
    {
     "name": "stderr",
     "output_type": "stream",
     "text": [
      "/home/argykokk/miniconda3/envs/hls4ml-tutorial/lib/python3.8/site-packages/keras/initializers/initializers_v2.py:120: UserWarning: The initializer LecunUniform is unseeded and being called multiple times, which will return identical values  each time (even if the initializer is unseeded). Please update your code to provide a seed to the initializer, or avoid using the same initalizer instance more than once.\n",
      "  warnings.warn(\n"
     ]
    },
    {
     "name": "stdout",
     "output_type": "stream",
     "text": [
      "frozen dataset 0\n",
      "frozen dataset 1\n",
      "frozen dataset 2\n",
      "frozen dataset 3\n",
      "frozen dataset 4\n",
      "frozen dataset 5\n",
      "frozen dataset 6\n",
      "frozen dataset 7\n",
      "frozen dataset 8\n",
      "frozen dataset 9\n",
      "frozen dataset 10\n"
     ]
    },
    {
     "name": "stderr",
     "output_type": "stream",
     "text": [
      "/home/argykokk/miniconda3/envs/hls4ml-tutorial/lib/python3.8/site-packages/keras/optimizers/optimizer_v2/adam.py:114: UserWarning: The `lr` argument is deprecated, use `learning_rate` instead.\n",
      "  super().__init__(name, **kwargs)\n"
     ]
    },
    {
     "name": "stdout",
     "output_type": "stream",
     "text": [
      "frozen dataset 0\n",
      "frozen dataset 1\n",
      "frozen dataset 2\n",
      "frozen dataset 3\n"
     ]
    },
    {
     "name": "stderr",
     "output_type": "stream",
     "text": [
      "/home/argykokk/miniconda3/envs/hls4ml-tutorial/lib/python3.8/site-packages/keras/optimizers/optimizer_v2/adam.py:114: UserWarning: The `lr` argument is deprecated, use `learning_rate` instead.\n",
      "  super().__init__(name, **kwargs)\n"
     ]
    },
    {
     "name": "stdout",
     "output_type": "stream",
     "text": [
      "46/46 [==============================] - 0s 968us/step - loss: 1.2574 - accuracy: 0.5095\n",
      "accuracy = 0.5095238089561462\n",
      "Interpreting Sequential\n",
      "Topology:\n",
      "Layer name: fc1_input, layer type: Input\n",
      "Layer name: fc1, layer type: QDense\n",
      "Layer name: relu1, layer type: QActivation\n",
      "Layer name: output, layer type: QDense\n",
      "Layer name: softmax, layer type: Activation\n",
      "copy top.v, sim.Xtest, and sim.Ytest to the synopsys project \n"
     ]
    },
    {
     "name": "stderr",
     "output_type": "stream",
     "text": [
      "/home/argykokk/miniconda3/envs/hls4ml-tutorial/lib/python3.8/site-packages/keras/initializers/initializers_v2.py:120: UserWarning: The initializer LecunUniform is unseeded and being called multiple times, which will return identical values  each time (even if the initializer is unseeded). Please update your code to provide a seed to the initializer, or avoid using the same initalizer instance more than once.\n",
      "  warnings.warn(\n"
     ]
    },
    {
     "name": "stdout",
     "output_type": "stream",
     "text": [
      "frozen dataset 0\n",
      "frozen dataset 1\n",
      "frozen dataset 2\n",
      "frozen dataset 3\n",
      "frozen dataset 4\n",
      "frozen dataset 5\n",
      "frozen dataset 6\n",
      "frozen dataset 7\n",
      "frozen dataset 8\n",
      "frozen dataset 9\n",
      "frozen dataset 10\n"
     ]
    },
    {
     "name": "stderr",
     "output_type": "stream",
     "text": [
      "/home/argykokk/miniconda3/envs/hls4ml-tutorial/lib/python3.8/site-packages/keras/optimizers/optimizer_v2/adam.py:114: UserWarning: The `lr` argument is deprecated, use `learning_rate` instead.\n",
      "  super().__init__(name, **kwargs)\n"
     ]
    },
    {
     "name": "stdout",
     "output_type": "stream",
     "text": [
      "frozen dataset 0\n",
      "frozen dataset 1\n",
      "frozen dataset 2\n",
      "frozen dataset 3\n"
     ]
    },
    {
     "name": "stderr",
     "output_type": "stream",
     "text": [
      "/home/argykokk/miniconda3/envs/hls4ml-tutorial/lib/python3.8/site-packages/keras/optimizers/optimizer_v2/adam.py:114: UserWarning: The `lr` argument is deprecated, use `learning_rate` instead.\n",
      "  super().__init__(name, **kwargs)\n"
     ]
    },
    {
     "name": "stdout",
     "output_type": "stream",
     "text": [
      "46/46 [==============================] - 0s 962us/step - loss: 1.2574 - accuracy: 0.5095\n",
      "accuracy = 0.5095238089561462\n",
      "Interpreting Sequential\n",
      "Topology:\n",
      "Layer name: fc1_input, layer type: Input\n",
      "Layer name: fc1, layer type: QDense\n",
      "Layer name: relu1, layer type: QActivation\n",
      "Layer name: output, layer type: QDense\n",
      "Layer name: softmax, layer type: Activation\n",
      "copy top.v, sim.Xtest, and sim.Ytest to the synopsys project \n"
     ]
    },
    {
     "name": "stderr",
     "output_type": "stream",
     "text": [
      "/home/argykokk/miniconda3/envs/hls4ml-tutorial/lib/python3.8/site-packages/keras/initializers/initializers_v2.py:120: UserWarning: The initializer LecunUniform is unseeded and being called multiple times, which will return identical values  each time (even if the initializer is unseeded). Please update your code to provide a seed to the initializer, or avoid using the same initalizer instance more than once.\n",
      "  warnings.warn(\n"
     ]
    },
    {
     "name": "stdout",
     "output_type": "stream",
     "text": [
      "frozen dataset 0\n",
      "frozen dataset 1\n",
      "frozen dataset 2\n",
      "frozen dataset 3\n",
      "frozen dataset 4\n",
      "frozen dataset 5\n",
      "frozen dataset 6\n",
      "frozen dataset 7\n",
      "frozen dataset 8\n",
      "frozen dataset 9\n",
      "frozen dataset 10\n"
     ]
    },
    {
     "name": "stderr",
     "output_type": "stream",
     "text": [
      "/home/argykokk/miniconda3/envs/hls4ml-tutorial/lib/python3.8/site-packages/keras/optimizers/optimizer_v2/adam.py:114: UserWarning: The `lr` argument is deprecated, use `learning_rate` instead.\n",
      "  super().__init__(name, **kwargs)\n"
     ]
    },
    {
     "name": "stdout",
     "output_type": "stream",
     "text": [
      "frozen dataset 0\n",
      "frozen dataset 1\n",
      "frozen dataset 2\n",
      "frozen dataset 3\n"
     ]
    },
    {
     "name": "stderr",
     "output_type": "stream",
     "text": [
      "/home/argykokk/miniconda3/envs/hls4ml-tutorial/lib/python3.8/site-packages/keras/optimizers/optimizer_v2/adam.py:114: UserWarning: The `lr` argument is deprecated, use `learning_rate` instead.\n",
      "  super().__init__(name, **kwargs)\n"
     ]
    },
    {
     "name": "stdout",
     "output_type": "stream",
     "text": [
      "46/46 [==============================] - 0s 1ms/step - loss: 1.2574 - accuracy: 0.5095\n",
      "accuracy = 0.5095238089561462\n",
      "Interpreting Sequential\n",
      "Topology:\n",
      "Layer name: fc1_input, layer type: Input\n",
      "Layer name: fc1, layer type: QDense\n",
      "Layer name: relu1, layer type: QActivation\n",
      "Layer name: output, layer type: QDense\n",
      "Layer name: softmax, layer type: Activation\n",
      "copy top.v, sim.Xtest, and sim.Ytest to the synopsys project \n"
     ]
    },
    {
     "name": "stderr",
     "output_type": "stream",
     "text": [
      "/home/argykokk/miniconda3/envs/hls4ml-tutorial/lib/python3.8/site-packages/keras/initializers/initializers_v2.py:120: UserWarning: The initializer LecunUniform is unseeded and being called multiple times, which will return identical values  each time (even if the initializer is unseeded). Please update your code to provide a seed to the initializer, or avoid using the same initalizer instance more than once.\n",
      "  warnings.warn(\n"
     ]
    },
    {
     "name": "stdout",
     "output_type": "stream",
     "text": [
      "frozen dataset 0\n",
      "frozen dataset 1\n",
      "frozen dataset 2\n",
      "frozen dataset 3\n",
      "frozen dataset 4\n",
      "frozen dataset 5\n",
      "frozen dataset 6\n",
      "frozen dataset 7\n",
      "frozen dataset 8\n",
      "frozen dataset 9\n",
      "frozen dataset 10\n",
      "frozen dataset 0\n",
      "frozen dataset 1\n",
      "frozen dataset 2\n",
      "frozen dataset 3\n"
     ]
    },
    {
     "name": "stderr",
     "output_type": "stream",
     "text": [
      "/home/argykokk/miniconda3/envs/hls4ml-tutorial/lib/python3.8/site-packages/keras/optimizers/optimizer_v2/adam.py:114: UserWarning: The `lr` argument is deprecated, use `learning_rate` instead.\n",
      "  super().__init__(name, **kwargs)\n",
      "/home/argykokk/miniconda3/envs/hls4ml-tutorial/lib/python3.8/site-packages/keras/optimizers/optimizer_v2/adam.py:114: UserWarning: The `lr` argument is deprecated, use `learning_rate` instead.\n",
      "  super().__init__(name, **kwargs)\n"
     ]
    },
    {
     "name": "stdout",
     "output_type": "stream",
     "text": [
      "46/46 [==============================] - 0s 961us/step - loss: 1.2574 - accuracy: 0.5095\n",
      "accuracy = 0.5095238089561462\n",
      "Interpreting Sequential\n",
      "Topology:\n",
      "Layer name: fc1_input, layer type: Input\n",
      "Layer name: fc1, layer type: QDense\n",
      "Layer name: relu1, layer type: QActivation\n",
      "Layer name: output, layer type: QDense\n",
      "Layer name: softmax, layer type: Activation\n",
      "copy top.v, sim.Xtest, and sim.Ytest to the synopsys project \n"
     ]
    },
    {
     "name": "stderr",
     "output_type": "stream",
     "text": [
      "/home/argykokk/miniconda3/envs/hls4ml-tutorial/lib/python3.8/site-packages/keras/initializers/initializers_v2.py:120: UserWarning: The initializer LecunUniform is unseeded and being called multiple times, which will return identical values  each time (even if the initializer is unseeded). Please update your code to provide a seed to the initializer, or avoid using the same initalizer instance more than once.\n",
      "  warnings.warn(\n"
     ]
    },
    {
     "name": "stdout",
     "output_type": "stream",
     "text": [
      "frozen dataset 0\n",
      "frozen dataset 1\n",
      "frozen dataset 2\n",
      "frozen dataset 3\n",
      "frozen dataset 4\n",
      "frozen dataset 5\n",
      "frozen dataset 6\n",
      "frozen dataset 7\n",
      "frozen dataset 8\n",
      "frozen dataset 9\n",
      "frozen dataset 10\n"
     ]
    },
    {
     "name": "stderr",
     "output_type": "stream",
     "text": [
      "/home/argykokk/miniconda3/envs/hls4ml-tutorial/lib/python3.8/site-packages/keras/optimizers/optimizer_v2/adam.py:114: UserWarning: The `lr` argument is deprecated, use `learning_rate` instead.\n",
      "  super().__init__(name, **kwargs)\n"
     ]
    },
    {
     "name": "stdout",
     "output_type": "stream",
     "text": [
      "frozen dataset 0\n",
      "frozen dataset 1\n",
      "frozen dataset 2\n",
      "frozen dataset 3\n"
     ]
    },
    {
     "name": "stderr",
     "output_type": "stream",
     "text": [
      "/home/argykokk/miniconda3/envs/hls4ml-tutorial/lib/python3.8/site-packages/keras/optimizers/optimizer_v2/adam.py:114: UserWarning: The `lr` argument is deprecated, use `learning_rate` instead.\n",
      "  super().__init__(name, **kwargs)\n"
     ]
    },
    {
     "name": "stdout",
     "output_type": "stream",
     "text": [
      "46/46 [==============================] - 0s 855us/step - loss: 1.2574 - accuracy: 0.5095\n",
      "accuracy = 0.5095238089561462\n",
      "Interpreting Sequential\n",
      "Topology:\n",
      "Layer name: fc1_input, layer type: Input\n",
      "Layer name: fc1, layer type: QDense\n",
      "Layer name: relu1, layer type: QActivation\n",
      "Layer name: output, layer type: QDense\n",
      "Layer name: softmax, layer type: Activation\n",
      "copy top.v, sim.Xtest, and sim.Ytest to the synopsys project \n"
     ]
    },
    {
     "name": "stderr",
     "output_type": "stream",
     "text": [
      "/home/argykokk/miniconda3/envs/hls4ml-tutorial/lib/python3.8/site-packages/keras/initializers/initializers_v2.py:120: UserWarning: The initializer LecunUniform is unseeded and being called multiple times, which will return identical values  each time (even if the initializer is unseeded). Please update your code to provide a seed to the initializer, or avoid using the same initalizer instance more than once.\n",
      "  warnings.warn(\n"
     ]
    },
    {
     "name": "stdout",
     "output_type": "stream",
     "text": [
      "frozen dataset 0\n",
      "frozen dataset 1\n",
      "frozen dataset 2\n",
      "frozen dataset 3\n",
      "frozen dataset 4\n",
      "frozen dataset 5\n",
      "frozen dataset 6\n",
      "frozen dataset 7\n",
      "frozen dataset 8\n",
      "frozen dataset 9\n",
      "frozen dataset 10\n",
      "frozen dataset 0\n",
      "frozen dataset 1\n",
      "frozen dataset 2\n",
      "frozen dataset 3\n"
     ]
    },
    {
     "name": "stderr",
     "output_type": "stream",
     "text": [
      "/home/argykokk/miniconda3/envs/hls4ml-tutorial/lib/python3.8/site-packages/keras/optimizers/optimizer_v2/adam.py:114: UserWarning: The `lr` argument is deprecated, use `learning_rate` instead.\n",
      "  super().__init__(name, **kwargs)\n",
      "/home/argykokk/miniconda3/envs/hls4ml-tutorial/lib/python3.8/site-packages/keras/optimizers/optimizer_v2/adam.py:114: UserWarning: The `lr` argument is deprecated, use `learning_rate` instead.\n",
      "  super().__init__(name, **kwargs)\n"
     ]
    },
    {
     "name": "stdout",
     "output_type": "stream",
     "text": [
      "46/46 [==============================] - 0s 1ms/step - loss: 1.2574 - accuracy: 0.5095\n",
      "accuracy = 0.5095238089561462\n",
      "Interpreting Sequential\n",
      "Topology:\n",
      "Layer name: fc1_input, layer type: Input\n",
      "Layer name: fc1, layer type: QDense\n",
      "Layer name: relu1, layer type: QActivation\n",
      "Layer name: output, layer type: QDense\n",
      "Layer name: softmax, layer type: Activation\n",
      "copy top.v, sim.Xtest, and sim.Ytest to the synopsys project \n"
     ]
    },
    {
     "name": "stderr",
     "output_type": "stream",
     "text": [
      "/home/argykokk/miniconda3/envs/hls4ml-tutorial/lib/python3.8/site-packages/keras/initializers/initializers_v2.py:120: UserWarning: The initializer LecunUniform is unseeded and being called multiple times, which will return identical values  each time (even if the initializer is unseeded). Please update your code to provide a seed to the initializer, or avoid using the same initalizer instance more than once.\n",
      "  warnings.warn(\n"
     ]
    },
    {
     "name": "stdout",
     "output_type": "stream",
     "text": [
      "frozen dataset 0\n",
      "frozen dataset 1\n",
      "frozen dataset 2\n",
      "frozen dataset 3\n",
      "frozen dataset 4\n",
      "frozen dataset 5\n",
      "frozen dataset 6\n",
      "frozen dataset 7\n",
      "frozen dataset 8\n",
      "frozen dataset 9\n",
      "frozen dataset 10\n",
      "frozen dataset 0\n",
      "frozen dataset 1\n",
      "frozen dataset 2\n",
      "frozen dataset 3\n"
     ]
    },
    {
     "name": "stderr",
     "output_type": "stream",
     "text": [
      "/home/argykokk/miniconda3/envs/hls4ml-tutorial/lib/python3.8/site-packages/keras/optimizers/optimizer_v2/adam.py:114: UserWarning: The `lr` argument is deprecated, use `learning_rate` instead.\n",
      "  super().__init__(name, **kwargs)\n",
      "/home/argykokk/miniconda3/envs/hls4ml-tutorial/lib/python3.8/site-packages/keras/optimizers/optimizer_v2/adam.py:114: UserWarning: The `lr` argument is deprecated, use `learning_rate` instead.\n",
      "  super().__init__(name, **kwargs)\n"
     ]
    },
    {
     "name": "stdout",
     "output_type": "stream",
     "text": [
      "46/46 [==============================] - 0s 959us/step - loss: 1.2574 - accuracy: 0.5095\n",
      "accuracy = 0.5095238089561462\n",
      "Interpreting Sequential\n",
      "Topology:\n",
      "Layer name: fc1_input, layer type: Input\n",
      "Layer name: fc1, layer type: QDense\n",
      "Layer name: relu1, layer type: QActivation\n",
      "Layer name: output, layer type: QDense\n",
      "Layer name: softmax, layer type: Activation\n",
      "copy top.v, sim.Xtest, and sim.Ytest to the synopsys project \n"
     ]
    },
    {
     "name": "stderr",
     "output_type": "stream",
     "text": [
      "/home/argykokk/miniconda3/envs/hls4ml-tutorial/lib/python3.8/site-packages/keras/initializers/initializers_v2.py:120: UserWarning: The initializer LecunUniform is unseeded and being called multiple times, which will return identical values  each time (even if the initializer is unseeded). Please update your code to provide a seed to the initializer, or avoid using the same initalizer instance more than once.\n",
      "  warnings.warn(\n"
     ]
    },
    {
     "name": "stdout",
     "output_type": "stream",
     "text": [
      "frozen dataset 0\n",
      "frozen dataset 1\n",
      "frozen dataset 2\n",
      "frozen dataset 3\n",
      "frozen dataset 4\n",
      "frozen dataset 5\n",
      "frozen dataset 6\n",
      "frozen dataset 7\n",
      "frozen dataset 8\n",
      "frozen dataset 9\n",
      "frozen dataset 10\n"
     ]
    },
    {
     "name": "stderr",
     "output_type": "stream",
     "text": [
      "/home/argykokk/miniconda3/envs/hls4ml-tutorial/lib/python3.8/site-packages/keras/optimizers/optimizer_v2/adam.py:114: UserWarning: The `lr` argument is deprecated, use `learning_rate` instead.\n",
      "  super().__init__(name, **kwargs)\n"
     ]
    },
    {
     "name": "stdout",
     "output_type": "stream",
     "text": [
      "frozen dataset 0\n",
      "frozen dataset 1\n",
      "frozen dataset 2\n",
      "frozen dataset 3\n"
     ]
    },
    {
     "name": "stderr",
     "output_type": "stream",
     "text": [
      "/home/argykokk/miniconda3/envs/hls4ml-tutorial/lib/python3.8/site-packages/keras/optimizers/optimizer_v2/adam.py:114: UserWarning: The `lr` argument is deprecated, use `learning_rate` instead.\n",
      "  super().__init__(name, **kwargs)\n"
     ]
    },
    {
     "name": "stdout",
     "output_type": "stream",
     "text": [
      "46/46 [==============================] - 0s 974us/step - loss: 1.2574 - accuracy: 0.5095\n",
      "accuracy = 0.5095238089561462\n",
      "Interpreting Sequential\n",
      "Topology:\n",
      "Layer name: fc1_input, layer type: Input\n",
      "Layer name: fc1, layer type: QDense\n",
      "Layer name: relu1, layer type: QActivation\n",
      "Layer name: output, layer type: QDense\n",
      "Layer name: softmax, layer type: Activation\n",
      "copy top.v, sim.Xtest, and sim.Ytest to the synopsys project \n"
     ]
    },
    {
     "name": "stderr",
     "output_type": "stream",
     "text": [
      "/home/argykokk/miniconda3/envs/hls4ml-tutorial/lib/python3.8/site-packages/keras/initializers/initializers_v2.py:120: UserWarning: The initializer LecunUniform is unseeded and being called multiple times, which will return identical values  each time (even if the initializer is unseeded). Please update your code to provide a seed to the initializer, or avoid using the same initalizer instance more than once.\n",
      "  warnings.warn(\n"
     ]
    },
    {
     "name": "stdout",
     "output_type": "stream",
     "text": [
      "frozen dataset 0\n",
      "frozen dataset 1\n",
      "frozen dataset 2\n",
      "frozen dataset 3\n",
      "frozen dataset 4\n",
      "frozen dataset 5\n",
      "frozen dataset 6\n",
      "frozen dataset 7\n",
      "frozen dataset 8\n",
      "frozen dataset 9\n",
      "frozen dataset 10\n"
     ]
    },
    {
     "name": "stderr",
     "output_type": "stream",
     "text": [
      "/home/argykokk/miniconda3/envs/hls4ml-tutorial/lib/python3.8/site-packages/keras/optimizers/optimizer_v2/adam.py:114: UserWarning: The `lr` argument is deprecated, use `learning_rate` instead.\n",
      "  super().__init__(name, **kwargs)\n"
     ]
    },
    {
     "name": "stdout",
     "output_type": "stream",
     "text": [
      "frozen dataset 0\n",
      "frozen dataset 1\n",
      "frozen dataset 2\n",
      "frozen dataset 3\n"
     ]
    },
    {
     "name": "stderr",
     "output_type": "stream",
     "text": [
      "/home/argykokk/miniconda3/envs/hls4ml-tutorial/lib/python3.8/site-packages/keras/optimizers/optimizer_v2/adam.py:114: UserWarning: The `lr` argument is deprecated, use `learning_rate` instead.\n",
      "  super().__init__(name, **kwargs)\n"
     ]
    },
    {
     "name": "stdout",
     "output_type": "stream",
     "text": [
      "46/46 [==============================] - 0s 1ms/step - loss: 1.2574 - accuracy: 0.5095\n",
      "accuracy = 0.5095238089561462\n",
      "Interpreting Sequential\n",
      "Topology:\n",
      "Layer name: fc1_input, layer type: Input\n",
      "Layer name: fc1, layer type: QDense\n",
      "Layer name: relu1, layer type: QActivation\n",
      "Layer name: output, layer type: QDense\n",
      "Layer name: softmax, layer type: Activation\n",
      "copy top.v, sim.Xtest, and sim.Ytest to the synopsys project \n"
     ]
    },
    {
     "name": "stderr",
     "output_type": "stream",
     "text": [
      "/home/argykokk/miniconda3/envs/hls4ml-tutorial/lib/python3.8/site-packages/keras/initializers/initializers_v2.py:120: UserWarning: The initializer LecunUniform is unseeded and being called multiple times, which will return identical values  each time (even if the initializer is unseeded). Please update your code to provide a seed to the initializer, or avoid using the same initalizer instance more than once.\n",
      "  warnings.warn(\n"
     ]
    },
    {
     "name": "stdout",
     "output_type": "stream",
     "text": [
      "frozen dataset 0\n",
      "frozen dataset 1\n",
      "frozen dataset 2\n",
      "frozen dataset 3\n",
      "frozen dataset 4\n",
      "frozen dataset 5\n",
      "frozen dataset 6\n",
      "frozen dataset 7\n",
      "frozen dataset 8\n",
      "frozen dataset 9\n",
      "frozen dataset 10\n"
     ]
    },
    {
     "name": "stderr",
     "output_type": "stream",
     "text": [
      "/home/argykokk/miniconda3/envs/hls4ml-tutorial/lib/python3.8/site-packages/keras/optimizers/optimizer_v2/adam.py:114: UserWarning: The `lr` argument is deprecated, use `learning_rate` instead.\n",
      "  super().__init__(name, **kwargs)\n"
     ]
    },
    {
     "name": "stdout",
     "output_type": "stream",
     "text": [
      "frozen dataset 0\n",
      "frozen dataset 1\n",
      "frozen dataset 2\n",
      "frozen dataset 3\n"
     ]
    },
    {
     "name": "stderr",
     "output_type": "stream",
     "text": [
      "/home/argykokk/miniconda3/envs/hls4ml-tutorial/lib/python3.8/site-packages/keras/optimizers/optimizer_v2/adam.py:114: UserWarning: The `lr` argument is deprecated, use `learning_rate` instead.\n",
      "  super().__init__(name, **kwargs)\n"
     ]
    },
    {
     "name": "stdout",
     "output_type": "stream",
     "text": [
      "46/46 [==============================] - 0s 917us/step - loss: 1.2574 - accuracy: 0.5095\n",
      "accuracy = 0.5095238089561462\n",
      "Interpreting Sequential\n",
      "Topology:\n",
      "Layer name: fc1_input, layer type: Input\n",
      "Layer name: fc1, layer type: QDense\n",
      "Layer name: relu1, layer type: QActivation\n",
      "Layer name: output, layer type: QDense\n",
      "Layer name: softmax, layer type: Activation\n",
      "copy top.v, sim.Xtest, and sim.Ytest to the synopsys project \n"
     ]
    },
    {
     "name": "stderr",
     "output_type": "stream",
     "text": [
      "/home/argykokk/miniconda3/envs/hls4ml-tutorial/lib/python3.8/site-packages/keras/initializers/initializers_v2.py:120: UserWarning: The initializer LecunUniform is unseeded and being called multiple times, which will return identical values  each time (even if the initializer is unseeded). Please update your code to provide a seed to the initializer, or avoid using the same initalizer instance more than once.\n",
      "  warnings.warn(\n"
     ]
    },
    {
     "name": "stdout",
     "output_type": "stream",
     "text": [
      "frozen dataset 0\n",
      "frozen dataset 1\n",
      "frozen dataset 2\n",
      "frozen dataset 3\n",
      "frozen dataset 4\n",
      "frozen dataset 5\n",
      "frozen dataset 6\n",
      "frozen dataset 7\n",
      "frozen dataset 8\n",
      "frozen dataset 9\n",
      "frozen dataset 10\n"
     ]
    },
    {
     "name": "stderr",
     "output_type": "stream",
     "text": [
      "/home/argykokk/miniconda3/envs/hls4ml-tutorial/lib/python3.8/site-packages/keras/optimizers/optimizer_v2/adam.py:114: UserWarning: The `lr` argument is deprecated, use `learning_rate` instead.\n",
      "  super().__init__(name, **kwargs)\n"
     ]
    },
    {
     "name": "stdout",
     "output_type": "stream",
     "text": [
      "frozen dataset 0\n",
      "frozen dataset 1\n",
      "frozen dataset 2\n",
      "frozen dataset 3\n"
     ]
    },
    {
     "name": "stderr",
     "output_type": "stream",
     "text": [
      "/home/argykokk/miniconda3/envs/hls4ml-tutorial/lib/python3.8/site-packages/keras/optimizers/optimizer_v2/adam.py:114: UserWarning: The `lr` argument is deprecated, use `learning_rate` instead.\n",
      "  super().__init__(name, **kwargs)\n"
     ]
    },
    {
     "name": "stdout",
     "output_type": "stream",
     "text": [
      "46/46 [==============================] - 0s 1ms/step - loss: 1.2574 - accuracy: 0.5095\n",
      "accuracy = 0.5095238089561462\n",
      "Interpreting Sequential\n",
      "Topology:\n",
      "Layer name: fc1_input, layer type: Input\n",
      "Layer name: fc1, layer type: QDense\n",
      "Layer name: relu1, layer type: QActivation\n",
      "Layer name: output, layer type: QDense\n",
      "Layer name: softmax, layer type: Activation\n",
      "copy top.v, sim.Xtest, and sim.Ytest to the synopsys project \n"
     ]
    },
    {
     "name": "stderr",
     "output_type": "stream",
     "text": [
      "/home/argykokk/miniconda3/envs/hls4ml-tutorial/lib/python3.8/site-packages/keras/initializers/initializers_v2.py:120: UserWarning: The initializer LecunUniform is unseeded and being called multiple times, which will return identical values  each time (even if the initializer is unseeded). Please update your code to provide a seed to the initializer, or avoid using the same initalizer instance more than once.\n",
      "  warnings.warn(\n"
     ]
    },
    {
     "name": "stdout",
     "output_type": "stream",
     "text": [
      "frozen dataset 0\n",
      "frozen dataset 1\n",
      "frozen dataset 2\n",
      "frozen dataset 3\n",
      "frozen dataset 4\n",
      "frozen dataset 5\n",
      "frozen dataset 6\n",
      "frozen dataset 7\n",
      "frozen dataset 8\n",
      "frozen dataset 9\n",
      "frozen dataset 10\n"
     ]
    },
    {
     "name": "stderr",
     "output_type": "stream",
     "text": [
      "/home/argykokk/miniconda3/envs/hls4ml-tutorial/lib/python3.8/site-packages/keras/optimizers/optimizer_v2/adam.py:114: UserWarning: The `lr` argument is deprecated, use `learning_rate` instead.\n",
      "  super().__init__(name, **kwargs)\n"
     ]
    },
    {
     "name": "stdout",
     "output_type": "stream",
     "text": [
      "frozen dataset 0\n",
      "frozen dataset 1\n",
      "frozen dataset 2\n",
      "frozen dataset 3\n"
     ]
    },
    {
     "name": "stderr",
     "output_type": "stream",
     "text": [
      "/home/argykokk/miniconda3/envs/hls4ml-tutorial/lib/python3.8/site-packages/keras/optimizers/optimizer_v2/adam.py:114: UserWarning: The `lr` argument is deprecated, use `learning_rate` instead.\n",
      "  super().__init__(name, **kwargs)\n"
     ]
    },
    {
     "name": "stdout",
     "output_type": "stream",
     "text": [
      "46/46 [==============================] - 0s 952us/step - loss: 1.2574 - accuracy: 0.5095\n",
      "accuracy = 0.5095238089561462\n",
      "Interpreting Sequential\n",
      "Topology:\n",
      "Layer name: fc1_input, layer type: Input\n",
      "Layer name: fc1, layer type: QDense\n",
      "Layer name: relu1, layer type: QActivation\n",
      "Layer name: output, layer type: QDense\n",
      "Layer name: softmax, layer type: Activation\n",
      "copy top.v, sim.Xtest, and sim.Ytest to the synopsys project \n"
     ]
    },
    {
     "name": "stderr",
     "output_type": "stream",
     "text": [
      "/home/argykokk/miniconda3/envs/hls4ml-tutorial/lib/python3.8/site-packages/keras/initializers/initializers_v2.py:120: UserWarning: The initializer LecunUniform is unseeded and being called multiple times, which will return identical values  each time (even if the initializer is unseeded). Please update your code to provide a seed to the initializer, or avoid using the same initalizer instance more than once.\n",
      "  warnings.warn(\n"
     ]
    },
    {
     "name": "stdout",
     "output_type": "stream",
     "text": [
      "frozen dataset 0\n",
      "frozen dataset 1\n",
      "frozen dataset 2\n",
      "frozen dataset 3\n",
      "frozen dataset 4\n",
      "frozen dataset 5\n",
      "frozen dataset 6\n",
      "frozen dataset 7\n",
      "frozen dataset 8\n",
      "frozen dataset 9\n",
      "frozen dataset 10\n"
     ]
    },
    {
     "name": "stderr",
     "output_type": "stream",
     "text": [
      "/home/argykokk/miniconda3/envs/hls4ml-tutorial/lib/python3.8/site-packages/keras/optimizers/optimizer_v2/adam.py:114: UserWarning: The `lr` argument is deprecated, use `learning_rate` instead.\n",
      "  super().__init__(name, **kwargs)\n"
     ]
    },
    {
     "name": "stdout",
     "output_type": "stream",
     "text": [
      "frozen dataset 0\n",
      "frozen dataset 1\n",
      "frozen dataset 2\n",
      "frozen dataset 3\n"
     ]
    },
    {
     "name": "stderr",
     "output_type": "stream",
     "text": [
      "/home/argykokk/miniconda3/envs/hls4ml-tutorial/lib/python3.8/site-packages/keras/optimizers/optimizer_v2/adam.py:114: UserWarning: The `lr` argument is deprecated, use `learning_rate` instead.\n",
      "  super().__init__(name, **kwargs)\n"
     ]
    },
    {
     "name": "stdout",
     "output_type": "stream",
     "text": [
      "46/46 [==============================] - 1s 1ms/step - loss: 1.2574 - accuracy: 0.5095\n",
      "accuracy = 0.5095238089561462\n",
      "Interpreting Sequential\n",
      "Topology:\n",
      "Layer name: fc1_input, layer type: Input\n",
      "Layer name: fc1, layer type: QDense\n",
      "Layer name: relu1, layer type: QActivation\n",
      "Layer name: output, layer type: QDense\n",
      "Layer name: softmax, layer type: Activation\n",
      "copy top.v, sim.Xtest, and sim.Ytest to the synopsys project \n"
     ]
    },
    {
     "name": "stderr",
     "output_type": "stream",
     "text": [
      "/home/argykokk/miniconda3/envs/hls4ml-tutorial/lib/python3.8/site-packages/keras/initializers/initializers_v2.py:120: UserWarning: The initializer LecunUniform is unseeded and being called multiple times, which will return identical values  each time (even if the initializer is unseeded). Please update your code to provide a seed to the initializer, or avoid using the same initalizer instance more than once.\n",
      "  warnings.warn(\n"
     ]
    },
    {
     "name": "stdout",
     "output_type": "stream",
     "text": [
      "frozen dataset 0\n",
      "frozen dataset 1\n",
      "frozen dataset 2\n",
      "frozen dataset 3\n",
      "frozen dataset 4\n",
      "frozen dataset 5\n",
      "frozen dataset 6\n",
      "frozen dataset 7\n",
      "frozen dataset 8\n",
      "frozen dataset 9\n",
      "frozen dataset 10\n"
     ]
    },
    {
     "name": "stderr",
     "output_type": "stream",
     "text": [
      "/home/argykokk/miniconda3/envs/hls4ml-tutorial/lib/python3.8/site-packages/keras/optimizers/optimizer_v2/adam.py:114: UserWarning: The `lr` argument is deprecated, use `learning_rate` instead.\n",
      "  super().__init__(name, **kwargs)\n"
     ]
    },
    {
     "name": "stdout",
     "output_type": "stream",
     "text": [
      "frozen dataset 0\n",
      "frozen dataset 1\n",
      "frozen dataset 2\n",
      "frozen dataset 3\n"
     ]
    },
    {
     "name": "stderr",
     "output_type": "stream",
     "text": [
      "/home/argykokk/miniconda3/envs/hls4ml-tutorial/lib/python3.8/site-packages/keras/optimizers/optimizer_v2/adam.py:114: UserWarning: The `lr` argument is deprecated, use `learning_rate` instead.\n",
      "  super().__init__(name, **kwargs)\n"
     ]
    },
    {
     "name": "stdout",
     "output_type": "stream",
     "text": [
      "46/46 [==============================] - 0s 930us/step - loss: 1.2574 - accuracy: 0.5095\n",
      "accuracy = 0.5095238089561462\n",
      "Interpreting Sequential\n",
      "Topology:\n",
      "Layer name: fc1_input, layer type: Input\n",
      "Layer name: fc1, layer type: QDense\n",
      "Layer name: relu1, layer type: QActivation\n",
      "Layer name: output, layer type: QDense\n",
      "Layer name: softmax, layer type: Activation\n",
      "copy top.v, sim.Xtest, and sim.Ytest to the synopsys project \n"
     ]
    },
    {
     "name": "stderr",
     "output_type": "stream",
     "text": [
      "/home/argykokk/miniconda3/envs/hls4ml-tutorial/lib/python3.8/site-packages/keras/initializers/initializers_v2.py:120: UserWarning: The initializer LecunUniform is unseeded and being called multiple times, which will return identical values  each time (even if the initializer is unseeded). Please update your code to provide a seed to the initializer, or avoid using the same initalizer instance more than once.\n",
      "  warnings.warn(\n"
     ]
    },
    {
     "name": "stdout",
     "output_type": "stream",
     "text": [
      "frozen dataset 0\n",
      "frozen dataset 1\n",
      "frozen dataset 2\n",
      "frozen dataset 3\n",
      "frozen dataset 4\n",
      "frozen dataset 5\n",
      "frozen dataset 6\n",
      "frozen dataset 7\n",
      "frozen dataset 8\n",
      "frozen dataset 9\n",
      "frozen dataset 10\n"
     ]
    },
    {
     "name": "stderr",
     "output_type": "stream",
     "text": [
      "/home/argykokk/miniconda3/envs/hls4ml-tutorial/lib/python3.8/site-packages/keras/optimizers/optimizer_v2/adam.py:114: UserWarning: The `lr` argument is deprecated, use `learning_rate` instead.\n",
      "  super().__init__(name, **kwargs)\n"
     ]
    },
    {
     "name": "stdout",
     "output_type": "stream",
     "text": [
      "frozen dataset 0\n",
      "frozen dataset 1\n",
      "frozen dataset 2\n",
      "frozen dataset 3\n"
     ]
    },
    {
     "name": "stderr",
     "output_type": "stream",
     "text": [
      "/home/argykokk/miniconda3/envs/hls4ml-tutorial/lib/python3.8/site-packages/keras/optimizers/optimizer_v2/adam.py:114: UserWarning: The `lr` argument is deprecated, use `learning_rate` instead.\n",
      "  super().__init__(name, **kwargs)\n"
     ]
    },
    {
     "name": "stdout",
     "output_type": "stream",
     "text": [
      "46/46 [==============================] - 0s 1ms/step - loss: 1.2574 - accuracy: 0.5095\n",
      "accuracy = 0.5095238089561462\n",
      "Interpreting Sequential\n",
      "Topology:\n",
      "Layer name: fc1_input, layer type: Input\n",
      "Layer name: fc1, layer type: QDense\n",
      "Layer name: relu1, layer type: QActivation\n",
      "Layer name: output, layer type: QDense\n",
      "Layer name: softmax, layer type: Activation\n",
      "copy top.v, sim.Xtest, and sim.Ytest to the synopsys project \n"
     ]
    },
    {
     "name": "stderr",
     "output_type": "stream",
     "text": [
      "/home/argykokk/miniconda3/envs/hls4ml-tutorial/lib/python3.8/site-packages/keras/initializers/initializers_v2.py:120: UserWarning: The initializer LecunUniform is unseeded and being called multiple times, which will return identical values  each time (even if the initializer is unseeded). Please update your code to provide a seed to the initializer, or avoid using the same initalizer instance more than once.\n",
      "  warnings.warn(\n"
     ]
    },
    {
     "name": "stdout",
     "output_type": "stream",
     "text": [
      "frozen dataset 0\n",
      "frozen dataset 1\n",
      "frozen dataset 2\n",
      "frozen dataset 3\n",
      "frozen dataset 4\n",
      "frozen dataset 5\n",
      "frozen dataset 6\n",
      "frozen dataset 7\n",
      "frozen dataset 8\n",
      "frozen dataset 9\n",
      "frozen dataset 10\n",
      "frozen dataset 0\n",
      "frozen dataset 1\n",
      "frozen dataset 2\n",
      "frozen dataset 3\n"
     ]
    },
    {
     "name": "stderr",
     "output_type": "stream",
     "text": [
      "/home/argykokk/miniconda3/envs/hls4ml-tutorial/lib/python3.8/site-packages/keras/optimizers/optimizer_v2/adam.py:114: UserWarning: The `lr` argument is deprecated, use `learning_rate` instead.\n",
      "  super().__init__(name, **kwargs)\n",
      "/home/argykokk/miniconda3/envs/hls4ml-tutorial/lib/python3.8/site-packages/keras/optimizers/optimizer_v2/adam.py:114: UserWarning: The `lr` argument is deprecated, use `learning_rate` instead.\n",
      "  super().__init__(name, **kwargs)\n"
     ]
    },
    {
     "name": "stdout",
     "output_type": "stream",
     "text": [
      "46/46 [==============================] - 0s 1ms/step - loss: 1.2574 - accuracy: 0.5095\n",
      "accuracy = 0.5095238089561462\n",
      "Interpreting Sequential\n",
      "Topology:\n",
      "Layer name: fc1_input, layer type: Input\n",
      "Layer name: fc1, layer type: QDense\n",
      "Layer name: relu1, layer type: QActivation\n",
      "Layer name: output, layer type: QDense\n",
      "Layer name: softmax, layer type: Activation\n",
      "copy top.v, sim.Xtest, and sim.Ytest to the synopsys project \n"
     ]
    },
    {
     "name": "stderr",
     "output_type": "stream",
     "text": [
      "/home/argykokk/miniconda3/envs/hls4ml-tutorial/lib/python3.8/site-packages/keras/initializers/initializers_v2.py:120: UserWarning: The initializer LecunUniform is unseeded and being called multiple times, which will return identical values  each time (even if the initializer is unseeded). Please update your code to provide a seed to the initializer, or avoid using the same initalizer instance more than once.\n",
      "  warnings.warn(\n"
     ]
    },
    {
     "name": "stdout",
     "output_type": "stream",
     "text": [
      "frozen dataset 0\n",
      "frozen dataset 1\n",
      "frozen dataset 2\n",
      "frozen dataset 3\n",
      "frozen dataset 4\n",
      "frozen dataset 5\n",
      "frozen dataset 6\n",
      "frozen dataset 7\n",
      "frozen dataset 8\n",
      "frozen dataset 9\n",
      "frozen dataset 10\n"
     ]
    },
    {
     "name": "stderr",
     "output_type": "stream",
     "text": [
      "/home/argykokk/miniconda3/envs/hls4ml-tutorial/lib/python3.8/site-packages/keras/optimizers/optimizer_v2/adam.py:114: UserWarning: The `lr` argument is deprecated, use `learning_rate` instead.\n",
      "  super().__init__(name, **kwargs)\n"
     ]
    },
    {
     "name": "stdout",
     "output_type": "stream",
     "text": [
      "frozen dataset 0\n",
      "frozen dataset 1\n",
      "frozen dataset 2\n",
      "frozen dataset 3\n"
     ]
    },
    {
     "name": "stderr",
     "output_type": "stream",
     "text": [
      "/home/argykokk/miniconda3/envs/hls4ml-tutorial/lib/python3.8/site-packages/keras/optimizers/optimizer_v2/adam.py:114: UserWarning: The `lr` argument is deprecated, use `learning_rate` instead.\n",
      "  super().__init__(name, **kwargs)\n"
     ]
    },
    {
     "name": "stdout",
     "output_type": "stream",
     "text": [
      "46/46 [==============================] - 0s 975us/step - loss: 1.2574 - accuracy: 0.5095\n",
      "accuracy = 0.5095238089561462\n",
      "Interpreting Sequential\n",
      "Topology:\n",
      "Layer name: fc1_input, layer type: Input\n",
      "Layer name: fc1, layer type: QDense\n",
      "Layer name: relu1, layer type: QActivation\n",
      "Layer name: output, layer type: QDense\n",
      "Layer name: softmax, layer type: Activation\n",
      "copy top.v, sim.Xtest, and sim.Ytest to the synopsys project \n"
     ]
    },
    {
     "name": "stderr",
     "output_type": "stream",
     "text": [
      "/home/argykokk/miniconda3/envs/hls4ml-tutorial/lib/python3.8/site-packages/keras/initializers/initializers_v2.py:120: UserWarning: The initializer LecunUniform is unseeded and being called multiple times, which will return identical values  each time (even if the initializer is unseeded). Please update your code to provide a seed to the initializer, or avoid using the same initalizer instance more than once.\n",
      "  warnings.warn(\n"
     ]
    },
    {
     "name": "stdout",
     "output_type": "stream",
     "text": [
      "frozen dataset 0\n",
      "frozen dataset 1\n",
      "frozen dataset 2\n",
      "frozen dataset 3\n",
      "frozen dataset 4\n",
      "frozen dataset 5\n",
      "frozen dataset 6\n",
      "frozen dataset 7\n",
      "frozen dataset 8\n",
      "frozen dataset 9\n",
      "frozen dataset 10\n"
     ]
    },
    {
     "name": "stderr",
     "output_type": "stream",
     "text": [
      "/home/argykokk/miniconda3/envs/hls4ml-tutorial/lib/python3.8/site-packages/keras/optimizers/optimizer_v2/adam.py:114: UserWarning: The `lr` argument is deprecated, use `learning_rate` instead.\n",
      "  super().__init__(name, **kwargs)\n"
     ]
    },
    {
     "name": "stdout",
     "output_type": "stream",
     "text": [
      "frozen dataset 0\n",
      "frozen dataset 1\n",
      "frozen dataset 2\n",
      "frozen dataset 3\n"
     ]
    },
    {
     "name": "stderr",
     "output_type": "stream",
     "text": [
      "/home/argykokk/miniconda3/envs/hls4ml-tutorial/lib/python3.8/site-packages/keras/optimizers/optimizer_v2/adam.py:114: UserWarning: The `lr` argument is deprecated, use `learning_rate` instead.\n",
      "  super().__init__(name, **kwargs)\n"
     ]
    },
    {
     "name": "stdout",
     "output_type": "stream",
     "text": [
      "46/46 [==============================] - 0s 962us/step - loss: 1.2574 - accuracy: 0.5095\n",
      "accuracy = 0.5095238089561462\n",
      "Interpreting Sequential\n",
      "Topology:\n",
      "Layer name: fc1_input, layer type: Input\n",
      "Layer name: fc1, layer type: QDense\n",
      "Layer name: relu1, layer type: QActivation\n",
      "Layer name: output, layer type: QDense\n",
      "Layer name: softmax, layer type: Activation\n",
      "copy top.v, sim.Xtest, and sim.Ytest to the synopsys project \n"
     ]
    },
    {
     "name": "stderr",
     "output_type": "stream",
     "text": [
      "/home/argykokk/miniconda3/envs/hls4ml-tutorial/lib/python3.8/site-packages/keras/initializers/initializers_v2.py:120: UserWarning: The initializer LecunUniform is unseeded and being called multiple times, which will return identical values  each time (even if the initializer is unseeded). Please update your code to provide a seed to the initializer, or avoid using the same initalizer instance more than once.\n",
      "  warnings.warn(\n"
     ]
    },
    {
     "name": "stdout",
     "output_type": "stream",
     "text": [
      "frozen dataset 0\n",
      "frozen dataset 1\n",
      "frozen dataset 2\n",
      "frozen dataset 3\n",
      "frozen dataset 4\n",
      "frozen dataset 5\n",
      "frozen dataset 6\n",
      "frozen dataset 7\n",
      "frozen dataset 8\n",
      "frozen dataset 9\n",
      "frozen dataset 10\n"
     ]
    },
    {
     "name": "stderr",
     "output_type": "stream",
     "text": [
      "/home/argykokk/miniconda3/envs/hls4ml-tutorial/lib/python3.8/site-packages/keras/optimizers/optimizer_v2/adam.py:114: UserWarning: The `lr` argument is deprecated, use `learning_rate` instead.\n",
      "  super().__init__(name, **kwargs)\n"
     ]
    },
    {
     "name": "stdout",
     "output_type": "stream",
     "text": [
      "frozen dataset 0\n",
      "frozen dataset 1\n",
      "frozen dataset 2\n",
      "frozen dataset 3\n"
     ]
    },
    {
     "name": "stderr",
     "output_type": "stream",
     "text": [
      "/home/argykokk/miniconda3/envs/hls4ml-tutorial/lib/python3.8/site-packages/keras/optimizers/optimizer_v2/adam.py:114: UserWarning: The `lr` argument is deprecated, use `learning_rate` instead.\n",
      "  super().__init__(name, **kwargs)\n"
     ]
    },
    {
     "name": "stdout",
     "output_type": "stream",
     "text": [
      "46/46 [==============================] - 0s 973us/step - loss: 1.2574 - accuracy: 0.5095\n",
      "accuracy = 0.5095238089561462\n",
      "Interpreting Sequential\n",
      "Topology:\n",
      "Layer name: fc1_input, layer type: Input\n",
      "Layer name: fc1, layer type: QDense\n",
      "Layer name: relu1, layer type: QActivation\n",
      "Layer name: output, layer type: QDense\n",
      "Layer name: softmax, layer type: Activation\n",
      "copy top.v, sim.Xtest, and sim.Ytest to the synopsys project \n"
     ]
    },
    {
     "name": "stderr",
     "output_type": "stream",
     "text": [
      "/home/argykokk/miniconda3/envs/hls4ml-tutorial/lib/python3.8/site-packages/keras/initializers/initializers_v2.py:120: UserWarning: The initializer LecunUniform is unseeded and being called multiple times, which will return identical values  each time (even if the initializer is unseeded). Please update your code to provide a seed to the initializer, or avoid using the same initalizer instance more than once.\n",
      "  warnings.warn(\n"
     ]
    },
    {
     "name": "stdout",
     "output_type": "stream",
     "text": [
      "frozen dataset 0\n",
      "frozen dataset 1\n",
      "frozen dataset 2\n",
      "frozen dataset 3\n",
      "frozen dataset 4\n",
      "frozen dataset 5\n",
      "frozen dataset 6\n",
      "frozen dataset 7\n",
      "frozen dataset 8\n",
      "frozen dataset 9\n",
      "frozen dataset 10\n"
     ]
    },
    {
     "name": "stderr",
     "output_type": "stream",
     "text": [
      "/home/argykokk/miniconda3/envs/hls4ml-tutorial/lib/python3.8/site-packages/keras/optimizers/optimizer_v2/adam.py:114: UserWarning: The `lr` argument is deprecated, use `learning_rate` instead.\n",
      "  super().__init__(name, **kwargs)\n"
     ]
    },
    {
     "name": "stdout",
     "output_type": "stream",
     "text": [
      "frozen dataset 0\n",
      "frozen dataset 1\n",
      "frozen dataset 2\n",
      "frozen dataset 3\n"
     ]
    },
    {
     "name": "stderr",
     "output_type": "stream",
     "text": [
      "/home/argykokk/miniconda3/envs/hls4ml-tutorial/lib/python3.8/site-packages/keras/optimizers/optimizer_v2/adam.py:114: UserWarning: The `lr` argument is deprecated, use `learning_rate` instead.\n",
      "  super().__init__(name, **kwargs)\n"
     ]
    },
    {
     "name": "stdout",
     "output_type": "stream",
     "text": [
      "46/46 [==============================] - 0s 1ms/step - loss: 1.2574 - accuracy: 0.5095\n",
      "accuracy = 0.5095238089561462\n",
      "Interpreting Sequential\n",
      "Topology:\n",
      "Layer name: fc1_input, layer type: Input\n",
      "Layer name: fc1, layer type: QDense\n",
      "Layer name: relu1, layer type: QActivation\n",
      "Layer name: output, layer type: QDense\n",
      "Layer name: softmax, layer type: Activation\n",
      "copy top.v, sim.Xtest, and sim.Ytest to the synopsys project \n"
     ]
    },
    {
     "name": "stderr",
     "output_type": "stream",
     "text": [
      "/home/argykokk/miniconda3/envs/hls4ml-tutorial/lib/python3.8/site-packages/keras/initializers/initializers_v2.py:120: UserWarning: The initializer LecunUniform is unseeded and being called multiple times, which will return identical values  each time (even if the initializer is unseeded). Please update your code to provide a seed to the initializer, or avoid using the same initalizer instance more than once.\n",
      "  warnings.warn(\n"
     ]
    },
    {
     "name": "stdout",
     "output_type": "stream",
     "text": [
      "frozen dataset 0\n",
      "frozen dataset 1\n",
      "frozen dataset 2\n",
      "frozen dataset 3\n",
      "frozen dataset 4\n",
      "frozen dataset 5\n",
      "frozen dataset 6\n",
      "frozen dataset 7\n",
      "frozen dataset 8\n",
      "frozen dataset 9\n",
      "frozen dataset 10\n"
     ]
    },
    {
     "name": "stderr",
     "output_type": "stream",
     "text": [
      "/home/argykokk/miniconda3/envs/hls4ml-tutorial/lib/python3.8/site-packages/keras/optimizers/optimizer_v2/adam.py:114: UserWarning: The `lr` argument is deprecated, use `learning_rate` instead.\n",
      "  super().__init__(name, **kwargs)\n"
     ]
    },
    {
     "name": "stdout",
     "output_type": "stream",
     "text": [
      "frozen dataset 0\n",
      "frozen dataset 1\n",
      "frozen dataset 2\n",
      "frozen dataset 3\n"
     ]
    },
    {
     "name": "stderr",
     "output_type": "stream",
     "text": [
      "/home/argykokk/miniconda3/envs/hls4ml-tutorial/lib/python3.8/site-packages/keras/optimizers/optimizer_v2/adam.py:114: UserWarning: The `lr` argument is deprecated, use `learning_rate` instead.\n",
      "  super().__init__(name, **kwargs)\n"
     ]
    },
    {
     "name": "stdout",
     "output_type": "stream",
     "text": [
      "46/46 [==============================] - 0s 1ms/step - loss: 1.2574 - accuracy: 0.5095\n",
      "accuracy = 0.5095238089561462\n",
      "Interpreting Sequential\n",
      "Topology:\n",
      "Layer name: fc1_input, layer type: Input\n",
      "Layer name: fc1, layer type: QDense\n",
      "Layer name: relu1, layer type: QActivation\n",
      "Layer name: output, layer type: QDense\n",
      "Layer name: softmax, layer type: Activation\n",
      "copy top.v, sim.Xtest, and sim.Ytest to the synopsys project \n"
     ]
    },
    {
     "name": "stderr",
     "output_type": "stream",
     "text": [
      "/home/argykokk/miniconda3/envs/hls4ml-tutorial/lib/python3.8/site-packages/keras/initializers/initializers_v2.py:120: UserWarning: The initializer LecunUniform is unseeded and being called multiple times, which will return identical values  each time (even if the initializer is unseeded). Please update your code to provide a seed to the initializer, or avoid using the same initalizer instance more than once.\n",
      "  warnings.warn(\n"
     ]
    },
    {
     "name": "stdout",
     "output_type": "stream",
     "text": [
      "frozen dataset 0\n",
      "frozen dataset 1\n",
      "frozen dataset 2\n",
      "frozen dataset 3\n",
      "frozen dataset 4\n",
      "frozen dataset 5\n",
      "frozen dataset 6\n",
      "frozen dataset 7\n",
      "frozen dataset 8\n",
      "frozen dataset 9\n",
      "frozen dataset 10\n"
     ]
    },
    {
     "name": "stderr",
     "output_type": "stream",
     "text": [
      "/home/argykokk/miniconda3/envs/hls4ml-tutorial/lib/python3.8/site-packages/keras/optimizers/optimizer_v2/adam.py:114: UserWarning: The `lr` argument is deprecated, use `learning_rate` instead.\n",
      "  super().__init__(name, **kwargs)\n"
     ]
    },
    {
     "name": "stdout",
     "output_type": "stream",
     "text": [
      "frozen dataset 0\n",
      "frozen dataset 1\n",
      "frozen dataset 2\n",
      "frozen dataset 3\n"
     ]
    },
    {
     "name": "stderr",
     "output_type": "stream",
     "text": [
      "/home/argykokk/miniconda3/envs/hls4ml-tutorial/lib/python3.8/site-packages/keras/optimizers/optimizer_v2/adam.py:114: UserWarning: The `lr` argument is deprecated, use `learning_rate` instead.\n",
      "  super().__init__(name, **kwargs)\n"
     ]
    },
    {
     "name": "stdout",
     "output_type": "stream",
     "text": [
      "46/46 [==============================] - 0s 894us/step - loss: 1.2574 - accuracy: 0.5095\n",
      "accuracy = 0.5095238089561462\n",
      "Interpreting Sequential\n",
      "Topology:\n",
      "Layer name: fc1_input, layer type: Input\n",
      "Layer name: fc1, layer type: QDense\n",
      "Layer name: relu1, layer type: QActivation\n",
      "Layer name: output, layer type: QDense\n",
      "Layer name: softmax, layer type: Activation\n",
      "copy top.v, sim.Xtest, and sim.Ytest to the synopsys project \n"
     ]
    },
    {
     "name": "stderr",
     "output_type": "stream",
     "text": [
      "/home/argykokk/miniconda3/envs/hls4ml-tutorial/lib/python3.8/site-packages/keras/initializers/initializers_v2.py:120: UserWarning: The initializer LecunUniform is unseeded and being called multiple times, which will return identical values  each time (even if the initializer is unseeded). Please update your code to provide a seed to the initializer, or avoid using the same initalizer instance more than once.\n",
      "  warnings.warn(\n"
     ]
    },
    {
     "name": "stdout",
     "output_type": "stream",
     "text": [
      "frozen dataset 0\n",
      "frozen dataset 1\n",
      "frozen dataset 2\n",
      "frozen dataset 3\n",
      "frozen dataset 4\n",
      "frozen dataset 5\n",
      "frozen dataset 6\n",
      "frozen dataset 7\n",
      "frozen dataset 8\n",
      "frozen dataset 9\n",
      "frozen dataset 10\n"
     ]
    },
    {
     "name": "stderr",
     "output_type": "stream",
     "text": [
      "/home/argykokk/miniconda3/envs/hls4ml-tutorial/lib/python3.8/site-packages/keras/optimizers/optimizer_v2/adam.py:114: UserWarning: The `lr` argument is deprecated, use `learning_rate` instead.\n",
      "  super().__init__(name, **kwargs)\n"
     ]
    },
    {
     "name": "stdout",
     "output_type": "stream",
     "text": [
      "frozen dataset 0\n",
      "frozen dataset 1\n",
      "frozen dataset 2\n",
      "frozen dataset 3\n"
     ]
    },
    {
     "name": "stderr",
     "output_type": "stream",
     "text": [
      "/home/argykokk/miniconda3/envs/hls4ml-tutorial/lib/python3.8/site-packages/keras/optimizers/optimizer_v2/adam.py:114: UserWarning: The `lr` argument is deprecated, use `learning_rate` instead.\n",
      "  super().__init__(name, **kwargs)\n"
     ]
    },
    {
     "name": "stdout",
     "output_type": "stream",
     "text": [
      "46/46 [==============================] - 0s 1ms/step - loss: 1.2574 - accuracy: 0.5095\n",
      "accuracy = 0.5095238089561462\n",
      "Interpreting Sequential\n",
      "Topology:\n",
      "Layer name: fc1_input, layer type: Input\n",
      "Layer name: fc1, layer type: QDense\n",
      "Layer name: relu1, layer type: QActivation\n",
      "Layer name: output, layer type: QDense\n",
      "Layer name: softmax, layer type: Activation\n",
      "copy top.v, sim.Xtest, and sim.Ytest to the synopsys project \n"
     ]
    },
    {
     "name": "stderr",
     "output_type": "stream",
     "text": [
      "/home/argykokk/miniconda3/envs/hls4ml-tutorial/lib/python3.8/site-packages/keras/initializers/initializers_v2.py:120: UserWarning: The initializer LecunUniform is unseeded and being called multiple times, which will return identical values  each time (even if the initializer is unseeded). Please update your code to provide a seed to the initializer, or avoid using the same initalizer instance more than once.\n",
      "  warnings.warn(\n"
     ]
    },
    {
     "name": "stdout",
     "output_type": "stream",
     "text": [
      "frozen dataset 0\n",
      "frozen dataset 1\n",
      "frozen dataset 2\n",
      "frozen dataset 3\n",
      "frozen dataset 4\n",
      "frozen dataset 5\n",
      "frozen dataset 6\n",
      "frozen dataset 7\n",
      "frozen dataset 8\n",
      "frozen dataset 9\n",
      "frozen dataset 10\n",
      "frozen dataset 0\n",
      "frozen dataset 1\n",
      "frozen dataset 2\n",
      "frozen dataset 3\n"
     ]
    },
    {
     "name": "stderr",
     "output_type": "stream",
     "text": [
      "/home/argykokk/miniconda3/envs/hls4ml-tutorial/lib/python3.8/site-packages/keras/optimizers/optimizer_v2/adam.py:114: UserWarning: The `lr` argument is deprecated, use `learning_rate` instead.\n",
      "  super().__init__(name, **kwargs)\n",
      "/home/argykokk/miniconda3/envs/hls4ml-tutorial/lib/python3.8/site-packages/keras/optimizers/optimizer_v2/adam.py:114: UserWarning: The `lr` argument is deprecated, use `learning_rate` instead.\n",
      "  super().__init__(name, **kwargs)\n"
     ]
    },
    {
     "name": "stdout",
     "output_type": "stream",
     "text": [
      "46/46 [==============================] - 0s 966us/step - loss: 1.2574 - accuracy: 0.5095\n",
      "accuracy = 0.5095238089561462\n",
      "Interpreting Sequential\n",
      "Topology:\n",
      "Layer name: fc1_input, layer type: Input\n",
      "Layer name: fc1, layer type: QDense\n",
      "Layer name: relu1, layer type: QActivation\n",
      "Layer name: output, layer type: QDense\n",
      "Layer name: softmax, layer type: Activation\n",
      "copy top.v, sim.Xtest, and sim.Ytest to the synopsys project \n"
     ]
    },
    {
     "name": "stderr",
     "output_type": "stream",
     "text": [
      "/home/argykokk/miniconda3/envs/hls4ml-tutorial/lib/python3.8/site-packages/keras/initializers/initializers_v2.py:120: UserWarning: The initializer LecunUniform is unseeded and being called multiple times, which will return identical values  each time (even if the initializer is unseeded). Please update your code to provide a seed to the initializer, or avoid using the same initalizer instance more than once.\n",
      "  warnings.warn(\n"
     ]
    },
    {
     "name": "stdout",
     "output_type": "stream",
     "text": [
      "frozen dataset 0\n",
      "frozen dataset 1\n",
      "frozen dataset 2\n",
      "frozen dataset 3\n",
      "frozen dataset 4\n",
      "frozen dataset 5\n",
      "frozen dataset 6\n",
      "frozen dataset 7\n",
      "frozen dataset 8\n",
      "frozen dataset 9\n",
      "frozen dataset 10\n"
     ]
    },
    {
     "name": "stderr",
     "output_type": "stream",
     "text": [
      "/home/argykokk/miniconda3/envs/hls4ml-tutorial/lib/python3.8/site-packages/keras/optimizers/optimizer_v2/adam.py:114: UserWarning: The `lr` argument is deprecated, use `learning_rate` instead.\n",
      "  super().__init__(name, **kwargs)\n"
     ]
    },
    {
     "name": "stdout",
     "output_type": "stream",
     "text": [
      "frozen dataset 0\n",
      "frozen dataset 1\n",
      "frozen dataset 2\n",
      "frozen dataset 3\n"
     ]
    },
    {
     "name": "stderr",
     "output_type": "stream",
     "text": [
      "/home/argykokk/miniconda3/envs/hls4ml-tutorial/lib/python3.8/site-packages/keras/optimizers/optimizer_v2/adam.py:114: UserWarning: The `lr` argument is deprecated, use `learning_rate` instead.\n",
      "  super().__init__(name, **kwargs)\n"
     ]
    },
    {
     "name": "stdout",
     "output_type": "stream",
     "text": [
      "46/46 [==============================] - 0s 1ms/step - loss: 1.2574 - accuracy: 0.5095\n",
      "accuracy = 0.5095238089561462\n",
      "Interpreting Sequential\n",
      "Topology:\n",
      "Layer name: fc1_input, layer type: Input\n",
      "Layer name: fc1, layer type: QDense\n",
      "Layer name: relu1, layer type: QActivation\n",
      "Layer name: output, layer type: QDense\n",
      "Layer name: softmax, layer type: Activation\n",
      "copy top.v, sim.Xtest, and sim.Ytest to the synopsys project \n"
     ]
    },
    {
     "name": "stderr",
     "output_type": "stream",
     "text": [
      "/home/argykokk/miniconda3/envs/hls4ml-tutorial/lib/python3.8/site-packages/keras/initializers/initializers_v2.py:120: UserWarning: The initializer LecunUniform is unseeded and being called multiple times, which will return identical values  each time (even if the initializer is unseeded). Please update your code to provide a seed to the initializer, or avoid using the same initalizer instance more than once.\n",
      "  warnings.warn(\n"
     ]
    },
    {
     "name": "stdout",
     "output_type": "stream",
     "text": [
      "frozen dataset 0\n",
      "frozen dataset 1\n",
      "frozen dataset 2\n",
      "frozen dataset 3\n",
      "frozen dataset 4\n",
      "frozen dataset 5\n",
      "frozen dataset 6\n",
      "frozen dataset 7\n",
      "frozen dataset 8\n",
      "frozen dataset 9\n",
      "frozen dataset 10\n",
      "frozen dataset 0\n",
      "frozen dataset 1\n",
      "frozen dataset 2\n",
      "frozen dataset 3\n"
     ]
    },
    {
     "name": "stderr",
     "output_type": "stream",
     "text": [
      "/home/argykokk/miniconda3/envs/hls4ml-tutorial/lib/python3.8/site-packages/keras/optimizers/optimizer_v2/adam.py:114: UserWarning: The `lr` argument is deprecated, use `learning_rate` instead.\n",
      "  super().__init__(name, **kwargs)\n",
      "/home/argykokk/miniconda3/envs/hls4ml-tutorial/lib/python3.8/site-packages/keras/optimizers/optimizer_v2/adam.py:114: UserWarning: The `lr` argument is deprecated, use `learning_rate` instead.\n",
      "  super().__init__(name, **kwargs)\n"
     ]
    },
    {
     "name": "stdout",
     "output_type": "stream",
     "text": [
      "46/46 [==============================] - 0s 1ms/step - loss: 1.2574 - accuracy: 0.5095\n",
      "accuracy = 0.5095238089561462\n",
      "Interpreting Sequential\n",
      "Topology:\n",
      "Layer name: fc1_input, layer type: Input\n",
      "Layer name: fc1, layer type: QDense\n",
      "Layer name: relu1, layer type: QActivation\n",
      "Layer name: output, layer type: QDense\n",
      "Layer name: softmax, layer type: Activation\n",
      "copy top.v, sim.Xtest, and sim.Ytest to the synopsys project \n"
     ]
    },
    {
     "name": "stderr",
     "output_type": "stream",
     "text": [
      "/home/argykokk/miniconda3/envs/hls4ml-tutorial/lib/python3.8/site-packages/keras/initializers/initializers_v2.py:120: UserWarning: The initializer LecunUniform is unseeded and being called multiple times, which will return identical values  each time (even if the initializer is unseeded). Please update your code to provide a seed to the initializer, or avoid using the same initalizer instance more than once.\n",
      "  warnings.warn(\n"
     ]
    },
    {
     "name": "stdout",
     "output_type": "stream",
     "text": [
      "frozen dataset 0\n",
      "frozen dataset 1\n",
      "frozen dataset 2\n",
      "frozen dataset 3\n",
      "frozen dataset 4\n",
      "frozen dataset 5\n",
      "frozen dataset 6\n",
      "frozen dataset 7\n",
      "frozen dataset 8\n",
      "frozen dataset 9\n",
      "frozen dataset 10\n",
      "frozen dataset 0\n",
      "frozen dataset 1\n",
      "frozen dataset 2\n",
      "frozen dataset 3\n"
     ]
    },
    {
     "name": "stderr",
     "output_type": "stream",
     "text": [
      "/home/argykokk/miniconda3/envs/hls4ml-tutorial/lib/python3.8/site-packages/keras/optimizers/optimizer_v2/adam.py:114: UserWarning: The `lr` argument is deprecated, use `learning_rate` instead.\n",
      "  super().__init__(name, **kwargs)\n",
      "/home/argykokk/miniconda3/envs/hls4ml-tutorial/lib/python3.8/site-packages/keras/optimizers/optimizer_v2/adam.py:114: UserWarning: The `lr` argument is deprecated, use `learning_rate` instead.\n",
      "  super().__init__(name, **kwargs)\n"
     ]
    },
    {
     "name": "stdout",
     "output_type": "stream",
     "text": [
      "46/46 [==============================] - 0s 1ms/step - loss: 1.2574 - accuracy: 0.5095\n",
      "accuracy = 0.5095238089561462\n",
      "Interpreting Sequential\n",
      "Topology:\n",
      "Layer name: fc1_input, layer type: Input\n",
      "Layer name: fc1, layer type: QDense\n",
      "Layer name: relu1, layer type: QActivation\n",
      "Layer name: output, layer type: QDense\n",
      "Layer name: softmax, layer type: Activation\n",
      "copy top.v, sim.Xtest, and sim.Ytest to the synopsys project \n"
     ]
    },
    {
     "name": "stderr",
     "output_type": "stream",
     "text": [
      "/home/argykokk/miniconda3/envs/hls4ml-tutorial/lib/python3.8/site-packages/keras/initializers/initializers_v2.py:120: UserWarning: The initializer LecunUniform is unseeded and being called multiple times, which will return identical values  each time (even if the initializer is unseeded). Please update your code to provide a seed to the initializer, or avoid using the same initalizer instance more than once.\n",
      "  warnings.warn(\n"
     ]
    },
    {
     "name": "stdout",
     "output_type": "stream",
     "text": [
      "frozen dataset 0\n",
      "frozen dataset 1\n",
      "frozen dataset 2\n",
      "frozen dataset 3\n",
      "frozen dataset 4\n",
      "frozen dataset 5\n",
      "frozen dataset 6\n",
      "frozen dataset 7\n",
      "frozen dataset 8\n",
      "frozen dataset 9\n",
      "frozen dataset 10\n"
     ]
    },
    {
     "name": "stderr",
     "output_type": "stream",
     "text": [
      "/home/argykokk/miniconda3/envs/hls4ml-tutorial/lib/python3.8/site-packages/keras/optimizers/optimizer_v2/adam.py:114: UserWarning: The `lr` argument is deprecated, use `learning_rate` instead.\n",
      "  super().__init__(name, **kwargs)\n"
     ]
    },
    {
     "name": "stdout",
     "output_type": "stream",
     "text": [
      "frozen dataset 0\n",
      "frozen dataset 1\n",
      "frozen dataset 2\n",
      "frozen dataset 3\n"
     ]
    },
    {
     "name": "stderr",
     "output_type": "stream",
     "text": [
      "/home/argykokk/miniconda3/envs/hls4ml-tutorial/lib/python3.8/site-packages/keras/optimizers/optimizer_v2/adam.py:114: UserWarning: The `lr` argument is deprecated, use `learning_rate` instead.\n",
      "  super().__init__(name, **kwargs)\n"
     ]
    },
    {
     "name": "stdout",
     "output_type": "stream",
     "text": [
      "46/46 [==============================] - 0s 1ms/step - loss: 1.2574 - accuracy: 0.5095\n",
      "accuracy = 0.5095238089561462\n",
      "Interpreting Sequential\n",
      "Topology:\n",
      "Layer name: fc1_input, layer type: Input\n",
      "Layer name: fc1, layer type: QDense\n",
      "Layer name: relu1, layer type: QActivation\n",
      "Layer name: output, layer type: QDense\n",
      "Layer name: softmax, layer type: Activation\n",
      "copy top.v, sim.Xtest, and sim.Ytest to the synopsys project \n"
     ]
    },
    {
     "name": "stderr",
     "output_type": "stream",
     "text": [
      "/home/argykokk/miniconda3/envs/hls4ml-tutorial/lib/python3.8/site-packages/keras/initializers/initializers_v2.py:120: UserWarning: The initializer LecunUniform is unseeded and being called multiple times, which will return identical values  each time (even if the initializer is unseeded). Please update your code to provide a seed to the initializer, or avoid using the same initalizer instance more than once.\n",
      "  warnings.warn(\n"
     ]
    },
    {
     "name": "stdout",
     "output_type": "stream",
     "text": [
      "frozen dataset 0\n",
      "frozen dataset 1\n",
      "frozen dataset 2\n",
      "frozen dataset 3\n",
      "frozen dataset 4\n",
      "frozen dataset 5\n",
      "frozen dataset 6\n",
      "frozen dataset 7\n",
      "frozen dataset 8\n",
      "frozen dataset 9\n",
      "frozen dataset 10\n"
     ]
    },
    {
     "name": "stderr",
     "output_type": "stream",
     "text": [
      "/home/argykokk/miniconda3/envs/hls4ml-tutorial/lib/python3.8/site-packages/keras/optimizers/optimizer_v2/adam.py:114: UserWarning: The `lr` argument is deprecated, use `learning_rate` instead.\n",
      "  super().__init__(name, **kwargs)\n"
     ]
    },
    {
     "name": "stdout",
     "output_type": "stream",
     "text": [
      "frozen dataset 0\n",
      "frozen dataset 1\n",
      "frozen dataset 2\n",
      "frozen dataset 3\n"
     ]
    },
    {
     "name": "stderr",
     "output_type": "stream",
     "text": [
      "/home/argykokk/miniconda3/envs/hls4ml-tutorial/lib/python3.8/site-packages/keras/optimizers/optimizer_v2/adam.py:114: UserWarning: The `lr` argument is deprecated, use `learning_rate` instead.\n",
      "  super().__init__(name, **kwargs)\n"
     ]
    },
    {
     "name": "stdout",
     "output_type": "stream",
     "text": [
      "46/46 [==============================] - 0s 1ms/step - loss: 1.2574 - accuracy: 0.5095\n",
      "accuracy = 0.5095238089561462\n",
      "Interpreting Sequential\n",
      "Topology:\n",
      "Layer name: fc1_input, layer type: Input\n",
      "Layer name: fc1, layer type: QDense\n",
      "Layer name: relu1, layer type: QActivation\n",
      "Layer name: output, layer type: QDense\n",
      "Layer name: softmax, layer type: Activation\n",
      "copy top.v, sim.Xtest, and sim.Ytest to the synopsys project \n"
     ]
    },
    {
     "name": "stderr",
     "output_type": "stream",
     "text": [
      "/home/argykokk/miniconda3/envs/hls4ml-tutorial/lib/python3.8/site-packages/keras/initializers/initializers_v2.py:120: UserWarning: The initializer LecunUniform is unseeded and being called multiple times, which will return identical values  each time (even if the initializer is unseeded). Please update your code to provide a seed to the initializer, or avoid using the same initalizer instance more than once.\n",
      "  warnings.warn(\n"
     ]
    },
    {
     "name": "stdout",
     "output_type": "stream",
     "text": [
      "frozen dataset 0\n",
      "frozen dataset 1\n",
      "frozen dataset 2\n",
      "frozen dataset 3\n",
      "frozen dataset 4\n",
      "frozen dataset 5\n",
      "frozen dataset 6\n",
      "frozen dataset 7\n",
      "frozen dataset 8\n",
      "frozen dataset 9\n",
      "frozen dataset 10\n"
     ]
    },
    {
     "name": "stderr",
     "output_type": "stream",
     "text": [
      "/home/argykokk/miniconda3/envs/hls4ml-tutorial/lib/python3.8/site-packages/keras/optimizers/optimizer_v2/adam.py:114: UserWarning: The `lr` argument is deprecated, use `learning_rate` instead.\n",
      "  super().__init__(name, **kwargs)\n"
     ]
    },
    {
     "name": "stdout",
     "output_type": "stream",
     "text": [
      "frozen dataset 0\n",
      "frozen dataset 1\n",
      "frozen dataset 2\n",
      "frozen dataset 3\n"
     ]
    },
    {
     "name": "stderr",
     "output_type": "stream",
     "text": [
      "/home/argykokk/miniconda3/envs/hls4ml-tutorial/lib/python3.8/site-packages/keras/optimizers/optimizer_v2/adam.py:114: UserWarning: The `lr` argument is deprecated, use `learning_rate` instead.\n",
      "  super().__init__(name, **kwargs)\n"
     ]
    },
    {
     "name": "stdout",
     "output_type": "stream",
     "text": [
      "46/46 [==============================] - 0s 1ms/step - loss: 1.2574 - accuracy: 0.5095\n",
      "accuracy = 0.5095238089561462\n",
      "Interpreting Sequential\n",
      "Topology:\n",
      "Layer name: fc1_input, layer type: Input\n",
      "Layer name: fc1, layer type: QDense\n",
      "Layer name: relu1, layer type: QActivation\n",
      "Layer name: output, layer type: QDense\n",
      "Layer name: softmax, layer type: Activation\n",
      "copy top.v, sim.Xtest, and sim.Ytest to the synopsys project \n"
     ]
    },
    {
     "name": "stderr",
     "output_type": "stream",
     "text": [
      "/home/argykokk/miniconda3/envs/hls4ml-tutorial/lib/python3.8/site-packages/keras/initializers/initializers_v2.py:120: UserWarning: The initializer LecunUniform is unseeded and being called multiple times, which will return identical values  each time (even if the initializer is unseeded). Please update your code to provide a seed to the initializer, or avoid using the same initalizer instance more than once.\n",
      "  warnings.warn(\n"
     ]
    },
    {
     "name": "stdout",
     "output_type": "stream",
     "text": [
      "frozen dataset 0\n",
      "frozen dataset 1\n",
      "frozen dataset 2\n",
      "frozen dataset 3\n",
      "frozen dataset 4\n",
      "frozen dataset 5\n",
      "frozen dataset 6\n",
      "frozen dataset 7\n",
      "frozen dataset 8\n",
      "frozen dataset 9\n",
      "frozen dataset 10\n",
      "frozen dataset 0\n",
      "frozen dataset 1\n",
      "frozen dataset 2\n",
      "frozen dataset 3\n"
     ]
    },
    {
     "name": "stderr",
     "output_type": "stream",
     "text": [
      "/home/argykokk/miniconda3/envs/hls4ml-tutorial/lib/python3.8/site-packages/keras/optimizers/optimizer_v2/adam.py:114: UserWarning: The `lr` argument is deprecated, use `learning_rate` instead.\n",
      "  super().__init__(name, **kwargs)\n",
      "/home/argykokk/miniconda3/envs/hls4ml-tutorial/lib/python3.8/site-packages/keras/optimizers/optimizer_v2/adam.py:114: UserWarning: The `lr` argument is deprecated, use `learning_rate` instead.\n",
      "  super().__init__(name, **kwargs)\n"
     ]
    },
    {
     "name": "stdout",
     "output_type": "stream",
     "text": [
      "46/46 [==============================] - 0s 996us/step - loss: 1.2574 - accuracy: 0.5095\n",
      "accuracy = 0.5095238089561462\n",
      "Interpreting Sequential\n",
      "Topology:\n",
      "Layer name: fc1_input, layer type: Input\n",
      "Layer name: fc1, layer type: QDense\n",
      "Layer name: relu1, layer type: QActivation\n",
      "Layer name: output, layer type: QDense\n",
      "Layer name: softmax, layer type: Activation\n",
      "copy top.v, sim.Xtest, and sim.Ytest to the synopsys project \n"
     ]
    },
    {
     "name": "stderr",
     "output_type": "stream",
     "text": [
      "/home/argykokk/miniconda3/envs/hls4ml-tutorial/lib/python3.8/site-packages/keras/initializers/initializers_v2.py:120: UserWarning: The initializer LecunUniform is unseeded and being called multiple times, which will return identical values  each time (even if the initializer is unseeded). Please update your code to provide a seed to the initializer, or avoid using the same initalizer instance more than once.\n",
      "  warnings.warn(\n"
     ]
    },
    {
     "name": "stdout",
     "output_type": "stream",
     "text": [
      "frozen dataset 0\n",
      "frozen dataset 1\n",
      "frozen dataset 2\n",
      "frozen dataset 3\n",
      "frozen dataset 4\n",
      "frozen dataset 5\n",
      "frozen dataset 6\n",
      "frozen dataset 7\n",
      "frozen dataset 8\n",
      "frozen dataset 9\n",
      "frozen dataset 10\n"
     ]
    },
    {
     "name": "stderr",
     "output_type": "stream",
     "text": [
      "/home/argykokk/miniconda3/envs/hls4ml-tutorial/lib/python3.8/site-packages/keras/optimizers/optimizer_v2/adam.py:114: UserWarning: The `lr` argument is deprecated, use `learning_rate` instead.\n",
      "  super().__init__(name, **kwargs)\n"
     ]
    },
    {
     "name": "stdout",
     "output_type": "stream",
     "text": [
      "frozen dataset 0\n",
      "frozen dataset 1\n",
      "frozen dataset 2\n",
      "frozen dataset 3\n"
     ]
    },
    {
     "name": "stderr",
     "output_type": "stream",
     "text": [
      "/home/argykokk/miniconda3/envs/hls4ml-tutorial/lib/python3.8/site-packages/keras/optimizers/optimizer_v2/adam.py:114: UserWarning: The `lr` argument is deprecated, use `learning_rate` instead.\n",
      "  super().__init__(name, **kwargs)\n"
     ]
    },
    {
     "name": "stdout",
     "output_type": "stream",
     "text": [
      "46/46 [==============================] - 0s 1ms/step - loss: 1.2574 - accuracy: 0.5095\n",
      "accuracy = 0.5095238089561462\n",
      "Interpreting Sequential\n",
      "Topology:\n",
      "Layer name: fc1_input, layer type: Input\n",
      "Layer name: fc1, layer type: QDense\n",
      "Layer name: relu1, layer type: QActivation\n",
      "Layer name: output, layer type: QDense\n",
      "Layer name: softmax, layer type: Activation\n",
      "copy top.v, sim.Xtest, and sim.Ytest to the synopsys project \n"
     ]
    },
    {
     "name": "stderr",
     "output_type": "stream",
     "text": [
      "/home/argykokk/miniconda3/envs/hls4ml-tutorial/lib/python3.8/site-packages/keras/initializers/initializers_v2.py:120: UserWarning: The initializer LecunUniform is unseeded and being called multiple times, which will return identical values  each time (even if the initializer is unseeded). Please update your code to provide a seed to the initializer, or avoid using the same initalizer instance more than once.\n",
      "  warnings.warn(\n"
     ]
    },
    {
     "name": "stdout",
     "output_type": "stream",
     "text": [
      "frozen dataset 0\n",
      "frozen dataset 1\n",
      "frozen dataset 2\n",
      "frozen dataset 3\n",
      "frozen dataset 4\n",
      "frozen dataset 5\n",
      "frozen dataset 6\n",
      "frozen dataset 7\n",
      "frozen dataset 8\n",
      "frozen dataset 9\n",
      "frozen dataset 10\n"
     ]
    },
    {
     "name": "stderr",
     "output_type": "stream",
     "text": [
      "/home/argykokk/miniconda3/envs/hls4ml-tutorial/lib/python3.8/site-packages/keras/optimizers/optimizer_v2/adam.py:114: UserWarning: The `lr` argument is deprecated, use `learning_rate` instead.\n",
      "  super().__init__(name, **kwargs)\n"
     ]
    },
    {
     "name": "stdout",
     "output_type": "stream",
     "text": [
      "frozen dataset 0\n",
      "frozen dataset 1\n",
      "frozen dataset 2\n",
      "frozen dataset 3\n"
     ]
    },
    {
     "name": "stderr",
     "output_type": "stream",
     "text": [
      "/home/argykokk/miniconda3/envs/hls4ml-tutorial/lib/python3.8/site-packages/keras/optimizers/optimizer_v2/adam.py:114: UserWarning: The `lr` argument is deprecated, use `learning_rate` instead.\n",
      "  super().__init__(name, **kwargs)\n"
     ]
    },
    {
     "name": "stdout",
     "output_type": "stream",
     "text": [
      "46/46 [==============================] - 0s 1ms/step - loss: 1.2574 - accuracy: 0.5095\n",
      "accuracy = 0.5095238089561462\n",
      "Interpreting Sequential\n",
      "Topology:\n",
      "Layer name: fc1_input, layer type: Input\n",
      "Layer name: fc1, layer type: QDense\n",
      "Layer name: relu1, layer type: QActivation\n",
      "Layer name: output, layer type: QDense\n",
      "Layer name: softmax, layer type: Activation\n",
      "copy top.v, sim.Xtest, and sim.Ytest to the synopsys project \n"
     ]
    },
    {
     "name": "stderr",
     "output_type": "stream",
     "text": [
      "/home/argykokk/miniconda3/envs/hls4ml-tutorial/lib/python3.8/site-packages/keras/initializers/initializers_v2.py:120: UserWarning: The initializer LecunUniform is unseeded and being called multiple times, which will return identical values  each time (even if the initializer is unseeded). Please update your code to provide a seed to the initializer, or avoid using the same initalizer instance more than once.\n",
      "  warnings.warn(\n"
     ]
    },
    {
     "name": "stdout",
     "output_type": "stream",
     "text": [
      "frozen dataset 0\n",
      "frozen dataset 1\n",
      "frozen dataset 2\n",
      "frozen dataset 3\n",
      "frozen dataset 4\n",
      "frozen dataset 5\n",
      "frozen dataset 6\n",
      "frozen dataset 7\n",
      "frozen dataset 8\n",
      "frozen dataset 9\n",
      "frozen dataset 10\n"
     ]
    },
    {
     "name": "stderr",
     "output_type": "stream",
     "text": [
      "/home/argykokk/miniconda3/envs/hls4ml-tutorial/lib/python3.8/site-packages/keras/optimizers/optimizer_v2/adam.py:114: UserWarning: The `lr` argument is deprecated, use `learning_rate` instead.\n",
      "  super().__init__(name, **kwargs)\n"
     ]
    },
    {
     "name": "stdout",
     "output_type": "stream",
     "text": [
      "frozen dataset 0\n",
      "frozen dataset 1\n",
      "frozen dataset 2\n",
      "frozen dataset 3\n"
     ]
    },
    {
     "name": "stderr",
     "output_type": "stream",
     "text": [
      "/home/argykokk/miniconda3/envs/hls4ml-tutorial/lib/python3.8/site-packages/keras/optimizers/optimizer_v2/adam.py:114: UserWarning: The `lr` argument is deprecated, use `learning_rate` instead.\n",
      "  super().__init__(name, **kwargs)\n"
     ]
    },
    {
     "name": "stdout",
     "output_type": "stream",
     "text": [
      "46/46 [==============================] - 0s 1ms/step - loss: 1.2574 - accuracy: 0.5095\n",
      "accuracy = 0.5095238089561462\n",
      "Interpreting Sequential\n",
      "Topology:\n",
      "Layer name: fc1_input, layer type: Input\n",
      "Layer name: fc1, layer type: QDense\n",
      "Layer name: relu1, layer type: QActivation\n",
      "Layer name: output, layer type: QDense\n",
      "Layer name: softmax, layer type: Activation\n",
      "copy top.v, sim.Xtest, and sim.Ytest to the synopsys project \n"
     ]
    },
    {
     "name": "stderr",
     "output_type": "stream",
     "text": [
      "/home/argykokk/miniconda3/envs/hls4ml-tutorial/lib/python3.8/site-packages/keras/initializers/initializers_v2.py:120: UserWarning: The initializer LecunUniform is unseeded and being called multiple times, which will return identical values  each time (even if the initializer is unseeded). Please update your code to provide a seed to the initializer, or avoid using the same initalizer instance more than once.\n",
      "  warnings.warn(\n"
     ]
    },
    {
     "name": "stdout",
     "output_type": "stream",
     "text": [
      "frozen dataset 0\n",
      "frozen dataset 1\n",
      "frozen dataset 2\n",
      "frozen dataset 3\n",
      "frozen dataset 4\n",
      "frozen dataset 5\n",
      "frozen dataset 6\n",
      "frozen dataset 7\n",
      "frozen dataset 8\n",
      "frozen dataset 9\n",
      "frozen dataset 10\n"
     ]
    },
    {
     "name": "stderr",
     "output_type": "stream",
     "text": [
      "/home/argykokk/miniconda3/envs/hls4ml-tutorial/lib/python3.8/site-packages/keras/optimizers/optimizer_v2/adam.py:114: UserWarning: The `lr` argument is deprecated, use `learning_rate` instead.\n",
      "  super().__init__(name, **kwargs)\n"
     ]
    },
    {
     "name": "stdout",
     "output_type": "stream",
     "text": [
      "frozen dataset 0\n",
      "frozen dataset 1\n",
      "frozen dataset 2\n",
      "frozen dataset 3\n"
     ]
    },
    {
     "name": "stderr",
     "output_type": "stream",
     "text": [
      "/home/argykokk/miniconda3/envs/hls4ml-tutorial/lib/python3.8/site-packages/keras/optimizers/optimizer_v2/adam.py:114: UserWarning: The `lr` argument is deprecated, use `learning_rate` instead.\n",
      "  super().__init__(name, **kwargs)\n"
     ]
    },
    {
     "name": "stdout",
     "output_type": "stream",
     "text": [
      "46/46 [==============================] - 0s 984us/step - loss: 1.2574 - accuracy: 0.5095\n",
      "accuracy = 0.5095238089561462\n",
      "Interpreting Sequential\n",
      "Topology:\n",
      "Layer name: fc1_input, layer type: Input\n",
      "Layer name: fc1, layer type: QDense\n",
      "Layer name: relu1, layer type: QActivation\n",
      "Layer name: output, layer type: QDense\n",
      "Layer name: softmax, layer type: Activation\n",
      "copy top.v, sim.Xtest, and sim.Ytest to the synopsys project \n"
     ]
    },
    {
     "name": "stderr",
     "output_type": "stream",
     "text": [
      "/home/argykokk/miniconda3/envs/hls4ml-tutorial/lib/python3.8/site-packages/keras/initializers/initializers_v2.py:120: UserWarning: The initializer LecunUniform is unseeded and being called multiple times, which will return identical values  each time (even if the initializer is unseeded). Please update your code to provide a seed to the initializer, or avoid using the same initalizer instance more than once.\n",
      "  warnings.warn(\n"
     ]
    },
    {
     "name": "stdout",
     "output_type": "stream",
     "text": [
      "frozen dataset 0\n",
      "frozen dataset 1\n",
      "frozen dataset 2\n",
      "frozen dataset 3\n",
      "frozen dataset 4\n",
      "frozen dataset 5\n",
      "frozen dataset 6\n",
      "frozen dataset 7\n",
      "frozen dataset 8\n",
      "frozen dataset 9\n",
      "frozen dataset 10\n"
     ]
    },
    {
     "name": "stderr",
     "output_type": "stream",
     "text": [
      "/home/argykokk/miniconda3/envs/hls4ml-tutorial/lib/python3.8/site-packages/keras/optimizers/optimizer_v2/adam.py:114: UserWarning: The `lr` argument is deprecated, use `learning_rate` instead.\n",
      "  super().__init__(name, **kwargs)\n"
     ]
    },
    {
     "name": "stdout",
     "output_type": "stream",
     "text": [
      "frozen dataset 0\n",
      "frozen dataset 1\n",
      "frozen dataset 2\n",
      "frozen dataset 3\n"
     ]
    },
    {
     "name": "stderr",
     "output_type": "stream",
     "text": [
      "/home/argykokk/miniconda3/envs/hls4ml-tutorial/lib/python3.8/site-packages/keras/optimizers/optimizer_v2/adam.py:114: UserWarning: The `lr` argument is deprecated, use `learning_rate` instead.\n",
      "  super().__init__(name, **kwargs)\n"
     ]
    },
    {
     "name": "stdout",
     "output_type": "stream",
     "text": [
      "46/46 [==============================] - 0s 1ms/step - loss: 1.2574 - accuracy: 0.5095\n",
      "accuracy = 0.5095238089561462\n",
      "Interpreting Sequential\n",
      "Topology:\n",
      "Layer name: fc1_input, layer type: Input\n",
      "Layer name: fc1, layer type: QDense\n",
      "Layer name: relu1, layer type: QActivation\n",
      "Layer name: output, layer type: QDense\n",
      "Layer name: softmax, layer type: Activation\n",
      "copy top.v, sim.Xtest, and sim.Ytest to the synopsys project \n"
     ]
    },
    {
     "name": "stderr",
     "output_type": "stream",
     "text": [
      "/home/argykokk/miniconda3/envs/hls4ml-tutorial/lib/python3.8/site-packages/keras/initializers/initializers_v2.py:120: UserWarning: The initializer LecunUniform is unseeded and being called multiple times, which will return identical values  each time (even if the initializer is unseeded). Please update your code to provide a seed to the initializer, or avoid using the same initalizer instance more than once.\n",
      "  warnings.warn(\n"
     ]
    },
    {
     "name": "stdout",
     "output_type": "stream",
     "text": [
      "frozen dataset 0\n",
      "frozen dataset 1\n",
      "frozen dataset 2\n",
      "frozen dataset 3\n",
      "frozen dataset 4\n",
      "frozen dataset 5\n",
      "frozen dataset 6\n",
      "frozen dataset 7\n",
      "frozen dataset 8\n",
      "frozen dataset 9\n",
      "frozen dataset 10\n"
     ]
    },
    {
     "name": "stderr",
     "output_type": "stream",
     "text": [
      "/home/argykokk/miniconda3/envs/hls4ml-tutorial/lib/python3.8/site-packages/keras/optimizers/optimizer_v2/adam.py:114: UserWarning: The `lr` argument is deprecated, use `learning_rate` instead.\n",
      "  super().__init__(name, **kwargs)\n"
     ]
    },
    {
     "name": "stdout",
     "output_type": "stream",
     "text": [
      "frozen dataset 0\n",
      "frozen dataset 1\n",
      "frozen dataset 2\n",
      "frozen dataset 3\n"
     ]
    },
    {
     "name": "stderr",
     "output_type": "stream",
     "text": [
      "/home/argykokk/miniconda3/envs/hls4ml-tutorial/lib/python3.8/site-packages/keras/optimizers/optimizer_v2/adam.py:114: UserWarning: The `lr` argument is deprecated, use `learning_rate` instead.\n",
      "  super().__init__(name, **kwargs)\n"
     ]
    },
    {
     "name": "stdout",
     "output_type": "stream",
     "text": [
      "46/46 [==============================] - 0s 958us/step - loss: 1.2574 - accuracy: 0.5095\n",
      "accuracy = 0.5095238089561462\n",
      "Interpreting Sequential\n",
      "Topology:\n",
      "Layer name: fc1_input, layer type: Input\n",
      "Layer name: fc1, layer type: QDense\n",
      "Layer name: relu1, layer type: QActivation\n",
      "Layer name: output, layer type: QDense\n",
      "Layer name: softmax, layer type: Activation\n",
      "copy top.v, sim.Xtest, and sim.Ytest to the synopsys project \n"
     ]
    },
    {
     "name": "stderr",
     "output_type": "stream",
     "text": [
      "/home/argykokk/miniconda3/envs/hls4ml-tutorial/lib/python3.8/site-packages/keras/initializers/initializers_v2.py:120: UserWarning: The initializer LecunUniform is unseeded and being called multiple times, which will return identical values  each time (even if the initializer is unseeded). Please update your code to provide a seed to the initializer, or avoid using the same initalizer instance more than once.\n",
      "  warnings.warn(\n"
     ]
    },
    {
     "name": "stdout",
     "output_type": "stream",
     "text": [
      "frozen dataset 0\n",
      "frozen dataset 1\n",
      "frozen dataset 2\n",
      "frozen dataset 3\n",
      "frozen dataset 4\n",
      "frozen dataset 5\n",
      "frozen dataset 6\n",
      "frozen dataset 7\n",
      "frozen dataset 8\n",
      "frozen dataset 9\n",
      "frozen dataset 10\n"
     ]
    },
    {
     "name": "stderr",
     "output_type": "stream",
     "text": [
      "/home/argykokk/miniconda3/envs/hls4ml-tutorial/lib/python3.8/site-packages/keras/optimizers/optimizer_v2/adam.py:114: UserWarning: The `lr` argument is deprecated, use `learning_rate` instead.\n",
      "  super().__init__(name, **kwargs)\n"
     ]
    },
    {
     "name": "stdout",
     "output_type": "stream",
     "text": [
      "frozen dataset 0\n",
      "frozen dataset 1\n",
      "frozen dataset 2\n",
      "frozen dataset 3\n"
     ]
    },
    {
     "name": "stderr",
     "output_type": "stream",
     "text": [
      "/home/argykokk/miniconda3/envs/hls4ml-tutorial/lib/python3.8/site-packages/keras/optimizers/optimizer_v2/adam.py:114: UserWarning: The `lr` argument is deprecated, use `learning_rate` instead.\n",
      "  super().__init__(name, **kwargs)\n"
     ]
    },
    {
     "name": "stdout",
     "output_type": "stream",
     "text": [
      "46/46 [==============================] - 0s 993us/step - loss: 1.2574 - accuracy: 0.5095\n",
      "accuracy = 0.5095238089561462\n",
      "Interpreting Sequential\n",
      "Topology:\n",
      "Layer name: fc1_input, layer type: Input\n",
      "Layer name: fc1, layer type: QDense\n",
      "Layer name: relu1, layer type: QActivation\n",
      "Layer name: output, layer type: QDense\n",
      "Layer name: softmax, layer type: Activation\n",
      "copy top.v, sim.Xtest, and sim.Ytest to the synopsys project \n"
     ]
    },
    {
     "name": "stderr",
     "output_type": "stream",
     "text": [
      "/home/argykokk/miniconda3/envs/hls4ml-tutorial/lib/python3.8/site-packages/keras/initializers/initializers_v2.py:120: UserWarning: The initializer LecunUniform is unseeded and being called multiple times, which will return identical values  each time (even if the initializer is unseeded). Please update your code to provide a seed to the initializer, or avoid using the same initalizer instance more than once.\n",
      "  warnings.warn(\n"
     ]
    },
    {
     "name": "stdout",
     "output_type": "stream",
     "text": [
      "frozen dataset 0\n",
      "frozen dataset 1\n",
      "frozen dataset 2\n",
      "frozen dataset 3\n",
      "frozen dataset 4\n",
      "frozen dataset 5\n",
      "frozen dataset 6\n",
      "frozen dataset 7\n",
      "frozen dataset 8\n",
      "frozen dataset 9\n",
      "frozen dataset 10\n"
     ]
    },
    {
     "name": "stderr",
     "output_type": "stream",
     "text": [
      "/home/argykokk/miniconda3/envs/hls4ml-tutorial/lib/python3.8/site-packages/keras/optimizers/optimizer_v2/adam.py:114: UserWarning: The `lr` argument is deprecated, use `learning_rate` instead.\n",
      "  super().__init__(name, **kwargs)\n"
     ]
    },
    {
     "name": "stdout",
     "output_type": "stream",
     "text": [
      "frozen dataset 0\n",
      "frozen dataset 1\n",
      "frozen dataset 2\n",
      "frozen dataset 3\n"
     ]
    },
    {
     "name": "stderr",
     "output_type": "stream",
     "text": [
      "/home/argykokk/miniconda3/envs/hls4ml-tutorial/lib/python3.8/site-packages/keras/optimizers/optimizer_v2/adam.py:114: UserWarning: The `lr` argument is deprecated, use `learning_rate` instead.\n",
      "  super().__init__(name, **kwargs)\n"
     ]
    },
    {
     "name": "stdout",
     "output_type": "stream",
     "text": [
      "46/46 [==============================] - 0s 966us/step - loss: 1.2574 - accuracy: 0.5095\n",
      "accuracy = 0.5095238089561462\n",
      "Interpreting Sequential\n",
      "Topology:\n",
      "Layer name: fc1_input, layer type: Input\n",
      "Layer name: fc1, layer type: QDense\n",
      "Layer name: relu1, layer type: QActivation\n",
      "Layer name: output, layer type: QDense\n",
      "Layer name: softmax, layer type: Activation\n",
      "copy top.v, sim.Xtest, and sim.Ytest to the synopsys project \n"
     ]
    },
    {
     "name": "stderr",
     "output_type": "stream",
     "text": [
      "/home/argykokk/miniconda3/envs/hls4ml-tutorial/lib/python3.8/site-packages/keras/initializers/initializers_v2.py:120: UserWarning: The initializer LecunUniform is unseeded and being called multiple times, which will return identical values  each time (even if the initializer is unseeded). Please update your code to provide a seed to the initializer, or avoid using the same initalizer instance more than once.\n",
      "  warnings.warn(\n"
     ]
    },
    {
     "name": "stdout",
     "output_type": "stream",
     "text": [
      "frozen dataset 0\n",
      "frozen dataset 1\n",
      "frozen dataset 2\n",
      "frozen dataset 3\n",
      "frozen dataset 4\n",
      "frozen dataset 5\n",
      "frozen dataset 6\n",
      "frozen dataset 7\n",
      "frozen dataset 8\n",
      "frozen dataset 9\n",
      "frozen dataset 10\n",
      "frozen dataset 0\n",
      "frozen dataset 1\n",
      "frozen dataset 2\n",
      "frozen dataset 3\n"
     ]
    },
    {
     "name": "stderr",
     "output_type": "stream",
     "text": [
      "/home/argykokk/miniconda3/envs/hls4ml-tutorial/lib/python3.8/site-packages/keras/optimizers/optimizer_v2/adam.py:114: UserWarning: The `lr` argument is deprecated, use `learning_rate` instead.\n",
      "  super().__init__(name, **kwargs)\n",
      "/home/argykokk/miniconda3/envs/hls4ml-tutorial/lib/python3.8/site-packages/keras/optimizers/optimizer_v2/adam.py:114: UserWarning: The `lr` argument is deprecated, use `learning_rate` instead.\n",
      "  super().__init__(name, **kwargs)\n"
     ]
    },
    {
     "name": "stdout",
     "output_type": "stream",
     "text": [
      "46/46 [==============================] - 0s 1ms/step - loss: 1.2574 - accuracy: 0.5095\n",
      "accuracy = 0.5095238089561462\n",
      "Interpreting Sequential\n",
      "Topology:\n",
      "Layer name: fc1_input, layer type: Input\n",
      "Layer name: fc1, layer type: QDense\n",
      "Layer name: relu1, layer type: QActivation\n",
      "Layer name: output, layer type: QDense\n",
      "Layer name: softmax, layer type: Activation\n",
      "copy top.v, sim.Xtest, and sim.Ytest to the synopsys project \n"
     ]
    },
    {
     "name": "stderr",
     "output_type": "stream",
     "text": [
      "/home/argykokk/miniconda3/envs/hls4ml-tutorial/lib/python3.8/site-packages/keras/initializers/initializers_v2.py:120: UserWarning: The initializer LecunUniform is unseeded and being called multiple times, which will return identical values  each time (even if the initializer is unseeded). Please update your code to provide a seed to the initializer, or avoid using the same initalizer instance more than once.\n",
      "  warnings.warn(\n"
     ]
    },
    {
     "name": "stdout",
     "output_type": "stream",
     "text": [
      "frozen dataset 0\n",
      "frozen dataset 1\n",
      "frozen dataset 2\n",
      "frozen dataset 3\n",
      "frozen dataset 4\n",
      "frozen dataset 5\n",
      "frozen dataset 6\n",
      "frozen dataset 7\n",
      "frozen dataset 8\n",
      "frozen dataset 9\n",
      "frozen dataset 10\n"
     ]
    },
    {
     "name": "stderr",
     "output_type": "stream",
     "text": [
      "/home/argykokk/miniconda3/envs/hls4ml-tutorial/lib/python3.8/site-packages/keras/optimizers/optimizer_v2/adam.py:114: UserWarning: The `lr` argument is deprecated, use `learning_rate` instead.\n",
      "  super().__init__(name, **kwargs)\n"
     ]
    },
    {
     "name": "stdout",
     "output_type": "stream",
     "text": [
      "frozen dataset 0\n",
      "frozen dataset 1\n",
      "frozen dataset 2\n",
      "frozen dataset 3\n"
     ]
    },
    {
     "name": "stderr",
     "output_type": "stream",
     "text": [
      "/home/argykokk/miniconda3/envs/hls4ml-tutorial/lib/python3.8/site-packages/keras/optimizers/optimizer_v2/adam.py:114: UserWarning: The `lr` argument is deprecated, use `learning_rate` instead.\n",
      "  super().__init__(name, **kwargs)\n"
     ]
    },
    {
     "name": "stdout",
     "output_type": "stream",
     "text": [
      "46/46 [==============================] - 0s 1ms/step - loss: 1.2574 - accuracy: 0.5095\n",
      "accuracy = 0.5095238089561462\n",
      "Interpreting Sequential\n",
      "Topology:\n",
      "Layer name: fc1_input, layer type: Input\n",
      "Layer name: fc1, layer type: QDense\n",
      "Layer name: relu1, layer type: QActivation\n",
      "Layer name: output, layer type: QDense\n",
      "Layer name: softmax, layer type: Activation\n",
      "copy top.v, sim.Xtest, and sim.Ytest to the synopsys project \n"
     ]
    },
    {
     "name": "stderr",
     "output_type": "stream",
     "text": [
      "/home/argykokk/miniconda3/envs/hls4ml-tutorial/lib/python3.8/site-packages/keras/initializers/initializers_v2.py:120: UserWarning: The initializer LecunUniform is unseeded and being called multiple times, which will return identical values  each time (even if the initializer is unseeded). Please update your code to provide a seed to the initializer, or avoid using the same initalizer instance more than once.\n",
      "  warnings.warn(\n"
     ]
    },
    {
     "name": "stdout",
     "output_type": "stream",
     "text": [
      "frozen dataset 0\n",
      "frozen dataset 1\n",
      "frozen dataset 2\n",
      "frozen dataset 3\n",
      "frozen dataset 4\n",
      "frozen dataset 5\n",
      "frozen dataset 6\n",
      "frozen dataset 7\n",
      "frozen dataset 8\n",
      "frozen dataset 9\n",
      "frozen dataset 10\n"
     ]
    },
    {
     "name": "stderr",
     "output_type": "stream",
     "text": [
      "/home/argykokk/miniconda3/envs/hls4ml-tutorial/lib/python3.8/site-packages/keras/optimizers/optimizer_v2/adam.py:114: UserWarning: The `lr` argument is deprecated, use `learning_rate` instead.\n",
      "  super().__init__(name, **kwargs)\n"
     ]
    },
    {
     "name": "stdout",
     "output_type": "stream",
     "text": [
      "frozen dataset 0\n",
      "frozen dataset 1\n",
      "frozen dataset 2\n",
      "frozen dataset 3\n"
     ]
    },
    {
     "name": "stderr",
     "output_type": "stream",
     "text": [
      "/home/argykokk/miniconda3/envs/hls4ml-tutorial/lib/python3.8/site-packages/keras/optimizers/optimizer_v2/adam.py:114: UserWarning: The `lr` argument is deprecated, use `learning_rate` instead.\n",
      "  super().__init__(name, **kwargs)\n"
     ]
    },
    {
     "name": "stdout",
     "output_type": "stream",
     "text": [
      "46/46 [==============================] - 0s 994us/step - loss: 1.2574 - accuracy: 0.5095\n",
      "accuracy = 0.5095238089561462\n",
      "Interpreting Sequential\n",
      "Topology:\n",
      "Layer name: fc1_input, layer type: Input\n",
      "Layer name: fc1, layer type: QDense\n",
      "Layer name: relu1, layer type: QActivation\n",
      "Layer name: output, layer type: QDense\n",
      "Layer name: softmax, layer type: Activation\n",
      "copy top.v, sim.Xtest, and sim.Ytest to the synopsys project \n"
     ]
    },
    {
     "name": "stderr",
     "output_type": "stream",
     "text": [
      "/home/argykokk/miniconda3/envs/hls4ml-tutorial/lib/python3.8/site-packages/keras/initializers/initializers_v2.py:120: UserWarning: The initializer LecunUniform is unseeded and being called multiple times, which will return identical values  each time (even if the initializer is unseeded). Please update your code to provide a seed to the initializer, or avoid using the same initalizer instance more than once.\n",
      "  warnings.warn(\n"
     ]
    },
    {
     "name": "stdout",
     "output_type": "stream",
     "text": [
      "frozen dataset 0\n",
      "frozen dataset 1\n",
      "frozen dataset 2\n",
      "frozen dataset 3\n",
      "frozen dataset 4\n",
      "frozen dataset 5\n",
      "frozen dataset 6\n",
      "frozen dataset 7\n",
      "frozen dataset 8\n",
      "frozen dataset 9\n",
      "frozen dataset 10\n"
     ]
    },
    {
     "name": "stderr",
     "output_type": "stream",
     "text": [
      "/home/argykokk/miniconda3/envs/hls4ml-tutorial/lib/python3.8/site-packages/keras/optimizers/optimizer_v2/adam.py:114: UserWarning: The `lr` argument is deprecated, use `learning_rate` instead.\n",
      "  super().__init__(name, **kwargs)\n"
     ]
    },
    {
     "name": "stdout",
     "output_type": "stream",
     "text": [
      "frozen dataset 0\n",
      "frozen dataset 1\n",
      "frozen dataset 2\n",
      "frozen dataset 3\n"
     ]
    },
    {
     "name": "stderr",
     "output_type": "stream",
     "text": [
      "/home/argykokk/miniconda3/envs/hls4ml-tutorial/lib/python3.8/site-packages/keras/optimizers/optimizer_v2/adam.py:114: UserWarning: The `lr` argument is deprecated, use `learning_rate` instead.\n",
      "  super().__init__(name, **kwargs)\n"
     ]
    },
    {
     "name": "stdout",
     "output_type": "stream",
     "text": [
      "46/46 [==============================] - 0s 1ms/step - loss: 1.2574 - accuracy: 0.5095\n",
      "accuracy = 0.5095238089561462\n",
      "Interpreting Sequential\n",
      "Topology:\n",
      "Layer name: fc1_input, layer type: Input\n",
      "Layer name: fc1, layer type: QDense\n",
      "Layer name: relu1, layer type: QActivation\n",
      "Layer name: output, layer type: QDense\n",
      "Layer name: softmax, layer type: Activation\n",
      "copy top.v, sim.Xtest, and sim.Ytest to the synopsys project \n"
     ]
    },
    {
     "name": "stderr",
     "output_type": "stream",
     "text": [
      "/home/argykokk/miniconda3/envs/hls4ml-tutorial/lib/python3.8/site-packages/keras/initializers/initializers_v2.py:120: UserWarning: The initializer LecunUniform is unseeded and being called multiple times, which will return identical values  each time (even if the initializer is unseeded). Please update your code to provide a seed to the initializer, or avoid using the same initalizer instance more than once.\n",
      "  warnings.warn(\n"
     ]
    },
    {
     "name": "stdout",
     "output_type": "stream",
     "text": [
      "frozen dataset 0\n",
      "frozen dataset 1\n",
      "frozen dataset 2\n",
      "frozen dataset 3\n",
      "frozen dataset 4\n",
      "frozen dataset 5\n",
      "frozen dataset 6\n",
      "frozen dataset 7\n",
      "frozen dataset 8\n",
      "frozen dataset 9\n",
      "frozen dataset 10\n"
     ]
    },
    {
     "name": "stderr",
     "output_type": "stream",
     "text": [
      "/home/argykokk/miniconda3/envs/hls4ml-tutorial/lib/python3.8/site-packages/keras/optimizers/optimizer_v2/adam.py:114: UserWarning: The `lr` argument is deprecated, use `learning_rate` instead.\n",
      "  super().__init__(name, **kwargs)\n"
     ]
    },
    {
     "name": "stdout",
     "output_type": "stream",
     "text": [
      "frozen dataset 0\n",
      "frozen dataset 1\n",
      "frozen dataset 2\n",
      "frozen dataset 3\n"
     ]
    },
    {
     "name": "stderr",
     "output_type": "stream",
     "text": [
      "/home/argykokk/miniconda3/envs/hls4ml-tutorial/lib/python3.8/site-packages/keras/optimizers/optimizer_v2/adam.py:114: UserWarning: The `lr` argument is deprecated, use `learning_rate` instead.\n",
      "  super().__init__(name, **kwargs)\n"
     ]
    },
    {
     "name": "stdout",
     "output_type": "stream",
     "text": [
      "46/46 [==============================] - 0s 1ms/step - loss: 1.2574 - accuracy: 0.5095\n",
      "accuracy = 0.5095238089561462\n",
      "Interpreting Sequential\n",
      "Topology:\n",
      "Layer name: fc1_input, layer type: Input\n",
      "Layer name: fc1, layer type: QDense\n",
      "Layer name: relu1, layer type: QActivation\n",
      "Layer name: output, layer type: QDense\n",
      "Layer name: softmax, layer type: Activation\n",
      "copy top.v, sim.Xtest, and sim.Ytest to the synopsys project \n"
     ]
    },
    {
     "name": "stderr",
     "output_type": "stream",
     "text": [
      "/home/argykokk/miniconda3/envs/hls4ml-tutorial/lib/python3.8/site-packages/keras/initializers/initializers_v2.py:120: UserWarning: The initializer LecunUniform is unseeded and being called multiple times, which will return identical values  each time (even if the initializer is unseeded). Please update your code to provide a seed to the initializer, or avoid using the same initalizer instance more than once.\n",
      "  warnings.warn(\n"
     ]
    },
    {
     "name": "stdout",
     "output_type": "stream",
     "text": [
      "frozen dataset 0\n",
      "frozen dataset 1\n",
      "frozen dataset 2\n",
      "frozen dataset 3\n",
      "frozen dataset 4\n",
      "frozen dataset 5\n",
      "frozen dataset 6\n",
      "frozen dataset 7\n",
      "frozen dataset 8\n",
      "frozen dataset 9\n",
      "frozen dataset 10\n"
     ]
    },
    {
     "name": "stderr",
     "output_type": "stream",
     "text": [
      "/home/argykokk/miniconda3/envs/hls4ml-tutorial/lib/python3.8/site-packages/keras/optimizers/optimizer_v2/adam.py:114: UserWarning: The `lr` argument is deprecated, use `learning_rate` instead.\n",
      "  super().__init__(name, **kwargs)\n"
     ]
    },
    {
     "name": "stdout",
     "output_type": "stream",
     "text": [
      "frozen dataset 0\n",
      "frozen dataset 1\n",
      "frozen dataset 2\n",
      "frozen dataset 3\n"
     ]
    },
    {
     "name": "stderr",
     "output_type": "stream",
     "text": [
      "/home/argykokk/miniconda3/envs/hls4ml-tutorial/lib/python3.8/site-packages/keras/optimizers/optimizer_v2/adam.py:114: UserWarning: The `lr` argument is deprecated, use `learning_rate` instead.\n",
      "  super().__init__(name, **kwargs)\n"
     ]
    },
    {
     "name": "stdout",
     "output_type": "stream",
     "text": [
      "46/46 [==============================] - 0s 1ms/step - loss: 1.2574 - accuracy: 0.5095\n",
      "accuracy = 0.5095238089561462\n",
      "Interpreting Sequential\n",
      "Topology:\n",
      "Layer name: fc1_input, layer type: Input\n",
      "Layer name: fc1, layer type: QDense\n",
      "Layer name: relu1, layer type: QActivation\n",
      "Layer name: output, layer type: QDense\n",
      "Layer name: softmax, layer type: Activation\n",
      "copy top.v, sim.Xtest, and sim.Ytest to the synopsys project \n"
     ]
    },
    {
     "name": "stderr",
     "output_type": "stream",
     "text": [
      "/home/argykokk/miniconda3/envs/hls4ml-tutorial/lib/python3.8/site-packages/keras/initializers/initializers_v2.py:120: UserWarning: The initializer LecunUniform is unseeded and being called multiple times, which will return identical values  each time (even if the initializer is unseeded). Please update your code to provide a seed to the initializer, or avoid using the same initalizer instance more than once.\n",
      "  warnings.warn(\n"
     ]
    },
    {
     "name": "stdout",
     "output_type": "stream",
     "text": [
      "frozen dataset 0\n",
      "frozen dataset 1\n",
      "frozen dataset 2\n",
      "frozen dataset 3\n",
      "frozen dataset 4\n",
      "frozen dataset 5\n",
      "frozen dataset 6\n",
      "frozen dataset 7\n",
      "frozen dataset 8\n",
      "frozen dataset 9\n",
      "frozen dataset 10\n",
      "frozen dataset 0\n",
      "frozen dataset 1\n",
      "frozen dataset 2\n",
      "frozen dataset 3\n"
     ]
    },
    {
     "name": "stderr",
     "output_type": "stream",
     "text": [
      "/home/argykokk/miniconda3/envs/hls4ml-tutorial/lib/python3.8/site-packages/keras/optimizers/optimizer_v2/adam.py:114: UserWarning: The `lr` argument is deprecated, use `learning_rate` instead.\n",
      "  super().__init__(name, **kwargs)\n",
      "/home/argykokk/miniconda3/envs/hls4ml-tutorial/lib/python3.8/site-packages/keras/optimizers/optimizer_v2/adam.py:114: UserWarning: The `lr` argument is deprecated, use `learning_rate` instead.\n",
      "  super().__init__(name, **kwargs)\n"
     ]
    },
    {
     "name": "stdout",
     "output_type": "stream",
     "text": [
      "46/46 [==============================] - 1s 1ms/step - loss: 1.2574 - accuracy: 0.5095\n",
      "accuracy = 0.5095238089561462\n",
      "Interpreting Sequential\n",
      "Topology:\n",
      "Layer name: fc1_input, layer type: Input\n",
      "Layer name: fc1, layer type: QDense\n",
      "Layer name: relu1, layer type: QActivation\n",
      "Layer name: output, layer type: QDense\n",
      "Layer name: softmax, layer type: Activation\n",
      "copy top.v, sim.Xtest, and sim.Ytest to the synopsys project \n"
     ]
    },
    {
     "name": "stderr",
     "output_type": "stream",
     "text": [
      "/home/argykokk/miniconda3/envs/hls4ml-tutorial/lib/python3.8/site-packages/keras/initializers/initializers_v2.py:120: UserWarning: The initializer LecunUniform is unseeded and being called multiple times, which will return identical values  each time (even if the initializer is unseeded). Please update your code to provide a seed to the initializer, or avoid using the same initalizer instance more than once.\n",
      "  warnings.warn(\n"
     ]
    },
    {
     "name": "stdout",
     "output_type": "stream",
     "text": [
      "frozen dataset 0\n",
      "frozen dataset 1\n",
      "frozen dataset 2\n",
      "frozen dataset 3\n",
      "frozen dataset 4\n",
      "frozen dataset 5\n",
      "frozen dataset 6\n",
      "frozen dataset 7\n",
      "frozen dataset 8\n",
      "frozen dataset 9\n",
      "frozen dataset 10\n"
     ]
    },
    {
     "name": "stderr",
     "output_type": "stream",
     "text": [
      "/home/argykokk/miniconda3/envs/hls4ml-tutorial/lib/python3.8/site-packages/keras/optimizers/optimizer_v2/adam.py:114: UserWarning: The `lr` argument is deprecated, use `learning_rate` instead.\n",
      "  super().__init__(name, **kwargs)\n"
     ]
    },
    {
     "name": "stdout",
     "output_type": "stream",
     "text": [
      "frozen dataset 0\n",
      "frozen dataset 1\n",
      "frozen dataset 2\n",
      "frozen dataset 3\n"
     ]
    },
    {
     "name": "stderr",
     "output_type": "stream",
     "text": [
      "/home/argykokk/miniconda3/envs/hls4ml-tutorial/lib/python3.8/site-packages/keras/optimizers/optimizer_v2/adam.py:114: UserWarning: The `lr` argument is deprecated, use `learning_rate` instead.\n",
      "  super().__init__(name, **kwargs)\n"
     ]
    },
    {
     "name": "stdout",
     "output_type": "stream",
     "text": [
      "46/46 [==============================] - 0s 1ms/step - loss: 1.2574 - accuracy: 0.5095\n",
      "accuracy = 0.5095238089561462\n",
      "Interpreting Sequential\n",
      "Topology:\n",
      "Layer name: fc1_input, layer type: Input\n",
      "Layer name: fc1, layer type: QDense\n",
      "Layer name: relu1, layer type: QActivation\n",
      "Layer name: output, layer type: QDense\n",
      "Layer name: softmax, layer type: Activation\n",
      "copy top.v, sim.Xtest, and sim.Ytest to the synopsys project \n"
     ]
    },
    {
     "name": "stderr",
     "output_type": "stream",
     "text": [
      "/home/argykokk/miniconda3/envs/hls4ml-tutorial/lib/python3.8/site-packages/keras/initializers/initializers_v2.py:120: UserWarning: The initializer LecunUniform is unseeded and being called multiple times, which will return identical values  each time (even if the initializer is unseeded). Please update your code to provide a seed to the initializer, or avoid using the same initalizer instance more than once.\n",
      "  warnings.warn(\n"
     ]
    },
    {
     "name": "stdout",
     "output_type": "stream",
     "text": [
      "frozen dataset 0\n",
      "frozen dataset 1\n",
      "frozen dataset 2\n",
      "frozen dataset 3\n",
      "frozen dataset 4\n",
      "frozen dataset 5\n",
      "frozen dataset 6\n",
      "frozen dataset 7\n",
      "frozen dataset 8\n",
      "frozen dataset 9\n",
      "frozen dataset 10\n"
     ]
    },
    {
     "name": "stderr",
     "output_type": "stream",
     "text": [
      "/home/argykokk/miniconda3/envs/hls4ml-tutorial/lib/python3.8/site-packages/keras/optimizers/optimizer_v2/adam.py:114: UserWarning: The `lr` argument is deprecated, use `learning_rate` instead.\n",
      "  super().__init__(name, **kwargs)\n"
     ]
    },
    {
     "name": "stdout",
     "output_type": "stream",
     "text": [
      "frozen dataset 0\n",
      "frozen dataset 1\n",
      "frozen dataset 2\n",
      "frozen dataset 3\n"
     ]
    },
    {
     "name": "stderr",
     "output_type": "stream",
     "text": [
      "/home/argykokk/miniconda3/envs/hls4ml-tutorial/lib/python3.8/site-packages/keras/optimizers/optimizer_v2/adam.py:114: UserWarning: The `lr` argument is deprecated, use `learning_rate` instead.\n",
      "  super().__init__(name, **kwargs)\n"
     ]
    },
    {
     "name": "stdout",
     "output_type": "stream",
     "text": [
      "46/46 [==============================] - 0s 1ms/step - loss: 1.2574 - accuracy: 0.5095\n",
      "accuracy = 0.5095238089561462\n",
      "Interpreting Sequential\n",
      "Topology:\n",
      "Layer name: fc1_input, layer type: Input\n",
      "Layer name: fc1, layer type: QDense\n",
      "Layer name: relu1, layer type: QActivation\n",
      "Layer name: output, layer type: QDense\n",
      "Layer name: softmax, layer type: Activation\n",
      "copy top.v, sim.Xtest, and sim.Ytest to the synopsys project \n"
     ]
    },
    {
     "name": "stderr",
     "output_type": "stream",
     "text": [
      "/home/argykokk/miniconda3/envs/hls4ml-tutorial/lib/python3.8/site-packages/keras/initializers/initializers_v2.py:120: UserWarning: The initializer LecunUniform is unseeded and being called multiple times, which will return identical values  each time (even if the initializer is unseeded). Please update your code to provide a seed to the initializer, or avoid using the same initalizer instance more than once.\n",
      "  warnings.warn(\n"
     ]
    },
    {
     "name": "stdout",
     "output_type": "stream",
     "text": [
      "frozen dataset 0\n",
      "frozen dataset 1\n",
      "frozen dataset 2\n",
      "frozen dataset 3\n",
      "frozen dataset 4\n",
      "frozen dataset 5\n",
      "frozen dataset 6\n",
      "frozen dataset 7\n",
      "frozen dataset 8\n",
      "frozen dataset 9\n",
      "frozen dataset 10\n"
     ]
    },
    {
     "name": "stderr",
     "output_type": "stream",
     "text": [
      "/home/argykokk/miniconda3/envs/hls4ml-tutorial/lib/python3.8/site-packages/keras/optimizers/optimizer_v2/adam.py:114: UserWarning: The `lr` argument is deprecated, use `learning_rate` instead.\n",
      "  super().__init__(name, **kwargs)\n"
     ]
    },
    {
     "name": "stdout",
     "output_type": "stream",
     "text": [
      "frozen dataset 0\n",
      "frozen dataset 1\n",
      "frozen dataset 2\n",
      "frozen dataset 3\n"
     ]
    },
    {
     "name": "stderr",
     "output_type": "stream",
     "text": [
      "/home/argykokk/miniconda3/envs/hls4ml-tutorial/lib/python3.8/site-packages/keras/optimizers/optimizer_v2/adam.py:114: UserWarning: The `lr` argument is deprecated, use `learning_rate` instead.\n",
      "  super().__init__(name, **kwargs)\n"
     ]
    },
    {
     "name": "stdout",
     "output_type": "stream",
     "text": [
      "46/46 [==============================] - 0s 1ms/step - loss: 1.2574 - accuracy: 0.5095\n",
      "accuracy = 0.5095238089561462\n",
      "Interpreting Sequential\n",
      "Topology:\n",
      "Layer name: fc1_input, layer type: Input\n",
      "Layer name: fc1, layer type: QDense\n",
      "Layer name: relu1, layer type: QActivation\n",
      "Layer name: output, layer type: QDense\n",
      "Layer name: softmax, layer type: Activation\n",
      "copy top.v, sim.Xtest, and sim.Ytest to the synopsys project \n"
     ]
    },
    {
     "name": "stderr",
     "output_type": "stream",
     "text": [
      "/home/argykokk/miniconda3/envs/hls4ml-tutorial/lib/python3.8/site-packages/keras/initializers/initializers_v2.py:120: UserWarning: The initializer LecunUniform is unseeded and being called multiple times, which will return identical values  each time (even if the initializer is unseeded). Please update your code to provide a seed to the initializer, or avoid using the same initalizer instance more than once.\n",
      "  warnings.warn(\n"
     ]
    },
    {
     "name": "stdout",
     "output_type": "stream",
     "text": [
      "frozen dataset 0\n",
      "frozen dataset 1\n",
      "frozen dataset 2\n",
      "frozen dataset 3\n",
      "frozen dataset 4\n",
      "frozen dataset 5\n",
      "frozen dataset 6\n",
      "frozen dataset 7\n",
      "frozen dataset 8\n",
      "frozen dataset 9\n",
      "frozen dataset 10\n"
     ]
    },
    {
     "name": "stderr",
     "output_type": "stream",
     "text": [
      "/home/argykokk/miniconda3/envs/hls4ml-tutorial/lib/python3.8/site-packages/keras/optimizers/optimizer_v2/adam.py:114: UserWarning: The `lr` argument is deprecated, use `learning_rate` instead.\n",
      "  super().__init__(name, **kwargs)\n"
     ]
    },
    {
     "name": "stdout",
     "output_type": "stream",
     "text": [
      "frozen dataset 0\n",
      "frozen dataset 1\n",
      "frozen dataset 2\n",
      "frozen dataset 3\n"
     ]
    },
    {
     "name": "stderr",
     "output_type": "stream",
     "text": [
      "/home/argykokk/miniconda3/envs/hls4ml-tutorial/lib/python3.8/site-packages/keras/optimizers/optimizer_v2/adam.py:114: UserWarning: The `lr` argument is deprecated, use `learning_rate` instead.\n",
      "  super().__init__(name, **kwargs)\n"
     ]
    },
    {
     "name": "stdout",
     "output_type": "stream",
     "text": [
      "46/46 [==============================] - 0s 1ms/step - loss: 1.2574 - accuracy: 0.5095\n",
      "accuracy = 0.5095238089561462\n",
      "Interpreting Sequential\n",
      "Topology:\n",
      "Layer name: fc1_input, layer type: Input\n",
      "Layer name: fc1, layer type: QDense\n",
      "Layer name: relu1, layer type: QActivation\n",
      "Layer name: output, layer type: QDense\n",
      "Layer name: softmax, layer type: Activation\n",
      "copy top.v, sim.Xtest, and sim.Ytest to the synopsys project \n"
     ]
    },
    {
     "name": "stderr",
     "output_type": "stream",
     "text": [
      "/home/argykokk/miniconda3/envs/hls4ml-tutorial/lib/python3.8/site-packages/keras/initializers/initializers_v2.py:120: UserWarning: The initializer LecunUniform is unseeded and being called multiple times, which will return identical values  each time (even if the initializer is unseeded). Please update your code to provide a seed to the initializer, or avoid using the same initalizer instance more than once.\n",
      "  warnings.warn(\n"
     ]
    },
    {
     "name": "stdout",
     "output_type": "stream",
     "text": [
      "frozen dataset 0\n",
      "frozen dataset 1\n",
      "frozen dataset 2\n",
      "frozen dataset 3\n",
      "frozen dataset 4\n",
      "frozen dataset 5\n",
      "frozen dataset 6\n",
      "frozen dataset 7\n",
      "frozen dataset 8\n",
      "frozen dataset 9\n",
      "frozen dataset 10\n",
      "frozen dataset 0\n",
      "frozen dataset 1\n",
      "frozen dataset 2\n",
      "frozen dataset 3\n"
     ]
    },
    {
     "name": "stderr",
     "output_type": "stream",
     "text": [
      "/home/argykokk/miniconda3/envs/hls4ml-tutorial/lib/python3.8/site-packages/keras/optimizers/optimizer_v2/adam.py:114: UserWarning: The `lr` argument is deprecated, use `learning_rate` instead.\n",
      "  super().__init__(name, **kwargs)\n",
      "/home/argykokk/miniconda3/envs/hls4ml-tutorial/lib/python3.8/site-packages/keras/optimizers/optimizer_v2/adam.py:114: UserWarning: The `lr` argument is deprecated, use `learning_rate` instead.\n",
      "  super().__init__(name, **kwargs)\n"
     ]
    },
    {
     "name": "stdout",
     "output_type": "stream",
     "text": [
      "46/46 [==============================] - 0s 1ms/step - loss: 1.2574 - accuracy: 0.5095\n",
      "accuracy = 0.5095238089561462\n",
      "Interpreting Sequential\n",
      "Topology:\n",
      "Layer name: fc1_input, layer type: Input\n",
      "Layer name: fc1, layer type: QDense\n",
      "Layer name: relu1, layer type: QActivation\n",
      "Layer name: output, layer type: QDense\n",
      "Layer name: softmax, layer type: Activation\n",
      "copy top.v, sim.Xtest, and sim.Ytest to the synopsys project \n"
     ]
    }
   ],
   "source": [
    "for w in range(0,len(true_paretos)):\n",
    "    reload(ps)\n",
    "    relu= int(true_paretos[w][0])\n",
    "    bits_l1= int(true_paretos[w][1])\n",
    "    bias_l1= int(true_paretos[w][2])\n",
    "    bits_l2=  int(true_paretos[w][3])\n",
    "    bias_l2=  int(true_paretos[w][4])\n",
    "    input_s= int(true_paretos[w][6])\n",
    "    relu_int = int(true_paretos[w][7]) + 1\n",
    "    bits_int_l1=  2\n",
    "    bias_int_l1= 1\n",
    "    bits_int_l2 = 2\n",
    "    bias_int_l2 = 1\n",
    "    layer1=11\n",
    "    layer2=4\n",
    "    layer3=7\n",
    "\n",
    "    window=0\n",
    "    for i in range(1,layer2+1):\n",
    "        for j in range(1,layer3+1):\n",
    "            c1 = i\n",
    "            c2 = j\n",
    "            ps.top_sharing(w,true_weights_list[w], bits_l1, bits_int_l1, bits_l2, bits_int_l2, bias_l1, bias_int_l1, bias_l2, bias_int_l2, input_s, relu, relu_int, X_test, Y_test, layer1, layer2, layer3, c1, c2, window)\n",
    "    window=2\n",
    "    for i in range(1,layer2+1):\n",
    "        for j in range(1,layer3+1):\n",
    "            c1 = i\n",
    "            c2 = j\n",
    "            ps.top_sharing(w,true_weights_list[w], bits_l1, bits_int_l1, bits_l2, bits_int_l2, bias_l1, bias_int_l1, bias_l2, bias_int_l2, input_s, relu, relu_int, X_test, Y_test, layer1, layer2, layer3, c1, c2, window)  "
   ]
  },
  {
   "cell_type": "code",
   "execution_count": 62,
   "metadata": {},
   "outputs": [
    {
     "name": "stderr",
     "output_type": "stream",
     "text": [
      "/home/argykokk/miniconda3/envs/hls4ml-tutorial/lib/python3.8/site-packages/keras/optimizers/optimizer_v2/adam.py:114: UserWarning: The `lr` argument is deprecated, use `learning_rate` instead.\n",
      "  super().__init__(name, **kwargs)\n",
      "/home/argykokk/miniconda3/envs/hls4ml-tutorial/lib/python3.8/site-packages/keras/optimizers/optimizer_v2/adam.py:114: UserWarning: The `lr` argument is deprecated, use `learning_rate` instead.\n",
      "  super().__init__(name, **kwargs)\n"
     ]
    },
    {
     "name": "stdout",
     "output_type": "stream",
     "text": [
      "46/46 [==============================] - 0s 1ms/step - loss: 1.4497 - accuracy: 0.2789\n",
      "accuracy = 0.2789115607738495\n",
      "Interpreting Sequential\n",
      "Topology:\n",
      "Layer name: fc1_input, layer type: Input\n",
      "Layer name: fc1, layer type: QDense\n",
      "Layer name: relu1, layer type: QActivation\n",
      "Layer name: output, layer type: QDense\n",
      "Layer name: softmax, layer type: Activation\n",
      "copy top.v, sim.Xtest, and sim.Ytest to the synopsys project \n"
     ]
    },
    {
     "name": "stderr",
     "output_type": "stream",
     "text": [
      "/home/argykokk/miniconda3/envs/hls4ml-tutorial/lib/python3.8/site-packages/keras/optimizers/optimizer_v2/adam.py:114: UserWarning: The `lr` argument is deprecated, use `learning_rate` instead.\n",
      "  super().__init__(name, **kwargs)\n",
      "/home/argykokk/miniconda3/envs/hls4ml-tutorial/lib/python3.8/site-packages/keras/optimizers/optimizer_v2/adam.py:114: UserWarning: The `lr` argument is deprecated, use `learning_rate` instead.\n",
      "  super().__init__(name, **kwargs)\n"
     ]
    },
    {
     "name": "stdout",
     "output_type": "stream",
     "text": [
      "46/46 [==============================] - 0s 1ms/step - loss: 1.3933 - accuracy: 0.4129\n",
      "accuracy = 0.41292518377304077\n",
      "Interpreting Sequential\n",
      "Topology:\n",
      "Layer name: fc1_input, layer type: Input\n",
      "Layer name: fc1, layer type: QDense\n",
      "Layer name: relu1, layer type: QActivation\n",
      "Layer name: output, layer type: QDense\n",
      "Layer name: softmax, layer type: Activation\n",
      "copy top.v, sim.Xtest, and sim.Ytest to the synopsys project \n"
     ]
    },
    {
     "name": "stderr",
     "output_type": "stream",
     "text": [
      "/home/argykokk/miniconda3/envs/hls4ml-tutorial/lib/python3.8/site-packages/keras/optimizers/optimizer_v2/adam.py:114: UserWarning: The `lr` argument is deprecated, use `learning_rate` instead.\n",
      "  super().__init__(name, **kwargs)\n",
      "/home/argykokk/miniconda3/envs/hls4ml-tutorial/lib/python3.8/site-packages/keras/optimizers/optimizer_v2/adam.py:114: UserWarning: The `lr` argument is deprecated, use `learning_rate` instead.\n",
      "  super().__init__(name, **kwargs)\n"
     ]
    },
    {
     "name": "stdout",
     "output_type": "stream",
     "text": [
      "46/46 [==============================] - 0s 976us/step - loss: 1.3928 - accuracy: 0.4129\n",
      "accuracy = 0.41292518377304077\n",
      "Interpreting Sequential\n",
      "Topology:\n",
      "Layer name: fc1_input, layer type: Input\n",
      "Layer name: fc1, layer type: QDense\n",
      "Layer name: relu1, layer type: QActivation\n",
      "Layer name: output, layer type: QDense\n",
      "Layer name: softmax, layer type: Activation\n",
      "copy top.v, sim.Xtest, and sim.Ytest to the synopsys project \n"
     ]
    },
    {
     "name": "stderr",
     "output_type": "stream",
     "text": [
      "/home/argykokk/miniconda3/envs/hls4ml-tutorial/lib/python3.8/site-packages/keras/optimizers/optimizer_v2/adam.py:114: UserWarning: The `lr` argument is deprecated, use `learning_rate` instead.\n",
      "  super().__init__(name, **kwargs)\n",
      "/home/argykokk/miniconda3/envs/hls4ml-tutorial/lib/python3.8/site-packages/keras/optimizers/optimizer_v2/adam.py:114: UserWarning: The `lr` argument is deprecated, use `learning_rate` instead.\n",
      "  super().__init__(name, **kwargs)\n"
     ]
    },
    {
     "name": "stdout",
     "output_type": "stream",
     "text": [
      "46/46 [==============================] - 0s 1ms/step - loss: 1.3928 - accuracy: 0.4129\n",
      "accuracy = 0.41292518377304077\n",
      "Interpreting Sequential\n",
      "Topology:\n",
      "Layer name: fc1_input, layer type: Input\n",
      "Layer name: fc1, layer type: QDense\n",
      "Layer name: relu1, layer type: QActivation\n",
      "Layer name: output, layer type: QDense\n",
      "Layer name: softmax, layer type: Activation\n",
      "copy top.v, sim.Xtest, and sim.Ytest to the synopsys project \n"
     ]
    },
    {
     "name": "stderr",
     "output_type": "stream",
     "text": [
      "/home/argykokk/miniconda3/envs/hls4ml-tutorial/lib/python3.8/site-packages/keras/optimizers/optimizer_v2/adam.py:114: UserWarning: The `lr` argument is deprecated, use `learning_rate` instead.\n",
      "  super().__init__(name, **kwargs)\n",
      "/home/argykokk/miniconda3/envs/hls4ml-tutorial/lib/python3.8/site-packages/keras/optimizers/optimizer_v2/adam.py:114: UserWarning: The `lr` argument is deprecated, use `learning_rate` instead.\n",
      "  super().__init__(name, **kwargs)\n"
     ]
    },
    {
     "name": "stdout",
     "output_type": "stream",
     "text": [
      "46/46 [==============================] - 0s 1ms/step - loss: 1.3928 - accuracy: 0.4129\n",
      "accuracy = 0.41292518377304077\n",
      "Interpreting Sequential\n",
      "Topology:\n",
      "Layer name: fc1_input, layer type: Input\n",
      "Layer name: fc1, layer type: QDense\n",
      "Layer name: relu1, layer type: QActivation\n",
      "Layer name: output, layer type: QDense\n",
      "Layer name: softmax, layer type: Activation\n",
      "copy top.v, sim.Xtest, and sim.Ytest to the synopsys project \n"
     ]
    },
    {
     "name": "stderr",
     "output_type": "stream",
     "text": [
      "/home/argykokk/miniconda3/envs/hls4ml-tutorial/lib/python3.8/site-packages/keras/optimizers/optimizer_v2/adam.py:114: UserWarning: The `lr` argument is deprecated, use `learning_rate` instead.\n",
      "  super().__init__(name, **kwargs)\n",
      "/home/argykokk/miniconda3/envs/hls4ml-tutorial/lib/python3.8/site-packages/keras/optimizers/optimizer_v2/adam.py:114: UserWarning: The `lr` argument is deprecated, use `learning_rate` instead.\n",
      "  super().__init__(name, **kwargs)\n"
     ]
    },
    {
     "name": "stdout",
     "output_type": "stream",
     "text": [
      "46/46 [==============================] - 0s 1ms/step - loss: 1.3928 - accuracy: 0.4129\n",
      "accuracy = 0.41292518377304077\n",
      "Interpreting Sequential\n",
      "Topology:\n",
      "Layer name: fc1_input, layer type: Input\n",
      "Layer name: fc1, layer type: QDense\n",
      "Layer name: relu1, layer type: QActivation\n",
      "Layer name: output, layer type: QDense\n",
      "Layer name: softmax, layer type: Activation\n",
      "copy top.v, sim.Xtest, and sim.Ytest to the synopsys project \n"
     ]
    },
    {
     "name": "stderr",
     "output_type": "stream",
     "text": [
      "/home/argykokk/miniconda3/envs/hls4ml-tutorial/lib/python3.8/site-packages/keras/optimizers/optimizer_v2/adam.py:114: UserWarning: The `lr` argument is deprecated, use `learning_rate` instead.\n",
      "  super().__init__(name, **kwargs)\n",
      "/home/argykokk/miniconda3/envs/hls4ml-tutorial/lib/python3.8/site-packages/keras/optimizers/optimizer_v2/adam.py:114: UserWarning: The `lr` argument is deprecated, use `learning_rate` instead.\n",
      "  super().__init__(name, **kwargs)\n"
     ]
    },
    {
     "name": "stdout",
     "output_type": "stream",
     "text": [
      "46/46 [==============================] - 1s 2ms/step - loss: 1.3928 - accuracy: 0.4129\n",
      "accuracy = 0.41292518377304077\n",
      "Interpreting Sequential\n",
      "Topology:\n",
      "Layer name: fc1_input, layer type: Input\n",
      "Layer name: fc1, layer type: QDense\n",
      "Layer name: relu1, layer type: QActivation\n",
      "Layer name: output, layer type: QDense\n",
      "Layer name: softmax, layer type: Activation\n",
      "copy top.v, sim.Xtest, and sim.Ytest to the synopsys project \n"
     ]
    },
    {
     "name": "stderr",
     "output_type": "stream",
     "text": [
      "/home/argykokk/Desktop/TC/genetic_whitewine/sharing.py:167: ConvergenceWarning: Number of distinct clusters (1) found smaller than n_clusters (2). Possibly due to duplicate points in X.\n",
      "  kmeans = KMeans(n_clusters=num_clusters,random_state=0, n_init=10).fit(array.reshape(-1,1))\n",
      "/home/argykokk/Desktop/TC/genetic_whitewine/sharing.py:167: ConvergenceWarning: Number of distinct clusters (1) found smaller than n_clusters (2). Possibly due to duplicate points in X.\n",
      "  kmeans = KMeans(n_clusters=num_clusters,random_state=0, n_init=10).fit(array.reshape(-1,1))\n",
      "/home/argykokk/miniconda3/envs/hls4ml-tutorial/lib/python3.8/site-packages/keras/optimizers/optimizer_v2/adam.py:114: UserWarning: The `lr` argument is deprecated, use `learning_rate` instead.\n",
      "  super().__init__(name, **kwargs)\n",
      "/home/argykokk/miniconda3/envs/hls4ml-tutorial/lib/python3.8/site-packages/keras/optimizers/optimizer_v2/adam.py:114: UserWarning: The `lr` argument is deprecated, use `learning_rate` instead.\n",
      "  super().__init__(name, **kwargs)\n"
     ]
    },
    {
     "name": "stdout",
     "output_type": "stream",
     "text": [
      "46/46 [==============================] - 0s 1ms/step - loss: 1.4259 - accuracy: 0.4578\n",
      "accuracy = 0.45782312750816345\n",
      "Interpreting Sequential\n",
      "Topology:\n",
      "Layer name: fc1_input, layer type: Input\n",
      "Layer name: fc1, layer type: QDense\n",
      "Layer name: relu1, layer type: QActivation\n",
      "Layer name: output, layer type: QDense\n",
      "Layer name: softmax, layer type: Activation\n",
      "copy top.v, sim.Xtest, and sim.Ytest to the synopsys project \n"
     ]
    },
    {
     "name": "stderr",
     "output_type": "stream",
     "text": [
      "/home/argykokk/Desktop/TC/genetic_whitewine/sharing.py:167: ConvergenceWarning: Number of distinct clusters (1) found smaller than n_clusters (2). Possibly due to duplicate points in X.\n",
      "  kmeans = KMeans(n_clusters=num_clusters,random_state=0, n_init=10).fit(array.reshape(-1,1))\n",
      "/home/argykokk/Desktop/TC/genetic_whitewine/sharing.py:167: ConvergenceWarning: Number of distinct clusters (1) found smaller than n_clusters (2). Possibly due to duplicate points in X.\n",
      "  kmeans = KMeans(n_clusters=num_clusters,random_state=0, n_init=10).fit(array.reshape(-1,1))\n",
      "/home/argykokk/miniconda3/envs/hls4ml-tutorial/lib/python3.8/site-packages/keras/optimizers/optimizer_v2/adam.py:114: UserWarning: The `lr` argument is deprecated, use `learning_rate` instead.\n",
      "  super().__init__(name, **kwargs)\n",
      "/home/argykokk/miniconda3/envs/hls4ml-tutorial/lib/python3.8/site-packages/keras/optimizers/optimizer_v2/adam.py:114: UserWarning: The `lr` argument is deprecated, use `learning_rate` instead.\n",
      "  super().__init__(name, **kwargs)\n"
     ]
    },
    {
     "name": "stdout",
     "output_type": "stream",
     "text": [
      "46/46 [==============================] - 0s 1ms/step - loss: 1.3605 - accuracy: 0.4741\n",
      "accuracy = 0.4741496741771698\n",
      "Interpreting Sequential\n",
      "Topology:\n",
      "Layer name: fc1_input, layer type: Input\n",
      "Layer name: fc1, layer type: QDense\n",
      "Layer name: relu1, layer type: QActivation\n",
      "Layer name: output, layer type: QDense\n",
      "Layer name: softmax, layer type: Activation\n",
      "copy top.v, sim.Xtest, and sim.Ytest to the synopsys project \n"
     ]
    },
    {
     "name": "stderr",
     "output_type": "stream",
     "text": [
      "/home/argykokk/Desktop/TC/genetic_whitewine/sharing.py:167: ConvergenceWarning: Number of distinct clusters (1) found smaller than n_clusters (2). Possibly due to duplicate points in X.\n",
      "  kmeans = KMeans(n_clusters=num_clusters,random_state=0, n_init=10).fit(array.reshape(-1,1))\n",
      "/home/argykokk/Desktop/TC/genetic_whitewine/sharing.py:167: ConvergenceWarning: Number of distinct clusters (1) found smaller than n_clusters (2). Possibly due to duplicate points in X.\n",
      "  kmeans = KMeans(n_clusters=num_clusters,random_state=0, n_init=10).fit(array.reshape(-1,1))\n",
      "/home/argykokk/miniconda3/envs/hls4ml-tutorial/lib/python3.8/site-packages/keras/optimizers/optimizer_v2/adam.py:114: UserWarning: The `lr` argument is deprecated, use `learning_rate` instead.\n",
      "  super().__init__(name, **kwargs)\n",
      "/home/argykokk/miniconda3/envs/hls4ml-tutorial/lib/python3.8/site-packages/keras/optimizers/optimizer_v2/adam.py:114: UserWarning: The `lr` argument is deprecated, use `learning_rate` instead.\n",
      "  super().__init__(name, **kwargs)\n"
     ]
    },
    {
     "name": "stdout",
     "output_type": "stream",
     "text": [
      "46/46 [==============================] - 0s 1ms/step - loss: 1.3595 - accuracy: 0.4735\n",
      "accuracy = 0.4734693765640259\n",
      "Interpreting Sequential\n",
      "Topology:\n",
      "Layer name: fc1_input, layer type: Input\n",
      "Layer name: fc1, layer type: QDense\n",
      "Layer name: relu1, layer type: QActivation\n",
      "Layer name: output, layer type: QDense\n",
      "Layer name: softmax, layer type: Activation\n",
      "copy top.v, sim.Xtest, and sim.Ytest to the synopsys project \n"
     ]
    },
    {
     "name": "stderr",
     "output_type": "stream",
     "text": [
      "/home/argykokk/Desktop/TC/genetic_whitewine/sharing.py:167: ConvergenceWarning: Number of distinct clusters (1) found smaller than n_clusters (2). Possibly due to duplicate points in X.\n",
      "  kmeans = KMeans(n_clusters=num_clusters,random_state=0, n_init=10).fit(array.reshape(-1,1))\n",
      "/home/argykokk/Desktop/TC/genetic_whitewine/sharing.py:167: ConvergenceWarning: Number of distinct clusters (1) found smaller than n_clusters (2). Possibly due to duplicate points in X.\n",
      "  kmeans = KMeans(n_clusters=num_clusters,random_state=0, n_init=10).fit(array.reshape(-1,1))\n",
      "/home/argykokk/miniconda3/envs/hls4ml-tutorial/lib/python3.8/site-packages/keras/optimizers/optimizer_v2/adam.py:114: UserWarning: The `lr` argument is deprecated, use `learning_rate` instead.\n",
      "  super().__init__(name, **kwargs)\n",
      "/home/argykokk/miniconda3/envs/hls4ml-tutorial/lib/python3.8/site-packages/keras/optimizers/optimizer_v2/adam.py:114: UserWarning: The `lr` argument is deprecated, use `learning_rate` instead.\n",
      "  super().__init__(name, **kwargs)\n"
     ]
    },
    {
     "name": "stdout",
     "output_type": "stream",
     "text": [
      "46/46 [==============================] - 0s 1ms/step - loss: 1.3595 - accuracy: 0.4735\n",
      "accuracy = 0.4734693765640259\n",
      "Interpreting Sequential\n",
      "Topology:\n",
      "Layer name: fc1_input, layer type: Input\n",
      "Layer name: fc1, layer type: QDense\n",
      "Layer name: relu1, layer type: QActivation\n",
      "Layer name: output, layer type: QDense\n",
      "Layer name: softmax, layer type: Activation\n",
      "copy top.v, sim.Xtest, and sim.Ytest to the synopsys project \n"
     ]
    },
    {
     "name": "stderr",
     "output_type": "stream",
     "text": [
      "/home/argykokk/Desktop/TC/genetic_whitewine/sharing.py:167: ConvergenceWarning: Number of distinct clusters (1) found smaller than n_clusters (2). Possibly due to duplicate points in X.\n",
      "  kmeans = KMeans(n_clusters=num_clusters,random_state=0, n_init=10).fit(array.reshape(-1,1))\n",
      "/home/argykokk/Desktop/TC/genetic_whitewine/sharing.py:167: ConvergenceWarning: Number of distinct clusters (1) found smaller than n_clusters (2). Possibly due to duplicate points in X.\n",
      "  kmeans = KMeans(n_clusters=num_clusters,random_state=0, n_init=10).fit(array.reshape(-1,1))\n",
      "/home/argykokk/miniconda3/envs/hls4ml-tutorial/lib/python3.8/site-packages/keras/optimizers/optimizer_v2/adam.py:114: UserWarning: The `lr` argument is deprecated, use `learning_rate` instead.\n",
      "  super().__init__(name, **kwargs)\n",
      "/home/argykokk/miniconda3/envs/hls4ml-tutorial/lib/python3.8/site-packages/keras/optimizers/optimizer_v2/adam.py:114: UserWarning: The `lr` argument is deprecated, use `learning_rate` instead.\n",
      "  super().__init__(name, **kwargs)\n"
     ]
    },
    {
     "name": "stdout",
     "output_type": "stream",
     "text": [
      "46/46 [==============================] - 0s 1ms/step - loss: 1.3595 - accuracy: 0.4735\n",
      "accuracy = 0.4734693765640259\n",
      "Interpreting Sequential\n",
      "Topology:\n",
      "Layer name: fc1_input, layer type: Input\n",
      "Layer name: fc1, layer type: QDense\n",
      "Layer name: relu1, layer type: QActivation\n",
      "Layer name: output, layer type: QDense\n",
      "Layer name: softmax, layer type: Activation\n",
      "copy top.v, sim.Xtest, and sim.Ytest to the synopsys project \n"
     ]
    },
    {
     "name": "stderr",
     "output_type": "stream",
     "text": [
      "/home/argykokk/Desktop/TC/genetic_whitewine/sharing.py:167: ConvergenceWarning: Number of distinct clusters (1) found smaller than n_clusters (2). Possibly due to duplicate points in X.\n",
      "  kmeans = KMeans(n_clusters=num_clusters,random_state=0, n_init=10).fit(array.reshape(-1,1))\n",
      "/home/argykokk/Desktop/TC/genetic_whitewine/sharing.py:167: ConvergenceWarning: Number of distinct clusters (1) found smaller than n_clusters (2). Possibly due to duplicate points in X.\n",
      "  kmeans = KMeans(n_clusters=num_clusters,random_state=0, n_init=10).fit(array.reshape(-1,1))\n",
      "/home/argykokk/miniconda3/envs/hls4ml-tutorial/lib/python3.8/site-packages/keras/optimizers/optimizer_v2/adam.py:114: UserWarning: The `lr` argument is deprecated, use `learning_rate` instead.\n",
      "  super().__init__(name, **kwargs)\n",
      "/home/argykokk/miniconda3/envs/hls4ml-tutorial/lib/python3.8/site-packages/keras/optimizers/optimizer_v2/adam.py:114: UserWarning: The `lr` argument is deprecated, use `learning_rate` instead.\n",
      "  super().__init__(name, **kwargs)\n"
     ]
    },
    {
     "name": "stdout",
     "output_type": "stream",
     "text": [
      "46/46 [==============================] - 0s 1ms/step - loss: 1.3595 - accuracy: 0.4735\n",
      "accuracy = 0.4734693765640259\n",
      "Interpreting Sequential\n",
      "Topology:\n",
      "Layer name: fc1_input, layer type: Input\n",
      "Layer name: fc1, layer type: QDense\n",
      "Layer name: relu1, layer type: QActivation\n",
      "Layer name: output, layer type: QDense\n",
      "Layer name: softmax, layer type: Activation\n",
      "copy top.v, sim.Xtest, and sim.Ytest to the synopsys project \n"
     ]
    },
    {
     "name": "stderr",
     "output_type": "stream",
     "text": [
      "/home/argykokk/Desktop/TC/genetic_whitewine/sharing.py:167: ConvergenceWarning: Number of distinct clusters (1) found smaller than n_clusters (2). Possibly due to duplicate points in X.\n",
      "  kmeans = KMeans(n_clusters=num_clusters,random_state=0, n_init=10).fit(array.reshape(-1,1))\n",
      "/home/argykokk/Desktop/TC/genetic_whitewine/sharing.py:167: ConvergenceWarning: Number of distinct clusters (1) found smaller than n_clusters (2). Possibly due to duplicate points in X.\n",
      "  kmeans = KMeans(n_clusters=num_clusters,random_state=0, n_init=10).fit(array.reshape(-1,1))\n",
      "/home/argykokk/miniconda3/envs/hls4ml-tutorial/lib/python3.8/site-packages/keras/optimizers/optimizer_v2/adam.py:114: UserWarning: The `lr` argument is deprecated, use `learning_rate` instead.\n",
      "  super().__init__(name, **kwargs)\n",
      "/home/argykokk/miniconda3/envs/hls4ml-tutorial/lib/python3.8/site-packages/keras/optimizers/optimizer_v2/adam.py:114: UserWarning: The `lr` argument is deprecated, use `learning_rate` instead.\n",
      "  super().__init__(name, **kwargs)\n"
     ]
    },
    {
     "name": "stdout",
     "output_type": "stream",
     "text": [
      "46/46 [==============================] - 0s 1ms/step - loss: 1.3595 - accuracy: 0.4735\n",
      "accuracy = 0.4734693765640259\n",
      "Interpreting Sequential\n",
      "Topology:\n",
      "Layer name: fc1_input, layer type: Input\n",
      "Layer name: fc1, layer type: QDense\n",
      "Layer name: relu1, layer type: QActivation\n",
      "Layer name: output, layer type: QDense\n",
      "Layer name: softmax, layer type: Activation\n",
      "copy top.v, sim.Xtest, and sim.Ytest to the synopsys project \n"
     ]
    },
    {
     "name": "stderr",
     "output_type": "stream",
     "text": [
      "/home/argykokk/Desktop/TC/genetic_whitewine/sharing.py:167: ConvergenceWarning: Number of distinct clusters (2) found smaller than n_clusters (3). Possibly due to duplicate points in X.\n",
      "  kmeans = KMeans(n_clusters=num_clusters,random_state=0, n_init=10).fit(array.reshape(-1,1))\n",
      "/home/argykokk/Desktop/TC/genetic_whitewine/sharing.py:167: ConvergenceWarning: Number of distinct clusters (1) found smaller than n_clusters (2). Possibly due to duplicate points in X.\n",
      "  kmeans = KMeans(n_clusters=num_clusters,random_state=0, n_init=10).fit(array.reshape(-1,1))\n",
      "/home/argykokk/Desktop/TC/genetic_whitewine/sharing.py:167: ConvergenceWarning: Number of distinct clusters (1) found smaller than n_clusters (2). Possibly due to duplicate points in X.\n",
      "  kmeans = KMeans(n_clusters=num_clusters,random_state=0, n_init=10).fit(array.reshape(-1,1))\n",
      "/home/argykokk/miniconda3/envs/hls4ml-tutorial/lib/python3.8/site-packages/keras/optimizers/optimizer_v2/adam.py:114: UserWarning: The `lr` argument is deprecated, use `learning_rate` instead.\n",
      "  super().__init__(name, **kwargs)\n",
      "/home/argykokk/miniconda3/envs/hls4ml-tutorial/lib/python3.8/site-packages/keras/optimizers/optimizer_v2/adam.py:114: UserWarning: The `lr` argument is deprecated, use `learning_rate` instead.\n",
      "  super().__init__(name, **kwargs)\n"
     ]
    },
    {
     "name": "stdout",
     "output_type": "stream",
     "text": [
      "46/46 [==============================] - 0s 994us/step - loss: 1.4318 - accuracy: 0.4347\n",
      "accuracy = 0.4346938729286194\n",
      "Interpreting Sequential\n",
      "Topology:\n",
      "Layer name: fc1_input, layer type: Input\n",
      "Layer name: fc1, layer type: QDense\n",
      "Layer name: relu1, layer type: QActivation\n",
      "Layer name: output, layer type: QDense\n",
      "Layer name: softmax, layer type: Activation\n",
      "copy top.v, sim.Xtest, and sim.Ytest to the synopsys project \n"
     ]
    },
    {
     "name": "stderr",
     "output_type": "stream",
     "text": [
      "/home/argykokk/Desktop/TC/genetic_whitewine/sharing.py:167: ConvergenceWarning: Number of distinct clusters (2) found smaller than n_clusters (3). Possibly due to duplicate points in X.\n",
      "  kmeans = KMeans(n_clusters=num_clusters,random_state=0, n_init=10).fit(array.reshape(-1,1))\n",
      "/home/argykokk/Desktop/TC/genetic_whitewine/sharing.py:167: ConvergenceWarning: Number of distinct clusters (1) found smaller than n_clusters (2). Possibly due to duplicate points in X.\n",
      "  kmeans = KMeans(n_clusters=num_clusters,random_state=0, n_init=10).fit(array.reshape(-1,1))\n",
      "/home/argykokk/Desktop/TC/genetic_whitewine/sharing.py:167: ConvergenceWarning: Number of distinct clusters (1) found smaller than n_clusters (2). Possibly due to duplicate points in X.\n",
      "  kmeans = KMeans(n_clusters=num_clusters,random_state=0, n_init=10).fit(array.reshape(-1,1))\n",
      "/home/argykokk/miniconda3/envs/hls4ml-tutorial/lib/python3.8/site-packages/keras/optimizers/optimizer_v2/adam.py:114: UserWarning: The `lr` argument is deprecated, use `learning_rate` instead.\n",
      "  super().__init__(name, **kwargs)\n",
      "/home/argykokk/miniconda3/envs/hls4ml-tutorial/lib/python3.8/site-packages/keras/optimizers/optimizer_v2/adam.py:114: UserWarning: The `lr` argument is deprecated, use `learning_rate` instead.\n",
      "  super().__init__(name, **kwargs)\n"
     ]
    },
    {
     "name": "stdout",
     "output_type": "stream",
     "text": [
      "46/46 [==============================] - 0s 1ms/step - loss: 1.3585 - accuracy: 0.4741\n",
      "accuracy = 0.4741496741771698\n",
      "Interpreting Sequential\n",
      "Topology:\n",
      "Layer name: fc1_input, layer type: Input\n",
      "Layer name: fc1, layer type: QDense\n",
      "Layer name: relu1, layer type: QActivation\n",
      "Layer name: output, layer type: QDense\n",
      "Layer name: softmax, layer type: Activation\n",
      "copy top.v, sim.Xtest, and sim.Ytest to the synopsys project \n"
     ]
    },
    {
     "name": "stderr",
     "output_type": "stream",
     "text": [
      "/home/argykokk/Desktop/TC/genetic_whitewine/sharing.py:167: ConvergenceWarning: Number of distinct clusters (2) found smaller than n_clusters (3). Possibly due to duplicate points in X.\n",
      "  kmeans = KMeans(n_clusters=num_clusters,random_state=0, n_init=10).fit(array.reshape(-1,1))\n",
      "/home/argykokk/Desktop/TC/genetic_whitewine/sharing.py:167: ConvergenceWarning: Number of distinct clusters (1) found smaller than n_clusters (2). Possibly due to duplicate points in X.\n",
      "  kmeans = KMeans(n_clusters=num_clusters,random_state=0, n_init=10).fit(array.reshape(-1,1))\n",
      "/home/argykokk/Desktop/TC/genetic_whitewine/sharing.py:167: ConvergenceWarning: Number of distinct clusters (1) found smaller than n_clusters (2). Possibly due to duplicate points in X.\n",
      "  kmeans = KMeans(n_clusters=num_clusters,random_state=0, n_init=10).fit(array.reshape(-1,1))\n",
      "/home/argykokk/miniconda3/envs/hls4ml-tutorial/lib/python3.8/site-packages/keras/optimizers/optimizer_v2/adam.py:114: UserWarning: The `lr` argument is deprecated, use `learning_rate` instead.\n",
      "  super().__init__(name, **kwargs)\n",
      "/home/argykokk/miniconda3/envs/hls4ml-tutorial/lib/python3.8/site-packages/keras/optimizers/optimizer_v2/adam.py:114: UserWarning: The `lr` argument is deprecated, use `learning_rate` instead.\n",
      "  super().__init__(name, **kwargs)\n"
     ]
    },
    {
     "name": "stdout",
     "output_type": "stream",
     "text": [
      "46/46 [==============================] - 0s 1ms/step - loss: 1.3575 - accuracy: 0.4741\n",
      "accuracy = 0.4741496741771698\n",
      "Interpreting Sequential\n",
      "Topology:\n",
      "Layer name: fc1_input, layer type: Input\n",
      "Layer name: fc1, layer type: QDense\n",
      "Layer name: relu1, layer type: QActivation\n",
      "Layer name: output, layer type: QDense\n",
      "Layer name: softmax, layer type: Activation\n",
      "copy top.v, sim.Xtest, and sim.Ytest to the synopsys project \n"
     ]
    },
    {
     "name": "stderr",
     "output_type": "stream",
     "text": [
      "/home/argykokk/Desktop/TC/genetic_whitewine/sharing.py:167: ConvergenceWarning: Number of distinct clusters (2) found smaller than n_clusters (3). Possibly due to duplicate points in X.\n",
      "  kmeans = KMeans(n_clusters=num_clusters,random_state=0, n_init=10).fit(array.reshape(-1,1))\n",
      "/home/argykokk/Desktop/TC/genetic_whitewine/sharing.py:167: ConvergenceWarning: Number of distinct clusters (1) found smaller than n_clusters (2). Possibly due to duplicate points in X.\n",
      "  kmeans = KMeans(n_clusters=num_clusters,random_state=0, n_init=10).fit(array.reshape(-1,1))\n",
      "/home/argykokk/Desktop/TC/genetic_whitewine/sharing.py:167: ConvergenceWarning: Number of distinct clusters (1) found smaller than n_clusters (2). Possibly due to duplicate points in X.\n",
      "  kmeans = KMeans(n_clusters=num_clusters,random_state=0, n_init=10).fit(array.reshape(-1,1))\n",
      "/home/argykokk/miniconda3/envs/hls4ml-tutorial/lib/python3.8/site-packages/keras/optimizers/optimizer_v2/adam.py:114: UserWarning: The `lr` argument is deprecated, use `learning_rate` instead.\n",
      "  super().__init__(name, **kwargs)\n",
      "/home/argykokk/miniconda3/envs/hls4ml-tutorial/lib/python3.8/site-packages/keras/optimizers/optimizer_v2/adam.py:114: UserWarning: The `lr` argument is deprecated, use `learning_rate` instead.\n",
      "  super().__init__(name, **kwargs)\n"
     ]
    },
    {
     "name": "stdout",
     "output_type": "stream",
     "text": [
      "46/46 [==============================] - 0s 1ms/step - loss: 1.3575 - accuracy: 0.4741\n",
      "accuracy = 0.4741496741771698\n",
      "Interpreting Sequential\n",
      "Topology:\n",
      "Layer name: fc1_input, layer type: Input\n",
      "Layer name: fc1, layer type: QDense\n",
      "Layer name: relu1, layer type: QActivation\n",
      "Layer name: output, layer type: QDense\n",
      "Layer name: softmax, layer type: Activation\n",
      "copy top.v, sim.Xtest, and sim.Ytest to the synopsys project \n"
     ]
    },
    {
     "name": "stderr",
     "output_type": "stream",
     "text": [
      "/home/argykokk/Desktop/TC/genetic_whitewine/sharing.py:167: ConvergenceWarning: Number of distinct clusters (2) found smaller than n_clusters (3). Possibly due to duplicate points in X.\n",
      "  kmeans = KMeans(n_clusters=num_clusters,random_state=0, n_init=10).fit(array.reshape(-1,1))\n",
      "/home/argykokk/Desktop/TC/genetic_whitewine/sharing.py:167: ConvergenceWarning: Number of distinct clusters (1) found smaller than n_clusters (2). Possibly due to duplicate points in X.\n",
      "  kmeans = KMeans(n_clusters=num_clusters,random_state=0, n_init=10).fit(array.reshape(-1,1))\n",
      "/home/argykokk/Desktop/TC/genetic_whitewine/sharing.py:167: ConvergenceWarning: Number of distinct clusters (1) found smaller than n_clusters (2). Possibly due to duplicate points in X.\n",
      "  kmeans = KMeans(n_clusters=num_clusters,random_state=0, n_init=10).fit(array.reshape(-1,1))\n",
      "/home/argykokk/miniconda3/envs/hls4ml-tutorial/lib/python3.8/site-packages/keras/optimizers/optimizer_v2/adam.py:114: UserWarning: The `lr` argument is deprecated, use `learning_rate` instead.\n",
      "  super().__init__(name, **kwargs)\n",
      "/home/argykokk/miniconda3/envs/hls4ml-tutorial/lib/python3.8/site-packages/keras/optimizers/optimizer_v2/adam.py:114: UserWarning: The `lr` argument is deprecated, use `learning_rate` instead.\n",
      "  super().__init__(name, **kwargs)\n"
     ]
    },
    {
     "name": "stdout",
     "output_type": "stream",
     "text": [
      "46/46 [==============================] - 0s 1ms/step - loss: 1.3575 - accuracy: 0.4741\n",
      "accuracy = 0.4741496741771698\n",
      "Interpreting Sequential\n",
      "Topology:\n",
      "Layer name: fc1_input, layer type: Input\n",
      "Layer name: fc1, layer type: QDense\n",
      "Layer name: relu1, layer type: QActivation\n",
      "Layer name: output, layer type: QDense\n",
      "Layer name: softmax, layer type: Activation\n",
      "copy top.v, sim.Xtest, and sim.Ytest to the synopsys project \n"
     ]
    },
    {
     "name": "stderr",
     "output_type": "stream",
     "text": [
      "/home/argykokk/Desktop/TC/genetic_whitewine/sharing.py:167: ConvergenceWarning: Number of distinct clusters (2) found smaller than n_clusters (3). Possibly due to duplicate points in X.\n",
      "  kmeans = KMeans(n_clusters=num_clusters,random_state=0, n_init=10).fit(array.reshape(-1,1))\n",
      "/home/argykokk/Desktop/TC/genetic_whitewine/sharing.py:167: ConvergenceWarning: Number of distinct clusters (1) found smaller than n_clusters (2). Possibly due to duplicate points in X.\n",
      "  kmeans = KMeans(n_clusters=num_clusters,random_state=0, n_init=10).fit(array.reshape(-1,1))\n",
      "/home/argykokk/Desktop/TC/genetic_whitewine/sharing.py:167: ConvergenceWarning: Number of distinct clusters (1) found smaller than n_clusters (2). Possibly due to duplicate points in X.\n",
      "  kmeans = KMeans(n_clusters=num_clusters,random_state=0, n_init=10).fit(array.reshape(-1,1))\n",
      "/home/argykokk/miniconda3/envs/hls4ml-tutorial/lib/python3.8/site-packages/keras/optimizers/optimizer_v2/adam.py:114: UserWarning: The `lr` argument is deprecated, use `learning_rate` instead.\n",
      "  super().__init__(name, **kwargs)\n",
      "/home/argykokk/miniconda3/envs/hls4ml-tutorial/lib/python3.8/site-packages/keras/optimizers/optimizer_v2/adam.py:114: UserWarning: The `lr` argument is deprecated, use `learning_rate` instead.\n",
      "  super().__init__(name, **kwargs)\n"
     ]
    },
    {
     "name": "stdout",
     "output_type": "stream",
     "text": [
      "46/46 [==============================] - 0s 987us/step - loss: 1.3575 - accuracy: 0.4741\n",
      "accuracy = 0.4741496741771698\n",
      "Interpreting Sequential\n",
      "Topology:\n",
      "Layer name: fc1_input, layer type: Input\n",
      "Layer name: fc1, layer type: QDense\n",
      "Layer name: relu1, layer type: QActivation\n",
      "Layer name: output, layer type: QDense\n",
      "Layer name: softmax, layer type: Activation\n",
      "copy top.v, sim.Xtest, and sim.Ytest to the synopsys project \n"
     ]
    },
    {
     "name": "stderr",
     "output_type": "stream",
     "text": [
      "/home/argykokk/Desktop/TC/genetic_whitewine/sharing.py:167: ConvergenceWarning: Number of distinct clusters (2) found smaller than n_clusters (3). Possibly due to duplicate points in X.\n",
      "  kmeans = KMeans(n_clusters=num_clusters,random_state=0, n_init=10).fit(array.reshape(-1,1))\n",
      "/home/argykokk/Desktop/TC/genetic_whitewine/sharing.py:167: ConvergenceWarning: Number of distinct clusters (1) found smaller than n_clusters (2). Possibly due to duplicate points in X.\n",
      "  kmeans = KMeans(n_clusters=num_clusters,random_state=0, n_init=10).fit(array.reshape(-1,1))\n",
      "/home/argykokk/Desktop/TC/genetic_whitewine/sharing.py:167: ConvergenceWarning: Number of distinct clusters (1) found smaller than n_clusters (2). Possibly due to duplicate points in X.\n",
      "  kmeans = KMeans(n_clusters=num_clusters,random_state=0, n_init=10).fit(array.reshape(-1,1))\n",
      "/home/argykokk/miniconda3/envs/hls4ml-tutorial/lib/python3.8/site-packages/keras/optimizers/optimizer_v2/adam.py:114: UserWarning: The `lr` argument is deprecated, use `learning_rate` instead.\n",
      "  super().__init__(name, **kwargs)\n",
      "/home/argykokk/miniconda3/envs/hls4ml-tutorial/lib/python3.8/site-packages/keras/optimizers/optimizer_v2/adam.py:114: UserWarning: The `lr` argument is deprecated, use `learning_rate` instead.\n",
      "  super().__init__(name, **kwargs)\n"
     ]
    },
    {
     "name": "stdout",
     "output_type": "stream",
     "text": [
      "46/46 [==============================] - 0s 1ms/step - loss: 1.3575 - accuracy: 0.4741\n",
      "accuracy = 0.4741496741771698\n",
      "Interpreting Sequential\n",
      "Topology:\n",
      "Layer name: fc1_input, layer type: Input\n",
      "Layer name: fc1, layer type: QDense\n",
      "Layer name: relu1, layer type: QActivation\n",
      "Layer name: output, layer type: QDense\n",
      "Layer name: softmax, layer type: Activation\n",
      "copy top.v, sim.Xtest, and sim.Ytest to the synopsys project \n"
     ]
    },
    {
     "name": "stderr",
     "output_type": "stream",
     "text": [
      "/home/argykokk/Desktop/TC/genetic_whitewine/sharing.py:167: ConvergenceWarning: Number of distinct clusters (2) found smaller than n_clusters (3). Possibly due to duplicate points in X.\n",
      "  kmeans = KMeans(n_clusters=num_clusters,random_state=0, n_init=10).fit(array.reshape(-1,1))\n",
      "/home/argykokk/Desktop/TC/genetic_whitewine/sharing.py:167: ConvergenceWarning: Number of distinct clusters (1) found smaller than n_clusters (2). Possibly due to duplicate points in X.\n",
      "  kmeans = KMeans(n_clusters=num_clusters,random_state=0, n_init=10).fit(array.reshape(-1,1))\n",
      "/home/argykokk/Desktop/TC/genetic_whitewine/sharing.py:167: ConvergenceWarning: Number of distinct clusters (1) found smaller than n_clusters (2). Possibly due to duplicate points in X.\n",
      "  kmeans = KMeans(n_clusters=num_clusters,random_state=0, n_init=10).fit(array.reshape(-1,1))\n",
      "/home/argykokk/miniconda3/envs/hls4ml-tutorial/lib/python3.8/site-packages/keras/optimizers/optimizer_v2/adam.py:114: UserWarning: The `lr` argument is deprecated, use `learning_rate` instead.\n",
      "  super().__init__(name, **kwargs)\n",
      "/home/argykokk/miniconda3/envs/hls4ml-tutorial/lib/python3.8/site-packages/keras/optimizers/optimizer_v2/adam.py:114: UserWarning: The `lr` argument is deprecated, use `learning_rate` instead.\n",
      "  super().__init__(name, **kwargs)\n"
     ]
    },
    {
     "name": "stdout",
     "output_type": "stream",
     "text": [
      "46/46 [==============================] - 0s 966us/step - loss: 1.4318 - accuracy: 0.4347\n",
      "accuracy = 0.4346938729286194\n",
      "Interpreting Sequential\n",
      "Topology:\n",
      "Layer name: fc1_input, layer type: Input\n",
      "Layer name: fc1, layer type: QDense\n",
      "Layer name: relu1, layer type: QActivation\n",
      "Layer name: output, layer type: QDense\n",
      "Layer name: softmax, layer type: Activation\n",
      "copy top.v, sim.Xtest, and sim.Ytest to the synopsys project \n"
     ]
    },
    {
     "name": "stderr",
     "output_type": "stream",
     "text": [
      "/home/argykokk/Desktop/TC/genetic_whitewine/sharing.py:167: ConvergenceWarning: Number of distinct clusters (2) found smaller than n_clusters (3). Possibly due to duplicate points in X.\n",
      "  kmeans = KMeans(n_clusters=num_clusters,random_state=0, n_init=10).fit(array.reshape(-1,1))\n",
      "/home/argykokk/Desktop/TC/genetic_whitewine/sharing.py:167: ConvergenceWarning: Number of distinct clusters (1) found smaller than n_clusters (2). Possibly due to duplicate points in X.\n",
      "  kmeans = KMeans(n_clusters=num_clusters,random_state=0, n_init=10).fit(array.reshape(-1,1))\n",
      "/home/argykokk/Desktop/TC/genetic_whitewine/sharing.py:167: ConvergenceWarning: Number of distinct clusters (1) found smaller than n_clusters (2). Possibly due to duplicate points in X.\n",
      "  kmeans = KMeans(n_clusters=num_clusters,random_state=0, n_init=10).fit(array.reshape(-1,1))\n",
      "/home/argykokk/miniconda3/envs/hls4ml-tutorial/lib/python3.8/site-packages/keras/optimizers/optimizer_v2/adam.py:114: UserWarning: The `lr` argument is deprecated, use `learning_rate` instead.\n",
      "  super().__init__(name, **kwargs)\n",
      "/home/argykokk/miniconda3/envs/hls4ml-tutorial/lib/python3.8/site-packages/keras/optimizers/optimizer_v2/adam.py:114: UserWarning: The `lr` argument is deprecated, use `learning_rate` instead.\n",
      "  super().__init__(name, **kwargs)\n"
     ]
    },
    {
     "name": "stdout",
     "output_type": "stream",
     "text": [
      "46/46 [==============================] - 0s 1ms/step - loss: 1.3585 - accuracy: 0.4741\n",
      "accuracy = 0.4741496741771698\n",
      "Interpreting Sequential\n",
      "Topology:\n",
      "Layer name: fc1_input, layer type: Input\n",
      "Layer name: fc1, layer type: QDense\n",
      "Layer name: relu1, layer type: QActivation\n",
      "Layer name: output, layer type: QDense\n",
      "Layer name: softmax, layer type: Activation\n",
      "copy top.v, sim.Xtest, and sim.Ytest to the synopsys project \n"
     ]
    },
    {
     "name": "stderr",
     "output_type": "stream",
     "text": [
      "/home/argykokk/Desktop/TC/genetic_whitewine/sharing.py:167: ConvergenceWarning: Number of distinct clusters (2) found smaller than n_clusters (3). Possibly due to duplicate points in X.\n",
      "  kmeans = KMeans(n_clusters=num_clusters,random_state=0, n_init=10).fit(array.reshape(-1,1))\n",
      "/home/argykokk/Desktop/TC/genetic_whitewine/sharing.py:167: ConvergenceWarning: Number of distinct clusters (1) found smaller than n_clusters (2). Possibly due to duplicate points in X.\n",
      "  kmeans = KMeans(n_clusters=num_clusters,random_state=0, n_init=10).fit(array.reshape(-1,1))\n",
      "/home/argykokk/Desktop/TC/genetic_whitewine/sharing.py:167: ConvergenceWarning: Number of distinct clusters (1) found smaller than n_clusters (2). Possibly due to duplicate points in X.\n",
      "  kmeans = KMeans(n_clusters=num_clusters,random_state=0, n_init=10).fit(array.reshape(-1,1))\n",
      "/home/argykokk/miniconda3/envs/hls4ml-tutorial/lib/python3.8/site-packages/keras/optimizers/optimizer_v2/adam.py:114: UserWarning: The `lr` argument is deprecated, use `learning_rate` instead.\n",
      "  super().__init__(name, **kwargs)\n",
      "/home/argykokk/miniconda3/envs/hls4ml-tutorial/lib/python3.8/site-packages/keras/optimizers/optimizer_v2/adam.py:114: UserWarning: The `lr` argument is deprecated, use `learning_rate` instead.\n",
      "  super().__init__(name, **kwargs)\n"
     ]
    },
    {
     "name": "stdout",
     "output_type": "stream",
     "text": [
      "46/46 [==============================] - 0s 1ms/step - loss: 1.3575 - accuracy: 0.4741\n",
      "accuracy = 0.4741496741771698\n",
      "Interpreting Sequential\n",
      "Topology:\n",
      "Layer name: fc1_input, layer type: Input\n",
      "Layer name: fc1, layer type: QDense\n",
      "Layer name: relu1, layer type: QActivation\n",
      "Layer name: output, layer type: QDense\n",
      "Layer name: softmax, layer type: Activation\n",
      "copy top.v, sim.Xtest, and sim.Ytest to the synopsys project \n"
     ]
    },
    {
     "name": "stderr",
     "output_type": "stream",
     "text": [
      "/home/argykokk/Desktop/TC/genetic_whitewine/sharing.py:167: ConvergenceWarning: Number of distinct clusters (2) found smaller than n_clusters (3). Possibly due to duplicate points in X.\n",
      "  kmeans = KMeans(n_clusters=num_clusters,random_state=0, n_init=10).fit(array.reshape(-1,1))\n",
      "/home/argykokk/Desktop/TC/genetic_whitewine/sharing.py:167: ConvergenceWarning: Number of distinct clusters (1) found smaller than n_clusters (2). Possibly due to duplicate points in X.\n",
      "  kmeans = KMeans(n_clusters=num_clusters,random_state=0, n_init=10).fit(array.reshape(-1,1))\n",
      "/home/argykokk/Desktop/TC/genetic_whitewine/sharing.py:167: ConvergenceWarning: Number of distinct clusters (1) found smaller than n_clusters (2). Possibly due to duplicate points in X.\n",
      "  kmeans = KMeans(n_clusters=num_clusters,random_state=0, n_init=10).fit(array.reshape(-1,1))\n",
      "/home/argykokk/miniconda3/envs/hls4ml-tutorial/lib/python3.8/site-packages/keras/optimizers/optimizer_v2/adam.py:114: UserWarning: The `lr` argument is deprecated, use `learning_rate` instead.\n",
      "  super().__init__(name, **kwargs)\n",
      "/home/argykokk/miniconda3/envs/hls4ml-tutorial/lib/python3.8/site-packages/keras/optimizers/optimizer_v2/adam.py:114: UserWarning: The `lr` argument is deprecated, use `learning_rate` instead.\n",
      "  super().__init__(name, **kwargs)\n"
     ]
    },
    {
     "name": "stdout",
     "output_type": "stream",
     "text": [
      "46/46 [==============================] - 0s 1ms/step - loss: 1.3575 - accuracy: 0.4741\n",
      "accuracy = 0.4741496741771698\n",
      "Interpreting Sequential\n",
      "Topology:\n",
      "Layer name: fc1_input, layer type: Input\n",
      "Layer name: fc1, layer type: QDense\n",
      "Layer name: relu1, layer type: QActivation\n",
      "Layer name: output, layer type: QDense\n",
      "Layer name: softmax, layer type: Activation\n",
      "copy top.v, sim.Xtest, and sim.Ytest to the synopsys project \n"
     ]
    },
    {
     "name": "stderr",
     "output_type": "stream",
     "text": [
      "/home/argykokk/Desktop/TC/genetic_whitewine/sharing.py:167: ConvergenceWarning: Number of distinct clusters (2) found smaller than n_clusters (3). Possibly due to duplicate points in X.\n",
      "  kmeans = KMeans(n_clusters=num_clusters,random_state=0, n_init=10).fit(array.reshape(-1,1))\n",
      "/home/argykokk/Desktop/TC/genetic_whitewine/sharing.py:167: ConvergenceWarning: Number of distinct clusters (1) found smaller than n_clusters (2). Possibly due to duplicate points in X.\n",
      "  kmeans = KMeans(n_clusters=num_clusters,random_state=0, n_init=10).fit(array.reshape(-1,1))\n",
      "/home/argykokk/Desktop/TC/genetic_whitewine/sharing.py:167: ConvergenceWarning: Number of distinct clusters (1) found smaller than n_clusters (2). Possibly due to duplicate points in X.\n",
      "  kmeans = KMeans(n_clusters=num_clusters,random_state=0, n_init=10).fit(array.reshape(-1,1))\n",
      "/home/argykokk/miniconda3/envs/hls4ml-tutorial/lib/python3.8/site-packages/keras/optimizers/optimizer_v2/adam.py:114: UserWarning: The `lr` argument is deprecated, use `learning_rate` instead.\n",
      "  super().__init__(name, **kwargs)\n",
      "/home/argykokk/miniconda3/envs/hls4ml-tutorial/lib/python3.8/site-packages/keras/optimizers/optimizer_v2/adam.py:114: UserWarning: The `lr` argument is deprecated, use `learning_rate` instead.\n",
      "  super().__init__(name, **kwargs)\n"
     ]
    },
    {
     "name": "stdout",
     "output_type": "stream",
     "text": [
      "46/46 [==============================] - 1s 1ms/step - loss: 1.3575 - accuracy: 0.4741\n",
      "accuracy = 0.4741496741771698\n",
      "Interpreting Sequential\n",
      "Topology:\n",
      "Layer name: fc1_input, layer type: Input\n",
      "Layer name: fc1, layer type: QDense\n",
      "Layer name: relu1, layer type: QActivation\n",
      "Layer name: output, layer type: QDense\n",
      "Layer name: softmax, layer type: Activation\n",
      "copy top.v, sim.Xtest, and sim.Ytest to the synopsys project \n"
     ]
    },
    {
     "name": "stderr",
     "output_type": "stream",
     "text": [
      "/home/argykokk/Desktop/TC/genetic_whitewine/sharing.py:167: ConvergenceWarning: Number of distinct clusters (2) found smaller than n_clusters (3). Possibly due to duplicate points in X.\n",
      "  kmeans = KMeans(n_clusters=num_clusters,random_state=0, n_init=10).fit(array.reshape(-1,1))\n",
      "/home/argykokk/Desktop/TC/genetic_whitewine/sharing.py:167: ConvergenceWarning: Number of distinct clusters (1) found smaller than n_clusters (2). Possibly due to duplicate points in X.\n",
      "  kmeans = KMeans(n_clusters=num_clusters,random_state=0, n_init=10).fit(array.reshape(-1,1))\n",
      "/home/argykokk/Desktop/TC/genetic_whitewine/sharing.py:167: ConvergenceWarning: Number of distinct clusters (1) found smaller than n_clusters (2). Possibly due to duplicate points in X.\n",
      "  kmeans = KMeans(n_clusters=num_clusters,random_state=0, n_init=10).fit(array.reshape(-1,1))\n",
      "/home/argykokk/miniconda3/envs/hls4ml-tutorial/lib/python3.8/site-packages/keras/optimizers/optimizer_v2/adam.py:114: UserWarning: The `lr` argument is deprecated, use `learning_rate` instead.\n",
      "  super().__init__(name, **kwargs)\n",
      "/home/argykokk/miniconda3/envs/hls4ml-tutorial/lib/python3.8/site-packages/keras/optimizers/optimizer_v2/adam.py:114: UserWarning: The `lr` argument is deprecated, use `learning_rate` instead.\n",
      "  super().__init__(name, **kwargs)\n"
     ]
    },
    {
     "name": "stdout",
     "output_type": "stream",
     "text": [
      "46/46 [==============================] - 0s 1ms/step - loss: 1.3575 - accuracy: 0.4741\n",
      "accuracy = 0.4741496741771698\n",
      "Interpreting Sequential\n",
      "Topology:\n",
      "Layer name: fc1_input, layer type: Input\n",
      "Layer name: fc1, layer type: QDense\n",
      "Layer name: relu1, layer type: QActivation\n",
      "Layer name: output, layer type: QDense\n",
      "Layer name: softmax, layer type: Activation\n",
      "copy top.v, sim.Xtest, and sim.Ytest to the synopsys project \n"
     ]
    },
    {
     "name": "stderr",
     "output_type": "stream",
     "text": [
      "/home/argykokk/Desktop/TC/genetic_whitewine/sharing.py:167: ConvergenceWarning: Number of distinct clusters (2) found smaller than n_clusters (3). Possibly due to duplicate points in X.\n",
      "  kmeans = KMeans(n_clusters=num_clusters,random_state=0, n_init=10).fit(array.reshape(-1,1))\n",
      "/home/argykokk/Desktop/TC/genetic_whitewine/sharing.py:167: ConvergenceWarning: Number of distinct clusters (1) found smaller than n_clusters (2). Possibly due to duplicate points in X.\n",
      "  kmeans = KMeans(n_clusters=num_clusters,random_state=0, n_init=10).fit(array.reshape(-1,1))\n",
      "/home/argykokk/Desktop/TC/genetic_whitewine/sharing.py:167: ConvergenceWarning: Number of distinct clusters (1) found smaller than n_clusters (2). Possibly due to duplicate points in X.\n",
      "  kmeans = KMeans(n_clusters=num_clusters,random_state=0, n_init=10).fit(array.reshape(-1,1))\n",
      "/home/argykokk/miniconda3/envs/hls4ml-tutorial/lib/python3.8/site-packages/keras/optimizers/optimizer_v2/adam.py:114: UserWarning: The `lr` argument is deprecated, use `learning_rate` instead.\n",
      "  super().__init__(name, **kwargs)\n",
      "/home/argykokk/miniconda3/envs/hls4ml-tutorial/lib/python3.8/site-packages/keras/optimizers/optimizer_v2/adam.py:114: UserWarning: The `lr` argument is deprecated, use `learning_rate` instead.\n",
      "  super().__init__(name, **kwargs)\n"
     ]
    },
    {
     "name": "stdout",
     "output_type": "stream",
     "text": [
      "46/46 [==============================] - 0s 1ms/step - loss: 1.3575 - accuracy: 0.4741\n",
      "accuracy = 0.4741496741771698\n",
      "Interpreting Sequential\n",
      "Topology:\n",
      "Layer name: fc1_input, layer type: Input\n",
      "Layer name: fc1, layer type: QDense\n",
      "Layer name: relu1, layer type: QActivation\n",
      "Layer name: output, layer type: QDense\n",
      "Layer name: softmax, layer type: Activation\n",
      "copy top.v, sim.Xtest, and sim.Ytest to the synopsys project \n"
     ]
    }
   ],
   "source": [
    "import sharing as sh\n",
    "\n",
    "w=2\n",
    "reload(sh)\n",
    "relu= int(true_paretos[w][0])\n",
    "bits_l1= int(true_paretos[w][1])\n",
    "bias_l1= int(true_paretos[w][2])\n",
    "bits_l2=  int(true_paretos[w][3])\n",
    "bias_l2=  int(true_paretos[w][4])\n",
    "input_s= int(true_paretos[w][6])\n",
    "relu_int = int(true_paretos[w][7]) + 1\n",
    "bits_int_l1=  2\n",
    "bias_int_l1= 1\n",
    "bits_int_l2 = 2\n",
    "bias_int_l2 = 1\n",
    "layer1=11\n",
    "layer2=4\n",
    "layer3=7\n",
    "\n",
    "window=0\n",
    "for i in range(1,layer2+1):\n",
    "    for j in range(1,layer3+1):\n",
    "        c1 = i\n",
    "        c2 = j\n",
    "        sh.top_sharing(true_weights_list[w], bits_l1, bits_int_l1, bits_l2, bits_int_l2, bias_l1, bias_int_l1, bias_l2, bias_int_l2, input_s, relu, relu_int, X_test, Y_test, layer1, layer2, layer3, c1, c2, window)\n"
   ]
  },
  {
   "cell_type": "code",
   "execution_count": 95,
   "metadata": {},
   "outputs": [
    {
     "name": "stderr",
     "output_type": "stream",
     "text": [
      "/home/argykokk/miniconda3/envs/hls4ml-tutorial/lib/python3.8/site-packages/keras/optimizers/optimizer_v2/adam.py:114: UserWarning: The `lr` argument is deprecated, use `learning_rate` instead.\n",
      "  super().__init__(name, **kwargs)\n"
     ]
    },
    {
     "name": "stdout",
     "output_type": "stream",
     "text": [
      "46/46 [==============================] - 0s 2ms/step - loss: 1.1369 - accuracy: 0.5497\n",
      "B accuracy = 0.5496598482131958\n",
      "dataset 2 [0.25, 0.25, 0.5, 0.0] is frozen hmm\n",
      "dataset 5 [0.0, 1.0, 0.0, 0.0] is frozen hmm\n",
      "dataset 9 [-0.125, 0.0, 0.0, 0.0] is frozen hmm\n"
     ]
    },
    {
     "name": "stderr",
     "output_type": "stream",
     "text": [
      "/tmp/ipykernel_9611/3610571300.py:141: ConvergenceWarning: Number of distinct clusters (2) found smaller than n_clusters (3). Possibly due to duplicate points in X.\n",
      "  kmeans = KMeans(n_clusters=num_clusters,random_state=0, n_init=10).fit(array.reshape(-1,1))\n",
      "/tmp/ipykernel_9611/3610571300.py:141: ConvergenceWarning: Number of distinct clusters (1) found smaller than n_clusters (2). Possibly due to duplicate points in X.\n",
      "  kmeans = KMeans(n_clusters=num_clusters,random_state=0, n_init=10).fit(array.reshape(-1,1))\n",
      "/tmp/ipykernel_9611/3610571300.py:141: ConvergenceWarning: Number of distinct clusters (1) found smaller than n_clusters (2). Possibly due to duplicate points in X.\n",
      "  kmeans = KMeans(n_clusters=num_clusters,random_state=0, n_init=10).fit(array.reshape(-1,1))\n"
     ]
    },
    {
     "name": "stdout",
     "output_type": "stream",
     "text": [
      "frozen dataset 2\n",
      "frozen dataset 5\n",
      "frozen dataset 9\n"
     ]
    },
    {
     "name": "stderr",
     "output_type": "stream",
     "text": [
      "/home/argykokk/miniconda3/envs/hls4ml-tutorial/lib/python3.8/site-packages/keras/optimizers/optimizer_v2/adam.py:114: UserWarning: The `lr` argument is deprecated, use `learning_rate` instead.\n",
      "  super().__init__(name, **kwargs)\n"
     ]
    },
    {
     "name": "stdout",
     "output_type": "stream",
     "text": [
      "46/46 [==============================] - 0s 1ms/step - loss: 1.1369 - accuracy: 0.5497\n",
      "accuracy = 0.5496598482131958\n"
     ]
    }
   ],
   "source": [
    "w=2\n",
    "import collections\n",
    "from importlib import reload\n",
    "\n",
    "from mult_area import mult_area\n",
    "import write_mlp_mergemult_ps as wv1\n",
    "from sklearn.cluster import KMeans\n",
    "import copy\n",
    "\n",
    "relu= int(true_paretos[w][0])\n",
    "bits_l1= int(true_paretos[w][1])\n",
    "bias_l1= int(true_paretos[w][2])\n",
    "bits_l2=  int(true_paretos[w][3])\n",
    "bias_l2=  int(true_paretos[w][4])\n",
    "input_s= int(true_paretos[w][6])\n",
    "relu_int = int(true_paretos[w][7]) + 1\n",
    "bits_int_l1=  2\n",
    "bias_int_l1= 1\n",
    "bits_int_l2 = 2\n",
    "bias_int_l2 = 1\n",
    "layer1=11\n",
    "layer2=4\n",
    "layer3=7\n",
    "\n",
    "window=0\n",
    "\n",
    "relusize_f= relu\n",
    "weight_size_f1= bits_l1\n",
    "bias_size_f1= bias_l1\n",
    "weight_size_f2= bits_l2\n",
    "bias_size_f2= bias_l2\n",
    "#input_s= inputsize\n",
    "int_relu = relu_int\n",
    "int_w1= bits_int_l1\n",
    "int_b1= bias_int_l1\n",
    "int_w2= bits_int_l2\n",
    "int_b2= bias_int_l2\n",
    "half_window = int(window / 2)\n",
    "\n",
    "\n",
    "# create a model with the selected bitwidths and find the zero cost weights (or the duplicates)\n",
    "model1 = Sequential()\n",
    "model1.add(QDense(layer2, input_shape=(layer1,), name='fc1', kernel_quantizer=quantized_bits(bits_l1,bits_int_l1-1,alpha=1,use_stochastic_rounding=True),bias_quantizer=quantized_bits(bias_l1,bias_int_l1-1,0,alpha=1),kernel_initializer='lecun_uniform', kernel_regularizer=l1(0.0001)   ))\n",
    "model1.add(QActivation(activation=quantized_relu(relu,relu_int-1,use_stochastic_rounding=False), name='relu1'))\n",
    "model1.add(QDense(layer3, name='output',\n",
    "          kernel_quantizer=quantized_bits(bits_l2,bits_int_l2-1,alpha=1,use_stochastic_rounding=True), bias_quantizer=quantized_bits(bias_l2,bias_int_l2-1,alpha=1),\n",
    "          kernel_initializer='lecun_uniform', kernel_regularizer=l1(0.0001)))\n",
    "model1.add(Activation(activation='softmax', name='softmax'))\n",
    "model1.set_weights(true_weights_list[2])\n",
    "\n",
    "adam = Adam(lr=0.00001)\n",
    "            #callbacks= all_callbacks( outputDir = 'callbacks')\n",
    "model1.compile(optimizer=adam, loss=['categorical_crossentropy'], metrics=['accuracy'])\n",
    "new_accuracy=model1.evaluate(X_test,Y_test)\n",
    "print(\"B accuracy = \"+str(new_accuracy[1]))\n",
    "\n",
    "# for the two layers\n",
    "for node in range(0,1):\n",
    "    GoldenList1=[]\n",
    "    GoldenList2=[]\n",
    "    for i in range(0,bits_l1):\n",
    "        GoldenList1.append( 2**i/(2**(bits_l1-bits_int_l1) ))\n",
    "        GoldenList1.append(- 2**i/(2**(bits_l1-bits_int_l1) ))\n",
    "    for i in range(0,bits_l2):\n",
    "        GoldenList2.append(2**i/(2**(bits_l2-bits_int_l2) ))\n",
    "        GoldenList2.append(-2**i/(2**(bits_l2-bits_int_l2) ))\n",
    "    GoldenList1.append(0)\n",
    "    GoldenList2.append(0)\n",
    "\n",
    "\n",
    "    # We will create \"layer1\" datasets for the first set of weights and \"layer2\" datasets for the second set\n",
    "    # Each one of the first set datasets will contain \"layer2\" weights and each one of the second set of datasets will contain \"layer3\" weights\n",
    "    for ii in range(0,1):\n",
    "\n",
    "        target_layer = ii\n",
    "\n",
    "        # make an intialization depending if we aim the first or the second sets\n",
    "        if target_layer==0:\n",
    "            GoldenList=GoldenList1\n",
    "            inputs=layer1\n",
    "            tvars=model1.trainable_variables[0]\n",
    "            bits=bits_l1\n",
    "            bits_int=bits_int_l1\n",
    "            i_bits=input_s\n",
    "            desired_clusters= 4\n",
    "        else:\n",
    "            GoldenList=GoldenList2\n",
    "            inputs=layer2\n",
    "            tvars=model1.trainable_variables[2]\n",
    "            bits=bits_l2\n",
    "            target_layer=2\n",
    "            bits_int=bits_int_l2\n",
    "            i_bits=relu\n",
    "            desired_clusters= 7\n",
    "\n",
    "        # extract the datasets in a list format\n",
    "        l=[]\n",
    "        datasets=[]\n",
    "        for i in range(0,inputs):\n",
    "            l.append(tf.get_static_value(tvars[i]))\n",
    "\n",
    "        for i in range(0,inputs):\n",
    "            ls=[]\n",
    "            for i in l[i]:\n",
    "                ls.append(float(i))\n",
    "            datasets.append(ls)\n",
    "\n",
    "        #create the datasets for the clustering\n",
    "        cluster_datasets=[]\n",
    "        positions=[]\n",
    "        frozen_datasets= [0] * inputs\n",
    "        for i in range(0,inputs):\n",
    "            ls_new=[]\n",
    "            pos=[]\n",
    "            index=0\n",
    "            for j in datasets[i]:\n",
    "                if j not in GoldenList:\n",
    "                    ls_new.append(j)\n",
    "                    pos.append(index)\n",
    "                index = index + 1\n",
    "            if len(ls_new):\n",
    "                cluster_datasets.append(ls_new)\n",
    "                positions.append(pos)\n",
    "            else:\n",
    "                frozen_datasets[i]=1\n",
    "                #place holder\n",
    "                cluster_datasets.append([0])\n",
    "                positions.append([0])\n",
    "\n",
    "\n",
    "        #do clustering\n",
    "        for dataset in cluster_datasets:\n",
    "\n",
    "            #re-define the number of clusters\n",
    "            if desired_clusters > len(dataset):\n",
    "                num_clusters = len(dataset)\n",
    "            else:\n",
    "                num_clusters = desired_clusters\n",
    "            array = np.array(dataset)\n",
    "            kmeans = KMeans(n_clusters=num_clusters,random_state=0, n_init=10).fit(array.reshape(-1,1))\n",
    "            centroids=kmeans.cluster_centers_.reshape(-1).tolist()\n",
    "\n",
    "            # round the centroids up to 6 decimals accuracy\n",
    "            for i in range(0,len(centroids)):\n",
    "                centroids[i]=round(centroids[i],6)\n",
    "                # calculate the estimated area overhead of this centroid\n",
    "                #save the sign\n",
    "                qcentroid = int(centroids[i]*(2 ** (bits-bits_int)))\n",
    "                final_centroid = qcentroid\n",
    "                multarea = mult_area[int(i_bits)][abs(int(qcentroid))]\n",
    "                #print(\"here\")\n",
    "\n",
    "                # now for half window to the right if (< 127) and half window to the left if (> 0 ) evaluate the neighbor points\n",
    "                for w in range(1,half_window+1):\n",
    "                    new_centroid = w + qcentroid\n",
    "                    if new_centroid < 127:\n",
    "                        new_multarea = mult_area[int(i_bits)][abs(int(new_centroid))]\n",
    "                        if new_multarea < multarea:\n",
    "                            multarea = new_multarea\n",
    "                            final_centroid = new_centroid\n",
    "\n",
    "                for w in range(1,half_window+1):\n",
    "                    new_centroid = qcentroid - w\n",
    "                    if new_centroid > 0:\n",
    "                        new_multarea = mult_area[int(i_bits)][abs(int(new_centroid))]\n",
    "                        if new_multarea < multarea:\n",
    "                            multarea = new_multarea\n",
    "                            final_centroid = new_centroid\n",
    "                fixed_point_centroid = final_centroid/(2 ** (bits-bits_int))\n",
    "                #print(\"FOUND ANOTHER CENTROID\"+str(final_centroid)+\" AKA \"+str(fixed_point_centroid)+\" INSTEAD OF \"+str(qcentroid)+\" AKA \"+str(centroids[i]))\n",
    "                centroids[i] = fixed_point_centroid\n",
    "            labels=kmeans.labels_.tolist()\n",
    "            index = 0\n",
    "            for i in range(0,len(dataset)):\n",
    "                dataset[i] = centroids[labels[i]]\n",
    "                dataset[i] = int(dataset[i]*(2 ** (bits-bits_int)))\n",
    "                dataset[i] = dataset[i]/(2 ** (bits-bits_int))\n",
    "\n",
    "\n",
    "        #restore weights\n",
    "        restored_weights= copy.deepcopy(datasets)\n",
    "        for i in range(0,inputs):\n",
    "            if frozen_datasets[i]==1:\n",
    "                print(\"frozen dataset \"+str(i))\n",
    "            else:\n",
    "                index = 0\n",
    "                for j in positions[i]:\n",
    "                    restored_weights[i][j] = cluster_datasets[i][index]\n",
    "                    index = index + 1\n",
    "\n",
    "        model1.trainable_variables[target_layer].assign(restored_weights)\n",
    "        adam = Adam(lr=0.00001)\n",
    "            #callbacks= all_callbacks( outputDir = 'callbacks')\n",
    "model1.compile(optimizer=adam, loss=['categorical_crossentropy'], metrics=['accuracy'])\n",
    "new_accuracy=model1.evaluate(X_test,Y_test)\n",
    "print(\"accuracy = \"+str(new_accuracy[1]))\n"
   ]
  },
  {
   "cell_type": "code",
   "execution_count": 86,
   "metadata": {},
   "outputs": [],
   "source": [
    "fdatasets= [0]*inputs"
   ]
  },
  {
   "cell_type": "code",
   "execution_count": 89,
   "metadata": {},
   "outputs": [
    {
     "data": {
      "text/plain": [
       "[0, 0, 0, 1, 0, 0, 0, 0, 0, 0, 0]"
      ]
     },
     "execution_count": 89,
     "metadata": {},
     "output_type": "execute_result"
    }
   ],
   "source": [
    "fdatasets"
   ]
  },
  {
   "cell_type": "code",
   "execution_count": 76,
   "metadata": {},
   "outputs": [
    {
     "data": {
      "text/plain": [
       "[[-1.5, -1.5, -0.625, 0.0],\n",
       " [1.5, -1.25, -2.0, 0.0],\n",
       " [0.25, 0.25, 0.5, 0.0],\n",
       " [-1.625, 1.875, 0.625, 0.0],\n",
       " [1.125, 0.0, 1.125, 0.0],\n",
       " [0.0, 1.0, 0.0, 0.0],\n",
       " [1.875, 1.875, 0.0, 0.0],\n",
       " [1.875, -1.75, 0.0, 0.0],\n",
       " [-1.125, -0.625, -0.25, 0.0],\n",
       " [-0.125, 0.0, 0.0, 0.0],\n",
       " [-1.625, 0.125, 1.0, 0.0]]"
      ]
     },
     "execution_count": 76,
     "metadata": {},
     "output_type": "execute_result"
    }
   ],
   "source": [
    "datasets"
   ]
  },
  {
   "cell_type": "code",
   "execution_count": 80,
   "metadata": {},
   "outputs": [
    {
     "data": {
      "text/plain": [
       "[[0, 1, 2], [0, 1], [0, 1, 2], [0, 2], [0, 1], [0, 1], [0, 1], [0]]"
      ]
     },
     "execution_count": 80,
     "metadata": {},
     "output_type": "execute_result"
    }
   ],
   "source": [
    "positions"
   ]
  },
  {
   "cell_type": "code",
   "execution_count": 77,
   "metadata": {},
   "outputs": [
    {
     "data": {
      "text/plain": [
       "[[-1.5, -1.5, -0.625],\n",
       " [1.5, -1.25],\n",
       " [-1.625, 1.875, 0.625],\n",
       " [1.125, 1.125],\n",
       " [1.875, 1.875],\n",
       " [1.875, -1.75],\n",
       " [-1.125, -0.625],\n",
       " [-1.625]]"
      ]
     },
     "execution_count": 77,
     "metadata": {},
     "output_type": "execute_result"
    }
   ],
   "source": [
    "cluster_datasets"
   ]
  },
  {
   "cell_type": "code",
   "execution_count": 96,
   "metadata": {},
   "outputs": [
    {
     "data": {
      "text/plain": [
       "[array([[-1.5  , -1.5  , -0.625,  0.   ],\n",
       "        [ 1.5  , -1.25 , -2.   ,  0.   ],\n",
       "        [ 0.25 ,  0.25 ,  0.5  ,  0.   ],\n",
       "        [-1.625,  1.875,  0.625,  0.   ],\n",
       "        [ 1.125,  0.   ,  1.125,  0.   ],\n",
       "        [ 0.   ,  1.   ,  0.   ,  0.   ],\n",
       "        [ 1.875,  1.875,  0.   ,  0.   ],\n",
       "        [ 1.875, -1.75 ,  0.   ,  0.   ],\n",
       "        [-1.125, -0.625, -0.25 ,  0.   ],\n",
       "        [-0.125,  0.   ,  0.   ,  0.   ],\n",
       "        [-1.625,  0.125,  1.   ,  0.   ]], dtype=float32),\n",
       " array([ 0.9375,  0.9375,  0.4375, -0.5   ], dtype=float32),\n",
       " array([[ 0.75 ,  1.625,  1.875,  0.5  , -2.   , -2.   , -2.   ],\n",
       "        [-2.   , -2.   , -0.25 ,  0.5  ,  1.75 ,  1.875,  0.   ],\n",
       "        [-0.875, -0.25 ,  0.   ,  1.875,  0.   , -0.25 ,  0.   ],\n",
       "        [ 0.   ,  0.   ,  0.   ,  0.   ,  0.   ,  0.   ,  0.   ]],\n",
       "       dtype=float32),\n",
       " array([-1.  ,  0.25,  0.75,  0.75,  0.75, -0.75, -1.  ], dtype=float32)]"
      ]
     },
     "execution_count": 96,
     "metadata": {},
     "output_type": "execute_result"
    }
   ],
   "source": [
    "model1.get_weights()"
   ]
  },
  {
   "cell_type": "code",
   "execution_count": 68,
   "metadata": {},
   "outputs": [
    {
     "data": {
      "text/plain": [
       "[<tf.Variable 'fc1/kernel:0' shape=(11, 4) dtype=float32, numpy=\n",
       " array([[-1.5  , -1.5  , -0.625,  0.   ],\n",
       "        [ 1.5  , -1.25 , -2.   ,  0.   ],\n",
       "        [ 0.25 ,  0.25 ,  0.5  ,  0.   ],\n",
       "        [-1.625,  1.875,  0.625,  0.   ],\n",
       "        [ 1.125,  0.   ,  1.125,  0.   ],\n",
       "        [ 0.   ,  1.   ,  0.   ,  0.   ],\n",
       "        [ 1.875,  1.875,  0.   ,  0.   ],\n",
       "        [ 1.875, -1.75 ,  0.   ,  0.   ],\n",
       "        [-1.125, -0.625, -0.25 ,  0.   ],\n",
       "        [-0.125,  0.   ,  0.   ,  0.   ],\n",
       "        [-1.625,  0.125,  1.   ,  0.   ]], dtype=float32)>,\n",
       " <tf.Variable 'fc1/bias:0' shape=(4,) dtype=float32, numpy=array([ 0.9375,  0.9375,  0.4375, -0.5   ], dtype=float32)>,\n",
       " <tf.Variable 'output/kernel:0' shape=(4, 7) dtype=float32, numpy=\n",
       " array([[ 0.75 ,  1.625,  1.875,  0.5  , -2.   , -2.   , -2.   ],\n",
       "        [-2.   , -2.   , -0.25 ,  0.5  ,  1.75 ,  1.875,  0.   ],\n",
       "        [-0.875, -0.25 ,  0.   ,  1.875,  0.   , -0.25 ,  0.   ],\n",
       "        [ 0.   ,  0.   ,  0.   ,  0.   ,  0.   ,  0.   ,  0.   ]],\n",
       "       dtype=float32)>,\n",
       " <tf.Variable 'output/bias:0' shape=(7,) dtype=float32, numpy=array([-1.  ,  0.25,  0.75,  0.75,  0.75, -0.75, -1.  ], dtype=float32)>]"
      ]
     },
     "execution_count": 68,
     "metadata": {},
     "output_type": "execute_result"
    }
   ],
   "source": [
    "true_weights_list[2]"
   ]
  },
  {
   "cell_type": "code",
   "execution_count": 59,
   "metadata": {},
   "outputs": [
    {
     "data": {
      "text/plain": [
       "[array([4, 2, 5, 2, 4, 7, 4, 1]),\n",
       " array([5, 3, 4, 2, 5, 5, 4, 1]),\n",
       " array([4, 5, 5, 5, 3, 4, 4, 1]),\n",
       " array([3, 2, 5, 2, 2, 8, 4, 1]),\n",
       " array([3, 2, 6, 2, 3, 8, 4, 1])]"
      ]
     },
     "execution_count": 59,
     "metadata": {},
     "output_type": "execute_result"
    }
   ],
   "source": [
    "true_paretos"
   ]
  },
  {
   "cell_type": "code",
   "execution_count": 55,
   "metadata": {},
   "outputs": [
    {
     "data": {
      "text/plain": [
       "[0.5190476179122925,\n",
       " 0.5367347002029419,\n",
       " 0.5496598482131958,\n",
       " 0.4714285731315613,\n",
       " 0.5095238089561462]"
      ]
     },
     "execution_count": 55,
     "metadata": {},
     "output_type": "execute_result"
    }
   ],
   "source": [
    "accuracy_list"
   ]
  }
 ],
 "metadata": {
  "kernelspec": {
   "display_name": "Python 3",
   "language": "python",
   "name": "python3"
  },
  "language_info": {
   "codemirror_mode": {
    "name": "ipython",
    "version": 3
   },
   "file_extension": ".py",
   "mimetype": "text/x-python",
   "name": "python",
   "nbconvert_exporter": "python",
   "pygments_lexer": "ipython3",
   "version": "3.8.13"
  }
 },
 "nbformat": 4,
 "nbformat_minor": 4
}
